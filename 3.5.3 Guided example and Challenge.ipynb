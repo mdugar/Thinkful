{
 "cells": [
  {
   "cell_type": "markdown",
   "metadata": {},
   "source": [
    "## 3.5.3 Guided example and Challenge"
   ]
  },
  {
   "cell_type": "code",
   "execution_count": 1,
   "metadata": {
    "run_control": {
     "frozen": false,
     "read_only": false
    }
   },
   "outputs": [],
   "source": [
    "import pandas as pd\n",
    "import numpy as np\n",
    "import scipy\n",
    "import matplotlib.pyplot as plt\n",
    "import seaborn as sns\n",
    "import time\n",
    "%matplotlib inline\n",
    "\n",
    "from sklearn import ensemble\n",
    "from sklearn import datasets\n",
    "from sklearn.utils import shuffle\n",
    "from sklearn.metrics import mean_squared_error\n",
    "from sklearn.decomposition import PCA\n",
    "from sklearn.model_selection import GridSearchCV\n"
   ]
  },
  {
   "cell_type": "markdown",
   "metadata": {},
   "source": [
    "### Gradient boost guided example\n",
    "\n",
    "Having walked through gradient boost by hand, now let's try it with SKlearn.  We'll still use the European Social Survey Data, but now with a categorical outcome: Whether or not someone lives with a partner."
   ]
  },
  {
   "cell_type": "code",
   "execution_count": 2,
   "metadata": {},
   "outputs": [],
   "source": [
    "df = pd.read_csv((\n",
    "    \"https://raw.githubusercontent.com/Thinkful-Ed/data-201-resources/\"\n",
    "    \"master/ESS_practice_data/ESSdata_Thinkful.csv\")).dropna()\n",
    "\n",
    "# Definine outcome and predictors.\n",
    "# Set our outcome to 0 and 1.\n",
    "y = df['partner'] - 1\n",
    "X = df.loc[:, ~df.columns.isin(['partner', 'cntry', 'idno'])]\n",
    "\n",
    "# Make the categorical variable 'country' into dummies.\n",
    "X = pd.concat([X, pd.get_dummies(df['cntry'])], axis=1)\n",
    "\n",
    "# Create training and test sets.\n",
    "offset = int(X.shape[0] * 0.9)\n",
    "\n",
    "# Put 90% of the data in the training set.\n",
    "X_train, y_train = X[:offset], y[:offset]\n",
    "\n",
    "# And put 10% in the test set.\n",
    "X_test, y_test = X[offset:], y[offset:]"
   ]
  },
  {
   "cell_type": "markdown",
   "metadata": {},
   "source": [
    "Since we're now working with a binary outcome, we've switched to a classifier.  Now our loss function can't be the residuals.  Our options are \"deviance\", or \"exponential\".  Deviance is used for logistic regression, and we'll try that here."
   ]
  },
  {
   "cell_type": "code",
   "execution_count": 3,
   "metadata": {},
   "outputs": [
    {
     "name": "stdout",
     "output_type": "stream",
     "text": [
      "Training set accuracy:\n",
      "R-squared Score: 0.7774140752864157\n",
      "Percent Type I errors: 0.04650845608292417\n",
      "Percent Type II errors: 0.17607746863066012\n",
      "\n",
      "Test set accuracy:\n",
      "R-squared Score: 0.7521472392638037\n",
      "Percent Type I errors: 0.06257668711656442\n",
      "Percent Type II errors: 0.18527607361963191\n"
     ]
    }
   ],
   "source": [
    "# We'll make 500 iterations, use 2-deep trees, and set our loss function.\n",
    "params = {'n_estimators': 500,\n",
    "          'max_depth': 2,\n",
    "          'loss': 'deviance'}\n",
    "\n",
    "# Initialize and fit the model.\n",
    "clf = ensemble.GradientBoostingClassifier(**params)\n",
    "clf.fit(X_train, y_train)\n",
    "\n",
    "predict_train = clf.predict(X_train)\n",
    "predict_test = clf.predict(X_test)\n",
    "\n",
    "score_train = clf.score(X_train, y_train)\n",
    "score_test = clf.score(X_test, y_test)\n",
    "\n",
    "A = clf.score(X_test, y_test)\n",
    "\n",
    "def accuracy_table(y_train, predict_train, y_test, predict_test):\n",
    "    # Accuracy tables.\n",
    "    table_train = pd.crosstab(y_train, predict_train, margins=True)\n",
    "    table_test = pd.crosstab(y_test, predict_test, margins=True)\n",
    "\n",
    "    train_tI_errors = table_train.loc[0.0,1.0] / table_train.loc['All','All']\n",
    "    train_tII_errors = table_train.loc[1.0,0.0] / table_train.loc['All','All']\n",
    "\n",
    "    test_tI_errors = table_test.loc[0.0,1.0]/table_test.loc['All','All']\n",
    "    test_tII_errors = table_test.loc[1.0,0.0]/table_test.loc['All','All']\n",
    "\n",
    "    print((\n",
    "        'Training set accuracy:\\n'\n",
    "        'R-squared Score: {}\\n'\n",
    "        'Percent Type I errors: {}\\n'\n",
    "        'Percent Type II errors: {}\\n\\n'\n",
    "        'Test set accuracy:\\n'\n",
    "        'R-squared Score: {}\\n'\n",
    "        'Percent Type I errors: {}\\n'\n",
    "        'Percent Type II errors: {}'\n",
    "    ).format(score_train, train_tI_errors, train_tII_errors, score_test, test_tI_errors, test_tII_errors))\n",
    "accuracy_table(y_train, predict_train, y_test, predict_test)"
   ]
  },
  {
   "cell_type": "markdown",
   "metadata": {},
   "source": [
    "Unlike decision trees, gradient boost solutions are not terribly easy to interpret on the surface.  But they aren't quite a black box.  We can get a measure of how important various features are by counting how many times a feature is used over the course of many decision trees."
   ]
  },
  {
   "cell_type": "code",
   "execution_count": 4,
   "metadata": {},
   "outputs": [
    {
     "data": {
      "image/png": "[encoded data removed]",
      "text/plain": [
       "<matplotlib.figure.Figure at 0x7ff2b85c70b8>"
      ]
     },
     "metadata": {},
     "output_type": "display_data"
    }
   ],
   "source": [
    "feature_importance = clf.feature_importances_\n",
    "\n",
    "# Make importances relative to max importance.\n",
    "feature_importance = 100.0 * (feature_importance / feature_importance.max())\n",
    "sorted_idx = np.argsort(feature_importance)\n",
    "pos = np.arange(sorted_idx.shape[0]) + .5\n",
    "plt.subplot(1, 2, 2)\n",
    "plt.barh(pos, feature_importance[sorted_idx], align='center')\n",
    "plt.yticks(pos, X.columns[sorted_idx])\n",
    "plt.xlabel('Relative Importance')\n",
    "plt.title('Variable Importance')\n",
    "plt.show()"
   ]
  },
  {
   "cell_type": "markdown",
   "metadata": {},
   "source": [
    "It appears that age and happiness are the most important features in predicting whether or not someone lives with a partner."
   ]
  },
  {
   "cell_type": "markdown",
   "metadata": {
    "collapsed": true
   },
   "source": [
    "### DRILL: Improve this gradient boost model\n",
    "\n",
    "While this model is already doing alright, we've seen from the Type I and Type II error rates that there is definitely room for improvement.  Your task is to see how low you can get the error rates to go in the test set, based on your model in the training set.  Strategies you might use include:\n",
    "\n",
    "* Creating new features\n",
    "* Applying more overfitting-prevention strategies like subsampling\n",
    "* More iterations\n",
    "* Trying a different loss function\n",
    "* Changing the structure of the weak learner: Allowing more leaves in the tree, or other modifications\n",
    "\n",
    "Have fun!"
   ]
  },
  {
   "cell_type": "code",
   "execution_count": 5,
   "metadata": {},
   "outputs": [
    {
     "name": "stdout",
     "output_type": "stream",
     "text": [
      "Runtime: 0.13 seconds\n",
      "Training set accuracy:\n",
      "R-squared Score: 0.7296781232951446\n",
      "Percent Type I errors: 0.04814511729405346\n",
      "Percent Type II errors: 0.22217675941080198\n",
      "\n",
      "Test set accuracy:\n",
      "R-squared Score: 0.7300613496932515\n",
      "Percent Type I errors: 0.06625766871165645\n",
      "Percent Type II errors: 0.20368098159509201\n"
     ]
    }
   ],
   "source": [
    "params = {'n_estimators': 20,\n",
    "          'max_depth': 8,\n",
    "          'subsample': 0.7,\n",
    "          'min_weight_fraction_leaf': 0.2,\n",
    "          'learning_rate': 0.08,\n",
    "          'min_samples_split': 0.1,\n",
    "          'loss': 'deviance'}\n",
    "\n",
    "# Initialize and fit the model.\n",
    "start = time.time()\n",
    "clf_B = ensemble.GradientBoostingClassifier(**params)\n",
    "clf_B.fit(X_train, y_train)\n",
    "print (\"Runtime: %0.2f seconds\" % (time.time() - start))\n",
    "\n",
    "predict_train_B = clf_B.predict(X_train)\n",
    "predict_test_B = clf_B.predict(X_test)\n",
    "\n",
    "score_train = clf_B.score(X_train, y_train)\n",
    "score_test = clf_B.score(X_test, y_test)\n",
    "\n",
    "B = clf_B.score(X_test, y_test)\n",
    "\n",
    "accuracy_table(y_train, predict_train_B, y_test, predict_test_B)"
   ]
  },
  {
   "cell_type": "code",
   "execution_count": 6,
   "metadata": {},
   "outputs": [
    {
     "name": "stdout",
     "output_type": "stream",
     "text": [
      "Runtime: 0.11 seconds\n",
      "Training set accuracy:\n",
      "R-squared Score: 0.7296781232951446\n",
      "Percent Type I errors: 0.04814511729405346\n",
      "Percent Type II errors: 0.22217675941080198\n",
      "\n",
      "Test set accuracy:\n",
      "R-squared Score: 0.7300613496932515\n",
      "Percent Type I errors: 0.06625766871165645\n",
      "Percent Type II errors: 0.20368098159509201\n"
     ]
    }
   ],
   "source": [
    "# feature engineering: top variable importance\n",
    "X_feat = X[['agea', 'happy', 'tvtot', 'ppltrst', 'pplfair', 'gndr', 'pplhlp', 'sclmeet', 'sclact', 'ES']]\n",
    "\n",
    "# Put 90% of the data in the training set.\n",
    "X_feat_train = X_feat[:offset]\n",
    "\n",
    "# And put 10% in the test set.\n",
    "X_feat_test = X_feat[offset:]\n",
    "\n",
    "# Initialize and fit the model.\n",
    "start = time.time()\n",
    "clf_2 = ensemble.GradientBoostingClassifier(**params)\n",
    "clf_2.fit(X_feat_train, y_train)\n",
    "print (\"Runtime: %0.2f seconds\" % (time.time() - start))\n",
    "\n",
    "predict_train_C = clf_2.predict(X_feat_train)\n",
    "predict_test_C = clf_2.predict(X_feat_test)\n",
    "\n",
    "score_train = clf_2.score(X_feat_train, y_train)\n",
    "score_test = clf_2.score(X_feat_test, y_test)\n",
    "\n",
    "C = clf_2.score(X_feat_test, y_test)\n",
    "\n",
    "accuracy_table(y_train, predict_train_C, y_test, predict_test_C)"
   ]
  },
  {
   "cell_type": "code",
   "execution_count": 7,
   "metadata": {},
   "outputs": [
    {
     "data": {
      "image/png": "[encoded data removed]",
      "text/plain": [
       "<matplotlib.figure.Figure at 0x7ff2e84dfb00>"
      ]
     },
     "metadata": {},
     "output_type": "display_data"
    }
   ],
   "source": [
    "# feature engineering: PCA or correlation filtering\n",
    "X_corr = X.corr()\n",
    "sns.heatmap(X_corr);"
   ]
  },
  {
   "cell_type": "code",
   "execution_count": 8,
   "metadata": {},
   "outputs": [
    {
     "name": "stdout",
     "output_type": "stream",
     "text": [
      "Runtime: 0.10 seconds\n",
      "Training set accuracy:\n",
      "R-squared Score: 0.7296781232951446\n",
      "Percent Type I errors: 0.04814511729405346\n",
      "Percent Type II errors: 0.22217675941080198\n",
      "\n",
      "Test set accuracy:\n",
      "R-squared Score: 0.7300613496932515\n",
      "Percent Type I errors: 0.06625766871165645\n",
      "Percent Type II errors: 0.20368098159509201\n"
     ]
    },
    {
     "name": "stderr",
     "output_type": "stream",
     "text": [
      "/home/mache/anaconda3/lib/python3.6/site-packages/ipykernel/__main__.py:2: SettingWithCopyWarning: \n",
      "A value is trying to be set on a copy of a slice from a DataFrame.\n",
      "Try using .loc[row_indexer,col_indexer] = value instead\n",
      "\n",
      "See the caveats in the documentation: http://pandas.pydata.org/pandas-docs/stable/indexing.html#indexing-view-versus-copy\n",
      "  from ipykernel import kernelapp as app\n"
     ]
    }
   ],
   "source": [
    "# Combining ppltrst, ppltfair, pplhlp\n",
    "X_feat['ppl'] = X_feat['ppltrst'] * X_feat['pplfair'] * X_feat['pplhlp']\n",
    "\n",
    "# Put 90% of the data in the training set.\n",
    "X_feat_train = X_feat[:offset]\n",
    "\n",
    "# And put 10% in the test set.\n",
    "X_feat_test = X_feat[offset:]\n",
    "\n",
    "# Initialize and fit the model.\n",
    "start = time.time()\n",
    "clf_3 = ensemble.GradientBoostingClassifier(**params)\n",
    "clf_3.fit(X_feat_train, y_train)\n",
    "print (\"Runtime: %0.2f seconds\" % (time.time() - start))\n",
    "\n",
    "predict_train_D = clf_3.predict(X_feat_train)\n",
    "predict_test_D = clf_3.predict(X_feat_test)\n",
    "\n",
    "score_train = clf_3.score(X_feat_train, y_train)\n",
    "score_test = clf_3.score(X_feat_test, y_test)\n",
    "\n",
    "D = clf_3.score(X_feat_test, y_test)\n",
    "\n",
    "accuracy_table(y_train, predict_train_D, y_test, predict_test_D)"
   ]
  },
  {
   "cell_type": "code",
   "execution_count": 9,
   "metadata": {},
   "outputs": [
    {
     "name": "stdout",
     "output_type": "stream",
     "text": [
      "The percentage of total variance in the dataset explained by each component from Sklearn PCA.\n",
      " [ 0.93099424  0.02800132  0.01024528  0.00765152  0.0074001 ]\n"
     ]
    },
    {
     "data": {
      "text/html": [
       "<div>\n",
       "<style scoped>\n",
       "    .dataframe tbody tr th:only-of-type {\n",
       "        vertical-align: middle;\n",
       "    }\n",
       "\n",
       "    .dataframe tbody tr th {\n",
       "        vertical-align: top;\n",
       "    }\n",
       "\n",
       "    .dataframe thead th {\n",
       "        text-align: right;\n",
       "    }\n",
       "</style>\n",
       "<table border=\"1\" class=\"dataframe\">\n",
       "  <thead>\n",
       "    <tr style=\"text-align: right;\">\n",
       "      <th></th>\n",
       "      <th>year</th>\n",
       "      <th>tvtot</th>\n",
       "      <th>ppltrst</th>\n",
       "      <th>pplfair</th>\n",
       "      <th>pplhlp</th>\n",
       "      <th>happy</th>\n",
       "      <th>sclmeet</th>\n",
       "      <th>sclact</th>\n",
       "      <th>gndr</th>\n",
       "      <th>agea</th>\n",
       "      <th>CH</th>\n",
       "      <th>CZ</th>\n",
       "      <th>DE</th>\n",
       "      <th>ES</th>\n",
       "      <th>NO</th>\n",
       "      <th>SE</th>\n",
       "    </tr>\n",
       "  </thead>\n",
       "  <tbody>\n",
       "    <tr>\n",
       "      <th>0</th>\n",
       "      <td>-0.000098</td>\n",
       "      <td>0.028574</td>\n",
       "      <td>-0.003645</td>\n",
       "      <td>0.001655</td>\n",
       "      <td>0.004770</td>\n",
       "      <td>-0.004118</td>\n",
       "      <td>-0.015370</td>\n",
       "      <td>-0.002961</td>\n",
       "      <td>0.000564</td>\n",
       "      <td>0.999440</td>\n",
       "      <td>-0.000331</td>\n",
       "      <td>-0.000621</td>\n",
       "      <td>0.000096</td>\n",
       "      <td>0.000261</td>\n",
       "      <td>-0.000485</td>\n",
       "      <td>0.001081</td>\n",
       "    </tr>\n",
       "    <tr>\n",
       "      <th>1</th>\n",
       "      <td>0.001650</td>\n",
       "      <td>0.145880</td>\n",
       "      <td>-0.585699</td>\n",
       "      <td>-0.555501</td>\n",
       "      <td>-0.516497</td>\n",
       "      <td>-0.216960</td>\n",
       "      <td>-0.081167</td>\n",
       "      <td>-0.054693</td>\n",
       "      <td>-0.001090</td>\n",
       "      <td>-0.005204</td>\n",
       "      <td>-0.011149</td>\n",
       "      <td>0.032046</td>\n",
       "      <td>0.000019</td>\n",
       "      <td>0.032548</td>\n",
       "      <td>-0.028000</td>\n",
       "      <td>-0.025463</td>\n",
       "    </tr>\n",
       "    <tr>\n",
       "      <th>2</th>\n",
       "      <td>0.010067</td>\n",
       "      <td>-0.957897</td>\n",
       "      <td>-0.045773</td>\n",
       "      <td>-0.071648</td>\n",
       "      <td>-0.216169</td>\n",
       "      <td>0.147868</td>\n",
       "      <td>0.035692</td>\n",
       "      <td>0.041293</td>\n",
       "      <td>-0.007224</td>\n",
       "      <td>0.029634</td>\n",
       "      <td>0.033189</td>\n",
       "      <td>-0.036952</td>\n",
       "      <td>0.000077</td>\n",
       "      <td>0.008141</td>\n",
       "      <td>-0.007566</td>\n",
       "      <td>0.003111</td>\n",
       "    </tr>\n",
       "    <tr>\n",
       "      <th>3</th>\n",
       "      <td>0.008975</td>\n",
       "      <td>-0.175907</td>\n",
       "      <td>0.216343</td>\n",
       "      <td>0.126221</td>\n",
       "      <td>0.007436</td>\n",
       "      <td>-0.863111</td>\n",
       "      <td>-0.375919</td>\n",
       "      <td>-0.138736</td>\n",
       "      <td>0.003328</td>\n",
       "      <td>-0.004161</td>\n",
       "      <td>-0.008454</td>\n",
       "      <td>0.022243</td>\n",
       "      <td>0.000224</td>\n",
       "      <td>-0.004131</td>\n",
       "      <td>-0.004596</td>\n",
       "      <td>-0.005285</td>\n",
       "    </tr>\n",
       "    <tr>\n",
       "      <th>4</th>\n",
       "      <td>-0.009107</td>\n",
       "      <td>-0.158264</td>\n",
       "      <td>-0.459850</td>\n",
       "      <td>-0.275480</td>\n",
       "      <td>0.819426</td>\n",
       "      <td>-0.071276</td>\n",
       "      <td>-0.089108</td>\n",
       "      <td>-0.037838</td>\n",
       "      <td>0.018230</td>\n",
       "      <td>-0.002396</td>\n",
       "      <td>0.018589</td>\n",
       "      <td>0.005911</td>\n",
       "      <td>0.000268</td>\n",
       "      <td>-0.024659</td>\n",
       "      <td>-0.011906</td>\n",
       "      <td>0.011796</td>\n",
       "    </tr>\n",
       "  </tbody>\n",
       "</table>\n",
       "</div>"
      ],
      "text/plain": [
       "       year     tvtot   ppltrst   pplfair    pplhlp     happy   sclmeet  \\\n",
       "0 -0.000098  0.028574 -0.003645  0.001655  0.004770 -0.004118 -0.015370   \n",
       "1  0.001650  0.145880 -0.585699 -0.555501 -0.516497 -0.216960 -0.081167   \n",
       "2  0.010067 -0.957897 -0.045773 -0.071648 -0.216169  0.147868  0.035692   \n",
       "3  0.008975 -0.175907  0.216343  0.126221  0.007436 -0.863111 -0.375919   \n",
       "4 -0.009107 -0.158264 -0.459850 -0.275480  0.819426 -0.071276 -0.089108   \n",
       "\n",
       "     sclact      gndr      agea        CH        CZ        DE        ES  \\\n",
       "0 -0.002961  0.000564  0.999440 -0.000331 -0.000621  0.000096  0.000261   \n",
       "1 -0.054693 -0.001090 -0.005204 -0.011149  0.032046  0.000019  0.032548   \n",
       "2  0.041293 -0.007224  0.029634  0.033189 -0.036952  0.000077  0.008141   \n",
       "3 -0.138736  0.003328 -0.004161 -0.008454  0.022243  0.000224 -0.004131   \n",
       "4 -0.037838  0.018230 -0.002396  0.018589  0.005911  0.000268 -0.024659   \n",
       "\n",
       "         NO        SE  \n",
       "0 -0.000485  0.001081  \n",
       "1 -0.028000 -0.025463  \n",
       "2 -0.007566  0.003111  \n",
       "3 -0.004596 -0.005285  \n",
       "4 -0.011906  0.011796  "
      ]
     },
     "metadata": {},
     "output_type": "display_data"
    }
   ],
   "source": [
    "# PCA\n",
    "pca = PCA(n_components=5)\n",
    "X_pca = pca.fit_transform(X)\n",
    "\n",
    "print(\n",
    "    'The percentage of total variance in the dataset explained by each',\n",
    "    'component from Sklearn PCA.\\n',\n",
    "    pca.explained_variance_ratio_\n",
    ")\n",
    "display(pd.DataFrame(pca.components_,columns=X.columns))"
   ]
  },
  {
   "cell_type": "code",
   "execution_count": 10,
   "metadata": {},
   "outputs": [
    {
     "name": "stdout",
     "output_type": "stream",
     "text": [
      "Runtime: 0.13 seconds\n",
      "Training set accuracy:\n",
      "R-squared Score: 0.7325422804146209\n",
      "Percent Type I errors: 0.042007637752318604\n",
      "Percent Type II errors: 0.22545008183306056\n",
      "\n",
      "Test set accuracy:\n",
      "R-squared Score: 0.7325153374233129\n",
      "Percent Type I errors: 0.06257668711656442\n",
      "Percent Type II errors: 0.2049079754601227\n"
     ]
    }
   ],
   "source": [
    "# Put 90% of the data in the training set.\n",
    "X_pca_train = X_pca[:offset]\n",
    "\n",
    "# And put 10% in the test set.\n",
    "X_pca_test = X_pca[offset:]\n",
    "\n",
    "# Initialize and fit the model.\n",
    "start = time.time()\n",
    "clf_4 = ensemble.GradientBoostingClassifier(**params)\n",
    "clf_4.fit(X_pca_train, y_train)\n",
    "print (\"Runtime: %0.2f seconds\" % (time.time() - start))\n",
    "\n",
    "predict_train_E = clf_4.predict(X_pca_train)\n",
    "predict_test_E = clf_4.predict(X_pca_test)\n",
    "\n",
    "score_train = clf_4.score(X_pca_train, y_train)\n",
    "score_test = clf_4.score(X_pca_test, y_test)\n",
    "\n",
    "E = clf_4.score(X_pca_test, y_test)\n",
    "\n",
    "accuracy_table(y_train, predict_train_E, y_test, predict_test_E)"
   ]
  },
  {
   "cell_type": "markdown",
   "metadata": {},
   "source": [
    "### write-up"
   ]
  },
  {
   "cell_type": "code",
   "execution_count": 11,
   "metadata": {},
   "outputs": [
    {
     "name": "stdout",
     "output_type": "stream",
     "text": [
      "A =  0.752147239264\n",
      "B =  0.730061349693\n",
      "C =  0.730061349693\n",
      "D =  0.730061349693\n",
      "E =  0.732515337423\n"
     ]
    }
   ],
   "source": [
    "print('A = ', A)\n",
    "print('B = ', B)\n",
    "print('C = ', C)\n",
    "print('D = ', D)\n",
    "print('E = ', E)\n"
   ]
  },
  {
   "cell_type": "markdown",
   "metadata": {},
   "source": [
    "After working with different variations, the best result was given with model C, using the top 10 features with variable importance."
   ]
  }
 ],
 "metadata": {
  "hide_input": false,
  "kernelspec": {
   "display_name": "Python [default]",
   "language": "python",
   "name": "python3"
  },
  "language_info": {
   "codemirror_mode": {
    "name": "ipython",
    "version": 3
   },
   "file_extension": ".py",
   "mimetype": "text/x-python",
   "name": "python",
   "nbconvert_exporter": "python",
   "pygments_lexer": "ipython3",
   "version": "3.6.3"
  },
  "toc": {
   "colors": {
    "hover_highlight": "#DAA520",
    "running_highlight": "#FF0000",
    "selected_highlight": "#FFD700"
   },
   "moveMenuLeft": true,
   "nav_menu": {
    "height": "59px",
    "width": "252px"
   },
   "navigate_menu": true,
   "number_sections": true,
   "sideBar": true,
   "threshold": 4,
   "toc_cell": false,
   "toc_section_display": "block",
   "toc_window_display": false
  }
 },
 "nbformat": 4,
 "nbformat_minor": 2
}
