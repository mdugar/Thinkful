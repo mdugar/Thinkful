{
 "cells": [
  {
   "cell_type": "markdown",
   "metadata": {},
   "source": [
    "## 3.1.4 Challenge: Model Comparison"
   ]
  },
  {
   "cell_type": "markdown",
   "metadata": {},
   "source": [
    "You now know two kinds of regression and two kinds of classifier. So let's use that to compare models!\n",
    "\n",
    "Comparing models is something data scientists do all the time. There's very rarely just one model that would be possible to run for a given situation, so learning to choose the best one is very important.\n",
    "\n",
    "Here let's work on regression. Find a data set and build a KNN Regression and an OLS regression. Compare the two. How similar are they? Do they miss in different ways?\n",
    "\n",
    "Create a Jupyter notebook with your models. At the end in a markdown cell write a few paragraphs to describe the models' behaviors and why you favor one model or the other. Try to determine whether there is a situation where you would change your mind, or whether one is unambiguously better than the other. Lastly, try to note what it is about the data that causes the better model to outperform the weaker model. Submit a link to your notebook below."
   ]
  },
  {
   "cell_type": "code",
   "execution_count": 1,
   "metadata": {
    "collapsed": true
   },
   "outputs": [],
   "source": [
    "import pandas as pd\n",
    "import numpy as np\n",
    "import seaborn as sns\n",
    "import matplotlib.pyplot as plt\n",
    "from sklearn.linear_model import LinearRegression\n",
    "from sklearn import neighbors\n",
    "import statsmodels.formula.api as smf\n",
    "from sklearn import linear_model\n",
    "from sklearn.model_selection import cross_val_score\n",
    "from scipy import stats\n",
    "from sklearn.model_selection import train_test_split\n",
    "from sklearn.preprocessing import StandardScaler\n",
    "from sklearn.decomposition import PCA\n",
    "from sklearn import preprocessing\n",
    "from sklearn.feature_selection import SelectKBest\n",
    "from sklearn.neighbors import KNeighborsClassifier\n",
    "from statsmodels.formula.api import ols"
   ]
  },
  {
   "cell_type": "markdown",
   "metadata": {},
   "source": [
    "I'm using a dataset of open, high, low and close bid prices for the FTSE100 market, corresponding to the 15 minute time frame, from October 2017 through April 2018."
   ]
  },
  {
   "cell_type": "code",
   "execution_count": 2,
   "metadata": {},
   "outputs": [
    {
     "data": {
      "text/plain": [
       "(12480, 5)"
      ]
     },
     "metadata": {},
     "output_type": "display_data"
    },
    {
     "data": {
      "text/html": [
       "<div>\n",
       "<style>\n",
       "    .dataframe thead tr:only-child th {\n",
       "        text-align: right;\n",
       "    }\n",
       "\n",
       "    .dataframe thead th {\n",
       "        text-align: left;\n",
       "    }\n",
       "\n",
       "    .dataframe tbody tr th {\n",
       "        vertical-align: top;\n",
       "    }\n",
       "</style>\n",
       "<table border=\"1\" class=\"dataframe\">\n",
       "  <thead>\n",
       "    <tr style=\"text-align: right;\">\n",
       "      <th></th>\n",
       "      <th>Time (ART)</th>\n",
       "      <th>Open</th>\n",
       "      <th>High</th>\n",
       "      <th>Low</th>\n",
       "      <th>Close</th>\n",
       "    </tr>\n",
       "  </thead>\n",
       "  <tbody>\n",
       "    <tr>\n",
       "      <th>0</th>\n",
       "      <td>2017.10.01 18:00:00</td>\n",
       "      <td>7374.969</td>\n",
       "      <td>7374.969</td>\n",
       "      <td>7374.969</td>\n",
       "      <td>7374.969</td>\n",
       "    </tr>\n",
       "    <tr>\n",
       "      <th>1</th>\n",
       "      <td>2017.10.01 18:15:00</td>\n",
       "      <td>7374.969</td>\n",
       "      <td>7374.969</td>\n",
       "      <td>7374.969</td>\n",
       "      <td>7374.969</td>\n",
       "    </tr>\n",
       "    <tr>\n",
       "      <th>2</th>\n",
       "      <td>2017.10.01 18:30:00</td>\n",
       "      <td>7374.969</td>\n",
       "      <td>7374.969</td>\n",
       "      <td>7374.969</td>\n",
       "      <td>7374.969</td>\n",
       "    </tr>\n",
       "  </tbody>\n",
       "</table>\n",
       "</div>"
      ],
      "text/plain": [
       "            Time (ART)      Open      High       Low     Close\n",
       "0  2017.10.01 18:00:00  7374.969  7374.969  7374.969  7374.969\n",
       "1  2017.10.01 18:15:00  7374.969  7374.969  7374.969  7374.969\n",
       "2  2017.10.01 18:30:00  7374.969  7374.969  7374.969  7374.969"
      ]
     },
     "metadata": {},
     "output_type": "display_data"
    }
   ],
   "source": [
    "data_path = '/home/mache/Desktop/Thinkful/Course/Unit 3/GBRIDXGBP_15 Mins_Bid_2017.10.01_2018.04.01.csv'\n",
    "df = pd.read_csv(data_path)[['Time (ART)','Open', 'High', 'Low', 'Close']]\n",
    "display(df.shape)\n",
    "display(df.head(3))"
   ]
  },
  {
   "cell_type": "code",
   "execution_count": 3,
   "metadata": {},
   "outputs": [
    {
     "data": {
      "text/html": [
       "<div>\n",
       "<style>\n",
       "    .dataframe thead tr:only-child th {\n",
       "        text-align: right;\n",
       "    }\n",
       "\n",
       "    .dataframe thead th {\n",
       "        text-align: left;\n",
       "    }\n",
       "\n",
       "    .dataframe tbody tr th {\n",
       "        vertical-align: top;\n",
       "    }\n",
       "</style>\n",
       "<table border=\"1\" class=\"dataframe\">\n",
       "  <thead>\n",
       "    <tr style=\"text-align: right;\">\n",
       "      <th></th>\n",
       "      <th>Open</th>\n",
       "      <th>High</th>\n",
       "      <th>Low</th>\n",
       "      <th>Close</th>\n",
       "    </tr>\n",
       "  </thead>\n",
       "  <tbody>\n",
       "    <tr>\n",
       "      <th>count</th>\n",
       "      <td>12480.000000</td>\n",
       "      <td>12480.000000</td>\n",
       "      <td>12480.000000</td>\n",
       "      <td>12480.000000</td>\n",
       "    </tr>\n",
       "    <tr>\n",
       "      <th>mean</th>\n",
       "      <td>7417.746102</td>\n",
       "      <td>7420.042335</td>\n",
       "      <td>7415.386699</td>\n",
       "      <td>7417.709764</td>\n",
       "    </tr>\n",
       "    <tr>\n",
       "      <th>std</th>\n",
       "      <td>209.611137</td>\n",
       "      <td>208.999603</td>\n",
       "      <td>210.277273</td>\n",
       "      <td>209.629732</td>\n",
       "    </tr>\n",
       "    <tr>\n",
       "      <th>min</th>\n",
       "      <td>6858.100000</td>\n",
       "      <td>6865.600000</td>\n",
       "      <td>6851.609000</td>\n",
       "      <td>6858.349000</td>\n",
       "    </tr>\n",
       "    <tr>\n",
       "      <th>25%</th>\n",
       "      <td>7249.550000</td>\n",
       "      <td>7251.400000</td>\n",
       "      <td>7244.764000</td>\n",
       "      <td>7249.512250</td>\n",
       "    </tr>\n",
       "    <tr>\n",
       "      <th>50%</th>\n",
       "      <td>7458.770000</td>\n",
       "      <td>7459.800000</td>\n",
       "      <td>7456.770000</td>\n",
       "      <td>7458.770000</td>\n",
       "    </tr>\n",
       "    <tr>\n",
       "      <th>75%</th>\n",
       "      <td>7549.269000</td>\n",
       "      <td>7552.270000</td>\n",
       "      <td>7548.269250</td>\n",
       "      <td>7549.269000</td>\n",
       "    </tr>\n",
       "    <tr>\n",
       "      <th>max</th>\n",
       "      <td>7788.969000</td>\n",
       "      <td>7792.770000</td>\n",
       "      <td>7786.269000</td>\n",
       "      <td>7788.770000</td>\n",
       "    </tr>\n",
       "  </tbody>\n",
       "</table>\n",
       "</div>"
      ],
      "text/plain": [
       "               Open          High           Low         Close\n",
       "count  12480.000000  12480.000000  12480.000000  12480.000000\n",
       "mean    7417.746102   7420.042335   7415.386699   7417.709764\n",
       "std      209.611137    208.999603    210.277273    209.629732\n",
       "min     6858.100000   6865.600000   6851.609000   6858.349000\n",
       "25%     7249.550000   7251.400000   7244.764000   7249.512250\n",
       "50%     7458.770000   7459.800000   7456.770000   7458.770000\n",
       "75%     7549.269000   7552.270000   7548.269250   7549.269000\n",
       "max     7788.969000   7792.770000   7786.269000   7788.770000"
      ]
     },
     "execution_count": 3,
     "metadata": {},
     "output_type": "execute_result"
    }
   ],
   "source": [
    "df.describe()"
   ]
  },
  {
   "cell_type": "markdown",
   "metadata": {},
   "source": [
    "### Adding the Commodity Channel Index (CCI) to our dataset"
   ]
  },
  {
   "cell_type": "markdown",
   "metadata": {},
   "source": [
    "CCI is a versatile momentum oscillator that can be used to identify overbought/oversold levels or trend reversals. The indicator becomes overbought or oversold when it reaches a relative extreme."
   ]
  },
  {
   "cell_type": "code",
   "execution_count": 4,
   "metadata": {
    "collapsed": true
   },
   "outputs": [],
   "source": [
    "# Commodity Channel Index \n",
    "def CCI(df, ndays): \n",
    " TP = (df['High'] + df['Low'] + df['Close']) / 3 \n",
    " CCI = pd.Series((TP - pd.rolling_mean(TP, ndays)) / (0.015 * pd.rolling_std(TP, ndays)),\n",
    " name = 'CCI') \n",
    " df = df.join(CCI) \n",
    " return df"
   ]
  },
  {
   "cell_type": "code",
   "execution_count": 5,
   "metadata": {},
   "outputs": [
    {
     "name": "stderr",
     "output_type": "stream",
     "text": [
      "/home/mache/anaconda3/lib/python3.6/site-packages/ipykernel_launcher.py:4: FutureWarning: pd.rolling_mean is deprecated for Series and will be removed in a future version, replace with \n",
      "\tSeries.rolling(window=20,center=False).mean()\n",
      "  after removing the cwd from sys.path.\n",
      "/home/mache/anaconda3/lib/python3.6/site-packages/ipykernel_launcher.py:4: FutureWarning: pd.rolling_std is deprecated for Series and will be removed in a future version, replace with \n",
      "\tSeries.rolling(window=20,center=False).std()\n",
      "  after removing the cwd from sys.path.\n"
     ]
    }
   ],
   "source": [
    "# Compute the Commodity Channel Index(CCI) for FTSE100 based on the 20-day Moving average\n",
    "n = 20\n",
    "FTSE_CCI = CCI(df, n)\n",
    "CCI = FTSE_CCI['CCI']"
   ]
  },
  {
   "cell_type": "code",
   "execution_count": 6,
   "metadata": {},
   "outputs": [
    {
     "data": {
      "image/png": "[encoded data removed]",
      "text/plain": [
       "<matplotlib.figure.Figure at 0x7fdf4c8622e8>"
      ]
     },
     "metadata": {},
     "output_type": "display_data"
    }
   ],
   "source": [
    "# Plotting the Price Series chart and the Commodity Channel index below\n",
    "fig = plt.figure(figsize=(7,5))\n",
    "ax = fig.add_subplot(2, 1, 1)\n",
    "ax.set_xticklabels([])\n",
    "plt.plot(df['Close'],lw=1)\n",
    "plt.title('FTSE100 Price Chart')\n",
    "plt.ylabel('Close Price')\n",
    "plt.grid(True)\n",
    "bx = fig.add_subplot(2, 1, 2)\n",
    "plt.plot(CCI,'k',lw=0.75,linestyle='-',label='CCI')\n",
    "plt.legend(loc=2,prop={'size':10})\n",
    "plt.ylabel('CCI values')\n",
    "plt.grid(True)\n",
    "plt.setp(plt.gca().get_xticklabels(), rotation=30)\n",
    "plt.show()"
   ]
  },
  {
   "cell_type": "code",
   "execution_count": 7,
   "metadata": {
    "collapsed": true
   },
   "outputs": [],
   "source": [
    "df = pd.concat([df, CCI], axis=1)"
   ]
  },
  {
   "cell_type": "code",
   "execution_count": 8,
   "metadata": {
    "collapsed": true
   },
   "outputs": [],
   "source": [
    "df2 = df.replace([np.inf, -np.inf], np.nan)"
   ]
  },
  {
   "cell_type": "code",
   "execution_count": 9,
   "metadata": {
    "collapsed": true
   },
   "outputs": [],
   "source": [
    "df2 = df2.replace([np.inf, -np.inf], np.nan).dropna(subset=[\"CCI\"], how=\"all\")"
   ]
  },
  {
   "cell_type": "code",
   "execution_count": 10,
   "metadata": {},
   "outputs": [
    {
     "data": {
      "text/html": [
       "<div>\n",
       "<style>\n",
       "    .dataframe thead tr:only-child th {\n",
       "        text-align: right;\n",
       "    }\n",
       "\n",
       "    .dataframe thead th {\n",
       "        text-align: left;\n",
       "    }\n",
       "\n",
       "    .dataframe tbody tr th {\n",
       "        vertical-align: top;\n",
       "    }\n",
       "</style>\n",
       "<table border=\"1\" class=\"dataframe\">\n",
       "  <thead>\n",
       "    <tr style=\"text-align: right;\">\n",
       "      <th></th>\n",
       "      <th>Time (ART)</th>\n",
       "      <th>Open</th>\n",
       "      <th>High</th>\n",
       "      <th>Low</th>\n",
       "      <th>Close</th>\n",
       "      <th>CCI</th>\n",
       "    </tr>\n",
       "  </thead>\n",
       "  <tbody>\n",
       "    <tr>\n",
       "      <th>36</th>\n",
       "      <td>2017.10.02 03:00:00</td>\n",
       "      <td>7383.969</td>\n",
       "      <td>7385.47</td>\n",
       "      <td>7380.769</td>\n",
       "      <td>7383.969</td>\n",
       "      <td>283.235277</td>\n",
       "    </tr>\n",
       "    <tr>\n",
       "      <th>37</th>\n",
       "      <td>2017.10.02 03:15:00</td>\n",
       "      <td>7384.269</td>\n",
       "      <td>7386.27</td>\n",
       "      <td>7382.269</td>\n",
       "      <td>7384.469</td>\n",
       "      <td>205.978172</td>\n",
       "    </tr>\n",
       "    <tr>\n",
       "      <th>38</th>\n",
       "      <td>2017.10.02 03:30:00</td>\n",
       "      <td>7384.269</td>\n",
       "      <td>7386.77</td>\n",
       "      <td>7382.770</td>\n",
       "      <td>7382.770</td>\n",
       "      <td>157.661018</td>\n",
       "    </tr>\n",
       "    <tr>\n",
       "      <th>39</th>\n",
       "      <td>2017.10.02 03:45:00</td>\n",
       "      <td>7382.969</td>\n",
       "      <td>7384.47</td>\n",
       "      <td>7379.770</td>\n",
       "      <td>7384.269</td>\n",
       "      <td>114.071201</td>\n",
       "    </tr>\n",
       "    <tr>\n",
       "      <th>40</th>\n",
       "      <td>2017.10.02 04:00:00</td>\n",
       "      <td>7383.970</td>\n",
       "      <td>7391.77</td>\n",
       "      <td>7373.969</td>\n",
       "      <td>7390.969</td>\n",
       "      <td>136.717910</td>\n",
       "    </tr>\n",
       "  </tbody>\n",
       "</table>\n",
       "</div>"
      ],
      "text/plain": [
       "             Time (ART)      Open     High       Low     Close         CCI\n",
       "36  2017.10.02 03:00:00  7383.969  7385.47  7380.769  7383.969  283.235277\n",
       "37  2017.10.02 03:15:00  7384.269  7386.27  7382.269  7384.469  205.978172\n",
       "38  2017.10.02 03:30:00  7384.269  7386.77  7382.770  7382.770  157.661018\n",
       "39  2017.10.02 03:45:00  7382.969  7384.47  7379.770  7384.269  114.071201\n",
       "40  2017.10.02 04:00:00  7383.970  7391.77  7373.969  7390.969  136.717910"
      ]
     },
     "execution_count": 10,
     "metadata": {},
     "output_type": "execute_result"
    }
   ],
   "source": [
    "df2.head(5)"
   ]
  },
  {
   "cell_type": "code",
   "execution_count": 11,
   "metadata": {},
   "outputs": [
    {
     "data": {
      "text/html": [
       "<div>\n",
       "<style>\n",
       "    .dataframe thead tr:only-child th {\n",
       "        text-align: right;\n",
       "    }\n",
       "\n",
       "    .dataframe thead th {\n",
       "        text-align: left;\n",
       "    }\n",
       "\n",
       "    .dataframe tbody tr th {\n",
       "        vertical-align: top;\n",
       "    }\n",
       "</style>\n",
       "<table border=\"1\" class=\"dataframe\">\n",
       "  <thead>\n",
       "    <tr style=\"text-align: right;\">\n",
       "      <th></th>\n",
       "      <th>Open</th>\n",
       "      <th>High</th>\n",
       "      <th>Low</th>\n",
       "      <th>Close</th>\n",
       "      <th>CCI</th>\n",
       "    </tr>\n",
       "  </thead>\n",
       "  <tbody>\n",
       "    <tr>\n",
       "      <th>count</th>\n",
       "      <td>12318.000000</td>\n",
       "      <td>12318.000000</td>\n",
       "      <td>12318.000000</td>\n",
       "      <td>12318.000000</td>\n",
       "      <td>12318.000000</td>\n",
       "    </tr>\n",
       "    <tr>\n",
       "      <th>mean</th>\n",
       "      <td>7417.580891</td>\n",
       "      <td>7419.907322</td>\n",
       "      <td>7415.190458</td>\n",
       "      <td>7417.544075</td>\n",
       "      <td>2.019403</td>\n",
       "    </tr>\n",
       "    <tr>\n",
       "      <th>std</th>\n",
       "      <td>210.942122</td>\n",
       "      <td>210.328114</td>\n",
       "      <td>211.610718</td>\n",
       "      <td>210.960813</td>\n",
       "      <td>81.860573</td>\n",
       "    </tr>\n",
       "    <tr>\n",
       "      <th>min</th>\n",
       "      <td>6858.100000</td>\n",
       "      <td>6865.600000</td>\n",
       "      <td>6851.609000</td>\n",
       "      <td>6858.349000</td>\n",
       "      <td>-283.235277</td>\n",
       "    </tr>\n",
       "    <tr>\n",
       "      <th>25%</th>\n",
       "      <td>7245.276500</td>\n",
       "      <td>7250.704750</td>\n",
       "      <td>7241.040000</td>\n",
       "      <td>7245.021500</td>\n",
       "      <td>-42.918377</td>\n",
       "    </tr>\n",
       "    <tr>\n",
       "      <th>50%</th>\n",
       "      <td>7458.770000</td>\n",
       "      <td>7461.270000</td>\n",
       "      <td>7458.119000</td>\n",
       "      <td>7458.770000</td>\n",
       "      <td>0.000007</td>\n",
       "    </tr>\n",
       "    <tr>\n",
       "      <th>75%</th>\n",
       "      <td>7551.470000</td>\n",
       "      <td>7552.969000</td>\n",
       "      <td>7549.269000</td>\n",
       "      <td>7551.419250</td>\n",
       "      <td>47.231402</td>\n",
       "    </tr>\n",
       "    <tr>\n",
       "      <th>max</th>\n",
       "      <td>7788.969000</td>\n",
       "      <td>7792.770000</td>\n",
       "      <td>7786.269000</td>\n",
       "      <td>7788.770000</td>\n",
       "      <td>283.235280</td>\n",
       "    </tr>\n",
       "  </tbody>\n",
       "</table>\n",
       "</div>"
      ],
      "text/plain": [
       "               Open          High           Low         Close           CCI\n",
       "count  12318.000000  12318.000000  12318.000000  12318.000000  12318.000000\n",
       "mean    7417.580891   7419.907322   7415.190458   7417.544075      2.019403\n",
       "std      210.942122    210.328114    211.610718    210.960813     81.860573\n",
       "min     6858.100000   6865.600000   6851.609000   6858.349000   -283.235277\n",
       "25%     7245.276500   7250.704750   7241.040000   7245.021500    -42.918377\n",
       "50%     7458.770000   7461.270000   7458.119000   7458.770000      0.000007\n",
       "75%     7551.470000   7552.969000   7549.269000   7551.419250     47.231402\n",
       "max     7788.969000   7792.770000   7786.269000   7788.770000    283.235280"
      ]
     },
     "execution_count": 11,
     "metadata": {},
     "output_type": "execute_result"
    }
   ],
   "source": [
    "df2.describe()"
   ]
  },
  {
   "cell_type": "code",
   "execution_count": 12,
   "metadata": {},
   "outputs": [
    {
     "data": {
      "image/png": "[encoded data removed]",
      "text/plain": [
       "<matplotlib.figure.Figure at 0x7fdf4c862048>"
      ]
     },
     "metadata": {},
     "output_type": "display_data"
    }
   ],
   "source": [
    "#Plot outcome variable\n",
    "plt.boxplot(df2['Open'])\n",
    "plt.title(\"Open price Box Plot\")\n",
    "plt.show()"
   ]
  },
  {
   "cell_type": "markdown",
   "metadata": {},
   "source": [
    "## Applying PCA"
   ]
  },
  {
   "cell_type": "code",
   "execution_count": 13,
   "metadata": {
    "collapsed": true
   },
   "outputs": [],
   "source": [
    "#Define X and Y\n",
    "X = df2[['High', 'Low', 'Close','CCI']]\n",
    "Y = df2['Open']"
   ]
  },
  {
   "cell_type": "code",
   "execution_count": 14,
   "metadata": {},
   "outputs": [
    {
     "name": "stdout",
     "output_type": "stream",
     "text": [
      "       High       Low     Close         CCI\n",
      "36  7385.47  7380.769  7383.969  283.235277\n",
      "37  7386.27  7382.269  7384.469  205.978172\n",
      "38  7386.77  7382.770  7382.770  157.661018\n",
      "39  7384.47  7379.770  7384.269  114.071201\n",
      "40  7391.77  7373.969  7390.969  136.717910\n",
      "Shape:  (12318, 4)\n"
     ]
    }
   ],
   "source": [
    "X_data = X\n",
    "print(X_data.head())\n",
    "print('Shape: ', X_data.shape)"
   ]
  },
  {
   "cell_type": "code",
   "execution_count": 15,
   "metadata": {},
   "outputs": [
    {
     "name": "stdout",
     "output_type": "stream",
     "text": [
      "36    7383.969\n",
      "37    7384.269\n",
      "38    7384.269\n",
      "39    7382.969\n",
      "40    7383.970\n",
      "Name: Open, dtype: float64\n",
      "Shape:  (12318,)\n"
     ]
    }
   ],
   "source": [
    "#Target data\n",
    "Y_target = Y\n",
    "print(Y_target.head())\n",
    "print('Shape: ', Y_target.shape)"
   ]
  },
  {
   "cell_type": "code",
   "execution_count": 16,
   "metadata": {
    "collapsed": true
   },
   "outputs": [],
   "source": [
    "#Scaling data\n",
    "X_data = StandardScaler().fit_transform(X_data)"
   ]
  },
  {
   "cell_type": "code",
   "execution_count": 17,
   "metadata": {},
   "outputs": [
    {
     "data": {
      "text/plain": [
       "dtype('float64')"
      ]
     },
     "execution_count": 17,
     "metadata": {},
     "output_type": "execute_result"
    }
   ],
   "source": [
    "X_data.dtype"
   ]
  },
  {
   "cell_type": "code",
   "execution_count": 18,
   "metadata": {
    "collapsed": true
   },
   "outputs": [],
   "source": [
    "#PCA\n",
    "pca = PCA(n_components=2)"
   ]
  },
  {
   "cell_type": "code",
   "execution_count": 19,
   "metadata": {
    "collapsed": true
   },
   "outputs": [],
   "source": [
    "#Fitting PCA to training set only\n",
    "principalComponents = pca.fit(X_data)"
   ]
  },
  {
   "cell_type": "code",
   "execution_count": 20,
   "metadata": {
    "collapsed": true
   },
   "outputs": [],
   "source": [
    "#test_size: what proportion of original data is used for test set (20%)\n",
    "\n",
    "train_data, test_data, train_target, test_target = train_test_split(\n",
    "    X_data, Y_target, test_size=0.20, random_state=0)\n",
    "\n",
    "#Scaling data\n",
    "scaler = StandardScaler()\n",
    "\n",
    "#Fit on training set only\n",
    "scaler.fit(train_data)\n",
    "\n",
    "#Applying transform to both the training and test set\n",
    "train_data = scaler.transform(train_data)\n",
    "test_data = scaler.transform(test_data)"
   ]
  },
  {
   "cell_type": "code",
   "execution_count": 21,
   "metadata": {},
   "outputs": [
    {
     "data": {
      "text/plain": [
       "PCA(copy=True, iterated_power='auto', n_components=2, random_state=None,\n",
       "  svd_solver='auto', tol=0.0, whiten=False)"
      ]
     },
     "execution_count": 21,
     "metadata": {},
     "output_type": "execute_result"
    }
   ],
   "source": [
    "pca.fit(train_data)"
   ]
  },
  {
   "cell_type": "code",
   "execution_count": 22,
   "metadata": {
    "collapsed": true
   },
   "outputs": [],
   "source": [
    "train_data = pca.transform(train_data)\n",
    "test_data = pca.transform(test_data)"
   ]
  },
  {
   "cell_type": "code",
   "execution_count": 23,
   "metadata": {
    "collapsed": true
   },
   "outputs": [],
   "source": [
    "#Fit a model\n",
    "sk_ftse = linear_model.LinearRegression()"
   ]
  },
  {
   "cell_type": "code",
   "execution_count": 24,
   "metadata": {
    "collapsed": true
   },
   "outputs": [],
   "source": [
    "model = sk_ftse.fit(train_data, train_target)\n",
    "predictions = sk_ftse.predict(test_data)"
   ]
  },
  {
   "cell_type": "code",
   "execution_count": 25,
   "metadata": {},
   "outputs": [
    {
     "data": {
      "text/plain": [
       "6460     7649.269\n",
       "5728     7586.869\n",
       "7139     7770.269\n",
       "11876    6940.020\n",
       "4585     7361.270\n",
       "Name: Open, dtype: float64"
      ]
     },
     "execution_count": 25,
     "metadata": {},
     "output_type": "execute_result"
    }
   ],
   "source": [
    "test_target[0:5]"
   ]
  },
  {
   "cell_type": "code",
   "execution_count": 26,
   "metadata": {},
   "outputs": [
    {
     "data": {
      "text/plain": [
       "array([ 7649.34693226,  7589.58402566,  7770.35254594,  6947.45473634,\n",
       "        7352.59476894])"
      ]
     },
     "execution_count": 26,
     "metadata": {},
     "output_type": "execute_result"
    }
   ],
   "source": [
    "predictions[0:5]"
   ]
  },
  {
   "cell_type": "code",
   "execution_count": 27,
   "metadata": {},
   "outputs": [
    {
     "data": {
      "image/png": "[encoded data removed]",
      "text/plain": [
       "<matplotlib.figure.Figure at 0x7fdf445a9e10>"
      ]
     },
     "metadata": {},
     "output_type": "display_data"
    }
   ],
   "source": [
    "fig, ax = plt.subplots()\n",
    "ax.plot(test_target, '.', label=\"Data\")\n",
    "ax.plot(predictions, '-', label=\"prediction\")\n",
    "ax.legend(loc=\"best\");\n",
    "plt.show()"
   ]
  },
  {
   "cell_type": "code",
   "execution_count": 28,
   "metadata": {},
   "outputs": [
    {
     "name": "stdout",
     "output_type": "stream",
     "text": [
      "(2464,)\n",
      "(2464,)\n"
     ]
    }
   ],
   "source": [
    "print(test_target.shape)\n",
    "print(predictions.shape)"
   ]
  },
  {
   "cell_type": "markdown",
   "metadata": {},
   "source": [
    "## OLS Regression¶"
   ]
  },
  {
   "cell_type": "code",
   "execution_count": 29,
   "metadata": {
    "collapsed": true
   },
   "outputs": [],
   "source": [
    "# Write out the model formula.\n",
    "# Your dependent variable on the right, independent variables on the left\n",
    "# Use a ~ to represent an '=' from the functional form\n",
    "\n",
    "linear_formula = \"Open ~ High + Low + Close + CCI\"\n",
    "\n",
    "# Fit the model to our data using the formula.\n",
    "ftse_model = smf.ols(formula=linear_formula, data=df2).fit()"
   ]
  },
  {
   "cell_type": "code",
   "execution_count": 30,
   "metadata": {},
   "outputs": [
    {
     "name": "stdout",
     "output_type": "stream",
     "text": [
      "R-squared Accuracy: 0.9997 (+/- 0.0001)\n"
     ]
    }
   ],
   "source": [
    "#5 fold cross validation for r-squared\n",
    "sk_ftse_model = linear_model.LinearRegression()\n",
    "score = cross_val_score(sk_ftse_model, test_data, test_target, cv=5)\n",
    "print(\"R-squared Accuracy: %0.4f (+/- %0.4f)\" % (score.mean(), score.std() * 2))"
   ]
  },
  {
   "cell_type": "code",
   "execution_count": 31,
   "metadata": {},
   "outputs": [
    {
     "name": "stdout",
     "output_type": "stream",
     "text": [
      "\n",
      "Parameters\n",
      "\n",
      " Intercept   -1.589643\n",
      "High         0.822022\n",
      "Low          0.747771\n",
      "Close       -0.569597\n",
      "CCI         -0.005269\n",
      "dtype: float64\n",
      "\n",
      "P-values\n",
      "\n",
      " Intercept    2.648419e-02\n",
      "High         0.000000e+00\n",
      "Low          0.000000e+00\n",
      "Close        0.000000e+00\n",
      "CCI          1.073122e-99\n",
      "dtype: float64\n",
      "\n",
      "Confidence Intervals\n"
     ]
    },
    {
     "data": {
      "text/html": [
       "<div>\n",
       "<style>\n",
       "    .dataframe thead tr:only-child th {\n",
       "        text-align: right;\n",
       "    }\n",
       "\n",
       "    .dataframe thead th {\n",
       "        text-align: left;\n",
       "    }\n",
       "\n",
       "    .dataframe tbody tr th {\n",
       "        vertical-align: top;\n",
       "    }\n",
       "</style>\n",
       "<table border=\"1\" class=\"dataframe\">\n",
       "  <thead>\n",
       "    <tr style=\"text-align: right;\">\n",
       "      <th></th>\n",
       "      <th>0</th>\n",
       "      <th>1</th>\n",
       "    </tr>\n",
       "  </thead>\n",
       "  <tbody>\n",
       "    <tr>\n",
       "      <th>Intercept</th>\n",
       "      <td>-2.993664</td>\n",
       "      <td>-0.185622</td>\n",
       "    </tr>\n",
       "    <tr>\n",
       "      <th>High</th>\n",
       "      <td>0.811699</td>\n",
       "      <td>0.832345</td>\n",
       "    </tr>\n",
       "    <tr>\n",
       "      <th>Low</th>\n",
       "      <td>0.737775</td>\n",
       "      <td>0.757766</td>\n",
       "    </tr>\n",
       "    <tr>\n",
       "      <th>Close</th>\n",
       "      <td>-0.585133</td>\n",
       "      <td>-0.554061</td>\n",
       "    </tr>\n",
       "    <tr>\n",
       "      <th>CCI</th>\n",
       "      <td>-0.005751</td>\n",
       "      <td>-0.004786</td>\n",
       "    </tr>\n",
       "  </tbody>\n",
       "</table>\n",
       "</div>"
      ],
      "text/plain": [
       "                  0         1\n",
       "Intercept -2.993664 -0.185622\n",
       "High       0.811699  0.832345\n",
       "Low        0.737775  0.757766\n",
       "Close     -0.585133 -0.554061\n",
       "CCI       -0.005751 -0.004786"
      ]
     },
     "metadata": {},
     "output_type": "display_data"
    },
    {
     "data": {
      "image/png": "[encoded data removed]",
      "text/plain": [
       "<matplotlib.figure.Figure at 0x7fdf4413f780>"
      ]
     },
     "metadata": {},
     "output_type": "display_data"
    },
    {
     "data": {
      "image/png": "[encoded data removed]",
      "text/plain": [
       "<matplotlib.figure.Figure at 0x7fdf3cc179b0>"
      ]
     },
     "metadata": {},
     "output_type": "display_data"
    }
   ],
   "source": [
    "#Check parameters\n",
    "print (\"\\nParameters\\n\\n\", ftse_model.params)\n",
    "\n",
    "#Verify low p-values and confidence intervals to keep features\n",
    "print (\"\\nP-values\\n\\n\", ftse_model.pvalues)\n",
    "print (\"\\nConfidence Intervals\")\n",
    "display(ftse_model.conf_int())\n",
    "\n",
    "#Residuals\n",
    "ols_ypred = ftse_model.predict()\n",
    "ols_residual = ols_ypred - Y\n",
    "\n",
    "sns.jointplot(ols_ypred, ols_residual, kind = 'kde')\n",
    "plt.show()\n",
    "\n",
    "sns.heatmap(df2.corr())\n",
    "plt.show()"
   ]
  },
  {
   "cell_type": "code",
   "execution_count": 32,
   "metadata": {},
   "outputs": [
    {
     "data": {
      "image/png": "[encoded data removed]",
      "text/plain": [
       "<matplotlib.figure.Figure at 0x7fdf3cb8b860>"
      ]
     },
     "metadata": {},
     "output_type": "display_data"
    }
   ],
   "source": [
    "fig, ax = plt.subplots()\n",
    "ax.plot(Y, '-', label=\"Data\")\n",
    "ax.plot(np.hstack((ols_ypred)), 'r', label=\"OLS prediction\")\n",
    "ax.legend(loc=\"best\");\n",
    "plt.show()"
   ]
  },
  {
   "cell_type": "code",
   "execution_count": 33,
   "metadata": {},
   "outputs": [
    {
     "name": "stdout",
     "output_type": "stream",
     "text": [
      "(12318,)\n",
      "(12318,)\n"
     ]
    }
   ],
   "source": [
    "print(Y.shape)\n",
    "print(ols_ypred.shape)"
   ]
  },
  {
   "cell_type": "markdown",
   "metadata": {},
   "source": [
    "## KNN Regression¶"
   ]
  },
  {
   "cell_type": "code",
   "execution_count": 34,
   "metadata": {},
   "outputs": [
    {
     "name": "stdout",
     "output_type": "stream",
     "text": [
      "Nearest neighbors: 5\n",
      "R-squared Accuracy: 0.9364 (+/- 0.1725)\n",
      "Nearest neighbors: 15\n",
      "R-squared Accuracy: 0.9089 (+/- 0.2595)\n",
      "Nearest neighbors: 25\n",
      "R-squared Accuracy: 0.8960 (+/- 0.2958)\n",
      "Nearest neighbors: 35\n",
      "R-squared Accuracy: 0.8867 (+/- 0.3162)\n",
      "Nearest neighbors: 45\n",
      "R-squared Accuracy: 0.8774 (+/- 0.3345)\n",
      "Nearest neighbors: 55\n",
      "R-squared Accuracy: 0.8677 (+/- 0.3563)\n",
      "Nearest neighbors: 65\n",
      "R-squared Accuracy: 0.8588 (+/- 0.3756)\n"
     ]
    },
    {
     "data": {
      "image/png": "[encoded data removed]",
      "text/plain": [
       "<matplotlib.figure.Figure at 0x7fdf3c8029b0>"
      ]
     },
     "metadata": {},
     "output_type": "display_data"
    }
   ],
   "source": [
    "# Our input data frame will be the z-scores this time instead of raw data.\n",
    "X_norm = X.apply(stats.zscore)\n",
    "for k in range(5,75,10):\n",
    "    knn = neighbors.KNeighborsRegressor(n_neighbors=k, weights='uniform')\n",
    "    knn.fit(X_norm,Y)\n",
    "    knn_ypred = knn.predict(X_norm)\n",
    "    score = cross_val_score(knn, X_norm, Y, cv=5)\n",
    "    print (\"Nearest neighbors: {}\".format(k))\n",
    "    print(\"R-squared Accuracy: %0.4f (+/- %0.4f)\" % (score.mean(), score.std() * 2))\n",
    "knn = neighbors.KNeighborsRegressor(n_neighbors=k, weights='uniform')\n",
    "knn.fit(X_norm,Y)\n",
    "knn_ypred = knn.predict(X_norm)\n",
    "knn_residual = Y - knn_ypred\n",
    "sns.jointplot(knn_ypred, knn_residual, kind = \"kde\")\n",
    "plt.show()"
   ]
  },
  {
   "cell_type": "markdown",
   "metadata": {},
   "source": [
    "### Testing with the splitted dataset"
   ]
  },
  {
   "cell_type": "code",
   "execution_count": 35,
   "metadata": {
    "collapsed": true
   },
   "outputs": [],
   "source": [
    "from sklearn import utils\n",
    "from sklearn.metrics import accuracy_score"
   ]
  },
  {
   "cell_type": "code",
   "execution_count": 36,
   "metadata": {
    "collapsed": true
   },
   "outputs": [],
   "source": [
    "train_data2 = train_data.astype('int')\n",
    "test_data2 = test_data.astype('int')\n",
    "train_target2 = train_target.astype('int')\n",
    "test_target2 = test_target.astype('int')"
   ]
  },
  {
   "cell_type": "code",
   "execution_count": 37,
   "metadata": {},
   "outputs": [
    {
     "name": "stdout",
     "output_type": "stream",
     "text": [
      "(9854, 2)\n",
      "(9854,)\n",
      "(2464, 2)\n",
      "(2464,)\n",
      "(12318,)\n"
     ]
    }
   ],
   "source": [
    "print(train_data2.shape)\n",
    "print(train_target2.shape)\n",
    "print(test_data2.shape)\n",
    "print(test_target2.shape)\n",
    "print(Y.shape)"
   ]
  },
  {
   "cell_type": "code",
   "execution_count": 38,
   "metadata": {},
   "outputs": [
    {
     "name": "stdout",
     "output_type": "stream",
     "text": [
      "R-squared Accuracy: 0.8742 (+/- 0.0885)\n"
     ]
    }
   ],
   "source": [
    "knn = neighbors.KNeighborsRegressor(n_neighbors=1)\n",
    "knn.fit(train_data2, train_target2)\n",
    "y_pred = knn.predict(test_data2)\n",
    "score = cross_val_score(knn, test_data2, test_target2, cv=5)\n",
    "print(\"R-squared Accuracy: %0.4f (+/- %0.4f)\" % (score.mean(), score.std() * 2))"
   ]
  },
  {
   "cell_type": "code",
   "execution_count": 39,
   "metadata": {},
   "outputs": [
    {
     "name": "stdout",
     "output_type": "stream",
     "text": [
      "[ 0.94694522  0.95691187  0.89665587  0.94946132  0.93277493  0.91794647\n",
      "  0.93027382  0.94106015  0.93070429  0.93245858  0.95561336  0.88673317\n",
      "  0.90829998  0.9429108   0.93557491  0.95262461  0.94498688  0.92722073\n",
      "  0.94334894  0.93815891  0.94711448  0.9426775   0.93509376  0.94389657\n",
      "  0.93758979  0.91191677  0.91945194  0.92327274  0.95066659  0.90478202\n",
      "  0.94604764  0.91255442  0.9607126   0.91299331  0.91731946  0.9375779\n",
      "  0.94661697  0.95174712  0.93363342  0.91415689  0.93225638  0.93983873\n",
      "  0.92513118  0.95650444  0.90787092  0.911621    0.92481008  0.9274435\n",
      "  0.92652947  0.92960342]\n"
     ]
    }
   ],
   "source": [
    "# try K=1 through K=25 and record testing accuracy\n",
    "k_range = range(1, 51)\n",
    "\n",
    "# We can create Python dictionary using [] or dict()\n",
    "scores = []\n",
    "\n",
    "# We use a loop through the range 1 to 26\n",
    "# We append the scores in the dictionary\n",
    "for k in k_range:\n",
    "    knn = neighbors.KNeighborsRegressor(n_neighbors=k)\n",
    "    knn.fit(train_data2, train_target2)\n",
    "    y_pred = knn.predict(test_data2)\n",
    "    scores = cross_val_score(knn, test_data2, test_target2, cv=50)\n",
    "print(scores)"
   ]
  },
  {
   "cell_type": "code",
   "execution_count": 40,
   "metadata": {},
   "outputs": [
    {
     "data": {
      "text/plain": [
       "range(1, 51)"
      ]
     },
     "execution_count": 40,
     "metadata": {},
     "output_type": "execute_result"
    }
   ],
   "source": [
    "k_range"
   ]
  },
  {
   "cell_type": "code",
   "execution_count": 41,
   "metadata": {},
   "outputs": [
    {
     "data": {
      "text/plain": [
       "array([ 0.94694522,  0.95691187,  0.89665587,  0.94946132,  0.93277493,\n",
       "        0.91794647,  0.93027382,  0.94106015,  0.93070429,  0.93245858,\n",
       "        0.95561336,  0.88673317,  0.90829998,  0.9429108 ,  0.93557491,\n",
       "        0.95262461,  0.94498688,  0.92722073,  0.94334894,  0.93815891,\n",
       "        0.94711448,  0.9426775 ,  0.93509376,  0.94389657,  0.93758979,\n",
       "        0.91191677,  0.91945194,  0.92327274,  0.95066659,  0.90478202,\n",
       "        0.94604764,  0.91255442,  0.9607126 ,  0.91299331,  0.91731946,\n",
       "        0.9375779 ,  0.94661697,  0.95174712,  0.93363342,  0.91415689,\n",
       "        0.93225638,  0.93983873,  0.92513118,  0.95650444,  0.90787092,\n",
       "        0.911621  ,  0.92481008,  0.9274435 ,  0.92652947,  0.92960342])"
      ]
     },
     "execution_count": 41,
     "metadata": {},
     "output_type": "execute_result"
    }
   ],
   "source": [
    "scores"
   ]
  },
  {
   "cell_type": "code",
   "execution_count": 42,
   "metadata": {},
   "outputs": [
    {
     "data": {
      "image/png": "[encoded data removed]",
      "text/plain": [
       "<matplotlib.figure.Figure at 0x7fdf3cb3a320>"
      ]
     },
     "metadata": {},
     "output_type": "display_data"
    }
   ],
   "source": [
    "# plot the relationship between K and testing accuracy\n",
    "# plt.plot(x_axis, y_axis)\n",
    "plt.plot(k_range, scores)\n",
    "plt.xlabel('Value of K for KNN')\n",
    "plt.ylabel('Testing Accuracy')\n",
    "plt.show()"
   ]
  },
  {
   "cell_type": "code",
   "execution_count": 43,
   "metadata": {},
   "outputs": [],
   "source": [
    "#Approximately best K\n",
    "knn = neighbors.KNeighborsRegressor(n_neighbors=32)\n",
    "knn.fit(train_data2, train_target2)\n",
    "y_pred = knn.predict(test_data2)\n",
    "#score = cross_val_score(knn, test_data2, test_target2, cv=5)\n",
    "#print(\"R-squared Accuracy: %0.4f (+/- %0.4f)\" % (score.mean(), score.std() * 2))"
   ]
  },
  {
   "cell_type": "code",
   "execution_count": 44,
   "metadata": {},
   "outputs": [
    {
     "data": {
      "text/plain": [
       "0.93696133560818817"
      ]
     },
     "execution_count": 44,
     "metadata": {},
     "output_type": "execute_result"
    }
   ],
   "source": [
    "knn.score(test_data2, test_target2)"
   ]
  },
  {
   "cell_type": "code",
   "execution_count": 45,
   "metadata": {},
   "outputs": [
    {
     "data": {
      "text/plain": [
       "0.93696133560818817"
      ]
     },
     "execution_count": 45,
     "metadata": {},
     "output_type": "execute_result"
    }
   ],
   "source": [
    "from sklearn.metrics import r2_score\n",
    "r2_score(test_target2, y_pred)"
   ]
  },
  {
   "cell_type": "code",
   "execution_count": 46,
   "metadata": {},
   "outputs": [
    {
     "name": "stdout",
     "output_type": "stream",
     "text": [
      "(9854, 2)\n",
      "(9854,)\n",
      "(2464, 2)\n",
      "(2464,)\n",
      "(12318,)\n"
     ]
    }
   ],
   "source": [
    "print(train_data2.shape)\n",
    "print(train_target2.shape)\n",
    "print(test_data2.shape)\n",
    "print(test_target2.shape)\n",
    "print(Y.shape)"
   ]
  },
  {
   "cell_type": "code",
   "execution_count": 47,
   "metadata": {},
   "outputs": [
    {
     "name": "stderr",
     "output_type": "stream",
     "text": [
      "/home/mache/anaconda3/lib/python3.6/site-packages/sklearn/cross_validation.py:41: DeprecationWarning: This module was deprecated in version 0.18 in favor of the model_selection module into which all the refactored classes and functions are moved. Also note that the interface of the new CV iterators are different from that of this module. This module will be removed in 0.20.\n",
      "  \"This module will be removed in 0.20.\", DeprecationWarning)\n",
      "/home/mache/anaconda3/lib/python3.6/site-packages/sklearn/grid_search.py:42: DeprecationWarning: This module was deprecated in version 0.18 in favor of the model_selection module into which all the refactored classes and functions are moved. This module will be removed in 0.20.\n",
      "  DeprecationWarning)\n"
     ]
    }
   ],
   "source": [
    "from sklearn.grid_search import GridSearchCV"
   ]
  },
  {
   "cell_type": "code",
   "execution_count": 48,
   "metadata": {},
   "outputs": [
    {
     "name": "stdout",
     "output_type": "stream",
     "text": [
      "0.937094052401281\n",
      "48\n"
     ]
    }
   ],
   "source": [
    "#Best K\n",
    "params = {\"n_neighbors\": np.arange(1,50), \"metric\": [\"euclidean\", \"cityblock\"]}\n",
    "grid = GridSearchCV(estimator=knn,param_grid=params)\n",
    "grid.fit(train_data2, train_target2)\n",
    "print(grid.best_score_)\n",
    "print(grid.best_estimator_.n_neighbors)"
   ]
  },
  {
   "cell_type": "code",
   "execution_count": 49,
   "metadata": {
    "collapsed": true
   },
   "outputs": [],
   "source": [
    "#Approximately best K\n",
    "knn_best = neighbors.KNeighborsRegressor(n_neighbors=48)\n",
    "knn_best.fit(train_data2, train_target2)\n",
    "y_pred_best = knn_best.predict(test_data2)"
   ]
  },
  {
   "cell_type": "code",
   "execution_count": 50,
   "metadata": {},
   "outputs": [
    {
     "data": {
      "image/png": "[encoded data removed]",
      "text/plain": [
       "<matplotlib.figure.Figure at 0x7fdf3c6d2eb8>"
      ]
     },
     "metadata": {},
     "output_type": "display_data"
    }
   ],
   "source": [
    "fig, ax = plt.subplots()\n",
    "ax.plot(test_target2, '.', label=\"Data\")\n",
    "ax.plot(y_pred_best, '.', label=\"Prediction\")\n",
    "ax.legend(loc=\"best\");\n",
    "plt.show()"
   ]
  },
  {
   "cell_type": "code",
   "execution_count": 51,
   "metadata": {},
   "outputs": [
    {
     "name": "stdout",
     "output_type": "stream",
     "text": [
      "(2464,)\n",
      "(2464,)\n"
     ]
    }
   ],
   "source": [
    "print(test_target2.shape)\n",
    "print(y_pred.shape)"
   ]
  },
  {
   "cell_type": "code",
   "execution_count": 52,
   "metadata": {},
   "outputs": [],
   "source": [
    "y_pred_best_list = y_pred_best.tolist()"
   ]
  },
  {
   "cell_type": "code",
   "execution_count": 53,
   "metadata": {
    "collapsed": true
   },
   "outputs": [],
   "source": [
    "y_pred_best_int = y_pred_best.astype('int')"
   ]
  },
  {
   "cell_type": "code",
   "execution_count": 54,
   "metadata": {},
   "outputs": [
    {
     "data": {
      "image/png": "[encoded data removed]",
      "text/plain": [
       "<matplotlib.figure.Figure at 0x7fdf3c69ea20>"
      ]
     },
     "metadata": {},
     "output_type": "display_data"
    }
   ],
   "source": [
    "fig, ax = plt.subplots()\n",
    "ax.plot(test_target2, '.', label=\"Data\")\n",
    "ax.plot(y_pred_best_int, '.', label=\"Prediction\")\n",
    "ax.legend(loc=\"best\");\n",
    "plt.show()"
   ]
  },
  {
   "cell_type": "code",
   "execution_count": 55,
   "metadata": {},
   "outputs": [
    {
     "data": {
      "text/plain": [
       "(2464,)"
      ]
     },
     "execution_count": 55,
     "metadata": {},
     "output_type": "execute_result"
    }
   ],
   "source": [
    "y_pred_best_int.shape"
   ]
  },
  {
   "cell_type": "code",
   "execution_count": 56,
   "metadata": {},
   "outputs": [
    {
     "data": {
      "text/plain": [
       "(2464,)"
      ]
     },
     "execution_count": 56,
     "metadata": {},
     "output_type": "execute_result"
    }
   ],
   "source": [
    "test_target2.shape"
   ]
  },
  {
   "cell_type": "code",
   "execution_count": 57,
   "metadata": {
    "collapsed": true
   },
   "outputs": [],
   "source": [
    "y_pred_series = pd.Series(y_pred_best)"
   ]
  },
  {
   "cell_type": "code",
   "execution_count": 58,
   "metadata": {
    "collapsed": true
   },
   "outputs": [],
   "source": [
    "test_target2_series = pd.Series(test_target2)"
   ]
  },
  {
   "cell_type": "code",
   "execution_count": 59,
   "metadata": {},
   "outputs": [],
   "source": [
    "dfknn = pd.concat([test_target2_series,y_pred_series], axis=1)"
   ]
  },
  {
   "cell_type": "code",
   "execution_count": 60,
   "metadata": {},
   "outputs": [
    {
     "name": "stdout",
     "output_type": "stream",
     "text": [
      "0.937094052401281\n",
      "48\n"
     ]
    }
   ],
   "source": [
    "#Best K\n",
    "params = {\"n_neighbors\": np.arange(1,50), \"metric\": [\"euclidean\", \"cityblock\"]}\n",
    "grid = GridSearchCV(estimator=knn,param_grid=params)\n",
    "grid.fit(train_data2, train_target2)\n",
    "print(grid.best_score_)\n",
    "print(grid.best_estimator_.n_neighbors)"
   ]
  },
  {
   "cell_type": "code",
   "execution_count": 61,
   "metadata": {},
   "outputs": [],
   "source": [
    "dfknn2 = dfknn.dropna()"
   ]
  },
  {
   "cell_type": "code",
   "execution_count": 62,
   "metadata": {},
   "outputs": [
    {
     "data": {
      "image/png": "[encoded data removed]",
      "text/plain": [
       "<matplotlib.figure.Figure at 0x7fdf3c8548d0>"
      ]
     },
     "metadata": {},
     "output_type": "display_data"
    }
   ],
   "source": [
    "dfknn2.plot()\n",
    "plt.show()"
   ]
  }
 ],
 "metadata": {
  "kernelspec": {
   "display_name": "Python 3",
   "language": "python",
   "name": "python3"
  },
  "language_info": {
   "codemirror_mode": {
    "name": "ipython",
    "version": 3
   },
   "file_extension": ".py",
   "mimetype": "text/x-python",
   "name": "python",
   "nbconvert_exporter": "python",
   "pygments_lexer": "ipython3",
   "version": "3.6.3"
  }
 },
 "nbformat": 4,
 "nbformat_minor": 2
}
