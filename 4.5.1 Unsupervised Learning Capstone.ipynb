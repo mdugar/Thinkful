{
 "cells": [
  {
   "cell_type": "markdown",
   "metadata": {},
   "source": [
    "# 4.5.1 Unsupervised Learning Capstone\n",
    "For this project you'll dig into a large amount of text and apply most of what you've covered in this unit and in the course so far.\n",
    "\n",
    "First, pick a set of texts. This can be either a series of novels, chapters, or articles. Anything you'd like. It just has to have multiple entries of varying characteristics. At least 100 should be good. There should also be at least 10 different authors, but try to keep the texts related (either all on the same topic of from the same branch of literature - something to make classification a bit more difficult than obviously different subjects).\n",
    "\n",
    "This capstone can be an extension of your NLP challenge if you wish to use the same corpus. If you found problems with that data set that limited your analysis, however, it may be worth using what you learned to choose a new corpus. Reserve 25% of your corpus as a test set.\n",
    "\n",
    "The first technique is to create a series of clusters. Try several techniques and pick the one you think best represents your data. Make sure there is a narrative and reasoning around why you have chosen the given clusters. Are authors consistently grouped into the same cluster?\n",
    "\n",
    "Next, perform some unsupervised feature generation and selection using the techniques covered in this unit and elsewhere in the course. Using those features then build models to attempt to classify your texts by author. Try different permutations of unsupervised and supervised techniques to see which combinations have the best performance.\n",
    "\n",
    "Lastly return to your holdout group. Does your clustering on those members perform as you'd expect? Have your clusters remained stable or changed dramatically? What about your model? Is it's performance consistent?\n",
    "\n",
    "If there is a divergence in the relative stability of your model and your clusters, delve into why.\n",
    "\n",
    "Your end result should be a write up of how clustering and modeling compare for classifying your texts. What are the advantages of each? Why would you want to use one over the other? Approximately 3-5 pages is a good length for your write up, and remember to include visuals to help tell your story!"
   ]
  },
  {
   "cell_type": "code",
   "execution_count": 1,
   "metadata": {
    "collapsed": true
   },
   "outputs": [],
   "source": [
    "# Necessary imports\n",
    "import numpy as np\n",
    "import pandas as pd\n",
    "import matplotlib.pyplot as plt\n",
    "%matplotlib inline\n",
    "import requests\n",
    "import re\n",
    "import spacy\n",
    "from collections import Counter\n",
    "import sklearn\n",
    "from sklearn.model_selection import train_test_split\n",
    "import seaborn as sns\n",
    "import os\n",
    "import warnings\n",
    "warnings.simplefilter(action='ignore', category=FutureWarning)"
   ]
  },
  {
   "cell_type": "markdown",
   "metadata": {},
   "source": [
    "## Objective\n",
    "\n",
    "The goal of this project is to train a model with texts from different authors, and determine the accuracy of the model when predicting from which author a new text belongs. "
   ]
  },
  {
   "cell_type": "markdown",
   "metadata": {},
   "source": [
    "## Text Selection and Cleaning"
   ]
  },
  {
   "cell_type": "markdown",
   "metadata": {},
   "source": [
    "I selected 10 literary works from these 12 different authors:\n",
    "\n",
    "- emerson\n",
    "- shakespeare\n",
    "- hawthorne\n",
    "- kant\n",
    "- poe\n",
    "- burroughs\n",
    "- doyle\n",
    "- plato\n",
    "- dickens\n",
    "- aristotle\n",
    "- jefferson\n",
    "- irving \n",
    "\n",
    "I downloaded the .txt files from:\n",
    "\n",
    "http://www.textfiles.com/etext/AUTHORS/\n",
    "\n",
    "And manually cleaned the metadata from each text. Running the scripts below with their complete work required too much memory that my computer couldn't handle, so I manually cutted off from each file a part of the texts randomnly, and used this to persue my goal."
   ]
  },
  {
   "cell_type": "markdown",
   "metadata": {},
   "source": [
    "## Loading the files"
   ]
  },
  {
   "cell_type": "code",
   "execution_count": 2,
   "metadata": {
    "collapsed": true
   },
   "outputs": [],
   "source": [
    "#Each file is named \"author-work.txt\"\n",
    "\n",
    "filenames = os.listdir('../Unsupervised capstone/books/') \n",
    "authors = list(set([filename.split('-')[0] for filename in filenames]))"
   ]
  },
  {
   "cell_type": "code",
   "execution_count": 3,
   "metadata": {},
   "outputs": [
    {
     "data": {
      "text/plain": [
       "['jefferson',\n",
       " 'plato',\n",
       " 'aristotle',\n",
       " 'poe',\n",
       " 'doyle',\n",
       " 'irving',\n",
       " 'hawthorne',\n",
       " 'kant',\n",
       " 'dickens',\n",
       " 'burroughs',\n",
       " 'shakespeare',\n",
       " 'emerson']"
      ]
     },
     "execution_count": 3,
     "metadata": {},
     "output_type": "execute_result"
    }
   ],
   "source": [
    "authors"
   ]
  },
  {
   "cell_type": "code",
   "execution_count": 4,
   "metadata": {},
   "outputs": [
    {
     "data": {
      "text/html": [
       "<div>\n",
       "<style scoped>\n",
       "    .dataframe tbody tr th:only-of-type {\n",
       "        vertical-align: middle;\n",
       "    }\n",
       "\n",
       "    .dataframe tbody tr th {\n",
       "        vertical-align: top;\n",
       "    }\n",
       "\n",
       "    .dataframe thead th {\n",
       "        text-align: right;\n",
       "    }\n",
       "</style>\n",
       "<table border=\"1\" class=\"dataframe\">\n",
       "  <thead>\n",
       "    <tr style=\"text-align: right;\">\n",
       "      <th></th>\n",
       "      <th>author</th>\n",
       "      <th>title</th>\n",
       "      <th>filename</th>\n",
       "    </tr>\n",
       "  </thead>\n",
       "  <tbody>\n",
       "    <tr>\n",
       "      <th>0</th>\n",
       "      <td>plato</td>\n",
       "      <td>cratylus</td>\n",
       "      <td>plato-cratylus-338.txt</td>\n",
       "    </tr>\n",
       "    <tr>\n",
       "      <th>1</th>\n",
       "      <td>kant</td>\n",
       "      <td>science</td>\n",
       "      <td>kant-science-146.txt</td>\n",
       "    </tr>\n",
       "    <tr>\n",
       "      <th>2</th>\n",
       "      <td>jefferson</td>\n",
       "      <td>public</td>\n",
       "      <td>jefferson-public-259.txt</td>\n",
       "    </tr>\n",
       "    <tr>\n",
       "      <th>3</th>\n",
       "      <td>plato</td>\n",
       "      <td>critias</td>\n",
       "      <td>plato-critias-339.txt</td>\n",
       "    </tr>\n",
       "    <tr>\n",
       "      <th>4</th>\n",
       "      <td>irving</td>\n",
       "      <td>broken</td>\n",
       "      <td>irving-broken-571.txt</td>\n",
       "    </tr>\n",
       "  </tbody>\n",
       "</table>\n",
       "</div>"
      ],
      "text/plain": [
       "      author     title                  filename\n",
       "0      plato  cratylus    plato-cratylus-338.txt\n",
       "1       kant   science      kant-science-146.txt\n",
       "2  jefferson    public  jefferson-public-259.txt\n",
       "3      plato   critias     plato-critias-339.txt\n",
       "4     irving    broken     irving-broken-571.txt"
      ]
     },
     "execution_count": 4,
     "metadata": {},
     "output_type": "execute_result"
    }
   ],
   "source": [
    "df = pd.DataFrame(columns = ['author', 'title', 'filename'])\n",
    "\n",
    "df['filename'] = filenames\n",
    "df['author'] = [file.split('-')[0] for file in df['filename']]\n",
    "df['title'] = [file.split('-')[1].split('.txt')[0] for file in df['filename']]\n",
    "df.head()"
   ]
  },
  {
   "cell_type": "code",
   "execution_count": 5,
   "metadata": {},
   "outputs": [
    {
     "name": "stdout",
     "output_type": "stream",
     "text": [
      "Number of bad files encountered: 0\n"
     ]
    },
    {
     "data": {
      "text/html": [
       "<div>\n",
       "<style scoped>\n",
       "    .dataframe tbody tr th:only-of-type {\n",
       "        vertical-align: middle;\n",
       "    }\n",
       "\n",
       "    .dataframe tbody tr th {\n",
       "        vertical-align: top;\n",
       "    }\n",
       "\n",
       "    .dataframe thead th {\n",
       "        text-align: right;\n",
       "    }\n",
       "</style>\n",
       "<table border=\"1\" class=\"dataframe\">\n",
       "  <thead>\n",
       "    <tr style=\"text-align: right;\">\n",
       "      <th></th>\n",
       "      <th>author</th>\n",
       "      <th>title</th>\n",
       "      <th>filename</th>\n",
       "      <th>full_text</th>\n",
       "    </tr>\n",
       "  </thead>\n",
       "  <tbody>\n",
       "    <tr>\n",
       "      <th>0</th>\n",
       "      <td>plato</td>\n",
       "      <td>cratylus</td>\n",
       "      <td>plato-cratylus-338.txt</td>\n",
       "      <td>Her. I should explain to you, Socrates, that...</td>\n",
       "    </tr>\n",
       "    <tr>\n",
       "      <th>1</th>\n",
       "      <td>kant</td>\n",
       "      <td>science</td>\n",
       "      <td>kant-science-146.txt</td>\n",
       "      <td>\\n  This question may be said to be about as e...</td>\n",
       "    </tr>\n",
       "    <tr>\n",
       "      <th>2</th>\n",
       "      <td>jefferson</td>\n",
       "      <td>public</td>\n",
       "      <td>jefferson-public-259.txt</td>\n",
       "      <td>\\n        THAT _it is the opinion of this Comm...</td>\n",
       "    </tr>\n",
       "    <tr>\n",
       "      <th>3</th>\n",
       "      <td>plato</td>\n",
       "      <td>critias</td>\n",
       "      <td>plato-critias-339.txt</td>\n",
       "      <td>Timaeus. How thankful I am, Socrates, that I h...</td>\n",
       "    </tr>\n",
       "    <tr>\n",
       "      <th>4</th>\n",
       "      <td>irving</td>\n",
       "      <td>broken</td>\n",
       "      <td>irving-broken-571.txt</td>\n",
       "      <td>\\n  IT IS a common practice with those who hav...</td>\n",
       "    </tr>\n",
       "  </tbody>\n",
       "</table>\n",
       "</div>"
      ],
      "text/plain": [
       "      author     title                  filename  \\\n",
       "0      plato  cratylus    plato-cratylus-338.txt   \n",
       "1       kant   science      kant-science-146.txt   \n",
       "2  jefferson    public  jefferson-public-259.txt   \n",
       "3      plato   critias     plato-critias-339.txt   \n",
       "4     irving    broken     irving-broken-571.txt   \n",
       "\n",
       "                                           full_text  \n",
       "0    Her. I should explain to you, Socrates, that...  \n",
       "1  \\n  This question may be said to be about as e...  \n",
       "2  \\n        THAT _it is the opinion of this Comm...  \n",
       "3  Timaeus. How thankful I am, Socrates, that I h...  \n",
       "4  \\n  IT IS a common practice with those who hav...  "
      ]
     },
     "execution_count": 5,
     "metadata": {},
     "output_type": "execute_result"
    }
   ],
   "source": [
    "df['full_text'] = None\n",
    "texts = []\n",
    "bad_file_count = 0\n",
    "for i, filename in enumerate(filenames):\n",
    "    try:\n",
    "        with open(r'../Unsupervised capstone/books/'+filename, encoding='utf-8') as file:\n",
    "            data = file.read()\n",
    "            df.loc[i, 'full_text'] = data\n",
    "            texts.append(data)\n",
    "    except:\n",
    "        bad_file_count += 1\n",
    "\n",
    "df.dropna(inplace=True)\n",
    "df.reset_index(inplace=True, drop=True)\n",
    "print('Number of bad files encountered:', bad_file_count)\n",
    "df.head()"
   ]
  },
  {
   "cell_type": "code",
   "execution_count": 6,
   "metadata": {},
   "outputs": [
    {
     "data": {
      "text/plain": [
       "0        Her. I should explain to you, Socrates, that...\n",
       "1      \\n  This question may be said to be about as e...\n",
       "2      \\n        THAT _it is the opinion of this Comm...\n",
       "3      Timaeus. How thankful I am, Socrates, that I h...\n",
       "4      \\n  IT IS a common practice with those who hav...\n",
       "5                            \\n                      ...\n",
       "6      \\n\\n  Soc. He whom you mean, Crito, is Euthyde...\n",
       "7      \\n  MISERY is manifold. The wretchedness of ea...\n",
       "8      \\n\\n  Soc. I often envy the profession of a rh...\n",
       "9      \\n\"Magnifique!\" ejaculated the Countess de Cou...\n",
       "10     \\n        Resolved, that it be an instruction ...\n",
       "11     \\n  The dinner was served up in the great hall...\n",
       "12                                                   ...\n",
       "13     \\n\\n  Charmides, he replied, is his name; he i...\n",
       "14              \\n                                 1\\...\n",
       "15     \\n        BROTHER JOHN BAPTIST DE COIGNE, -- I...\n",
       "16     \\n  There are not many people -- and as it is ...\n",
       "17     \\n\\n        Limits\\n        Virginia is bounde...\n",
       "18     \\n        It chanced during one winter, a few ...\n",
       "19     \\n\\n        I have been twice in England.  In ...\n",
       "20         \\n\\n  \"Hopkins has called me in seven time...\n",
       "21     \\n   \"O, some drunken man, I suppose,\" answere...\n",
       "22     \\n        There is one mind common to all indi...\n",
       "23     \\n        In this refulgent summer, it has bee...\n",
       "24     \\n                                   1\\n\\n    ...\n",
       "25     \\n\\n  Ath. Yes, and a noble reputation it was,...\n",
       "26     \\n  WE have, in the next place, to treat of Me...\n",
       "27     \\n\\n  FOR the most wild, yet most homely narra...\n",
       "28     \\n  Lys. You have seen the exhibition of the m...\n",
       "29     \\n\\n  His career has been a long one -- though...\n",
       "                             ...                        \n",
       "72     \\n\\n  THERE are few places more favorable to t...\n",
       "73     \\n\\n\\n     Once upon a time -- of all the good...\n",
       "74     \\n  This work is called the Critique of Practi...\n",
       "75     \\n\\nKING HENRY\\tthe Fifth. (KING HENRY V)\\n\\nD...\n",
       "76     \\n        I am an officer lately returned from...\n",
       "77     \\n\\nLieutenant Albert Werper had only the pres...\n",
       "78     \\ncharacters and manners. Even when a mere chi...\n",
       "79     \\n\\n  To Sherlock Holmes she is always the wom...\n",
       "80     \\nThere is a very pleasant and commodious libr...\n",
       "81                                         \\n        ...\n",
       "82     \\n\\n  Cr. And yet other old men find themselve...\n",
       "83     \\n\\tLive register'd upon our brazen tombs\\n\\tA...\n",
       "84     \\n\"The entire affair is shrouded in mystery,\" ...\n",
       "85     \\nNORFOLK\\tI thank your grace,\\n\\tHealthful; a...\n",
       "86     \\n\\nMr. Hungerton, her father, really was the ...\n",
       "87     \\n  Ancient Greek philosophy was divided into ...\n",
       "88     \\n  Sherlock Holmes took his bottle from the c...\n",
       "89     \\t\\nKING JOHN\\tBear mine to him, and so depart...\n",
       "90     \\n   AN ELDERLY MAN, with his pretty daughter ...\n",
       "91     \\nI am a very old man; how old I do not know. ...\n",
       "92     \\n\\nIN THE FIRST PLACE PLEASE BEAR IN MIND THA...\n",
       "93     \\t\\nESCALUS\\tTroth, and your bum is the greate...\n",
       "94     \\n\\n     These Prolegomena are destined for th...\n",
       "95     \\n\\n  NOTHING in England exercises a more deli...\n",
       "96     \\n   NOT A GREAT WHILE AGO, passing through th...\n",
       "97     \\n\\n  IT WAS a brilliant moonlight night, but ...\n",
       "98     \\n\\n        The tradition in my father's famil...\n",
       "99     \\nit comes to pass that so many heads, on whic...\n",
       "100    \\n  IT IS a pious custom, in some Catholic cou...\n",
       "101    \\n\\nThe long boat of the Marjorie W. was float...\n",
       "Name: full_text, Length: 102, dtype: object"
      ]
     },
     "execution_count": 6,
     "metadata": {},
     "output_type": "execute_result"
    }
   ],
   "source": [
    "df['full_text']"
   ]
  },
  {
   "cell_type": "code",
   "execution_count": 7,
   "metadata": {
    "collapsed": true
   },
   "outputs": [],
   "source": [
    "def text_cleaner(text):\n",
    "    text = re.sub(r'--', ' ', text)\n",
    "    text = re.sub(r'\\d', '', text)\n",
    "    #text = re.sub(r'\\.', ' ', text)\n",
    "    text = re.sub(r'\\,', '', text)\n",
    "    text = re.sub(r'\\_', '', text)\n",
    "    text = re.sub(r'\\\"', '', text)\n",
    "    text = re.sub(r'\\!', '', text)\n",
    "    text = re.sub(r'\\?', '', text)\n",
    "    text = text.lower()\n",
    "    text = ' '.join(text.split())\n",
    "    return text"
   ]
  },
  {
   "cell_type": "code",
   "execution_count": 8,
   "metadata": {},
   "outputs": [
    {
     "data": {
      "text/html": [
       "<div>\n",
       "<style scoped>\n",
       "    .dataframe tbody tr th:only-of-type {\n",
       "        vertical-align: middle;\n",
       "    }\n",
       "\n",
       "    .dataframe tbody tr th {\n",
       "        vertical-align: top;\n",
       "    }\n",
       "\n",
       "    .dataframe thead th {\n",
       "        text-align: right;\n",
       "    }\n",
       "</style>\n",
       "<table border=\"1\" class=\"dataframe\">\n",
       "  <thead>\n",
       "    <tr style=\"text-align: right;\">\n",
       "      <th></th>\n",
       "      <th>author</th>\n",
       "      <th>title</th>\n",
       "      <th>filename</th>\n",
       "      <th>full_text</th>\n",
       "    </tr>\n",
       "  </thead>\n",
       "  <tbody>\n",
       "    <tr>\n",
       "      <th>0</th>\n",
       "      <td>plato</td>\n",
       "      <td>cratylus</td>\n",
       "      <td>plato-cratylus-338.txt</td>\n",
       "      <td>her. i should explain to you socrates that our...</td>\n",
       "    </tr>\n",
       "    <tr>\n",
       "      <th>1</th>\n",
       "      <td>kant</td>\n",
       "      <td>science</td>\n",
       "      <td>kant-science-146.txt</td>\n",
       "      <td>this question may be said to be about as embar...</td>\n",
       "    </tr>\n",
       "    <tr>\n",
       "      <th>2</th>\n",
       "      <td>jefferson</td>\n",
       "      <td>public</td>\n",
       "      <td>jefferson-public-259.txt</td>\n",
       "      <td>that it is the opinion of this committee that ...</td>\n",
       "    </tr>\n",
       "    <tr>\n",
       "      <th>3</th>\n",
       "      <td>plato</td>\n",
       "      <td>critias</td>\n",
       "      <td>plato-critias-339.txt</td>\n",
       "      <td>timaeus. how thankful i am socrates that i hav...</td>\n",
       "    </tr>\n",
       "    <tr>\n",
       "      <th>4</th>\n",
       "      <td>irving</td>\n",
       "      <td>broken</td>\n",
       "      <td>irving-broken-571.txt</td>\n",
       "      <td>it is a common practice with those who have ou...</td>\n",
       "    </tr>\n",
       "  </tbody>\n",
       "</table>\n",
       "</div>"
      ],
      "text/plain": [
       "      author     title                  filename  \\\n",
       "0      plato  cratylus    plato-cratylus-338.txt   \n",
       "1       kant   science      kant-science-146.txt   \n",
       "2  jefferson    public  jefferson-public-259.txt   \n",
       "3      plato   critias     plato-critias-339.txt   \n",
       "4     irving    broken     irving-broken-571.txt   \n",
       "\n",
       "                                           full_text  \n",
       "0  her. i should explain to you socrates that our...  \n",
       "1  this question may be said to be about as embar...  \n",
       "2  that it is the opinion of this committee that ...  \n",
       "3  timaeus. how thankful i am socrates that i hav...  \n",
       "4  it is a common practice with those who have ou...  "
      ]
     },
     "metadata": {},
     "output_type": "display_data"
    },
    {
     "name": "stdout",
     "output_type": "stream",
     "text": [
      "Dataframe shape:  (102, 4)\n"
     ]
    }
   ],
   "source": [
    "# Clean all lead paragraphs\n",
    "df['full_text'] = df.full_text.map(lambda x: text_cleaner(str(x)))\n",
    "display(df.head())\n",
    "print('Dataframe shape: ', df.shape)"
   ]
  },
  {
   "cell_type": "code",
   "execution_count": 9,
   "metadata": {},
   "outputs": [
    {
     "data": {
      "text/plain": [
       "0      her. i should explain to you socrates that our...\n",
       "1      this question may be said to be about as embar...\n",
       "2      that it is the opinion of this committee that ...\n",
       "3      timaeus. how thankful i am socrates that i hav...\n",
       "4      it is a common practice with those who have ou...\n",
       "5      every art and every inquiry and similarly ever...\n",
       "6      soc. he whom you mean crito is euthydemus; and...\n",
       "7      misery is manifold. the wretchedness of earth ...\n",
       "8      soc. i often envy the profession of a rhapsode...\n",
       "9      magnifique ejaculated the countess de coude be...\n",
       "10     resolved that it be an instruction to the said...\n",
       "11     the dinner was served up in the great hall whe...\n",
       "12     our next task is to study coming-to-be and pas...\n",
       "13     charmides he replied is his name; he is my cou...\n",
       "14     we must in the next place investigate the subj...\n",
       "15     brother john baptist de coigne i am very much ...\n",
       "16     there are not many people and as it is desirab...\n",
       "17     limits virginia is bounded on the east by the ...\n",
       "18     it chanced during one winter a few years ago t...\n",
       "19     i have been twice in england. in on my return ...\n",
       "20     hopkins has called me in seven times and on ea...\n",
       "21     o some drunken man i suppose answered the lime...\n",
       "22     there is one mind common to all individual men...\n",
       "23     in this refulgent summer it has been a luxury ...\n",
       "24     all men by nature desire to know. an indicatio...\n",
       "25     ath. yes and a noble reputation it was worthy ...\n",
       "26     we have in the next place to treat of memory a...\n",
       "27     for the most wild yet most homely narrative wh...\n",
       "28     lys. you have seen the exhibition of the man f...\n",
       "29     his career has been a long one though it is po...\n",
       "                             ...                        \n",
       "72     there are few places more favorable to the stu...\n",
       "73     once upon a time of all the good days in the y...\n",
       "74     this work is called the critique of practical ...\n",
       "75     king henry the fifth. (king henry v) duke of g...\n",
       "76     i am an officer lately returned from service &...\n",
       "77     lieutenant albert werper had only the prestige...\n",
       "78     characters and manners. even when a mere child...\n",
       "79     to sherlock holmes she is always the woman. i ...\n",
       "80     there is a very pleasant and commodious librar...\n",
       "81     of the parts of animals some are simple: to wi...\n",
       "82     cr. and yet other old men find themselves in s...\n",
       "83     live register'd upon our brazen tombs and then...\n",
       "84     the entire affair is shrouded in mystery said ...\n",
       "85     norfolk i thank your grace healthful; and ever...\n",
       "86     mr. hungerton her father really was the most t...\n",
       "87     ancient greek philosophy was divided into thre...\n",
       "88     sherlock holmes took his bottle from the corne...\n",
       "89     king john bear mine to him and so depart in pe...\n",
       "90     an elderly man with his pretty daughter on his...\n",
       "91     i am a very old man; how old i do not know. po...\n",
       "92     in the first place please bear in mind that i ...\n",
       "93     escalus troth and your bum is the greatest thi...\n",
       "94     these prolegomena are destined for the use not...\n",
       "95     nothing in england exercises a more delightful...\n",
       "96     not a great while ago passing through the gate...\n",
       "97     it was a brilliant moonlight night but extreme...\n",
       "98     the tradition in my father's family was that t...\n",
       "99     it comes to pass that so many heads on which n...\n",
       "100    it is a pious custom in some catholic countrie...\n",
       "101    the long boat of the marjorie w. was floating ...\n",
       "Name: full_text, Length: 102, dtype: object"
      ]
     },
     "execution_count": 9,
     "metadata": {},
     "output_type": "execute_result"
    }
   ],
   "source": [
    "df['full_text']\n"
   ]
  },
  {
   "cell_type": "markdown",
   "metadata": {},
   "source": [
    "## Input, Output & Holdout"
   ]
  },
  {
   "cell_type": "markdown",
   "metadata": {},
   "source": [
    "Splitting into training and testing sets:"
   ]
  },
  {
   "cell_type": "code",
   "execution_count": 10,
   "metadata": {
    "collapsed": true
   },
   "outputs": [],
   "source": [
    "# Identifying variables\n",
    "X = df['full_text']\n",
    "y = df['author']\n",
    "\n",
    "# Splitting into train and test sets\n",
    "X_train, X_test, y_train, y_test = train_test_split(X, y, test_size=0.25, random_state=42)"
   ]
  },
  {
   "cell_type": "markdown",
   "metadata": {},
   "source": [
    "## Feature Generation \n",
    "### Tf-idf Vectorization\n",
    "To obtain better cluster results we will vectorize the words in our texts.  Term Frequency Inverse Document Frequency (Tf-idf) is a numerical statistic that is intended to reflect how important a word is to a document in a collection or corpus.  The tf-idf value increases proportionally to the number of times a word appears in the document and is offset by the frequency of the word in the corpus, which helps to adjust for the fact that some words appear more frequently in general."
   ]
  },
  {
   "cell_type": "code",
   "execution_count": 11,
   "metadata": {},
   "outputs": [
    {
     "name": "stdout",
     "output_type": "stream",
     "text": [
      "Number of features: 882\n",
      "Original sentence: that it is the opinion of this committee that when the general council and assembly or general court of any of his majesty's provinces or colonies in america shall propose to make provision according to the condition circumstance or situation of such province or colony for contributing their proportion to the common defence (such proportion to be raised under the authority of the general court or general assembly of such province or colony and disposable by parliament) and shall engage to make provision also for the support of the civil government and the administration of justice in such province or colony it will be proper if such proposal shall be approved by his majesty and the two houses of parliament; and for so long as such provision shall be made accordingly to forbear in respect of such province or colony to lay any duty tax or assessment or to impose any further duty tax or assessment except only such duties as it may be expedient to continue to levy or impose for the regulation of commerce the net produce of the duties last mentioned to be carried to the account of such province or colony respectively. the congress took the said resolution into consideration and are thereupon of opinion: that the colonies of america are entitled to the sole and exclusive privilege of giving and granting their own money; that this involves a right of deliberating whether they will make any gift for what purposes it shall be made and what shall be it's amount; and that it is a high breach of this privilege for any body of men extraneous to their constitutions to prescribe the purposes for which money shall be levied on them to take to themselves the authority of judging of their conditions circumstances and situations; and of determining the amount of the contribution to be levied.\n",
      "Tf_idf vector: {'quiet': 0.060674195379106864, 'lie': 0.060674195379106864, 'french': 0.055602467188527308, 'assume': 0.060674195379106864, 'ill': 0.055602467188527308, 'dead': 0.051814343438969478, 'help': 0.060674195379106864, 'quarrel': 0.18202258613732059, 'proud': 0.057926018029832056, 'mankind': 0.060674195379106864, 'committed': 0.057926018029832056, 'forever': 0.060674195379106864, 'france': 0.057926018029832056, 'king': 0.053589715898549273, 'father': 0.047478041307686701, 'lost': 0.050226218656961509, 'felt': 0.047478041307686701, 'began': 0.10362868687793896, 'weak': 0.057926018029832056, 'came': 0.079556483869632308, 'smoke': 0.053589715898549273, 'custom': 0.060674195379106864, 'walls': 0.060674195379106864, 'hanging': 0.060674195379106864, 'represented': 0.060674195379106864, 'attended': 0.060674195379106864, 'value': 0.057926018029832056, 'disposition': 0.060674195379106864, 'return': 0.051814343438969478, 'happened': 0.060674195379106864, 'particularly': 0.18202258613732059, 'john': 0.055602467188527308, 'engaged': 0.057926018029832056, 'grown': 0.053589715898549273, 'english': 0.37982433046149361, 'did': 0.03641474469322839, 'determined': 0.046271538028145091, 'strong': 0.13881461408443527, 'held': 0.055602467188527308, 'carry': 0.057926018029832056, 'pleased': 0.057926018029832056, 'blood': 0.051814343438969478, 'inhabitants': 0.057926018029832056, 'assembled': 0.060674195379106864, 'settled': 0.060674195379106864, 'young': 0.039042815875519374, 'hearing': 0.055602467188527308, 'opportunity': 0.057926018029832056, 'unless': 0.051814343438969478, 'exist': 0.057926018029832056, 'land': 0.20725737375587791, 'family': 0.050226218656961509, 'born': 0.050226218656961509, 'stand': 0.053589715898549273, 'fight': 0.057926018029832056, 'brothers': 0.060674195379106864, 'knew': 0.050226218656961509, 'years': 0.037030064585541353, 'wisdom': 0.051814343438969478, 'brother': 0.23170407211932822, 'hand': 0.043141739176403918, 'left': 0.042227929446967682, 'way': 0.037671576046919363, 'health': 0.057926018029832056, 'parts': 0.04411454406609893, 'treat': 0.055602467188527308, 'love': 0.13546347139914586, 'life': 0.032693762454258569, 'hope': 0.090308980932763891, 'little': 0.03177995272482232, 'discourse': 0.060674195379106864, 'knowing': 0.055602467188527308, 'things': 0.039778241934816154, 'consider': 0.047478041307686701, 'assistance': 0.060674195379106864, 'having': 0.047478041307686701, 'speak': 0.048789585041609233, 'set': 0.042227929446967682, 'long': 0.13882605497694636, 'support': 0.060674195379106864, 'respect': 0.051814343438969478, 'nation': 0.18202258613732059, 'war': 0.39031668033287387, 'people': 0.040551398287165967, 'power': 0.041366366716824129, 'nations': 0.11585203605966411, 'peace': 0.048789585041609233, 'act': 0.051814343438969478, 'free': 0.16680740156558191, 'wish': 0.2590717171948474, 'like': 0.082664678259273011, 'reason': 0.03641474469322839, 'general': 0.037030064585541353, 'country': 0.11502482495839163, 'shall': 0.061836779989357549, 'given': 0.088229088132197861, 'old': 0.058660530425341612, 'right': 0.11301472814075808, 'better': 0.082732733433648259, 'say': 0.059423773430274322, 'great': 0.084720474658980138, 'son': 0.050226218656961509, 'good': 0.12041368626008243, 'explanation': 0.055602467188527308, 'true': 0.038341608319463878, 'men': 0.028594839153374019, 'friend': 0.12165419486149789}\n"
     ]
    }
   ],
   "source": [
    "from sklearn.feature_extraction.text import TfidfVectorizer\n",
    "\n",
    "vectorizer = TfidfVectorizer(min_df=4,\n",
    "                            stop_words='english',\n",
    "                            lowercase=False,\n",
    "                            use_idf=True,\n",
    "                            norm=u'l2')\n",
    "# Applying the vectorizer\n",
    "X_tfidf = vectorizer.fit_transform(X)\n",
    "print('Number of features: {}'.format(X_tfidf.get_shape()[1]))\n",
    "\n",
    "# Splitting into train and test sets\n",
    "X_train_tfidf, X_test_tfidf, y_train, y_test = train_test_split(X_tfidf, y, test_size=0.25, random_state=42)\n",
    "\n",
    "# Reshape vectorizer to readable content\n",
    "X_train_tfidf_csr = X_train_tfidf.tocsr()\n",
    "\n",
    "# Number of paragraphs\n",
    "n = X_train_tfidf_csr.shape[0]\n",
    "\n",
    "# A list of dictionaries, one per paragraph\n",
    "tfidf_bypara = [{} for _ in range(0,n)]\n",
    "\n",
    "# List of features\n",
    "terms = vectorizer.get_feature_names()\n",
    "\n",
    "# For each paragraph, lists the feature words and their tf-idf scores\n",
    "for i, j in zip(*X_train_tfidf_csr.nonzero()):\n",
    "    tfidf_bypara[i][terms[j]] = X_train_tfidf_csr[i, j]\n",
    "\n",
    "# Keep in mind that the log base 2 of 1 is 0, so a tf-idf score of 0 indicates that the word was present once in that sentence.\n",
    "print('Original sentence:', X_train[2])\n",
    "print('Tf_idf vector:', tfidf_bypara[0])\n",
    "    "
   ]
  },
  {
   "cell_type": "markdown",
   "metadata": {},
   "source": [
    "We will now normalize our data to best cluster data:"
   ]
  },
  {
   "cell_type": "code",
   "execution_count": 12,
   "metadata": {
    "collapsed": true
   },
   "outputs": [],
   "source": [
    "from sklearn.preprocessing import normalize\n",
    "X_norm = normalize(X_train_tfidf)"
   ]
  },
  {
   "cell_type": "markdown",
   "metadata": {},
   "source": [
    "### Natural Language Processing - spaCy\n",
    "We will tokenize each sentence to be able to extract information and add as features in our models."
   ]
  },
  {
   "cell_type": "code",
   "execution_count": 13,
   "metadata": {
    "collapsed": true
   },
   "outputs": [],
   "source": [
    "# Instantiating spaCy\n",
    "nlp = spacy.load('en')\n",
    "X_train_words = []\n",
    "\n",
    "for row in X_train:\n",
    "    # Processing each row for tokens\n",
    "    row_doc = nlp(row)\n",
    "    # Calculating length of each sentence\n",
    "    sent_len = len(row_doc) \n",
    "    # Initializing counts\n",
    "    advs = 0\n",
    "    verb = 0\n",
    "    noun = 0\n",
    "    adj = 0\n",
    "    for token in row_doc:\n",
    "        # Identifying each part and adding to counts\n",
    "        if token.pos_ == 'ADV':\n",
    "            advs +=1\n",
    "        elif token.pos_ == 'VERB':\n",
    "            verb +=1\n",
    "        elif token.pos_ == 'NOUN':\n",
    "            noun +=1\n",
    "        elif token.pos_ == 'ADJ':\n",
    "            adj +=1\n",
    "    # Creating a list of all features for each sentence\n",
    "    X_train_words.append([row_doc, advs, verb, noun, adj, sent_len])"
   ]
  },
  {
   "cell_type": "code",
   "execution_count": 14,
   "metadata": {
    "collapsed": true
   },
   "outputs": [],
   "source": [
    "y_train_new = y_train.reset_index(drop=True)"
   ]
  },
  {
   "cell_type": "markdown",
   "metadata": {},
   "source": [
    "Joining the new features and the author names:"
   ]
  },
  {
   "cell_type": "code",
   "execution_count": 15,
   "metadata": {
    "scrolled": true
   },
   "outputs": [
    {
     "data": {
      "text/html": [
       "<div>\n",
       "<style scoped>\n",
       "    .dataframe tbody tr th:only-of-type {\n",
       "        vertical-align: middle;\n",
       "    }\n",
       "\n",
       "    .dataframe tbody tr th {\n",
       "        vertical-align: top;\n",
       "    }\n",
       "\n",
       "    .dataframe thead th {\n",
       "        text-align: right;\n",
       "    }\n",
       "</style>\n",
       "<table border=\"1\" class=\"dataframe\">\n",
       "  <thead>\n",
       "    <tr style=\"text-align: right;\">\n",
       "      <th></th>\n",
       "      <th>BOW</th>\n",
       "      <th>ADV</th>\n",
       "      <th>VERB</th>\n",
       "      <th>NOUN</th>\n",
       "      <th>ADJ</th>\n",
       "      <th>sent_length</th>\n",
       "      <th>author</th>\n",
       "    </tr>\n",
       "  </thead>\n",
       "  <tbody>\n",
       "    <tr>\n",
       "      <th>0</th>\n",
       "      <td>(brother, john, baptist, de, coigne, i, am, ve...</td>\n",
       "      <td>53</td>\n",
       "      <td>184</td>\n",
       "      <td>125</td>\n",
       "      <td>82</td>\n",
       "      <td>845</td>\n",
       "      <td>jefferson</td>\n",
       "    </tr>\n",
       "    <tr>\n",
       "      <th>1</th>\n",
       "      <td>(once, upon, a, time, of, all, the, good, days...</td>\n",
       "      <td>22</td>\n",
       "      <td>54</td>\n",
       "      <td>62</td>\n",
       "      <td>37</td>\n",
       "      <td>296</td>\n",
       "      <td>dickens</td>\n",
       "    </tr>\n",
       "    <tr>\n",
       "      <th>2</th>\n",
       "      <td>(soc, ., very, good, callicles, ;, but, will, ...</td>\n",
       "      <td>19</td>\n",
       "      <td>69</td>\n",
       "      <td>49</td>\n",
       "      <td>17</td>\n",
       "      <td>275</td>\n",
       "      <td>plato</td>\n",
       "    </tr>\n",
       "    <tr>\n",
       "      <th>3</th>\n",
       "      <td>(magnifique, ejaculated, the, countess, de, co...</td>\n",
       "      <td>27</td>\n",
       "      <td>49</td>\n",
       "      <td>51</td>\n",
       "      <td>37</td>\n",
       "      <td>263</td>\n",
       "      <td>burroughs</td>\n",
       "    </tr>\n",
       "    <tr>\n",
       "      <th>4</th>\n",
       "      <td>(the, entire, affair, is, shrouded, in, myster...</td>\n",
       "      <td>24</td>\n",
       "      <td>71</td>\n",
       "      <td>88</td>\n",
       "      <td>43</td>\n",
       "      <td>392</td>\n",
       "      <td>burroughs</td>\n",
       "    </tr>\n",
       "  </tbody>\n",
       "</table>\n",
       "</div>"
      ],
      "text/plain": [
       "                                                 BOW  ADV  VERB  NOUN  ADJ  \\\n",
       "0  (brother, john, baptist, de, coigne, i, am, ve...   53   184   125   82   \n",
       "1  (once, upon, a, time, of, all, the, good, days...   22    54    62   37   \n",
       "2  (soc, ., very, good, callicles, ;, but, will, ...   19    69    49   17   \n",
       "3  (magnifique, ejaculated, the, countess, de, co...   27    49    51   37   \n",
       "4  (the, entire, affair, is, shrouded, in, myster...   24    71    88   43   \n",
       "\n",
       "   sent_length     author  \n",
       "0          845  jefferson  \n",
       "1          296    dickens  \n",
       "2          275      plato  \n",
       "3          263  burroughs  \n",
       "4          392  burroughs  "
      ]
     },
     "execution_count": 15,
     "metadata": {},
     "output_type": "execute_result"
    }
   ],
   "source": [
    "# Data frame for features\n",
    "txt_bow = pd.DataFrame(data=X_train_words, columns=['BOW', 'ADV', 'VERB', 'NOUN', 'ADJ', 'sent_length'])\n",
    "\n",
    "# Adding author data\n",
    "txt_bow = pd.concat([txt_bow, y_train_new], ignore_index=False, axis=1)\n",
    "txt_bow.head()"
   ]
  },
  {
   "cell_type": "code",
   "execution_count": 16,
   "metadata": {
    "scrolled": false
   },
   "outputs": [
    {
     "data": {
      "text/html": [
       "<div>\n",
       "<style scoped>\n",
       "    .dataframe tbody tr th:only-of-type {\n",
       "        vertical-align: middle;\n",
       "    }\n",
       "\n",
       "    .dataframe tbody tr th {\n",
       "        vertical-align: top;\n",
       "    }\n",
       "\n",
       "    .dataframe thead th {\n",
       "        text-align: right;\n",
       "    }\n",
       "</style>\n",
       "<table border=\"1\" class=\"dataframe\">\n",
       "  <thead>\n",
       "    <tr style=\"text-align: right;\">\n",
       "      <th></th>\n",
       "      <th>BOW</th>\n",
       "      <th>ADV</th>\n",
       "      <th>VERB</th>\n",
       "      <th>NOUN</th>\n",
       "      <th>ADJ</th>\n",
       "      <th>sent_length</th>\n",
       "      <th>author</th>\n",
       "      <th>0</th>\n",
       "      <th>1</th>\n",
       "      <th>2</th>\n",
       "      <th>...</th>\n",
       "      <th>872</th>\n",
       "      <th>873</th>\n",
       "      <th>874</th>\n",
       "      <th>875</th>\n",
       "      <th>876</th>\n",
       "      <th>877</th>\n",
       "      <th>878</th>\n",
       "      <th>879</th>\n",
       "      <th>880</th>\n",
       "      <th>881</th>\n",
       "    </tr>\n",
       "  </thead>\n",
       "  <tbody>\n",
       "    <tr>\n",
       "      <th>0</th>\n",
       "      <td>(brother, john, baptist, de, coigne, i, am, ve...</td>\n",
       "      <td>53</td>\n",
       "      <td>184</td>\n",
       "      <td>125</td>\n",
       "      <td>82</td>\n",
       "      <td>845</td>\n",
       "      <td>jefferson</td>\n",
       "      <td>0.0</td>\n",
       "      <td>0.0</td>\n",
       "      <td>0.0</td>\n",
       "      <td>...</td>\n",
       "      <td>0.0</td>\n",
       "      <td>0.0</td>\n",
       "      <td>0.0</td>\n",
       "      <td>0.000000</td>\n",
       "      <td>0.037030</td>\n",
       "      <td>0.000000</td>\n",
       "      <td>0.0</td>\n",
       "      <td>0.000000</td>\n",
       "      <td>0.039043</td>\n",
       "      <td>0.0</td>\n",
       "    </tr>\n",
       "    <tr>\n",
       "      <th>1</th>\n",
       "      <td>(once, upon, a, time, of, all, the, good, days...</td>\n",
       "      <td>22</td>\n",
       "      <td>54</td>\n",
       "      <td>62</td>\n",
       "      <td>37</td>\n",
       "      <td>296</td>\n",
       "      <td>dickens</td>\n",
       "      <td>0.0</td>\n",
       "      <td>0.0</td>\n",
       "      <td>0.0</td>\n",
       "      <td>...</td>\n",
       "      <td>0.0</td>\n",
       "      <td>0.0</td>\n",
       "      <td>0.0</td>\n",
       "      <td>0.118679</td>\n",
       "      <td>0.000000</td>\n",
       "      <td>0.000000</td>\n",
       "      <td>0.0</td>\n",
       "      <td>0.000000</td>\n",
       "      <td>0.000000</td>\n",
       "      <td>0.0</td>\n",
       "    </tr>\n",
       "    <tr>\n",
       "      <th>2</th>\n",
       "      <td>(soc, ., very, good, callicles, ;, but, will, ...</td>\n",
       "      <td>19</td>\n",
       "      <td>69</td>\n",
       "      <td>49</td>\n",
       "      <td>17</td>\n",
       "      <td>275</td>\n",
       "      <td>plato</td>\n",
       "      <td>0.0</td>\n",
       "      <td>0.0</td>\n",
       "      <td>0.0</td>\n",
       "      <td>...</td>\n",
       "      <td>0.0</td>\n",
       "      <td>0.0</td>\n",
       "      <td>0.0</td>\n",
       "      <td>0.000000</td>\n",
       "      <td>0.072124</td>\n",
       "      <td>0.104377</td>\n",
       "      <td>0.0</td>\n",
       "      <td>0.000000</td>\n",
       "      <td>0.000000</td>\n",
       "      <td>0.0</td>\n",
       "    </tr>\n",
       "    <tr>\n",
       "      <th>3</th>\n",
       "      <td>(magnifique, ejaculated, the, countess, de, co...</td>\n",
       "      <td>27</td>\n",
       "      <td>49</td>\n",
       "      <td>51</td>\n",
       "      <td>37</td>\n",
       "      <td>263</td>\n",
       "      <td>burroughs</td>\n",
       "      <td>0.0</td>\n",
       "      <td>0.0</td>\n",
       "      <td>0.0</td>\n",
       "      <td>...</td>\n",
       "      <td>0.0</td>\n",
       "      <td>0.0</td>\n",
       "      <td>0.0</td>\n",
       "      <td>0.000000</td>\n",
       "      <td>0.000000</td>\n",
       "      <td>0.000000</td>\n",
       "      <td>0.0</td>\n",
       "      <td>0.287463</td>\n",
       "      <td>0.290630</td>\n",
       "      <td>0.0</td>\n",
       "    </tr>\n",
       "    <tr>\n",
       "      <th>4</th>\n",
       "      <td>(the, entire, affair, is, shrouded, in, myster...</td>\n",
       "      <td>24</td>\n",
       "      <td>71</td>\n",
       "      <td>88</td>\n",
       "      <td>43</td>\n",
       "      <td>392</td>\n",
       "      <td>burroughs</td>\n",
       "      <td>0.0</td>\n",
       "      <td>0.0</td>\n",
       "      <td>0.0</td>\n",
       "      <td>...</td>\n",
       "      <td>0.0</td>\n",
       "      <td>0.0</td>\n",
       "      <td>0.0</td>\n",
       "      <td>0.000000</td>\n",
       "      <td>0.000000</td>\n",
       "      <td>0.000000</td>\n",
       "      <td>0.0</td>\n",
       "      <td>0.000000</td>\n",
       "      <td>0.000000</td>\n",
       "      <td>0.0</td>\n",
       "    </tr>\n",
       "  </tbody>\n",
       "</table>\n",
       "<p>5 rows × 889 columns</p>\n",
       "</div>"
      ],
      "text/plain": [
       "                                                 BOW  ADV  VERB  NOUN  ADJ  \\\n",
       "0  (brother, john, baptist, de, coigne, i, am, ve...   53   184   125   82   \n",
       "1  (once, upon, a, time, of, all, the, good, days...   22    54    62   37   \n",
       "2  (soc, ., very, good, callicles, ;, but, will, ...   19    69    49   17   \n",
       "3  (magnifique, ejaculated, the, countess, de, co...   27    49    51   37   \n",
       "4  (the, entire, affair, is, shrouded, in, myster...   24    71    88   43   \n",
       "\n",
       "   sent_length     author    0    1    2 ...   872  873  874       875  \\\n",
       "0          845  jefferson  0.0  0.0  0.0 ...   0.0  0.0  0.0  0.000000   \n",
       "1          296    dickens  0.0  0.0  0.0 ...   0.0  0.0  0.0  0.118679   \n",
       "2          275      plato  0.0  0.0  0.0 ...   0.0  0.0  0.0  0.000000   \n",
       "3          263  burroughs  0.0  0.0  0.0 ...   0.0  0.0  0.0  0.000000   \n",
       "4          392  burroughs  0.0  0.0  0.0 ...   0.0  0.0  0.0  0.000000   \n",
       "\n",
       "        876       877  878       879       880  881  \n",
       "0  0.037030  0.000000  0.0  0.000000  0.039043  0.0  \n",
       "1  0.000000  0.000000  0.0  0.000000  0.000000  0.0  \n",
       "2  0.072124  0.104377  0.0  0.000000  0.000000  0.0  \n",
       "3  0.000000  0.000000  0.0  0.287463  0.290630  0.0  \n",
       "4  0.000000  0.000000  0.0  0.000000  0.000000  0.0  \n",
       "\n",
       "[5 rows x 889 columns]"
      ]
     },
     "execution_count": 16,
     "metadata": {},
     "output_type": "execute_result"
    }
   ],
   "source": [
    "X_norm_df = pd.DataFrame(data=X_norm.toarray())\n",
    "txt_tfidf_bow = pd.concat([txt_bow, X_norm_df], ignore_index=False, axis=1)\n",
    "txt_tfidf_bow.head()"
   ]
  },
  {
   "cell_type": "code",
   "execution_count": 17,
   "metadata": {},
   "outputs": [
    {
     "name": "stdout",
     "output_type": "stream",
     "text": [
      "Final training dataframe shape: (76, 889)\n"
     ]
    }
   ],
   "source": [
    "print('Final training dataframe shape:', txt_tfidf_bow.shape)"
   ]
  },
  {
   "cell_type": "markdown",
   "metadata": {},
   "source": [
    "### Feature Selection\n",
    "Using SelectKBest, we selected the best 150 features:"
   ]
  },
  {
   "cell_type": "code",
   "execution_count": 18,
   "metadata": {
    "collapsed": true
   },
   "outputs": [],
   "source": [
    "# Identifying features and labels to choose from\n",
    "features = txt_tfidf_bow.drop(['BOW', 'author'], axis=1)\n",
    "y2_train = txt_tfidf_bow.author"
   ]
  },
  {
   "cell_type": "code",
   "execution_count": 19,
   "metadata": {
    "scrolled": false
   },
   "outputs": [],
   "source": [
    "from sklearn.feature_selection import SelectKBest\n",
    "from sklearn.feature_selection import chi2\n",
    "\n",
    "# Instantiating and fitting the 150 best features\n",
    "kbest = SelectKBest(chi2, k=150)\n",
    "X2_train = kbest.fit_transform(features, y2_train)"
   ]
  },
  {
   "cell_type": "markdown",
   "metadata": {},
   "source": [
    "## Clustering"
   ]
  },
  {
   "cell_type": "markdown",
   "metadata": {},
   "source": [
    "### K-Means Clustering\n",
    "K-means clustering aims to partition n observations into k clusters in which each observation belongs to the cluster with the nearest mean, serving as a prototype of the cluster. This results in a partitioning of the data space into Voronoi cells (Wikipedia info)."
   ]
  },
  {
   "cell_type": "code",
   "execution_count": 20,
   "metadata": {},
   "outputs": [
    {
     "data": {
      "image/png": "[encoded data removed]",
      "text/plain": [
       "<matplotlib.figure.Figure at 0x7f5804076710>"
      ]
     },
     "metadata": {},
     "output_type": "display_data"
    }
   ],
   "source": [
    "from sklearn.cluster import KMeans\n",
    "from  scipy.spatial.distance  import cdist\n",
    "# Use the elbow method to see what is the optimal amount of clusters.\n",
    "\n",
    "# k means determine k\n",
    "distortions = []\n",
    "K = range(1,20)\n",
    "for k in K:\n",
    "    kmeanModel = KMeans(n_clusters=k).fit(X2_train)\n",
    "    kmeanModel.fit(X2_train)\n",
    "    distortions.append(sum(np.min(cdist(X2_train, kmeanModel.cluster_centers_, 'euclidean'), axis=1)) / X2_train.shape[0])\n",
    "\n",
    "# Plot the elbow\n",
    "sns.set_style('darkgrid')\n",
    "plt.plot(K, distortions, 'bx-')\n",
    "plt.xlabel('k')\n",
    "plt.ylabel('Distortion')\n",
    "plt.title('The Elbow Method showing the optimal k')\n",
    "plt.show()"
   ]
  },
  {
   "cell_type": "code",
   "execution_count": 21,
   "metadata": {},
   "outputs": [
    {
     "data": {
      "text/html": [
       "<div>\n",
       "<style scoped>\n",
       "    .dataframe tbody tr th:only-of-type {\n",
       "        vertical-align: middle;\n",
       "    }\n",
       "\n",
       "    .dataframe tbody tr th {\n",
       "        vertical-align: top;\n",
       "    }\n",
       "\n",
       "    .dataframe thead th {\n",
       "        text-align: right;\n",
       "    }\n",
       "</style>\n",
       "<table border=\"1\" class=\"dataframe\">\n",
       "  <thead>\n",
       "    <tr style=\"text-align: right;\">\n",
       "      <th>col_0</th>\n",
       "      <th>0</th>\n",
       "      <th>1</th>\n",
       "      <th>2</th>\n",
       "      <th>3</th>\n",
       "      <th>4</th>\n",
       "    </tr>\n",
       "    <tr>\n",
       "      <th>author</th>\n",
       "      <th></th>\n",
       "      <th></th>\n",
       "      <th></th>\n",
       "      <th></th>\n",
       "      <th></th>\n",
       "    </tr>\n",
       "  </thead>\n",
       "  <tbody>\n",
       "    <tr>\n",
       "      <th>aristotle</th>\n",
       "      <td>2</td>\n",
       "      <td>1</td>\n",
       "      <td>2</td>\n",
       "      <td>0</td>\n",
       "      <td>2</td>\n",
       "    </tr>\n",
       "    <tr>\n",
       "      <th>burroughs</th>\n",
       "      <td>7</td>\n",
       "      <td>0</td>\n",
       "      <td>2</td>\n",
       "      <td>0</td>\n",
       "      <td>0</td>\n",
       "    </tr>\n",
       "    <tr>\n",
       "      <th>dickens</th>\n",
       "      <td>3</td>\n",
       "      <td>0</td>\n",
       "      <td>2</td>\n",
       "      <td>0</td>\n",
       "      <td>1</td>\n",
       "    </tr>\n",
       "    <tr>\n",
       "      <th>doyle</th>\n",
       "      <td>3</td>\n",
       "      <td>0</td>\n",
       "      <td>3</td>\n",
       "      <td>0</td>\n",
       "      <td>1</td>\n",
       "    </tr>\n",
       "    <tr>\n",
       "      <th>emerson</th>\n",
       "      <td>2</td>\n",
       "      <td>0</td>\n",
       "      <td>5</td>\n",
       "      <td>0</td>\n",
       "      <td>0</td>\n",
       "    </tr>\n",
       "    <tr>\n",
       "      <th>hawthorne</th>\n",
       "      <td>6</td>\n",
       "      <td>0</td>\n",
       "      <td>2</td>\n",
       "      <td>0</td>\n",
       "      <td>0</td>\n",
       "    </tr>\n",
       "    <tr>\n",
       "      <th>irving</th>\n",
       "      <td>2</td>\n",
       "      <td>0</td>\n",
       "      <td>4</td>\n",
       "      <td>0</td>\n",
       "      <td>0</td>\n",
       "    </tr>\n",
       "    <tr>\n",
       "      <th>jefferson</th>\n",
       "      <td>2</td>\n",
       "      <td>0</td>\n",
       "      <td>2</td>\n",
       "      <td>0</td>\n",
       "      <td>1</td>\n",
       "    </tr>\n",
       "    <tr>\n",
       "      <th>kant</th>\n",
       "      <td>3</td>\n",
       "      <td>1</td>\n",
       "      <td>1</td>\n",
       "      <td>0</td>\n",
       "      <td>0</td>\n",
       "    </tr>\n",
       "    <tr>\n",
       "      <th>plato</th>\n",
       "      <td>4</td>\n",
       "      <td>0</td>\n",
       "      <td>3</td>\n",
       "      <td>0</td>\n",
       "      <td>2</td>\n",
       "    </tr>\n",
       "    <tr>\n",
       "      <th>poe</th>\n",
       "      <td>1</td>\n",
       "      <td>0</td>\n",
       "      <td>1</td>\n",
       "      <td>0</td>\n",
       "      <td>0</td>\n",
       "    </tr>\n",
       "    <tr>\n",
       "      <th>shakespeare</th>\n",
       "      <td>3</td>\n",
       "      <td>1</td>\n",
       "      <td>0</td>\n",
       "      <td>1</td>\n",
       "      <td>0</td>\n",
       "    </tr>\n",
       "  </tbody>\n",
       "</table>\n",
       "</div>"
      ],
      "text/plain": [
       "col_0        0  1  2  3  4\n",
       "author                    \n",
       "aristotle    2  1  2  0  2\n",
       "burroughs    7  0  2  0  0\n",
       "dickens      3  0  2  0  1\n",
       "doyle        3  0  3  0  1\n",
       "emerson      2  0  5  0  0\n",
       "hawthorne    6  0  2  0  0\n",
       "irving       2  0  4  0  0\n",
       "jefferson    2  0  2  0  1\n",
       "kant         3  1  1  0  0\n",
       "plato        4  0  3  0  2\n",
       "poe          1  0  1  0  0\n",
       "shakespeare  3  1  0  1  0"
      ]
     },
     "execution_count": 21,
     "metadata": {},
     "output_type": "execute_result"
    }
   ],
   "source": [
    "# Calulate predicted values\n",
    "kmeans = KMeans(n_clusters=5, init='k-means++', random_state=42, n_init=20)\n",
    "y_pred = kmeans.fit_predict(X2_train)\n",
    "\n",
    "pd.crosstab(y2_train, y_pred)"
   ]
  },
  {
   "cell_type": "markdown",
   "metadata": {},
   "source": [
    "To make it easier to visualize our potential clusters, we will reduce the data to 2 components using PCA."
   ]
  },
  {
   "cell_type": "code",
   "execution_count": 22,
   "metadata": {},
   "outputs": [
    {
     "data": {
      "image/png": "[encoded data removed]",
      "text/plain": [
       "<matplotlib.figure.Figure at 0x7f57fcfff0b8>"
      ]
     },
     "metadata": {},
     "output_type": "display_data"
    }
   ],
   "source": [
    "from sklearn.decomposition import PCA\n",
    "\n",
    "# Reduce it to two components.\n",
    "X_pca = PCA(2).fit_transform(X2_train)\n",
    "\n",
    "# Calculate predicted values.\n",
    "y_pred = KMeans(n_clusters=5, random_state=42).fit_predict(X_pca)\n",
    "\n",
    "# Plot the solution.\n",
    "plt.scatter(X_pca[:, 0], X_pca[:, 1], c=y_pred, s=50)\n",
    "plt.show()"
   ]
  },
  {
   "cell_type": "code",
   "execution_count": 23,
   "metadata": {},
   "outputs": [
    {
     "name": "stdout",
     "output_type": "stream",
     "text": [
      "Silhouette Score: 0.5006142\n"
     ]
    }
   ],
   "source": [
    "from sklearn.metrics import silhouette_score\n",
    "\n",
    "print('Silhouette Score: {:0.7}'.format(silhouette_score(X_pca, y_pred, metric='euclidean')))"
   ]
  },
  {
   "cell_type": "markdown",
   "metadata": {},
   "source": [
    "The silhouette score did much beter than what I expected."
   ]
  },
  {
   "cell_type": "markdown",
   "metadata": {},
   "source": [
    "### Mini Batch K Means"
   ]
  },
  {
   "cell_type": "code",
   "execution_count": 24,
   "metadata": {},
   "outputs": [
    {
     "data": {
      "text/html": [
       "<div>\n",
       "<style scoped>\n",
       "    .dataframe tbody tr th:only-of-type {\n",
       "        vertical-align: middle;\n",
       "    }\n",
       "\n",
       "    .dataframe tbody tr th {\n",
       "        vertical-align: top;\n",
       "    }\n",
       "\n",
       "    .dataframe thead th {\n",
       "        text-align: right;\n",
       "    }\n",
       "</style>\n",
       "<table border=\"1\" class=\"dataframe\">\n",
       "  <thead>\n",
       "    <tr style=\"text-align: right;\">\n",
       "      <th>col_0</th>\n",
       "      <th>0</th>\n",
       "      <th>1</th>\n",
       "      <th>2</th>\n",
       "      <th>3</th>\n",
       "      <th>4</th>\n",
       "    </tr>\n",
       "    <tr>\n",
       "      <th>author</th>\n",
       "      <th></th>\n",
       "      <th></th>\n",
       "      <th></th>\n",
       "      <th></th>\n",
       "      <th></th>\n",
       "    </tr>\n",
       "  </thead>\n",
       "  <tbody>\n",
       "    <tr>\n",
       "      <th>aristotle</th>\n",
       "      <td>3</td>\n",
       "      <td>2</td>\n",
       "      <td>0</td>\n",
       "      <td>1</td>\n",
       "      <td>1</td>\n",
       "    </tr>\n",
       "    <tr>\n",
       "      <th>burroughs</th>\n",
       "      <td>0</td>\n",
       "      <td>4</td>\n",
       "      <td>0</td>\n",
       "      <td>5</td>\n",
       "      <td>0</td>\n",
       "    </tr>\n",
       "    <tr>\n",
       "      <th>dickens</th>\n",
       "      <td>1</td>\n",
       "      <td>2</td>\n",
       "      <td>0</td>\n",
       "      <td>3</td>\n",
       "      <td>0</td>\n",
       "    </tr>\n",
       "    <tr>\n",
       "      <th>doyle</th>\n",
       "      <td>0</td>\n",
       "      <td>1</td>\n",
       "      <td>0</td>\n",
       "      <td>3</td>\n",
       "      <td>3</td>\n",
       "    </tr>\n",
       "    <tr>\n",
       "      <th>emerson</th>\n",
       "      <td>0</td>\n",
       "      <td>6</td>\n",
       "      <td>0</td>\n",
       "      <td>0</td>\n",
       "      <td>1</td>\n",
       "    </tr>\n",
       "    <tr>\n",
       "      <th>hawthorne</th>\n",
       "      <td>0</td>\n",
       "      <td>5</td>\n",
       "      <td>0</td>\n",
       "      <td>2</td>\n",
       "      <td>1</td>\n",
       "    </tr>\n",
       "    <tr>\n",
       "      <th>irving</th>\n",
       "      <td>0</td>\n",
       "      <td>4</td>\n",
       "      <td>0</td>\n",
       "      <td>1</td>\n",
       "      <td>1</td>\n",
       "    </tr>\n",
       "    <tr>\n",
       "      <th>jefferson</th>\n",
       "      <td>1</td>\n",
       "      <td>2</td>\n",
       "      <td>0</td>\n",
       "      <td>2</td>\n",
       "      <td>0</td>\n",
       "    </tr>\n",
       "    <tr>\n",
       "      <th>kant</th>\n",
       "      <td>0</td>\n",
       "      <td>2</td>\n",
       "      <td>1</td>\n",
       "      <td>2</td>\n",
       "      <td>0</td>\n",
       "    </tr>\n",
       "    <tr>\n",
       "      <th>plato</th>\n",
       "      <td>1</td>\n",
       "      <td>2</td>\n",
       "      <td>0</td>\n",
       "      <td>3</td>\n",
       "      <td>3</td>\n",
       "    </tr>\n",
       "    <tr>\n",
       "      <th>poe</th>\n",
       "      <td>0</td>\n",
       "      <td>2</td>\n",
       "      <td>0</td>\n",
       "      <td>0</td>\n",
       "      <td>0</td>\n",
       "    </tr>\n",
       "    <tr>\n",
       "      <th>shakespeare</th>\n",
       "      <td>0</td>\n",
       "      <td>1</td>\n",
       "      <td>2</td>\n",
       "      <td>2</td>\n",
       "      <td>0</td>\n",
       "    </tr>\n",
       "  </tbody>\n",
       "</table>\n",
       "</div>"
      ],
      "text/plain": [
       "col_0        0  1  2  3  4\n",
       "author                    \n",
       "aristotle    3  2  0  1  1\n",
       "burroughs    0  4  0  5  0\n",
       "dickens      1  2  0  3  0\n",
       "doyle        0  1  0  3  3\n",
       "emerson      0  6  0  0  1\n",
       "hawthorne    0  5  0  2  1\n",
       "irving       0  4  0  1  1\n",
       "jefferson    1  2  0  2  0\n",
       "kant         0  2  1  2  0\n",
       "plato        1  2  0  3  3\n",
       "poe          0  2  0  0  0\n",
       "shakespeare  0  1  2  2  0"
      ]
     },
     "execution_count": 24,
     "metadata": {},
     "output_type": "execute_result"
    }
   ],
   "source": [
    "from sklearn.cluster import MiniBatchKMeans\n",
    "minikmeans = MiniBatchKMeans(n_clusters=5, init='k-means++', random_state=42, init_size=1000, batch_size=1000)\n",
    "\n",
    "y_pred2 = minikmeans.fit_predict(X_pca)\n",
    "\n",
    "pd.crosstab(y2_train, y_pred2)"
   ]
  },
  {
   "cell_type": "code",
   "execution_count": 25,
   "metadata": {},
   "outputs": [
    {
     "name": "stdout",
     "output_type": "stream",
     "text": [
      "Silhouette Score: 0.4524854\n"
     ]
    }
   ],
   "source": [
    "print('Silhouette Score: {:0.7}'.format(silhouette_score(X_pca, y_pred2, metric='euclidean')))"
   ]
  },
  {
   "cell_type": "markdown",
   "metadata": {},
   "source": [
    "It obtained a similar performance to the K-Means Clustering\n",
    "\n",
    "### Spectral Clustering"
   ]
  },
  {
   "cell_type": "code",
   "execution_count": 26,
   "metadata": {},
   "outputs": [
    {
     "name": "stderr",
     "output_type": "stream",
     "text": [
      "/home/mache/anaconda3/lib/python3.6/site-packages/sklearn/manifold/spectral_embedding_.py:234: UserWarning: Graph is not fully connected, spectral embedding may not work as expected.\n",
      "  warnings.warn(\"Graph is not fully connected, spectral embedding\"\n"
     ]
    },
    {
     "data": {
      "text/html": [
       "<div>\n",
       "<style scoped>\n",
       "    .dataframe tbody tr th:only-of-type {\n",
       "        vertical-align: middle;\n",
       "    }\n",
       "\n",
       "    .dataframe tbody tr th {\n",
       "        vertical-align: top;\n",
       "    }\n",
       "\n",
       "    .dataframe thead th {\n",
       "        text-align: right;\n",
       "    }\n",
       "</style>\n",
       "<table border=\"1\" class=\"dataframe\">\n",
       "  <thead>\n",
       "    <tr style=\"text-align: right;\">\n",
       "      <th>col_0</th>\n",
       "      <th>0</th>\n",
       "      <th>1</th>\n",
       "      <th>2</th>\n",
       "      <th>3</th>\n",
       "      <th>4</th>\n",
       "      <th>5</th>\n",
       "      <th>6</th>\n",
       "      <th>7</th>\n",
       "      <th>8</th>\n",
       "      <th>9</th>\n",
       "      <th>10</th>\n",
       "      <th>11</th>\n",
       "    </tr>\n",
       "    <tr>\n",
       "      <th>author</th>\n",
       "      <th></th>\n",
       "      <th></th>\n",
       "      <th></th>\n",
       "      <th></th>\n",
       "      <th></th>\n",
       "      <th></th>\n",
       "      <th></th>\n",
       "      <th></th>\n",
       "      <th></th>\n",
       "      <th></th>\n",
       "      <th></th>\n",
       "      <th></th>\n",
       "    </tr>\n",
       "  </thead>\n",
       "  <tbody>\n",
       "    <tr>\n",
       "      <th>aristotle</th>\n",
       "      <td>5</td>\n",
       "      <td>0</td>\n",
       "      <td>1</td>\n",
       "      <td>0</td>\n",
       "      <td>0</td>\n",
       "      <td>0</td>\n",
       "      <td>0</td>\n",
       "      <td>0</td>\n",
       "      <td>0</td>\n",
       "      <td>0</td>\n",
       "      <td>0</td>\n",
       "      <td>1</td>\n",
       "    </tr>\n",
       "    <tr>\n",
       "      <th>burroughs</th>\n",
       "      <td>8</td>\n",
       "      <td>0</td>\n",
       "      <td>0</td>\n",
       "      <td>1</td>\n",
       "      <td>0</td>\n",
       "      <td>0</td>\n",
       "      <td>0</td>\n",
       "      <td>0</td>\n",
       "      <td>0</td>\n",
       "      <td>0</td>\n",
       "      <td>0</td>\n",
       "      <td>0</td>\n",
       "    </tr>\n",
       "    <tr>\n",
       "      <th>dickens</th>\n",
       "      <td>5</td>\n",
       "      <td>0</td>\n",
       "      <td>0</td>\n",
       "      <td>0</td>\n",
       "      <td>0</td>\n",
       "      <td>1</td>\n",
       "      <td>0</td>\n",
       "      <td>0</td>\n",
       "      <td>0</td>\n",
       "      <td>0</td>\n",
       "      <td>0</td>\n",
       "      <td>0</td>\n",
       "    </tr>\n",
       "    <tr>\n",
       "      <th>doyle</th>\n",
       "      <td>5</td>\n",
       "      <td>0</td>\n",
       "      <td>0</td>\n",
       "      <td>0</td>\n",
       "      <td>0</td>\n",
       "      <td>1</td>\n",
       "      <td>0</td>\n",
       "      <td>0</td>\n",
       "      <td>0</td>\n",
       "      <td>0</td>\n",
       "      <td>0</td>\n",
       "      <td>1</td>\n",
       "    </tr>\n",
       "    <tr>\n",
       "      <th>emerson</th>\n",
       "      <td>5</td>\n",
       "      <td>0</td>\n",
       "      <td>0</td>\n",
       "      <td>0</td>\n",
       "      <td>1</td>\n",
       "      <td>0</td>\n",
       "      <td>0</td>\n",
       "      <td>0</td>\n",
       "      <td>1</td>\n",
       "      <td>0</td>\n",
       "      <td>0</td>\n",
       "      <td>0</td>\n",
       "    </tr>\n",
       "    <tr>\n",
       "      <th>hawthorne</th>\n",
       "      <td>5</td>\n",
       "      <td>0</td>\n",
       "      <td>0</td>\n",
       "      <td>0</td>\n",
       "      <td>0</td>\n",
       "      <td>0</td>\n",
       "      <td>1</td>\n",
       "      <td>1</td>\n",
       "      <td>0</td>\n",
       "      <td>0</td>\n",
       "      <td>1</td>\n",
       "      <td>0</td>\n",
       "    </tr>\n",
       "    <tr>\n",
       "      <th>irving</th>\n",
       "      <td>5</td>\n",
       "      <td>0</td>\n",
       "      <td>0</td>\n",
       "      <td>0</td>\n",
       "      <td>1</td>\n",
       "      <td>0</td>\n",
       "      <td>0</td>\n",
       "      <td>0</td>\n",
       "      <td>0</td>\n",
       "      <td>0</td>\n",
       "      <td>0</td>\n",
       "      <td>0</td>\n",
       "    </tr>\n",
       "    <tr>\n",
       "      <th>jefferson</th>\n",
       "      <td>4</td>\n",
       "      <td>0</td>\n",
       "      <td>0</td>\n",
       "      <td>1</td>\n",
       "      <td>0</td>\n",
       "      <td>0</td>\n",
       "      <td>0</td>\n",
       "      <td>0</td>\n",
       "      <td>0</td>\n",
       "      <td>0</td>\n",
       "      <td>0</td>\n",
       "      <td>0</td>\n",
       "    </tr>\n",
       "    <tr>\n",
       "      <th>kant</th>\n",
       "      <td>3</td>\n",
       "      <td>1</td>\n",
       "      <td>0</td>\n",
       "      <td>0</td>\n",
       "      <td>0</td>\n",
       "      <td>0</td>\n",
       "      <td>0</td>\n",
       "      <td>0</td>\n",
       "      <td>0</td>\n",
       "      <td>0</td>\n",
       "      <td>1</td>\n",
       "      <td>0</td>\n",
       "    </tr>\n",
       "    <tr>\n",
       "      <th>plato</th>\n",
       "      <td>8</td>\n",
       "      <td>0</td>\n",
       "      <td>0</td>\n",
       "      <td>0</td>\n",
       "      <td>0</td>\n",
       "      <td>0</td>\n",
       "      <td>0</td>\n",
       "      <td>0</td>\n",
       "      <td>0</td>\n",
       "      <td>1</td>\n",
       "      <td>0</td>\n",
       "      <td>0</td>\n",
       "    </tr>\n",
       "    <tr>\n",
       "      <th>poe</th>\n",
       "      <td>1</td>\n",
       "      <td>1</td>\n",
       "      <td>0</td>\n",
       "      <td>0</td>\n",
       "      <td>0</td>\n",
       "      <td>0</td>\n",
       "      <td>0</td>\n",
       "      <td>0</td>\n",
       "      <td>0</td>\n",
       "      <td>0</td>\n",
       "      <td>0</td>\n",
       "      <td>0</td>\n",
       "    </tr>\n",
       "    <tr>\n",
       "      <th>shakespeare</th>\n",
       "      <td>4</td>\n",
       "      <td>0</td>\n",
       "      <td>0</td>\n",
       "      <td>0</td>\n",
       "      <td>0</td>\n",
       "      <td>0</td>\n",
       "      <td>0</td>\n",
       "      <td>0</td>\n",
       "      <td>0</td>\n",
       "      <td>1</td>\n",
       "      <td>0</td>\n",
       "      <td>0</td>\n",
       "    </tr>\n",
       "  </tbody>\n",
       "</table>\n",
       "</div>"
      ],
      "text/plain": [
       "col_0        0   1   2   3   4   5   6   7   8   9   10  11\n",
       "author                                                     \n",
       "aristotle     5   0   1   0   0   0   0   0   0   0   0   1\n",
       "burroughs     8   0   0   1   0   0   0   0   0   0   0   0\n",
       "dickens       5   0   0   0   0   1   0   0   0   0   0   0\n",
       "doyle         5   0   0   0   0   1   0   0   0   0   0   1\n",
       "emerson       5   0   0   0   1   0   0   0   1   0   0   0\n",
       "hawthorne     5   0   0   0   0   0   1   1   0   0   1   0\n",
       "irving        5   0   0   0   1   0   0   0   0   0   0   0\n",
       "jefferson     4   0   0   1   0   0   0   0   0   0   0   0\n",
       "kant          3   1   0   0   0   0   0   0   0   0   1   0\n",
       "plato         8   0   0   0   0   0   0   0   0   1   0   0\n",
       "poe           1   1   0   0   0   0   0   0   0   0   0   0\n",
       "shakespeare   4   0   0   0   0   0   0   0   0   1   0   0"
      ]
     },
     "execution_count": 26,
     "metadata": {},
     "output_type": "execute_result"
    }
   ],
   "source": [
    "from sklearn.cluster import SpectralClustering\n",
    "\n",
    "n_clusters= 12\n",
    "sc = SpectralClustering(n_clusters=n_clusters)\n",
    "y_pred3 = sc.fit_predict(X_pca)\n",
    "\n",
    "pd.crosstab(y2_train, y_pred3)"
   ]
  },
  {
   "cell_type": "code",
   "execution_count": 27,
   "metadata": {
    "scrolled": true
   },
   "outputs": [
    {
     "name": "stdout",
     "output_type": "stream",
     "text": [
      "Silhouette Score: -0.4337236\n"
     ]
    }
   ],
   "source": [
    "print('Silhouette Score: {:0.7}'.format(silhouette_score(X_pca, y_pred3, metric='euclidean')))"
   ]
  },
  {
   "cell_type": "markdown",
   "metadata": {},
   "source": [
    "The model didn't perform correctly.\n",
    "\n",
    "### Affinity Propagation"
   ]
  },
  {
   "cell_type": "code",
   "execution_count": 28,
   "metadata": {},
   "outputs": [
    {
     "name": "stdout",
     "output_type": "stream",
     "text": [
      "Number of estimated clusters: 10\n"
     ]
    },
    {
     "data": {
      "text/html": [
       "<div>\n",
       "<style scoped>\n",
       "    .dataframe tbody tr th:only-of-type {\n",
       "        vertical-align: middle;\n",
       "    }\n",
       "\n",
       "    .dataframe tbody tr th {\n",
       "        vertical-align: top;\n",
       "    }\n",
       "\n",
       "    .dataframe thead th {\n",
       "        text-align: right;\n",
       "    }\n",
       "</style>\n",
       "<table border=\"1\" class=\"dataframe\">\n",
       "  <thead>\n",
       "    <tr style=\"text-align: right;\">\n",
       "      <th>col_0</th>\n",
       "      <th>0</th>\n",
       "      <th>1</th>\n",
       "      <th>2</th>\n",
       "      <th>3</th>\n",
       "      <th>4</th>\n",
       "      <th>5</th>\n",
       "      <th>6</th>\n",
       "      <th>7</th>\n",
       "      <th>8</th>\n",
       "      <th>9</th>\n",
       "    </tr>\n",
       "    <tr>\n",
       "      <th>author</th>\n",
       "      <th></th>\n",
       "      <th></th>\n",
       "      <th></th>\n",
       "      <th></th>\n",
       "      <th></th>\n",
       "      <th></th>\n",
       "      <th></th>\n",
       "      <th></th>\n",
       "      <th></th>\n",
       "      <th></th>\n",
       "    </tr>\n",
       "  </thead>\n",
       "  <tbody>\n",
       "    <tr>\n",
       "      <th>aristotle</th>\n",
       "      <td>0</td>\n",
       "      <td>0</td>\n",
       "      <td>1</td>\n",
       "      <td>1</td>\n",
       "      <td>0</td>\n",
       "      <td>0</td>\n",
       "      <td>2</td>\n",
       "      <td>2</td>\n",
       "      <td>1</td>\n",
       "      <td>0</td>\n",
       "    </tr>\n",
       "    <tr>\n",
       "      <th>burroughs</th>\n",
       "      <td>3</td>\n",
       "      <td>0</td>\n",
       "      <td>0</td>\n",
       "      <td>0</td>\n",
       "      <td>3</td>\n",
       "      <td>0</td>\n",
       "      <td>0</td>\n",
       "      <td>3</td>\n",
       "      <td>0</td>\n",
       "      <td>0</td>\n",
       "    </tr>\n",
       "    <tr>\n",
       "      <th>dickens</th>\n",
       "      <td>1</td>\n",
       "      <td>0</td>\n",
       "      <td>0</td>\n",
       "      <td>1</td>\n",
       "      <td>2</td>\n",
       "      <td>0</td>\n",
       "      <td>1</td>\n",
       "      <td>1</td>\n",
       "      <td>0</td>\n",
       "      <td>0</td>\n",
       "    </tr>\n",
       "    <tr>\n",
       "      <th>doyle</th>\n",
       "      <td>1</td>\n",
       "      <td>0</td>\n",
       "      <td>2</td>\n",
       "      <td>1</td>\n",
       "      <td>3</td>\n",
       "      <td>0</td>\n",
       "      <td>0</td>\n",
       "      <td>0</td>\n",
       "      <td>0</td>\n",
       "      <td>0</td>\n",
       "    </tr>\n",
       "    <tr>\n",
       "      <th>emerson</th>\n",
       "      <td>2</td>\n",
       "      <td>0</td>\n",
       "      <td>0</td>\n",
       "      <td>3</td>\n",
       "      <td>0</td>\n",
       "      <td>0</td>\n",
       "      <td>0</td>\n",
       "      <td>2</td>\n",
       "      <td>0</td>\n",
       "      <td>0</td>\n",
       "    </tr>\n",
       "    <tr>\n",
       "      <th>hawthorne</th>\n",
       "      <td>1</td>\n",
       "      <td>0</td>\n",
       "      <td>0</td>\n",
       "      <td>1</td>\n",
       "      <td>0</td>\n",
       "      <td>0</td>\n",
       "      <td>0</td>\n",
       "      <td>6</td>\n",
       "      <td>0</td>\n",
       "      <td>0</td>\n",
       "    </tr>\n",
       "    <tr>\n",
       "      <th>irving</th>\n",
       "      <td>2</td>\n",
       "      <td>0</td>\n",
       "      <td>1</td>\n",
       "      <td>1</td>\n",
       "      <td>0</td>\n",
       "      <td>0</td>\n",
       "      <td>0</td>\n",
       "      <td>2</td>\n",
       "      <td>0</td>\n",
       "      <td>0</td>\n",
       "    </tr>\n",
       "    <tr>\n",
       "      <th>jefferson</th>\n",
       "      <td>1</td>\n",
       "      <td>1</td>\n",
       "      <td>0</td>\n",
       "      <td>1</td>\n",
       "      <td>1</td>\n",
       "      <td>0</td>\n",
       "      <td>0</td>\n",
       "      <td>1</td>\n",
       "      <td>0</td>\n",
       "      <td>0</td>\n",
       "    </tr>\n",
       "    <tr>\n",
       "      <th>kant</th>\n",
       "      <td>1</td>\n",
       "      <td>0</td>\n",
       "      <td>0</td>\n",
       "      <td>0</td>\n",
       "      <td>1</td>\n",
       "      <td>0</td>\n",
       "      <td>0</td>\n",
       "      <td>2</td>\n",
       "      <td>0</td>\n",
       "      <td>1</td>\n",
       "    </tr>\n",
       "    <tr>\n",
       "      <th>plato</th>\n",
       "      <td>1</td>\n",
       "      <td>1</td>\n",
       "      <td>2</td>\n",
       "      <td>1</td>\n",
       "      <td>2</td>\n",
       "      <td>0</td>\n",
       "      <td>0</td>\n",
       "      <td>2</td>\n",
       "      <td>0</td>\n",
       "      <td>0</td>\n",
       "    </tr>\n",
       "    <tr>\n",
       "      <th>poe</th>\n",
       "      <td>1</td>\n",
       "      <td>0</td>\n",
       "      <td>0</td>\n",
       "      <td>0</td>\n",
       "      <td>0</td>\n",
       "      <td>0</td>\n",
       "      <td>0</td>\n",
       "      <td>1</td>\n",
       "      <td>0</td>\n",
       "      <td>0</td>\n",
       "    </tr>\n",
       "    <tr>\n",
       "      <th>shakespeare</th>\n",
       "      <td>0</td>\n",
       "      <td>0</td>\n",
       "      <td>0</td>\n",
       "      <td>0</td>\n",
       "      <td>1</td>\n",
       "      <td>1</td>\n",
       "      <td>0</td>\n",
       "      <td>2</td>\n",
       "      <td>0</td>\n",
       "      <td>1</td>\n",
       "    </tr>\n",
       "  </tbody>\n",
       "</table>\n",
       "</div>"
      ],
      "text/plain": [
       "col_0        0  1  2  3  4  5  6  7  8  9\n",
       "author                                   \n",
       "aristotle    0  0  1  1  0  0  2  2  1  0\n",
       "burroughs    3  0  0  0  3  0  0  3  0  0\n",
       "dickens      1  0  0  1  2  0  1  1  0  0\n",
       "doyle        1  0  2  1  3  0  0  0  0  0\n",
       "emerson      2  0  0  3  0  0  0  2  0  0\n",
       "hawthorne    1  0  0  1  0  0  0  6  0  0\n",
       "irving       2  0  1  1  0  0  0  2  0  0\n",
       "jefferson    1  1  0  1  1  0  0  1  0  0\n",
       "kant         1  0  0  0  1  0  0  2  0  1\n",
       "plato        1  1  2  1  2  0  0  2  0  0\n",
       "poe          1  0  0  0  0  0  0  1  0  0\n",
       "shakespeare  0  0  0  0  1  1  0  2  0  1"
      ]
     },
     "execution_count": 28,
     "metadata": {},
     "output_type": "execute_result"
    }
   ],
   "source": [
    "from sklearn.cluster import AffinityPropagation\n",
    "\n",
    "af = AffinityPropagation(damping=0.5, max_iter=550, copy=False)\n",
    "y_pred4 = af.fit_predict(X_pca)\n",
    "\n",
    "cluster_centers_indices = af.cluster_centers_indices_\n",
    "n_clusters = len(cluster_centers_indices)\n",
    "print('Number of estimated clusters: {}'.format(n_clusters))\n",
    "\n",
    "pd.crosstab(y2_train, y_pred4)"
   ]
  },
  {
   "cell_type": "code",
   "execution_count": 29,
   "metadata": {},
   "outputs": [
    {
     "name": "stdout",
     "output_type": "stream",
     "text": [
      "Silhouette Score: 0.4256587\n"
     ]
    }
   ],
   "source": [
    "print('Silhouette Score: {:0.7}'.format(silhouette_score(X_pca, y_pred4, metric='euclidean')))"
   ]
  },
  {
   "cell_type": "markdown",
   "metadata": {},
   "source": [
    "Affinity Propagation, didn't perform very well, hence I will use the k-means clusters as additional features."
   ]
  },
  {
   "cell_type": "code",
   "execution_count": 30,
   "metadata": {
    "collapsed": true
   },
   "outputs": [],
   "source": [
    "X2_train_c = pd.DataFrame(X_pca)\n",
    "X2_train_c['kmeans_clust'] = y_pred"
   ]
  },
  {
   "cell_type": "markdown",
   "metadata": {},
   "source": [
    "## Latent Semantic Analysis\n",
    "\n",
    "We will now use LSA to optmize our script. LSA is a dimension reduction technique that run on the tf-idf matrix."
   ]
  },
  {
   "cell_type": "code",
   "execution_count": 31,
   "metadata": {},
   "outputs": [
    {
     "name": "stdout",
     "output_type": "stream",
     "text": [
      "Percent variance captured by all components: 99.9987843957\n",
      "Component 0:\n",
      "full_text\n",
      "this outcry saluting herkimer's ears as he was about to enter the iron gate of the elliston mansion made him pause. it was not without a shudder that he found himself on the point of meeting his former acquaintance whom he had known in the glory of youth and whom now after an interval of five years he was to find the victim either of a diseased fancy or a horrible physical misfortune. a snake in his bosom repeated the young sculptor to himself. it must be he. no second man on earth has such a bosom-friend and now my poor rosina heaven grant me wisdom to discharge my errand aright woman's faith must be strong indeed since thine has not yet failed. thus musing he took his stand at the entrance of the gate and waited until the personage so singularly announced should make his appearance. after an instant or two he beheld the figure of a lean man of unwholesome look with glittering eyes and long black hair who seemed to imitate the motion of a snake; for instead of walking straight forward with open front he undulated along the pavement in a curved line. it may be too fanciful to say that something either in his moral or material aspect suggested the idea that a miracle had been wrought by transforming a serpent into a man; but so imperfectly that the snaky nature was yet hidden and scarcely hidden under the mere outward guise of humanity. herkimer remarked that his complexion had a greenish tinge over its sickly white reminding him of a species of marble out of which he had once wrought a head of envy with her snaky locks. the wretched being approached the gate but instead of entering stopt short and fixed the glitter of his eye full upon the compassionate yet steady countenance of the sculptor. it gnaws me it gnaws me he exclaimed. and then there was an audible hiss but whether it came from the apparent lunatic's own lips or was the real hiss of a serpent might admit of discussion. at all events it made herkimer shudder to his heart's core. .                                                                                                                                                                                                                                                                                                                                                                                                                                                                                                                                                                                                                                                                                                                                                                                                                                                                                                                                                                                                                                                                                                                                                                                                                                                                                                                                                                                                                                                                                                                                                                                                                                                                                                                                                                                                                                                                                                                                                                                                                                                                                                                                                                                                                                                                                                                                                                                                                                                                                                                                                                                                                                                                                                                                                                                                                                                                                                                                                                                                                                                                                                                                                                                                                                                                                                                                                                                                                                                                                                                                                                                                                                                                                                                                                                                                                                                                                                                                                                                                                                                                                                                                                                                                                                                                                                                                                                                                                                                                                                                                                                                                                                                                                                                                                                                                                                                                                                                                                                                                                                                                                                                                                                                                                                                                                                                                                                                                                                                                                                                                                                                                                                                                                                                                                                                                                                                                                                                                                                                                                                                           0.999972\n",
      "the entire affair is shrouded in mystery said d'arnot. i have it on the best of authority that neither the police nor the special agents of the general staff have the faintest conception of how it was accomplished. all they know all that anyone knows is that nikolas rokoff has escaped. john clayton lord greystoke he who had been tarzan of the apes sat in silence in the apartments of his friend lieutenant paul d'arnot in paris gazing meditatively at the toe of his immaculate boot. his mind revolved many memories recalled by the escape of his arch-enemy from the french military prison to which he had been sentenced for life upon the testimony of the ape-man. he thought of the lengths to which rokoff had once gone to compass his death and he realized that what the man had already done would doubtless be as nothing by comparison with what he would wish and plot to do now that he was again free. tarzan had recently brought his wife and infant son to london to escape the discomforts and dangers of the rainy season upon their vast estate in uziri the land of the savage waziri warriors whose broad african domains the ape-man had once ruled. he had run across the channel for a brief visit with his old friend but the news of the russian's escape had already cast a shadow upon his outing so that though he had but just arrived he was already contemplating an immediate return to london. it is not that i fear for myself paul he said at last. many times in the past have i thwarted rokoff's designs upon my life; but now there are others to consider. unless i misjudge the man he would more quickly strike at me through my wife or son than directly at me for he doubtless realizes that in no other way could he inflict greater anguish upon me. i must go back to them at once and remain with them until rokoff is recaptured or dead. as these two talked in paris two other men were talking together in a little cottage upon the outskirts of london. both were dark sinister-looking men.                                                                                                                                                                                                                                                                                                                                                                                                                                                                                                                                                                                                                                                                                                                                                                                                                                                                                                                                                                                                                                                                                                                                                                                                                                                                                                                                                                                                                                                                                                                                                                                                                                                                                                                                                                                                                                                                                                                                                                                                                                                                                                                                                                                                                                                                                                                                                                                                                                                                                                                                                                                                                                                                                                                                                                                                                                                                                                                                                                                                                                                                                                                                                                                                                                                                                                                                                                                                                                                                                                                                                                                                                                                                                                                                                                                                                                                                                                                                                                                                                                                                                                                                                                                                                                                                                                                                                                                                                                                                                                                                                                                                                                                                                                                                                                                                                                                                                                                                                                                                                                                                                                                                                                                                                                                                                                                                                                                                                                                                                                                                                                                                                                                                                                                                                                                                                                                                                                                                                                                                                                         0.999904\n",
      "o some drunken man i suppose answered the lime-burner; some merry fellow from the bar-room in the village who dared not laugh loud enough within doors lest he should blow the roof of the house off. so here he is shaking his jolly sides at the foot of gray-lock. but father said the child more sensitive than the obtuse middle-aged clown he does not laugh like a man that is glad. so the noise frightens me don't be a fool child cried his father gruffly. you will never make a man i do believe; there is too much of your mother in you. i have known the rustling of a leaf startle you. hark here comes the merry fellow now. you shall see that there is no harm in him. bartram and his little son while they were talking thus sat watching the same lime-kiln that had been the scene of ethan brand's solitary and meditative life before he began his search for the unpardonable sin. many years as we have seen had now elapsed since that portentous night when the idea was first developed. the kiln however on the mountain-side stood unimpaired and was in nothing changed since he had thrown his dark thoughts into the intense glow of its furnace and melted them as it were into the one thought that took possession of his life. it was a rude round tower-like structure about twenty feet high heavily built of rough stones and with a hillock of earth heaped about the larger part of its circumference; so that the blocks and fragments of marble might be drawn by cart-loads and thrown in at the top. there was an opening at the bottom of the tower like an oven-mouth but large enough to admit a man in a stooping posture and provided with a massive iron door. with the smoke and jets of flame issuing from the chinks and crevices of this door which seemed to give admittance into the hill-side it resembled nothing so much as the private entrance to the infernal regions which the shepherds of the delectable mountains were accustomed to show to pilgrims.                                                                                                                                                                                                                                                                                                                                                                                                                                                                                                                                                                                                                                                                                                                                                                                                                                                                                                                                                                                                                                                                                                                                                                                                                                                                                                                                                                                                                                                                                                                                                                                                                                                                                                                                                                                                                                                                                                                                                                                                                                                                                                                                                                                                                                                                                                                                                                                                                                                                                                                                                                                                                                                                                                                                                                                                                                                                                                                                                                                                                                                                                                                                                                                                                                                                                                                                                                                                                                                                                                                                                                                                                                                                                                                                                                                                                                                                                                                                                                                                                                                                                                                                                                                                                                                                                                                                                                                                                                                                                                                                                                                                                                                                                                                                                                                                                                                                                                                                                                                                                                                                                                                                                                                                                                                                                                                                                                                                                                                                                                                                                                                                                                                                                                                                                                                                                                                                                                                                                                                                                                                                                     0.999855\n",
      "ancient greek philosophy was divided into three sciences: physics ethics and logic. this division is perfectly suitable to the nature of the thing; and the only improvement that can be made in it is to add the principle on which it is based so that we may both satisfy ourselves of its completeness and also be able to determine correctly the necessary subdivisions. all rational knowledge is either material or formal: the former considers some object the latter is concerned only with the form of the understanding and of the reason itself and with the universal laws of thought in general without distinction of its objects. formal philosophy is called logic. material philosophy however has to do with determinate objects and the laws to which they are subject is again twofold; for these laws are either laws of nature or of freedom. the science of the former is physics that of the latter ethics; they are also called natural philosophy and moral philosophy respectively. logic cannot have any empirical part; that is a part in which the universal and necessary laws of thought should rest on grounds taken from experience; otherwise it would not be logic i.e. a canon for the understanding or the reason valid for all thought and capable of demonstration. natural and moral philosophy on the contrary can each have their empirical part since the former has to determine the laws of nature as an object of experience; the latter the laws of the human will so far as it is affected by nature: the former however being laws according to which everything does happen; the latter laws according to which everything ought to happen. ethics however must also consider the conditions under which what ought to happen frequently does not. .                                                                                                                                                                                                                                                                                                                                                                                                                                                                                                                                                                                                                                                                                                                                                                                                                                                                                                                                                                                                                                                                                                                                                                                                                                                                                                                                                                                                                                                                                                                                                                                                                                                                                                                                                                                                                                                                                                                                                                                                                                                                                                                                                                                                                                                                                                                                                                                                                                                                                                                                                                                                                                                                                                                                                                                                                                                                                                                                                                                                                                                                                                                                                                                                                                                                                                                                                                                                                                                                                                                                                                                                                                                                                                                                                                                                                                                                                                                                                                                                                                                                                                                                                                                                                                                                                                                                                                                                                                                                                                                                                                                                                                                                                                                                                                                                                                                                                                                                                                                                                                                                                                                                                                                                                                                                                                                                                                                                                                                                                                                                                                                                                                                                                                                                                                                                                                                                                                                                                                                                                                                                                                                                                                                                                                                                                                       0.999852\n",
      "the long boat of the marjorie w. was floating down the broad ugambi with ebb tide and current. her crew were lazily enjoying this respite from the arduous labor of rowing up stream. three miles below them lay the marjorie w. herself quite ready to sail so soon as they should have clambered aboard and swung the long boat to its davits. presently the attention of every man was drawn from his dreaming or his gossiping to the northern bank of the river. there screaming at them in a cracked falsetto and with skinny arms outstretched stood a strange apparition of a man. wot the 'ell ejaculated one of the crew. a white man muttered the mate and then: man the oars boys and we'll just pull over an' see what he wants. when they came close to the shore they saw an emaciated creature with scant white locks tangled and matted. the thin bent body was naked but for a loin cloth. tears were rolling down the sunken pock-marked cheeks. the man jabbered at them in a strange tongue. rooshun hazarded the mate. savvy english he called to the man. he did and in that tongue brokenly and haltingly as though it had been many years since he had used it he begged them to take him with them away from this awful country. once on board the marjorie w. the stranger told his rescuers a pitiful tale of privation hardships and torture extending over a period of ten years. how he happened to have come to africa he did not tell them leaving them to assume he had forgotten the incidents of his life prior to the frightful ordeals that had wrecked him mentally and physically. he did not even tell them his true name and so they knew him only as michael sabrov nor was there any resemblance between this sorry wreck and the virile though unprincipled alexis paulvitch of old. it had been ten years since the russian had escaped the fate of his friend the arch-fiend rokoff and not once but many times during those ten years had paulvitch cursed the fate that had given to nicholas rokoff death and immunity from suffering while it had meted to him the hideous terrors of an existence infinitely worse than the death that persistently refused to claim him.                                                                                                                                                                                                                                                                                                                                                                                                                                                                                                                                                                                                                                                                                                                                                                                                                                                                                                                                                                                                                                                                                                                                                                                                                                                                                                                                                                                                                                                                                                                                                                                                                                                                                                                                                                                                                                                                                                                                                                                                                                                                                                                                                                                                                                                                                                                                                                                                                                                                                                                                                                                                                                                                                                                                                                                                                                                                                                                                                                                                                                                                                                                                                                                                                                                                                                                                                                                                                                                                                                                                                                                                                                                                                                                                                                                                                                                                                                                                                                                                                                                                                                                                                                                                                                                                                                                                                                                                                                                                                                                                                                                                                                                                                                                                                                                                                                                                                                                                                                                                                                                                                                                                                                                                                                                                                                                                                                                                                                                                                                                                                                                                                                                                                                                                                                                                                                                                                    0.999849\n",
      "lieutenant albert werper had only the prestige of the name he had dishonored to thank for his narrow escape from being cashiered. at first he had been humbly thankful too that they had sent him to this godforsaken congo post instead of court-martialing him as he had so justly deserved; but now six months of the monotony the frightful isolation and the loneliness had wrought a change. the young man brooded continually over his fate. his days were filled with morbid self-pity which eventually engendered in his weak and vacillating mind a hatred for those who had sent him here for the very men he had at first inwardly thanked for saving him from the ignominy of degradation. he regretted the gay life of brussels as he never had regretted the sins which had snatched him from that gayest of capitals and as the days passed he came to center his resentment upon the representative in congo land of the authority which had exiled him his captain and immediate superior. this officer was a cold taciturn man inspiring little love in those directly beneath him yet respected and feared by the black soldiers of his little command. werper was accustomed to sit for hours glaring at his superior as the two sat upon the veranda of their common quarters smoking their evening cigarets in a silence which neither seemed desirous of breaking. the senseless hatred of the lieutenant grew at last into a form of mania. the captain's natural taciturnity he distorted into a studied attempt to insult him because of his past shortcomings. he imagined that his superior held him in contempt and so he chafed and fumed inwardly until one evening his madness became suddenly homicidal. he fingered the butt of the revolver at his hip his eyes narrowed and his brows contracted. at last he spoke. you have insulted me for the last time he cried springing to his feet. i am an officer and a gentleman and i shall put up with it no longer without an accounting from you you pig. the captain an expression of surprise upon his features turned toward his junior. he had seen men before with the jungle madness upon them the madness of solitude and unrestrained brooding and perhaps a touch of fever.                                                                                                                                                                                                                                                                                                                                                                                                                                                                                                                                                                                                                                                                                                                                                                                                                                                                                                                                                                                                                                                                                                                                                                                                                                                                                                                                                                                                                                                                                                                                                                                                                                                                                                                                                                                                                                                                                                                                                                                                                                                                                                                                                                                                                                                                                                                                                                                                                                                                                                                                                                                                                                                                                                                                                                                                                                                                                                                                                                                                                                                                                                                                                                                                                                                                                                                                                                                                                                                                                                                                                                                                                                                                                                                                                                                                                                                                                                                                                                                                                                                                                                                                                                                                                                                                                                                                                                                                                                                                                                                                                                                                                                                                                                                                                                                                                                                                                                                                                                                                                                                                                                                                                                                                                                                                                                                                                                                                                                                                                                                                                                                                                                                                                                                                                                                                                                          0.999830\n",
      "king john bear mine to him and so depart in peace: be thou as lightning in the eyes of france; for ere thou canst report i will be there the thunder of my cannon shall be heard: so hence be thou the trumpet of our wrath and sullen presage of your own decay. an honourable conduct let him have: pembroke look to 't. farewell chatillon. [exeunt chatillon and pembroke] queen elinor what now my son have i not ever said how that ambitious constance would not cease till she had kindled france and all the world upon the right and party of her son this might have been prevented and made whole with very easy arguments of love which now the manage of two kingdoms must with fearful bloody issue arbitrate. king john our strong possession and our right for us. queen elinor your strong possession much more than your right or else it must go wrong with you and me: so much my conscience whispers in your ear which none but heaven and you and i shall hear. [enter a sheriff] essex my liege here is the strangest controversy come from country to be judged by you that e'er i heard: shall i produce the men king john let them approach. our abbeys and our priories shall pay this expedition's charge. [enter robert and the bastard] what men are you bastard your faithful subject i a gentleman born in northamptonshire and eldest son as i suppose to robert faulconbridge a soldier by the honour-giving hand of coeur-de-lion knighted in the field. king john what art thou robert the son and heir to that same faulconbridge. king john is that the elder and art thou the heir you came not of one mother then it seems. bastard most certain of one mother mighty king; that is well known; and as i think one father: but for the certain knowledge of that truth i put you o'er to heaven and to my mother: of that i doubt as all men's children may. queen elinor out on thee rude man thou dost shame thy mother and wound her honour with this diffidence. bastard i madam no i have no reason for it; that is my brother's plea and none of mine; the which if he can prove a' pops me out at least from fair five hundred pound a year: heaven guard my mother's honour and my land king john a good blunt fellow. why being younger born doth he lay claim to thine inheritance bastard i know not why except to get the land. but once he slander'd me with bastardy: but whether i be as true begot or no that still i lay upon my mother's head but that i am as well begot my liege fair fall the bones that took the pains for me compare our faces and be judge yourself. if old sir robert did beget us both and were our father and this son like him o old sir robert father on my knee i give heaven thanks i was not like to thee king john why what a madcap hath heaven lent us here queen elinor he hath a trick of coeur-de-lion's face; the accent of his tongue affecteth him. do you not read some tokens of my son in the large composition of this man king john mine eye hath well examined his parts and finds them perfect richard. sirrah speak what doth move you to claim your brother's land bastard because he hath a half-face like my father. with half that face would he have all my land: a half-faced groat five hundred pound a year robert my gracious liege when that my father lived your brother did employ my father much bastard well sir by this you cannot get my land: your tale must be how he employ'd my mother. robert and once dispatch'd him in an embassy to germany there with the emperor to treat of high affairs touching that time. the advantage of his absence took the king and in the mean time sojourn'd at my father's; where how he did prevail i shame to speak but truth is truth: large lengths of seas and shores between my father and my mother lay as i have heard my father speak himself when this same lusty gentleman was got. upon his death-bed he by will bequeath'd his lands to me and took it on his death that this my mother's son was none of his; and if he were he came into the world full fourteen weeks before the course of time. then good my liege let me have what is mine my father's land as was my father's will. king john sirrah your brother is legitimate; your father's wife did after wedlock bear him and if she did play false the fault was hers; which fault lies on the hazards of all husbands that marry wives. tell me how if my brother who as you say took pains to get this son had of your father claim'd this son for his in sooth good friend your father might have kept this calf bred from his cow from all the world; in sooth he might; then if he were my brother's my brother might not claim him; nor your father being none of his refuse him: this concludes; my mother's son did get your father's heir; your father's heir must have your father's land. bastard o i am scalded with my violent motion and spleen of speed to see your majesty king john o cousin thou art come to set mine eye: the tackle of my heart is crack'd and burn'd and all the shrouds wherewith my life should sail are turned to one thread one little hair: my heart hath one poor string to stay it by which holds but till thy news be uttered; and then all this thou seest is but a clod and module of confounded royalty. bastard the dauphin is preparing hitherward where heaven he knows how we shall answer him; for in a night the best part of my power as i upon advantage did remove were in the washes all unwarily devoured by the unexpected flood. [king john dies] salisbury you breathe these dead news in as dead an ear. my liege my lord but now a king now thus. prince henry even so must i run on and even so stop. what surety of the world what hope what stay when this was now a king and now is clay bastard art thou gone so i do but stay behind to do the office for thee of revenge and then my soul shall wait on thee to heaven as it on earth hath been thy servant still. now now you stars that move in your right spheres where be your powers show now your mended faiths and instantly return with me again to push destruction and perpetual shame out of the weak door of our fainting land. straight let us seek or straight we shall be sought; the dauphin rages at our very heels. salisbury it seems you know not then so much as we: the cardinal pandulph is within at rest who half an hour since came from the dauphin and brings from him such offers of our peace as we with honour and respect may take with purpose presently to leave this war. bastard he will the rather do it when he sees ourselves well sinewed to our defence. salisbury nay it is in a manner done already; for many carriages he hath dispatch'd to the sea-side and put his cause and quarrel to the disposing of the cardinal: with whom yourself myself and other lords if you think meet this afternoon will post to consummate this business happily. bastard let it be so: and you my noble prince with other princes that may best be spared shall wait upon your father's funeral. prince henry at worcester must his body be interr'd; for so he will'd it. bastard thither shall it then: and happily may your sweet self put on the lineal state and glory of the land to whom with all submission on my knee i do bequeath my faithful services and true subjection everlastingly. salisbury and the like tender of our love we make to rest without a spot for evermore. prince henry i have a kind soul that would give you thanks and knows not how to do it but with tears. bastard o let us pay the time but needful woe since it hath been beforehand with our griefs. this england never did nor never shall lie at the proud foot of a conqueror but when it first did help to wound itself. now these her princes are come home again come the three corners of the world in arms and we shall shock them. nought shall make us rue if england to itself do rest but true. [exeunt]    0.999807\n",
      "mr. sherlock holmes who was usually very late in the mornings save upon those not infrequent occasions when he was up all night was seated at the breakfast table. i stood upon the hearth-rug and picked up the stick which our visitor had left behind him the night before. it was a fine thick piece of wood bulbous-headed of the sort which is known as a penang law- yer. just under the head was a broad silver band nearly an inch across. to james mortimer m.r.c.s. from his friends of the c.c.h. was engraved upon it with the date . it was just such a stick as the old-fashioned family practitioner used to carry dignified solid and reassuring. well watson what do you make of it holmes was sitting with his back to me and i had given him no sign of my occupation. how did you know what i was doing i believe you have eyes in the back of your head. i have at least a well-polished silver-plated coffee-pot in front of me said he. but tell me watson what do you make of our visitor's stick since we have been so unfortunate as to miss him and have no notion of his errand this accidental souvenir becomes of importance. let me hear you reconstruct the man by an examination of it. i think said i following as far as i could the methods of my companion that dr. mortimer is a successful elderly medical man well-esteemed since those who know him give him this mark of their appreciation. good said holmes. excellent i think also that the probability is in favour of his being a country practitioner who does a great deal of his visiting on foot.                                                                                                                                                                                                                                                                                                                                                                                                                                                                                                                                                                                                                                                                                                                                                                                                                                                                                                                                                                                                                                                                                                                                                                                                                                                                                                                                                                                                                                                                                                                                                                                                                                                                                                                                                                                                                                                                                                                                                                                                                                                                                                                                                                                                                                                                                                                                                                                                                                                                                                                                                                                                                                                                                                                                                                                                                                                                                                                                                                                                                                                                                                                                                                                                                                                                                                                                                                                                                                                                                                                                                                                                                                                                                                                                                                                                                                                                                                                                                                                                                                                                                                                                                                                                                                                                                                                                                                                                                                                                                                                                                                                                                                                                                                                                                                                                                                                                                                                                                                                                                                                                                                                                                                                                                                                                                                                                                                                                                                                                                                                                                                                                                                                                                                                                                                                                                                                                                                                                                                                                                                                                                                                                                                                                                                                                                                                                                                                                                                                                                                            0.999785\n",
      "this question may be said to be about as embarrassing to the jurist as the well-known question what is truth is to the logician. it is all the more so if on reflection he strives to avoid tautology in his reply and recognise the fact that a reference to what holds true merely of the laws of some one country at a particular time is not a solution of the general problem thus proposed. it is quite easy to state what may be right in particular cases (quid sit juris) as being what the laws of a certain place and of a certain time say or may have said; but it is much more difficult to determine whether what they have enacted is right in itself and to lay down a universal criterion by which right and wrong in general and what is just and unjust may be recognised. all this may remain entirely hidden even from the practical jurist until he abandon his empirical principles for a time and search in the pure reason for the sources of such judgements in order to lay a real foundation for actual positive legislation. in this search his empirical laws may indeed furnish him with excellent guidance; but a merely empirical system that is void of rational principles is like the wooden head in the fable of phaedrus fine enough in appearance but unfortunately it wants brain. . the conception of right- as referring to a corresponding obligation which is the moral aspect of it- in the first place has regard only to the external and practical relation of one person to another in so far as they can have influence upon each other immediately or mediately by their actions as facts. . in the second place the conception of right does not indicate the relation of the action of an individual to the wish or the mere desire of another as in acts of benevolence or of unkindness but only the relation of his free action to the freedom of action of the other. . and in the third place in this reciprocal relation of voluntary actions the conception of right does not take into consideration the matter of the matter of the act of will in so far as the end which any one may have in view in willing it is concerned. in other words it is not asked in a question of right whether any one on buying goods for his own business realizes a profit by the transaction or not; but only the form of the transaction is taken into account in considering the relation of the mutual acts of will. acts of will or voluntary choice are thus regarded only in so far as they are free and as to whether the action of one can harmonize with the freedom of another according to a universal law. state of nature every state is judge in its own cause it is one whose publicly expressed will whether in word or deed betrays a maxim which if it were taken as a universal rule would make a state of peace among the nations impossible and would necessarily perpetuate the state of nature. such is the violation of public treaties with regard to which it may be assumed that any such violation concerns all nations by threatening their freedom and that they are thus summoned to unite against such a wrong and to take away the power of committing it. but this does not include the right to partition and appropriate the country so as to make a state as it were disappear from the earth; for this would be an injustice to the people of that state who cannot lose their original right to unite into a commonwealth and to adopt such a new constitution as by its nature would be unfavourable to the inclination for war. further it may be said that the expression an unjust enemy in the state of nature is pleonastic; for the state of nature is itself a state of injustice. a just enemy would be one to whom i would do wrong in offering resistance; but such a one would really not be my enemy. . perpetual peace and a permanent congress of nations. the natural state of nations as well as of individual men is a state which it is a duty to pass out of in order to enter into a legal state. hence before this transition occurs all the right of nations and all the external property of states acquirable or maintainable by war are merely provisory; and they can only become peremptory in a universal union of states analogous to that by which a nation becomes a state. it is thus only that a real state of peace could be established. but with the too great extension of such a union of states over vast regions any government of it and consequently the protection of its individual members must at last become impossible; and thus a multitude of such corporations would again bring round a state of war. hence the perpetual peace which is the ultimate end of all the right of nations becomes in fact an impracticable idea. the political principles however which aim at such an end and which enjoin the formation of such unions among the states as may promote a continuous approximation to a perpetual peace are not impracticable; they are as practicable as this approximation itself which is a practical problem involving a duty and founded upon the right of individual men and states. such a union of states in order to maintain peace may be called a permanent congress of nations; and it is free to every neighbouring state to join in it. a union of this kind so far at least as regards the formalities of the right of nations in respect of the preservation of peace was presented in the first half of this century in the assembly of the states-general at the hague. in this assembly most of the european courts and even the smallest republics brought forward their complaints about the hostilities which were carried on by the one against the other. thus the whole of europe appeared like a single federated state accepted as umpire by the several nations in their public differences. but in place of this agreement the right of nations afterwards survived only in books; it disappeared from the cabinets or after force had been already used it was relegated in the form of theoretical deductions to the obscurity of archives. by such a congress is here meant only a voluntary combination of different states that would be dissoluble at any time and not such a union as is embodied in the united states of america founded upon a political constitution and therefore indissoluble. it is only by a congress of this kind that the idea of a public right of nations can be established and that the settlement of their differences by the mode of a civil process and not by the barbarous means of war can be realized.                                                                                                                                                                                                                                                                                                                                                                                                                                                                                                                                                                                                                                                                                                                                                                                                                                                                                                                                                                                                                                                                                                                                                                                                                                                                                                                                                                        0.999769\n",
      "once upon a time- but whether in the time past or time to come is a matter of little or no moment- this wide world had become so overburthened with an accumulation of worn-out trumpery that the inhabitants determined to rid themselves of it by a general bonfire. the site fixed upon at the representation of the insurance companies and as being as central a spot as any other on the globe was one of the broadest prairies of the west where no human habitation would be endangered by the flames and where a vast assemblage of spectators might commodiously admire the show. having a taste for sights of this kind and imagining likewise that the illumination of the bonfire might reveal some profundity or moral truth heretofore hidden in mist or darkness i made it convenient to journey thither and be present. at my arrival although the heap of condemned rubbish was as yet comparatively small the torch had already been applied. amid that boundless plain in the dusk of the evening like a far-off star alone in the firmament there was merely visible one tremulous gleam whence none could have anticipated so fierce a blaze as was destined to ensue. with every moment however there came foot-travellers women holding up their aprons men on horseback wheelbarrows lumbering baggage wagons and other vehicles great and small and from far and near laden with articles that were judged fit for nothing but to be burnt. what materials have been used to kindle the flame inquired i of a bystander for i was desirous of knowing the whole process of the affair from beginning to end. the person whom i addressed was a grave man fifty years old or thereabout who had evidently come thither as a looker-on; he struck me immediately as having weighed for himself the true value of life and its circumstances and therefore as feeling little personal interest in whatever judgment the world might form of them. before answering my question he looked me in the face by the kindling light of the fire.                                                                                                                                                                                                                                                                                                                                                                                                                                                                                                                                                                                                                                                                                                                                                                                                                                                                                                                                                                                                                                                                                                                                                                                                                                                                                                                                                                                                                                                                                                                                                                                                                                                                                                                                                                                                                                                                                                                                                                                                                                                                                                                                                                                                                                                                                                                                                                                                                                                                                                                                                                                                                                                                                                                                                                                                                                                                                                                                                                                                                                                                                                                                                                                                                                                                                                                                                                                                                                                                                                                                                                                                                                                                                                                                                                                                                                                                                                                                                                                                                                                                                                                                                                                                                                                                                                                                                                                                                                                                                                                                                                                                                                                                                                                                                                                                                                                                                                                                                                                                                                                                                                                                                                                                                                                                                                                                                                                                                                                                                                                                                                                                                                                                                                                                                                                                                                                                                                                                                                                                                                                0.999766\n",
      "Name: 0, dtype: float64\n",
      "Component 1:\n",
      "full_text\n",
      "limits virginia is bounded on the east by the atlantic: on the north by a line of latitude crossing the eastern shore through watkins's point being about degrees.' north latitude; from thence by a streight line to cinquac near the mouth of patowmac; thence by the patowmac which is common to virginia and maryland to the first fountain of its northern branch; thence by a meridian line passing through that fountain till it intersects a line running east and west in latitude degrees.'.. which divides maryland from pennsylvania and which was marked by messrs. mason and dixon; thence by that line and a continuation of it westwardly to the completion of five degrees of longitude from the eastern boundary of pennsylvania in the same latitude and thence by a meridian line to the ohio: on the west by the ohio and missisipi to latitude degrees.'. north: and on the south by the line of latitude last-mentioned. by admeasurements through nearly the whole of this last line and supplying the unmeasured parts from good data the atlantic and missisipi are found in this latitude to be miles distant equal to degrees.'. of longitude reckoning miles and feet to the degree. this being our comprehension of longitude that of our latitude taken between this and mason and dixon's line is degrees.'.. equal to . miles supposing a degree of a great circle to be m. f. as computed by cassini. these boundaries include an area somewhat triangular of square miles whereof lie westward of the allegany mountains and westward of the meridian of the mouth of the great kanhaway. this state is therefore one third larger than the islands of great britain and ireland which are reckoned at square miles. these limits result from . the antient charters from the crown of england. . the grant of maryland to the lord baltimore and the subsequent determinations of the british court as to the extent of that grant. . the grant of pennsylvania to william penn and a compact between the general assemblies of the commonwealths of virginia and pennsylvania as to the extent of that grant. . the grant of carolina and actual location of its northern boundary by consent of both parties. . the treaty of paris of . . the confirmation of the charters of the neighbouring states by the convention of virginia at the time of constituting their commonwealth. . the cession made by virginia to congress of all the lands to which they had title on the north side of the ohio.                                                                                                                                                                                                                                                                                                                                                                                                                                                                                                                                                                                                                                                                                                                                                                                                                                                                                                                                                                                                                                                                                                                                                                                                                                                                                                                                                                                                                                                                                                                                                                                                                                                                                                                                                                                                                                                                                                                                                                                                                                                                                                                                                                                                                                                                                                                                                                                                                                                                                                                                                                                                                                                                                                                                                                                                                                                                                                                                                                                                                                                                                                                                                                                                                                                                                                                                                                                                                                                                                                                                                                                                                                                                0.113007\n",
      "of the parts of animals some are simple: to wit all such as divide into parts uniform with themselves as flesh into flesh; others are composite such as divide into parts not uniform with themselves as for instance the hand does not divide into hands nor the face into faces. and of such as these some are called not parts merely but limbs or members. such are those parts that while entire in themselves have within themselves other diverse parts: as for instance the head foot hand the arm as a whole the chest; for these are all in themselves entire parts and there are other diverse parts belonging to them. all those parts that do not subdivide into parts uniform with themselves are composed of parts that do so subdivide for instance hand is composed of flesh sinews and bones. of animals some resemble one another in all their parts while others have parts wherein they differ. sometimes the parts are identical in form or species as for instance one man's nose or eye resembles another man's nose or eye flesh flesh and bone bone; and in like manner with a horse and with all other animals which we reckon to be of one and the same species: for as the whole is to the whole so each to each are the parts severally. in other cases the parts are identical save only for a difference in the way of excess or defect as is the case in such animals as are of one and the same genus. by 'genus' i mean for instance bird or fish for each of these is subject to difference in respect of its genus and there are many species of fishes and of birds. within the limits of genera most of the parts as a rule exhibit differences through contrast of the property or accident such as colour and shape to which they are subject: in that some are more and some in a less degree the subject of the same property or accident; and also in the way of multitude or fewness magnitude or parvitude in short in the way of excess or defect. thus in some the texture of the flesh is soft in others firm; some have a long bill others a short one; some have abundance of feathers others have only a small quantity. it happens further that some have parts that others have not: for instance some have spurs and others not some have crests and others not; but as a general rule most parts and those that go to make up the bulk of the body are either identical with one another or differ from one another in the way of contrast and of excess and defect. for 'the more' and 'the less' may be represented as 'excess' or 'defect'. once again we may have to do with animals whose parts are neither identical in form nor yet identical save for differences in the way of excess or defect: but they are the same only in the way of analogy as for instance bone is only analogous to fish-bone nail to hoof hand to claw and scale to feather; for what the feather is in a bird the scale is in a fish. the parts then which animals severally possess are diverse from or identical with one another in the fashion above described. and they are so furthermore in the way of local disposition: for many animals have identical organs that differ in position; for instance some have teats in the breast others close to the thighs. of the substances that are composed of parts uniform (or homogeneous) with themselves some are soft and moist others are dry and solid. the soft and moist are such either absolutely or so long as they are in their natural conditions as for instance blood serum lard suet marrow sperm gall milk in such as have it flesh and the like; and also in a different way the superfluities as phlegm and the excretions of the belly and the bladder. the dry and solid are such as sinew skin vein hair bone gristle nail horn (a term which as applied to the part involves an ambiguity since the whole also by virtue of its form is designated horn) and such parts as present an analogy to these. animals differ from one another in their modes of subsistence in their actions in their habits and in their parts. concerning these differences we shall first speak in broad and general terms and subsequently we shall treat of the same with close reference to each particular genus.                                                                                                                                                                                                                                                                                                                                                                                                                                                                                                                                                                                                                                                                                                                                                                                                                                                                                                                                                                                                                                                                                                                                                                                                                                                                                                                                                                                                                                                                                                                                                                                                                                                                                                                                                                                                                                                                                       0.067185\n",
      "king henry the fifth. (king henry v) duke of gloucester (gloucester:) | | brothers to the king. duke of bedford (bedford:) | duke of exeter uncle to the king. (exeter:) duke of york cousin to the king. (york:) earl of salisbury (salisbury:) earl of westmoreland (westmoreland:) earl of warwick (warwick:) bishop of canterbury (canterbury:) bishop of ely (ely:) earl of cambridge (cambridge:) lord scroop (scroop:) sir thomas grey (grey:) sir thomas erpingham (erpingham:) | | gower | | fluellen | officers in king henry's army. | macmorris | | jamy | bates | | court | soldiers in the same. | williams | pistol: nym: bardolph: boy a herald. charles the sixth king of france. (king of france:) (french king:) lewis the dauphin. (dauphin:) duke of burgundy (burgundy:) duke of orleans (orleans:) duke of bourbon (bourbon:) the constable of france. (constable:) rambures | | french lords. grandpre | governor of harfleur. montjoy a french herald. ambassadors to the king of england. isabel queen of france. (queen isabel:) katharine daughter to charles and isabel. alice a lady attending on her. hostess of a tavern in eastcheap formerly mistress quickly and now married to pistol. lords ladies officers soldiers citizens messengers and attendants. chorus. (hostess:) (first ambassador:) (messenger:) (french soldier:) scene england; afterwards france. king henry v prologue [enter chorus] chorus o for a muse of fire that would ascend the brightest heaven of invention a kingdom for a stage princes to act and monarchs to behold the swelling scene then should the warlike harry like himself assume the port of mars; and at his heels leash'd in like hounds should famine sword and fire crouch for employment. but pardon and gentles all the flat unraised spirits that have dared on this unworthy scaffold to bring forth so great an object: can this cockpit hold the vasty fields of france or may we cram within this wooden o the very casques that did affright the air at agincourt o pardon since a crooked figure may attest in little place a million; and let us ciphers to this great accompt on your imaginary forces work. suppose within the girdle of these walls are now confined two mighty monarchies whose high upreared and abutting fronts the perilous narrow ocean parts asunder: piece out our imperfections with your thoughts; into a thousand parts divide on man and make imaginary puissance; think when we talk of horses that you see them printing their proud hoofs i' the receiving earth; for 'tis your thoughts that now must deck our kings carry them here and there; jumping o'er times turning the accomplishment of many years into an hour-glass: for the which supply admit me chorus to this history; who prologue-like your humble patience pray gently to hear kindly to judge our play. [exit] king henry v act i scene i london. an ante-chamber in the king's palace. [enter the archbishop of canterbury and the bishop of ely] canterbury my lord i'll tell you; that self bill is urged which in the eleventh year of the last king's reign was like and had indeed against us pass'd but that the scambling and unquiet time did push it out of farther question. ely but how my lord shall we resist it now canterbury it must be thought on. if it pass against us we lose the better half of our possession: for all the temporal lands which men devout by testament have given to the church would they strip from us; being valued thus: as much as would maintain to the king's honour full fifteen earls and fifteen hundred knights six thousand and two hundred good esquires; and to relief of lazars and weak age of indigent faint souls past corporal toil. a hundred almshouses right well supplied; and to the coffers of the king beside a thousand pounds by the year: thus runs the bill. ely this would drink deep. canterbury 'twould drink the cup and all. ely but what prevention canterbury the king is full of grace and fair regard. ely and a true lover of the holy church. canterbury the courses of his youth promised it not. the breath no sooner left his father's body but that his wildness mortified in him seem'd to die too; yea at that very moment consideration like an angel came and whipp'd the offending adam out of him leaving his body as a paradise to envelop and contain celestial spirits. never was such a sudden scholar made; never came reformation in a flood with such a heady currance scouring faults nor never hydra-headed wilfulness so soon did lose his seat and all at once as in this king. ely we are blessed in the change. canterbury hear him but reason in divinity and all-admiring with an inward wish you would desire the king were made a prelate: hear him debate of commonwealth affairs you would say it hath been all in all his study: list his discourse of war and you shall hear a fearful battle render'd you in music: turn him to any cause of policy the gordian knot of it he will unloose familiar as his garter: that when he speaks the air a charter'd libertine is still and the mute wonder lurketh in men's ears to steal his sweet and honey'd sentences; so that the art and practic part of life must be the mistress to this theoric: which is a wonder how his grace should glean it since his addiction was to courses vain his companies unletter'd rude and shallow his hours fill'd up with riots banquets sports and never noted in him any study any retirement any sequestration from open haunts and popularity. ely the strawberry grows underneath the nettle and wholesome berries thrive and ripen best neighbour'd by fruit of baser quality: and so the prince obscured his contemplation under the veil of wildness; which no doubt grew like the summer grass fastest by night unseen yet crescive in his faculty. canterbury it must be so; for miracles are ceased; and therefore we must needs admit the means how things are perfected. ely but my good lord how now for mitigation of this bill urged by the commons doth his majesty incline to it or no    0.063727\n",
      "those who are esteemed umpires of taste are often persons knowledge of admired pictures or sculptures and have an inclination for whatever is elegant; but if you inquire whether they are beautiful souls and whether their own acts are like fair pictures you learn that they are selfish and sensual. their cultivation is local as if you should rub a log of dry wood in one spot to produce fire all the rest remaining cold. their knowledge of the fine arts is some study of rules and particulars or some limited judgment of color or form which is exercised for amusement or for show. it is a proof of the shallowness of the doctrine of beauty as it lies in the minds of our amateurs that men seem to have lost the perception of the instant dependence of form upon soul. there is no doctrine of forms in our philosophy. we were put into our bodies as fire is put into a pan to be carried about; but there is no accurate adjustment between the spirit and the organ much less is the latter the germination of the former. so in regard to other forms the intellectual men do not believe in any essential dependence of the material world on thought and volition. theologians think it a pretty air-castle to talk of the spiritual meaning of a ship or a cloud of a city or a contract but they prefer to come again to the solid ground of historical evidence; and even the poets are contented with a civil and conformed manner of living and to write poems from the fancy at a safe distance from their own experience. but the highest minds of the world have never ceased to explore the double meaning or shall i say the quadruple or the centuple or much more manifold meaning of every sensuous fact: orpheus empedocles heraclitus plato plutarch dante swedenborg and the masters of sculpture picture and poetry. for we are not pans and barrows nor even porters of the fire and torch-bearers but children of the fire made of it and only the same divinity transmuted and at two or three removes when we know least about it. and this hidden truth that the fountains whence all this river of time and its creatures floweth are intrinsically ideal and beautiful draws us to the consideration of the nature and functions of the poet or the man of beauty to the means and materials he uses and to the general aspect of the art in the present time.                                                                                                                                                                                                                                                                                                                                                                                                                                                                                                                                                                                                                                                                                                                                                                                                                                                                                                                                                                                                                                                                                                                                                                                                                                                                                                                                                                                                                                                                                                                                                                                                                                                                                                                                                                                                                                                                                                                                                                                                                                                                                                                                                                                                                                                                                                                                                                                                                                                                                                                                                                                                                                                                                                                                                                                                                                                                                                                                                                                                                                                                                                                                                                                                                                                                                                                                                                                                                                                                                                                                                                                                                                                                                                                                                                                        0.057728\n",
      "'now what i want is facts. teach these boys and girls nothing but facts. facts alone are wanted in life. plant nothing else and root out everything else. you can only form the minds of reasoning animals upon facts: nothing else will ever be of any service to them. this is the principle on which i bring up my own children and this is the principle on which i bring up these children. stick to facts sir' the scene was a plain bare monotonous vault of a school-room and the speaker's square forefinger emphasized his observations by underscoring every sentence with a line on the schoolmaster's sleeve. the emphasis was helped by the speaker's square wall of a forehead which had his eyebrows for its base while his eyes found commodious cellarage in two dark caves overshadowed by the wall. the emphasis was helped by the speaker's mouth which was wide thin and hard set. the emphasis was helped by the speaker's voice which was inflexible dry and dictatorial. the emphasis was helped by the speaker's hair which bristled on the skirts of his bald head a plantation of firs to keep the wind from its shining surface all covered with knobs like the crust of a plum pie as if the head had scarcely warehouse-room for the hard facts stored inside. the speaker's obstinate carriage square coat square legs square shoulders - nay his very neckcloth trained to take him by the throat with an unaccommodating grasp like a stubborn fact as it was - all helped the emphasis. 'in this life we want nothing but facts sir; nothing but facts' the speaker and the schoolmaster and the third grown person present all backed a little and swept with their eyes the inclined plane of little vessels then and there arranged in order ready to have imperial gallons of facts poured into them until they were full to the brim.                                                                                                                                                                                                                                                                                                                                                                                                                                                                                                                                                                                                                                                                                                                                                                                                                                                                                                                                                                                                                                                                                                                                                                                                                                                                                                                                                                                                                                                                                                                                                                                                                                                                                                                                                                                                                                                                                                                                                                                                                                                                                                                                                                                                                                                                                                                                                                                                                                                                                                                                                                                                                                                                                                                                                                                                                                                                                                                                                                                                                                                                                                                                                                                                                                                                                                                                                                                                                                                                                                                                                                                                                                                                                                                                                                                                                                                                                                                                                                                                                                                                                                                                                                                                                                                                                                                                0.054460\n",
      "characters and manners. even when a mere child i began my travels and made many tours of discovery into foreign parts and unknown regions of my native city to the frequent alarm of my parents and the emolument of the town-crier. as i grew into boyhood i extended the range of my observations. my holiday afternoons were spent in rambles about the surrounding country. i made myself familiar with all its places famous in history or fable. i knew every spot where a murder or robbery had been committed or a ghost seen. i visited the neighboring villages and added greatly to my stock of knowledge by noting their habits and customs and conversing with their sages and great men. i even journeyed one long summer's day to the summit of the most distant hill whence i stretched my eye over many a mile of terra incognita and was astonished to find how vast a globe i inhabited. this rambling propensity strengthened with my years. books of voyages and travels became my passion and in devouring their contents i neglected the regular exercises of the school. how wistfully would i wander about the pier-heads in fine weather and watch the parting ships bound to distant climes- with what longing eyes would i gaze after their lessening sails and waft myself in imagination to the ends of the earth further reading and thinking though they brought this vague inclination into more reasonable bounds only served to make it more decided. i visited various parts of my own country; and had i been merely a lover of fine scenery i should have felt little desire to seek elsewhere its gratification for on no country have the charms of nature been more prodigally lavished. her mighty lakes like oceans of liquid silver; her mountains with their bright aerial tints; her valleys teeming with wild fertility; her tremendous cataracts thundering in their solitudes; her boundless plains waving with spontaneous verdure; her broad deep rivers rolling in solemn silence to the ocean; her trackless forests where vegetation puts forth all its magnificence; her skies kindling with the magic of summer clouds and glorious sunshine;- no never need an american look beyond his own country for the sublime and beautiful of natural scenery.                                                                                                                                                                                                                                                                                                                                                                                                                                                                                                                                                                                                                                                                                                                                                                                                                                                                                                                                                                                                                                                                                                                                                                                                                                                                                                                                                                                                                                                                                                                                                                                                                                                                                                                                                                                                                                                                                                                                                                                                                                                                                                                                                                                                                                                                                                                                                                                                                                                                                                                                                                                                                                                                                                                                                                                                                                                                                                                                                                                                                                                                                                                                                                                                                                                                                                                                                                                                                                                                                                                                                                                                                                                                                                                                                                                                                                                                                               0.047777\n",
      "in this refulgent summer it has been a luxury to draw the breath of life. the grassurst the meadow is spotted with fire and gold in the tint of flowers. the air is full of birds and sweet with the breath of the pine the balm-of-gilead and the new hay. night brings no gloom to the heart with its welcome shade. through the transparent darkness the stars pour their almost spiritual rays. man under them seems a young child and his huge globe a toy. the cool night bathes the world as with a river and prepares his eyes again for the crimson dawn. the mystery of nature was never displayed more happily. the corn and the wine have been freely dealt to all creatures and the never-broken silence with which the old bounty goes forward has not yielded yet one word of explanation. one is constrained to respect the perfection of this world in which our senses converse. how wide; how rich; what invitation from every property it gives to every faculty of man in its fruitful soils; in its navigable sea; in its mountains of metal and stone; in its forests of all woods; in its animals; in its chemical ingredients; in the powers and path of light heat attraction and life it is well worth the pith and heart of great men to subdue and enjoy it. the planters the mechanics the inventors the astronomers the builders of cities and the captains history delights to honor. but when the mind opens and reveals the laws which traverse the universe and make things what they are then shrinks the great world at once into a mere illustration and fable of this mind. what am i and what is asks the human spirit with a curiosity new-kindled but never to be quenched. behold these outrunning laws which our imperfect apprehension can see tend this way and that but not come full circle. behold these infinite relations so like so unlike; many yet one. i would study i would know i would admire forever. these works of thought have been the entertainments of the human spirit in all ages. mirror of the soul; shall see the identity of the law of gravitation with purity of heart; and shall show that the ought that duty is one thing with science with beauty and with joy. .                                                                                                                                                                                                                                                                                                                                                                                                                                                                                                                                                                                                                                                                                                                                                                                                                                                                                                                                                                                                                                                                                                                                                                                                                                                                                                                                                                                                                                                                                                                                                                                                                                                                                                                                                                                                                                                                                                                                                                                                                                                                                                                                                                                                                                                                                                                                                                                                                                                                                                                                                                                                                                                                                                                                                                                                                                                                                                                                                                                                                                                                                                                                                                                                                                                                                                                                                                                                                                                                                                                                                                                                                                                                                                                                                                                                                                                                                                                                                               0.045779\n",
      "when i woke the next morning it seemed as if all the events of the preceding evening had been a dream and nothing but the identity of the ancient chamber convinced me of their reality. while i lay musing on my pillow i heard the sound of little feet pattering outside of the door and a whispering consultation. presently a choir of small voices chanted forth an old christmas carol the burden of which was- rejoice our savior he was born on christmas day in the morning. i rose softly slipt on my clothes opened the door suddenly and beheld one of the most beautiful little fairy groups that a painter could imagine. it consisted of a boy and two girls the eldest not more than six and lovely as seraphs. they were going the rounds of the house and singing at every chamber door; but my sudden appearance frightened them into mute bashfulness. they remained for a moment playing on their lips with their fingers and now and then stealing a shy glance from under their eyebrows until as if by one impulse they scampered away and as they turned an angle of the gallery i heard them laughing in triumph at their escape. every thing conspired to produce kind and happy feelings in this stronghold of old-fashioned hospitality. the window of my chamber looked out upon what in summer would have been a beautiful landscape. there was a sloping lawn a fine stream winding at the foot of it and a track of park beyond with noble clumps of trees and herds of deer. at a distance was a neat hamlet with the smoke from the cottage chimneys hanging over it; and a church with its dark spire in strong relief against the clear cold sky. the house was surrounded with evergreens according to the english custom which would have given almost an appearance of summer; but the morning was extremely frosty; the light vapor of the preceding evening had been precipitated by the cold and covered all the trees and every blade of grass with its fine crystallizations. the rays of a bright morning sun had a dazzling effect among the glittering foliage. a robin perched upon the top of a mountain ash that hung its clusters of red berries just before my window was basking himself in the sunshine and piping a few querulous notes; and a peacock was displaying all the glories of his train and strutting with the pride and gravity of a spanish grandee on the terrace walk below.                                                                                                                                                                                                                                                                                                                                                                                                                                                                                                                                                                                                                                                                                                                                                                                                                                                                                                                                                                                                                                                                                                                                                                                                                                                                                                                                                                                                                                                                                                                                                                                                                                                                                                                                                                                                                                                                                                                                                                                                                                                                                                                                                                                                                                                                                                                                                                                                                                                                                                                                                                                                                                                                                                                                                                                                                                                                                                                                                                                                                                                                                                                                                                                                                                                                                                                                                                                                                                                                                                                                                                                                                                                                                                                                                         0.041895\n",
      "i greet you on the re-commencement of our literary year. our anniversary is one of hope and perhaps not enough of labor. we do not meet for games of strength or skill for the recitation of histories tragedies and odes like the ancient greeks; for parliaments of love and poesy like the troubadours; nor for the advancement of science like our cotemporaries in the british and european capitals. thus far our holiday has been simply a friendly sign of the survival of the love of letters amongst a people too busy to give to letters any more. as such it is precious as the sign of an indestructible instinct. perhaps the time is already come when it ought to be and will be something else; when the sluggard intellect of this continent will look from under its iron lids and fill the postponed expectation of the world with something better than the exertions of mechanical skill. our day of dependence our long apprenticeship to the learning of other lands draws to a close. the millions that around us are rushing into life cannot always be fed on the sere remains of foreign harvests. events actions arise that must be sung that will sing themselves. who can doubt that poetry will revive and lead in a new age as the star in the constellation harp which now flames in our zenith astronomers announce shall one day be the pole-star for a thousand years in this hope i accept the topic which not only usage but the nature of our association seem to prescribe to this day the american scholar. year by year we come up hither to read one more chapter of his biography. let us inquire what light new days and events have thrown on his character and his hopes. it is one of those fables which out of an unknown antiquity convey an unlooked-for wisdom that the gods in the beginning divided man into men that he might be more helpful to himself; just as the hand was divided into fingers the better to answer its end. .                                                                                                                                                                                                                                                                                                                                                                                                                                                                                                                                                                                                                                                                                                                                                                                                                                                                                                                                                                                                                                                                                                                                                                                                                                                                                                                                                                                                                                                                                                                                                                                                                                                                                                                                                                                                                                                                                                                                                                                                                                                                                                                                                                                                                                                                                                                                                                                                                                                                                                                                                                                                                                                                                                                                                                                                                                                                                                                                                                                                                                                                                                                                                                                                                                                                                                                                                                                                                                                                                                                                                                                                                                                                                                                                                                                                                                                                                                                                                                                                                                                                                                                                                                                                                  0.039409\n",
      "nothing in england exercises a more delightful spell over my imagination than the lingerings of the holiday customs and rural games of former times. they recall the pictures my fancy used to draw in the may morning of life when as yet i only knew the world through books and believed it to be all that poets had painted it; and they bring with them the flavor of those honest days of yore in which perhaps with equal fallacy i am apt to think the world was more homebred social and joyous than at present. i regret to say that they are daily growing more and more faint being gradually worn away by time but still more obliterated by modern fashion. they resemble those picturesque morsels of gothic architecture which we see crumbling in various parts of the country partly dilapidated by the waste of ages and partly lost in the additions and alterations of later days. poetry however clings with cherishing fondness about the rural game and holiday revel from which it has derived so many of its themes- as the ivy winds its rich foliage about the gothic arch and mouldering tower gratefully repaying their support by clasping together their tottering remains and as it were embalming them in verdure. of all the old festivals however that of christmas awakens the strongest and most heartfelt associations. there is a tone of solemn and sacred feeling that blends with our conviviality and lifts the spirit to a state of hallowed and elevated enjoyment. the services of the church about this season are extremely tender and inspiring. they dwell on the beautiful story of the origin of our faith and the pastoral scenes that accompanied its announcement. they gradually increase in fervor and pathos during the season of advent until they break forth in full jubilee on the morning that brought peace and good-will to men. i do not know a grander effect of music on the moral feelings than to hear the full choir and the pealing organ performing a christmas anthem in a cathedral and filling every part of the vast pile with triumphant harmony.                                                                                                                                                                                                                                                                                                                                                                                                                                                                                                                                                                                                                                                                                                                                                                                                                                                                                                                                                                                                                                                                                                                                                                                                                                                                                                                                                                                                                                                                                                                                                                                                                                                                                                                                                                                                                                                                                                                                                                                                                                                                                                                                                                                                                                                                                                                                                                                                                                                                                                                                                                                                                                                                                                                                                                                                                                                                                                                                                                                                                                                                                                                                                                                                                                                                                                                                                                                                                                                                                                                                                                                                                                                                                                                                                                                                                                                                                                                                                                                                                                                                             0.036723\n",
      "Name: 1, dtype: float64\n",
      "Component 2:\n",
      "full_text\n",
      "sherlock holmes took his bottle from the corner of the mantel- piece and his hypodermic syringe from its neat morocco case. with his long white nervous fingers he adjusted the delicate needle and rolled back his left shirtcuff. for some little time his eyes rested thoughtfully upon the sinewy forearm and wrist all dotted and scarred with innumerable puncture-marks. finally he thrust the sharp point home pressed down the tiny piston and sank back into the velvet-lined armchair with a long sigh of satisfaction. three times a day for many months i had witnessed this performance but custom had not reconciled my mind to it. on the contrary from day to day i had become more irritable at the sight and my conscience swelled nightly within me at the thought that i had lacked the courage to protest. again and again i had registered a vow that i should deliver my soul upon the subject; but there was that in the cool nonchalant air of my companion which made him the last man with whom one would care to take anything approaching to a liberty. his great powers his masterly manner and the experience which i had had of his many extraor- dinary qualities all made me diffident and backward in crossing him. yet upon that afternoon whether it was the beaune which i had taken with my lunch or the additional exasperation produced by the extreme deliberation of his manner i suddenly felt that i could hold out no longer. .                                                                                                                                                                                                                                                                                                                                                                                                                                                                                                                                                                                                                                                                                                                                                                                                                                                                                                                                                                                                                                                                                                                                                                                                                                                                                                                                                                                                                                                                                                                                                                                                                                                                                                                                                                                                                                                                                                                            0.056320\n",
      "for the most wild yet most homely narrative which i am about to pen i neither expect nor solicit belief. mad indeed would i be to expect it in a case where my very senses reject their own evidence. yet mad am i not and very surely do i not dream. but to-morrow i die and to-day i would unburthen my soul. my immediate purpose is to place before the world plainly succinctly and without comment a series of mere household events. in their consequences these events have terrified have tortured have destroyed me. yet i will not attempt to expound them. to me they have presented little but horror to many they will seem less terrible than baroques. hereafter perhaps some intellect may be found which will reduce my phantasm to the common-place some intellect more calm more logical and far less excitable than my own which will perceive in the circumstances i detail with awe nothing more than an ordinary succession of very natural causes and effects. from my infancy i was noted for the docility and humanity of my disposition. my tenderness of heart was even so conspicuous as to make me the jest of my companions. i was especially fond of animals and was indulged by my parents with a great variety of pets. with these i spent most of my time and never was so happy as when feeding and caressing them. this peculiar of character grew with my growth and in my manhood i derived from it one of my principal sources of pleasure. to those who have cherished an affection for a faithful and sagacious dog i need hardly be at the trouble of explaining the nature or the intensity of the gratification thus derivable. there is something in the unselfish and self-sacrificing love of a brute which goes directly to the heart of him who has had frequent occasion to test the paltry friendship and gossamer fidelity of mere man. i married early and was happy to find in my wife a disposition not uncongenial with my own. observing my partiality for domestic pets she lost no opportunity of procuring those of the most agreeable kind. we had birds gold fish a fine dog rabbits a small monkey and a cat.                                                                                                                                                                                                                                                                                                                                                                                                                                                                                                                                                                                                                                                                                                                                                                                                                                                                                                                                                                                                                                                                                                                                                                                                                           0.053513\n",
      "that very singular man old dr. heidegger once invited four venerable friends to meet him in his study. there were three white-bearded gentlemen mr. medbourne colonel killigrew and mr. gascoigne and a withered gentlewoman whose name was the widow wycherly. they were all melancholy old creatures who had been unfortunate in life and whose greatest misfortune it was that they were not long ago in their graves. mr. medbourne in the vigor of his age had been a prosperous merchant but had lost his all by a frantic speculation and was now little better than a mendicant. colonel killigrew had wasted his best years and his health and substance in the pursuit of sinful pleasures which had given birth to a brood of pains such as the gout and divers other torments of soul and body. mr. gascoigne was a ruined politician a man of evil fame or at least had been so till time had buried him from the knowledge of the present generation and made him obscure instead of infamous. as for the widow wycherly tradition tells us that she was a great beauty in her day; but for a long while past she had lived in deep seclusion on account of certain scandalous stories which had prejudiced the gentry of the town against her. it is a circumstance worth mentioning that each of these three old gentlemen mr. medbourne colonel killigrew and mr. gascoigne were early lovers of the widow wycherly and had once been on the point of cutting each other's throats for her sake. and before proceeding further i will merely hint that dr. heidegger and all his four guests were sometimes thought to be a little beside themselves- as is not unfrequently the case with old people when worried either by present troubles or woful recollections. my dear old friends said dr. heidegger motioning them to be seated i am desirous of your assistance in one of those little experiments with which i amuse myself here in my study.                                                                                                                                                                                                                                                                                                                                                                                                                                                                                                                                                                                                                                                                                                                                                                                                                                                                                                                                                                                                                                                                                                                                                                                                                                                                                                                                                                                                                                 0.050279\n",
      "characters and manners. even when a mere child i began my travels and made many tours of discovery into foreign parts and unknown regions of my native city to the frequent alarm of my parents and the emolument of the town-crier. as i grew into boyhood i extended the range of my observations. my holiday afternoons were spent in rambles about the surrounding country. i made myself familiar with all its places famous in history or fable. i knew every spot where a murder or robbery had been committed or a ghost seen. i visited the neighboring villages and added greatly to my stock of knowledge by noting their habits and customs and conversing with their sages and great men. i even journeyed one long summer's day to the summit of the most distant hill whence i stretched my eye over many a mile of terra incognita and was astonished to find how vast a globe i inhabited. this rambling propensity strengthened with my years. books of voyages and travels became my passion and in devouring their contents i neglected the regular exercises of the school. how wistfully would i wander about the pier-heads in fine weather and watch the parting ships bound to distant climes- with what longing eyes would i gaze after their lessening sails and waft myself in imagination to the ends of the earth further reading and thinking though they brought this vague inclination into more reasonable bounds only served to make it more decided. i visited various parts of my own country; and had i been merely a lover of fine scenery i should have felt little desire to seek elsewhere its gratification for on no country have the charms of nature been more prodigally lavished. her mighty lakes like oceans of liquid silver; her mountains with their bright aerial tints; her valleys teeming with wild fertility; her tremendous cataracts thundering in their solitudes; her boundless plains waving with spontaneous verdure; her broad deep rivers rolling in solemn silence to the ocean; her trackless forests where vegetation puts forth all its magnificence; her skies kindling with the magic of summer clouds and glorious sunshine;- no never need an american look beyond his own country for the sublime and beautiful of natural scenery.                                                                                                                                                                                                                                                                                                                                                                                                                                                                                                                                                                                                                                                                                                                                                                                                                                                                                                                                                                                                                                                                                            0.046756\n",
      "his career has been a long one though it is possible to exaggerate it; decrepit gentlemen who approach me and declare that his adventures formed the reading of their boyhood do not meet the response from me which they seem to expect. one is not anxious to have one's personal dates handled so unkindly. as a matter of cold fact holmes made his debut in a study in scarlet and in the sign of four two small booklets which appeared between and . it was in that a scandal in bohemia the first of the long series of short stories appeared in the strand magazine. the public seemed appreciative and desirous of more so that from that date thirty-nine years ago they have been produced in a broken series which now contains no fewer than fifty-six stories republished in the adventures the memoirs the return and his last bow. and there remain these twelve published during the last few years which are here produced under the title of the case book of sherlock holmes. he began his adventures in the very heart of the later victorian era carried it through the all-too-short reign of edward and has managed to hold his own little niche even in these feverish days. thus it would be true to say that those who first read of him as young men have lived to see their own grown-up children following the same adventures in the same magazine. it is a striking example of the patience and loyalty of the british public. i had fully determined at the conclusion of the memoirs to bring holmes to an end as i felt that my literary energies should not be directed too much into one channel. that pale clear-cut face and loose-limbed figure were taking up an undue share of my imagination. i did the deed but fortunately no coroner had pronounced upon the remains and so after a long interval it was not difficult for me to respond to the flattering demand and to explain my rash act away. i have never regretted it for i have not in actual practice found that these lighter sketches have prevented me from exploring and finding my limitations in such varied branches of literature as history poetry historical novels psychic research and the drama. had holmes never existed i could not have done more though he may perhaps have stood a little in the way of the recognition of my more serious literary work.                                                                                                                                                                                                                                                                                                                                                                                                                                                                                                                                                                                                                                                                                                                                                                                                                                                                                                                                                                                                                      0.040447\n",
      "mr. hungerton her father really was the most tactless person upon earth a fluffy feathery untidy cockatoo of a man perfectly good-natured but absolutely centered upon his own silly self. if anything could have driven me from gladys it would have been the thought of such a father-in-law. i am convinced that he really believed in his heart that i came round to the chestnuts three days a week for the pleasure of his company and very especially to hear his views upon bimetallism a subject upon which he was by way of being an authority. for an hour or more that evening i listened to his monotonous chirrup about bad money driving out good the token value of silver the depreciation of the rupee and the true standards of exchange. suppose he cried with feeble violence that all the debts in the world were called up simultaneously and immediate payment insisted upon what under our present conditions would happen then i gave the self-evident answer that i should be a ruined man upon which he jumped from his chair reproved me for my habitual levity which made it impossible for him to discuss any reasonable subject in my presence and bounced off out of the room to dress for a masonic meeting. at last i was alone with gladys and the moment of fate had come all that evening i had felt like the soldier who awaits the signal which will send him on a forlorn hope; hope of victory and fear of repulse alternating in his mind. she sat with that proud delicate profile of hers outlined against the red curtain. how beautiful she was and yet how aloof we had been friends quite good friends; but never could i get beyond the same comradeship which i might have established with one of my fellow-reporters upon the gazette perfectly frank perfectly kindly and perfectly unsexual. my instincts are all against a woman being too frank and at her ease with me. it is no compliment to a man. where the real sex feeling begins timidity and distrust are its companions heritage from old wicked days when love and violence went often hand in hand. the bent head the averted eye the faltering voice the wincing figure these and not the unshrinking gaze and frank reply are the true signals of passion. even in my short life i had learned as much as that or had inherited it in that race memory which we call instinct. gladys was full of every womanly quality. some judged her to be cold and hard; but such a thought was treason. that delicately bronzed skin almost oriental in its coloring that raven hair the large liquid eyes the full but exquisite lips all the stigmata of passion were there. but i was sadly conscious that up to now i had never found the secret of drawing it forth. however come what might i should have done with suspense and bring matters to a head to-night. she could but refuse me and better be a repulsed lover than an accepted brother. so far my thoughts had carried me and i was about to break the long and uneasy silence when two critical dark eyes looked round at me and the proud head was shaken in smiling reproof. i have a presentiment that you are going to propose ned. i do wish you wouldn't; for things are so much nicer as they are. i drew my chair a little nearer. now how did you know that i was going to propose i asked in genuine wonder.    0.039382\n",
      "as a medical man you are aware watson that there is no part of the body which varies so much as the human ear. each ear is as a rule quite distinctive and differs from all other ones. in last year's anthropological journal you will find two short monographs from my pen upon the subject. i had therefore examined the ears in the box with the eyes of an expert and had carefully noted their anatomical peculiarities. imagine my sur- prise then when on looking at miss cushing i perceived that her ear corresponded exactly with the female ear which i had just inspected. the matter was entirely beyond coincidence. there was the same shortening of the pinna the same broad curve of the upper lobe the same convolution of the inner cartilage. in all essentials it was the same ear. of course i at once saw the enormous importance of the observation. it was evident that the victim was a blood relation and probably a very close one. i began to talk to her about her family and you remember that she at once gave us some exceed- ingly valuable details                                                                                                                                                                                                                                                                                                                                                                                                                                                                                                                                                                                                                                                                                                                                                                                                                                                                                                                                                                                                                                                                                                                                                                                                                                                                                                                                                                                                                                                                                                                                                                                                                                                                                                                                                                                                                                                                                                                                                                                                                                                                                                                                                                                                                                                                                                                   0.039131\n",
      "far be it from me to assert that what everybody says must be true. everybody is often as likely to be wrong as right. in the general experience everybody has been wrong so often and it has taken in most instances such a weary while to find out how wrong that the authority is proved to be fallible. everybody may sometimes be right; but that's no rule as the ghost of giles scroggins says in the ballad. the dread word ghost recalls me. everybody said he looked like a haunted man. the extent of my present claim for everybody is that they were so far right. he did. who could have seen his hollow cheek; his sunken brilliant eye; his black-attired figure indefinably grim although well-knit and well-proportioned; his grizzled hair hanging like tangled sea- weed about his face - as if he had been through his whole life a lonely mark for the chafing and beating of the great deep of humanity - but might have said he looked like a haunted man who could have observed his manner taciturn thoughtful gloomy shadowed by habitual reserve retiring always and jocund never with a distraught air of reverting to a bygone place and time or of listening to some old echoes in his mind but might have said it was the manner of a haunted man who could have heard his voice slow-speaking deep and grave with a natural fulness and melody in it which he seemed to set himself against and stop but might have said it was the voice of a haunted man                                                                                                                                                                                                                                                                                                                                                                                                                                                                                                                                                                                                                                                                                                                                                                                                                                                                                                                                                                                                                                                                                                                                                                                                                                                                                                                                                                                                                                                                                                                                                                                                                                                                                                                                                                                                                                                                                                                0.036827\n",
      "these prolegomena are destined for the use not of pupils but of future teachers and even the latter should not expect that they will be serviceable for the systematic exposition of a ready-made science but merely for the discovery of the science itself. there are scholarly men to whom the history of philosophy (both ancient and modern) is philosophy itself; for these the present prolegomena are not written. they must wait till those who endeavor to draw from the fountain of reason itself have completed their work; it will then be the historian's turn to inform the world of what has been done. unfortunately nothing can be said which in their opinion has not been said before and truly the same prophecy applies to all future time; for since the human reason has for many centuries speculated upon innumerable objects in various ways it is hardly to be expected that we should not be able to discover analogies for every new idea among the old sayings of past ages. my object is to persuade all those who think metaphysics worth studying that it is absolutely necessary to pause a moment and neglecting all that has been done to propose first the preliminary question 'whether such a thing as metaphysics be at all possible' if it be a science how comes it that it cannot like other sciences obtain universal and permanent recognition if not how can it maintain its pretensions and keep the human mind in suspense with hopes never ceasing yet never fulfilled whether then we demonstrate our knowledge or our ignorance in this field we must come once for all to a definite conclusion respecting the nature of this so-called science which cannot possibly remain on its present footing. it seems almost ridiculous while every other science is continually advancing that in this which pretends to be wisdom incarnate for whose oracle every one inquires we should constantly move round the same spot without gaining a single step. and so its followers having melted away we do not find men confident of their ability to shine in other sciences venturing their reputation here where everybody however ignorant in other matters may deliver a final verdict as in this domain there is as yet no standard weight and measure to distinguish sound knowledge from shallow talk.                                                                                                                                                                                                                                                                                                                                                                                                                                                                                                                                                                                                                                                                                                                                                                                                                                                                                                                                                                                                                                             0.030809\n",
      "in the latter part of the last century there lived a man of science- an eminent proficient in every branch of natural philosophy- who not long before our story opens had made experience of a spiritual affinity more attractive than any chemical one. he had left his laboratory to the care of an assistant cleared his fine countenance from the furnace-smoke washed the stain of acids from his fingers and persuaded a beautiful woman to become his wife. in those days when the comparatively recent discovery of electricity and other kindred mysteries of nature seemed to open paths into the region of miracle it was not unusual for the love of science to rival the love of woman in its depth and absorbing energy. the higher intellect the imagination the spirit and even the heart might all find their congenial aliment in pursuits which as some of their ardent votaries believed would ascend from one step of powerful intelligence to another until the philosopher should lay his hand on the secret of creative force and perhaps make new worlds for himself. we know not whether aylmer possessed this degree of faith in man's ultimate control over nature. he had devoted himself however too unreservedly to scientific studies ever to be weaned from them by any second passion. his love for his young wife might prove the stronger of the two; but it could only be by intertwining itself with his love of science and uniting the strength of the latter to its own. such an union accordingly took place and was attended with truly remarkable consequences and a deeply impressive moral. one day very soon after their marriage aylmer sat gazing at his wife with a trouble in his countenance that grew stronger until he spoke. georgiana said he has it never occurred to you that the mark upon your cheek might be removed no indeed said she smiling; but perceiving the seriousness of his manner she blushed deeply. to tell you the truth it has been so often called a charm that i was simple enough to imagine it might be so.                                                                                                                                                                                                                                                                                                                                                                                                                                                                                                                                                                                                                                                                                                                                                                                                                                                                                                                                                                                                                                                                                                                                                                                                                                                                                                              0.030442\n",
      "Name: 2, dtype: float64\n",
      "Component 3:\n",
      "full_text\n",
      "twelve years had passed since i had laid the body of my great-uncle captain john carter of virginia away from the sight of men in that strange mausoleum in the old cemetery at richmond. often had i pondered on the odd instructions he had left me governing the construction of his mighty tomb and especially those parts which directed that he be laid in an open casket and that the ponderous mechanism which controlled the bolts of the vault's huge door be accessible only from the inside. twelve years had passed since i had read the remarkable manuscript of this remarkable man; this man who remembered no childhood and who could not even offer a vague guess as to his age; who was always young and yet who had dandled my grandfather's great-grandfather upon his knee; this man who had spent ten years upon the planet mars; who had fought for the green men of barsoom and fought against them; who had fought for and against the red men and who had won the ever beautiful dejah thoris princess of helium for his wife and for nearly ten years had been a prince of the house of tardos mors jeddak of helium. twelve years had passed since his body had been found upon the bluff before his cottage overlooking the hudson and oft- times during these long years i had wondered if john carter were really dead or if he again roamed the dead sea bottoms of that dying planet; if he had returned to barsoom to find that he had opened the frowning portals of the mighty atmosphere plant in time to save the countless millions who were dying of asphyxiation on that far-gone day that had seen him hurtled ruthlessly through forty-eight million miles of space back to earth once more. i had wondered if he had found his black-haired princess and the slender son he had dreamed was with her in the royal gardens of tardos mors awaiting his return.                                                                                                                                                                                                                                                                                                                                                                                                                                                                                                                                                                                                                                                                                                                                                                                                                                                                                                                                                                                                                                                                                                                                                                                                                                                                                                                                                                                                                                                                                                                                                                                                                                                                                                                                                                                                                                                                                                                                                                                                         0.030903\n",
      "far be it from me to assert that what everybody says must be true. everybody is often as likely to be wrong as right. in the general experience everybody has been wrong so often and it has taken in most instances such a weary while to find out how wrong that the authority is proved to be fallible. everybody may sometimes be right; but that's no rule as the ghost of giles scroggins says in the ballad. the dread word ghost recalls me. everybody said he looked like a haunted man. the extent of my present claim for everybody is that they were so far right. he did. who could have seen his hollow cheek; his sunken brilliant eye; his black-attired figure indefinably grim although well-knit and well-proportioned; his grizzled hair hanging like tangled sea- weed about his face - as if he had been through his whole life a lonely mark for the chafing and beating of the great deep of humanity - but might have said he looked like a haunted man who could have observed his manner taciturn thoughtful gloomy shadowed by habitual reserve retiring always and jocund never with a distraught air of reverting to a bygone place and time or of listening to some old echoes in his mind but might have said it was the manner of a haunted man who could have heard his voice slow-speaking deep and grave with a natural fulness and melody in it which he seemed to set himself against and stop but might have said it was the voice of a haunted man                                                                                                                                                                                                                                                                                                                                                                                                                                                                                                                                                                                                                                                                                                                                                                                                                                                                                                                                                                                                                                                                                                                                                                                                                                                                                                                                                                                                                                                                                                                                                                                                                                                                                                                                                                                                                                                                                                                                                                                                                                                                                                                                                                                                                                                                                                                                                                                                                         0.030819\n",
      "that it is the opinion of this committee that when the general council and assembly or general court of any of his majesty's provinces or colonies in america shall propose to make provision according to the condition circumstance or situation of such province or colony for contributing their proportion to the common defence (such proportion to be raised under the authority of the general court or general assembly of such province or colony and disposable by parliament) and shall engage to make provision also for the support of the civil government and the administration of justice in such province or colony it will be proper if such proposal shall be approved by his majesty and the two houses of parliament; and for so long as such provision shall be made accordingly to forbear in respect of such province or colony to lay any duty tax or assessment or to impose any further duty tax or assessment except only such duties as it may be expedient to continue to levy or impose for the regulation of commerce the net produce of the duties last mentioned to be carried to the account of such province or colony respectively. the congress took the said resolution into consideration and are thereupon of opinion: that the colonies of america are entitled to the sole and exclusive privilege of giving and granting their own money; that this involves a right of deliberating whether they will make any gift for what purposes it shall be made and what shall be it's amount; and that it is a high breach of this privilege for any body of men extraneous to their constitutions to prescribe the purposes for which money shall be levied on them to take to themselves the authority of judging of their conditions circumstances and situations; and of determining the amount of the contribution to be levied.                                                                                                                                                                                                                                                                                                                                                                                                                                                                                                                                                                                                                                                                                                                                                                                                                                                                                                                                                                                                                                                                                                                                                                                                                                                                                                                                                                                                                                                                                                                                                                                                                                                                                                                                                                                                                                                                                                                                                                                                                                       0.028358\n",
      "soc. very good callicles; but will he answer our questions for i want to hear from him what is the nature of his art and what it is which he professes and teaches; he may as you [chaerephon] suggest defer the exhibition to some other time. cal. there is nothing like asking him socrates; and indeed to answer questions is a part of his exhibition for he was saying only just now that any one in my house might put any question to him and that he would answer. soc. how fortunate will you ask him chaerephon- chaer. what shall i ask him soc. ask him who he is. chaer. what do you mean soc. i mean such a question as would elicit from him if he had been a maker of shoes the answer that he is a cobbler. do you understand chaer. i understand and will ask him: tell me gorgias is our friend callicles right in saying that you undertake to answer any questions which you are asked gorgias. quite right chaerephon: i was saying as much only just now; and i may add that many years have elapsed since any one has asked me a new one. chaer. then you must be very ready gorgias. gor. of that chaerephon you can make trial. polus. yes indeed and if you like chaerephon you may make trial of me too for i think that gorgias who has been talking a long time is tired. .                                                                                                                                                                                                                                                                                                                                                                                                                                                                                                                                                                                                                                                                                                                                                                                                                                                                                                                                                                                                                                                                                                                                                                                                                                                                                                                                                                                                                                                                                                                                                                                                                                                                                                                                                                                                                                                                                                                                                                                                                                                                                                                                                                                                                                                                                                                                                                                                                                                                                                                                                                                                         0.027351\n",
      "there are few places more favorable to the study of character than an english country church. i was once passing a few weeks at the seat of a friend who resided in the vicinity of one the appearance of which particularly struck my fancy. it was one of those rich morsels of quaint antiquity which give such a peculiar charm to english landscape. it stood in the midst of a country filled with ancient families and contained within its cold and silent aisles the congregated dust of many noble generations. the interior walls were incrusted with monuments of every age and style. the light streamed through windows dimmed with armorial bearings richly emblazoned in stained glass. in various parts of the church were tombs of knights and high-born dames of gorgeous workmanship with their effigies in colored marble. on every side the eye was struck with some instance of aspiring mortality; some haughty memorial which human pride had erected over its kindred dust in this temple of the most humble of all religions. the congregation was composed of the neighboring people of rank who sat in pews sumptuously lined and cushioned furnished with richly-gilded prayer-books and decorated with their arms upon the pew doors; of the villagers and peasantry who filled the back seats and a small gallery beside the organ; and of the poor of the parish who were ranged on benches in the aisles. the service was performed by a snuffling well-fed vicar who had a snug dwelling near the church. he was a privileged guest at all the tables of the neighborhood and had been the keenest fox-hunter in the country; until age and good living had disabled him from doing any thing more than ride to see the hounds throw off and make one at the hunting dinner.                                                                                                                                                                                                                                                                                                                                                                                                                                                                                                                                                                                                                                                                                                                                                                                                                                                                                                                                                                                                                                                                                                                                                                                                                                                                                                                                                                                                                                                                                                                                                                                                                                                                                                                                                                                                                                                                                                                                                                                                                                                                                                    0.023023\n",
      "hopkins has called me in seven times and on each occasion his summons has been entirely justified said holmes. i fancy that every one of his cases has found its way into your collection and i must admit watson that you have some power of selection which atones for much which i deplore in your narratives. your fatal habit of looking at everything from the point of view of a story instead of as a scientific exercise has ruined what might have been an instructive and even classical series of demonstrations. you slur over work of the utmost finesse and delicacy in order to dwell upon sensational details which may excite but cannot possibly instruct the reader. why do you not write them yourself i said with some bitterness. i will my dear watson i will. at present i am as you know fairly busy but i propose to devote my declining years to the composition of a textbook which shall focus the whole art of detection into one volume. our present research appears to be a case of murder. you think this sir eustace is dead then i should say so. hopkins's writing shows considerable agitation and he is not an emotional man. yes i gather there has been violence and that the body is left for our inspection. a mere suicide would not have caused him to send for me. as to the release of the lady it would appear that she has been locked in her room during the tragedy. we are moving in high life watson crackling paper 'e.b.' monogram coat-of-arms picturesque address. i think that friend hopkins will live up to his reputation and that we shall have an interesting morning. the crime was committed before twelve last night. how can you possibly tell by an inspection of the trains and by reckoning the time. the local police had to be called in they had to communicate with scotland yard hopkins had to go out and he in turn had to send for me. all that makes a fair night's work. well here we are at chiselhurst station and we shall soon set our doubts at rest. a drive of a couple of miles through narrow country lanes brought us to a park gate which was opened for us by an old lodge-keeper whose haggard face bore the reflection of some great disaster. the avenue ran through a noble park between lines of ancient elms and ended in a low widespread house pillared in front after the fashion of palladio. the central part was evidently of a great age and shrouded in ivy but the large windows showed that modern changes had been carried out and one wing of the house appeared to be entirely new. the youthful figure and alert eager face of inspector stanley hopkins confronted us in the open doorway. i'm very glad you have come mr. holmes. and you too dr. watson. but indeed if i had my time over again i should not have troubled you for since the lady has come to herself she has given so clear an account of the affair that there is not much left for us to do. you remember that lewisham gang of burglars                                                                                                                                                                                                                                                                                                                                                                                                                                                                                                                                                                                                                                                                                                                                                                                                                                                                                    0.022226\n",
      "once upon a time it matters little when and in stalwart england it matters little where a fierce battle was fought. it was fought upon a long summer day when the waving grass was green. many a wild flower formed by the almighty hand to be a perfumed goblet for the dew felt its enamelled cup filled high with blood that day and shrinking dropped. many an insect deriving its delicate colour from harmless leaves and herbs was stained anew that day by dying men and marked its frightened way with an unnatural track. the painted butterfly took blood into the air upon the edges of its wings. the stream ran red. the trodden ground became a quagmire whence from sullen pools collected in the prints of human feet and horses' hoofs the one prevailing hue still lowered and glimmered at the sun. heaven keep us from a knowledge of the sights the moon beheld upon that field when coming up above the black line of distant rising- ground softened and blurred at the edge by trees she rose into the sky and looked upon the plain strewn with upturned faces that had once at mothers' breasts sought mothers' eyes or slumbered happily. heaven keep us from a knowledge of the secrets whispered afterwards upon the tainted wind that blew across the scene of that day's work and that night's death and suffering many a lonely moon was bright upon the battle-ground and many a star kept mournful watch upon it and many a wind from every quarter of the earth blew over it before the traces of the fight were worn away. they lurked and lingered for a long time but survived in little things; for nature far above the evil passions of men soon recovered her serenity and smiled upon the guilty battle-ground as she had done before when it was innocent. the larks sang high above it; the swallows skimmed and dipped and flitted to and fro; the shadows of the flying clouds pursued each other swiftly over grass and corn and turnip-field and wood and over roof and church- spire in the nestling town among the trees away into the bright distance on the borders of the sky and earth where the red sunsets faded. crops were sown and grew up and were gathered in; the stream that had been crimsoned turned a watermill; men whistled at the plough; gleaners and haymakers were seen in quiet groups at work; sheep and oxen pastured; boys whooped and called in fields to scare away the birds; smoke rose from cottage chimneys; sabbath bells rang peacefully; old people lived and died; the timid creatures of the field the simple flowers of the bush and garden grew and withered in their destined terms: and all upon the fierce and bloody battle-ground where thousands upon thousands had been killed in the great fight. but there were deep green patches in the growing corn at first that people looked at awfully. year after year they re-appeared; and it was known that underneath those fertile spots heaps of men and horses lay buried indiscriminately enriching the ground. the husbandmen who ploughed those places shrunk from the great worms abounding there; and the sheaves they yielded were for many a long year called the battle sheaves and set apart; and no one ever knew a battle sheaf to be among the last load at a harvest home. for a long time every furrow that was turned revealed some fragments of the fight. for a long time there were wounded trees upon the battle- ground; and scraps of hacked and broken fence and wall where deadly struggles had been made; and trampled parts where not a leaf or blade would grow. for a long time no village girl would dress her hair or bosom with the sweetest flower from that field of death: and after many a year had come and gone the berries growing there were still believed to leave too deep a stain upon the hand that plucked them.    0.021932\n",
      "characters and manners. even when a mere child i began my travels and made many tours of discovery into foreign parts and unknown regions of my native city to the frequent alarm of my parents and the emolument of the town-crier. as i grew into boyhood i extended the range of my observations. my holiday afternoons were spent in rambles about the surrounding country. i made myself familiar with all its places famous in history or fable. i knew every spot where a murder or robbery had been committed or a ghost seen. i visited the neighboring villages and added greatly to my stock of knowledge by noting their habits and customs and conversing with their sages and great men. i even journeyed one long summer's day to the summit of the most distant hill whence i stretched my eye over many a mile of terra incognita and was astonished to find how vast a globe i inhabited. this rambling propensity strengthened with my years. books of voyages and travels became my passion and in devouring their contents i neglected the regular exercises of the school. how wistfully would i wander about the pier-heads in fine weather and watch the parting ships bound to distant climes- with what longing eyes would i gaze after their lessening sails and waft myself in imagination to the ends of the earth further reading and thinking though they brought this vague inclination into more reasonable bounds only served to make it more decided. i visited various parts of my own country; and had i been merely a lover of fine scenery i should have felt little desire to seek elsewhere its gratification for on no country have the charms of nature been more prodigally lavished. her mighty lakes like oceans of liquid silver; her mountains with their bright aerial tints; her valleys teeming with wild fertility; her tremendous cataracts thundering in their solitudes; her boundless plains waving with spontaneous verdure; her broad deep rivers rolling in solemn silence to the ocean; her trackless forests where vegetation puts forth all its magnificence; her skies kindling with the magic of summer clouds and glorious sunshine;- no never need an american look beyond his own country for the sublime and beautiful of natural scenery.                                                                                                                                                                                                                                                                                                                                                                                                                                                                                                                                                                                                                                                                                                                                                                                                                                                                                                                                                                                                                                                                                                                                                                                                                                                                                                                                                                                                                                                                                                                                                                                                     0.019414\n",
      "live register'd upon our brazen tombs and then grace us in the disgrace of death; when spite of cormorant devouring time the endeavor of this present breath may buy that honour which shall bate his scythe's keen edge and make us heirs of all eternity. therefore brave conquerors for so you are that war against your own affections and the huge army of the world's desires our late edict shall strongly stand in force: navarre shall be the wonder of the world; our court shall be a little academe still and contemplative in living art. you three biron dumain and longaville have sworn for three years' term to live with me my fellow-scholars and to keep those statutes that are recorded in this schedule here: your oaths are pass'd; and now subscribe your names that his own hand may strike his honour down that violates the smallest branch herein: if you are arm'd to do as sworn to do subscribe to your deep oaths and keep it too. longaville i am resolved; 'tis but a three years' fast: the mind shall banquet though the body pine: fat paunches have lean pates and dainty bits make rich the ribs but bankrupt quite the wits. dumain my loving lord dumain is mortified: the grosser manner of these world's delights he throws upon the gross world's baser slaves: to love to wealth to pomp i pine and die; with all these living in philosophy. biron i can but say their protestation over; so much dear liege i have already sworn [exeunt]                                                                                                                                                                                                                                                                                                                                                                                                                                                                                                                                                                                                                                                                                                                                                                                                                                                                                                                                                                                                                                                                                                                                                                                                                                                                                                                                                                                                                                                                                                                                                                                                                                                                                                                                                                                                                                                                                                                                                                                                                                                                                                                                                                                                                                                                                                                                                                                                                          0.019139\n",
      "as he dropped the last grisly fragment of the dismembered and mutilated body into the small vat of nitric acid that was to devour every trace of the horrid evidence which might easily send him to the gallows the man sank weakly into a chair and throwing his body forward upon his great teak desk buried his face in his arms breaking into dry moaning sobs. beads of perspiration followed the seams of his high wrinkled forehead replacing the tears which might have lessened the pressure upon his overwrought nerves. his slender frame shook as with ague and at times was racked by a convulsive shudder. a sudden step upon the stairway leading to his workshop brought him trembling and wide eyed to his feet staring fearfully at the locked and bolted door. although he knew perfectly well whose the advancing footfalls were he was all but overcome by the madness of apprehension as they came softly nearer and nearer to the barred door. at last they halted before it to be followed by a gentle knock. daddy came the sweet tones of a girl's voice. the man made an effort to take a firm grasp upon himself that no tell-tale evidence of his emotion might be betrayed in his speech. daddy called the girl again a trace of anxiety in her voice this time. what is the matter with you and what are you doing you've been shut up in that hateful old room for three days now without a morsel to eat and in all likelihood without a wink of sleep. you'll kill yourself with your stuffy old experiments.                                                                                                                                                                                                                                                                                                                                                                                                                                                                                                                                                                                                                                                                                                                                                                                                                                                                                                                                                                                                                                                                                                                                                                                                                                                                                                                                                                                                                                                                                                                                                                                                                                                                                                                                                                                                                                                                                                                                                                                                                                                                                                                                                                                                                                                                                                                                                                    0.018861\n",
      "Name: 3, dtype: float64\n",
      "Component 4:\n",
      "full_text\n",
      "magnifique ejaculated the countess de coude beneath her breath. eh questioned the count turning toward his young wife. what is it that is magnificent and the count bent his eyes in various directions in quest of the object of her admiration. oh nothing at all my dear replied the countess a slight flush momentarily coloring her already pink cheek. i was but recalling with admiration those stupendous skyscrapers as they call them of new york and the fair countess settled herself more comfortably in her steamer chair and resumed the magazine which nothing at all had caused her to let fall upon her lap. her husband again buried himself in his book but not without a mild wonderment that three days out from new york his countess should suddenly have realized an admiration for the very buildings she had but recently characterized as horrid. presently the count put down his book. it is very tiresome olga he said. i think that i shall hunt up some others who may be equally bored and see if we cannot find enough for a game of cards. you are not very gallant my husband replied the young woman smiling but as i am equally bored i can forgive you. go and play at your tiresome old cards then if you will. when he had gone she let her eyes wander slyly to the figure of a tall young man stretched lazily in a chair not far distant. magnifique she breathed once more.                                                                                                                                                                                                                                                                                                                                                                                                                                                                                                                                                                                                                                                                                                                                                                                                                                                                                                                                        0.033371\n",
      "these prolegomena are destined for the use not of pupils but of future teachers and even the latter should not expect that they will be serviceable for the systematic exposition of a ready-made science but merely for the discovery of the science itself. there are scholarly men to whom the history of philosophy (both ancient and modern) is philosophy itself; for these the present prolegomena are not written. they must wait till those who endeavor to draw from the fountain of reason itself have completed their work; it will then be the historian's turn to inform the world of what has been done. unfortunately nothing can be said which in their opinion has not been said before and truly the same prophecy applies to all future time; for since the human reason has for many centuries speculated upon innumerable objects in various ways it is hardly to be expected that we should not be able to discover analogies for every new idea among the old sayings of past ages. my object is to persuade all those who think metaphysics worth studying that it is absolutely necessary to pause a moment and neglecting all that has been done to propose first the preliminary question 'whether such a thing as metaphysics be at all possible' if it be a science how comes it that it cannot like other sciences obtain universal and permanent recognition if not how can it maintain its pretensions and keep the human mind in suspense with hopes never ceasing yet never fulfilled whether then we demonstrate our knowledge or our ignorance in this field we must come once for all to a definite conclusion respecting the nature of this so-called science which cannot possibly remain on its present footing. it seems almost ridiculous while every other science is continually advancing that in this which pretends to be wisdom incarnate for whose oracle every one inquires we should constantly move round the same spot without gaining a single step. and so its followers having melted away we do not find men confident of their ability to shine in other sciences venturing their reputation here where everybody however ignorant in other matters may deliver a final verdict as in this domain there is as yet no standard weight and measure to distinguish sound knowledge from shallow talk.    0.032566\n",
      "soc. i often envy the profession of a rhapsode ion; for you have always to wear fine clothes and to look as beautiful as you can is a part of your art. then again you are obliged to be continually in the company of many good poets; and especially of homer who is the best and most divine of them; and to understand him and not merely learn his words by rote is a thing greatly to be envied. and no man can be a rhapsode who does not understand the meaning of the poet. for the rhapsode ought to interpret the mind of the poet to his hearers but how can he interpret him well unless he knows what he means all this is greatly to be envied. ion. very true socrates; interpretation has certainly been the most laborious part of my art; and i believe myself able to speak about homer better than any man; and that neither metrodorus of lampsacus nor stesimbrotus of thasos nor glaucon nor any one else who ever was had as good ideas about homer as i have or as many. soc. i am glad to hear you say so ion; i see that you will not refuse to acquaint me with them. ion. certainly socrates; and you really ought to hear how exquisitely i render homer. i think that the homeridae should give me a golden crown. soc. i shall take an opportunity of hearing your embellishments of him at some other time. but just now i should like to ask you a question: does your art extend to hesiod and archilochus or to homer only                                                                                                                                                                                                                                                                                                                                                                                                                                                                                                                                                                                                                                                                                                                                                                                                                                                                                                  0.030590\n",
      "i am a very old man; how old i do not know. possibly i am a hundred possibly more; but i cannot tell because i have never aged as other men nor do i remember any childhood. so far as i can recollect i have always been a man a man of about thirty. i appear today as i did forty years and more ago and yet i feel that i cannot go on living forever; that some day i shall die the real death from which there is no resurrection. i do not know why i should fear death i who have died twice and am still alive; but yet i have the same horror of it as you who have never died and it is because of this terror of death i believe that i am so convinced of my mortality. and because of this conviction i have determined to write down the story of the interesting periods of my life and of my death. i cannot explain the phenomena;i can only set down here in the words of an ordinary soldier of fortune a chronicle of the strange events that befell me during the ten years that my dead body lay undiscovered in an arizona cave. i have never told this story nor shall mortal man see this manuscript until after i have passed over for eternity. i know that the average human mind will not believe what it cannot grasp and so i do not purpose being pilloried by the public the pulpit and the press and held up as a colossal liar when i am but telling the simple truths which some day science will substantiate. possibly the suggestions which i gained upon mars and the knowledge which i can set down in this chronicle will aid in an earlier understanding of the mysteries of our sister planet; mysteries to you but no longer mysteries to me.                                                                                                                                                                                                                                                                                                                                                                                                                                                                                                                                                                                                                                                                      0.026749\n",
      "the reasons for some animals being long-lived and others short-lived and in a word causes of the length and brevity of life call for investigation. the necessary beginning to our inquiry is a statement of the difficulties about these points. for it is not clear whether in animals and plants universally it is a single or diverse cause that makes some to be long-lived others short-lived. plants too have in some cases a long life while in others it lasts but for a year. further in a natural structure are longevity and a sound constitution coincident or is shortness of life independent of unhealthiness perhaps in the case of certain maladies a diseased state of the body and shortness of life are interchangeable while in the case of others ill-health is perfectly compatible with long life. of sleep and waking we have already treated; about life and death we shall speak later on and likewise about health and disease in so far as it belongs to the science of nature to do so. but at present we have to investigate the causes of some creatures being long-lived and others short-lived. we find this distinction affecting not only entire genera opposed as wholes to one another but applying also to contrasted sets of individuals within the same species. as an instance of the difference applying to the genus i give man and horse (for mankind has a longer life than the horse) while within the species there is the difference between man and man; for of men also some are long-lived others short-lived differing from each other in respect of the different regions in which they dwell. races inhabiting warm countries have longer life those living in a cold climate live a shorter time. likewise there are similar differences among individuals occupying the same locality. .                                                                                                                                                                                                                                                                                                                                                                                                                                                                                                               0.018844\n",
      "good quoth mother rigby with a nod of her head. thank ye dickon and now for making this scarecrow. be within call dickon in case i need you again. the good woman had risen thus early (for as yet it was scarcely sunrise) in order to set about making a scarecrow which she intended to put in the middle of her corn-patch. it was now the latter week of may and the crows and blackbirds had already discovered the little green rolled-up leaf of the indian corn just peeping out of the soil. she was determined therefore to contrive as lifelike a scarecrow as ever was seen and to finish it immediately from top to toe so that it should begin its sentinel's duty that very morning. now mother rigby (as everybody must have heard) was one of the most cunning and potent witches in new england and might with very little trouble have made a scarecrow ugly enough to frighten the minister himself. but on this occasion as she had awakened in an uncommonly pleasant humor and was further dulcified by her pipe of tobacco she resolved to produce something fine beautiful and splendid rather than hideous and horrible. i don't want to set up a hobgoblin in my own corn-patch and almost at my own doorstep said mother rigby to herself puffing out a whiff of smoke; i could do it if i pleased but i'm tired of doing marvellous things and so i'll keep within the bounds of everyday business just for variety's sake. besides there is no use in scaring the little children for a mile roundabout though 'tis true i'm a witch. it was settled therefore in her own mind that the scarecrow should represent a fine gentleman of the period so far as the materials at hand would allow. perhaps it may be as well to enumerate the chief of the articles that went to the composition of this figure.                                                                                                                                                                                                                                                                                                                                                                                                                                                                                                                      0.018184\n",
      "cr. and yet other old men find themselves in similar misfortunes and age does not prevent them from repining. soc. that may be. but you have not told me why you come at this early hour. cr. i come to bring you a message which is sad and painful; not as i believe to yourself but to all of us who are your friends and saddest of all to me. soc. what i suppose that the ship has come from delos on the arrival of which i am to die cr. no the ship has not actually arrived but she will probably be here to-day as persons who have come from sunium tell me that they have left her there; and therefore to-morrow socrates will be the last day of your life. soc. very well crito; if such is the will of god i am willing; but my belief is that there will be a delay of a day. cr. why do you say this soc. i will tell you. i am to die on the day after the arrival of the ship cr. yes; that is what the authorities say. soc. but i do not think that the ship will be here until to-morrow; this i gather from a vision which i had last night or rather only just now when you fortunately allowed me to sleep. cr. and what was the nature of the vision soc. there came to me the likeness of a woman fair and comely clothed in white raiment who called to me and said: o socrates- the third day hence to phthia shalt thou go. cr. what a singular dream socrates soc. there can be no doubt about the meaning crito i think. cr. yes: the meaning is only too clear. but o my beloved socrates let me entreat you once more to take my advice and escape. for if you die i shall not only lose a friend who can never be replaced but there is another evil: people who do not know you and me will believe that i might have saved you if i had been willing to give money but that i did not care. now can there be a worse disgrace than this- that i should be thought to value money more than the life of a friend for the many will not be persuaded that i wanted you to escape and that you refused.                                                                                                                                                                                                                                                                                                                      0.016357\n",
      "mistress quickly [aside to simple] i am glad he is so quiet: if he had been thoroughly moved you should have heard him so loud and so melancholy. but notwithstanding man i'll do you your master what good i can: and the very yea and the no is the french doctor my master i may call him my master look you for i keep his house; and i wash wring brew bake scour dress meat and drink make the beds and do all myself simple [aside to mistress quickly] 'tis a great charge to come under one body's hand. mistress quickly [aside to simple] are you avised o' that you shall find it a great charge: and to be up early and down late; but notwithstanding to tell you in your ear; i would have no words of it my master himself is in love with mistress anne page: but notwithstanding that i know anne's mind that's neither here nor there. doctor caius you jack'nape give-a this letter to sir hugh; by gar it is a shallenge: i will cut his troat in dee park; and i will teach a scurvy jack-a-nape priest to meddle or make. you may be gone; it is not good you tarry here. by gar i will cut all his two stones; by gar he shall not have a stone to throw at his dog: [exit simple] mistress quickly alas he speaks but for his friend. doctor caius it is no matter-a ver dat: do not you tell-a me dat i shall have anne page for myself by gar i vill kill de jack priest; and i have appointed mine host of de jarteer to measure our weapon. by gar i will myself have anne page.                                                                                                                                                                                                                                                                                                                                                                                                                                                                                                                                                                                                                                                                                                                                                                                                                                                    0.014992\n",
      "in the latter part of the last century there lived a man of science- an eminent proficient in every branch of natural philosophy- who not long before our story opens had made experience of a spiritual affinity more attractive than any chemical one. he had left his laboratory to the care of an assistant cleared his fine countenance from the furnace-smoke washed the stain of acids from his fingers and persuaded a beautiful woman to become his wife. in those days when the comparatively recent discovery of electricity and other kindred mysteries of nature seemed to open paths into the region of miracle it was not unusual for the love of science to rival the love of woman in its depth and absorbing energy. the higher intellect the imagination the spirit and even the heart might all find their congenial aliment in pursuits which as some of their ardent votaries believed would ascend from one step of powerful intelligence to another until the philosopher should lay his hand on the secret of creative force and perhaps make new worlds for himself. we know not whether aylmer possessed this degree of faith in man's ultimate control over nature. he had devoted himself however too unreservedly to scientific studies ever to be weaned from them by any second passion. his love for his young wife might prove the stronger of the two; but it could only be by intertwining itself with his love of science and uniting the strength of the latter to its own. such an union accordingly took place and was attended with truly remarkable consequences and a deeply impressive moral. one day very soon after their marriage aylmer sat gazing at his wife with a trouble in his countenance that grew stronger until he spoke. georgiana said he has it never occurred to you that the mark upon your cheek might be removed no indeed said she smiling; but perceiving the seriousness of his manner she blushed deeply. to tell you the truth it has been so often called a charm that i was simple enough to imagine it might be so.                                                                                                                                                                                                                                                                     0.014513\n",
      "for the most wild yet most homely narrative which i am about to pen i neither expect nor solicit belief. mad indeed would i be to expect it in a case where my very senses reject their own evidence. yet mad am i not and very surely do i not dream. but to-morrow i die and to-day i would unburthen my soul. my immediate purpose is to place before the world plainly succinctly and without comment a series of mere household events. in their consequences these events have terrified have tortured have destroyed me. yet i will not attempt to expound them. to me they have presented little but horror to many they will seem less terrible than baroques. hereafter perhaps some intellect may be found which will reduce my phantasm to the common-place some intellect more calm more logical and far less excitable than my own which will perceive in the circumstances i detail with awe nothing more than an ordinary succession of very natural causes and effects. from my infancy i was noted for the docility and humanity of my disposition. my tenderness of heart was even so conspicuous as to make me the jest of my companions. i was especially fond of animals and was indulged by my parents with a great variety of pets. with these i spent most of my time and never was so happy as when feeding and caressing them. this peculiar of character grew with my growth and in my manhood i derived from it one of my principal sources of pleasure. to those who have cherished an affection for a faithful and sagacious dog i need hardly be at the trouble of explaining the nature or the intensity of the gratification thus derivable. there is something in the unselfish and self-sacrificing love of a brute which goes directly to the heart of him who has had frequent occasion to test the paltry friendship and gossamer fidelity of mere man. i married early and was happy to find in my wife a disposition not uncongenial with my own. observing my partiality for domestic pets she lost no opportunity of procuring those of the most agreeable kind. we had birds gold fish a fine dog rabbits a small monkey and a cat.                                                                                                                                                                                  0.013908\n",
      "Name: 4, dtype: float64\n",
      "Component 5:\n",
      "full_text\n",
      "this work is called the critique of practical reason not of the pure practical reason although its parallelism with the speculative critique would seem to require the latter term. the reason of this appears sufficiently from the treatise itself. its business is to show that there is pure practical reason and for this purpose it criticizes the entire practical faculty of reason. if it succeeds in this it has no need to criticize the pure faculty itself in order to see whether reason in making such a claim does not presumptuously overstep itself (as is the case with the speculative reason). for if as pure reason it is actually practical it proves its own reality and that of its concepts by fact and all disputation against the possibility of its being real is futile. with this faculty transcendental freedom is also established; freedom namely in that absolute sense in which speculative reason required it in its use of the concept of causality in order to escape the antinomy into which it inevitably falls when in the chain of cause and effect it tries to think the unconditioned. speculative reason could only exhibit this concept (of freedom) problematically as not impossible to thought without assuring it any objective reality and merely lest the supposed impossibility of what it must at least allow to be thinkable should endanger its very being and plunge it into an abyss of scepticism. inasmuch as the reality of the concept of freedom is proved by an apodeictic law of practical reason it is the keystone of the whole system of pure reason even the speculative and all other concepts (those of god and immortality) which as being mere ideas remain in it unsupported now attach themselves to this concept and by it obtain consistence and objective reality; that is to say their possibility is proved by the fact that freedom actually exists for this idea is revealed by the moral law.                                                                                                                                                                                                                                                                                                                                                                                                                                                                                                                                                                                                                                                                                                                                                                                                                                                                                                                                                                                                                                                                                                                                                                                                                                                                                                                                                                                                                                                                                                                                                                                                                                                                                                                                                                                                                                                                                                                                                                                                                                                                                                                                                                                                                                                                                                                                                                                                                                                                                                                                                                                                                                                                                                                                                                                                                                                                                                                                                                                                                                                                                                                                                                                                                                                                                                                                                                                                                                                                                                                                                                                                                                                                                                                                                                                                                                                                                                                                                                                                                                                                                                                                                                                                                                                                                                                                                                                                                                                                                                                                                                                                                                                                                                                                                                                                                                                                                                                                                                                                                                                                                                                                                                                                                                                                                                                                                                                                                                                                                                                                                                                                                                                                                                                                                                                                                                                                                                                                                                                                                                                                                                                                0.000715\n",
      ". all duties are either duties of right that is juridical duties (officia juris) or duties of virtue that is ethical duties (officia virtutis s. ethica). juridical duties are such as may be promulgated by external legislation; ethical duties are those for which such legislation is not possible. the reason why the latter cannot be properly made the subject of external legislation is because they relate to an end or final purpose which is itself at the same time embraced in these duties and which it is a duty for the individual to have as such. but no external legislation can cause any one to adopt a particular intention or to propose to himself a certain purpose; for this depends upon an internal condition or act of the mind itself. however external actions conducive to such a mental condition may be commanded without its being implied that the individual will of necessity make them an end to himself. but why then it may be asked is the science of morals or moral philosophy commonly entitled- especially by cicero- the science of duty and not also the science of right since duties and rights refer to each other the reason is this. we know our own freedom- from which all moral laws and consequently all rights as well as all duties arise- only through the moral imperative which is an immediate injunction of duty; whereas the conception of right as a ground of putting others under obligation has afterwards to be developed out of it. . in the doctrine of duty man may and ought to be represented in accordance with the nature of his faculty of freedom which is entirely supra-sensible. he is therefore to be represented purely according to his humanity as a personality independent of physical determinations (homo noumenon) in distinction from the same person as a man modified with these determinations (homo phenomenon). hence the conceptions of right and end when referred to duty in view of this twofold quality give the following division: .                                                                                                                                                                                                                                                                                                                                                                                                                                                                                                                                                                                                                                                                                                                                                                                                                                                                                                                                                                                                                                                                                                                                                                                                                                                                                                                                                                                                                                                                                                                                                                                                                                                                                                                                                                                                                                                                                                                                                                                                                                                                                                                                                                                                                                                                                                                                                                                                                                                                                                                                                                                                                                                                                                                                                                                                                                                                                                                                                                                                                                                                                                                                                                                                                                                                                                                                                                                                                                                                                                                                                                                                                                                                                                                                                                                                                                                                                                                                                                                                                                                                                                                                                                                                                                                                                                                                                                                                                                                                                                                                                                                                                                                                                                                                                                                                                                                                                                                                                                                                                                                                                                                                                                                                                                                                                                                                                                                                                                                                                                                                                                                                                                                                                                                                                                                                                                                                                                                                                                                                                                                                    0.000591\n",
      "ancient greek philosophy was divided into three sciences: physics ethics and logic. this division is perfectly suitable to the nature of the thing; and the only improvement that can be made in it is to add the principle on which it is based so that we may both satisfy ourselves of its completeness and also be able to determine correctly the necessary subdivisions. all rational knowledge is either material or formal: the former considers some object the latter is concerned only with the form of the understanding and of the reason itself and with the universal laws of thought in general without distinction of its objects. formal philosophy is called logic. material philosophy however has to do with determinate objects and the laws to which they are subject is again twofold; for these laws are either laws of nature or of freedom. the science of the former is physics that of the latter ethics; they are also called natural philosophy and moral philosophy respectively. logic cannot have any empirical part; that is a part in which the universal and necessary laws of thought should rest on grounds taken from experience; otherwise it would not be logic i.e. a canon for the understanding or the reason valid for all thought and capable of demonstration. natural and moral philosophy on the contrary can each have their empirical part since the former has to determine the laws of nature as an object of experience; the latter the laws of the human will so far as it is affected by nature: the former however being laws according to which everything does happen; the latter laws according to which everything ought to happen. ethics however must also consider the conditions under which what ought to happen frequently does not. .                                                                                                                                                                                                                                                                                                                                                                                                                                                                                                                                                                                                                                                                                                                                                                                                                                                                                                                                                                                                                                                                                                                                                                                                                                                                                                                                                                                                                                                                                                                                                                                                                                                                                                                                                                                                                                                                                                                                                                                                                                                                                                                                                                                                                                                                                                                                                                                                                                                                                                                                                                                                                                                                                                                                                                                                                                                                                                                                                                                                                                                                                                                                                                                                                                                                                                                                                                                                                                                                                                                                                                                                                                                                                                                                                                                                                                                                                                                                                                                                                                                                                                                                                                                                                                                                                                                                                                                                                                                                                                                                                                                                                                                                                                                                                                                                                                                                                                                                                                                                                                                                                                                                                                                                                                                                                                                                                                                                                                                                                                                                                                                                                                                                                                                                                                                                                                                                                                                                                                                                                                                                                                                                                                                                                                                                                                       0.000468\n",
      "this question may be said to be about as embarrassing to the jurist as the well-known question what is truth is to the logician. it is all the more so if on reflection he strives to avoid tautology in his reply and recognise the fact that a reference to what holds true merely of the laws of some one country at a particular time is not a solution of the general problem thus proposed. it is quite easy to state what may be right in particular cases (quid sit juris) as being what the laws of a certain place and of a certain time say or may have said; but it is much more difficult to determine whether what they have enacted is right in itself and to lay down a universal criterion by which right and wrong in general and what is just and unjust may be recognised. all this may remain entirely hidden even from the practical jurist until he abandon his empirical principles for a time and search in the pure reason for the sources of such judgements in order to lay a real foundation for actual positive legislation. in this search his empirical laws may indeed furnish him with excellent guidance; but a merely empirical system that is void of rational principles is like the wooden head in the fable of phaedrus fine enough in appearance but unfortunately it wants brain. . the conception of right- as referring to a corresponding obligation which is the moral aspect of it- in the first place has regard only to the external and practical relation of one person to another in so far as they can have influence upon each other immediately or mediately by their actions as facts. . in the second place the conception of right does not indicate the relation of the action of an individual to the wish or the mere desire of another as in acts of benevolence or of unkindness but only the relation of his free action to the freedom of action of the other. . and in the third place in this reciprocal relation of voluntary actions the conception of right does not take into consideration the matter of the matter of the act of will in so far as the end which any one may have in view in willing it is concerned. in other words it is not asked in a question of right whether any one on buying goods for his own business realizes a profit by the transaction or not; but only the form of the transaction is taken into account in considering the relation of the mutual acts of will. acts of will or voluntary choice are thus regarded only in so far as they are free and as to whether the action of one can harmonize with the freedom of another according to a universal law. state of nature every state is judge in its own cause it is one whose publicly expressed will whether in word or deed betrays a maxim which if it were taken as a universal rule would make a state of peace among the nations impossible and would necessarily perpetuate the state of nature. such is the violation of public treaties with regard to which it may be assumed that any such violation concerns all nations by threatening their freedom and that they are thus summoned to unite against such a wrong and to take away the power of committing it. but this does not include the right to partition and appropriate the country so as to make a state as it were disappear from the earth; for this would be an injustice to the people of that state who cannot lose their original right to unite into a commonwealth and to adopt such a new constitution as by its nature would be unfavourable to the inclination for war. further it may be said that the expression an unjust enemy in the state of nature is pleonastic; for the state of nature is itself a state of injustice. a just enemy would be one to whom i would do wrong in offering resistance; but such a one would really not be my enemy. . perpetual peace and a permanent congress of nations. the natural state of nations as well as of individual men is a state which it is a duty to pass out of in order to enter into a legal state. hence before this transition occurs all the right of nations and all the external property of states acquirable or maintainable by war are merely provisory; and they can only become peremptory in a universal union of states analogous to that by which a nation becomes a state. it is thus only that a real state of peace could be established. but with the too great extension of such a union of states over vast regions any government of it and consequently the protection of its individual members must at last become impossible; and thus a multitude of such corporations would again bring round a state of war. hence the perpetual peace which is the ultimate end of all the right of nations becomes in fact an impracticable idea. the political principles however which aim at such an end and which enjoin the formation of such unions among the states as may promote a continuous approximation to a perpetual peace are not impracticable; they are as practicable as this approximation itself which is a practical problem involving a duty and founded upon the right of individual men and states. such a union of states in order to maintain peace may be called a permanent congress of nations; and it is free to every neighbouring state to join in it. a union of this kind so far at least as regards the formalities of the right of nations in respect of the preservation of peace was presented in the first half of this century in the assembly of the states-general at the hague. in this assembly most of the european courts and even the smallest republics brought forward their complaints about the hostilities which were carried on by the one against the other. thus the whole of europe appeared like a single federated state accepted as umpire by the several nations in their public differences. but in place of this agreement the right of nations afterwards survived only in books; it disappeared from the cabinets or after force had been already used it was relegated in the form of theoretical deductions to the obscurity of archives. by such a congress is here meant only a voluntary combination of different states that would be dissoluble at any time and not such a union as is embodied in the united states of america founded upon a political constitution and therefore indissoluble. it is only by a congress of this kind that the idea of a public right of nations can be established and that the settlement of their differences by the mode of a civil process and not by the barbarous means of war can be realized.                                                                                                                                                                                                                                                                                                                                                                                                                                                                                                                                                                                                                                                                                                                                                                                                                                                                                                                                                                                                                                                                                                                                                                                                                                                                                                                                                                        0.000377\n",
      "king john bear mine to him and so depart in peace: be thou as lightning in the eyes of france; for ere thou canst report i will be there the thunder of my cannon shall be heard: so hence be thou the trumpet of our wrath and sullen presage of your own decay. an honourable conduct let him have: pembroke look to 't. farewell chatillon. [exeunt chatillon and pembroke] queen elinor what now my son have i not ever said how that ambitious constance would not cease till she had kindled france and all the world upon the right and party of her son this might have been prevented and made whole with very easy arguments of love which now the manage of two kingdoms must with fearful bloody issue arbitrate. king john our strong possession and our right for us. queen elinor your strong possession much more than your right or else it must go wrong with you and me: so much my conscience whispers in your ear which none but heaven and you and i shall hear. [enter a sheriff] essex my liege here is the strangest controversy come from country to be judged by you that e'er i heard: shall i produce the men king john let them approach. our abbeys and our priories shall pay this expedition's charge. [enter robert and the bastard] what men are you bastard your faithful subject i a gentleman born in northamptonshire and eldest son as i suppose to robert faulconbridge a soldier by the honour-giving hand of coeur-de-lion knighted in the field. king john what art thou robert the son and heir to that same faulconbridge. king john is that the elder and art thou the heir you came not of one mother then it seems. bastard most certain of one mother mighty king; that is well known; and as i think one father: but for the certain knowledge of that truth i put you o'er to heaven and to my mother: of that i doubt as all men's children may. queen elinor out on thee rude man thou dost shame thy mother and wound her honour with this diffidence. bastard i madam no i have no reason for it; that is my brother's plea and none of mine; the which if he can prove a' pops me out at least from fair five hundred pound a year: heaven guard my mother's honour and my land king john a good blunt fellow. why being younger born doth he lay claim to thine inheritance bastard i know not why except to get the land. but once he slander'd me with bastardy: but whether i be as true begot or no that still i lay upon my mother's head but that i am as well begot my liege fair fall the bones that took the pains for me compare our faces and be judge yourself. if old sir robert did beget us both and were our father and this son like him o old sir robert father on my knee i give heaven thanks i was not like to thee king john why what a madcap hath heaven lent us here queen elinor he hath a trick of coeur-de-lion's face; the accent of his tongue affecteth him. do you not read some tokens of my son in the large composition of this man king john mine eye hath well examined his parts and finds them perfect richard. sirrah speak what doth move you to claim your brother's land bastard because he hath a half-face like my father. with half that face would he have all my land: a half-faced groat five hundred pound a year robert my gracious liege when that my father lived your brother did employ my father much bastard well sir by this you cannot get my land: your tale must be how he employ'd my mother. robert and once dispatch'd him in an embassy to germany there with the emperor to treat of high affairs touching that time. the advantage of his absence took the king and in the mean time sojourn'd at my father's; where how he did prevail i shame to speak but truth is truth: large lengths of seas and shores between my father and my mother lay as i have heard my father speak himself when this same lusty gentleman was got. upon his death-bed he by will bequeath'd his lands to me and took it on his death that this my mother's son was none of his; and if he were he came into the world full fourteen weeks before the course of time. then good my liege let me have what is mine my father's land as was my father's will. king john sirrah your brother is legitimate; your father's wife did after wedlock bear him and if she did play false the fault was hers; which fault lies on the hazards of all husbands that marry wives. tell me how if my brother who as you say took pains to get this son had of your father claim'd this son for his in sooth good friend your father might have kept this calf bred from his cow from all the world; in sooth he might; then if he were my brother's my brother might not claim him; nor your father being none of his refuse him: this concludes; my mother's son did get your father's heir; your father's heir must have your father's land. bastard o i am scalded with my violent motion and spleen of speed to see your majesty king john o cousin thou art come to set mine eye: the tackle of my heart is crack'd and burn'd and all the shrouds wherewith my life should sail are turned to one thread one little hair: my heart hath one poor string to stay it by which holds but till thy news be uttered; and then all this thou seest is but a clod and module of confounded royalty. bastard the dauphin is preparing hitherward where heaven he knows how we shall answer him; for in a night the best part of my power as i upon advantage did remove were in the washes all unwarily devoured by the unexpected flood. [king john dies] salisbury you breathe these dead news in as dead an ear. my liege my lord but now a king now thus. prince henry even so must i run on and even so stop. what surety of the world what hope what stay when this was now a king and now is clay bastard art thou gone so i do but stay behind to do the office for thee of revenge and then my soul shall wait on thee to heaven as it on earth hath been thy servant still. now now you stars that move in your right spheres where be your powers show now your mended faiths and instantly return with me again to push destruction and perpetual shame out of the weak door of our fainting land. straight let us seek or straight we shall be sought; the dauphin rages at our very heels. salisbury it seems you know not then so much as we: the cardinal pandulph is within at rest who half an hour since came from the dauphin and brings from him such offers of our peace as we with honour and respect may take with purpose presently to leave this war. bastard he will the rather do it when he sees ourselves well sinewed to our defence. salisbury nay it is in a manner done already; for many carriages he hath dispatch'd to the sea-side and put his cause and quarrel to the disposing of the cardinal: with whom yourself myself and other lords if you think meet this afternoon will post to consummate this business happily. bastard let it be so: and you my noble prince with other princes that may best be spared shall wait upon your father's funeral. prince henry at worcester must his body be interr'd; for so he will'd it. bastard thither shall it then: and happily may your sweet self put on the lineal state and glory of the land to whom with all submission on my knee i do bequeath my faithful services and true subjection everlastingly. salisbury and the like tender of our love we make to rest without a spot for evermore. prince henry i have a kind soul that would give you thanks and knows not how to do it but with tears. bastard o let us pay the time but needful woe since it hath been beforehand with our griefs. this england never did nor never shall lie at the proud foot of a conqueror but when it first did help to wound itself. now these her princes are come home again come the three corners of the world in arms and we shall shock them. nought shall make us rue if england to itself do rest but true. [exeunt]    0.000338\n",
      "holy cause of freedom have had no other merit than that they were my best. we have all the same. we have been fellow-labourers and fellow-sufferers and heaven has rewarded us with a happy issue from our struggles. it rests now with ourselves alone to enjoy in peace and concord the blessings of self-government so long denied to mankind: to shew by example the sufficiency of human reason for the care of human affairs and that the will of the majority the natural law of every society is the only sure guardian of the rights of man. perhaps even this my sometimes err. but it's errors are honest solitary and short-lived. let us then my dear friends for ever bow down to the general reason of the society. we are safe with that even in it's deviations for it soon returns again to the right way. these are lessons we have learnt together. we have prospered in their practice and the liberality with which you are pleased to approve my attachment to the general rights of mankind assures me we are still together in these it's kindred sentiments. wherever i may be stationed by the will of my country it will be my delight to see in the general tide of happiness that yours too flows on in just place and measure. that it may flow thro' all times gathering strength as it goes and spreading the happy influence of reason and liberty over the face of the earth is my fervent prayer to heaven.                                                                                                                                                                                                                                                                                                                                                                                                                                                                                                                                                                                                                                                                                                                                                                                                                                                                                                                                                                                                                                                                                                                                                                                                                                                                                                                                                                                                                                                                                                                                                                                                                                                                                                                                                                                                                                                                                                                                                                                                                                                                                                                                                                                                                                                                                                                                                                                                                                                                                                                                                                                                                                                                                                                                                                                                                                                                                                                                                                                                                                                                                                                                                                                                                                                                                                                                                                                                                                                                                                                                                                                                                                                                                                                                                                                                                                                                                                                                                                                                                                                                                                                                                                                                                                                                                                                                                                                                                                                                                                                                                                                                                                                                                                                                                                                                                                                                                                                                                                                                                                                                                                                                                                                                                                                                                                                                                                                                                                                                                                                                                                                                                                                                                                                                                                                                                                                                                                                                                                                                                                                                                                                                                                                                                                                                                                                                                                                                                                                                                                                                                                                                                                                                  0.000336\n",
      "brother john baptist de coigne i am very much pleased with the visit you have made us and particularly that it has happened when the wise men from all parts of our country were assembled together in council and had an opportunity of hearing the friendly discourse you held to me. we are all sensible of your friendship and of the services you have rendered and i now for my countrymen return you thanks and most particularly for your assistance to the garrison which was besieged by the hostile indians. i hope it will please the great being above to continue you long in life in health and in friendship to us; and that your son will afterwards succeed you in wisdom in good disposition and in power over your people. i consider the name you have given as particularly honorable to me but i value it the more as it proves your attachment to my country. we like you are americans born in the same land and having the same interests. i have carefully attended to the figures represented on the skins and to their explanation and shall always keep them hanging on the walls in remembrance of you and your nation. i have joined with you sincerely in smoking the pipe of peace; it is a good old custom handed down by your ancestors and as such i respect and join in it with reverence. i hope we shall long continue to smoke in friendship together. you find us brother engaged in war with a powerful nation. our forefathers were englishmen inhabitants of a little island beyond the great water and being distressed for land they came and settled here. as long as we were young and weak the english whom we had left behind made us carry all our wealth to their country to enrich them; and not satisfied with this they at length began to say we were their slaves and should do whatever they ordered us. we were now grown up and felt ourselves strong we knew we were free as they were that we came here of our own accord and not at their biddance and were determined to be free as long as we should exist. for this reason they made war on us. they have now waged that war six years and have not yet won more land from us than will serve to bury the warriors they have lost. your old father the king of france has joined us in the war and done many good things for us. we are bound forever to love him and wish you to love him brother because he is a good and true friend to us. the spaniards have also joined us and other powerful nations are now entering into the war to punish the robberies and violences the english have committed on them. the english stand alone without a friend to support them hated by all mankind because they are proud and unjust. this quarrel when it first began was a family quarrel between us and the english who were then our brothers. we therefore did not wish you to engage in it at all. we are strong enough of ourselves without wasting your blood in fighting our battles. the english knowing this have been always suing to the indians to help them fight. we do not wish you to take up the hatchet. we love and esteem you. we wish you to multiply and be strong. the english on the other hand wish to set you and us to cutting one another's throats that when we are dead they may take all our land. it is better for you not to join in this quarrel unless the english have killed any of your warriors or done you any other injury. if they have you have a right to go to war with them and revenge the injury and we have none to restrain you. any free nation has a right to punish those who have done them an injury. i say the same brother as to the indians who treat you ill. while i advise you like an affectionate friend to avoid unnecessary war i do not assume the right of restraining you from punishing your enemies. if the english have injured you as they have injured the french and spaniards do like them and join us in the war. general clarke will receive you and show you the way to their towns. but if they have not injured you it is better for you to lie still and be quiet. this is the advice which has been always given by the great council of the americans. we must give the same because we are but one of thirteen nations who have agreed to act and speak togeth                                                                                                                                                                                                                                                                                                                                                                                                                                                                                                                                                                                                                                                                                                                                                                                                                                                                                                                                                                                                                                                                                                                                                                                                                                                                                                                                                                                                                                                                                                                                                                                                                                                                                                                                                                                                                                                                                                                                                                                                                                                                                                                                                                                                                                                                                                                                                                                                                                                                                                                                                                                                                                                                                                                                                                                                                                                                                                                                                                                                                                                                                                                                                                                                                                                                                                                                                                                                                                                                                                                                                                                                                                                                                                                                           0.000286\n",
      "called upon to undertake the duties of the first executive office of our country i avail myself of the presence of that portion of my fellow-citizens which is here assembled to express my grateful thanks for the favor with which they have been pleased to look toward me to declare a sincere consciousness that the task is above my talents and that i approach it with those anxious and awful presentiments which the greatness of the charge and the weakness of my powers so justly inspire. a rising nation spread over a wide and fruitful land traversing all the seas with the rich productions of their industry engaged in commerce with nations who feel power and forget right advancing rapidly to destinies beyond the reach of mortal eye when i contemplate these transcendent objects and see the honor the happiness and the hopes of this beloved country committed to the issue and the auspices of this day i shrink from the contemplation and humble myself before the magnitude of the undertaking. utterly indeed should i despair did not the presence of many whom i here see remind me that in the other high authorities provided by our constitution i shall find resources of wisdom of virtue and of zeal on which to rely under all difficulties. to you then gentlemen who are charged with the sovereign functions of legislation and to those associated with you i look with encouragement for that guidance and support which may enable us to steer with safety the vessel in which we are all embarked amidst the conflicting elements of a troubled world. during the contest of opinion through which we have passed the animation of discussions and of exertions has sometimes worn an aspect which might impose on strangers unused to think freely and to speak and to write what they think; but this being now decided by the voice of the nation announced according to the rules of the constitution all will of course arrange themselves under the will of the law and unite in common efforts for the common good. all too will bear in mind this sacred principle that though the will of the majority is in all cases to prevail that will to be rightful must be reasonable; that the minority possess their equal rights which equal law must protect and to violate would be oppression.                                                                                                                                                                                                                                                                                                                                                                                                                                                                                                                                                                                                                                                                                                                                                                                                                                                                                                                                                                                                                                                                                                                                                                                                                                                                                                                                                                                                                                                                                                                                                                                                                                                                                                                                                                                                                                                                                                                                                                                                                                                                                                                                                                                                                                                                                                                                                                                                                                                                                                                                                                                                                                                                                                                                                                                                                                                                                                                                                                                                                                                                                                                                                                                                                                                                                                                                                                                                                                                                                                                                                                                                                                                                                                                                                                                                                                                                                                                                                                                                                                                                                                                                                                                                                                                                                                                                                                                                                                                                                                                                                                                                                                                                                                                                                                                                                                                                                                                                                                                                                                                                                                                                                                                                                                                                                                                                                                                                                                                                                                                                                                                                                                                                                                                                                        0.000232\n",
      "that it is the opinion of this committee that when the general council and assembly or general court of any of his majesty's provinces or colonies in america shall propose to make provision according to the condition circumstance or situation of such province or colony for contributing their proportion to the common defence (such proportion to be raised under the authority of the general court or general assembly of such province or colony and disposable by parliament) and shall engage to make provision also for the support of the civil government and the administration of justice in such province or colony it will be proper if such proposal shall be approved by his majesty and the two houses of parliament; and for so long as such provision shall be made accordingly to forbear in respect of such province or colony to lay any duty tax or assessment or to impose any further duty tax or assessment except only such duties as it may be expedient to continue to levy or impose for the regulation of commerce the net produce of the duties last mentioned to be carried to the account of such province or colony respectively. the congress took the said resolution into consideration and are thereupon of opinion: that the colonies of america are entitled to the sole and exclusive privilege of giving and granting their own money; that this involves a right of deliberating whether they will make any gift for what purposes it shall be made and what shall be it's amount; and that it is a high breach of this privilege for any body of men extraneous to their constitutions to prescribe the purposes for which money shall be levied on them to take to themselves the authority of judging of their conditions circumstances and situations; and of determining the amount of the contribution to be levied.                                                                                                                                                                                                                                                                                                                                                                                                                                                                                                                                                                                                                                                                                                                                                                                                                                                                                                                                                                                                                                                                                                                                                                                                                                                                                                                                                                                                                                                                                                                                                                                                                                                                                                                                                                                                                                                                                                                                                                                                                                                                                                                                                                                                                                                                                                                                                                                                                                                                                                                                                                                                                                                                                                                                                                                                                                                                                                                                                                                                                                                                                                                                                                                                                                                                                                                                                                                                                                                                                                                                                                                                                                                                                                                                                                                                                                                                                                                                                                                                                                                                                                                                                                                                                                                                                                                                                                                                                                                                                                                                                                                                                                                                                                                                                                                                                                                                                                                                                                                                                                                                                                                                                                                                                                                                                                                                                                                                                                                                                                                                                                                                                                                                                                                                                                                                                                                                                                                                                                                                                                                                                                                                                                                                                                     0.000232\n",
      "as to the divination which takes place in sleep and is said to be based on dreams we cannot lightly either dismiss it with contempt or give it implicit confidence. the fact that all persons or many suppose dreams to possess a special significance tends to inspire us with belief in it [such divination] as founded on the testimony of experience; and indeed that divination in dreams should as regards some subjects be genuine is not incredible for it has a show of reason; from which one might form a like opinion also respecting all other dreams. yet the fact of our seeing no probable cause to account for such divination tends to inspire us with distrust. for in addition to its further unreasonableness it is absurd to combine the idea that the sender of such dreams should be god with the fact that those to whom he sends them are not the best and wisest but merely commonplace persons. if however we abstract from the causality of god none of the other causes assigned appears probable. for that certain persons should have foresight in dreams concerning things destined to take place at the pillars of hercules or on the banks of the borysthenes seems to be something to discover the explanation of which surpasses the wit of man. well then the dreams in question must be regarded either as causes or as tokens of the events or else as coincidences; either as all or some of these or as one only. i use the word 'cause' in the sense in which the moon is [the cause] of an eclipse of the sun or in which fatigue is [a cause] of fever; 'token' [in the sense in which] the entrance of a star [into the shadow] is a token of the eclipse or [in which] roughness of the tongue [is a token] of fever; while by 'coincidence' i mean for example the occurrence of an eclipse of the sun while some one is taking a walk; for the walking is neither a token nor a cause of the eclipse nor the eclipse [a cause or token] of the walking. for this reason no coincidence takes place according to a universal or general rule. are we then to say that some dreams are causes others tokens e.g. of events taking place in the bodily organism at all events even scientific physicians tell us that one should pay diligent attention to dreams and to hold this view is reasonable also for those who are not practitioners but speculative philosophers. for the movements which occur in the daytime [within the body] are unless very great and violent lost sight of in contrast with the waking movements which are more impressive. in sleep the opposite takes place for then even trifling movements seem considerable. this is plain in what often happens during sleep; for example dreamers fancy that they are affected by thunder and lightning when in fact there are only faint ringings in their ears; or that they are enjoying honey or other sweet savours when only a tiny drop of phlegm is flowing down [the oesophagus]; or that they are walking through fire and feeling intense heat when there is only a slight warmth affecting certain parts of the body. when they are awakened these things appear to them in this their true character. but since the beginnings of all events are small so it is clear are those also of the diseases or other affections about to occur in our bodies. in conclusion it is manifest that these beginnings must be more evident in sleeping than in waking moments. nay indeed it is not improbable that some of the presentations which come before the mind in sleep may even be causes of the actions cognate to each of them. for as when we are about to act [in waking hours] or are engaged in any course of action or have already performed certain actions we often find ourselves concerned with these actions or performing them in a vivid dream; the cause whereof is that the dream-movement has had a way paved for it from the original movements set up in the daytime; exactly so but conversely it must happen that the movements set up first in sleep should also prove to be starting-points of actions to be performed in the daytime since the recurrence by day of the thought of these actions also has had its way paved for it in the images before the mind at night. thus then it is quite conceivable that some dreams may be tokens and causes [of future events]. most [so-called prophetic] dreams are however to be classed as mere coincidences especially all such as are extravagant and those in the fulfilment of which the dreamers have no initiative such as in the case of a sea-fight or of things taking place far away. as regards these it is natural that the fact should stand as it does whenever a person on mentioning something finds the very thing mentioned come to pass. why indeed should this not happen also in sleep the probability is rather that many such things should happen. as then one's mentioning a particular person is neither token nor cause of this person's presenting himself so in the parallel instance the dream is to him who has seen it neither token nor cause of its [so-called] fulfilment but a mere coincidence. hence the fact that many dreams have no 'fulfilment' for coincidence do not occur according to any universal or general law.                                                                                                                                                                                                                                                                                                                                                                                                                                                                                                                                                                                                                                                                                                                                                                                                                                                                                                                                                                                                                                                                                                                                                                                                                                                                                                                                                                                                                                                                                                                                                                                                                                                                                                                                                                                                                                                                                                                                                                                                                                                                                                                                                                                                                                                                                                                                                                                                                                                                                                                                                                                                                                                                                                                                      0.000195\n",
      "Name: 5, dtype: float64\n",
      "Component 6:\n",
      "full_text\n",
      "soc. i often envy the profession of a rhapsode ion; for you have always to wear fine clothes and to look as beautiful as you can is a part of your art. then again you are obliged to be continually in the company of many good poets; and especially of homer who is the best and most divine of them; and to understand him and not merely learn his words by rote is a thing greatly to be envied. and no man can be a rhapsode who does not understand the meaning of the poet. for the rhapsode ought to interpret the mind of the poet to his hearers but how can he interpret him well unless he knows what he means all this is greatly to be envied. ion. very true socrates; interpretation has certainly been the most laborious part of my art; and i believe myself able to speak about homer better than any man; and that neither metrodorus of lampsacus nor stesimbrotus of thasos nor glaucon nor any one else who ever was had as good ideas about homer as i have or as many. soc. i am glad to hear you say so ion; i see that you will not refuse to acquaint me with them. ion. certainly socrates; and you really ought to hear how exquisitely i render homer. i think that the homeridae should give me a golden crown. soc. i shall take an opportunity of hearing your embellishments of him at some other time. but just now i should like to ask you a question: does your art extend to hesiod and archilochus or to homer only                                                                                                                                                                                                                                                                                                                                                                                                                                                                                                                                                                                                                                                                                                                                                                                                                                                                                                                                                                                                                                                                                                                                                                            0.001270\n",
      "soc. very good callicles; but will he answer our questions for i want to hear from him what is the nature of his art and what it is which he professes and teaches; he may as you [chaerephon] suggest defer the exhibition to some other time. cal. there is nothing like asking him socrates; and indeed to answer questions is a part of his exhibition for he was saying only just now that any one in my house might put any question to him and that he would answer. soc. how fortunate will you ask him chaerephon- chaer. what shall i ask him soc. ask him who he is. chaer. what do you mean soc. i mean such a question as would elicit from him if he had been a maker of shoes the answer that he is a cobbler. do you understand chaer. i understand and will ask him: tell me gorgias is our friend callicles right in saying that you undertake to answer any questions which you are asked gorgias. quite right chaerephon: i was saying as much only just now; and i may add that many years have elapsed since any one has asked me a new one. chaer. then you must be very ready gorgias. gor. of that chaerephon you can make trial. polus. yes indeed and if you like chaerephon you may make trial of me too for i think that gorgias who has been talking a long time is tired. .                                                                                                                                                                                                                                                                                                                                                                                                                                                                                                                                                                                                                                                                                                                                                                                                                                                                                                                                                                                                                                                                                                                                                                                                                                                                                                                                 0.001172\n",
      "soc. he whom you mean crito is euthydemus; and on my left hand there was his brother dionysodorus who also took part in the conversation. cri. neither of them are known to me socrates; they are a new importation of sophists as i should imagine. of what country are they and what is their line of wisdom soc. as to their origin i believe that they are natives of this part of the world and have migrated from chios to thurii; they were driven out of thurii and have been living for many years past in these regions. as to their wisdom about which you ask crito they are wonderful-consummate i never knew what the true pancratiast was before; they are simply made up of fighting not like the two acarnanian brothers who fight with their bodies only but this pair of heroes besides being perfect in the use of their bodies are invincible in every sort of warfare; for they are capital at fighting in armour and will teach the art to any one who pays them; and also they are most skilful in legal warfare; they will plead themselves and teach others to speak and to compose speeches which will have an effect upon the courts. and this was only the beginning of their wisdom but they have at last carried out the pancratiastic art to the very end and have mastered the only mode of fighting which had been hitherto neglected by them; and now no one dares even to stand up against them: such is their skill in the war of words that they can refute any proposition whether true or false. now i am thinking crito of placing myself in their hands; for they say that in a short time they can impart their skill to any one. cri. but socrates are you not too old there may be reason to fear that.                                                                                                                                                                                                                                                                                                                                                                                                                                                                                                                                                                                                                                                                                                                                                                                                                                                                                       0.000951\n",
      "ancient greek philosophy was divided into three sciences: physics ethics and logic. this division is perfectly suitable to the nature of the thing; and the only improvement that can be made in it is to add the principle on which it is based so that we may both satisfy ourselves of its completeness and also be able to determine correctly the necessary subdivisions. all rational knowledge is either material or formal: the former considers some object the latter is concerned only with the form of the understanding and of the reason itself and with the universal laws of thought in general without distinction of its objects. formal philosophy is called logic. material philosophy however has to do with determinate objects and the laws to which they are subject is again twofold; for these laws are either laws of nature or of freedom. the science of the former is physics that of the latter ethics; they are also called natural philosophy and moral philosophy respectively. logic cannot have any empirical part; that is a part in which the universal and necessary laws of thought should rest on grounds taken from experience; otherwise it would not be logic i.e. a canon for the understanding or the reason valid for all thought and capable of demonstration. natural and moral philosophy on the contrary can each have their empirical part since the former has to determine the laws of nature as an object of experience; the latter the laws of the human will so far as it is affected by nature: the former however being laws according to which everything does happen; the latter laws according to which everything ought to happen. ethics however must also consider the conditions under which what ought to happen frequently does not. .                                                                                                                                                                                                                                                                                                                                                                                                                                                                                                                                                                                                                                                                                                                                                                                                                                 0.000817\n",
      "those who are esteemed umpires of taste are often persons knowledge of admired pictures or sculptures and have an inclination for whatever is elegant; but if you inquire whether they are beautiful souls and whether their own acts are like fair pictures you learn that they are selfish and sensual. their cultivation is local as if you should rub a log of dry wood in one spot to produce fire all the rest remaining cold. their knowledge of the fine arts is some study of rules and particulars or some limited judgment of color or form which is exercised for amusement or for show. it is a proof of the shallowness of the doctrine of beauty as it lies in the minds of our amateurs that men seem to have lost the perception of the instant dependence of form upon soul. there is no doctrine of forms in our philosophy. we were put into our bodies as fire is put into a pan to be carried about; but there is no accurate adjustment between the spirit and the organ much less is the latter the germination of the former. so in regard to other forms the intellectual men do not believe in any essential dependence of the material world on thought and volition. theologians think it a pretty air-castle to talk of the spiritual meaning of a ship or a cloud of a city or a contract but they prefer to come again to the solid ground of historical evidence; and even the poets are contented with a civil and conformed manner of living and to write poems from the fancy at a safe distance from their own experience. but the highest minds of the world have never ceased to explore the double meaning or shall i say the quadruple or the centuple or much more manifold meaning of every sensuous fact: orpheus empedocles heraclitus plato plutarch dante swedenborg and the masters of sculpture picture and poetry. for we are not pans and barrows nor even porters of the fire and torch-bearers but children of the fire made of it and only the same divinity transmuted and at two or three removes when we know least about it. and this hidden truth that the fountains whence all this river of time and its creatures floweth are intrinsically ideal and beautiful draws us to the consideration of the nature and functions of the poet or the man of beauty to the means and materials he uses and to the general aspect of the art in the present time.                                                                                                                                                                                                                      0.000732\n",
      "soc. a young man who is little known euthyphro; and i hardly know him: his name is meletus and he is of the deme of pitthis. perhaps you may remember his appearance; he has a beak and long straight hair and a beard which is ill grown. euth. no i do not remember him socrates. but what is the charge which he brings against you soc. what is the charge well a very serious charge which shows a good deal of character in the young man and for which he is certainly not to be despised. he says he knows how the youth are corrupted and who are their corruptors. i fancy that he must be a wise man and seeing that i am the reverse of a wise man he has found me out and is going to accuse me of corrupting his young friends. and of this our mother the state is to be the judge. of all our political men he is the only one who seems to me to begin in the right way with the cultivation of virtue in youth; like a good husbandman he makes the young shoots his first care and clears away us who are the destroyers of them. this is only the first step; he will afterwards attend to the elder branches; and if he goes on as he has begun he will be a very great public benefactor. euth. i hope that he may; but i rather fear socrates that the opposite will turn out to be the truth. my opinion is that in attacking you he is simply aiming a blow at the foundation of the state. but in what way does he say that you corrupt the young soc. he brings a wonderful accusation against me which at first hearing excites surprise: he says that i am a poet or maker of gods and that i invent new gods and deny the existence of old ones; this is the ground of his indictment.                                                                                                                                                                                                                                                                                                                                                                                                                                                                                                                                                                                                                                                                                                                                                                                                                                                                                                                       0.000701\n",
      "all men by nature desire to know. an indication of this is the delight we take in our senses; for even apart from their usefulness they are loved for themselves; and above all others the sense of sight. for not only with a view to action but even when we are not going to do anything we prefer seeing (one might say) to everything else. the reason is that this most of all the senses makes us know and brings to light many differences between things. by nature animals are born with the faculty of sensation and from sensation memory is produced in some of them though not in others. and therefore the former are more intelligent and apt at learning than those which cannot remember; those which are incapable of hearing sounds are intelligent though they cannot be taught e.g. the bee and any other race of animals that may be like it; and those which besides memory have this sense of hearing can be taught. the animals other than man live by appearances and memories and have but little of connected experience; but the human race lives also by art and reasonings. now from memory experience is produced in men; for the several memories of the same thing produce finally the capacity for a single experience. and experience seems pretty much like science and art but really science and art come to men through experience; for 'experience made art' as polus says 'but inexperience luck.' now art arises when from many notions gained by experience one universal judgement about a class of objects is produced. for to have a judgement that when callias was ill of this disease this did him good and similarly in the case of socrates and in many individual cases is a matter of experience; but to judge that it has done good to all persons of a certain constitution marked off in one class when they were ill of this disease e.g. to phlegmatic or bilious people when burning with fevers-this is a matter of art. .                                                                                                                                                                                                                                                                                                                                                                                                                                                                                                                                                                                                                                                   0.000681\n",
      "these prolegomena are destined for the use not of pupils but of future teachers and even the latter should not expect that they will be serviceable for the systematic exposition of a ready-made science but merely for the discovery of the science itself. there are scholarly men to whom the history of philosophy (both ancient and modern) is philosophy itself; for these the present prolegomena are not written. they must wait till those who endeavor to draw from the fountain of reason itself have completed their work; it will then be the historian's turn to inform the world of what has been done. unfortunately nothing can be said which in their opinion has not been said before and truly the same prophecy applies to all future time; for since the human reason has for many centuries speculated upon innumerable objects in various ways it is hardly to be expected that we should not be able to discover analogies for every new idea among the old sayings of past ages. my object is to persuade all those who think metaphysics worth studying that it is absolutely necessary to pause a moment and neglecting all that has been done to propose first the preliminary question 'whether such a thing as metaphysics be at all possible' if it be a science how comes it that it cannot like other sciences obtain universal and permanent recognition if not how can it maintain its pretensions and keep the human mind in suspense with hopes never ceasing yet never fulfilled whether then we demonstrate our knowledge or our ignorance in this field we must come once for all to a definite conclusion respecting the nature of this so-called science which cannot possibly remain on its present footing. it seems almost ridiculous while every other science is continually advancing that in this which pretends to be wisdom incarnate for whose oracle every one inquires we should constantly move round the same spot without gaining a single step. and so its followers having melted away we do not find men confident of their ability to shine in other sciences venturing their reputation here where everybody however ignorant in other matters may deliver a final verdict as in this domain there is as yet no standard weight and measure to distinguish sound knowledge from shallow talk.                                                                                                                                                                                                                                                                              0.000616\n",
      ". all duties are either duties of right that is juridical duties (officia juris) or duties of virtue that is ethical duties (officia virtutis s. ethica). juridical duties are such as may be promulgated by external legislation; ethical duties are those for which such legislation is not possible. the reason why the latter cannot be properly made the subject of external legislation is because they relate to an end or final purpose which is itself at the same time embraced in these duties and which it is a duty for the individual to have as such. but no external legislation can cause any one to adopt a particular intention or to propose to himself a certain purpose; for this depends upon an internal condition or act of the mind itself. however external actions conducive to such a mental condition may be commanded without its being implied that the individual will of necessity make them an end to himself. but why then it may be asked is the science of morals or moral philosophy commonly entitled- especially by cicero- the science of duty and not also the science of right since duties and rights refer to each other the reason is this. we know our own freedom- from which all moral laws and consequently all rights as well as all duties arise- only through the moral imperative which is an immediate injunction of duty; whereas the conception of right as a ground of putting others under obligation has afterwards to be developed out of it. . in the doctrine of duty man may and ought to be represented in accordance with the nature of his faculty of freedom which is entirely supra-sensible. he is therefore to be represented purely according to his humanity as a personality independent of physical determinations (homo noumenon) in distinction from the same person as a man modified with these determinations (homo phenomenon). hence the conceptions of right and end when referred to duty in view of this twofold quality give the following division: .                                                                                                                                                                                                                                                                                                                                                                                                                                                                                                                                                                                              0.000584\n",
      "the times as we say or the present aspects of our social state theral science agriculture art trade letters have their root in an invisible spiritual reality. to appear in these aspects they must first exist or have some necessary foundation. beside all the small reasons we assign there is a great reason for the existence of every extant fact; a reason which lies grand and immovable often unsuspected behind it in silence. the times are the masquerade of the eternities; trivial to the dull tokens of noble and majestic agents to the wise; the receptacle in which the past leaves its history; the quarry out of which the genius of to-day is building up the future. the times the nations manners institutions opinions votes are to be studied as omens as sacred leaves whereon a weighty sense is inscribed if we have the wit and the love to search it out. nature itself seems to propound to us this topic and to invite us to explore the meaning of the conspicuous facts of the day. everything that is popular it has been said deserves the attention of the philosopher: and this for the obvious reason that although it may not be of any worth in itself yet it characterizes the people. here is very good matter to be handled if we are skilful; an abundance of important practical questions which it behoves us to understand. let us examine the pretensions of the attacking and defending parties. here is this great fact of conservatism entrenched in its immense redoubts with himmaleh for its front and atlas for its flank and andes for its rear and the atlantic and pacific seas for its ditches and trenches which has planted its crosses and crescents and stars and stripes and various signs and badges of possession over every rood of the planet and says `i will hold fast; and to whom i will will i give; and whom i will will i exclude and starve:' so says conservatism; and all the children of men attack the colossus in their youth and all or all but a few bow before it when they are old. a necessity not yet commanded a negative imposed on the will of man by his condition a deficiency in his force is the foundation on which it rests. let this side be fairly stated. meantime on the other part arises reform and offers the sentiment of love as an overmatch to this material might. i wish to consider well this affirmative side which has a loftier port and reason than heretofore which encroaches on the other every day puts it out of countenance out of reason and out of temper and leaves it nothing but silence and possession.    0.000581\n",
      "Name: 6, dtype: float64\n",
      "Component 7:\n",
      "full_text\n",
      "soc. i often envy the profession of a rhapsode ion; for you have always to wear fine clothes and to look as beautiful as you can is a part of your art. then again you are obliged to be continually in the company of many good poets; and especially of homer who is the best and most divine of them; and to understand him and not merely learn his words by rote is a thing greatly to be envied. and no man can be a rhapsode who does not understand the meaning of the poet. for the rhapsode ought to interpret the mind of the poet to his hearers but how can he interpret him well unless he knows what he means all this is greatly to be envied. ion. very true socrates; interpretation has certainly been the most laborious part of my art; and i believe myself able to speak about homer better than any man; and that neither metrodorus of lampsacus nor stesimbrotus of thasos nor glaucon nor any one else who ever was had as good ideas about homer as i have or as many. soc. i am glad to hear you say so ion; i see that you will not refuse to acquaint me with them. ion. certainly socrates; and you really ought to hear how exquisitely i render homer. i think that the homeridae should give me a golden crown. soc. i shall take an opportunity of hearing your embellishments of him at some other time. but just now i should like to ask you a question: does your art extend to hesiod and archilochus or to homer only                                                                                                                                                                                                                                                                                                                                                                                                                                                                                                                                                                                                                                                                                                                                                                                                                                                                                                                                                                                         0.001314\n",
      "soc. very good callicles; but will he answer our questions for i want to hear from him what is the nature of his art and what it is which he professes and teaches; he may as you [chaerephon] suggest defer the exhibition to some other time. cal. there is nothing like asking him socrates; and indeed to answer questions is a part of his exhibition for he was saying only just now that any one in my house might put any question to him and that he would answer. soc. how fortunate will you ask him chaerephon- chaer. what shall i ask him soc. ask him who he is. chaer. what do you mean soc. i mean such a question as would elicit from him if he had been a maker of shoes the answer that he is a cobbler. do you understand chaer. i understand and will ask him: tell me gorgias is our friend callicles right in saying that you undertake to answer any questions which you are asked gorgias. quite right chaerephon: i was saying as much only just now; and i may add that many years have elapsed since any one has asked me a new one. chaer. then you must be very ready gorgias. gor. of that chaerephon you can make trial. polus. yes indeed and if you like chaerephon you may make trial of me too for i think that gorgias who has been talking a long time is tired. .                                                                                                                                                                                                                                                                                                                                                                                                                                                                                                                                                                                                                                                                                                                                                                                                                                                                                                                                                                                                                                                                                                                                              0.001186\n",
      "soc. he whom you mean crito is euthydemus; and on my left hand there was his brother dionysodorus who also took part in the conversation. cri. neither of them are known to me socrates; they are a new importation of sophists as i should imagine. of what country are they and what is their line of wisdom soc. as to their origin i believe that they are natives of this part of the world and have migrated from chios to thurii; they were driven out of thurii and have been living for many years past in these regions. as to their wisdom about which you ask crito they are wonderful-consummate i never knew what the true pancratiast was before; they are simply made up of fighting not like the two acarnanian brothers who fight with their bodies only but this pair of heroes besides being perfect in the use of their bodies are invincible in every sort of warfare; for they are capital at fighting in armour and will teach the art to any one who pays them; and also they are most skilful in legal warfare; they will plead themselves and teach others to speak and to compose speeches which will have an effect upon the courts. and this was only the beginning of their wisdom but they have at last carried out the pancratiastic art to the very end and have mastered the only mode of fighting which had been hitherto neglected by them; and now no one dares even to stand up against them: such is their skill in the war of words that they can refute any proposition whether true or false. now i am thinking crito of placing myself in their hands; for they say that in a short time they can impart their skill to any one. cri. but socrates are you not too old there may be reason to fear that.                                                                                                                                                                                                                                                                                                                                                                                                                                                                                                                                                                                                                                                                                                    0.000896\n",
      "soc. a young man who is little known euthyphro; and i hardly know him: his name is meletus and he is of the deme of pitthis. perhaps you may remember his appearance; he has a beak and long straight hair and a beard which is ill grown. euth. no i do not remember him socrates. but what is the charge which he brings against you soc. what is the charge well a very serious charge which shows a good deal of character in the young man and for which he is certainly not to be despised. he says he knows how the youth are corrupted and who are their corruptors. i fancy that he must be a wise man and seeing that i am the reverse of a wise man he has found me out and is going to accuse me of corrupting his young friends. and of this our mother the state is to be the judge. of all our political men he is the only one who seems to me to begin in the right way with the cultivation of virtue in youth; like a good husbandman he makes the young shoots his first care and clears away us who are the destroyers of them. this is only the first step; he will afterwards attend to the elder branches; and if he goes on as he has begun he will be a very great public benefactor. euth. i hope that he may; but i rather fear socrates that the opposite will turn out to be the truth. my opinion is that in attacking you he is simply aiming a blow at the foundation of the state. but in what way does he say that you corrupt the young soc. he brings a wonderful accusation against me which at first hearing excites surprise: he says that i am a poet or maker of gods and that i invent new gods and deny the existence of old ones; this is the ground of his indictment.                                                                                                                                                                                                                                                                                                                                                                                                                                                                                                                                                                                                                                                                                                                                    0.000688\n",
      "cr. and yet other old men find themselves in similar misfortunes and age does not prevent them from repining. soc. that may be. but you have not told me why you come at this early hour. cr. i come to bring you a message which is sad and painful; not as i believe to yourself but to all of us who are your friends and saddest of all to me. soc. what i suppose that the ship has come from delos on the arrival of which i am to die cr. no the ship has not actually arrived but she will probably be here to-day as persons who have come from sunium tell me that they have left her there; and therefore to-morrow socrates will be the last day of your life. soc. very well crito; if such is the will of god i am willing; but my belief is that there will be a delay of a day. cr. why do you say this soc. i will tell you. i am to die on the day after the arrival of the ship cr. yes; that is what the authorities say. soc. but i do not think that the ship will be here until to-morrow; this i gather from a vision which i had last night or rather only just now when you fortunately allowed me to sleep. cr. and what was the nature of the vision soc. there came to me the likeness of a woman fair and comely clothed in white raiment who called to me and said: o socrates- the third day hence to phthia shalt thou go. cr. what a singular dream socrates soc. there can be no doubt about the meaning crito i think. cr. yes: the meaning is only too clear. but o my beloved socrates let me entreat you once more to take my advice and escape. for if you die i shall not only lose a friend who can never be replaced but there is another evil: people who do not know you and me will believe that i might have saved you if i had been willing to give money but that i did not care. now can there be a worse disgrace than this- that i should be thought to value money more than the life of a friend for the many will not be persuaded that i wanted you to escape and that you refused.                                                                                                                                                                                                                                                                                                                                                                                                             0.000630\n",
      "there are few places more favorable to the study of character than an english country church. i was once passing a few weeks at the seat of a friend who resided in the vicinity of one the appearance of which particularly struck my fancy. it was one of those rich morsels of quaint antiquity which give such a peculiar charm to english landscape. it stood in the midst of a country filled with ancient families and contained within its cold and silent aisles the congregated dust of many noble generations. the interior walls were incrusted with monuments of every age and style. the light streamed through windows dimmed with armorial bearings richly emblazoned in stained glass. in various parts of the church were tombs of knights and high-born dames of gorgeous workmanship with their effigies in colored marble. on every side the eye was struck with some instance of aspiring mortality; some haughty memorial which human pride had erected over its kindred dust in this temple of the most humble of all religions. the congregation was composed of the neighboring people of rank who sat in pews sumptuously lined and cushioned furnished with richly-gilded prayer-books and decorated with their arms upon the pew doors; of the villagers and peasantry who filled the back seats and a small gallery beside the organ; and of the poor of the parish who were ranged on benches in the aisles. the service was performed by a snuffling well-fed vicar who had a snug dwelling near the church. he was a privileged guest at all the tables of the neighborhood and had been the keenest fox-hunter in the country; until age and good living had disabled him from doing any thing more than ride to see the hounds throw off and make one at the hunting dinner.                                                                                                                                                                                                                                                                                                                                                                                                                                                                                                                                                                                                                                         0.000495\n",
      "characters and manners. even when a mere child i began my travels and made many tours of discovery into foreign parts and unknown regions of my native city to the frequent alarm of my parents and the emolument of the town-crier. as i grew into boyhood i extended the range of my observations. my holiday afternoons were spent in rambles about the surrounding country. i made myself familiar with all its places famous in history or fable. i knew every spot where a murder or robbery had been committed or a ghost seen. i visited the neighboring villages and added greatly to my stock of knowledge by noting their habits and customs and conversing with their sages and great men. i even journeyed one long summer's day to the summit of the most distant hill whence i stretched my eye over many a mile of terra incognita and was astonished to find how vast a globe i inhabited. this rambling propensity strengthened with my years. books of voyages and travels became my passion and in devouring their contents i neglected the regular exercises of the school. how wistfully would i wander about the pier-heads in fine weather and watch the parting ships bound to distant climes- with what longing eyes would i gaze after their lessening sails and waft myself in imagination to the ends of the earth further reading and thinking though they brought this vague inclination into more reasonable bounds only served to make it more decided. i visited various parts of my own country; and had i been merely a lover of fine scenery i should have felt little desire to seek elsewhere its gratification for on no country have the charms of nature been more prodigally lavished. her mighty lakes like oceans of liquid silver; her mountains with their bright aerial tints; her valleys teeming with wild fertility; her tremendous cataracts thundering in their solitudes; her boundless plains waving with spontaneous verdure; her broad deep rivers rolling in solemn silence to the ocean; her trackless forests where vegetation puts forth all its magnificence; her skies kindling with the magic of summer clouds and glorious sunshine;- no never need an american look beyond his own country for the sublime and beautiful of natural scenery.                                                                                                                                          0.000442\n",
      "when i woke the next morning it seemed as if all the events of the preceding evening had been a dream and nothing but the identity of the ancient chamber convinced me of their reality. while i lay musing on my pillow i heard the sound of little feet pattering outside of the door and a whispering consultation. presently a choir of small voices chanted forth an old christmas carol the burden of which was- rejoice our savior he was born on christmas day in the morning. i rose softly slipt on my clothes opened the door suddenly and beheld one of the most beautiful little fairy groups that a painter could imagine. it consisted of a boy and two girls the eldest not more than six and lovely as seraphs. they were going the rounds of the house and singing at every chamber door; but my sudden appearance frightened them into mute bashfulness. they remained for a moment playing on their lips with their fingers and now and then stealing a shy glance from under their eyebrows until as if by one impulse they scampered away and as they turned an angle of the gallery i heard them laughing in triumph at their escape. every thing conspired to produce kind and happy feelings in this stronghold of old-fashioned hospitality. the window of my chamber looked out upon what in summer would have been a beautiful landscape. there was a sloping lawn a fine stream winding at the foot of it and a track of park beyond with noble clumps of trees and herds of deer. at a distance was a neat hamlet with the smoke from the cottage chimneys hanging over it; and a church with its dark spire in strong relief against the clear cold sky. the house was surrounded with evergreens according to the english custom which would have given almost an appearance of summer; but the morning was extremely frosty; the light vapor of the preceding evening had been precipitated by the cold and covered all the trees and every blade of grass with its fine crystallizations. the rays of a bright morning sun had a dazzling effect among the glittering foliage. a robin perched upon the top of a mountain ash that hung its clusters of red berries just before my window was basking himself in the sunshine and piping a few querulous notes; and a peacock was displaying all the glories of his train and strutting with the pride and gravity of a spanish grandee on the terrace walk below.    0.000394\n",
      "nothing in england exercises a more delightful spell over my imagination than the lingerings of the holiday customs and rural games of former times. they recall the pictures my fancy used to draw in the may morning of life when as yet i only knew the world through books and believed it to be all that poets had painted it; and they bring with them the flavor of those honest days of yore in which perhaps with equal fallacy i am apt to think the world was more homebred social and joyous than at present. i regret to say that they are daily growing more and more faint being gradually worn away by time but still more obliterated by modern fashion. they resemble those picturesque morsels of gothic architecture which we see crumbling in various parts of the country partly dilapidated by the waste of ages and partly lost in the additions and alterations of later days. poetry however clings with cherishing fondness about the rural game and holiday revel from which it has derived so many of its themes- as the ivy winds its rich foliage about the gothic arch and mouldering tower gratefully repaying their support by clasping together their tottering remains and as it were embalming them in verdure. of all the old festivals however that of christmas awakens the strongest and most heartfelt associations. there is a tone of solemn and sacred feeling that blends with our conviviality and lifts the spirit to a state of hallowed and elevated enjoyment. the services of the church about this season are extremely tender and inspiring. they dwell on the beautiful story of the origin of our faith and the pastoral scenes that accompanied its announcement. they gradually increase in fervor and pathos during the season of advent until they break forth in full jubilee on the morning that brought peace and good-will to men. i do not know a grander effect of music on the moral feelings than to hear the full choir and the pealing organ performing a christmas anthem in a cathedral and filling every part of the vast pile with triumphant harmony.                                                                                                                                                                                                                                                                                                                        0.000372\n",
      "there is a very pleasant and commodious library in the capitol; and from a balcony in front the bird's-eye view of which i have just spoken may be had together with a beautiful prospect of the adjacent country. in one of the ornamented portions of the building there is a figure of justice; whereunto the guide book says 'the artist at first contemplated giving more of nudity but he was warned that the public sentiment in this country would not admit of it and in his caution he has gone perhaps into the opposite extreme.' poor justice she has been made to wear much stranger garments in america than those she pines in in the capitol. let us hope that she has changed her dress-maker since they were fashioned and that the public sentiment of the country did not cut out the clothes she hides her lovely figure in just now. the house of representatives is a beautiful and spacious hall of semicircular shape supported by handsome pillars. one part of the gallery is appropriated to the ladies and there they sit in front rows and come in and go out as at a play or concert. the chair is canopied and raised considerably above the floor of the house; and every member has an easy chair and a writing desk to himself: which is denounced by some people out of doors as a most unfortunate and injudicious arrangement tending to long sittings and prosaic speeches. it is an elegant chamber to look at but a singularly bad one for all purposes of hearing. the senate which is smaller is free from this objection and is exceedingly well adapted to the uses for which it is designed. the sittings i need hardly add take place in the day; and the parliamentary forms are modelled on those of the old country. i was sometimes asked in my progress through other places whether i had not been very much impressed by the heads of the lawmakers at washington; meaning not their chiefs and leaders but literally their individual and personal heads whereon their hair grew and whereby the phrenological character of each legislator was expressed: and i almost as often struck my questioner dumb with indignant consternation by answering 'no that i didn't remember being at all overcome.' as i must at whatever hazard repeat the avowal here i will follow it up by relating my impressions on this subject in as few words as possible.                                         0.000366\n",
      "Name: 7, dtype: float64\n",
      "Component 8:\n",
      "full_text\n",
      "sherlock holmes took his bottle from the corner of the mantel- piece and his hypodermic syringe from its neat morocco case. with his long white nervous fingers he adjusted the delicate needle and rolled back his left shirtcuff. for some little time his eyes rested thoughtfully upon the sinewy forearm and wrist all dotted and scarred with innumerable puncture-marks. finally he thrust the sharp point home pressed down the tiny piston and sank back into the velvet-lined armchair with a long sigh of satisfaction. three times a day for many months i had witnessed this performance but custom had not reconciled my mind to it. on the contrary from day to day i had become more irritable at the sight and my conscience swelled nightly within me at the thought that i had lacked the courage to protest. again and again i had registered a vow that i should deliver my soul upon the subject; but there was that in the cool nonchalant air of my companion which made him the last man with whom one would care to take anything approaching to a liberty. his great powers his masterly manner and the experience which i had had of his many extraor- dinary qualities all made me diffident and backward in crossing him. yet upon that afternoon whether it was the beaune which i had taken with my lunch or the additional exasperation produced by the extreme deliberation of his manner i suddenly felt that i could hold out no longer. .                                                                                                                                                                                                                                                                                                                                                                                                                                                                                                                                                                                                                                                                                                                                                                                                                                                                                                                                                                                                                                                                                                                                                                                                                                                         0.001097\n",
      "in the first place please bear in mind that i do not expect you to believe this story. nor could you wonder had you witnessed a recent experience of mine when in the armor of blissful and stupendous ignorance i gaily narrated the gist of it to a fellow of the royal geological society on the occasion of my last trip to london. you would surely have thought that i had been detected in no less a heinous crime than the purloining of the crown jewels from the tower or putting poison in the coffee of his majesty the king. the erudite gentleman in whom i confided congealed before i was half through it is all that saved him from exploding and my dreams of an honorary fellowship gold medals and a niche in the hall of fame faded into the thin cold air of his arctic atmosphere. but i believe the story and so would you and so would the learned fellow of the royal geological society had you and he heard it from the lips of the man who told it to me. had you seen as i did the fire of truth in those gray eyes; had you felt the ring of sincerity in that quiet voice; had you realized the pathos of it all you too would believe. you would not have needed the final ocular proof that i had the weird rhamphorhynchus-like creature which he had brought back with him from the inner world. i came upon him quite suddenly and no less unexpectedly upon the rim of the great sahara desert. he was standing before a goat-skin tent amidst a clump of date palms within a tiny oasis. close by was an arab douar of some eight or ten tents.                                                                                                                                                                                                                                                                                                                                                                                                                                                                                                                                                                                                                                                                                                                                                                                                                                                                                                                                                                                                                                                                                                                                                 0.000900\n",
      "soc. a young man who is little known euthyphro; and i hardly know him: his name is meletus and he is of the deme of pitthis. perhaps you may remember his appearance; he has a beak and long straight hair and a beard which is ill grown. euth. no i do not remember him socrates. but what is the charge which he brings against you soc. what is the charge well a very serious charge which shows a good deal of character in the young man and for which he is certainly not to be despised. he says he knows how the youth are corrupted and who are their corruptors. i fancy that he must be a wise man and seeing that i am the reverse of a wise man he has found me out and is going to accuse me of corrupting his young friends. and of this our mother the state is to be the judge. of all our political men he is the only one who seems to me to begin in the right way with the cultivation of virtue in youth; like a good husbandman he makes the young shoots his first care and clears away us who are the destroyers of them. this is only the first step; he will afterwards attend to the elder branches; and if he goes on as he has begun he will be a very great public benefactor. euth. i hope that he may; but i rather fear socrates that the opposite will turn out to be the truth. my opinion is that in attacking you he is simply aiming a blow at the foundation of the state. but in what way does he say that you corrupt the young soc. he brings a wonderful accusation against me which at first hearing excites surprise: he says that i am a poet or maker of gods and that i invent new gods and deny the existence of old ones; this is the ground of his indictment.                                                                                                                                                                                                                                                                                                                                                                                                                                                                                                                                                                                                                                                                                                                                                                                                                                                                                                                                                                                                                   0.000555\n",
      "soc. very good callicles; but will he answer our questions for i want to hear from him what is the nature of his art and what it is which he professes and teaches; he may as you [chaerephon] suggest defer the exhibition to some other time. cal. there is nothing like asking him socrates; and indeed to answer questions is a part of his exhibition for he was saying only just now that any one in my house might put any question to him and that he would answer. soc. how fortunate will you ask him chaerephon- chaer. what shall i ask him soc. ask him who he is. chaer. what do you mean soc. i mean such a question as would elicit from him if he had been a maker of shoes the answer that he is a cobbler. do you understand chaer. i understand and will ask him: tell me gorgias is our friend callicles right in saying that you undertake to answer any questions which you are asked gorgias. quite right chaerephon: i was saying as much only just now; and i may add that many years have elapsed since any one has asked me a new one. chaer. then you must be very ready gorgias. gor. of that chaerephon you can make trial. polus. yes indeed and if you like chaerephon you may make trial of me too for i think that gorgias who has been talking a long time is tired. .                                                                                                                                                                                                                                                                                                                                                                                                                                                                                                                                                                                                                                                                                                                                                                                                                                                                                                                                                                                                                                                                                                                                                                                                                                                                                                                                                                                                                             0.000508\n",
      "it was in the spring of the year that all london was interested and the fashionable world dismayed. by the murder of the honourable ronald adair under most unusual and inexplica- ble circumstances. the public has already learned those particu- lars of the crime which came out in the po]ice investigation but a good deal was suppressed upon that occasion since the case for the prosecution was so overwhelmingly strong that it was not necessary to bring forward all the facts. only now at the end of nearly ten years am i allowed to supply those missing links which make up the whole of that remarkable chain. the crime was of interest in itself but that interest was as nothing to me compared to the inconceivable sequel which afforded me the greatest shock and surprise of any event in my adventurous life. even now after this long interval i find myself thrilling as i think of it and feeling once more that sudden flood of joy amazement and incredulity which utterly submerged my mind. let me say to that public which has shown some interest in those glimpses which i have occasionally given them of the thoughts and actions of a very remarkable man that they are not to blame me if i have not shared my knowledge with them for i should have considered it my first duty to do so had i not been barred by a positive prohibition from his own lips which was only withdrawn upon the third of last month. it can be imagined that my close intimacy with sherlock holmes had interested me deeply in crime and that after his disappearance i never failed to read with care the various prob- lems which came before the public. and i even attempted more than once for my own private satisfaction to employ his meth- ods in their solution though with indifferent success. there was none however which appealed to me like this tragedy of ronald adair. as i read the evidence at the inquest which led up to a verdict of wilful murder against some person or persons un- known i realized more clearly than i had ever done the loss which the community had sustained by the death of sherlock holmes. there were points about this strange business which would i was sure have specially appealed to him and the efforts of the police would have been supplemented or more probably anticipated. by the trained observation and the alert mind of the first criminal agent in europe. all day. as i drove upon my round i turned over the case in my mind and found no explanation which appeared to me to be adequate. at the risk of telling a twice-told tale. i will recapitulate the facts as they were known to the public at the conclusion of the inquest.    0.000484\n",
      "twelve years had passed since i had laid the body of my great-uncle captain john carter of virginia away from the sight of men in that strange mausoleum in the old cemetery at richmond. often had i pondered on the odd instructions he had left me governing the construction of his mighty tomb and especially those parts which directed that he be laid in an open casket and that the ponderous mechanism which controlled the bolts of the vault's huge door be accessible only from the inside. twelve years had passed since i had read the remarkable manuscript of this remarkable man; this man who remembered no childhood and who could not even offer a vague guess as to his age; who was always young and yet who had dandled my grandfather's great-grandfather upon his knee; this man who had spent ten years upon the planet mars; who had fought for the green men of barsoom and fought against them; who had fought for and against the red men and who had won the ever beautiful dejah thoris princess of helium for his wife and for nearly ten years had been a prince of the house of tardos mors jeddak of helium. twelve years had passed since his body had been found upon the bluff before his cottage overlooking the hudson and oft- times during these long years i had wondered if john carter were really dead or if he again roamed the dead sea bottoms of that dying planet; if he had returned to barsoom to find that he had opened the frowning portals of the mighty atmosphere plant in time to save the countless millions who were dying of asphyxiation on that far-gone day that had seen him hurtled ruthlessly through forty-eight million miles of space back to earth once more. i had wondered if he had found his black-haired princess and the slender son he had dreamed was with her in the royal gardens of tardos mors awaiting his return.                                                                                                                                                                                                                                                                                                                                                                                                                                                                                                                                                                                                                                                                                                                                                                                                                             0.000480\n",
      "mr. sherlock holmes who was usually very late in the mornings save upon those not infrequent occasions when he was up all night was seated at the breakfast table. i stood upon the hearth-rug and picked up the stick which our visitor had left behind him the night before. it was a fine thick piece of wood bulbous-headed of the sort which is known as a penang law- yer. just under the head was a broad silver band nearly an inch across. to james mortimer m.r.c.s. from his friends of the c.c.h. was engraved upon it with the date . it was just such a stick as the old-fashioned family practitioner used to carry dignified solid and reassuring. well watson what do you make of it holmes was sitting with his back to me and i had given him no sign of my occupation. how did you know what i was doing i believe you have eyes in the back of your head. i have at least a well-polished silver-plated coffee-pot in front of me said he. but tell me watson what do you make of our visitor's stick since we have been so unfortunate as to miss him and have no notion of his errand this accidental souvenir becomes of importance. let me hear you reconstruct the man by an examination of it. i think said i following as far as i could the methods of my companion that dr. mortimer is a successful elderly medical man well-esteemed since those who know him give him this mark of their appreciation. good said holmes. excellent i think also that the probability is in favour of his being a country practitioner who does a great deal of his visiting on foot.                                                                                                                                                                                                                                                                                                                                                                                                                                                                                                                                                                                                                                                                                                                                                                                                                                                                                                                                                                                                                                                                                                                                  0.000460\n",
      "the long boat of the marjorie w. was floating down the broad ugambi with ebb tide and current. her crew were lazily enjoying this respite from the arduous labor of rowing up stream. three miles below them lay the marjorie w. herself quite ready to sail so soon as they should have clambered aboard and swung the long boat to its davits. presently the attention of every man was drawn from his dreaming or his gossiping to the northern bank of the river. there screaming at them in a cracked falsetto and with skinny arms outstretched stood a strange apparition of a man. wot the 'ell ejaculated one of the crew. a white man muttered the mate and then: man the oars boys and we'll just pull over an' see what he wants. when they came close to the shore they saw an emaciated creature with scant white locks tangled and matted. the thin bent body was naked but for a loin cloth. tears were rolling down the sunken pock-marked cheeks. the man jabbered at them in a strange tongue. rooshun hazarded the mate. savvy english he called to the man. he did and in that tongue brokenly and haltingly as though it had been many years since he had used it he begged them to take him with them away from this awful country. once on board the marjorie w. the stranger told his rescuers a pitiful tale of privation hardships and torture extending over a period of ten years. how he happened to have come to africa he did not tell them leaving them to assume he had forgotten the incidents of his life prior to the frightful ordeals that had wrecked him mentally and physically. he did not even tell them his true name and so they knew him only as michael sabrov nor was there any resemblance between this sorry wreck and the virile though unprincipled alexis paulvitch of old. it had been ten years since the russian had escaped the fate of his friend the arch-fiend rokoff and not once but many times during those ten years had paulvitch cursed the fate that had given to nicholas rokoff death and immunity from suffering while it had meted to him the hideous terrors of an existence infinitely worse than the death that persistently refused to claim him.                                                                                                                                                                                                                                                                                                                                                                                                                                                                                                          0.000460\n",
      "i am a very old man; how old i do not know. possibly i am a hundred possibly more; but i cannot tell because i have never aged as other men nor do i remember any childhood. so far as i can recollect i have always been a man a man of about thirty. i appear today as i did forty years and more ago and yet i feel that i cannot go on living forever; that some day i shall die the real death from which there is no resurrection. i do not know why i should fear death i who have died twice and am still alive; but yet i have the same horror of it as you who have never died and it is because of this terror of death i believe that i am so convinced of my mortality. and because of this conviction i have determined to write down the story of the interesting periods of my life and of my death. i cannot explain the phenomena;i can only set down here in the words of an ordinary soldier of fortune a chronicle of the strange events that befell me during the ten years that my dead body lay undiscovered in an arizona cave. i have never told this story nor shall mortal man see this manuscript until after i have passed over for eternity. i know that the average human mind will not believe what it cannot grasp and so i do not purpose being pilloried by the public the pulpit and the press and held up as a colossal liar when i am but telling the simple truths which some day science will substantiate. possibly the suggestions which i gained upon mars and the knowledge which i can set down in this chronicle will aid in an earlier understanding of the mysteries of our sister planet; mysteries to you but no longer mysteries to me.                                                                                                                                                                                                                                                                                                                                                                                                                                                                                                                                                                                                                                                                                                                                                                                                                                                                                                                                                                                                                                            0.000459\n",
      "live register'd upon our brazen tombs and then grace us in the disgrace of death; when spite of cormorant devouring time the endeavor of this present breath may buy that honour which shall bate his scythe's keen edge and make us heirs of all eternity. therefore brave conquerors for so you are that war against your own affections and the huge army of the world's desires our late edict shall strongly stand in force: navarre shall be the wonder of the world; our court shall be a little academe still and contemplative in living art. you three biron dumain and longaville have sworn for three years' term to live with me my fellow-scholars and to keep those statutes that are recorded in this schedule here: your oaths are pass'd; and now subscribe your names that his own hand may strike his honour down that violates the smallest branch herein: if you are arm'd to do as sworn to do subscribe to your deep oaths and keep it too. longaville i am resolved; 'tis but a three years' fast: the mind shall banquet though the body pine: fat paunches have lean pates and dainty bits make rich the ribs but bankrupt quite the wits. dumain my loving lord dumain is mortified: the grosser manner of these world's delights he throws upon the gross world's baser slaves: to love to wealth to pomp i pine and die; with all these living in philosophy. biron i can but say their protestation over; so much dear liege i have already sworn [exeunt]                                                                                                                                                                                                                                                                                                                                                                                                                                                                                                                                                                                                                                                                                                                                                                                                                                                                                                                                                                                                                                                                                                                                                                                                                                              0.000452\n",
      "Name: 8, dtype: float64\n",
      "Component 9:\n",
      "full_text\n",
      "his career has been a long one though it is possible to exaggerate it; decrepit gentlemen who approach me and declare that his adventures formed the reading of their boyhood do not meet the response from me which they seem to expect. one is not anxious to have one's personal dates handled so unkindly. as a matter of cold fact holmes made his debut in a study in scarlet and in the sign of four two small booklets which appeared between and . it was in that a scandal in bohemia the first of the long series of short stories appeared in the strand magazine. the public seemed appreciative and desirous of more so that from that date thirty-nine years ago they have been produced in a broken series which now contains no fewer than fifty-six stories republished in the adventures the memoirs the return and his last bow. and there remain these twelve published during the last few years which are here produced under the title of the case book of sherlock holmes. he began his adventures in the very heart of the later victorian era carried it through the all-too-short reign of edward and has managed to hold his own little niche even in these feverish days. thus it would be true to say that those who first read of him as young men have lived to see their own grown-up children following the same adventures in the same magazine. it is a striking example of the patience and loyalty of the british public. i had fully determined at the conclusion of the memoirs to bring holmes to an end as i felt that my literary energies should not be directed too much into one channel. that pale clear-cut face and loose-limbed figure were taking up an undue share of my imagination. i did the deed but fortunately no coroner had pronounced upon the remains and so after a long interval it was not difficult for me to respond to the flattering demand and to explain my rash act away. i have never regretted it for i have not in actual practice found that these lighter sketches have prevented me from exploring and finding my limitations in such varied branches of literature as history poetry historical novels psychic research and the drama. had holmes never existed i could not have done more though he may perhaps have stood a little in the way of the recognition of my more serious literary work.                                                                                                                                                                                                                                                                                                                                                   0.000755\n",
      "this work is called the critique of practical reason not of the pure practical reason although its parallelism with the speculative critique would seem to require the latter term. the reason of this appears sufficiently from the treatise itself. its business is to show that there is pure practical reason and for this purpose it criticizes the entire practical faculty of reason. if it succeeds in this it has no need to criticize the pure faculty itself in order to see whether reason in making such a claim does not presumptuously overstep itself (as is the case with the speculative reason). for if as pure reason it is actually practical it proves its own reality and that of its concepts by fact and all disputation against the possibility of its being real is futile. with this faculty transcendental freedom is also established; freedom namely in that absolute sense in which speculative reason required it in its use of the concept of causality in order to escape the antinomy into which it inevitably falls when in the chain of cause and effect it tries to think the unconditioned. speculative reason could only exhibit this concept (of freedom) problematically as not impossible to thought without assuring it any objective reality and merely lest the supposed impossibility of what it must at least allow to be thinkable should endanger its very being and plunge it into an abyss of scepticism. inasmuch as the reality of the concept of freedom is proved by an apodeictic law of practical reason it is the keystone of the whole system of pure reason even the speculative and all other concepts (those of god and immortality) which as being mere ideas remain in it unsupported now attach themselves to this concept and by it obtain consistence and objective reality; that is to say their possibility is proved by the fact that freedom actually exists for this idea is revealed by the moral law.                                                                                                                                                                                                                                                                                                                                                                                                                                                                                                                                                                                                                                                                                                                                                      0.000563\n",
      "sherlock holmes took his bottle from the corner of the mantel- piece and his hypodermic syringe from its neat morocco case. with his long white nervous fingers he adjusted the delicate needle and rolled back his left shirtcuff. for some little time his eyes rested thoughtfully upon the sinewy forearm and wrist all dotted and scarred with innumerable puncture-marks. finally he thrust the sharp point home pressed down the tiny piston and sank back into the velvet-lined armchair with a long sigh of satisfaction. three times a day for many months i had witnessed this performance but custom had not reconciled my mind to it. on the contrary from day to day i had become more irritable at the sight and my conscience swelled nightly within me at the thought that i had lacked the courage to protest. again and again i had registered a vow that i should deliver my soul upon the subject; but there was that in the cool nonchalant air of my companion which made him the last man with whom one would care to take anything approaching to a liberty. his great powers his masterly manner and the experience which i had had of his many extraor- dinary qualities all made me diffident and backward in crossing him. yet upon that afternoon whether it was the beaune which i had taken with my lunch or the additional exasperation produced by the extreme deliberation of his manner i suddenly felt that i could hold out no longer. .                                                                                                                                                                                                                                                                                                                                                                                                                                                                                                                                                                                                                                                                                                                                                                                                                                                                                                                                                                                                                                                                                                                                                                                                                                                         0.000542\n",
      "it was in the spring of the year that all london was interested and the fashionable world dismayed. by the murder of the honourable ronald adair under most unusual and inexplica- ble circumstances. the public has already learned those particu- lars of the crime which came out in the po]ice investigation but a good deal was suppressed upon that occasion since the case for the prosecution was so overwhelmingly strong that it was not necessary to bring forward all the facts. only now at the end of nearly ten years am i allowed to supply those missing links which make up the whole of that remarkable chain. the crime was of interest in itself but that interest was as nothing to me compared to the inconceivable sequel which afforded me the greatest shock and surprise of any event in my adventurous life. even now after this long interval i find myself thrilling as i think of it and feeling once more that sudden flood of joy amazement and incredulity which utterly submerged my mind. let me say to that public which has shown some interest in those glimpses which i have occasionally given them of the thoughts and actions of a very remarkable man that they are not to blame me if i have not shared my knowledge with them for i should have considered it my first duty to do so had i not been barred by a positive prohibition from his own lips which was only withdrawn upon the third of last month. it can be imagined that my close intimacy with sherlock holmes had interested me deeply in crime and that after his disappearance i never failed to read with care the various prob- lems which came before the public. and i even attempted more than once for my own private satisfaction to employ his meth- ods in their solution though with indifferent success. there was none however which appealed to me like this tragedy of ronald adair. as i read the evidence at the inquest which led up to a verdict of wilful murder against some person or persons un- known i realized more clearly than i had ever done the loss which the community had sustained by the death of sherlock holmes. there were points about this strange business which would i was sure have specially appealed to him and the efforts of the police would have been supplemented or more probably anticipated. by the trained observation and the alert mind of the first criminal agent in europe. all day. as i drove upon my round i turned over the case in my mind and found no explanation which appeared to me to be adequate. at the risk of telling a twice-told tale. i will recapitulate the facts as they were known to the public at the conclusion of the inquest.    0.000527\n",
      "mr. sherlock holmes who was usually very late in the mornings save upon those not infrequent occasions when he was up all night was seated at the breakfast table. i stood upon the hearth-rug and picked up the stick which our visitor had left behind him the night before. it was a fine thick piece of wood bulbous-headed of the sort which is known as a penang law- yer. just under the head was a broad silver band nearly an inch across. to james mortimer m.r.c.s. from his friends of the c.c.h. was engraved upon it with the date . it was just such a stick as the old-fashioned family practitioner used to carry dignified solid and reassuring. well watson what do you make of it holmes was sitting with his back to me and i had given him no sign of my occupation. how did you know what i was doing i believe you have eyes in the back of your head. i have at least a well-polished silver-plated coffee-pot in front of me said he. but tell me watson what do you make of our visitor's stick since we have been so unfortunate as to miss him and have no notion of his errand this accidental souvenir becomes of importance. let me hear you reconstruct the man by an examination of it. i think said i following as far as i could the methods of my companion that dr. mortimer is a successful elderly medical man well-esteemed since those who know him give him this mark of their appreciation. good said holmes. excellent i think also that the probability is in favour of his being a country practitioner who does a great deal of his visiting on foot.                                                                                                                                                                                                                                                                                                                                                                                                                                                                                                                                                                                                                                                                                                                                                                                                                                                                                                                                                                                                                                                                                                                                  0.000490\n",
      "it comes to pass that so many heads on which nature seemed to have inflicted the curse of barrenness should teem with voluminous productions. as a man travels on however in the journey of life his objects of wonder daily diminish and he is continually finding out some very simple cause for some great matter of marvel. thus have i chanced in my peregrinations about this great metropolis to blunder upon a scene which unfolded to me some of the mysteries of the book-making craft and at once put an end to my astonishment. i was one summer's day loitering through the great saloons of the british museum with that listlessness with which one is apt to saunter about a museum in warm weather; sometimes lolling over the glass cases of minerals sometimes studying the hieroglyphics on an egyptian mummy and sometimes trying with nearly equal success to comprehend the allegorical paintings on the lofty ceilings. whilst i was gazing about in this idle way my attention was attracted to a distant door at the end of a suite of apartments. it was closed but every now and then it would open and some strange-favored being generally clothed in black would steal forth and glide through the rooms without noticing any of the surrounding objects. there was an air of mystery about this that piqued my languid curiosity and i determined to attempt the passage of that strait and to explore the unknown regions beyond. the door yielded to my hand with that facility with which the portals of enchanted castles yield to the adventurous knight-errant. i found myself in a spacious chamber surrounded with great cases of venerable books. above the cases and just under the cornice were arranged a great number of black-looking portraits of ancient authors. about the room were placed long tables with stands for reading and writing at which sat many pale studious personages poring intently over dusty volumes rummaging among mouldy manuscripts and taking copious notes of their contents. a hushed stillness reigned through this mysterious apartment excepting that you might hear the racing of pens over sheets of paper or occasionally the deep sigh of one of these sages as he shifted his position to turn over the page of an old folio; doubtless arising from that hollowness and flatulency incident to learned research.                                                                                                                                                                                                                                                                                                                                 0.000434\n",
      "'now what i want is facts. teach these boys and girls nothing but facts. facts alone are wanted in life. plant nothing else and root out everything else. you can only form the minds of reasoning animals upon facts: nothing else will ever be of any service to them. this is the principle on which i bring up my own children and this is the principle on which i bring up these children. stick to facts sir' the scene was a plain bare monotonous vault of a school-room and the speaker's square forefinger emphasized his observations by underscoring every sentence with a line on the schoolmaster's sleeve. the emphasis was helped by the speaker's square wall of a forehead which had his eyebrows for its base while his eyes found commodious cellarage in two dark caves overshadowed by the wall. the emphasis was helped by the speaker's mouth which was wide thin and hard set. the emphasis was helped by the speaker's voice which was inflexible dry and dictatorial. the emphasis was helped by the speaker's hair which bristled on the skirts of his bald head a plantation of firs to keep the wind from its shining surface all covered with knobs like the crust of a plum pie as if the head had scarcely warehouse-room for the hard facts stored inside. the speaker's obstinate carriage square coat square legs square shoulders - nay his very neckcloth trained to take him by the throat with an unaccommodating grasp like a stubborn fact as it was - all helped the emphasis. 'in this life we want nothing but facts sir; nothing but facts' the speaker and the schoolmaster and the third grown person present all backed a little and swept with their eyes the inclined plane of little vessels then and there arranged in order ready to have imperial gallons of facts poured into them until they were full to the brim.                                                                                                                                                                                                                                                                                                                                                                                                                                                                                                                                                                                                                                                                                                                                                                                                                                                          0.000408\n",
      "the reasons for some animals being long-lived and others short-lived and in a word causes of the length and brevity of life call for investigation. the necessary beginning to our inquiry is a statement of the difficulties about these points. for it is not clear whether in animals and plants universally it is a single or diverse cause that makes some to be long-lived others short-lived. plants too have in some cases a long life while in others it lasts but for a year. further in a natural structure are longevity and a sound constitution coincident or is shortness of life independent of unhealthiness perhaps in the case of certain maladies a diseased state of the body and shortness of life are interchangeable while in the case of others ill-health is perfectly compatible with long life. of sleep and waking we have already treated; about life and death we shall speak later on and likewise about health and disease in so far as it belongs to the science of nature to do so. but at present we have to investigate the causes of some creatures being long-lived and others short-lived. we find this distinction affecting not only entire genera opposed as wholes to one another but applying also to contrasted sets of individuals within the same species. as an instance of the difference applying to the genus i give man and horse (for mankind has a longer life than the horse) while within the species there is the difference between man and man; for of men also some are long-lived others short-lived differing from each other in respect of the different regions in which they dwell. races inhabiting warm countries have longer life those living in a cold climate live a shorter time. likewise there are similar differences among individuals occupying the same locality. .                                                                                                                                                                                                                                                                                                                                                                                                                                                                                                                                                                                                                                                                                                                                                                                                                                                                                     0.000398\n",
      ". all duties are either duties of right that is juridical duties (officia juris) or duties of virtue that is ethical duties (officia virtutis s. ethica). juridical duties are such as may be promulgated by external legislation; ethical duties are those for which such legislation is not possible. the reason why the latter cannot be properly made the subject of external legislation is because they relate to an end or final purpose which is itself at the same time embraced in these duties and which it is a duty for the individual to have as such. but no external legislation can cause any one to adopt a particular intention or to propose to himself a certain purpose; for this depends upon an internal condition or act of the mind itself. however external actions conducive to such a mental condition may be commanded without its being implied that the individual will of necessity make them an end to himself. but why then it may be asked is the science of morals or moral philosophy commonly entitled- especially by cicero- the science of duty and not also the science of right since duties and rights refer to each other the reason is this. we know our own freedom- from which all moral laws and consequently all rights as well as all duties arise- only through the moral imperative which is an immediate injunction of duty; whereas the conception of right as a ground of putting others under obligation has afterwards to be developed out of it. . in the doctrine of duty man may and ought to be represented in accordance with the nature of his faculty of freedom which is entirely supra-sensible. he is therefore to be represented purely according to his humanity as a personality independent of physical determinations (homo noumenon) in distinction from the same person as a man modified with these determinations (homo phenomenon). hence the conceptions of right and end when referred to duty in view of this twofold quality give the following division: .                                                                                                                                                                                                                                                                                                                                                                                                                                                                                                                                                                                                                                                                                          0.000391\n",
      "these prolegomena are destined for the use not of pupils but of future teachers and even the latter should not expect that they will be serviceable for the systematic exposition of a ready-made science but merely for the discovery of the science itself. there are scholarly men to whom the history of philosophy (both ancient and modern) is philosophy itself; for these the present prolegomena are not written. they must wait till those who endeavor to draw from the fountain of reason itself have completed their work; it will then be the historian's turn to inform the world of what has been done. unfortunately nothing can be said which in their opinion has not been said before and truly the same prophecy applies to all future time; for since the human reason has for many centuries speculated upon innumerable objects in various ways it is hardly to be expected that we should not be able to discover analogies for every new idea among the old sayings of past ages. my object is to persuade all those who think metaphysics worth studying that it is absolutely necessary to pause a moment and neglecting all that has been done to propose first the preliminary question 'whether such a thing as metaphysics be at all possible' if it be a science how comes it that it cannot like other sciences obtain universal and permanent recognition if not how can it maintain its pretensions and keep the human mind in suspense with hopes never ceasing yet never fulfilled whether then we demonstrate our knowledge or our ignorance in this field we must come once for all to a definite conclusion respecting the nature of this so-called science which cannot possibly remain on its present footing. it seems almost ridiculous while every other science is continually advancing that in this which pretends to be wisdom incarnate for whose oracle every one inquires we should constantly move round the same spot without gaining a single step. and so its followers having melted away we do not find men confident of their ability to shine in other sciences venturing their reputation here where everybody however ignorant in other matters may deliver a final verdict as in this domain there is as yet no standard weight and measure to distinguish sound knowledge from shallow talk.                                                                                                                                                                                                                                                                                                                                                                          0.000377\n",
      "Name: 9, dtype: float64\n"
     ]
    }
   ],
   "source": [
    "from sklearn.decomposition import TruncatedSVD\n",
    "from sklearn.pipeline import make_pipeline\n",
    "from sklearn.preprocessing import Normalizer\n",
    "\n",
    "#Our SVD data reducer.  We are going to reduce the feature space from 27911 to 10.\n",
    "svd= TruncatedSVD(10)\n",
    "\n",
    "# Train the data for features since there's non tf-idf data in the features section.\n",
    "lsa = make_pipeline(svd, Normalizer(copy=False))\n",
    "# Run SVD on the training data, then project the training data.\n",
    "X_train_lsa = lsa.fit_transform(features)\n",
    "\n",
    "variance_explained=svd.explained_variance_ratio_\n",
    "total_variance = variance_explained.sum()\n",
    "print(\"Percent variance captured by all components:\",total_variance*100)\n",
    "\n",
    "#Looking at what sorts of paragraphs our solution considers similar, for the first five identified topics\n",
    "paras_by_component=pd.DataFrame(X_train_lsa,index=X_train)\n",
    "for i in range(10):\n",
    "    print('Component {}:'.format(i))\n",
    "    print(paras_by_component.loc[:,i].sort_values(ascending=False)[0:10])"
   ]
  },
  {
   "cell_type": "markdown",
   "metadata": {},
   "source": [
    "## Sentence Similarity"
   ]
  },
  {
   "cell_type": "code",
   "execution_count": 33,
   "metadata": {},
   "outputs": [
    {
     "data": {
      "image/png": "[encoded data removed]",
      "text/plain": [
       "<matplotlib.figure.Figure at 0x7f57fc342128>"
      ]
     },
     "metadata": {},
     "output_type": "display_data"
    },
    {
     "name": "stdout",
     "output_type": "stream",
     "text": [
      "Key:\n",
      "0 brother john baptist de coigne i am very much pleased with the visit you have made us and particularly that it has happened when the wise men from all parts of our country were assembled together in council and had an opportunity of hearing the friendly discourse you held to me. we are all sensible of your friendship and of the services you have rendered and i now for my countrymen return you thanks and most particularly for your assistance to the garrison which was besieged by the hostile indians. i hope it will please the great being above to continue you long in life in health and in friendship to us; and that your son will afterwards succeed you in wisdom in good disposition and in power over your people. i consider the name you have given as particularly honorable to me but i value it the more as it proves your attachment to my country. we like you are americans born in the same land and having the same interests. i have carefully attended to the figures represented on the skins and to their explanation and shall always keep them hanging on the walls in remembrance of you and your nation. i have joined with you sincerely in smoking the pipe of peace; it is a good old custom handed down by your ancestors and as such i respect and join in it with reverence. i hope we shall long continue to smoke in friendship together. you find us brother engaged in war with a powerful nation. our forefathers were englishmen inhabitants of a little island beyond the great water and being distressed for land they came and settled here. as long as we were young and weak the english whom we had left behind made us carry all our wealth to their country to enrich them; and not satisfied with this they at length began to say we were their slaves and should do whatever they ordered us. we were now grown up and felt ourselves strong we knew we were free as they were that we came here of our own accord and not at their biddance and were determined to be free as long as we should exist. for this reason they made war on us. they have now waged that war six years and have not yet won more land from us than will serve to bury the warriors they have lost. your old father the king of france has joined us in the war and done many good things for us. we are bound forever to love him and wish you to love him brother because he is a good and true friend to us. the spaniards have also joined us and other powerful nations are now entering into the war to punish the robberies and violences the english have committed on them. the english stand alone without a friend to support them hated by all mankind because they are proud and unjust. this quarrel when it first began was a family quarrel between us and the english who were then our brothers. we therefore did not wish you to engage in it at all. we are strong enough of ourselves without wasting your blood in fighting our battles. the english knowing this have been always suing to the indians to help them fight. we do not wish you to take up the hatchet. we love and esteem you. we wish you to multiply and be strong. the english on the other hand wish to set you and us to cutting one another's throats that when we are dead they may take all our land. it is better for you not to join in this quarrel unless the english have killed any of your warriors or done you any other injury. if they have you have a right to go to war with them and revenge the injury and we have none to restrain you. any free nation has a right to punish those who have done them an injury. i say the same brother as to the indians who treat you ill. while i advise you like an affectionate friend to avoid unnecessary war i do not assume the right of restraining you from punishing your enemies. if the english have injured you as they have injured the french and spaniards do like them and join us in the war. general clarke will receive you and show you the way to their towns. but if they have not injured you it is better for you to lie still and be quiet. this is the advice which has been always given by the great council of the americans. we must give the same because we are but one of thirteen nations who have agreed to act and speak togeth\n",
      "1 once upon a time of all the good days in the year on christmas eve old scrooge sat busy in his counting-house. it was cold bleak biting weather: foggy withal: and he could hear the people in the court outside go wheezing up and down beating their hands upon their breasts and stamping their feet upon the pavement stones to warm them. the city clocks had only just gone three but it was quite dark already it had not been light all day and candles were flaring in the windows of the neighbouring offices like ruddy smears upon the palpable brown air. the fog came pouring in at every chink and keyhole and was so dense without that although the court was of the narrowest the houses opposite were mere phantoms. to see the dingy cloud come drooping down obscuring everything one might have thought that nature lived hard by and was brewing on a large scale. the door of scrooge's counting-house was open that he might keep his eye upon his clerk who in a dismal little cell beyond a sort of tank was copying letters. scrooge had a very small fire but the clerk's fire was so very much smaller that it looked like one coal. but he couldn't replenish it for scrooge kept the coal-box in his own room; and so surely as the clerk came in with the shovel the master predicted that it would be necessary for them to part. wherefore the clerk put on his white comforter and tried to warm himself at the candle; in which effort not being a man of a strong imagination he failed.\n",
      "2 soc. very good callicles; but will he answer our questions for i want to hear from him what is the nature of his art and what it is which he professes and teaches; he may as you [chaerephon] suggest defer the exhibition to some other time. cal. there is nothing like asking him socrates; and indeed to answer questions is a part of his exhibition for he was saying only just now that any one in my house might put any question to him and that he would answer. soc. how fortunate will you ask him chaerephon- chaer. what shall i ask him soc. ask him who he is. chaer. what do you mean soc. i mean such a question as would elicit from him if he had been a maker of shoes the answer that he is a cobbler. do you understand chaer. i understand and will ask him: tell me gorgias is our friend callicles right in saying that you undertake to answer any questions which you are asked gorgias. quite right chaerephon: i was saying as much only just now; and i may add that many years have elapsed since any one has asked me a new one. chaer. then you must be very ready gorgias. gor. of that chaerephon you can make trial. polus. yes indeed and if you like chaerephon you may make trial of me too for i think that gorgias who has been talking a long time is tired. .\n",
      "3 magnifique ejaculated the countess de coude beneath her breath. eh questioned the count turning toward his young wife. what is it that is magnificent and the count bent his eyes in various directions in quest of the object of her admiration. oh nothing at all my dear replied the countess a slight flush momentarily coloring her already pink cheek. i was but recalling with admiration those stupendous skyscrapers as they call them of new york and the fair countess settled herself more comfortably in her steamer chair and resumed the magazine which nothing at all had caused her to let fall upon her lap. her husband again buried himself in his book but not without a mild wonderment that three days out from new york his countess should suddenly have realized an admiration for the very buildings she had but recently characterized as horrid. presently the count put down his book. it is very tiresome olga he said. i think that i shall hunt up some others who may be equally bored and see if we cannot find enough for a game of cards. you are not very gallant my husband replied the young woman smiling but as i am equally bored i can forgive you. go and play at your tiresome old cards then if you will. when he had gone she let her eyes wander slyly to the figure of a tall young man stretched lazily in a chair not far distant. magnifique she breathed once more.\n",
      "4 the entire affair is shrouded in mystery said d'arnot. i have it on the best of authority that neither the police nor the special agents of the general staff have the faintest conception of how it was accomplished. all they know all that anyone knows is that nikolas rokoff has escaped. john clayton lord greystoke he who had been tarzan of the apes sat in silence in the apartments of his friend lieutenant paul d'arnot in paris gazing meditatively at the toe of his immaculate boot. his mind revolved many memories recalled by the escape of his arch-enemy from the french military prison to which he had been sentenced for life upon the testimony of the ape-man. he thought of the lengths to which rokoff had once gone to compass his death and he realized that what the man had already done would doubtless be as nothing by comparison with what he would wish and plot to do now that he was again free. tarzan had recently brought his wife and infant son to london to escape the discomforts and dangers of the rainy season upon their vast estate in uziri the land of the savage waziri warriors whose broad african domains the ape-man had once ruled. he had run across the channel for a brief visit with his old friend but the news of the russian's escape had already cast a shadow upon his outing so that though he had but just arrived he was already contemplating an immediate return to london. it is not that i fear for myself paul he said at last. many times in the past have i thwarted rokoff's designs upon my life; but now there are others to consider. unless i misjudge the man he would more quickly strike at me through my wife or son than directly at me for he doubtless realizes that in no other way could he inflict greater anguish upon me. i must go back to them at once and remain with them until rokoff is recaptured or dead. as these two talked in paris two other men were talking together in a little cottage upon the outskirts of london. both were dark sinister-looking men.\n",
      "5 the dinner was served up in the great hall where the squire always held his christmas banquet. a blazing crackling fire of logs had been heaped on to warm the spacious apartment and the flame went sparkling and wreathing up the wide-mouthed chimney. the great picture of the crusader and his white horse had been profusely decorated with greens for the occasion; and holly and ivy had likewise been wreathed round the helmet and weapons on the opposite wall which i understood were the arms of the same warrior. i must own by the by i had strong doubts about the authenticity of the painting and armor as having belonged to the crusader they certainly having the stamp of more recent days; but i was told that the painting had been so considered time out of mind; and that as to the armor it had been found in a lumber-room and elevated to its present situation by the squire who at once determined it to be the armor of the family hero; and as he was absolute authority on all such subjects in his own household the matter had passed into current acceptation. a sideboard was set out just under this chivalric trophy on which was a display of plate that might have vied (at least in variety) with belshazzar's parade of the vessels of the temple: flagons cans cups beakers goblets basins and ewers; the gorgeous utensils of good companionship that had gradually accumulated through many generations of jovial housekeepers. before these stood the two yule candles beaming like two stars of the first magnitude; other lights were distributed in branches and the whole array glittered like a firmament of silver. we were ushered into this banqueting scene with the sound of minstrelsy the old harper being seated on a stool beside the fireplace and twanging his instrument with a vast deal more power than melody. never did christmas board display a more goodly and gracious assemblage of countenances; those who were not handsome were at least happy; and happiness is a rare improver of your hard-favored visage. i always consider an old english family as well worth studying as a collection of holbein's portraits or albert durer's prints. there is much antiquarian lore to be acquired; much knowledge of the physiognomies of former times. perhaps it may be from having continually before their eyes those rows of old family portraits with which the mansions of this country are stocked; certain it is that the quaint features of antiquity are often most faithfully perpetuated in these ancient lines; and i have traced an old family nose through a whole picture gallery legitimately handed down from generation to generation almost from the time of the conquest. something of the kind was to be observed in the worthy company around me. many of their faces had evidently originated in a gothic age and been merely copied by succeeding generations; and there was one little girl in particular of staid demeanor with a high roman nose and an antique vinegar aspect who was a great favorite of the squire's being as he said a bracebridge all over and the very counterpart of one of his ancestors who figured in the court of henry viii.\n",
      "6 the long boat of the marjorie w. was floating down the broad ugambi with ebb tide and current. her crew were lazily enjoying this respite from the arduous labor of rowing up stream. three miles below them lay the marjorie w. herself quite ready to sail so soon as they should have clambered aboard and swung the long boat to its davits. presently the attention of every man was drawn from his dreaming or his gossiping to the northern bank of the river. there screaming at them in a cracked falsetto and with skinny arms outstretched stood a strange apparition of a man. wot the 'ell ejaculated one of the crew. a white man muttered the mate and then: man the oars boys and we'll just pull over an' see what he wants. when they came close to the shore they saw an emaciated creature with scant white locks tangled and matted. the thin bent body was naked but for a loin cloth. tears were rolling down the sunken pock-marked cheeks. the man jabbered at them in a strange tongue. rooshun hazarded the mate. savvy english he called to the man. he did and in that tongue brokenly and haltingly as though it had been many years since he had used it he begged them to take him with them away from this awful country. once on board the marjorie w. the stranger told his rescuers a pitiful tale of privation hardships and torture extending over a period of ten years. how he happened to have come to africa he did not tell them leaving them to assume he had forgotten the incidents of his life prior to the frightful ordeals that had wrecked him mentally and physically. he did not even tell them his true name and so they knew him only as michael sabrov nor was there any resemblance between this sorry wreck and the virile though unprincipled alexis paulvitch of old. it had been ten years since the russian had escaped the fate of his friend the arch-fiend rokoff and not once but many times during those ten years had paulvitch cursed the fate that had given to nicholas rokoff death and immunity from suffering while it had meted to him the hideous terrors of an existence infinitely worse than the death that persistently refused to claim him.\n",
      "7 mistress quickly [aside to simple] i am glad he is so quiet: if he had been thoroughly moved you should have heard him so loud and so melancholy. but notwithstanding man i'll do you your master what good i can: and the very yea and the no is the french doctor my master i may call him my master look you for i keep his house; and i wash wring brew bake scour dress meat and drink make the beds and do all myself simple [aside to mistress quickly] 'tis a great charge to come under one body's hand. mistress quickly [aside to simple] are you avised o' that you shall find it a great charge: and to be up early and down late; but notwithstanding to tell you in your ear; i would have no words of it my master himself is in love with mistress anne page: but notwithstanding that i know anne's mind that's neither here nor there. doctor caius you jack'nape give-a this letter to sir hugh; by gar it is a shallenge: i will cut his troat in dee park; and i will teach a scurvy jack-a-nape priest to meddle or make. you may be gone; it is not good you tarry here. by gar i will cut all his two stones; by gar he shall not have a stone to throw at his dog: [exit simple] mistress quickly alas he speaks but for his friend. doctor caius it is no matter-a ver dat: do not you tell-a me dat i shall have anne page for myself by gar i vill kill de jack priest; and i have appointed mine host of de jarteer to measure our weapon. by gar i will myself have anne page.\n",
      "8 lys. you have seen the exhibition of the man fighting in armour nicias and laches but we did not tell you at the time the reason why my friend melesias and i asked you to go with us and see him. i think that we may as well confess what this was for we certainly ought not to have any reserve with you. the reason was that we were intending to ask your advice. some laugh at the very notion of advising others and when they are asked will not say what they think. they guess at the wishes of the person who asks them and answer according to his and not according to their own opinion. but as we know that you are good judges and will say exactly what you think we have taken you into our counsels. the matter about which i am making all this preface is as follows: melesias and i have two sons; that is his son and he is named thucydides after his grandfather; and this is mine who is also called after his grandfather aristides. now we are resolved to take the greatest care of the youths and not to let them run about as they like which is too often the way with the young when they are no longer children but to begin at once and do the utmost that we can for them. and knowing you to have sons of your own we thought that you were most likely to have attended to their training and improvement and if perchance you have not attended to them we may remind you that you ought to have done so and would invite you to assist us in the fulfillment of a common duty. i will tell you nicias and laches even at the risk of being tedious how we came to think of this. melesias and i live together and our sons live with us; and now as i was saying at first we are going to confess to you. both of us often talk to the lads about the many noble deeds which our own fathers did in war and peace-in the management of the allies and in the administration of the city; but neither of us has any deeds of his own which he can show. the truth is that we are ashamed of this contrast being seen by them and we blame our fathers for letting us be spoiled in the days of our youth while they were occupied with the concerns of others; and we urge all this upon the lads pointing out to them that they will not grow up to honour if they are rebellious and take no pains about themselves; but that if they take pains they may perhaps become worthy of the names which they bear. they on their part promise to comply with our wishes; and our care is to discover what studies or pursuits are likely to be most improving to them. some one commended to us the art of fighting in armour which he thought an excellent accomplishment for a young man to learn; and he praised the man whose exhibition you have seen and told us to go and see him. and we determined that we would go and get you to accompany us; and we were intending at the same time if you did not object to take counsel with you about the education of our sons. that is the matter which we wanted to talk over with you; and we hope that you will give us your opinion about this art of fighting in armour and about any other studies or pursuits which may or may not be desirable for a young man to learn. please to say whether you agree to our proposal. nic. as far as i am concerned lysimachus and melesias i applaud your purpose and will gladly assist you; and i believe that you laches will be equally glad. la. certainly nicias; and i quite approve of the remark which lysimachus made about his own father and the father of melesias and which is applicable not only to them but to us and to every one who is occupied with public affairs. as he says such persons are too apt to be negligent and careless of their own children and their private concerns. there is much truth in that remark of yours lysimachus. but why instead of consulting us do you not consult our friend socrates about the education of the youths he is of the same deme with you and is always passing his time in places where the youth have any noble study or pursuit such as you are enquiring after.\n",
      "9 things are said to be named 'equivocally' when though they have a common name the definition corresponding with the name differs for each. thus a real man and a figure in a picture can both lay claim to the name 'animal'; yet these are equivocally so named for though they have a common name the definition corresponding with the name differs for each. for should any one define in what sense each is an animal his definition in the one case will be appropriate to that case only. on the other hand things are said to be named 'univocally' which have both the name and the definition answering to the name in common. a man and an ox are both 'animal' and these are univocally so named inasmuch as not only the name but also the definition is the same in both cases: for if a man should state in what sense each is an animal the statement in the one case would be identical with that in the other. things are said to be named 'derivatively' which derive their name from some other name but differ from it in termination. thus the grammarian derives his name from the word 'grammar' and the courageous man from the word 'courage'. forms of speech are either simple or composite. examples of the latter are such expressions as 'the man runs' 'the man wins'; of the former 'man' 'ox' 'runs' 'wins'. of things themselves some are predicable of a subject and are never present in a subject. thus 'man' is predicable of the individual man and is never present in a subject. by being 'present in a subject' i do not mean present as parts are present in a whole but being incapable of existence apart from the said subject. some things again are present in a subject but are never predicable of a subject. for instance a certain point of grammatical knowledge is present in the mind but is not predicable of any subject; or again a certain whiteness may be present in the body (for colour requires a material basis) yet it is never predicable of anything. other things again are both predicable of a subject and present in a subject. thus while knowledge is present in the human mind it is predicable of grammar. there is lastly a class of things which are neither present in a subject nor predicable of a subject such as the individual man or the individual horse. but to speak more generally that which is individual and has the character of a unit is never predicable of a subject. yet in some cases there is nothing to prevent such being present in a subject. thus a certain point of grammatical knowledge is present in a subject. when one thing is predicated of another all that which is predicable of the predicate will be predicable also of the subject. thus 'man' is predicated of the individual man; but 'animal' is predicated of 'man'; it will therefore be predicable of the individual man also: for the individual man is both 'man' and 'animal'. if genera are different and co-ordinate their differentiae are themselves different in kind. take as an instance the genus 'animal' and the genus 'knowledge'. 'with feet' 'two-footed' 'winged' 'aquatic' are differentiae of 'animal'; the species of knowledge are not distinguished by the same differentiae. one species of knowledge does not differ from another in being 'two-footed'. but where one genus is subordinate to another there is nothing to prevent their having the same differentiae: for the greater class is predicated of the lesser so that all the differentiae of the predicate will be differentiae also of the subject.\n"
     ]
    }
   ],
   "source": [
    "# Compute document similarity using LSA components\n",
    "similarity = np.asarray(np.asmatrix(X_train_lsa) * np.asmatrix(X_train_lsa).T)\n",
    "#Only taking the first 10 sentences\n",
    "sim_matrix=pd.DataFrame(similarity,index=X_train).iloc[0:10,0:10]\n",
    "#Making a plot\n",
    "ax = sns.heatmap(sim_matrix,yticklabels=range(10))\n",
    "plt.show()\n",
    "\n",
    "#Generating a key for the plot.\n",
    "print('Key:')\n",
    "for i in range(10):\n",
    "    print(i,sim_matrix.index[i])"
   ]
  },
  {
   "cell_type": "markdown",
   "metadata": {},
   "source": [
    "# Classification Models \n",
    "Now, I will use supervised classification models with and without the k-means clustering predictions as features to see how well our model performs.  I will start with the default settings in the models to get a baseline score.\n",
    "## Random Forest Classifier"
   ]
  },
  {
   "cell_type": "code",
   "execution_count": 34,
   "metadata": {},
   "outputs": [
    {
     "name": "stderr",
     "output_type": "stream",
     "text": [
      "/home/mache/anaconda3/lib/python3.6/site-packages/sklearn/model_selection/_split.py:605: Warning: The least populated class in y has only 2 members, which is too few. The minimum number of members in any class cannot be less than n_splits=5.\n",
      "  % (min_groups, self.n_splits)), Warning)\n",
      "/home/mache/anaconda3/lib/python3.6/site-packages/sklearn/model_selection/_split.py:605: Warning: The least populated class in y has only 2 members, which is too few. The minimum number of members in any class cannot be less than n_splits=5.\n",
      "  % (min_groups, self.n_splits)), Warning)\n"
     ]
    },
    {
     "name": "stdout",
     "output_type": "stream",
     "text": [
      "Training set score with clustering: 0.14346(+/- 0.196)\n",
      "\n",
      "Training set score without clustering:0.36106(+/- 0.206)\n"
     ]
    }
   ],
   "source": [
    "from sklearn.ensemble import RandomForestClassifier\n",
    "from sklearn.model_selection import cross_val_score\n",
    "\n",
    "rfc_c = RandomForestClassifier()\n",
    "train_c = rfc_c.fit(X2_train_c, y2_train)\n",
    "rfc_c_scores = cross_val_score(rfc_c, X2_train_c, y_train, cv=5)\n",
    "print('Training set score with clustering: {:.5f}(+/- {:.3f})'.format(rfc_c_scores.mean(), rfc_c_scores.std()*2))\n",
    "\n",
    "rfc = RandomForestClassifier()\n",
    "train = rfc.fit(X2_train, y2_train)\n",
    "rfc_scores = cross_val_score(rfc, X2_train, y_train, cv=5)\n",
    "print('\\nTraining set score without clustering:{:.5f}(+/- {:.3f})'.format(rfc_scores.mean(), rfc_scores.std()*2))"
   ]
  },
  {
   "cell_type": "markdown",
   "metadata": {},
   "source": [
    "Using the training set with the clustering feature, performed better than without it.\n",
    "\n",
    "## Logistic Regression"
   ]
  },
  {
   "cell_type": "code",
   "execution_count": 35,
   "metadata": {},
   "outputs": [
    {
     "name": "stdout",
     "output_type": "stream",
     "text": [
      "Training set score with clustering: 0.20872(+/- 0.089)\n",
      "\n",
      "Training set score without clustering:0.29114(+/- 0.243)\n"
     ]
    },
    {
     "name": "stderr",
     "output_type": "stream",
     "text": [
      "/home/mache/anaconda3/lib/python3.6/site-packages/sklearn/model_selection/_split.py:605: Warning: The least populated class in y has only 2 members, which is too few. The minimum number of members in any class cannot be less than n_splits=5.\n",
      "  % (min_groups, self.n_splits)), Warning)\n",
      "/home/mache/anaconda3/lib/python3.6/site-packages/sklearn/model_selection/_split.py:605: Warning: The least populated class in y has only 2 members, which is too few. The minimum number of members in any class cannot be less than n_splits=5.\n",
      "  % (min_groups, self.n_splits)), Warning)\n"
     ]
    }
   ],
   "source": [
    "from sklearn.linear_model import LogisticRegression\n",
    "\n",
    "lr_c = LogisticRegression()\n",
    "train_c = lr_c.fit(X2_train_c, y2_train)\n",
    "lr_c_scores = cross_val_score(lr_c, X2_train_c, y_train, cv=5)\n",
    "print('Training set score with clustering: {:.5f}(+/- {:.3f})'.format(lr_c_scores.mean(), lr_c_scores.std()*2))\n",
    "\n",
    "lr = LogisticRegression()\n",
    "train = lr.fit(X2_train, y2_train)\n",
    "lr_scores = cross_val_score(lr, X2_train, y_train, cv=5)\n",
    "print('\\nTraining set score without clustering:{:.5f}(+/- {:.3f})'.format(lr_scores.mean(), lr_scores.std()*2))"
   ]
  },
  {
   "cell_type": "markdown",
   "metadata": {},
   "source": [
    "In the case of Logistic Regression, using the clustering features wasn't a good idea. However, the performance is not good in both scenarios.\n",
    "\n",
    "## Gradient Boosting"
   ]
  },
  {
   "cell_type": "code",
   "execution_count": 36,
   "metadata": {},
   "outputs": [
    {
     "name": "stderr",
     "output_type": "stream",
     "text": [
      "/home/mache/anaconda3/lib/python3.6/site-packages/sklearn/model_selection/_split.py:605: Warning: The least populated class in y has only 2 members, which is too few. The minimum number of members in any class cannot be less than n_splits=5.\n",
      "  % (min_groups, self.n_splits)), Warning)\n"
     ]
    },
    {
     "name": "stdout",
     "output_type": "stream",
     "text": [
      "Training set score with clustering: 0.12730(+/- 0.208)\n"
     ]
    },
    {
     "name": "stderr",
     "output_type": "stream",
     "text": [
      "/home/mache/anaconda3/lib/python3.6/site-packages/sklearn/model_selection/_split.py:605: Warning: The least populated class in y has only 2 members, which is too few. The minimum number of members in any class cannot be less than n_splits=5.\n",
      "  % (min_groups, self.n_splits)), Warning)\n"
     ]
    },
    {
     "name": "stdout",
     "output_type": "stream",
     "text": [
      "\n",
      "Training set score without clustering:0.45433(+/- 0.170)\n"
     ]
    }
   ],
   "source": [
    "from sklearn.ensemble import GradientBoostingClassifier\n",
    "\n",
    "clf_c = GradientBoostingClassifier()\n",
    "train_c = clf_c.fit(X2_train_c, y2_train)\n",
    "clf_c_scores = cross_val_score(clf_c, X2_train_c, y_train, cv=5)\n",
    "print('Training set score with clustering: {:.5f}(+/- {:.3f})'.format(clf_c_scores.mean(), clf_c_scores.std()*2))\n",
    "\n",
    "clf = GradientBoostingClassifier()\n",
    "train = clf.fit(X2_train, y2_train)\n",
    "clf_scores = cross_val_score(clf, X2_train, y_train, cv=5)\n",
    "print('\\nTraining set score without clustering:{:.5f}(+/- {:.3f})'.format(clf_scores.mean(), clf_scores.std()*2))"
   ]
  },
  {
   "cell_type": "markdown",
   "metadata": {},
   "source": [
    "Using the Gradient Boost Classifier (GBC), the performance was better without the clustering features, and the score was even better than the one obtained from the Random Forest Classifier. I will use GridSearchCV to obtain the best parameters, and try to improve GBC's accuracy.\n",
    "\n",
    "### Tuning the hyperparameters"
   ]
  },
  {
   "cell_type": "code",
   "execution_count": 37,
   "metadata": {},
   "outputs": [
    {
     "name": "stderr",
     "output_type": "stream",
     "text": [
      "/home/mache/anaconda3/lib/python3.6/site-packages/sklearn/model_selection/_split.py:605: Warning: The least populated class in y has only 2 members, which is too few. The minimum number of members in any class cannot be less than n_splits=3.\n",
      "  % (min_groups, self.n_splits)), Warning)\n"
     ]
    },
    {
     "name": "stdout",
     "output_type": "stream",
     "text": [
      "Best Score: 0.118421052632\n",
      "Best Parameters: {'loss': 'deviance', 'max_depth': 3, 'max_features': 'sqrt', 'min_samples_leaf': 1, 'min_samples_split': 50, 'n_estimators': 50, 'subsample': 0.6}\n"
     ]
    }
   ],
   "source": [
    "from sklearn.model_selection import GridSearchCV\n",
    "\n",
    "# Set of parameters to test for best score in Grid Search CV\n",
    "parameters = {'loss':['deviance'],\n",
    "               'min_samples_split':[50,100,200],\n",
    "             'min_samples_leaf':[1,2,4],\n",
    "             'max_depth':[3,4,5,6],\n",
    "             'max_features':['sqrt'],\n",
    "             'subsample':[0.6,0.8],\n",
    "             'n_estimators':[50,100,150]}\n",
    "\n",
    "#fitting model and printing best parameters and score from model\n",
    "grid_clf = GridSearchCV(clf, param_grid=parameters)\n",
    "grid_clf.fit(X2_train, y2_train)\n",
    "\n",
    "print('Best Score:', grid_clf.best_score_)\n",
    "best_params_clf = grid_clf.best_params_\n",
    "print('Best Parameters:', best_params_clf)"
   ]
  },
  {
   "cell_type": "code",
   "execution_count": 38,
   "metadata": {},
   "outputs": [
    {
     "name": "stderr",
     "output_type": "stream",
     "text": [
      "/home/mache/anaconda3/lib/python3.6/site-packages/sklearn/model_selection/_split.py:605: Warning: The least populated class in y has only 2 members, which is too few. The minimum number of members in any class cannot be less than n_splits=5.\n",
      "  % (min_groups, self.n_splits)), Warning)\n"
     ]
    },
    {
     "name": "stdout",
     "output_type": "stream",
     "text": [
      "Optimized training set score with clustering:0.12730(+/- 0.208)\n"
     ]
    },
    {
     "name": "stderr",
     "output_type": "stream",
     "text": [
      "/home/mache/anaconda3/lib/python3.6/site-packages/sklearn/model_selection/_split.py:605: Warning: The least populated class in y has only 2 members, which is too few. The minimum number of members in any class cannot be less than n_splits=5.\n",
      "  % (min_groups, self.n_splits)), Warning)\n"
     ]
    },
    {
     "name": "stdout",
     "output_type": "stream",
     "text": [
      "Optimized training set score without clustering:0.43615(+/- 0.185)\n"
     ]
    }
   ],
   "source": [
    "clf2 = GradientBoostingClassifier(**best_params_clf)\n",
    "train = clf2.fit(X2_train_c, y2_train)\n",
    "clf_scores_c = cross_val_score(clf, X2_train_c, y_train, cv=5)\n",
    "print('Optimized training set score with clustering:{:.5f}(+/- {:.3f})'.format(clf_scores_c.mean(), clf_scores_c.std()*2))\n",
    "train = clf2.fit(X2_train, y2_train)\n",
    "clf_scores = cross_val_score(clf, X2_train, y_train, cv=5)\n",
    "print('Optimized training set score without clustering:{:.5f}(+/- {:.3f})'.format(clf_scores.mean(), clf_scores.std()*2))"
   ]
  },
  {
   "cell_type": "markdown",
   "metadata": {},
   "source": [
    "## Test set processing and Modeling\n",
    "\n",
    "We will now apply the same approach for the test set, and test it's accuracy predicting the authors. We will be using the Gradient Boosting Classifier optimized model."
   ]
  },
  {
   "cell_type": "code",
   "execution_count": 39,
   "metadata": {
    "collapsed": true
   },
   "outputs": [],
   "source": [
    "# Normalize Tf-idf vectors\n",
    "X_test_norm = normalize(X_test_tfidf)\n",
    "\n",
    "X_test_words = []\n",
    "\n",
    "for row in X_test:\n",
    "    # Processing each row for tokens\n",
    "    row_doc = nlp(row)\n",
    "    # Calculating length of each sentence\n",
    "    sent_len = len(row_doc) \n",
    "    # Initializing counts of different parts of speech\n",
    "    advs = 0\n",
    "    verb = 0\n",
    "    noun = 0\n",
    "    adj = 0\n",
    "    for token in row_doc:\n",
    "        # Identifying each part of speech and adding to counts\n",
    "        if token.pos_ == 'ADV':\n",
    "            advs +=1\n",
    "        elif token.pos_ == 'VERB':\n",
    "            verb +=1\n",
    "        elif token.pos_ == 'NOUN':\n",
    "            noun +=1\n",
    "        elif token.pos_ == 'ADJ':\n",
    "            adj +=1\n",
    "    # Creating a list of all features for each sentence\n",
    "    X_test_words.append([row_doc, advs, verb, noun, adj, sent_len])"
   ]
  },
  {
   "cell_type": "code",
   "execution_count": 40,
   "metadata": {
    "collapsed": true
   },
   "outputs": [],
   "source": [
    "# Re-indexing y_test\n",
    "y_test_new = y_test.reset_index(drop=True)\n",
    "\n",
    "# Data frame for features\n",
    "txt_bow_test = pd.DataFrame(data=X_test_words, columns=['BOW', 'ADV', 'VERB', 'NOUN', 'ADJ', 'sent_length'])\n",
    "\n",
    "# Adding in year data\n",
    "txt_bow_test = pd.concat([txt_bow_test, y_test_new], ignore_index=False, axis=1)\n",
    "\n",
    "# Combining features into one data frame\n",
    "X_test_norm_df = pd.DataFrame(data=X_test_norm.toarray())\n",
    "txt_tfidf_bow_test = pd.concat([txt_bow_test, X_test_norm_df], ignore_index=False, axis=1)\n",
    "txt_tfidf_bow_test.head()\n",
    "\n",
    "# Identifying features and labels to choose from\n",
    "features_test = txt_tfidf_bow_test.drop(['BOW', 'author'], axis=1)\n",
    "y2_test = txt_tfidf_bow_test.author"
   ]
  },
  {
   "cell_type": "code",
   "execution_count": 41,
   "metadata": {
    "collapsed": true
   },
   "outputs": [],
   "source": [
    "# Instantiating and fitting the 150 best features\n",
    "X2_test = SelectKBest(chi2, k=150).fit_transform(features_test, y2_test)"
   ]
  },
  {
   "cell_type": "code",
   "execution_count": 42,
   "metadata": {},
   "outputs": [
    {
     "data": {
      "text/html": [
       "<div>\n",
       "<style scoped>\n",
       "    .dataframe tbody tr th:only-of-type {\n",
       "        vertical-align: middle;\n",
       "    }\n",
       "\n",
       "    .dataframe tbody tr th {\n",
       "        vertical-align: top;\n",
       "    }\n",
       "\n",
       "    .dataframe thead th {\n",
       "        text-align: right;\n",
       "    }\n",
       "</style>\n",
       "<table border=\"1\" class=\"dataframe\">\n",
       "  <thead>\n",
       "    <tr style=\"text-align: right;\">\n",
       "      <th>col_0</th>\n",
       "      <th>0</th>\n",
       "      <th>2</th>\n",
       "      <th>3</th>\n",
       "      <th>4</th>\n",
       "    </tr>\n",
       "    <tr>\n",
       "      <th>author</th>\n",
       "      <th></th>\n",
       "      <th></th>\n",
       "      <th></th>\n",
       "      <th></th>\n",
       "    </tr>\n",
       "  </thead>\n",
       "  <tbody>\n",
       "    <tr>\n",
       "      <th>aristotle</th>\n",
       "      <td>0</td>\n",
       "      <td>3</td>\n",
       "      <td>0</td>\n",
       "      <td>0</td>\n",
       "    </tr>\n",
       "    <tr>\n",
       "      <th>dickens</th>\n",
       "      <td>1</td>\n",
       "      <td>0</td>\n",
       "      <td>0</td>\n",
       "      <td>0</td>\n",
       "    </tr>\n",
       "    <tr>\n",
       "      <th>doyle</th>\n",
       "      <td>1</td>\n",
       "      <td>1</td>\n",
       "      <td>0</td>\n",
       "      <td>0</td>\n",
       "    </tr>\n",
       "    <tr>\n",
       "      <th>emerson</th>\n",
       "      <td>0</td>\n",
       "      <td>2</td>\n",
       "      <td>0</td>\n",
       "      <td>1</td>\n",
       "    </tr>\n",
       "    <tr>\n",
       "      <th>hawthorne</th>\n",
       "      <td>1</td>\n",
       "      <td>0</td>\n",
       "      <td>0</td>\n",
       "      <td>1</td>\n",
       "    </tr>\n",
       "    <tr>\n",
       "      <th>irving</th>\n",
       "      <td>1</td>\n",
       "      <td>2</td>\n",
       "      <td>0</td>\n",
       "      <td>0</td>\n",
       "    </tr>\n",
       "    <tr>\n",
       "      <th>jefferson</th>\n",
       "      <td>0</td>\n",
       "      <td>0</td>\n",
       "      <td>0</td>\n",
       "      <td>3</td>\n",
       "    </tr>\n",
       "    <tr>\n",
       "      <th>kant</th>\n",
       "      <td>2</td>\n",
       "      <td>0</td>\n",
       "      <td>0</td>\n",
       "      <td>0</td>\n",
       "    </tr>\n",
       "    <tr>\n",
       "      <th>plato</th>\n",
       "      <td>0</td>\n",
       "      <td>1</td>\n",
       "      <td>0</td>\n",
       "      <td>0</td>\n",
       "    </tr>\n",
       "    <tr>\n",
       "      <th>poe</th>\n",
       "      <td>0</td>\n",
       "      <td>1</td>\n",
       "      <td>0</td>\n",
       "      <td>1</td>\n",
       "    </tr>\n",
       "    <tr>\n",
       "      <th>shakespeare</th>\n",
       "      <td>2</td>\n",
       "      <td>1</td>\n",
       "      <td>1</td>\n",
       "      <td>0</td>\n",
       "    </tr>\n",
       "  </tbody>\n",
       "</table>\n",
       "</div>"
      ],
      "text/plain": [
       "col_0        0  2  3  4\n",
       "author                 \n",
       "aristotle    0  3  0  0\n",
       "dickens      1  0  0  0\n",
       "doyle        1  1  0  0\n",
       "emerson      0  2  0  1\n",
       "hawthorne    1  0  0  1\n",
       "irving       1  2  0  0\n",
       "jefferson    0  0  0  3\n",
       "kant         2  0  0  0\n",
       "plato        0  1  0  0\n",
       "poe          0  1  0  1\n",
       "shakespeare  2  1  1  0"
      ]
     },
     "execution_count": 42,
     "metadata": {},
     "output_type": "execute_result"
    }
   ],
   "source": [
    "# Calulate predicted values\n",
    "\n",
    "y_pred_test = kmeans.predict(X2_test)\n",
    "\n",
    "pd.crosstab(y2_test, y_pred_test)"
   ]
  },
  {
   "cell_type": "code",
   "execution_count": 43,
   "metadata": {},
   "outputs": [
    {
     "name": "stdout",
     "output_type": "stream",
     "text": [
      "Silhouette Score: 0.4658696\n"
     ]
    }
   ],
   "source": [
    "print('Silhouette Score: {:0.7}'.format(silhouette_score(X2_test, y_pred_test, metric='euclidean')))"
   ]
  },
  {
   "cell_type": "markdown",
   "metadata": {},
   "source": [
    "This Silhouette Score is better than what I expected."
   ]
  },
  {
   "cell_type": "code",
   "execution_count": 44,
   "metadata": {
    "collapsed": true
   },
   "outputs": [],
   "source": [
    "X2_test_c = pd.DataFrame(X2_test)\n",
    "X2_test_c['kmeans_clust'] = y_pred_test"
   ]
  },
  {
   "cell_type": "code",
   "execution_count": 45,
   "metadata": {},
   "outputs": [
    {
     "name": "stderr",
     "output_type": "stream",
     "text": [
      "/home/mache/anaconda3/lib/python3.6/site-packages/sklearn/model_selection/_split.py:605: Warning: The least populated class in y has only 1 members, which is too few. The minimum number of members in any class cannot be less than n_splits=2.\n",
      "  % (min_groups, self.n_splits)), Warning)\n"
     ]
    },
    {
     "name": "stdout",
     "output_type": "stream",
     "text": [
      "Test set score: 0.11250(+/- 0.025)\n"
     ]
    }
   ],
   "source": [
    "clf_c2_scores_test = cross_val_score(clf2, X2_test_c, y_test, cv=2)\n",
    "print('Test set score: {:.5f}(+/- {:.3f})'.format(clf_c2_scores_test.mean(), clf_c2_scores_test.std()*2))"
   ]
  },
  {
   "cell_type": "markdown",
   "metadata": {},
   "source": [
    "Though the Silhouette Score was good, the accuracy predicting the authors wasn't good at all.\n",
    "\n",
    "## Conclusion\n",
    "\n",
    "Gradient Boost Classifier with the dataset containing the clusters as features improved, the model's performance, over the other tested model's, however, it's accuracy was far from great.\n",
    "\n",
    "I think the reason for this poor performance is due to the fact that we didn't use the whole books as part of the texts for each author, and just used some portions of it to save computational resources and time. Clustering the data did help in improving the performance of the training set, however, the overall accuracy is below 50 %, and I think this is due to the problem described earlier.\n",
    "\n",
    "For optimizing it's performance, I would start increasing the size of the texts for each author, and I think we could get much better results. I also believe that clustering by author was a good idea, given the singularity between each of them and I would still persue this approach."
   ]
  }
 ],
 "metadata": {
  "kernelspec": {
   "display_name": "Python [default]",
   "language": "python",
   "name": "python3"
  },
  "language_info": {
   "codemirror_mode": {
    "name": "ipython",
    "version": 3
   },
   "file_extension": ".py",
   "mimetype": "text/x-python",
   "name": "python",
   "nbconvert_exporter": "python",
   "pygments_lexer": "ipython3",
   "version": "3.6.3"
  }
 },
 "nbformat": 4,
 "nbformat_minor": 2
}
