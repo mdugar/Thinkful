{
 "cells": [
  {
   "cell_type": "code",
   "execution_count": 1,
   "metadata": {
    "collapsed": true
   },
   "outputs": [],
   "source": [
    "%matplotlib inline\n",
    "import numpy as np\n",
    "import pandas as pd\n",
    "import scipy\n",
    "import sklearn\n",
    "import matplotlib.pyplot as plt\n",
    "import seaborn as sns\n",
    "import nltk\n",
    "import re\n",
    "from nltk.corpus import stopwords\n",
    "import os\n",
    "from nltk.corpus import PlaintextCorpusReader\n",
    "from sklearn.model_selection import train_test_split\n",
    "from nltk.tokenize import word_tokenize\n",
    "from nltk.stem import WordNetLemmatizer\n",
    "from sklearn.feature_extraction.text import TfidfVectorizer\n",
    "from sklearn.decomposition import TruncatedSVD\n",
    "from sklearn.pipeline import make_pipeline\n",
    "from sklearn.preprocessing import Normalizer\n",
    "from sklearn.ensemble import RandomForestClassifier                          \n",
    "from sklearn.linear_model import LogisticRegression\n",
    "from sklearn.ensemble import GradientBoostingClassifier\n",
    "from sklearn.svm import SVC   \n",
    "from sklearn.model_selection import cross_val_score\n",
    "from sklearn.metrics import confusion_matrix"
   ]
  },
  {
   "cell_type": "markdown",
   "metadata": {},
   "source": [
    "# 4.5.1 Unsupervised Learning Capstone\n",
    "For this project you'll dig into a large amount of text and apply most of what you've covered in this unit and in the course so far.\n",
    "\n",
    "First, pick a set of texts. This can be either a series of novels, chapters, or articles. Anything you'd like. It just has to have multiple entries of varying characteristics. At least 100 should be good. There should also be at least 10 different authors, but try to keep the texts related (either all on the same topic of from the same branch of literature - something to make classification a bit more difficult than obviously different subjects).\n",
    "\n",
    "This capstone can be an extension of your NLP challenge if you wish to use the same corpus. If you found problems with that data set that limited your analysis, however, it may be worth using what you learned to choose a new corpus. Reserve 25% of your corpus as a test set.\n",
    "\n",
    "The first technique is to create a series of clusters. Try several techniques and pick the one you think best represents your data. Make sure there is a narrative and reasoning around why you have chosen the given clusters. Are authors consistently grouped into the same cluster?\n",
    "\n",
    "Next, perform some unsupervised feature generation and selection using the techniques covered in this unit and elsewhere in the course. Using those features then build models to attempt to classify your texts by author. Try different permutations of unsupervised and supervised techniques to see which combinations have the best performance.\n",
    "\n",
    "Lastly return to your holdout group. Does your clustering on those members perform as you'd expect? Have your clusters remained stable or changed dramatically? What about your model? Is it's performance consistent?\n",
    "\n",
    "If there is a divergence in the relative stability of your model and your clusters, delve into why.\n",
    "\n",
    "Your end result should be a write up of how clustering and modeling compare for classifying your texts. What are the advantages of each? Why would you want to use one over the other? Approximately 3-5 pages is a good length for your write up, and remember to include visuals to help tell your story!\n",
    "\n",
    "## Objective\n",
    "\n",
    "The goal of this project is to train a model with texts from different authors, and determine the accuracy of the model when predicting from which author a new text belongs. \n",
    "\n",
    "## Text Selection and Cleaning\n",
    "\n",
    "I selected 10 literary works from these 12 different authors:\n",
    "\n",
    "- emerson\n",
    "- shakespeare\n",
    "- hawthorne\n",
    "- kant\n",
    "- poe\n",
    "- burroughs\n",
    "- doyle\n",
    "- plato\n",
    "- dickens\n",
    "- aristotle\n",
    "- jefferson\n",
    "- irving \n",
    "\n",
    "I downloaded the .txt files from:\n",
    "\n",
    "http://www.textfiles.com/etext/AUTHORS/\n",
    "\n",
    "And manually cleaned the metadata from each text. Running the scripts below with their complete work required too much memory that my computer couldn't handle, so I manually cutted off from each file a part of the texts randomnly, and used this to persue my goal.\n",
    "\n",
    "__Sections:__\n",
    "\n",
    "[Text Processing](#section1)<br>\n",
    "[Unsupervised Feature Generation](#section2)<br>\n",
    "[Supervised Learning Models](#section3)<br>\n",
    "[Conclusion](#section4)"
   ]
  },
  {
   "cell_type": "markdown",
   "metadata": {},
   "source": [
    "<a id='section1'></a>\n",
    "## Text Processing\n",
    "\n",
    "We will create a list to store each file name and then create a loop to break each file into sentence level documents. Later, we will create a corpus root so that sentece() method can loop each text file."
   ]
  },
  {
   "cell_type": "code",
   "execution_count": 2,
   "metadata": {},
   "outputs": [],
   "source": [
    "# Make list of individual file ids\n",
    "file_ids = os.listdir('../Unsupervised capstone/books/')\n",
    "\n",
    "# Create blank labels list to populate\n",
    "labels = []\n",
    "\n",
    "# Iterate through list of files pulling out the author's name\n",
    "for file in file_ids:\n",
    "    \n",
    "    # label author for each text \n",
    "    author = re.sub(\"[^a-zA-Z]\", '', file[0:4])\n",
    "       \n",
    "    # Append to labels list\n",
    "    labels.append([file, author])"
   ]
  },
  {
   "cell_type": "code",
   "execution_count": 3,
   "metadata": {},
   "outputs": [
    {
     "name": "stdout",
     "output_type": "stream",
     "text": [
      "1840\n"
     ]
    },
    {
     "data": {
      "text/plain": [
       "['Her .',\n",
       " 'I should explain to you , Socrates , that our friend Cratylus has been arguing about names ; he says that they are natural and not conventional ; not a portion of the human voice which men agree to use ; but that there is a truth or correctness in them , which is the same for Hellenes as for barbarians .',\n",
       " 'Whereupon I ask him , whether his own name of Cratylus is a true name or not , and he answers \" Yes .\"',\n",
       " 'And Socrates ?',\n",
       " '\" Yes .\"']"
      ]
     },
     "execution_count": 3,
     "metadata": {},
     "output_type": "execute_result"
    }
   ],
   "source": [
    "corpus_root = '../Unsupervised capstone/books/'\n",
    "newcorpus = PlaintextCorpusReader(corpus_root, '.*')\n",
    "\n",
    "# Create blank lists to populate with sentence level data\n",
    "sent_list = []\n",
    "auth_list = []\n",
    "\n",
    "# Iterate through each book, create sentence level documents, maintaining author\n",
    "# information for each sentence\n",
    "for i in range(len(labels)):\n",
    "    sents = newcorpus.sents(labels[i][0]) #get sentences from document\n",
    "    joined_sents = [(' '.join(sent), labels[i][1]) for sent in sents]\n",
    "    \n",
    "    # write out to individual lists for easier text processing\n",
    "    for i in range(len(joined_sents)): \n",
    "        sent_list.append(joined_sents[i][0]) \n",
    "        auth_list.append(joined_sents[i][1])  \n",
    "\n",
    "print(len(sent_list))\n",
    "sent_list[:5]"
   ]
  },
  {
   "cell_type": "markdown",
   "metadata": {},
   "source": [
    "We created 1840 sentences, we will now proceed to clean them."
   ]
  },
  {
   "cell_type": "code",
   "execution_count": 4,
   "metadata": {
    "scrolled": true
   },
   "outputs": [
    {
     "name": "stdout",
     "output_type": "stream",
     "text": [
      "1840\n"
     ]
    },
    {
     "data": {
      "text/plain": [
       "['Her  ',\n",
       " 'I should explain to you   Socrates   that our friend Cratylus has been arguing about names   he says that they are natural and not conventional   not a portion of the human voice which men agree to use   but that there is a truth or correctness in them   which is the same for Hellenes as for barbarians  ',\n",
       " 'Whereupon I ask him   whether his own name of Cratylus is a true name or not   and he answers   Yes   ',\n",
       " 'And Socrates  ']"
      ]
     },
     "execution_count": 4,
     "metadata": {},
     "output_type": "execute_result"
    }
   ],
   "source": [
    "# Create list to hold cleaned up sentences\n",
    "sent_list_clean = []\n",
    "\n",
    "# Iterate through sentence list, removing punctuation, numeric values\n",
    "for sent in sent_list:\n",
    "    sent = re.sub(\"[^a-zA-Z]\", ' ', sent) #remove numeric and punctuation\n",
    "    if sent == sent.upper():              #removes ALL CAPS header sentences\n",
    "        sent = \"\"                         #replace with blank\n",
    "    sent_list_clean.append(sent)\n",
    "\n",
    "# Inspect cleaned sentences\n",
    "print(len(sent_list_clean))\n",
    "sent_list_clean[:4]"
   ]
  },
  {
   "cell_type": "markdown",
   "metadata": {},
   "source": [
    "Now we will tokenize the sentences into words and get the lemmas. "
   ]
  },
  {
   "cell_type": "code",
   "execution_count": 5,
   "metadata": {},
   "outputs": [
    {
     "data": {
      "text/plain": [
       "['Her',\n",
       " 'I should explain to you Socrates that our friend Cratylus ha been arguing about name he say that they are natural and not conventional not a portion of the human voice which men agree to use but that there is a truth or correctness in them which is the same for Hellenes a for barbarian',\n",
       " 'Whereupon I ask him whether his own name of Cratylus is a true name or not and he answer Yes',\n",
       " 'And Socrates',\n",
       " 'Yes']"
      ]
     },
     "execution_count": 5,
     "metadata": {},
     "output_type": "execute_result"
    }
   ],
   "source": [
    "lemmatizer = WordNetLemmatizer()\n",
    "\n",
    "# Create list to hold lemmatized sentences\n",
    "lemma_sents = []\n",
    "\n",
    "# Tokenize, get lemmas, and rejoin back to sentence level doc\n",
    "for sent in sent_list_clean:\n",
    "    words = word_tokenize(sent)                                 \n",
    "    word_lemma = [lemmatizer.lemmatize(word) for word in words] \n",
    "    sent_lemma = ' '.join(word_lemma)                           \n",
    "    lemma_sents.append(sent_lemma)\n",
    "\n",
    "# Inspect results\n",
    "lemma_sents[:5]"
   ]
  },
  {
   "cell_type": "markdown",
   "metadata": {},
   "source": [
    "We will now create a dataframe with the cleaned lists and remove all the blank lines. We will then move on to some unsupervised feature generation."
   ]
  },
  {
   "cell_type": "code",
   "execution_count": 6,
   "metadata": {},
   "outputs": [
    {
     "data": {
      "text/html": [
       "<div>\n",
       "<style scoped>\n",
       "    .dataframe tbody tr th:only-of-type {\n",
       "        vertical-align: middle;\n",
       "    }\n",
       "\n",
       "    .dataframe tbody tr th {\n",
       "        vertical-align: top;\n",
       "    }\n",
       "\n",
       "    .dataframe thead th {\n",
       "        text-align: right;\n",
       "    }\n",
       "</style>\n",
       "<table border=\"1\" class=\"dataframe\">\n",
       "  <thead>\n",
       "    <tr style=\"text-align: right;\">\n",
       "      <th></th>\n",
       "      <th>sent</th>\n",
       "      <th>author</th>\n",
       "    </tr>\n",
       "  </thead>\n",
       "  <tbody>\n",
       "    <tr>\n",
       "      <th>0</th>\n",
       "      <td>Her</td>\n",
       "      <td>plat</td>\n",
       "    </tr>\n",
       "    <tr>\n",
       "      <th>1</th>\n",
       "      <td>I should explain to you Socrates that our frie...</td>\n",
       "      <td>plat</td>\n",
       "    </tr>\n",
       "    <tr>\n",
       "      <th>2</th>\n",
       "      <td>Whereupon I ask him whether his own name of Cr...</td>\n",
       "      <td>plat</td>\n",
       "    </tr>\n",
       "    <tr>\n",
       "      <th>3</th>\n",
       "      <td>And Socrates</td>\n",
       "      <td>plat</td>\n",
       "    </tr>\n",
       "    <tr>\n",
       "      <th>4</th>\n",
       "      <td>Yes</td>\n",
       "      <td>plat</td>\n",
       "    </tr>\n",
       "  </tbody>\n",
       "</table>\n",
       "</div>"
      ],
      "text/plain": [
       "                                                sent author\n",
       "0                                                Her   plat\n",
       "1  I should explain to you Socrates that our frie...   plat\n",
       "2  Whereupon I ask him whether his own name of Cr...   plat\n",
       "3                                       And Socrates   plat\n",
       "4                                                Yes   plat"
      ]
     },
     "execution_count": 6,
     "metadata": {},
     "output_type": "execute_result"
    }
   ],
   "source": [
    "# Send to data frame\n",
    "df = pd.DataFrame()\n",
    "df['sent'] = lemma_sents\n",
    "df['author'] = auth_list\n",
    "\n",
    "# Remove blank documents \n",
    "df = df[df.sent!=\"\"]\n",
    "df.head()"
   ]
  },
  {
   "cell_type": "markdown",
   "metadata": {},
   "source": [
    "<a id='section2'></a>\n",
    "## Unsupervised Feature Generation\n",
    "\n",
    "We will now check the class balance for each author, and later generate unsupervised features with the following techniques:\n",
    "\n",
    "* Tf-idf\n",
    "* Latent Semantic Analysis\n",
    "\n",
    "After generating the new features will split our dataset into training and test sets, fixing the latter one in 25%."
   ]
  },
  {
   "cell_type": "code",
   "execution_count": 7,
   "metadata": {},
   "outputs": [
    {
     "name": "stdout",
     "output_type": "stream",
     "text": [
      "             sent\n",
      "author           \n",
      "aris     9.937888\n",
      "burr     6.493506\n",
      "dick     5.533597\n",
      "doyl     8.752117\n",
      "emer     9.824958\n",
      "hawt     8.187465\n",
      "irvi     6.380576\n",
      "jeff     7.905138\n",
      "kant     4.686618\n",
      "plat    12.478826\n",
      "poe      4.347826\n",
      "shak    15.471485\n"
     ]
    }
   ],
   "source": [
    "# Examinng class balance.\n",
    "print((df.groupby('author').count()/df['sent'].count())*100)"
   ]
  },
  {
   "cell_type": "code",
   "execution_count": 8,
   "metadata": {},
   "outputs": [
    {
     "name": "stdout",
     "output_type": "stream",
     "text": [
      "(1328, 2)\n",
      "(443, 2)\n"
     ]
    }
   ],
   "source": [
    "# Splitting data frame\n",
    "\n",
    "df_train, df_test = train_test_split(df, stratify=df['author'], test_size=0.25, random_state=42)\n",
    "\n",
    "# Examine shapes\n",
    "print(df_train.shape)\n",
    "print(df_test.shape)"
   ]
  },
  {
   "cell_type": "markdown",
   "metadata": {},
   "source": [
    "### Technique #1: TF-IDF Vector\n",
    "The first feature generation technique we'll use is to create term frequency-inverse document frequency (TF-IDF) vectors for each word.  The following components make up the TF-IDF value:\n",
    "\n",
    "* **Document frequency** - How many documents the word appears in.  More common words will have a higher document frequency.\n",
    "* **Inverse document frequency** - Takes the log (base 2) of the ratio between the total documents to the document frequency.  More frequeny words are penalized whereas less common words become more influential.\n",
    "* **Term frequency** - How many times the term appears in a document.  In our case, it's how many times a word appears in a sentence.\n",
    "* **Tf-idf** - Product of the term frequency multiplied by the inverse document frequency.  Largest tf-idf scores will represent words that occur a lot in a small number of sentences, and the lowest for a word that occurs in many sentences.  The benefit of tf-idf is that you can identify unique words that may help distinguish text documents from one another.\n",
    "\n",
    "We can calculate our TF-IDF vector matrix using TfidfVectorizer. The latter allows us to clean up more our sentences removing stop words and applying lowercase to everything."
   ]
  },
  {
   "cell_type": "code",
   "execution_count": 9,
   "metadata": {},
   "outputs": [
    {
     "name": "stdout",
     "output_type": "stream",
     "text": [
      "(1328, 2050)\n",
      "(443, 2050)\n"
     ]
    }
   ],
   "source": [
    "vectorizer = TfidfVectorizer(stop_words='english', # Remove stop words\n",
    "                             lowercase=True,       # Convert all to lowercase\n",
    "                             min_df=2,             # Use words that appear at least twice per sentence\n",
    "                             max_df=0.5,           # Drop words that occur in more than half of the sentences\n",
    "                             use_idf=True,\n",
    "                             smooth_idf=True,\n",
    "                             norm='l2'\n",
    "                             )\n",
    "\n",
    "# Specify data to vectorize\n",
    "X_train = df_train['sent']\n",
    "X_test = df_test['sent']\n",
    "\n",
    "# Vectorize training data\n",
    "X_train_tfidf = vectorizer.fit_transform(X_train)\n",
    "\n",
    "# Fit test data to vector\n",
    "X_test_tfidf = vectorizer.transform(X_test)\n",
    "\n",
    "# Examining shapes \n",
    "print(X_train_tfidf.shape)\n",
    "print(X_test_tfidf.shape)"
   ]
  },
  {
   "cell_type": "markdown",
   "metadata": {},
   "source": [
    "We can calculate now the average TF-IDF for each word, we can see the top ten in each set, being both similar"
   ]
  },
  {
   "cell_type": "code",
   "execution_count": 10,
   "metadata": {},
   "outputs": [
    {
     "name": "stdout",
     "output_type": "stream",
     "text": [
      "Train:\n",
      "       avg_weight   word\n",
      "1972    0.027225     wa\n",
      "1136    0.017651    man\n",
      "834     0.012791     ha\n",
      "1868    0.012388   time\n",
      "1709    0.012048    soc\n",
      "1607    0.011106    say\n",
      "1029    0.010365   know\n",
      "1594    0.010295   said\n",
      "798     0.010012   good\n",
      "1658    0.009518  shall\n",
      "\n",
      "Test:\n",
      "       avg_weight   word\n",
      "1972    0.026038     wa\n",
      "1136    0.016651    man\n",
      "1868    0.015601   time\n",
      "834     0.015148     ha\n",
      "1658    0.015101  shall\n",
      "1852    0.013345  think\n",
      "1607    0.013117    say\n",
      "798     0.013077   good\n",
      "1567    0.012841  right\n",
      "438     0.010505    day\n"
     ]
    }
   ],
   "source": [
    "# Calculate weights on training data\n",
    "weights = np.asarray(X_train_tfidf.mean(axis=0)).ravel().tolist()\n",
    "weights_df = pd.DataFrame({'word': vectorizer.get_feature_names(), 'avg_weight': weights})\n",
    "print(\"Train:\\n\", weights_df.sort_values(by='avg_weight', ascending=False).head(10))\n",
    "\n",
    "# Calculate weights on test data\n",
    "weights = np.asarray(X_test_tfidf.mean(axis=0)).ravel().tolist()\n",
    "weights_df = pd.DataFrame({'word': vectorizer.get_feature_names(), 'avg_weight': weights})\n",
    "print(\"\\nTest:\\n\", weights_df.sort_values(by='avg_weight', ascending=False).head(10))"
   ]
  },
  {
   "cell_type": "markdown",
   "metadata": {},
   "source": [
    "### Technique #2: Latent Semantic Analysis using Singular Value Decomposition\n",
    "\n",
    "\n",
    "We can use our TF-IDF vector matrix and perform Latent Semantic Analysis (LSA) on the words with the objective to gain semantic information.  LSA is performed through a dimensionality reduction technique called singluar value decompositin (SVD).  SVD is applied to a tf-idf vector matrix and the resulting components represent clusters of words that presumably reflect topics within the corpus.  \n",
    "\n",
    "We will reduce our TF-IDF feature matrix to 30% and examine it's components."
   ]
  },
  {
   "cell_type": "code",
   "execution_count": 11,
   "metadata": {
    "scrolled": false
   },
   "outputs": [
    {
     "name": "stdout",
     "output_type": "stream",
     "text": [
      "Percent variance captured by components: 83.7908834133\n",
      "Component 0:\n",
      "sent\n",
      "Soc    1.0\n",
      "Soc    1.0\n",
      "Soc    1.0\n",
      "Soc    1.0\n",
      "Soc    1.0\n",
      "Name: 0, dtype: float64\n",
      "Component 1:\n",
      "sent\n",
      "Certainly I know him I said for he wa remarkable even then when he wa still a child and I should imagine that by this time he must be almost a young man                                                                                                                                                                                                                                                                                                                                                                                         0.452931\n",
      "He wa the d or th settler of the part of the country in which I live which wa about                                                                                                                                                                                                                                                                                                                                                                                                                                                              0.418002\n",
      "Every revolution wa first a thought in one man s mind and when the same thought occurs to another man it is the key to that era                                                                                                                                                                                                                                                                                                                                                                                                                  0.390764\n",
      "The public ha already learned those particu lars of the crime which came out in the po ice investigation but a good deal wa suppressed upon that occasion since the case for the prosecution wa so overwhelmingly strong that it wa not necessary to bring forward all the fact                                                                                                                                                                                                                                                                  0.345718\n",
      "Like most young men at that time I wa much indebted to the men of Edinburgh and of the Edinburgh Review to Jeffrey Mackintosh Hallam and to Scott Playfair and De Quincey and my narrow and desultory reading had inspired the wish to see the face of three or four writer Coleridge Wordsworth Landor De Quincey and the latest and strongest contributor to the critical journal Carlyle and I suppose if I had sifted the reason that led me to Europe when I wa ill and wa advised to travel it wa mainly the attraction of these person    0.345521\n",
      "Name: 1, dtype: float64\n",
      "Component 2:\n",
      "sent\n",
      "It is no compliment to a man                                                                                                                                                             0.716463\n",
      "Thus man is predicable of the individual man and is never present in a subject                                                                                                           0.657671\n",
      "Thus man is predicated of the individual man but animal is predicated of man it will therefore be predicable of the individual man also for the individual man is both man and animal    0.645401\n",
      "he called to the man                                                                                                                                                                     0.501143\n",
      "Examples of the latter are such expression a the man run the man win of the former man ox run win                                                                                        0.490940\n",
      "Name: 2, dtype: float64\n",
      "Component 3:\n",
      "sent\n",
      "It is no compliment to a man                                                                                                                                                             0.438299\n",
      "Thus man is predicated of the individual man but animal is predicated of man it will therefore be predicable of the individual man also for the individual man is both man and animal    0.338455\n",
      "Every revolution wa first a thought in one man s mind and when the same thought occurs to another man it is the key to that era                                                          0.315638\n",
      "He wa the d or th settler of the part of the country in which I live which wa about                                                                                                      0.298708\n",
      "Examples of the latter are such expression a the man run the man win of the former man ox run win                                                                                        0.292474\n",
      "Name: 3, dtype: float64\n",
      "Component 4:\n",
      "sent\n",
      "Other thing again are both predicable of a subject and present in a subject                                                                                                                                                                              0.574092\n",
      "Some thing again are present in a subject but are never predicable of a subject                                                                                                                                                                          0.574092\n",
      "Of thing themselves some are predicable of a subject and are never present in a subject                                                                                                                                                                  0.574092\n",
      "By being present in a subject I do not mean present a part are present in a whole but being incapable of existence apart from the said subject                                                                                                           0.476455\n",
      "For instance a certain point of grammatical knowledge is present in the mind but is not predicable of any subject or again a certain whiteness may be present in the body for colour requires a material basis yet it is never predicable of anything    0.419913\n",
      "Name: 4, dtype: float64\n",
      "Component 5:\n",
      "sent\n",
      "KING JOHN A good blunt fellow                                                0.625448\n",
      "Good                                                                         0.574492\n",
      "Good                                                                         0.574492\n",
      "Very good indeed and still better when we see them let u move on cheerily    0.482583\n",
      "Was this inserted to make interest good                                      0.474766\n",
      "Name: 5, dtype: float64\n"
     ]
    }
   ],
   "source": [
    "# Reduce feature space to ~30% of original\n",
    "svd = TruncatedSVD(600)\n",
    "\n",
    "# Make pipeline to run svd and normalize results\n",
    "lsa_pipe = make_pipeline(svd, Normalizer())\n",
    "\n",
    "# Fit with training data, transform test data\n",
    "X_train_lsa = lsa_pipe.fit_transform(X_train_tfidf)\n",
    "X_test_lsa = lsa_pipe.transform(X_test_tfidf)\n",
    "\n",
    "# Examine variance captured in reduced feature space\n",
    "variance_explained = svd.explained_variance_ratio_\n",
    "total_variance = variance_explained.sum()\n",
    "print('Percent variance captured by components:', total_variance*100)\n",
    "\n",
    "sent_by_component = pd.DataFrame(X_train_lsa, index=X_train)\n",
    "\n",
    "# Look at values from first 5 components\n",
    "for i in range(6):\n",
    "    print('Component {}:'.format(i))\n",
    "    print(sent_by_component.loc[:, i].sort_values(ascending=False)[:5]) "
   ]
  },
  {
   "cell_type": "markdown",
   "metadata": {},
   "source": [
    "We were able to reduce the feature space to approximatelt 30% and still capture 83% of it's variation."
   ]
  },
  {
   "cell_type": "markdown",
   "metadata": {},
   "source": [
    "<a id='section3'></a>\n",
    "## Supervised Learning\n",
    "\n",
    "We will now try out our feature sets on four classification models and see how well they perform.\n",
    "\n",
    "These are the models we will try out:\n",
    "\n",
    "* Random Forest Classifier\n",
    "* Logistic Regression\n",
    "* Support Vector Classifier\n",
    "* Gradient Boost Classifier\n",
    "\n",
    "We will write out a function to test each model on both TF-IDF and LSA features and plot a confusion matrix for each case."
   ]
  },
  {
   "cell_type": "code",
   "execution_count": 12,
   "metadata": {
    "collapsed": true
   },
   "outputs": [],
   "source": [
    "# Target variables\n",
    "Y_train = df_train['author']\n",
    "Y_test = df_test['author']"
   ]
  },
  {
   "cell_type": "code",
   "execution_count": 13,
   "metadata": {
    "collapsed": true
   },
   "outputs": [],
   "source": [
    "# Set up funtion to run models on both feature sets and generate accuracy scores and confusion matrices\n",
    "def run_model(clf):\n",
    "    \n",
    "    #************ TFIDF Feature Inputs ***************\n",
    "    X_train = X_train_tfidf\n",
    "    X_test = X_test_tfidf\n",
    "    \n",
    "    # Fit with tfidf features\n",
    "    clf.fit(X_train, Y_train)\n",
    "    \n",
    "    # Predict outcomes for confusion matrix\n",
    "    Y_pred_tf = clf.fit(X_train_tfidf, Y_train).predict(X_test_tfidf)\n",
    "    \n",
    "    # Get results\n",
    "    print('TF-IDF Features:')\n",
    "    print('Train accuracy:', clf.score(X_train, Y_train))\n",
    "    print('Test accuracy:', clf.score(X_test, Y_test))\n",
    "    print('---------------------------------------------')\n",
    "\n",
    "    # ************ LSA Feature Inputs *******************\n",
    "    X_train = X_train_lsa\n",
    "    X_test = X_test_lsa\n",
    "    \n",
    "    # Refit with lsa features\n",
    "    clf.fit(X_train, Y_train)\n",
    "    \n",
    "    # Predict outcomes for confusion matrix\n",
    "    Y_pred_lsa = clf.fit(X_train_lsa, Y_train).predict(X_test_lsa)\n",
    "    \n",
    "    print('LSA Features:')\n",
    "    print('Train accuracy:', clf.score(X_train, Y_train))\n",
    "    print('Test accuracy:', clf.score(X_test, Y_test))\n",
    "    \n",
    "    # ************ Generate Confusion Matrices ****************\n",
    "    \n",
    "    # Specify text labels\n",
    "    labels = sorted(Y_test.unique())\n",
    "    \n",
    "    # Make tfidf confusion matrix, send to df\n",
    "    cm_tf = confusion_matrix(Y_test, Y_pred_tf)\n",
    "    df_cm_tf = pd.DataFrame(cm_tf, labels, labels)\n",
    "  \n",
    "    # Make lsa confusion matrix, send to df\n",
    "    cm_lsa = confusion_matrix(Y_test, Y_pred_lsa)\n",
    "    df_cm_lsa = pd.DataFrame(cm_lsa, labels, labels)\n",
    "    \n",
    "    # Setup plots\n",
    "    fig, (ax1, ax2) = plt.subplots(1, 2, figsize=(8,4))\n",
    "\n",
    "    \n",
    "    # ******************** Plot *************************\n",
    "    \n",
    "    # Create confusion matrix heatmaps \n",
    "    sns.heatmap(df_cm_tf, ax=ax1)\n",
    "    sns.heatmap(df_cm_lsa, ax=ax2)\n",
    "\n",
    "    # Set title and axis\n",
    "    ax1.set_title('Tf-idf Confusion Matrix')\n",
    "    ax2.set_title('LSA Confusion Matrix')\n",
    "\n",
    "    ax1.set_ylabel('Actual')\n",
    "    ax1.set_xlabel('Predicted')\n",
    "    ax2.set_xlabel('Predicted')\n",
    "\n",
    "    plt.tight_layout()\n",
    "    plt.show()"
   ]
  },
  {
   "cell_type": "markdown",
   "metadata": {},
   "source": [
    "#### Random Forest"
   ]
  },
  {
   "cell_type": "code",
   "execution_count": 14,
   "metadata": {},
   "outputs": [
    {
     "name": "stdout",
     "output_type": "stream",
     "text": [
      "TF-IDF Features:\n",
      "Train accuracy: 0.481927710843\n",
      "Test accuracy: 0.349887133183\n",
      "---------------------------------------------\n",
      "LSA Features:\n",
      "Train accuracy: 0.538403614458\n",
      "Test accuracy: 0.291196388262\n"
     ]
    },
    {
     "data": {
      "image/png": "[encoded data removed]",
      "text/plain": [
       "<matplotlib.figure.Figure at 0x7f8ddc88f128>"
      ]
     },
     "metadata": {},
     "output_type": "display_data"
    }
   ],
   "source": [
    "# Specify the classifier\n",
    "clf = RandomForestClassifier(n_estimators=100,\n",
    "                             max_depth=3,\n",
    "                             random_state=42,\n",
    "                             class_weight='balanced' \n",
    "                            )   \n",
    "\n",
    "# Run model\n",
    "run_model(clf)"
   ]
  },
  {
   "cell_type": "markdown",
   "metadata": {},
   "source": [
    "Both features sets performed similarly. Looking at the confussion matrices, we can see that in both sets, we predominantely identified Aristotle's sentences.\n",
    "\n",
    "\n",
    "Using the Random Forest Classifier with tf-idf features we can look at feature importances."
   ]
  },
  {
   "cell_type": "code",
   "execution_count": 15,
   "metadata": {},
   "outputs": [
    {
     "data": {
      "text/html": [
       "<div>\n",
       "<style scoped>\n",
       "    .dataframe tbody tr th:only-of-type {\n",
       "        vertical-align: middle;\n",
       "    }\n",
       "\n",
       "    .dataframe tbody tr th {\n",
       "        vertical-align: top;\n",
       "    }\n",
       "\n",
       "    .dataframe thead th {\n",
       "        text-align: right;\n",
       "    }\n",
       "</style>\n",
       "<table border=\"1\" class=\"dataframe\">\n",
       "  <thead>\n",
       "    <tr style=\"text-align: right;\">\n",
       "      <th></th>\n",
       "      <th>importance</th>\n",
       "      <th>word</th>\n",
       "    </tr>\n",
       "  </thead>\n",
       "  <tbody>\n",
       "    <tr>\n",
       "      <th>1438</th>\n",
       "      <td>0.033531</td>\n",
       "      <td>principle</td>\n",
       "    </tr>\n",
       "    <tr>\n",
       "      <th>203</th>\n",
       "      <td>0.029603</td>\n",
       "      <td>bon</td>\n",
       "    </tr>\n",
       "    <tr>\n",
       "      <th>542</th>\n",
       "      <td>0.028952</td>\n",
       "      <td>duty</td>\n",
       "    </tr>\n",
       "    <tr>\n",
       "      <th>1025</th>\n",
       "      <td>0.024177</td>\n",
       "      <td>king</td>\n",
       "    </tr>\n",
       "    <tr>\n",
       "      <th>1972</th>\n",
       "      <td>0.019850</td>\n",
       "      <td>wa</td>\n",
       "    </tr>\n",
       "    <tr>\n",
       "      <th>75</th>\n",
       "      <td>0.019429</td>\n",
       "      <td>animal</td>\n",
       "    </tr>\n",
       "    <tr>\n",
       "      <th>1709</th>\n",
       "      <td>0.017815</td>\n",
       "      <td>soc</td>\n",
       "    </tr>\n",
       "    <tr>\n",
       "      <th>1472</th>\n",
       "      <td>0.017384</td>\n",
       "      <td>pure</td>\n",
       "    </tr>\n",
       "    <tr>\n",
       "      <th>1930</th>\n",
       "      <td>0.016225</td>\n",
       "      <td>union</td>\n",
       "    </tr>\n",
       "    <tr>\n",
       "      <th>1712</th>\n",
       "      <td>0.016048</td>\n",
       "      <td>socrates</td>\n",
       "    </tr>\n",
       "  </tbody>\n",
       "</table>\n",
       "</div>"
      ],
      "text/plain": [
       "      importance       word\n",
       "1438    0.033531  principle\n",
       "203     0.029603        bon\n",
       "542     0.028952       duty\n",
       "1025    0.024177       king\n",
       "1972    0.019850         wa\n",
       "75      0.019429     animal\n",
       "1709    0.017815        soc\n",
       "1472    0.017384       pure\n",
       "1930    0.016225      union\n",
       "1712    0.016048   socrates"
      ]
     },
     "execution_count": 15,
     "metadata": {},
     "output_type": "execute_result"
    }
   ],
   "source": [
    "# Use model to get feature importance\n",
    "feat_importance = clf.fit(X_train_tfidf, Y_train).feature_importances_\n",
    "features = vectorizer.get_feature_names()\n",
    "\n",
    "importance_df = pd.DataFrame({'word': vectorizer.get_feature_names(), 'importance': feat_importance})\n",
    "importance_df.sort_values(by='importance', ascending=False).head(10)"
   ]
  },
  {
   "cell_type": "markdown",
   "metadata": {},
   "source": [
    "We can see that 'principle' is the most important word."
   ]
  },
  {
   "cell_type": "markdown",
   "metadata": {},
   "source": [
    "#### Logistic Regression"
   ]
  },
  {
   "cell_type": "code",
   "execution_count": 16,
   "metadata": {},
   "outputs": [
    {
     "name": "stdout",
     "output_type": "stream",
     "text": [
      "TF-IDF Features:\n",
      "Train accuracy: 0.870481927711\n",
      "Test accuracy: 0.501128668172\n",
      "---------------------------------------------\n",
      "LSA Features:\n",
      "Train accuracy: 0.844879518072\n",
      "Test accuracy: 0.544018058691\n"
     ]
    },
    {
     "data": {
      "image/png": "[encoded data removed]",
      "text/plain": [
       "<matplotlib.figure.Figure at 0x7f8dde947710>"
      ]
     },
     "metadata": {},
     "output_type": "display_data"
    }
   ],
   "source": [
    "# Specify and run model\n",
    "clf = LogisticRegression()\n",
    "run_model(clf)"
   ]
  },
  {
   "cell_type": "markdown",
   "metadata": {},
   "source": [
    "Logistic Regression performed much better.  Both feature sets had a similar performance predicting correctly Aristotle, Doyle, Emerson, Jefferson, Plato and Kant."
   ]
  },
  {
   "cell_type": "markdown",
   "metadata": {},
   "source": [
    "#### Support Vector Machine "
   ]
  },
  {
   "cell_type": "code",
   "execution_count": 17,
   "metadata": {},
   "outputs": [
    {
     "name": "stdout",
     "output_type": "stream",
     "text": [
      "TF-IDF Features:\n",
      "Train accuracy: 0.15436746988\n",
      "Test accuracy: 0.155756207675\n",
      "---------------------------------------------\n",
      "LSA Features:\n",
      "Train accuracy: 0.15436746988\n",
      "Test accuracy: 0.155756207675\n"
     ]
    },
    {
     "data": {
      "image/png": "[encoded data removed]",
      "text/plain": [
       "<matplotlib.figure.Figure at 0x7f8ddc5874a8>"
      ]
     },
     "metadata": {},
     "output_type": "display_data"
    }
   ],
   "source": [
    "# Specify and run model\n",
    "clf = SVC()\n",
    "run_model(clf)"
   ]
  },
  {
   "cell_type": "markdown",
   "metadata": {},
   "source": [
    "The Support Vector Machine Classiffier clearly didn't performed correctly."
   ]
  },
  {
   "cell_type": "markdown",
   "metadata": {},
   "source": [
    "#### Gradient Boost Classifier"
   ]
  },
  {
   "cell_type": "code",
   "execution_count": 18,
   "metadata": {},
   "outputs": [
    {
     "name": "stdout",
     "output_type": "stream",
     "text": [
      "TF-IDF Features:\n",
      "Train accuracy: 0.96686746988\n",
      "Test accuracy: 0.444695259594\n",
      "---------------------------------------------\n",
      "LSA Features:\n",
      "Train accuracy: 0.987198795181\n",
      "Test accuracy: 0.358916478555\n"
     ]
    },
    {
     "data": {
      "image/png": "[encoded data removed]",
      "text/plain": [
       "<matplotlib.figure.Figure at 0x7f8ddc384eb8>"
      ]
     },
     "metadata": {},
     "output_type": "display_data"
    }
   ],
   "source": [
    "clf = GradientBoostingClassifier()\n",
    "run_model(clf)"
   ]
  },
  {
   "cell_type": "markdown",
   "metadata": {},
   "source": [
    "The Gradient Boost Classifier performed quite well, with an even better performance using the TF-IDF data set. In bothe cases, Aristotle's and Plato's were predicted with a higher accuracy."
   ]
  },
  {
   "cell_type": "markdown",
   "metadata": {},
   "source": [
    "<a id='section4'></a>\n",
    "## Conclusion"
   ]
  },
  {
   "cell_type": "markdown",
   "metadata": {},
   "source": [
    "Logistic Regression was the best performer mdoel, having a better than expected performance with the LSA feature set. The overall performance of the rest of the models wasn't very good, however, I think there is a lot of space for improving these models and that is starting with including the whole book from each author, looking for the best performance parameters for each model, and exploring other unsupervised techniques."
   ]
  }
 ],
 "metadata": {
  "kernelspec": {
   "display_name": "Python [default]",
   "language": "python",
   "name": "python3"
  },
  "language_info": {
   "codemirror_mode": {
    "name": "ipython",
    "version": 3
   },
   "file_extension": ".py",
   "mimetype": "text/x-python",
   "name": "python",
   "nbconvert_exporter": "python",
   "pygments_lexer": "ipython3",
   "version": "3.6.3"
  }
 },
 "nbformat": 4,
 "nbformat_minor": 2
}
