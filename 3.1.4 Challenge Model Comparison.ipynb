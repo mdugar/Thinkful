{
 "cells": [
  {
   "cell_type": "markdown",
   "metadata": {},
   "source": [
    "## 3.1.4 Challenge: Model Comparison"
   ]
  },
  {
   "cell_type": "markdown",
   "metadata": {},
   "source": [
    "You now know two kinds of regression and two kinds of classifier. So let's use that to compare models!\n",
    "\n",
    "Comparing models is something data scientists do all the time. There's very rarely just one model that would be possible to run for a given situation, so learning to choose the best one is very important.\n",
    "\n",
    "Here let's work on regression. Find a data set and build a KNN Regression and an OLS regression. Compare the two. How similar are they? Do they miss in different ways?\n",
    "\n",
    "Create a Jupyter notebook with your models. At the end in a markdown cell write a few paragraphs to describe the models' behaviors and why you favor one model or the other. Try to determine whether there is a situation where you would change your mind, or whether one is unambiguously better than the other. Lastly, try to note what it is about the data that causes the better model to outperform the weaker model. Submit a link to your notebook below."
   ]
  },
  {
   "cell_type": "code",
   "execution_count": 1,
   "metadata": {
    "collapsed": true
   },
   "outputs": [],
   "source": [
    "import pandas as pd\n",
    "import numpy as np\n",
    "import seaborn as sns\n",
    "import matplotlib.pyplot as plt\n",
    "from sklearn.linear_model import LinearRegression\n",
    "from sklearn import neighbors\n",
    "import statsmodels.formula.api as smf\n",
    "from sklearn import linear_model\n",
    "from sklearn.model_selection import cross_val_score\n",
    "from scipy import stats"
   ]
  },
  {
   "cell_type": "code",
   "execution_count": 2,
   "metadata": {},
   "outputs": [
    {
     "data": {
      "text/plain": [
       "(12480, 5)"
      ]
     },
     "metadata": {},
     "output_type": "display_data"
    },
    {
     "data": {
      "text/html": [
       "<div>\n",
       "<style>\n",
       "    .dataframe thead tr:only-child th {\n",
       "        text-align: right;\n",
       "    }\n",
       "\n",
       "    .dataframe thead th {\n",
       "        text-align: left;\n",
       "    }\n",
       "\n",
       "    .dataframe tbody tr th {\n",
       "        vertical-align: top;\n",
       "    }\n",
       "</style>\n",
       "<table border=\"1\" class=\"dataframe\">\n",
       "  <thead>\n",
       "    <tr style=\"text-align: right;\">\n",
       "      <th></th>\n",
       "      <th>Time (ART)</th>\n",
       "      <th>Open</th>\n",
       "      <th>High</th>\n",
       "      <th>Low</th>\n",
       "      <th>Close</th>\n",
       "    </tr>\n",
       "  </thead>\n",
       "  <tbody>\n",
       "    <tr>\n",
       "      <th>0</th>\n",
       "      <td>2017.10.01 18:00:00</td>\n",
       "      <td>7374.969</td>\n",
       "      <td>7374.969</td>\n",
       "      <td>7374.969</td>\n",
       "      <td>7374.969</td>\n",
       "    </tr>\n",
       "    <tr>\n",
       "      <th>1</th>\n",
       "      <td>2017.10.01 18:15:00</td>\n",
       "      <td>7374.969</td>\n",
       "      <td>7374.969</td>\n",
       "      <td>7374.969</td>\n",
       "      <td>7374.969</td>\n",
       "    </tr>\n",
       "    <tr>\n",
       "      <th>2</th>\n",
       "      <td>2017.10.01 18:30:00</td>\n",
       "      <td>7374.969</td>\n",
       "      <td>7374.969</td>\n",
       "      <td>7374.969</td>\n",
       "      <td>7374.969</td>\n",
       "    </tr>\n",
       "  </tbody>\n",
       "</table>\n",
       "</div>"
      ],
      "text/plain": [
       "            Time (ART)      Open      High       Low     Close\n",
       "0  2017.10.01 18:00:00  7374.969  7374.969  7374.969  7374.969\n",
       "1  2017.10.01 18:15:00  7374.969  7374.969  7374.969  7374.969\n",
       "2  2017.10.01 18:30:00  7374.969  7374.969  7374.969  7374.969"
      ]
     },
     "metadata": {},
     "output_type": "display_data"
    }
   ],
   "source": [
    "data_path = '/home/mache/Desktop/Thinkful/Course/Unit 3/GBRIDXGBP_15 Mins_Bid_2017.10.01_2018.04.01.csv'\n",
    "df = pd.read_csv(data_path)[['Time (ART)','Open', 'High', 'Low', 'Close']]\n",
    "display(df.shape)\n",
    "display(df.head(3))"
   ]
  },
  {
   "cell_type": "code",
   "execution_count": 3,
   "metadata": {},
   "outputs": [
    {
     "data": {
      "text/html": [
       "<div>\n",
       "<style>\n",
       "    .dataframe thead tr:only-child th {\n",
       "        text-align: right;\n",
       "    }\n",
       "\n",
       "    .dataframe thead th {\n",
       "        text-align: left;\n",
       "    }\n",
       "\n",
       "    .dataframe tbody tr th {\n",
       "        vertical-align: top;\n",
       "    }\n",
       "</style>\n",
       "<table border=\"1\" class=\"dataframe\">\n",
       "  <thead>\n",
       "    <tr style=\"text-align: right;\">\n",
       "      <th></th>\n",
       "      <th>Open</th>\n",
       "      <th>High</th>\n",
       "      <th>Low</th>\n",
       "      <th>Close</th>\n",
       "    </tr>\n",
       "  </thead>\n",
       "  <tbody>\n",
       "    <tr>\n",
       "      <th>count</th>\n",
       "      <td>12480.000000</td>\n",
       "      <td>12480.000000</td>\n",
       "      <td>12480.000000</td>\n",
       "      <td>12480.000000</td>\n",
       "    </tr>\n",
       "    <tr>\n",
       "      <th>mean</th>\n",
       "      <td>7417.746102</td>\n",
       "      <td>7420.042335</td>\n",
       "      <td>7415.386699</td>\n",
       "      <td>7417.709764</td>\n",
       "    </tr>\n",
       "    <tr>\n",
       "      <th>std</th>\n",
       "      <td>209.611137</td>\n",
       "      <td>208.999603</td>\n",
       "      <td>210.277273</td>\n",
       "      <td>209.629732</td>\n",
       "    </tr>\n",
       "    <tr>\n",
       "      <th>min</th>\n",
       "      <td>6858.100000</td>\n",
       "      <td>6865.600000</td>\n",
       "      <td>6851.609000</td>\n",
       "      <td>6858.349000</td>\n",
       "    </tr>\n",
       "    <tr>\n",
       "      <th>25%</th>\n",
       "      <td>7249.550000</td>\n",
       "      <td>7251.400000</td>\n",
       "      <td>7244.764000</td>\n",
       "      <td>7249.512250</td>\n",
       "    </tr>\n",
       "    <tr>\n",
       "      <th>50%</th>\n",
       "      <td>7458.770000</td>\n",
       "      <td>7459.800000</td>\n",
       "      <td>7456.770000</td>\n",
       "      <td>7458.770000</td>\n",
       "    </tr>\n",
       "    <tr>\n",
       "      <th>75%</th>\n",
       "      <td>7549.269000</td>\n",
       "      <td>7552.270000</td>\n",
       "      <td>7548.269250</td>\n",
       "      <td>7549.269000</td>\n",
       "    </tr>\n",
       "    <tr>\n",
       "      <th>max</th>\n",
       "      <td>7788.969000</td>\n",
       "      <td>7792.770000</td>\n",
       "      <td>7786.269000</td>\n",
       "      <td>7788.770000</td>\n",
       "    </tr>\n",
       "  </tbody>\n",
       "</table>\n",
       "</div>"
      ],
      "text/plain": [
       "               Open          High           Low         Close\n",
       "count  12480.000000  12480.000000  12480.000000  12480.000000\n",
       "mean    7417.746102   7420.042335   7415.386699   7417.709764\n",
       "std      209.611137    208.999603    210.277273    209.629732\n",
       "min     6858.100000   6865.600000   6851.609000   6858.349000\n",
       "25%     7249.550000   7251.400000   7244.764000   7249.512250\n",
       "50%     7458.770000   7459.800000   7456.770000   7458.770000\n",
       "75%     7549.269000   7552.270000   7548.269250   7549.269000\n",
       "max     7788.969000   7792.770000   7786.269000   7788.770000"
      ]
     },
     "execution_count": 3,
     "metadata": {},
     "output_type": "execute_result"
    }
   ],
   "source": [
    "df.describe()"
   ]
  },
  {
   "cell_type": "markdown",
   "metadata": {},
   "source": [
    "### Adding the Commodity Channel Index (CCI) to our dataset"
   ]
  },
  {
   "cell_type": "code",
   "execution_count": 4,
   "metadata": {
    "collapsed": true
   },
   "outputs": [],
   "source": [
    "# Commodity Channel Index \n",
    "def CCI(df, ndays): \n",
    " TP = (df['High'] + df['Low'] + df['Close']) / 3 \n",
    " CCI = pd.Series((TP - pd.rolling_mean(TP, ndays)) / (0.015 * pd.rolling_std(TP, ndays)),\n",
    " name = 'CCI') \n",
    " df = df.join(CCI) \n",
    " return df"
   ]
  },
  {
   "cell_type": "code",
   "execution_count": 5,
   "metadata": {},
   "outputs": [
    {
     "name": "stderr",
     "output_type": "stream",
     "text": [
      "/home/mache/anaconda3/lib/python3.6/site-packages/ipykernel_launcher.py:4: FutureWarning: pd.rolling_mean is deprecated for Series and will be removed in a future version, replace with \n",
      "\tSeries.rolling(window=20,center=False).mean()\n",
      "  after removing the cwd from sys.path.\n",
      "/home/mache/anaconda3/lib/python3.6/site-packages/ipykernel_launcher.py:4: FutureWarning: pd.rolling_std is deprecated for Series and will be removed in a future version, replace with \n",
      "\tSeries.rolling(window=20,center=False).std()\n",
      "  after removing the cwd from sys.path.\n"
     ]
    }
   ],
   "source": [
    "# Compute the Commodity Channel Index(CCI) for FTSE100 based on the 20-day Moving average\n",
    "n = 20\n",
    "FTSE_CCI = CCI(df, n)\n",
    "CCI = FTSE_CCI['CCI']"
   ]
  },
  {
   "cell_type": "code",
   "execution_count": 6,
   "metadata": {},
   "outputs": [
    {
     "data": {
      "image/png": "[encoded data removed]",
      "text/plain": [
       "<matplotlib.figure.Figure at 0x7fb9a83d9b38>"
      ]
     },
     "metadata": {},
     "output_type": "display_data"
    }
   ],
   "source": [
    "# Plotting the Price Series chart and the Commodity Channel index below\n",
    "fig = plt.figure(figsize=(7,5))\n",
    "ax = fig.add_subplot(2, 1, 1)\n",
    "ax.set_xticklabels([])\n",
    "plt.plot(df['Close'],lw=1)\n",
    "plt.title('FTSE100 Price Chart')\n",
    "plt.ylabel('Close Price')\n",
    "plt.grid(True)\n",
    "bx = fig.add_subplot(2, 1, 2)\n",
    "plt.plot(CCI,'k',lw=0.75,linestyle='-',label='CCI')\n",
    "plt.legend(loc=2,prop={'size':10})\n",
    "plt.ylabel('CCI values')\n",
    "plt.grid(True)\n",
    "plt.setp(plt.gca().get_xticklabels(), rotation=30)\n",
    "plt.show()"
   ]
  },
  {
   "cell_type": "code",
   "execution_count": 7,
   "metadata": {},
   "outputs": [],
   "source": [
    "df = pd.concat([df, CCI], axis=1)"
   ]
  },
  {
   "cell_type": "code",
   "execution_count": 8,
   "metadata": {},
   "outputs": [],
   "source": [
    "df2 = df.replace([np.inf, -np.inf], np.nan)"
   ]
  },
  {
   "cell_type": "code",
   "execution_count": 9,
   "metadata": {
    "collapsed": true
   },
   "outputs": [],
   "source": [
    "df2 = df2.replace([np.inf, -np.inf], np.nan).dropna(subset=[\"CCI\"], how=\"all\")"
   ]
  },
  {
   "cell_type": "code",
   "execution_count": 10,
   "metadata": {},
   "outputs": [
    {
     "data": {
      "text/html": [
       "<div>\n",
       "<style>\n",
       "    .dataframe thead tr:only-child th {\n",
       "        text-align: right;\n",
       "    }\n",
       "\n",
       "    .dataframe thead th {\n",
       "        text-align: left;\n",
       "    }\n",
       "\n",
       "    .dataframe tbody tr th {\n",
       "        vertical-align: top;\n",
       "    }\n",
       "</style>\n",
       "<table border=\"1\" class=\"dataframe\">\n",
       "  <thead>\n",
       "    <tr style=\"text-align: right;\">\n",
       "      <th></th>\n",
       "      <th>Time (ART)</th>\n",
       "      <th>Open</th>\n",
       "      <th>High</th>\n",
       "      <th>Low</th>\n",
       "      <th>Close</th>\n",
       "      <th>CCI</th>\n",
       "    </tr>\n",
       "  </thead>\n",
       "  <tbody>\n",
       "    <tr>\n",
       "      <th>36</th>\n",
       "      <td>2017.10.02 03:00:00</td>\n",
       "      <td>7383.969</td>\n",
       "      <td>7385.47</td>\n",
       "      <td>7380.769</td>\n",
       "      <td>7383.969</td>\n",
       "      <td>283.235277</td>\n",
       "    </tr>\n",
       "    <tr>\n",
       "      <th>37</th>\n",
       "      <td>2017.10.02 03:15:00</td>\n",
       "      <td>7384.269</td>\n",
       "      <td>7386.27</td>\n",
       "      <td>7382.269</td>\n",
       "      <td>7384.469</td>\n",
       "      <td>205.978172</td>\n",
       "    </tr>\n",
       "    <tr>\n",
       "      <th>38</th>\n",
       "      <td>2017.10.02 03:30:00</td>\n",
       "      <td>7384.269</td>\n",
       "      <td>7386.77</td>\n",
       "      <td>7382.770</td>\n",
       "      <td>7382.770</td>\n",
       "      <td>157.661018</td>\n",
       "    </tr>\n",
       "    <tr>\n",
       "      <th>39</th>\n",
       "      <td>2017.10.02 03:45:00</td>\n",
       "      <td>7382.969</td>\n",
       "      <td>7384.47</td>\n",
       "      <td>7379.770</td>\n",
       "      <td>7384.269</td>\n",
       "      <td>114.071201</td>\n",
       "    </tr>\n",
       "    <tr>\n",
       "      <th>40</th>\n",
       "      <td>2017.10.02 04:00:00</td>\n",
       "      <td>7383.970</td>\n",
       "      <td>7391.77</td>\n",
       "      <td>7373.969</td>\n",
       "      <td>7390.969</td>\n",
       "      <td>136.717910</td>\n",
       "    </tr>\n",
       "  </tbody>\n",
       "</table>\n",
       "</div>"
      ],
      "text/plain": [
       "             Time (ART)      Open     High       Low     Close         CCI\n",
       "36  2017.10.02 03:00:00  7383.969  7385.47  7380.769  7383.969  283.235277\n",
       "37  2017.10.02 03:15:00  7384.269  7386.27  7382.269  7384.469  205.978172\n",
       "38  2017.10.02 03:30:00  7384.269  7386.77  7382.770  7382.770  157.661018\n",
       "39  2017.10.02 03:45:00  7382.969  7384.47  7379.770  7384.269  114.071201\n",
       "40  2017.10.02 04:00:00  7383.970  7391.77  7373.969  7390.969  136.717910"
      ]
     },
     "execution_count": 10,
     "metadata": {},
     "output_type": "execute_result"
    }
   ],
   "source": [
    "df2.head(5)"
   ]
  },
  {
   "cell_type": "code",
   "execution_count": 11,
   "metadata": {},
   "outputs": [
    {
     "data": {
      "text/html": [
       "<div>\n",
       "<style>\n",
       "    .dataframe thead tr:only-child th {\n",
       "        text-align: right;\n",
       "    }\n",
       "\n",
       "    .dataframe thead th {\n",
       "        text-align: left;\n",
       "    }\n",
       "\n",
       "    .dataframe tbody tr th {\n",
       "        vertical-align: top;\n",
       "    }\n",
       "</style>\n",
       "<table border=\"1\" class=\"dataframe\">\n",
       "  <thead>\n",
       "    <tr style=\"text-align: right;\">\n",
       "      <th></th>\n",
       "      <th>Open</th>\n",
       "      <th>High</th>\n",
       "      <th>Low</th>\n",
       "      <th>Close</th>\n",
       "      <th>CCI</th>\n",
       "    </tr>\n",
       "  </thead>\n",
       "  <tbody>\n",
       "    <tr>\n",
       "      <th>count</th>\n",
       "      <td>12318.000000</td>\n",
       "      <td>12318.000000</td>\n",
       "      <td>12318.000000</td>\n",
       "      <td>12318.000000</td>\n",
       "      <td>12318.000000</td>\n",
       "    </tr>\n",
       "    <tr>\n",
       "      <th>mean</th>\n",
       "      <td>7417.580891</td>\n",
       "      <td>7419.907322</td>\n",
       "      <td>7415.190458</td>\n",
       "      <td>7417.544075</td>\n",
       "      <td>2.019403</td>\n",
       "    </tr>\n",
       "    <tr>\n",
       "      <th>std</th>\n",
       "      <td>210.942122</td>\n",
       "      <td>210.328114</td>\n",
       "      <td>211.610718</td>\n",
       "      <td>210.960813</td>\n",
       "      <td>81.860573</td>\n",
       "    </tr>\n",
       "    <tr>\n",
       "      <th>min</th>\n",
       "      <td>6858.100000</td>\n",
       "      <td>6865.600000</td>\n",
       "      <td>6851.609000</td>\n",
       "      <td>6858.349000</td>\n",
       "      <td>-283.235277</td>\n",
       "    </tr>\n",
       "    <tr>\n",
       "      <th>25%</th>\n",
       "      <td>7245.276500</td>\n",
       "      <td>7250.704750</td>\n",
       "      <td>7241.040000</td>\n",
       "      <td>7245.021500</td>\n",
       "      <td>-42.918377</td>\n",
       "    </tr>\n",
       "    <tr>\n",
       "      <th>50%</th>\n",
       "      <td>7458.770000</td>\n",
       "      <td>7461.270000</td>\n",
       "      <td>7458.119000</td>\n",
       "      <td>7458.770000</td>\n",
       "      <td>0.000007</td>\n",
       "    </tr>\n",
       "    <tr>\n",
       "      <th>75%</th>\n",
       "      <td>7551.470000</td>\n",
       "      <td>7552.969000</td>\n",
       "      <td>7549.269000</td>\n",
       "      <td>7551.419250</td>\n",
       "      <td>47.231402</td>\n",
       "    </tr>\n",
       "    <tr>\n",
       "      <th>max</th>\n",
       "      <td>7788.969000</td>\n",
       "      <td>7792.770000</td>\n",
       "      <td>7786.269000</td>\n",
       "      <td>7788.770000</td>\n",
       "      <td>283.235280</td>\n",
       "    </tr>\n",
       "  </tbody>\n",
       "</table>\n",
       "</div>"
      ],
      "text/plain": [
       "               Open          High           Low         Close           CCI\n",
       "count  12318.000000  12318.000000  12318.000000  12318.000000  12318.000000\n",
       "mean    7417.580891   7419.907322   7415.190458   7417.544075      2.019403\n",
       "std      210.942122    210.328114    211.610718    210.960813     81.860573\n",
       "min     6858.100000   6865.600000   6851.609000   6858.349000   -283.235277\n",
       "25%     7245.276500   7250.704750   7241.040000   7245.021500    -42.918377\n",
       "50%     7458.770000   7461.270000   7458.119000   7458.770000      0.000007\n",
       "75%     7551.470000   7552.969000   7549.269000   7551.419250     47.231402\n",
       "max     7788.969000   7792.770000   7786.269000   7788.770000    283.235280"
      ]
     },
     "execution_count": 11,
     "metadata": {},
     "output_type": "execute_result"
    }
   ],
   "source": [
    "df2.describe()"
   ]
  },
  {
   "cell_type": "code",
   "execution_count": 12,
   "metadata": {},
   "outputs": [
    {
     "data": {
      "image/png": "[encoded data removed]",
      "text/plain": [
       "<matplotlib.figure.Figure at 0x7fb9a83d9128>"
      ]
     },
     "metadata": {},
     "output_type": "display_data"
    }
   ],
   "source": [
    "#Plot outcome variable\n",
    "plt.boxplot(df2['Open'])\n",
    "plt.title(\"Open price Box Plot\")\n",
    "plt.show()"
   ]
  },
  {
   "cell_type": "code",
   "execution_count": 13,
   "metadata": {
    "collapsed": true
   },
   "outputs": [],
   "source": [
    "#Define X and Y\n",
    "X = df2[['High', 'Low', 'Close','CCI']]\n",
    "Y = df2['Open']"
   ]
  },
  {
   "cell_type": "markdown",
   "metadata": {},
   "source": [
    "## OLS Regression¶"
   ]
  },
  {
   "cell_type": "code",
   "execution_count": 14,
   "metadata": {},
   "outputs": [],
   "source": [
    "# Write out the model formula.\n",
    "# Your dependent variable on the right, independent variables on the left\n",
    "# Use a ~ to represent an '=' from the functional form\n",
    "\n",
    "linear_formula = \"Open ~ High + Low + Close + CCI\"\n",
    "\n",
    "# Fit the model to our data using the formula.\n",
    "ftse_model = smf.ols(formula=linear_formula, data=df2).fit()"
   ]
  },
  {
   "cell_type": "code",
   "execution_count": 15,
   "metadata": {},
   "outputs": [
    {
     "name": "stdout",
     "output_type": "stream",
     "text": [
      "R-squared Accuracy: 0.9992 (+/- 0.0012)\n",
      "\n",
      "Parameters\n",
      "\n",
      " Intercept   -1.589643\n",
      "High         0.822022\n",
      "Low          0.747771\n",
      "Close       -0.569597\n",
      "CCI         -0.005269\n",
      "dtype: float64\n",
      "\n",
      "P-values\n",
      "\n",
      " Intercept    2.648419e-02\n",
      "High         0.000000e+00\n",
      "Low          0.000000e+00\n",
      "Close        0.000000e+00\n",
      "CCI          1.073122e-99\n",
      "dtype: float64\n",
      "\n",
      "Confidence Intervals\n"
     ]
    },
    {
     "data": {
      "text/html": [
       "<div>\n",
       "<style>\n",
       "    .dataframe thead tr:only-child th {\n",
       "        text-align: right;\n",
       "    }\n",
       "\n",
       "    .dataframe thead th {\n",
       "        text-align: left;\n",
       "    }\n",
       "\n",
       "    .dataframe tbody tr th {\n",
       "        vertical-align: top;\n",
       "    }\n",
       "</style>\n",
       "<table border=\"1\" class=\"dataframe\">\n",
       "  <thead>\n",
       "    <tr style=\"text-align: right;\">\n",
       "      <th></th>\n",
       "      <th>0</th>\n",
       "      <th>1</th>\n",
       "    </tr>\n",
       "  </thead>\n",
       "  <tbody>\n",
       "    <tr>\n",
       "      <th>Intercept</th>\n",
       "      <td>-2.993664</td>\n",
       "      <td>-0.185622</td>\n",
       "    </tr>\n",
       "    <tr>\n",
       "      <th>High</th>\n",
       "      <td>0.811699</td>\n",
       "      <td>0.832345</td>\n",
       "    </tr>\n",
       "    <tr>\n",
       "      <th>Low</th>\n",
       "      <td>0.737775</td>\n",
       "      <td>0.757766</td>\n",
       "    </tr>\n",
       "    <tr>\n",
       "      <th>Close</th>\n",
       "      <td>-0.585133</td>\n",
       "      <td>-0.554061</td>\n",
       "    </tr>\n",
       "    <tr>\n",
       "      <th>CCI</th>\n",
       "      <td>-0.005751</td>\n",
       "      <td>-0.004786</td>\n",
       "    </tr>\n",
       "  </tbody>\n",
       "</table>\n",
       "</div>"
      ],
      "text/plain": [
       "                  0         1\n",
       "Intercept -2.993664 -0.185622\n",
       "High       0.811699  0.832345\n",
       "Low        0.737775  0.757766\n",
       "Close     -0.585133 -0.554061\n",
       "CCI       -0.005751 -0.004786"
      ]
     },
     "metadata": {},
     "output_type": "display_data"
    },
    {
     "data": {
      "image/png": "[encoded data removed]",
      "text/plain": [
       "<matplotlib.figure.Figure at 0x7fb9a4103e80>"
      ]
     },
     "metadata": {},
     "output_type": "display_data"
    },
    {
     "data": {
      "image/png": "[encoded data removed]",
      "text/plain": [
       "<matplotlib.figure.Figure at 0x7fb9a7c8cbe0>"
      ]
     },
     "metadata": {},
     "output_type": "display_data"
    }
   ],
   "source": [
    "#5 fold cross validation for r-squared\n",
    "sk_ftse_model = linear_model.LinearRegression()\n",
    "score = cross_val_score(sk_ftse_model, X, Y, cv=5)\n",
    "print(\"R-squared Accuracy: %0.4f (+/- %0.4f)\" % (score.mean(), score.std() * 2))\n",
    "\n",
    "#Check parameters\n",
    "print (\"\\nParameters\\n\\n\", ftse_model.params)\n",
    "\n",
    "#Verify low p-values and confidence intervals to keep features\n",
    "print (\"\\nP-values\\n\\n\", ftse_model.pvalues)\n",
    "print (\"\\nConfidence Intervals\")\n",
    "display(ftse_model.conf_int())\n",
    "\n",
    "#Residuals\n",
    "ols_ypred = ftse_model.predict()\n",
    "ols_residual = ols_ypred - Y\n",
    "\n",
    "sns.jointplot(ols_ypred, ols_residual, kind = 'kde', xlim = [0,100000000], ylim = [-300000000,300000000])\n",
    "plt.show()\n",
    "\n",
    "sns.heatmap(df2.corr())\n",
    "plt.show()"
   ]
  },
  {
   "cell_type": "markdown",
   "metadata": {},
   "source": [
    "## KNN Regression¶"
   ]
  },
  {
   "cell_type": "code",
   "execution_count": 16,
   "metadata": {},
   "outputs": [
    {
     "name": "stdout",
     "output_type": "stream",
     "text": [
      "Nearest neighbors: 5\n",
      "R-squared Accuracy: 0.9364 (+/- 0.1725)\n",
      "Nearest neighbors: 15\n",
      "R-squared Accuracy: 0.9089 (+/- 0.2595)\n",
      "Nearest neighbors: 25\n",
      "R-squared Accuracy: 0.8960 (+/- 0.2958)\n",
      "Nearest neighbors: 35\n",
      "R-squared Accuracy: 0.8867 (+/- 0.3162)\n",
      "Nearest neighbors: 45\n",
      "R-squared Accuracy: 0.8774 (+/- 0.3345)\n",
      "Nearest neighbors: 55\n",
      "R-squared Accuracy: 0.8677 (+/- 0.3563)\n",
      "Nearest neighbors: 65\n",
      "R-squared Accuracy: 0.8588 (+/- 0.3756)\n"
     ]
    },
    {
     "data": {
      "image/png": "[encoded data removed]",
      "text/plain": [
       "<matplotlib.figure.Figure at 0x7fb9a4103748>"
      ]
     },
     "metadata": {},
     "output_type": "display_data"
    }
   ],
   "source": [
    "# Our input data frame will be the z-scores this time instead of raw data.\n",
    "X_norm = X.apply(stats.zscore)\n",
    "for k in range(5,75,10):\n",
    "    knn = neighbors.KNeighborsRegressor(n_neighbors=k, weights='uniform')\n",
    "    knn.fit(X_norm,Y)\n",
    "    knn_ypred = knn.predict(X_norm)\n",
    "    score = cross_val_score(knn, X_norm, Y, cv=5)\n",
    "    print (\"Nearest neighbors: {}\".format(k))\n",
    "    print(\"R-squared Accuracy: %0.4f (+/- %0.4f)\" % (score.mean(), score.std() * 2))\n",
    "# best k is 25\n",
    "knn = neighbors.KNeighborsRegressor(n_neighbors=k, weights='uniform')\n",
    "knn.fit(X_norm,Y)\n",
    "knn_ypred = knn.predict(X_norm)\n",
    "knn_residual = Y - knn_ypred\n",
    "sns.jointplot(knn_ypred, knn_residual, kind = \"kde\")\n",
    "plt.show()"
   ]
  }
 ],
 "metadata": {
  "kernelspec": {
   "display_name": "Python 3",
   "language": "python",
   "name": "python3"
  },
  "language_info": {
   "codemirror_mode": {
    "name": "ipython",
    "version": 3
   },
   "file_extension": ".py",
   "mimetype": "text/x-python",
   "name": "python",
   "nbconvert_exporter": "python",
   "pygments_lexer": "ipython3",
   "version": "3.6.3"
  }
 },
 "nbformat": 4,
 "nbformat_minor": 2
}
