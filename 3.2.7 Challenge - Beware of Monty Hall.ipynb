{
 "cells": [
  {
   "cell_type": "markdown",
   "metadata": {},
   "source": [
    "# 3.2.7 Challenge - Beware of Monty Hall"
   ]
  },
  {
   "cell_type": "markdown",
   "metadata": {},
   "source": [
    "#### 1. \n",
    "    The probability of choosing any door and that you get a car is: P(Door 1 with prize) = 1/3, P(Door 2 with prize) = 1/3, P(Door 3 with prize) = 1/3.\n",
    "    As the host cannot open the winning door, this is the most relevant information. Applying Bayes theorem, if Monty always opens a door with a goat, this is equal to 1, so:\n",
    "    \n",
    "    Z= \"Monty will always show a door with no prize\"\n",
    "    Y = \"Opening any door with prize\"\n",
    "    P(Y) = 1/3\n",
    "    P(not Y) = 1 - P(Y) = 2/3\n",
    "    P(Z|Y) = 1 (Monty will always show a door with no prize)\n",
    "    P(Z|not Y) = 1\n",
    "    P(Y|Z) = (P(Z|Y)*P(Y))/(P(Z|Y)*P(Y)+P(Z|not Y)*P(not Y)) = (1*1/3)/((1*1/3)+(1*2/3)) = (1/3)/1 = 1/3\n",
    "    \n",
    "    Therefore the probabilty that the car is behind door 1, remains the same. However since the car can either be behind the first door or behind the door Monty didn't reveal, the probability that the car is behind the latter, is 2/3. So the best approach would be to switch your decision"
   ]
  }
 ],
 "metadata": {
  "kernelspec": {
   "display_name": "Python 3",
   "language": "python",
   "name": "python3"
  },
  "language_info": {
   "codemirror_mode": {
    "name": "ipython",
    "version": 3
   },
   "file_extension": ".py",
   "mimetype": "text/x-python",
   "name": "python",
   "nbconvert_exporter": "python",
   "pygments_lexer": "ipython3",
   "version": "3.6.3"
  }
 },
 "nbformat": 4,
 "nbformat_minor": 2
}
