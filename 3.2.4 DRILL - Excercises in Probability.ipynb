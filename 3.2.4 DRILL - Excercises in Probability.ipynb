{
 "cells": [
  {
   "cell_type": "markdown",
   "metadata": {},
   "source": [
    "# 3.2.4 Drill - Excercise in Probability"
   ]
  },
  {
   "cell_type": "markdown",
   "metadata": {},
   "source": [
    "#### 1. \n",
    "    a) Probability of getting HTTH pattern = P(HTTH) = 1/2 * 1/2 * 1/2 * 1/2 = 1/16\n",
    "    b) Probability of getting HHHH pattern = P(HHHH) = 1/2 * 1/2 * 1/2 * 1/2 = 1/16\n",
    "    c) Probability of getting TTHH pattern = P(TTHH) = 1/2 * 1/2 * 1/2 * 1/2 = 1/16"
   ]
  },
  {
   "cell_type": "markdown",
   "metadata": {},
   "source": [
    "#### 2. \n",
    "    a) Probability of not choosing a men = P(W) = 24 / 45 = 53.33 %"
   ]
  },
  {
   "cell_type": "markdown",
   "metadata": {},
   "source": [
    "#### 3. \n",
    "    a) Probabilty of travel = P(travel) = 10%, probability of plane crash = P(plane crash) = 0.005 %. Therefore the probabilty that Bernice will be in a plane crash sometime in the next year = P(plane crash | Bernice) = 10 * 0.00005 = 0.0005 %"
   ]
  },
  {
   "cell_type": "markdown",
   "metadata": {},
   "source": [
    "#### 4. \n",
    "    a) That the data scientist considers that on average a user spends 15 minutes surfing the website. The problem is that probably the user that accepted to take the survey had more time than other users, so the conclusion suffers of selection bias, since it doesn't include all kind of users."
   ]
  }
 ],
 "metadata": {
  "kernelspec": {
   "display_name": "Python 3",
   "language": "python",
   "name": "python3"
  },
  "language_info": {
   "codemirror_mode": {
    "name": "ipython",
    "version": 3
   },
   "file_extension": ".py",
   "mimetype": "text/x-python",
   "name": "python",
   "nbconvert_exporter": "python",
   "pygments_lexer": "ipython3",
   "version": "3.6.3"
  }
 },
 "nbformat": 4,
 "nbformat_minor": 2
}
