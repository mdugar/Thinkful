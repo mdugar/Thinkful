{
 "cells": [
  {
   "cell_type": "markdown",
   "metadata": {},
   "source": [
    "## 6.6.6 Challenge"
   ]
  },
  {
   "cell_type": "code",
   "execution_count": 1,
   "metadata": {},
   "outputs": [
    {
     "name": "stderr",
     "output_type": "stream",
     "text": [
      "Using TensorFlow backend.\n"
     ]
    },
    {
     "name": "stdout",
     "output_type": "stream",
     "text": [
      "['6.6.6 Challenge.ipynb', '.ipynb_checkpoints', 'fruits-360_dataset_2018_02_08']\n"
     ]
    }
   ],
   "source": [
    "import numpy as np \n",
    "import pandas as pd \n",
    "import matplotlib.pyplot as plt\n",
    "%matplotlib inline\n",
    "import tensorflow as tf\n",
    "import keras\n",
    "import glob\n",
    "import cv2\n",
    "import os\n",
    "print(os.listdir(\"../input\"))"
   ]
  },
  {
   "cell_type": "markdown",
   "metadata": {},
   "source": [
    "Now take your Keras skills and go build another neural network. Pick your data set, but it should be one of abstract types, possibly even nonnumeric, and use Keras to make five implementations of your network. Compare them both in computational complexity as well as in accuracy and given that tradeoff decide which one you like best.\n",
    "\n",
    "Your dataset should be sufficiently large for a neural network to perform well (samples should really be in the thousands here) and try to pick something that takes advantage of neural networks’ ability to have both feature extraction and supervised capabilities, so don’t pick something with an easy to consume list of features already generated for you (though neural networks can still be useful in those contexts).\n",
    "\n",
    "Note that if you want to use an unprocessed image dataset, scikit-image is a useful package for converting to importable numerics."
   ]
  },
  {
   "cell_type": "markdown",
   "metadata": {},
   "source": [
    "### Objective\n",
    "\n",
    "The goal of this project is to implement the Keras skills, and use them to build five different models on a given dataset, evaluate them and choose the one we like best."
   ]
  },
  {
   "cell_type": "markdown",
   "metadata": {},
   "source": [
    "### Dataset\n",
    "\n",
    "I chose a dataset with a selection 75 different fruits, containing 50590 images. The goal is to split the data into training and test sets, train the corresponding set with each of our models, and evaluate it's performance on the testing set, on how well does it identify each fruit.\n",
    "\n",
    "__Dataset properties:__\n",
    "\n",
    "Total number of images: 50590.\n",
    "\n",
    "Training set size: 37836 images (one fruit per image).\n",
    "\n",
    "Test set size: 12709 images (one fruit per image).\n",
    "\n",
    "Multi-fruits set size: 45 images (more than one fruit (or fruit class) per image)\n",
    "\n",
    "Number of classes: 75 (fruits).\n",
    "\n",
    "Image size: 100x100 pixels.\n",
    "\n",
    "Filename format: image_index_100.jpg (e.g. 32_100.jpg) or r_image_index_100.jpg (e.g. r_32_100.jpg) or r2_image_index_100.jpg. \"r\" stands for rotated fruit. \"r2\" means that the fruit was rotated around the 3rd axis. \"100\" comes from image size (100x100 pixels).\n",
    "\n",
    "Different varieties of the same fruit (apple for instance) are stored as belonging to different classes.\n",
    "\n",
    "__Note:__\n",
    "\n",
    "I used aproximately half of the dataset since my computer freezed each time I tried to train and test with all the original number of images.\n",
    "\n",
    "__Sections:__\n",
    "\n",
    "[Text Processing](#section1)<br>\n",
    "[Unsupervised Feature Generation](#section2)<br>\n",
    "[Supervised Learning Models](#section3)<br>\n",
    "[Conclusion](#section4)"
   ]
  },
  {
   "cell_type": "markdown",
   "metadata": {},
   "source": [
    "### Training set\n",
    "\n",
    "The dataset is already divided into training and testing folders from it's source."
   ]
  },
  {
   "cell_type": "code",
   "execution_count": 2,
   "metadata": {
    "collapsed": true
   },
   "outputs": [],
   "source": [
    "#Listing the training set\n",
    "fruit_images = []\n",
    "labels = [] \n",
    "for fruit_dir_path in glob.glob(\"../input/*/fruits-360/Training/*\"):\n",
    "    fruit_label = fruit_dir_path.split(\"/\")[-1]\n",
    "    for image_path in glob.glob(os.path.join(fruit_dir_path, \"*.jpg\")):\n",
    "        image = cv2.imread(image_path, cv2.IMREAD_COLOR)\n",
    "        \n",
    "        image = cv2.resize(image, (45, 45))\n",
    "        image = cv2.cvtColor(image, cv2.COLOR_RGB2BGR)\n",
    "        \n",
    "        fruit_images.append(image)\n",
    "        labels.append(fruit_label)\n",
    "fruit_images = np.array(fruit_images)\n",
    "labels = np.array(labels)"
   ]
  },
  {
   "cell_type": "code",
   "execution_count": 3,
   "metadata": {
    "collapsed": true
   },
   "outputs": [],
   "source": [
    "label_to_id_dict = {v:i for i,v in enumerate(np.unique(labels))}\n",
    "id_to_label_dict = {v: k for k, v in label_to_id_dict.items()}"
   ]
  },
  {
   "cell_type": "code",
   "execution_count": 4,
   "metadata": {},
   "outputs": [
    {
     "data": {
      "text/plain": [
       "{0: 'Apple Braeburn',\n",
       " 1: 'Apple Golden 1',\n",
       " 2: 'Apple Golden 2',\n",
       " 3: 'Apple Golden 3',\n",
       " 4: 'Apple Granny Smith',\n",
       " 5: 'Apple Red 1',\n",
       " 6: 'Apple Red 2',\n",
       " 7: 'Apple Red 3',\n",
       " 8: 'Apple Red Delicious',\n",
       " 9: 'Apple Red Yellow',\n",
       " 10: 'Apricot',\n",
       " 11: 'Avocado',\n",
       " 12: 'Avocado ripe',\n",
       " 13: 'Banana',\n",
       " 14: 'Banana Red',\n",
       " 15: 'Cactus fruit',\n",
       " 16: 'Cantaloupe 1',\n",
       " 17: 'Cantaloupe 2',\n",
       " 18: 'Carambula',\n",
       " 19: 'Cherry 1',\n",
       " 20: 'Cherry 2',\n",
       " 21: 'Cherry Rainier',\n",
       " 22: 'Cherry Wax Black',\n",
       " 23: 'Cherry Wax Red',\n",
       " 24: 'Cherry Wax Yellow',\n",
       " 25: 'Clementine',\n",
       " 26: 'Cocos'}"
      ]
     },
     "execution_count": 4,
     "metadata": {},
     "output_type": "execute_result"
    }
   ],
   "source": [
    "id_to_label_dict"
   ]
  },
  {
   "cell_type": "code",
   "execution_count": 5,
   "metadata": {
    "collapsed": true
   },
   "outputs": [],
   "source": [
    "label_ids = np.array([label_to_id_dict[x] for x in labels])"
   ]
  },
  {
   "cell_type": "code",
   "execution_count": 6,
   "metadata": {},
   "outputs": [
    {
     "data": {
      "text/plain": [
       "((13622, 45, 45, 3), (13622,), (13622,))"
      ]
     },
     "execution_count": 6,
     "metadata": {},
     "output_type": "execute_result"
    }
   ],
   "source": [
    "fruit_images.shape, label_ids.shape, labels.shape"
   ]
  },
  {
   "cell_type": "markdown",
   "metadata": {},
   "source": [
    "## Test set"
   ]
  },
  {
   "cell_type": "code",
   "execution_count": 7,
   "metadata": {
    "collapsed": true
   },
   "outputs": [],
   "source": [
    "#Listing the testing set\n",
    "validation_fruit_images = []\n",
    "validation_labels = [] \n",
    "for fruit_dir_path in glob.glob(\"../input/*/fruits-360/Test/*\"):\n",
    "    fruit_label = fruit_dir_path.split(\"/\")[-1]\n",
    "    for image_path in glob.glob(os.path.join(fruit_dir_path, \"*.jpg\")):\n",
    "        image = cv2.imread(image_path, cv2.IMREAD_COLOR)\n",
    "        \n",
    "        image = cv2.resize(image, (45, 45))\n",
    "        image = cv2.cvtColor(image, cv2.COLOR_RGB2BGR)\n",
    "        \n",
    "        validation_fruit_images.append(image)\n",
    "        validation_labels.append(fruit_label)\n",
    "validation_fruit_images = np.array(validation_fruit_images)\n",
    "validation_labels = np.array(validation_labels)"
   ]
  },
  {
   "cell_type": "code",
   "execution_count": 8,
   "metadata": {
    "collapsed": true
   },
   "outputs": [],
   "source": [
    "validation_label_ids = np.array([label_to_id_dict[x] for x in validation_labels])"
   ]
  },
  {
   "cell_type": "code",
   "execution_count": 9,
   "metadata": {},
   "outputs": [
    {
     "data": {
      "text/plain": [
       "((4564, 45, 45, 3), (4564,))"
      ]
     },
     "execution_count": 9,
     "metadata": {},
     "output_type": "execute_result"
    }
   ],
   "source": [
    "validation_fruit_images.shape, validation_label_ids.shape"
   ]
  },
  {
   "cell_type": "markdown",
   "metadata": {
    "collapsed": true
   },
   "source": [
    "## Splitting the data"
   ]
  },
  {
   "cell_type": "code",
   "execution_count": 10,
   "metadata": {},
   "outputs": [
    {
     "name": "stdout",
     "output_type": "stream",
     "text": [
      "Original Sizes: (13622, 45, 45, 3) (4564, 45, 45, 3) (13622, 60) (4564, 60)\n",
      "Flattened: (13622, 6075) (4564, 6075)\n"
     ]
    }
   ],
   "source": [
    "X_train, X_test = fruit_images, validation_fruit_images\n",
    "Y_train, Y_test = label_ids, validation_label_ids\n",
    "\n",
    "#Normalize color values to between 0 and 1\n",
    "X_train = X_train/255\n",
    "X_test = X_test/255\n",
    "\n",
    "#Reshaping to a flattened version\n",
    "X_flat_train = X_train.reshape(X_train.shape[0], 45*45*3)\n",
    "X_flat_test = X_test.reshape(X_test.shape[0], 45*45*3)\n",
    "\n",
    "#Encoding the output\n",
    "Y_train = keras.utils.to_categorical(Y_train, 60)\n",
    "Y_test = keras.utils.to_categorical(Y_test, 60)\n",
    "\n",
    "print('Original Sizes:', X_train.shape, X_test.shape, Y_train.shape, Y_test.shape)\n",
    "print('Flattened:', X_flat_train.shape, X_flat_test.shape)"
   ]
  },
  {
   "cell_type": "code",
   "execution_count": 11,
   "metadata": {},
   "outputs": [
    {
     "name": "stdout",
     "output_type": "stream",
     "text": [
      "(45, 45, 3)\n"
     ]
    },
    {
     "data": {
      "image/png": "[encoded data removed]",
      "text/plain": [
       "<matplotlib.figure.Figure at 0x7fa85b6b86d8>"
      ]
     },
     "metadata": {},
     "output_type": "display_data"
    }
   ],
   "source": [
    "print(X_train[0].shape)\n",
    "plt.imshow(X_train[0])\n",
    "plt.show()"
   ]
  },
  {
   "cell_type": "markdown",
   "metadata": {},
   "source": [
    "## Building our Neural Network"
   ]
  },
  {
   "cell_type": "code",
   "execution_count": 12,
   "metadata": {
    "collapsed": true
   },
   "outputs": [],
   "source": [
    "from keras.models import Sequential\n",
    "from keras.layers import Dense, Dropout, Flatten, Conv2D, MaxPooling2D\n",
    "from keras.layers import LSTM, Input, TimeDistributed\n",
    "from keras.models import Model\n",
    "from keras.optimizers import RMSprop, SGD\n",
    "\n",
    "# Import the backend\n",
    "from keras import backend as K"
   ]
  },
  {
   "cell_type": "markdown",
   "metadata": {},
   "source": [
    "## Running models"
   ]
  },
  {
   "cell_type": "markdown",
   "metadata": {},
   "source": [
    "#### 1. Multi Layer Perceptron\n",
    "We will start with a simple sequential model using two dense layers of 128 nodes and 64 nodes respectively with a Rectified Linear Unit activation funcion. "
   ]
  },
  {
   "cell_type": "code",
   "execution_count": 13,
   "metadata": {},
   "outputs": [
    {
     "name": "stdout",
     "output_type": "stream",
     "text": [
      "_________________________________________________________________\n",
      "Layer (type)                 Output Shape              Param #   \n",
      "=================================================================\n",
      "dense_1 (Dense)              (None, 128)               777728    \n",
      "_________________________________________________________________\n",
      "dropout_1 (Dropout)          (None, 128)               0         \n",
      "_________________________________________________________________\n",
      "dense_2 (Dense)              (None, 64)                8256      \n",
      "_________________________________________________________________\n",
      "dropout_2 (Dropout)          (None, 64)                0         \n",
      "_________________________________________________________________\n",
      "dense_3 (Dense)              (None, 60)                3900      \n",
      "=================================================================\n",
      "Total params: 789,884\n",
      "Trainable params: 789,884\n",
      "Non-trainable params: 0\n",
      "_________________________________________________________________\n",
      "Train on 13622 samples, validate on 4564 samples\n",
      "Epoch 1/10\n",
      "13622/13622 [==============================] - 6s 429us/step - loss: 2.9407 - acc: 0.2285 - val_loss: 1.5884 - val_acc: 0.5480\n",
      "Epoch 2/10\n",
      "13622/13622 [==============================] - 5s 332us/step - loss: 1.2730 - acc: 0.5645 - val_loss: 0.8567 - val_acc: 0.7046\n",
      "Epoch 3/10\n",
      "13622/13622 [==============================] - 5s 336us/step - loss: 0.8338 - acc: 0.7002 - val_loss: 0.6980 - val_acc: 0.7732\n",
      "Epoch 4/10\n",
      "13622/13622 [==============================] - 5s 334us/step - loss: 0.6231 - acc: 0.7737 - val_loss: 0.6085 - val_acc: 0.7881\n",
      "Epoch 5/10\n",
      "13622/13622 [==============================] - 5s 335us/step - loss: 0.4862 - acc: 0.8196 - val_loss: 0.6966 - val_acc: 0.7531\n",
      "Epoch 6/10\n",
      "13622/13622 [==============================] - 5s 342us/step - loss: 0.4074 - acc: 0.8512 - val_loss: 0.6568 - val_acc: 0.7851\n",
      "Epoch 7/10\n",
      "13622/13622 [==============================] - 5s 341us/step - loss: 0.3489 - acc: 0.8710 - val_loss: 0.6239 - val_acc: 0.7877\n",
      "Epoch 8/10\n",
      "13622/13622 [==============================] - 5s 336us/step - loss: 0.3082 - acc: 0.8856 - val_loss: 0.4182 - val_acc: 0.8620\n",
      "Epoch 9/10\n",
      "13622/13622 [==============================] - 5s 335us/step - loss: 0.2710 - acc: 0.8994 - val_loss: 0.3995 - val_acc: 0.8749\n",
      "Epoch 10/10\n",
      "13622/13622 [==============================] - 5s 336us/step - loss: 0.2675 - acc: 0.9010 - val_loss: 0.5242 - val_acc: 0.8429\n",
      "Test loss: 0.524219473228\n",
      "Test accuracy: 0.842900964119\n"
     ]
    }
   ],
   "source": [
    "model_dense = Sequential()\n",
    "\n",
    "# Add dense layers to create a fully connected MLP\n",
    "# Note that we specify an input shape for the first layer, but only the first layer.\n",
    "# Relu is the activation function used\n",
    "model_dense.add(Dense(128, activation='relu', input_shape=(X_flat_train.shape[1],)))\n",
    "# Dropout layers remove features and fight overfitting\n",
    "model_dense.add(Dropout(0.1))\n",
    "model_dense.add(Dense(64, activation='relu'))\n",
    "model_dense.add(Dropout(0.1))\n",
    "# End with a number of units equal to the number of classes we have for our outcome\n",
    "model_dense.add(Dense(60, activation='softmax'))\n",
    "\n",
    "model_dense.summary()\n",
    "\n",
    "# Compile the model to put it all together.\n",
    "model_dense.compile(loss='categorical_crossentropy',\n",
    "              optimizer=RMSprop(),\n",
    "              metrics=['accuracy'])\n",
    "\n",
    "history_dense = model_dense.fit(X_flat_train, Y_train,\n",
    "                          batch_size=128,\n",
    "                          epochs=10,\n",
    "                          verbose=1,\n",
    "                          validation_data=(X_flat_test, Y_test))\n",
    "score = model_dense.evaluate(X_flat_test, Y_test, verbose=0)\n",
    "print('Test loss:', score[0])\n",
    "print('Test accuracy:', score[1])"
   ]
  },
  {
   "cell_type": "markdown",
   "metadata": {},
   "source": [
    "#### 2. Multi Layer Perceptron\n",
    "We will now modify our latter model and add four dense layers, being a total of five, having the following nodes: 256, 128, 128, 128, 128, for each layer respectively, with a Rectified Linear Unit activation funcion."
   ]
  },
  {
   "cell_type": "code",
   "execution_count": 14,
   "metadata": {},
   "outputs": [
    {
     "name": "stdout",
     "output_type": "stream",
     "text": [
      "_________________________________________________________________\n",
      "Layer (type)                 Output Shape              Param #   \n",
      "=================================================================\n",
      "dense_4 (Dense)              (None, 256)               1555456   \n",
      "_________________________________________________________________\n",
      "dropout_3 (Dropout)          (None, 256)               0         \n",
      "_________________________________________________________________\n",
      "dense_5 (Dense)              (None, 128)               32896     \n",
      "_________________________________________________________________\n",
      "dropout_4 (Dropout)          (None, 128)               0         \n",
      "_________________________________________________________________\n",
      "dense_6 (Dense)              (None, 128)               16512     \n",
      "_________________________________________________________________\n",
      "dropout_5 (Dropout)          (None, 128)               0         \n",
      "_________________________________________________________________\n",
      "dense_7 (Dense)              (None, 128)               16512     \n",
      "_________________________________________________________________\n",
      "dropout_6 (Dropout)          (None, 128)               0         \n",
      "_________________________________________________________________\n",
      "dense_8 (Dense)              (None, 128)               16512     \n",
      "_________________________________________________________________\n",
      "dropout_7 (Dropout)          (None, 128)               0         \n",
      "_________________________________________________________________\n",
      "dense_9 (Dense)              (None, 60)                7740      \n",
      "=================================================================\n",
      "Total params: 1,645,628\n",
      "Trainable params: 1,645,628\n",
      "Non-trainable params: 0\n",
      "_________________________________________________________________\n",
      "Train on 13622 samples, validate on 4564 samples\n",
      "Epoch 1/10\n",
      "13622/13622 [==============================] - 10s 758us/step - loss: 2.4174 - acc: 0.2756 - val_loss: 1.3288 - val_acc: 0.5121\n",
      "Epoch 2/10\n",
      "13622/13622 [==============================] - 11s 775us/step - loss: 1.0558 - acc: 0.6267 - val_loss: 0.8063 - val_acc: 0.7436\n",
      "Epoch 3/10\n",
      "13622/13622 [==============================] - 10s 755us/step - loss: 0.7086 - acc: 0.7500 - val_loss: 0.5296 - val_acc: 0.8295\n",
      "Epoch 4/10\n",
      "13622/13622 [==============================] - 9s 689us/step - loss: 0.5579 - acc: 0.8061 - val_loss: 0.5363 - val_acc: 0.7566\n",
      "Epoch 5/10\n",
      "13622/13622 [==============================] - 10s 739us/step - loss: 0.4432 - acc: 0.8502 - val_loss: 1.0701 - val_acc: 0.6733\n",
      "Epoch 6/10\n",
      "13622/13622 [==============================] - 12s 903us/step - loss: 0.3358 - acc: 0.8846 - val_loss: 0.7649 - val_acc: 0.8278\n",
      "Epoch 7/10\n",
      "13622/13622 [==============================] - 10s 756us/step - loss: 0.3388 - acc: 0.8927 - val_loss: 0.2803 - val_acc: 0.9071\n",
      "Epoch 8/10\n",
      "13622/13622 [==============================] - 10s 753us/step - loss: 0.2901 - acc: 0.9074 - val_loss: 0.3371 - val_acc: 0.8918\n",
      "Epoch 9/10\n",
      "13622/13622 [==============================] - 9s 687us/step - loss: 0.2309 - acc: 0.9227 - val_loss: 0.2997 - val_acc: 0.8933\n",
      "Epoch 10/10\n",
      "13622/13622 [==============================] - 10s 769us/step - loss: 0.2284 - acc: 0.9290 - val_loss: 0.7757 - val_acc: 0.7691\n",
      "Test loss: 0.775687709218\n",
      "Test accuracy: 0.769062226144\n"
     ]
    }
   ],
   "source": [
    "model_deep = Sequential()\n",
    "\n",
    "# Add dense layers to create a fully connected MLP\n",
    "# Note that we specify an input shape for the first layer, but only the first layer.\n",
    "# Relu is the activation function used\n",
    "model_deep.add(Dense(256, activation='relu', input_shape=(X_flat_train.shape[1],)))\n",
    "# Dropout layers remove features and fight overfitting\n",
    "model_deep.add(Dropout(0.05))\n",
    "model_deep.add(Dense(128, activation='relu'))\n",
    "model_deep.add(Dropout(0.05))\n",
    "model_deep.add(Dense(128, activation='relu'))\n",
    "model_deep.add(Dropout(0.05))\n",
    "model_deep.add(Dense(128, activation='relu'))\n",
    "model_deep.add(Dropout(0.05))\n",
    "model_deep.add(Dense(128, activation='relu'))\n",
    "model_deep.add(Dropout(0.05))\n",
    "# End with a number of units equal to the number of classes we have for our outcome\n",
    "model_deep.add(Dense(60, activation='softmax'))\n",
    "\n",
    "model_deep.summary()\n",
    "\n",
    "# Compile the model to put it all together.\n",
    "model_deep.compile(loss='categorical_crossentropy',\n",
    "              optimizer=RMSprop(),\n",
    "              metrics=['accuracy'])\n",
    "\n",
    "history_deep = model_deep.fit(X_flat_train, Y_train,\n",
    "                          batch_size=128,\n",
    "                          epochs=10,\n",
    "                          verbose=1,\n",
    "                          validation_data=(X_flat_test, Y_test))\n",
    "score = model_deep.evaluate(X_flat_test, Y_test, verbose=0)\n",
    "print('Test loss:', score[0])\n",
    "print('Test accuracy:', score[1])"
   ]
  },
  {
   "cell_type": "markdown",
   "metadata": {},
   "source": [
    "#### 3. Convolutional Neural Network\n",
    "\n",
    "Now will build and test Convolutional Neural Network, consisting of four layers with 32, 64, 128 and 60 nodes. We will run this model at one epoch."
   ]
  },
  {
   "cell_type": "code",
   "execution_count": 15,
   "metadata": {},
   "outputs": [
    {
     "name": "stdout",
     "output_type": "stream",
     "text": [
      "Train on 13622 samples, validate on 4564 samples\n",
      "Epoch 1/1\n",
      "13622/13622 [==============================] - 250s 18ms/step - loss: 1.9728 - acc: 0.4316 - val_loss: 0.7558 - val_acc: 0.7248\n",
      "Test loss: 0.755786098638\n",
      "Test accuracy: 0.72480280461\n"
     ]
    }
   ],
   "source": [
    "model_cnn = Sequential()\n",
    "# First convolutional layer, note the specification of shape\n",
    "model_cnn.add(Conv2D(32, kernel_size=(3, 3),\n",
    "                 activation='relu',\n",
    "                 input_shape=(45, 45, 3)))\n",
    "model_cnn.add(Conv2D(64, (3, 3), activation='relu'))\n",
    "model_cnn.add(MaxPooling2D(pool_size=(2, 2)))\n",
    "model_cnn.add(Dropout(0.25))\n",
    "model_cnn.add(Flatten())\n",
    "model_cnn.add(Dense(128, activation='relu'))\n",
    "model_cnn.add(Dropout(0.5))\n",
    "model_cnn.add(Dense(60, activation='softmax'))\n",
    "\n",
    "model_cnn.compile(loss=keras.losses.categorical_crossentropy,\n",
    "              optimizer=keras.optimizers.Adadelta(),\n",
    "              metrics=['accuracy'])\n",
    "\n",
    "model_cnn.fit(X_train, Y_train,\n",
    "          batch_size=128,\n",
    "          epochs=1,\n",
    "          verbose=1,\n",
    "          validation_data=(X_test, Y_test))\n",
    "score = model_cnn.evaluate(X_test, Y_test, verbose=0)\n",
    "print('Test loss:', score[0])\n",
    "print('Test accuracy:', score[1])"
   ]
  },
  {
   "cell_type": "markdown",
   "metadata": {},
   "source": [
    "#### 4. Convolutional Neural Network\n",
    "\n",
    "Now will use the same latter model, but we will train it for 10 epochs."
   ]
  },
  {
   "cell_type": "code",
   "execution_count": 16,
   "metadata": {},
   "outputs": [
    {
     "name": "stdout",
     "output_type": "stream",
     "text": [
      "Train on 13622 samples, validate on 4564 samples\n",
      "Epoch 1/10\n",
      "13622/13622 [==============================] - 242s 18ms/step - loss: 0.5352 - acc: 0.8137 - val_loss: 0.3218 - val_acc: 0.8946\n",
      "Epoch 2/10\n",
      "13622/13622 [==============================] - 243s 18ms/step - loss: 0.2384 - acc: 0.9137 - val_loss: 0.2341 - val_acc: 0.9016\n",
      "Epoch 3/10\n",
      "13622/13622 [==============================] - 244s 18ms/step - loss: 0.1376 - acc: 0.9496 - val_loss: 0.2062 - val_acc: 0.9360\n",
      "Epoch 4/10\n",
      "13622/13622 [==============================] - 243s 18ms/step - loss: 0.1144 - acc: 0.9567 - val_loss: 0.2048 - val_acc: 0.9373\n",
      "Epoch 5/10\n",
      "13622/13622 [==============================] - 244s 18ms/step - loss: 0.0774 - acc: 0.9690 - val_loss: 0.1545 - val_acc: 0.9340\n",
      "Epoch 6/10\n",
      "13622/13622 [==============================] - 243s 18ms/step - loss: 0.0756 - acc: 0.9685 - val_loss: 0.1348 - val_acc: 0.9437\n",
      "Epoch 7/10\n",
      "13622/13622 [==============================] - 243s 18ms/step - loss: 0.0798 - acc: 0.9658 - val_loss: 0.1508 - val_acc: 0.9384\n",
      "Epoch 8/10\n",
      "13622/13622 [==============================] - 243s 18ms/step - loss: 0.0590 - acc: 0.9710 - val_loss: 0.8178 - val_acc: 0.8284\n",
      "Epoch 9/10\n",
      "13622/13622 [==============================] - 243s 18ms/step - loss: 0.0643 - acc: 0.9711 - val_loss: 0.1335 - val_acc: 0.9540\n",
      "Epoch 10/10\n",
      "13622/13622 [==============================] - 243s 18ms/step - loss: 0.0508 - acc: 0.9750 - val_loss: 0.1375 - val_acc: 0.9408\n",
      "Test loss: 0.137483024168\n",
      "Test accuracy: 0.940841367274\n"
     ]
    }
   ],
   "source": [
    "model_cnn.fit(X_train, Y_train,\n",
    "          batch_size=128,\n",
    "          epochs=10,\n",
    "          verbose=1,\n",
    "          validation_data=(X_test, Y_test))\n",
    "score = model_cnn.evaluate(X_test, Y_test, verbose=0)\n",
    "print('Test loss:', score[0])\n",
    "print('Test accuracy:', score[1])"
   ]
  },
  {
   "cell_type": "markdown",
   "metadata": {},
   "source": [
    "#### 5. Hierarchical Recurrrent Neural Networks"
   ]
  },
  {
   "cell_type": "code",
   "execution_count": 17,
   "metadata": {
    "collapsed": true
   },
   "outputs": [],
   "source": [
    "x_train = fruit_images\n",
    "x_test = validation_fruit_images\n",
    "y_train = label_ids\n",
    "y_test = validation_label_ids"
   ]
  },
  {
   "cell_type": "code",
   "execution_count": 18,
   "metadata": {},
   "outputs": [
    {
     "name": "stdout",
     "output_type": "stream",
     "text": [
      "x_train shape: (13622, 45, 45, 3)\n",
      "13622 train samples\n",
      "4564 test samples\n",
      "Train on 13622 samples, validate on 4564 samples\n",
      "Epoch 1/3\n",
      "13622/13622 [==============================] - 133s 10ms/step - loss: 3.0679 - acc: 0.0926 - val_loss: 2.6175 - val_acc: 0.2077\n",
      "Epoch 2/3\n",
      "13622/13622 [==============================] - 133s 10ms/step - loss: 2.3357 - acc: 0.2526 - val_loss: 2.2750 - val_acc: 0.2734\n",
      "Epoch 3/3\n",
      "13622/13622 [==============================] - 132s 10ms/step - loss: 1.8882 - acc: 0.3668 - val_loss: 1.6702 - val_acc: 0.4124\n",
      "Test loss: 1.67024440811\n",
      "Test accuracy: 0.412357581017\n"
     ]
    }
   ],
   "source": [
    "# Training parameters.\n",
    "batch_size = 64\n",
    "num_classes = 27\n",
    "epochs = 3\n",
    "\n",
    "# Embedding dimensions.\n",
    "row_hidden = 32\n",
    "col_hidden = 32\n",
    "\n",
    "# Reshapes data to 4D for Hierarchical RNN.\n",
    "x_train = x_train.reshape(x_train.shape[0], 45, 45, 3)\n",
    "x_test = x_test.reshape(x_test.shape[0], 45, 45, 3)\n",
    "x_train = x_train.astype('float32')\n",
    "x_test = x_test.astype('float32')\n",
    "x_train /= 255\n",
    "x_test /= 255\n",
    "print('x_train shape:', x_train.shape)\n",
    "print(x_train.shape[0], 'train samples')\n",
    "print(x_test.shape[0], 'test samples')\n",
    "\n",
    "# Converts class vectors to binary class matrices.\n",
    "y_train = keras.utils.to_categorical(y_train, num_classes)\n",
    "y_test = keras.utils.to_categorical(y_test, num_classes)\n",
    "\n",
    "row, col, pixel = x_train.shape[1:]\n",
    "\n",
    "# 4D input.\n",
    "x = Input(shape=(row, col, pixel))\n",
    "\n",
    "# Encodes a row of pixels using TimeDistributed Wrapper.\n",
    "encoded_rows = TimeDistributed(LSTM(row_hidden))(x)\n",
    "\n",
    "# Encodes columns of encoded rows.\n",
    "encoded_columns = LSTM(col_hidden)(encoded_rows)\n",
    "\n",
    "# Final predictions and model.\n",
    "prediction = Dense(num_classes, activation='softmax')(encoded_columns)\n",
    "model = Model(x, prediction)\n",
    "model.compile(loss='categorical_crossentropy',\n",
    "              optimizer='rmsprop',\n",
    "              metrics=['accuracy'])\n",
    "\n",
    "# Training.\n",
    "model.fit(x_train, y_train,\n",
    "          batch_size=batch_size,\n",
    "          epochs=epochs,\n",
    "          verbose=1,\n",
    "          validation_data=(x_test, y_test))\n",
    "\n",
    "# Evaluation.\n",
    "scores = model.evaluate(x_test, y_test, verbose=0)\n",
    "print('Test loss:', scores[0])\n",
    "print('Test accuracy:', scores[1])"
   ]
  },
  {
   "cell_type": "markdown",
   "metadata": {},
   "source": [
    "### Conlcusion\n",
    "\n",
    "After running five different models, I can say that our first model MLP  was the most efficient given it's low running time and high accuracy. We can of course tune even more the different parameters, and try to optimize our model yielding a higher result. I was however surprised with the results of our last model using LSTM, however I believe we can raise this result modifying it's layers and adding more data to our dataset.\n"
   ]
  }
 ],
 "metadata": {
  "kernelspec": {
   "display_name": "Python [default]",
   "language": "python",
   "name": "python3"
  },
  "language_info": {
   "codemirror_mode": {
    "name": "ipython",
    "version": 3
   },
   "file_extension": ".py",
   "mimetype": "text/x-python",
   "name": "python",
   "nbconvert_exporter": "python",
   "pygments_lexer": "ipython3",
   "version": "3.6.3"
  }
 },
 "nbformat": 4,
 "nbformat_minor": 2
}
