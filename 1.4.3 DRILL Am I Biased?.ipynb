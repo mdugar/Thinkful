{
 "cells": [
  {
   "cell_type": "markdown",
   "metadata": {},
   "source": [
    "## 1.4.3 DRILL Am I Biased?"
   ]
  },
  {
   "cell_type": "markdown",
   "metadata": {},
   "source": [
    "### 1. Testing advertising emails for a bathing suit company: one version of the email in February and the other in May.\n",
    "\n",
    "Potential Biases: It is more likely people will buy in the warmer month be it February or May, so that would generate a difference in the results.\n",
    "\n",
    "\n",
    "### 2. A new clinic to treat anxiety is opened and you find that the people who visit show a higher rate of anxiety than the general population.\n",
    "\n",
    "Potential Biases: People who visit a clinic to treat anxiety are more propense to suffering a anxiety. Clearly this would affect the relationship with the general population.\n",
    "\n",
    "\n",
    "### 3. Launching a new ad billboard based campaign and you see an increase in website visits in the first week.\n",
    "\n",
    "Potential Biases: Is the location of the visit related to the location of the billboard? Did some extraordinary event happened that might have driven more people to the website?\n",
    "\n",
    "\n",
    "### 4. Launched a loyalty program but see no change in visits in the first week.\n",
    "\n",
    "Potential Biases: Are the recepients new or older subscribers? is it to early to see any change? Is it a holiday or working season?\n"
   ]
  },
  {
   "cell_type": "code",
   "execution_count": null,
   "metadata": {
    "collapsed": true
   },
   "outputs": [],
   "source": []
  }
 ],
 "metadata": {
  "kernelspec": {
   "display_name": "Python 3",
   "language": "python",
   "name": "python3"
  },
  "language_info": {
   "codemirror_mode": {
    "name": "ipython",
    "version": 3
   },
   "file_extension": ".py",
   "mimetype": "text/x-python",
   "name": "python",
   "nbconvert_exporter": "python",
   "pygments_lexer": "ipython3",
   "version": "3.6.3"
  }
 },
 "nbformat": 4,
 "nbformat_minor": 2
}
