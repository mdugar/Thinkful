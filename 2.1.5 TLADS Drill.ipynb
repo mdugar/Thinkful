{
 "cells": [
  {
   "cell_type": "markdown",
   "metadata": {},
   "source": [
    "## 2.1.5 TLADS Drill"
   ]
  },
  {
   "cell_type": "markdown",
   "metadata": {},
   "source": [
    "1. cntry: categorical\n",
    "2. year: categorical \n",
    "3. idno: categorical\n",
    "4. tvtot: continuous (rati)\n",
    "5. ppltrst: continuous (ratio)\n",
    "6. pplfair: continuous (ratio)\n",
    "7. pplhlp: continuous (ratio) \n",
    "8. happy: continuos (ratio)\n",
    "9. sclmeet: continuous (ordinal)\n",
    "10. sclact: continuous (ratio)\n",
    "11. gender: categorical\n",
    "12. agea: continuous (ratio)\n",
    "13. partner: categorical"
   ]
  }
 ],
 "metadata": {
  "kernelspec": {
   "display_name": "Python 3",
   "language": "python",
   "name": "python3"
  },
  "language_info": {
   "codemirror_mode": {
    "name": "ipython",
    "version": 3
   },
   "file_extension": ".py",
   "mimetype": "text/x-python",
   "name": "python",
   "nbconvert_exporter": "python",
   "pygments_lexer": "ipython3",
   "version": "3.6.3"
  }
 },
 "nbformat": 4,
 "nbformat_minor": 2
}
