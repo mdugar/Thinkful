{
 "cells": [
  {
   "cell_type": "markdown",
   "metadata": {},
   "source": [
    "# 4.4.5 Challenge: Build your own NLP model\n",
    "\n",
    "For this challenge, you will need to choose a corpus of data from nltk or another source that includes categories you can predict and create an analysis pipeline that includes the following steps:\n",
    "\n",
    "1. Data cleaning / processing / language parsing\n",
    "2. Create features using two different NLP methods: For example, BoW vs tf-idf.\n",
    "3. Use the features to fit supervised learning models for each feature set to predict the category outcomes.\n",
    "4. Assess your models using cross-validation and determine whether one model performed better.\n",
    "5. Pick one of the models and try to increase accuracy by at least 5 percentage points.\n"
   ]
  },
  {
   "cell_type": "code",
   "execution_count": 1,
   "metadata": {
    "collapsed": true
   },
   "outputs": [],
   "source": [
    "# Imports\n",
    "import numpy as np\n",
    "import pandas as pd\n",
    "import matplotlib.pyplot as plt\n",
    "import seaborn as sns\n",
    "import requests\n",
    "\n",
    "# NLP \n",
    "import spacy\n",
    "import re\n",
    "from collections import Counter\n",
    "from sklearn.feature_extraction.text import TfidfVectorizer"
   ]
  },
  {
   "cell_type": "markdown",
   "metadata": {},
   "source": [
    "### Corpus Processing - PLOS Abstracts\n",
    "Using the PLOS (science publisher) API, I downloaded the abstracts for the following searches: physics, stars, black holes, strings, hawking, galileo."
   ]
  },
  {
   "cell_type": "code",
   "execution_count": 2,
   "metadata": {
    "collapsed": true
   },
   "outputs": [],
   "source": [
    "response1 = requests.get(r'http://api.plos.org/search?q=title:\"physics\"&fl=abstract&wt=json&api_key=7ujScsFm2osdMw6ozx4g')\n",
    "response2 = requests.get(r'http://api.plos.org/search?q=title:\"stars\"&fl=abstract&wt=json&api_key=7ujScsFm2osdMw6ozx4g')\n",
    "response3 = requests.get(r'http://api.plos.org/search?q=title:\"black holes\"&fl=abstract&wt=json&api_key=7ujScsFm2osdMw6ozx4g')\n",
    "response4 = requests.get(r'http://api.plos.org/search?q=title:\"strings\"&fl=abstract&wt=json&api_key=7ujScsFm2osdMw6ozx4g')\n",
    "response5 = requests.get(r'http://api.plos.org/search?q=title:\"mass\"&fl=abstract&wt=json&api_key=7ujScsFm2osdMw6ozx4g')\n",
    "response6 = requests.get(r'http://api.plos.org/search?q=title:\"hawking\"&fl=abstract&wt=json&api_key=7ujScsFm2osdMw6ozx4g')\n",
    "response7 = requests.get(r'http://api.plos.org/search?q=title:\"galileo\"&fl=abstract&wt=json&api_key=7ujScsFm2osdMw6ozx4g')"
   ]
  },
  {
   "cell_type": "markdown",
   "metadata": {
    "scrolled": false
   },
   "source": [
    "Using JSON data into usable data"
   ]
  },
  {
   "cell_type": "code",
   "execution_count": 3,
   "metadata": {
    "collapsed": true
   },
   "outputs": [],
   "source": [
    "physics_raw = response1.json()\n",
    "stars_raw = response2.json()\n",
    "black_raw = response3.json()\n",
    "strings_raw = response4.json()\n",
    "mass_raw = response5.json()\n",
    "astrophysics_raw = response6.json()\n",
    "galileo_raw = response7.json()"
   ]
  },
  {
   "cell_type": "markdown",
   "metadata": {},
   "source": [
    "Extracting only the abstracts of each article into one string. "
   ]
  },
  {
   "cell_type": "code",
   "execution_count": 4,
   "metadata": {},
   "outputs": [
    {
     "data": {
      "text/plain": [
       "\"'''Background: Physical function is a crucial factor in the prevention and treatment of health conditions in older adults and is usually measured objectively with physical performance tests and/or phy\""
      ]
     },
     "execution_count": 4,
     "metadata": {},
     "output_type": "execute_result"
    }
   ],
   "source": [
    "physics = ''\n",
    "for article in physics_raw['response']['docs']:\n",
    "    art = re.sub(r'[\\[\\]]','', str(article['abstract']))\n",
    "    physics = physics + art\n",
    "\n",
    "physics[0:200]"
   ]
  },
  {
   "cell_type": "code",
   "execution_count": 5,
   "metadata": {},
   "outputs": [
    {
     "data": {
      "text/plain": [
       "'\"\\\\n        The founding director of Singapore\\'s Institute of Molecular and Cell Biology illustrates the rise of science in Asia.\\\\n      \"\\'\\\\nDisease outbreaks can have substantial impacts on wild popul'"
      ]
     },
     "execution_count": 5,
     "metadata": {},
     "output_type": "execute_result"
    }
   ],
   "source": [
    "stars = ''\n",
    "for article in stars_raw['response']['docs']:\n",
    "    art = re.sub(r'[\\[\\]]','', str(article['abstract']))\n",
    "    stars = stars + art\n",
    "\n",
    "stars[0:200]"
   ]
  },
  {
   "cell_type": "code",
   "execution_count": 6,
   "metadata": {
    "scrolled": true
   },
   "outputs": [
    {
     "data": {
      "text/plain": [
       "\"'\\\\nIt has been suggested that innovations occur mainly by combination: the more inventions accumulate, the higher the probability that new inventions are obtained from previous designs. Additionally, \""
      ]
     },
     "execution_count": 6,
     "metadata": {},
     "output_type": "execute_result"
    }
   ],
   "source": [
    "black = ''\n",
    "for article in black_raw['response']['docs']:\n",
    "    art = re.sub(r'[\\[\\]]','', str(article['abstract']))\n",
    "    black = black + art\n",
    "\n",
    "black[0:200]"
   ]
  },
  {
   "cell_type": "code",
   "execution_count": 7,
   "metadata": {},
   "outputs": [
    {
     "data": {
      "text/plain": [
       "\"'\\\\nElectric guitar playing is ubiquitous in practically all modern music genres. In the hands of an experienced player, electric guitars can sound as expressive and distinct as a human voice. Unlike o\""
      ]
     },
     "execution_count": 7,
     "metadata": {},
     "output_type": "execute_result"
    }
   ],
   "source": [
    "strings = ''\n",
    "for article in strings_raw['response']['docs']:\n",
    "    art = re.sub(r'[\\[\\]]','', str(article['abstract']))\n",
    "    strings = strings + art\n",
    "\n",
    "strings[0:200]"
   ]
  },
  {
   "cell_type": "code",
   "execution_count": 8,
   "metadata": {},
   "outputs": [
    {
     "data": {
      "text/plain": [
       "\"'\\\\nIt has been suggested that innovations occur mainly by combination: the more inventions accumulate, the higher the probability that new inventions are obtained from previous designs. Additionally, \""
      ]
     },
     "execution_count": 8,
     "metadata": {},
     "output_type": "execute_result"
    }
   ],
   "source": [
    "mass = ''\n",
    "for article in mass_raw['response']['docs']:\n",
    "    art = re.sub(r'[\\[\\]]','', str(article['abstract']))\n",
    "    mass = black + mass\n",
    "\n",
    "mass[0:200]"
   ]
  },
  {
   "cell_type": "code",
   "execution_count": 9,
   "metadata": {},
   "outputs": [
    {
     "data": {
      "text/plain": [
       "\"'\\\\nSwainson’s hawks (Buteo swainsoni) are long-distance migratory raptors that nest primarily in isolated trees located in areas of high grassland density. In recent years, anthropogenic conversion of\""
      ]
     },
     "execution_count": 9,
     "metadata": {},
     "output_type": "execute_result"
    }
   ],
   "source": [
    "astrophysics = ''\n",
    "for article in astrophysics_raw['response']['docs']:\n",
    "    art = re.sub(r'[\\[\\]]','', str(article['abstract']))\n",
    "    astrophysics = astrophysics + art\n",
    "\n",
    "astrophysics[0:200]"
   ]
  },
  {
   "cell_type": "code",
   "execution_count": 10,
   "metadata": {},
   "outputs": [
    {
     "data": {
      "text/plain": [
       "'\"Background: Transposable elements (TEs) are responsible for the generation of chromosomal inversions in several groups of organisms. However, in Drosophila and other Dipterans, where inversions are a'"
      ]
     },
     "execution_count": 10,
     "metadata": {},
     "output_type": "execute_result"
    }
   ],
   "source": [
    "galileo = ''\n",
    "for article in galileo_raw['response']['docs']:\n",
    "    art = re.sub(r'[\\[\\]]','', str(article['abstract']))\n",
    "    galileo = galileo + art\n",
    "\n",
    "galileo[0:200]"
   ]
  },
  {
   "cell_type": "markdown",
   "metadata": {},
   "source": [
    "### Text Cleaning"
   ]
  },
  {
   "cell_type": "code",
   "execution_count": 11,
   "metadata": {
    "collapsed": true
   },
   "outputs": [],
   "source": [
    "def text_cleaner(text):\n",
    "    text = re.sub(r'--', ' ', text)\n",
    "    text = re.sub(r'[\\']', '', text)\n",
    "    text = re.sub(r'[\\\\]', '', text)\n",
    "    text = re.sub(r'\\d', '', text)\n",
    "    return text"
   ]
  },
  {
   "cell_type": "code",
   "execution_count": 12,
   "metadata": {
    "collapsed": true,
    "scrolled": false
   },
   "outputs": [],
   "source": [
    "physics_clean = text_cleaner(physics)\n",
    "stars_clean = text_cleaner(stars)\n",
    "black_clean = text_cleaner(black)\n",
    "strings_clean = text_cleaner(strings)\n",
    "mass_clean = text_cleaner(mass)\n",
    "astrophysics_clean = text_cleaner(astrophysics)\n",
    "galileo_clean = text_cleaner(galileo)"
   ]
  },
  {
   "cell_type": "code",
   "execution_count": 13,
   "metadata": {},
   "outputs": [
    {
     "data": {
      "text/plain": [
       "14431"
      ]
     },
     "execution_count": 13,
     "metadata": {},
     "output_type": "execute_result"
    }
   ],
   "source": [
    "len(physics_clean)"
   ]
  },
  {
   "cell_type": "markdown",
   "metadata": {},
   "source": [
    "### Language Parsing with Spacy"
   ]
  },
  {
   "cell_type": "code",
   "execution_count": 14,
   "metadata": {
    "collapsed": true
   },
   "outputs": [],
   "source": [
    "nlp = spacy.load('en')\n",
    "\n",
    "physics_doc = nlp(physics_clean)\n",
    "stars_doc = nlp(stars_clean)\n",
    "black_doc = nlp(black_clean)\n",
    "strings_doc = nlp(strings_clean)\n",
    "mass_doc = nlp(mass_clean)\n",
    "astrophysics_doc = nlp(astrophysics_clean)\n",
    "galileo_doc = nlp(galileo_clean)"
   ]
  },
  {
   "cell_type": "markdown",
   "metadata": {},
   "source": [
    "Splitting each topic into individual sentences."
   ]
  },
  {
   "cell_type": "code",
   "execution_count": 15,
   "metadata": {},
   "outputs": [
    {
     "name": "stdout",
     "output_type": "stream",
     "text": [
      "898\n"
     ]
    }
   ],
   "source": [
    "physics_sents = [[sent, 'Physics'] for sent in physics_doc.sents]\n",
    "stars_sents = [[sent, 'Stars'] for sent in stars_doc.sents]\n",
    "black_sents = [[sent, 'Black Holes'] for sent in black_doc.sents]\n",
    "strings_sents = [[sent, 'Strings'] for sent in strings_doc.sents]\n",
    "mass_sents = [[sent, 'Mass'] for sent in mass_doc.sents]\n",
    "astrophysics_sents = [[sent, 'Astrophysics'] for sent in astrophysics_doc.sents]\n",
    "galileo_sents = [[sent, 'Galileo'] for sent in galileo_doc.sents]\n",
    "\n",
    "sentences = pd.DataFrame(physics_sents + stars_sents + black_sents + strings_sents + mass_sents + astrophysics_sents + galileo_sents)\n",
    "sentences.head()\n",
    "print(len(sentences))"
   ]
  },
  {
   "cell_type": "markdown",
   "metadata": {},
   "source": [
    "### Creating BOW Features\n",
    "Defining functions to identify most common words and the create features from those words in the text."
   ]
  },
  {
   "cell_type": "code",
   "execution_count": 16,
   "metadata": {
    "collapsed": true
   },
   "outputs": [],
   "source": [
    "def bag_of_words(text):\n",
    "    allwords = [token.lemma_\n",
    "               for token in text\n",
    "               if not token.is_punct\n",
    "               and not token.is_stop]\n",
    "    return [item[0] for item in Counter(allwords).most_common(2000)]\n",
    "\n",
    "def bow_features(sentences, common_words):\n",
    "    df = pd.DataFrame(columns=common_words)\n",
    "    df['text_sentence'] = sentences[0]\n",
    "    df['text_source'] = sentences[1]\n",
    "    df.loc[:,common_words] = 0\n",
    "    \n",
    "    for i, sentence in enumerate(df['text_sentence']):\n",
    "        words = [token.lemma_ \n",
    "                for token in sentence\n",
    "                if (\n",
    "                    not token.is_punct\n",
    "                    and not token.is_stop\n",
    "                    and token.lemma_ in common_words\n",
    "                )]\n",
    "        for word in words:\n",
    "            df.loc[i, word] += 1\n",
    "        if i%100 == 0:\n",
    "            print('Processing row {}'.format(i))\n",
    "    return df"
   ]
  },
  {
   "cell_type": "code",
   "execution_count": 17,
   "metadata": {
    "collapsed": true
   },
   "outputs": [],
   "source": [
    "physics = response1.json()\n",
    "stars = response2.json()\n",
    "black = response3.json()\n",
    "strings = response4.json()\n",
    "mass = response5.json()\n",
    "astrophysics = response6.json()\n",
    "galileo = response7.json()"
   ]
  },
  {
   "cell_type": "markdown",
   "metadata": {},
   "source": [
    "Finding common words"
   ]
  },
  {
   "cell_type": "code",
   "execution_count": 18,
   "metadata": {
    "collapsed": true
   },
   "outputs": [],
   "source": [
    "physics_words = bag_of_words(physics_doc)\n",
    "stars_words = bag_of_words(stars_doc)\n",
    "black_words = bag_of_words(black_doc)\n",
    "strings_words = bag_of_words(strings_doc)\n",
    "mass_words = bag_of_words(mass_doc)\n",
    "astrophysics_words = bag_of_words(astrophysics_doc)\n",
    "galileo_words = bag_of_words(galileo_doc)\n",
    "\n",
    "common_words = set(physics_words + stars_words + black_words + strings_words + mass_words + astrophysics_words + galileo_words)"
   ]
  },
  {
   "cell_type": "markdown",
   "metadata": {},
   "source": [
    "Creating features."
   ]
  },
  {
   "cell_type": "code",
   "execution_count": 19,
   "metadata": {},
   "outputs": [
    {
     "name": "stdout",
     "output_type": "stream",
     "text": [
      "Processing row 0\n",
      "Processing row 100\n",
      "Processing row 200\n",
      "Processing row 300\n",
      "Processing row 400\n",
      "Processing row 500\n",
      "Processing row 600\n",
      "Processing row 700\n",
      "Processing row 800\n"
     ]
    },
    {
     "data": {
      "text/html": [
       "<div>\n",
       "<style scoped>\n",
       "    .dataframe tbody tr th:only-of-type {\n",
       "        vertical-align: middle;\n",
       "    }\n",
       "\n",
       "    .dataframe tbody tr th {\n",
       "        vertical-align: top;\n",
       "    }\n",
       "\n",
       "    .dataframe thead th {\n",
       "        text-align: right;\n",
       "    }\n",
       "</style>\n",
       "<table border=\"1\" class=\"dataframe\">\n",
       "  <thead>\n",
       "    <tr style=\"text-align: right;\">\n",
       "      <th></th>\n",
       "      <th>novel</th>\n",
       "      <th>recruit</th>\n",
       "      <th>microscopy</th>\n",
       "      <th>normal</th>\n",
       "      <th>kidney</th>\n",
       "      <th>habituation</th>\n",
       "      <th>acoustic</th>\n",
       "      <th>instant</th>\n",
       "      <th>conjugate</th>\n",
       "      <th>strategy</th>\n",
       "      <th>...</th>\n",
       "      <th>feature</th>\n",
       "      <th>foraging</th>\n",
       "      <th>laboratory</th>\n",
       "      <th>edema</th>\n",
       "      <th>sensor</th>\n",
       "      <th>decrease</th>\n",
       "      <th>demographic</th>\n",
       "      <th>incidence</th>\n",
       "      <th>text_sentence</th>\n",
       "      <th>text_source</th>\n",
       "    </tr>\n",
       "  </thead>\n",
       "  <tbody>\n",
       "    <tr>\n",
       "      <th>0</th>\n",
       "      <td>0</td>\n",
       "      <td>0</td>\n",
       "      <td>0</td>\n",
       "      <td>0</td>\n",
       "      <td>0</td>\n",
       "      <td>0</td>\n",
       "      <td>0</td>\n",
       "      <td>0</td>\n",
       "      <td>0</td>\n",
       "      <td>0</td>\n",
       "      <td>...</td>\n",
       "      <td>0</td>\n",
       "      <td>0</td>\n",
       "      <td>0</td>\n",
       "      <td>0</td>\n",
       "      <td>0</td>\n",
       "      <td>0</td>\n",
       "      <td>0</td>\n",
       "      <td>0</td>\n",
       "      <td>(Background, :, Physical, function, is, a, cru...</td>\n",
       "      <td>Physics</td>\n",
       "    </tr>\n",
       "    <tr>\n",
       "      <th>1</th>\n",
       "      <td>0</td>\n",
       "      <td>0</td>\n",
       "      <td>0</td>\n",
       "      <td>0</td>\n",
       "      <td>0</td>\n",
       "      <td>0</td>\n",
       "      <td>0</td>\n",
       "      <td>0</td>\n",
       "      <td>0</td>\n",
       "      <td>0</td>\n",
       "      <td>...</td>\n",
       "      <td>0</td>\n",
       "      <td>0</td>\n",
       "      <td>0</td>\n",
       "      <td>0</td>\n",
       "      <td>0</td>\n",
       "      <td>0</td>\n",
       "      <td>0</td>\n",
       "      <td>0</td>\n",
       "      <td>(Objective, :)</td>\n",
       "      <td>Physics</td>\n",
       "    </tr>\n",
       "    <tr>\n",
       "      <th>2</th>\n",
       "      <td>0</td>\n",
       "      <td>0</td>\n",
       "      <td>0</td>\n",
       "      <td>0</td>\n",
       "      <td>0</td>\n",
       "      <td>0</td>\n",
       "      <td>0</td>\n",
       "      <td>0</td>\n",
       "      <td>0</td>\n",
       "      <td>0</td>\n",
       "      <td>...</td>\n",
       "      <td>0</td>\n",
       "      <td>0</td>\n",
       "      <td>0</td>\n",
       "      <td>0</td>\n",
       "      <td>0</td>\n",
       "      <td>0</td>\n",
       "      <td>0</td>\n",
       "      <td>0</td>\n",
       "      <td>(To, examine, whether, ), physical, performanc...</td>\n",
       "      <td>Physics</td>\n",
       "    </tr>\n",
       "    <tr>\n",
       "      <th>3</th>\n",
       "      <td>0</td>\n",
       "      <td>0</td>\n",
       "      <td>0</td>\n",
       "      <td>0</td>\n",
       "      <td>0</td>\n",
       "      <td>0</td>\n",
       "      <td>0</td>\n",
       "      <td>0</td>\n",
       "      <td>0</td>\n",
       "      <td>0</td>\n",
       "      <td>...</td>\n",
       "      <td>0</td>\n",
       "      <td>0</td>\n",
       "      <td>0</td>\n",
       "      <td>0</td>\n",
       "      <td>0</td>\n",
       "      <td>0</td>\n",
       "      <td>0</td>\n",
       "      <td>0</td>\n",
       "      <td>(Design, :, Cross, -, sectional, study, to, ex...</td>\n",
       "      <td>Physics</td>\n",
       "    </tr>\n",
       "    <tr>\n",
       "      <th>4</th>\n",
       "      <td>0</td>\n",
       "      <td>0</td>\n",
       "      <td>0</td>\n",
       "      <td>0</td>\n",
       "      <td>0</td>\n",
       "      <td>0</td>\n",
       "      <td>0</td>\n",
       "      <td>0</td>\n",
       "      <td>0</td>\n",
       "      <td>0</td>\n",
       "      <td>...</td>\n",
       "      <td>0</td>\n",
       "      <td>0</td>\n",
       "      <td>0</td>\n",
       "      <td>0</td>\n",
       "      <td>0</td>\n",
       "      <td>0</td>\n",
       "      <td>0</td>\n",
       "      <td>0</td>\n",
       "      <td>(Methods, :)</td>\n",
       "      <td>Physics</td>\n",
       "    </tr>\n",
       "  </tbody>\n",
       "</table>\n",
       "<p>5 rows × 2263 columns</p>\n",
       "</div>"
      ],
      "text/plain": [
       "  novel recruit microscopy normal kidney habituation acoustic instant  \\\n",
       "0     0       0          0      0      0           0        0       0   \n",
       "1     0       0          0      0      0           0        0       0   \n",
       "2     0       0          0      0      0           0        0       0   \n",
       "3     0       0          0      0      0           0        0       0   \n",
       "4     0       0          0      0      0           0        0       0   \n",
       "\n",
       "  conjugate strategy     ...     feature foraging laboratory edema sensor  \\\n",
       "0         0        0     ...           0        0          0     0      0   \n",
       "1         0        0     ...           0        0          0     0      0   \n",
       "2         0        0     ...           0        0          0     0      0   \n",
       "3         0        0     ...           0        0          0     0      0   \n",
       "4         0        0     ...           0        0          0     0      0   \n",
       "\n",
       "  decrease demographic incidence  \\\n",
       "0        0           0         0   \n",
       "1        0           0         0   \n",
       "2        0           0         0   \n",
       "3        0           0         0   \n",
       "4        0           0         0   \n",
       "\n",
       "                                       text_sentence text_source  \n",
       "0  (Background, :, Physical, function, is, a, cru...     Physics  \n",
       "1                                     (Objective, :)     Physics  \n",
       "2  (To, examine, whether, ), physical, performanc...     Physics  \n",
       "3  (Design, :, Cross, -, sectional, study, to, ex...     Physics  \n",
       "4                                       (Methods, :)     Physics  \n",
       "\n",
       "[5 rows x 2263 columns]"
      ]
     },
     "execution_count": 19,
     "metadata": {},
     "output_type": "execute_result"
    }
   ],
   "source": [
    "word_counts = bow_features(sentences, common_words)\n",
    "word_counts.head()"
   ]
  },
  {
   "cell_type": "code",
   "execution_count": 20,
   "metadata": {},
   "outputs": [
    {
     "data": {
      "text/plain": [
       "(898, 2263)"
      ]
     },
     "execution_count": 20,
     "metadata": {},
     "output_type": "execute_result"
    }
   ],
   "source": [
    "word_counts.shape"
   ]
  },
  {
   "cell_type": "markdown",
   "metadata": {},
   "source": [
    "### Creating tf-idf features\n",
    "Converting sentences into numeric vectors.\n",
    "\n",
    "Creating list"
   ]
  },
  {
   "cell_type": "code",
   "execution_count": 21,
   "metadata": {
    "collapsed": true
   },
   "outputs": [],
   "source": [
    "abstract_list = []\n",
    "for topic in [physics_raw, stars_raw, black_raw, strings_raw, mass_raw, astrophysics_raw, galileo_raw]:\n",
    "    for article in topic['response']['docs']:\n",
    "        abstract_list = abstract_list + article['abstract']"
   ]
  },
  {
   "cell_type": "markdown",
   "metadata": {},
   "source": [
    "Vectorizing"
   ]
  },
  {
   "cell_type": "code",
   "execution_count": 22,
   "metadata": {},
   "outputs": [
    {
     "name": "stdout",
     "output_type": "stream",
     "text": [
      "Number of features: 260\n",
      "Original sentence: \n",
      "In big data area a significant challenge about string similarity join is to find all similar pairs more efficiently. In this paper, we propose a parallel processing framework for efficient string similarity join. First, the input is split into some disjoint small subsets according to the joint frequency distribution and the interval distribution of strings. Then the filter-verification strategy is adopted in the computation of string similarity for each subset so that the number of candidate pairs is reduced before an effective pruning strategy is used to improve the performance. Finally, the operation of string join is executed in parallel. Para-Join algorithm based on the multi-threading technique is proposed to implement the framework in a multi-core system while Pada-Join algorithm based on Spark platform is proposed to implement the framework in a cluster system. We prove that Para-Join and Pada-Join cannot only avoid reduplicate computation but also ensure the completeness of the result. Experimental results show that Para-Join can achieve high efficiency and significantly outperform than state-of-the-art approaches, meanwhile, Pada-Join can work on large datasets.\n",
      "\n",
      "Tf_idf vector: {'state': 0.15918979605274067, 'technique': 0.15069317309158292, 'common': 0.15918979605274067, 'problem': 0.79594898026370331, 'string': 0.12244578711727606, 'strings': 0.14350938073740427, 'compare': 0.15918979605274067, 'results': 0.20996834275384274, 'field': 0.14350938073740427, 'important': 0.13728649674847979, 'We': 0.161199099326228, 'literature': 0.15069317309158292, 'paper': 0.15069317309158292, 'develop': 0.15069317309158292, 'related': 0.11839084772002451, 'using': 0.107991821652727, 'The': 0.14249562543452479, 'In': 0.0923114063373906}\n"
     ]
    }
   ],
   "source": [
    "from sklearn.model_selection import train_test_split\n",
    "\n",
    "X = abstract_list\n",
    "\n",
    "X_train, X_test = train_test_split(X, test_size=0.4, random_state=42)\n",
    "\n",
    "vectorizer = TfidfVectorizer(encoding='ASCII',\n",
    "                             max_df=0.7, # drop words that occur in more than half the paragraphs\n",
    "                             min_df=4, # only use words that appear at least four times\n",
    "                             stop_words='english', \n",
    "                             lowercase=False, #convert everything to lower case\n",
    "                             use_idf=True,#we definitely want to use inverse document frequencies in our weighting\n",
    "                             norm=u'l2', #Applies a correction factor so that longer paragraphs and shorter paragraphs get treated equally\n",
    "                             smooth_idf=True #Adds 1 to all document frequencies, as if an extra document existed that used every word once.  Prevents divide-by-zero errors\n",
    "                            )\n",
    "\n",
    "#Applying the vectorizer\n",
    "abstract_tfidf=vectorizer.fit_transform(abstract_list)\n",
    "print(\"Number of features: %d\" % abstract_tfidf.get_shape()[1])\n",
    "\n",
    "#splitting into training and test sets\n",
    "X_train_tfidf, X_test_tfidf= train_test_split(abstract_tfidf, test_size=0.4, random_state=0)\n",
    "\n",
    "\n",
    "#Reshapes the vectorizer output into something people can read\n",
    "X_train_tfidf_csr = X_train_tfidf.tocsr()\n",
    "\n",
    "#number of paragraphs\n",
    "n = X_train_tfidf_csr.shape[0]\n",
    "#A list of dictionaries, one per paragraph\n",
    "tfidf_bypara = [{} for _ in range(0,n)]\n",
    "#List of features\n",
    "terms = vectorizer.get_feature_names()\n",
    "#for each paragraph, lists the feature words and their tf-idf scores\n",
    "for i, j in zip(*X_train_tfidf_csr.nonzero()):\n",
    "    tfidf_bypara[i][terms[j]] = X_train_tfidf_csr[i, j]\n",
    "\n",
    "#Keep in mind that the log base 2 of 1 is 0, so a tf-idf score of 0 indicates that the word was present once in that sentence.\n",
    "print('Original sentence:', X_train[5])\n",
    "print('Tf_idf vector:', tfidf_bypara[5])"
   ]
  },
  {
   "cell_type": "markdown",
   "metadata": {},
   "source": [
    "Reducing data and finding the explained variance ratio. "
   ]
  },
  {
   "cell_type": "code",
   "execution_count": 23,
   "metadata": {
    "scrolled": true
   },
   "outputs": [
    {
     "name": "stdout",
     "output_type": "stream",
     "text": [
      "Percent variance captured by all components: 100.0\n",
      "Component 0:\n",
      "Background: Great cormorants (Phalacrocorax carbo L.) show the highest known foraging yield for a marine predator and they are often perceived to be in conflict with human economic interests. They are generally regarded as visually-guided, pursuit-dive foragers, so it would be expected that cormorants have excellent vision much like aerial predators, such as hawks which detect and pursue prey from a distance. Indeed cormorant eyes appear to show some specific adaptations to the amphibious life style. They are reported to have a highly pliable lens and powerful intraocular muscles which are thought to accommodate for the loss of corneal refractive power that accompanies immersion and ensures a well focussed image on the retina. However, nothing is known of the visual performance of these birds and how this might influence their prey capture technique. Methodology/Principal Findings: We measured the aquatic visual acuity of great cormorants under a range of viewing conditions (illuminance, target contrast, viewing distance) and found it to be unexpectedly poor. Cormorant visual acuity under a range of viewing conditions is in fact comparable to unaided humans under water, and very inferior to that of aerial predators. We present a prey detectability model based upon the known acuity of cormorants at different illuminances, target contrasts and viewing distances. This shows that cormorants are able to detect individual prey only at close range (less than 1 m). Conclusions/Significance: We conclude that cormorants are not the aquatic equivalent of hawks. Their efficient hunting involves the use of specialised foraging techniques which employ brief short-distance pursuit and/or rapid neck extension to capture prey that is visually detected or flushed only at short range. This technique appears to be driven proximately by the cormorant's limited visual capacities, and is analogous to the foraging techniques employed by herons.                                                                                                                                                                                                                                                                                                                                                                                                                                                                                                                                                                                                                                                                                                                                                                                                                                                                                                                                                                                                                                                                                                                                                                                                                                                                                                                                                                                                                                                                                                                                                                                                                                        0.548799\n",
      "\\nPoint process generalized linear models (PP-GLMs) provide an important statistical framework for modeling spiking activity in single-neurons and neuronal networks. Stochastic stability is essential when sampling from these models, as done in computational neuroscience to analyze statistical properties of neuronal dynamics and in neuro-engineering to implement closed-loop applications. Here we show, however, that despite passing common goodness-of-fit tests, PP-GLMs estimated from data are often unstable, leading to divergent firing rates. The inclusion of absolute refractory periods is not a satisfactory solution since the activity then typically settles into unphysiological rates. To address these issues, we derive a framework for determining the existence and stability of fixed points of the expected conditional intensity function (CIF) for general PP-GLMs. Specifically, in nonlinear Hawkes PP-GLMs, the CIF is expressed as a function of the previous spike history and exogenous inputs. We use a mean-field quasi-renewal (QR) approximation that decomposes spike history effects into the contribution of the last spike and an average of the CIF over all spike histories prior to the last spike. Fixed points for stationary rates are derived as self-consistent solutions of integral equations. Bifurcation analysis and the number of fixed points predict that the original models can show stable, divergent, and metastable (fragile) dynamics. For fragile models, fluctuations of the single-neuron dynamics predict expected divergence times after which rates approach unphysiologically high values. This metric can be used to estimate the probability of rates to remain physiological for given time periods, e.g., for simulation purposes. We demonstrate the use of the stability framework using simulated single-neuron examples and neurophysiological recordings. Finally, we show how to adapt PP-GLM estimation procedures to guarantee model stability. Overall, our results provide a stability framework for data-driven PP-GLMs and shed new light on the stochastic dynamics of state-of-the-art statistical models of neuronal spiking activity.\\nAuthor summary: Earthquakes, gene regulatory elements, financial transactions, and action potentials produced by nerve cells are examples of sequences of discrete events in space or time. In many cases, such events do not appear independently of each other. Instead, the occurrence of one event changes the rate of upcoming events (e.g, aftershocks following an earthquake). The nonlinear Hawkes process is a statistical model that captures these complex dependencies. Unfortunately, for a given model, it is hard to predict whether stochastic samples will produce an event pattern consistent with observations. In particular, with positive feedback loops, the process might diverge and yield unrealistically high event rates. Here, we show that an approximation to the mathematical model predicts dynamical properties, in particular, whether the model will exhibit stable and finite rates. In the context of neurophysiology, we find that models estimated from experimental data often tend to show metastability or even unstable dynamics. Our framework can be used to add constraints to data-driven estimation procedures to find the optimal model with realistic event rates and help to build more robust models of single-cell spiking dynamics. It is a first step towards studying the stability of large-scale nonlinear spiking neural network models estimated from data.     0.538069\n",
      "\\nHabitat loss causes population declines, but the mechanisms are rarely known. In the European Boreal Zone, loss of old forest due to intensive forestry is suspected to cause declines in forest-dwelling raptors by reducing their breeding performance. We studied the boreal breeding habitat and habitat-associated breeding performance of the northern goshawk (Accipiter gentilis), common buzzard (Buteo buteo) and European honey buzzard (Pernis apivorus). We combined long-term Finnish bird-of-prey data with multi-source national forest inventory data at various distances (100–4000 m) around the hawk nests. We found that breeding success of the goshawk was best explained by the habitat within a 2000-m radius around the nests; breeding was more successful with increasing proportions of old spruce forest and water, and decreasing proportions of young thinning forest. None of the habitat variables affected significantly the breeding success of the common buzzard or the honey buzzard, or the brood size of any of the species. The amount of old spruce forest decreased both around goshawk and common buzzard nests and throughout southern Finland in 1992–2010. In contrast, the area of young forest increased in southern Finland but not around hawk nests. We emphasize the importance of studying habitats at several spatial and temporal scales to determine the relevant species-specific scale and to detect environmental changes. Further effort is needed to reconcile the socioeconomic and ecological functions of forests and habitat requirements of old forest specialists.\\n                                                                                                                                                                                                                                                                                                                                                                                                                                                                                                                                                                                                                                                                                                                                                                                                                                                                                                                                                                                                                                                                                                                                                                                                                                                                                                                                                                                                                                                                                                                                                                                                                                                                                                                                                                                                                                                                                                                                                                                                                               0.526366\n",
      "\\nFour end-functionalized star polymers that could attenuate the flow of ionic currents across biological ion channels were first de novo designed computationally, then synthesized and tested experimentally on mammalian K+ channels. The 4-arm ethylene glycol conjugate star polymers with lysine or a tripeptide attached to the end of each arm were specifically designed to mimic the action of scorpion toxins on K+ channels. Molecular dynamics simulations showed that the lysine side chain of the polymers physically occludes the pore of Kv1.3, a target for immuno-suppression therapy. Two of the compounds tested were potent inhibitors of Kv1.3. The dissociation constants of these two compounds were computed to be 0.1 μM and 0.7 μM, respectively, within 3-fold to the values derived from subsequent experiments. These results demonstrate the power of computational methods in molecular design and the potential of star polymers as a new infinitely modifiable platform for ion channel drug discovery.\\n                                                                                                                                                                                                                                                                                                                                                                                                                                                                                                                                                                                                                                                                                                                                                                                                                                                                                                                                                                                                                                                                                                                                                                                                                                                                                                                                                                                                                                                                                                                                                                                                                                                                                                                                                                                                                                                                                                                                                                                                                                                                                                                                                                                                                                                                                                                                                                                                                                                                                                                                                                                                                              0.464914\n",
      "\\n        This review presents a comprehensive overview of the current status regarding the global diversity of the echinoderm class Ophiuroidea, focussing on taxonomy and distribution patterns, with brief introduction to their anatomy, biology, phylogeny, and palaeontological history. A glossary of terms is provided. Species names and taxonomic decisions have been extracted from the literature and compiled in The World Ophiuroidea Database, part of the World Register of Marine Species (WoRMS). Ophiuroidea, with 2064 known species, are the largest class of Echinodermata. A table presents 16 families with numbers of genera and species. The largest are Amphiuridae (467), Ophiuridae (344 species) and Ophiacanthidae (319 species). A biogeographic analysis for all world oceans and all accepted species was performed, based on published distribution records. Approximately similar numbers of species were recorded from the shelf (n = 1313) and bathyal depth strata (1297). The Indo-Pacific region had the highest species richness overall (825 species) and at all depths. Adjacent regions were also relatively species rich, including the North Pacific (398), South Pacific (355) and Indian (316) due to the presence of many Indo-Pacific species that partially extended into these regions. A secondary region of enhanced species richness was found in the West Atlantic (335). Regions of relatively low species richness include the Arctic (73 species), East Atlantic (118), South America (124) and Antarctic (126).\\n                                                                                                                                                                                                                                                                                                                                                                                                                                                                                                                                                                                                                                                                                                                                                                                                                                                                                                                                                                                                                                                                                                                                                                                                                                                                                                                                                                                                                                                                                                                                                                                                                                                                                                                                                                                                                                                                                                                                                                                                                                                                                            0.448540\n",
      "Background: Transposable elements (TEs) are responsible for the generation of chromosomal inversions in several groups of organisms. However, in Drosophila and other Dipterans, where inversions are abundant both as intraspecific polymorphisms and interspecific fixed differences, the evidence for a role of TEs is scarce. Previous work revealed that the transposon Galileo was involved in the generation of two polymorphic inversions of Drosophila buzzatii. Methodology/Principal Findings: To assess the impact of TEs in Drosophila chromosomal evolution and shed light on the mechanism involved, we isolated and sequenced the two breakpoints of another widespread polymorphic inversion from D. buzzatii, 2z3. In the non inverted chromosome, the 2z3 distal breakpoint was located between genes CG2046 and CG10326 whereas the proximal breakpoint lies between two novel genes that we have named Dlh and Mdp. In the inverted chromosome, the analysis of the breakpoint sequences revealed relatively large insertions (2,870-bp and 4,786-bp long) including two copies of the transposon Galileo (subfamily Newton), one at each breakpoint, plus several other TEs. The two Galileo copies: (i) are inserted in opposite orientation; (ii) present exchanged target site duplications; and (iii) are both chimeric. Conclusions/Significance: Our observations provide the best evidence gathered so far for the role of TEs in the generation of Drosophila inversions. In addition, they show unequivocally that ectopic recombination is the causative mechanism. The fact that the three polymorphic D. buzzatii inversions investigated so far were generated by the same transposon family is remarkable and is conceivably due to Galileo's unusual structure and current (or recent) transpositional activity.                                                                                                                                                                                                                                                                                                                                                                                                                                                                                                                                                                                                                                                                                                                                                                                                                                                                                                                                                                                                                                                                                                                                                                                                                                                                                                                                                                                                                                                                                                                                                                                                                                                                                                                                                                                                                     0.417482\n",
      "\\nString-pulling is one of the most popular tests in animal cognition because of its apparent complexity, and of its potential to be applied to very different taxa. In birds, the basic procedure involves a food reward, suspended from a perch by a string, which can be reached by a series of coordinated pulling actions with the beak and holding actions of the pulled lengths of string with the foot. The taxonomic distribution of species that pass the test includes several corvids, parrots and parids, but in other families, data are much spottier and the number of individuals per species that succeed is often low. To date, the association between string-pulling ability and other cognitive traits was never tested. It is generally assumed that string-pulling is a complex form of problem-solving, suggesting that performance on string-pulling and other problem-solving tasks should be correlated. Here, we show that individuals of two innovative species from Barbados, the bullfinch Loxigilla barbadensis and the Carib grackle Quiscalus lugubris fortirostris, pass the string-pulling test. Eighteen of the 42 bullfinches tested succeeded, allowing us to correlate performance on this test to that on several other behavioral measurements. Surprisingly, string-pulling in bullfinches was unrelated to shyness, neophobia, problem-solving, discrimination and reversal learning performance. Only two of 31 grackles tested succeeded, precluding correlational analyses with other measures but still, the two successful birds largely differed in their other behavioral traits.\\n                                                                                                                                                                                                                                                                                                                                                                                                                                                                                                                                                                                                                                                                                                                                                                                                                                                                                                                                                                                                                                                                                                                                                                                                                                                                                                                                                                                                                                                                                                                                                                                                                                                                                                                                                                                                                                                                                                                                                                                                                                   0.416844\n",
      "                                                                                                                                                                                                                                                                                                                                                                                                                                                                                                                                                                                                                                                                                                                                                                                                                                                                                                                                                                                                                                                                                                                                                                                                                                                                                                                                                                                                                                                                                                                                                                                                                                                                                                                                                                                                                                                                                                                                                                                                                                                                                                                                                                                                                                                                                                                                                                                                                                                                                                                                                                                                                                                                                                                                                                                                                                                                                                                                                                                                                                                                                                                                                                                                                                                                                                                                                                                                                                                                                                                                                                                                                                                                          0.392480\n",
      "\\n        When a gash or gouge is made in a confluent layer of epithelial cells, the cells move to fill in the “wound.” In some cases, such as in wounded embryonic chick wing buds, the movement of the cells is driven by cortical actin contraction (i.e., a purse string mechanism). In adult tissue, though, cells apparently crawl to close wounds. At the single cell level, this crawling is driven by the dynamics of the cell's actin cytoskeleton, which is regulated by a complex biochemical network, and cell signaling has been proposed to play a significant role in directing cells to move into the denuded area. However, wounds made in monolayers of Madin-Darby canine kidney (MDCK) cells still close even when a row of cells is deactivated at the periphery of the wound, and recent experiments show complex, highly-correlated cellular motions that extend tens of cell lengths away from the boundary. These experiments suggest a dominant role for mechanics in wound healing. Here we present a biophysical description of the collective migration of epithelial cells during wound healing based on the basic motility of single cells and cell-cell interactions. This model quantitatively captures the dynamics of wound closure and reproduces the complex cellular flows that are observed. These results suggest that wound healing is predominantly a mechanical process that is modified, but not produced, by cell-cell signaling.\\n      Author Summary: Wound healing is driven by the collective migration of groups of epithelial cells. Experiments have shown that the motions of cells during wound healing are not as simple as had once been thought. Indeed, cells do not just move out to fill in the wounded area but rather undergo a number of complex but coordinated motions. Furthermore, wound healing is not just a response to chemical cues and can be driven by cells that are not immediately at the edge of the wound. In this paper, we develop a mathematical model based on the mechanical behavior of single crawling cells and also includes cell-cell adhesion. We show that this model is capable of explaining quantitatively the dynamics that occur during wound healing assays. This suggests that wound healing is largely a mechanical process where chemical signaling merely acts to augment the overall behavior.                                                                                                                                                                                                                                                                                                                                                                                                                                                                                                                                                                                                                                                                                                                                                                                                                                                                                                                                                                                                                                                                                                                                                                                                                                                                    0.378419\n",
      "                                                                                                                                                                                                                                                                                                                                                                                                                                                                                                                                                                                                                                                                                                                                                                                                                                                                                                                                                                                                                                                                                                                                                                                                                                                                                                                                                                                                                                                                                                                                                                                                                                                                                                                                                                                                                                                                                                                                                                                                                                                                                                                                                                                                                                                                                                                                                                                                                                                                                                                                                                                                                                                                                                                                                                                                                                                                                                                                                                                                                                                                                                                                                                                                                                                                                                                                                                                                                                                                                                                                                                                                                                                                          0.371049\n",
      "Name: 0, dtype: float64\n",
      "Component 1:\n",
      "Background: Great cormorants (Phalacrocorax carbo L.) show the highest known foraging yield for a marine predator and they are often perceived to be in conflict with human economic interests. They are generally regarded as visually-guided, pursuit-dive foragers, so it would be expected that cormorants have excellent vision much like aerial predators, such as hawks which detect and pursue prey from a distance. Indeed cormorant eyes appear to show some specific adaptations to the amphibious life style. They are reported to have a highly pliable lens and powerful intraocular muscles which are thought to accommodate for the loss of corneal refractive power that accompanies immersion and ensures a well focussed image on the retina. However, nothing is known of the visual performance of these birds and how this might influence their prey capture technique. Methodology/Principal Findings: We measured the aquatic visual acuity of great cormorants under a range of viewing conditions (illuminance, target contrast, viewing distance) and found it to be unexpectedly poor. Cormorant visual acuity under a range of viewing conditions is in fact comparable to unaided humans under water, and very inferior to that of aerial predators. We present a prey detectability model based upon the known acuity of cormorants at different illuminances, target contrasts and viewing distances. This shows that cormorants are able to detect individual prey only at close range (less than 1 m). Conclusions/Significance: We conclude that cormorants are not the aquatic equivalent of hawks. Their efficient hunting involves the use of specialised foraging techniques which employ brief short-distance pursuit and/or rapid neck extension to capture prey that is visually detected or flushed only at short range. This technique appears to be driven proximately by the cormorant's limited visual capacities, and is analogous to the foraging techniques employed by herons.                                                                                                                                                                                                                                                                                                                                                                                                                                                                                                                                                                                                                                                                                                                                                                                                                                                                                                                                                                                                                                                                                                                                                                                                                                                                                                                                                                                                                                                                                                                                                                                                                                        6.263330e-01\n",
      "\\nPoint process generalized linear models (PP-GLMs) provide an important statistical framework for modeling spiking activity in single-neurons and neuronal networks. Stochastic stability is essential when sampling from these models, as done in computational neuroscience to analyze statistical properties of neuronal dynamics and in neuro-engineering to implement closed-loop applications. Here we show, however, that despite passing common goodness-of-fit tests, PP-GLMs estimated from data are often unstable, leading to divergent firing rates. The inclusion of absolute refractory periods is not a satisfactory solution since the activity then typically settles into unphysiological rates. To address these issues, we derive a framework for determining the existence and stability of fixed points of the expected conditional intensity function (CIF) for general PP-GLMs. Specifically, in nonlinear Hawkes PP-GLMs, the CIF is expressed as a function of the previous spike history and exogenous inputs. We use a mean-field quasi-renewal (QR) approximation that decomposes spike history effects into the contribution of the last spike and an average of the CIF over all spike histories prior to the last spike. Fixed points for stationary rates are derived as self-consistent solutions of integral equations. Bifurcation analysis and the number of fixed points predict that the original models can show stable, divergent, and metastable (fragile) dynamics. For fragile models, fluctuations of the single-neuron dynamics predict expected divergence times after which rates approach unphysiologically high values. This metric can be used to estimate the probability of rates to remain physiological for given time periods, e.g., for simulation purposes. We demonstrate the use of the stability framework using simulated single-neuron examples and neurophysiological recordings. Finally, we show how to adapt PP-GLM estimation procedures to guarantee model stability. Overall, our results provide a stability framework for data-driven PP-GLMs and shed new light on the stochastic dynamics of state-of-the-art statistical models of neuronal spiking activity.\\nAuthor summary: Earthquakes, gene regulatory elements, financial transactions, and action potentials produced by nerve cells are examples of sequences of discrete events in space or time. In many cases, such events do not appear independently of each other. Instead, the occurrence of one event changes the rate of upcoming events (e.g, aftershocks following an earthquake). The nonlinear Hawkes process is a statistical model that captures these complex dependencies. Unfortunately, for a given model, it is hard to predict whether stochastic samples will produce an event pattern consistent with observations. In particular, with positive feedback loops, the process might diverge and yield unrealistically high event rates. Here, we show that an approximation to the mathematical model predicts dynamical properties, in particular, whether the model will exhibit stable and finite rates. In the context of neurophysiology, we find that models estimated from experimental data often tend to show metastability or even unstable dynamics. Our framework can be used to add constraints to data-driven estimation procedures to find the optimal model with realistic event rates and help to build more robust models of single-cell spiking dynamics. It is a first step towards studying the stability of large-scale nonlinear spiking neural network models estimated from data.     6.068978e-01\n",
      "\\nHabitat loss causes population declines, but the mechanisms are rarely known. In the European Boreal Zone, loss of old forest due to intensive forestry is suspected to cause declines in forest-dwelling raptors by reducing their breeding performance. We studied the boreal breeding habitat and habitat-associated breeding performance of the northern goshawk (Accipiter gentilis), common buzzard (Buteo buteo) and European honey buzzard (Pernis apivorus). We combined long-term Finnish bird-of-prey data with multi-source national forest inventory data at various distances (100–4000 m) around the hawk nests. We found that breeding success of the goshawk was best explained by the habitat within a 2000-m radius around the nests; breeding was more successful with increasing proportions of old spruce forest and water, and decreasing proportions of young thinning forest. None of the habitat variables affected significantly the breeding success of the common buzzard or the honey buzzard, or the brood size of any of the species. The amount of old spruce forest decreased both around goshawk and common buzzard nests and throughout southern Finland in 1992–2010. In contrast, the area of young forest increased in southern Finland but not around hawk nests. We emphasize the importance of studying habitats at several spatial and temporal scales to determine the relevant species-specific scale and to detect environmental changes. Further effort is needed to reconcile the socioeconomic and ecological functions of forests and habitat requirements of old forest specialists.\\n                                                                                                                                                                                                                                                                                                                                                                                                                                                                                                                                                                                                                                                                                                                                                                                                                                                                                                                                                                                                                                                                                                                                                                                                                                                                                                                                                                                                                                                                                                                                                                                                                                                                                                                                                                                                                                                                                                                                                                                                                               5.403099e-01\n",
      "\\nFour end-functionalized star polymers that could attenuate the flow of ionic currents across biological ion channels were first de novo designed computationally, then synthesized and tested experimentally on mammalian K+ channels. The 4-arm ethylene glycol conjugate star polymers with lysine or a tripeptide attached to the end of each arm were specifically designed to mimic the action of scorpion toxins on K+ channels. Molecular dynamics simulations showed that the lysine side chain of the polymers physically occludes the pore of Kv1.3, a target for immuno-suppression therapy. Two of the compounds tested were potent inhibitors of Kv1.3. The dissociation constants of these two compounds were computed to be 0.1 μM and 0.7 μM, respectively, within 3-fold to the values derived from subsequent experiments. These results demonstrate the power of computational methods in molecular design and the potential of star polymers as a new infinitely modifiable platform for ion channel drug discovery.\\n                                                                                                                                                                                                                                                                                                                                                                                                                                                                                                                                                                                                                                                                                                                                                                                                                                                                                                                                                                                                                                                                                                                                                                                                                                                                                                                                                                                                                                                                                                                                                                                                                                                                                                                                                                                                                                                                                                                                                                                                                                                                                                                                                                                                                                                                                                                                                                                                                                                                                                                                                                                                                              5.107520e-01\n",
      "\\nString-pulling is one of the most popular tests in animal cognition because of its apparent complexity, and of its potential to be applied to very different taxa. In birds, the basic procedure involves a food reward, suspended from a perch by a string, which can be reached by a series of coordinated pulling actions with the beak and holding actions of the pulled lengths of string with the foot. The taxonomic distribution of species that pass the test includes several corvids, parrots and parids, but in other families, data are much spottier and the number of individuals per species that succeed is often low. To date, the association between string-pulling ability and other cognitive traits was never tested. It is generally assumed that string-pulling is a complex form of problem-solving, suggesting that performance on string-pulling and other problem-solving tasks should be correlated. Here, we show that individuals of two innovative species from Barbados, the bullfinch Loxigilla barbadensis and the Carib grackle Quiscalus lugubris fortirostris, pass the string-pulling test. Eighteen of the 42 bullfinches tested succeeded, allowing us to correlate performance on this test to that on several other behavioral measurements. Surprisingly, string-pulling in bullfinches was unrelated to shyness, neophobia, problem-solving, discrimination and reversal learning performance. Only two of 31 grackles tested succeeded, precluding correlational analyses with other measures but still, the two successful birds largely differed in their other behavioral traits.\\n                                                                                                                                                                                                                                                                                                                                                                                                                                                                                                                                                                                                                                                                                                                                                                                                                                                                                                                                                                                                                                                                                                                                                                                                                                                                                                                                                                                                                                                                                                                                                                                                                                                                                                                                                                                                                                                                                                                                                                                                                                   3.827775e-01\n",
      "\\nTotal body mass (TBM) is known to be related to a number of different osteological features in vertebrates, including limb element measurements and total skeletal mass. The relationship between skeletal mass and TBM in birds has been suggested as a way of estimating the latter in cases where only the skeleton is known (e.g., fossils). This relationship has thus also been applied to other extinct vertebrates, including the non-avian pterosaurs, while other studies have used additional skeletal correlates found in modern birds to estimate TBM. However, most previous studies have used TBM compiled from the literature rather than from direct measurements, producing values from population averages rather than from individuals. Here, we report a new dataset of 487 extant birds encompassing 79 species that have skeletal mass and TBM recorded at the time of collection or preparation. We combine both historical and new data for analyses with phylogenetic control and find a similar and well-correlated relationship between skeletal mass and TBM. Thus, we confirm that TBM and skeletal mass are accurate proxies for estimating one another. We also look at other factors that may have an effect on avian body mass, including sex, ontogenetic stage, and flight mode. While data are well-correlated in all cases, phylogeny is a major control on TBM in birds strongly suggesting that this relationship is not appropriate for estimating the total mass of taxa outside of crown birds, Neornithes (e.g., non-avian dinosaurs, pterosaurs). Data also reveal large variability in both bird skeletal and TBM within single species; caution should thus be applied when using published mass to test direct correlations with skeletal mass and bone lengths.\\n                                                                                                                                                                                                                                                                                                                                                                                                                                                                                                                                                                                                                                                                                                                                                                                                                                                                                                                                                                                                                                                                                                                                                                                                                                                                                                                                                                                                                                                                                                                                                                                                                                                                                                                                                                                                                                                      1.881430e-11\n",
      "\\nIt has been suggested that innovations occur mainly by combination: the more inventions accumulate, the higher the probability that new inventions are obtained from previous designs. Additionally, it has been conjectured that the combinatorial nature of innovations naturally leads to a singularity: at some finite time, the number of innovations should diverge. Although these ideas are certainly appealing, no general models have been yet developed to test the conditions under which combinatorial technology should become explosive. Here we present a generalised model of technological evolution that takes into account two major properties: the number of previous technologies needed to create a novel one and how rapidly technology ages. Two different models of combinatorial growth are considered, involving different forms of ageing. When long-range memory is used and thus old inventions are available for novel innovations, singularities can emerge under some conditions with two phases separated by a critical boundary. If the ageing has a characteristic time scale, it is shown that no singularities will be observed. Instead, a “black hole” of old innovations appears and expands in time, making the rate of invention creation slow down into a linear regime.\\n                                                                                                                                                                                                                                                                                                                                                                                                                                                                                                                                                                                                                                                                                                                                                                                                                                                                                                                                                                                                                                                                                                                                                                                                                                                                                                                                                                                                                                                                                                                                                                                                                                                                                                                                                                                                                                                                                                                                                                                                                                                                                                                                                                                                                                                                                                                                                9.128686e-19\n",
      "Background: Genome-wide association studies (GWAS) identify disease-associations for single-nucleotide-polymorphisms (SNPs) from scattered genomic-locations. However, SNPs frequently reside on several different SNP-haplotypes, only some of which may be disease-associated. This circumstance lowers the observed odds-ratio for disease-association. Methodology/Principal Findings: Here we develop a method to identify the two SNP-haplotypes, which combine to produce each person’s SNP-genotype over specified chromosomal segments. Two multiple sclerosis (MS)-associated genetic regions were modeled; DRB1 (a Class II molecule of the major histocompatibility complex) and MMEL1 (an endopeptidase that degrades both neuropeptides and β-amyloid). For each locus, we considered sets of eleven adjacent SNPs, surrounding the putative disease-associated gene and spanning ∼200 kb of DNA. The SNP-information was converted into an ordered-set of eleven-numbers (subject-vectors) based on whether a person had zero, one, or two copies of particular SNP-variant at each sequential SNP-location. SNP-strings were defined as those ordered-combinations of eleven-numbers (0 or 1), representing a haplotype, two of which combined to form the observed subject-vector. Subject-vectors were resolved using probabilistic methods. In both regions, only a small number of SNP-strings were present. We compared our method to the SHAPEIT-2 phasing-algorithm. When the SNP-information spanning 200 kb was used, SHAPEIT-2 was inaccurate. When the SHAPEIT-2 window was increased to 2,000 kb, the concordance between the two methods, in both of these eleven-SNP regions, was over 99%, suggesting that, in these regions, both methods were quite accurate. Nevertheless, correspondence was not uniformly high over the entire DNA-span but, rather, was characterized by alternating peaks and valleys of concordance. Moreover, in the valleys of poor-correspondence, SHAPEIT-2 was also inconsistent with itself, suggesting that the SNP-string method is more accurate across the entire region. Conclusions/Significance: Accurate haplotype identification will enhance the detection of genetic-associations. The SNP-string method provides a simple means to accomplish this and can be extended to cover larger genomic regions, thereby improving a GWAS’s power, even for those published previously.                                                                                                                                                                                                                                                                                                                                                                                                                                                                                                                                                                                                                                                                                                                                                                                                                                                                                                                                                                                                                                                                                                                                                                                                                  -0.000000e+00\n",
      "Background: Physical function is a crucial factor in the prevention and treatment of health conditions in older adults and is usually measured objectively with physical performance tests and/or physical activity monitoring. Objective: To examine whether 1) physical performance (PP) and physical activity (PA) constitute separate domains of physical function; 2) differentiation of PA classes is more informative than overall PA. Design: Cross-sectional study to explore the relationships within and among PP and PA measures. Methods: In 49 older participants (83±7 years; M±SD), performance-based tests were conducted and PA was measured for one week. Activity monitor data were reduced in terms of duration, periods, and mean duration of periods of lying, sitting, standing and locomotion. The relation between and within PP scores and PA outcomes were analysed using rank order correlation and factor analysis. Results: Factor structure after varimax rotation revealed two orthogonal factors explaining 78% of the variance in the data: one comprising all PA variables and one comprising all PP variables. PP scores correlated moderately with PA in daily life. Differentiation of activity types and quantification of their duration, intensity and frequency of occurrence provided stronger associations with PP, as compared to a single measure of acceleration expressing overall PA. Limitations: For independent validation, the conclusions about the validity of the presented conceptual framework and its clinical implications need to be confirmed in other studies. Conclusions: PP and PA represent associated but separate domains of physical function, suggesting that an improvement of PP does not automatically imply an increase of PA, i.e. a change to a more active lifestyle. Differentiation of activity classes in the analysis of PA provides more insights into PA and its association with PP than using a single overall measure of acceleration.                                                                                                                                                                                                                                                                                                                                                                                                                                                                                                                                                                                                                                                                                                                                                                                                                                                                                                                                                                                                                                                                                                                                                                                                                                                                                                                                                                                                                                                                                                                                                                                                                                           -0.000000e+00\n",
      "Background: Magnetic Resonance Imaging (MRI) is an established tool in diagnosing and evaluating disease activity in Multiple Sclerosis (MS). While clinical-radiological correlations are limited in general, hypointense T1 lesions (also known as Black Holes (BH)) have shown some promising results. The definition of BHs is very heterogeneous and depends on subjective visual evaluation. Objective: We aimed to improve clinical-radiological correlations by defining BHs using T1 relaxation time (T1-RT) thresholds to achieve best possible correlation between BH lesion volume and clinical disability. Method: 40 patients with mainly relapsing-remitting MS underwent MRI including 3-dimensional fluid attenuated inversion recovery (FLAIR), magnetization-prepared rapid gradient echo (MPRAGE) before and after Gadolinium (GD) injection and double inversion-contrast magnetization-prepared rapid gradient echo (MP2RAGE) sequences. BHs (BHvis) were marked by two raters on native T1-weighted (T1w)-MPRAGE, contrast-enhancing lesions (CE lesions) on T1w-MPRAGE after GD and FLAIR lesions (total-FLAIR lesions) were detected separately. BHvis and total-FLAIR lesion maps were registered to MP2RAGE images, and the mean T1-RT were calculated for all lesion ROIs. Mean T1 values of the cortex (CTX) were calculated for each patient. Subsequently, Spearman rank correlations between clinical scores (Expanded Disability Status Scale and Multiple Sclerosis Functional Composite) and lesion volume were determined for different T1-RT thresholds. Results: Significant differences in T1-RT were obtained between all different lesion types with highest T1 values in visually marked BHs (BHvis: 1453.3±213.4 ms, total-FLAIR lesions: 1394.33±187.38 ms, CTX: 1305.6±35.8 ms; p<0.05). Significant correlations between BHvis/total-FLAIR lesion volume and clinical disability were obtained for a wide range of T1-RT thresholds. The highest correlation for BHvis and total-FLAIR lesion masks were found at T1-RT>1500 ms (Expanded Disability Status Scale vs. lesion volume: rBHvis = 0.442 and rtotal-FLAIR = 0.497, p<0.05; Multiple Sclerosis Functional Composite vs. lesion volume: rBHvis = -0.53 and rtotal-FLAIR = -0.627, p<0.05). Conclusion: Clinical-radiological correlations in MS patients are increased by application of T1-RT thresholds. With the short acquisition time of the MP2RAGE sequences, quantitative T1 maps could be easily established in clinical studies.                                                                                                                                                                                                                                                                                                                                                                                                                                                                                                                                                                                                                                                                                                                                                                                                                                                                                                                                                                                                                                                                                                                        -2.525096e-03\n",
      "Name: 1, dtype: float64\n",
      "Component 2:\n",
      "\\n        The roles of microRNAs (miRNAs) as important regulators of gene expression have been studied intensively. Although most of these investigations have involved the highly expressed form of the two mature miRNA species, increasing evidence points to essential roles for star-form microRNAs (miRNA*), which are usually expressed at much lower levels. Owing to the nature of miRNA biogenesis, it is challenging to use plasmids containing miRNA coding sequences for gain-of-function experiments concerning the roles of microRNA* species. Synthetic microRNA mimics could introduce specific miRNA* species into cells, but this transient overexpression system has many shortcomings. Here, we report that specific miRNA* species can be overexpressed by introducing artificially designed stem-loop sequences into short hairpin RNA (shRNA) overexpression vectors. By our prototypic plasmid, designed to overexpress hsa-miR-146b-3p, we successfully expressed high levels of hsa-miR-146b-3p without detectable change of hsa-miR-146b-5p. Functional analysis involving luciferase reporter assays showed that, like natural miRNAs, the overexpressed hsa-miR-146b-3p inhibited target gene expression by 3′UTR seed pairing. Our demonstration that this method could overexpress two other miRNAs suggests that the approach should be broadly applicable. Our novel strategy opens the way for exclusively stable overexpression of miRNA* species and analyzing their unique functions both in vitro and in vivo.\\n                                                                                                                                                                                                                                                                                                                                                                                                                                                                                                                                                                                                                                                                                                                                                                                                                                                                                                                                                                                                                                                                                                                                                                                                                                                                                                                                                                                                                                                                                                                       0.649382\n",
      "\\nWe consider the problem of finding a minimum common string partition (MCSP) of two strings, which is an NP-hard problem. The MCSP problem is closely related to genome comparison and rearrangement, an important field in Computational Biology. In this paper, we map the MCSP problem into a graph applying a prior technique and using this graph, we develop an Integer Linear Programming (ILP) formulation for the problem. We implement the ILP formulation and compare the results with the state-of-the-art algorithms from the literature. The experimental results are found to be promising.\\n                                                                                                                                                                                                                                                                                                                                                                                                                                                                                                                                                                                                                                                                                                                                                                                                                                                                                                                                                                                                                                                                                                                                                                                                                                                                                                                                                                                                                                                                                                                                                                                                                                                                                                                                                                                                                                                                                                                                                                                                                                                                                                                                                                                                                                                                                                                                                                                                                                                                 0.647617\n",
      "\\nSagan et al. (1993) used the Galileo space probe data and first principles to find evidence of life on Earth. Here we ask whether Sagan et al. (1993) could also have detected whether life on Earth had three-dimensional structure, based on the Galileo space probe data. We reanalyse the data from this probe to see if structured vegetation could have been detected in regions with abundant photosynthetic pigments through the anisotropy of reflected shortwave radiation. We compare changing brightness of the Amazon forest (a region where Sagan et al. (1993) noted a red edge in the reflectance spectrum, indicative of photosynthesis) as the planet rotates to a common model of reflectance anisotropy and found measured increase of surface reflectance of 0.019 ± 0.003 versus a 0.007 predicted from only anisotropic effects. We hypothesize the difference was due to minor cloud contamination. However, the Galileo dataset had only a small change in phase angle (sun-satellite position) which reduced the observed anisotropy signal and we demonstrate that theoretically if the probe had a variable phase angle between 0–20°, there would have been a much larger predicted change in surface reflectance of 0.1 and under such a scenario three-dimensional vegetation structure on Earth could possibly have been detected. These results suggest that anisotropic effects may be useful to help determine whether exoplanets have three-dimensional vegetation structure in the future, but that further comparisons between empirical and theoretical results are first necessary.\\n                                                                                                                                                                                                                                                                                                                                                                                                                                                                                                                                                                                                                                                                                                                                                                                                                                                                                                                                                                                                                                                                                                                                                                                                                                                                                                                                                                                                                                               0.473389\n",
      "\\n        When a gash or gouge is made in a confluent layer of epithelial cells, the cells move to fill in the “wound.” In some cases, such as in wounded embryonic chick wing buds, the movement of the cells is driven by cortical actin contraction (i.e., a purse string mechanism). In adult tissue, though, cells apparently crawl to close wounds. At the single cell level, this crawling is driven by the dynamics of the cell's actin cytoskeleton, which is regulated by a complex biochemical network, and cell signaling has been proposed to play a significant role in directing cells to move into the denuded area. However, wounds made in monolayers of Madin-Darby canine kidney (MDCK) cells still close even when a row of cells is deactivated at the periphery of the wound, and recent experiments show complex, highly-correlated cellular motions that extend tens of cell lengths away from the boundary. These experiments suggest a dominant role for mechanics in wound healing. Here we present a biophysical description of the collective migration of epithelial cells during wound healing based on the basic motility of single cells and cell-cell interactions. This model quantitatively captures the dynamics of wound closure and reproduces the complex cellular flows that are observed. These results suggest that wound healing is predominantly a mechanical process that is modified, but not produced, by cell-cell signaling.\\n      Author Summary: Wound healing is driven by the collective migration of groups of epithelial cells. Experiments have shown that the motions of cells during wound healing are not as simple as had once been thought. Indeed, cells do not just move out to fill in the wounded area but rather undergo a number of complex but coordinated motions. Furthermore, wound healing is not just a response to chemical cues and can be driven by cells that are not immediately at the edge of the wound. In this paper, we develop a mathematical model based on the mechanical behavior of single crawling cells and also includes cell-cell adhesion. We show that this model is capable of explaining quantitatively the dynamics that occur during wound healing assays. This suggests that wound healing is largely a mechanical process where chemical signaling merely acts to augment the overall behavior.                                                                                                                                                                                                                                                                                                                                                                                                                                                                                                                                                                                                                                                                        0.268214\n",
      "\\n        The founding director of Singapore's Institute of Molecular and Cell Biology illustrates the rise of science in Asia.\\n                                                                                                                                                                                                                                                                                                                                                                                                                                                                                                                                                                                                                                                                                                                                                                                                                                                                                                                                                                                                                                                                                                                                                                                                                                                                                                                                                                                                                                                                                                                                                                                                                                                                                                                                                                                                                                                                                                                                                                                                                                                                                                                                                                                                                                                                                                                                                                                                                                                                                                                                                                                                                                                                                                                                                                                                                                                                                                                                             0.156118\n",
      "\\nTriadic relationships are accepted to play a key role in the dynamics of social and political networks. Building on insights gleaned from balance theory in social network studies and from Boltzmann-Gibbs statistical physics, we propose a model to quantitatively capture the dynamics of the four types of triadic relationships in a network. Central to our model are the triads’ incidence rates and the idea that those can be modeled by assigning a specific triadic energy to each type of triadic relation. We emphasize the role of the degeneracy of the different triads and how it impacts the degree of frustration in the political network. In order to account for a persistent form of disorder in the formation of the triadic relationships, we introduce the systemic variable temperature. In order to learn about the dynamics and motives, we propose a generic Hamiltonian with three terms to model the triadic energies. One term is connected with a three-body interaction that captures balance theory. The other terms take into account the impact of heterogeneity and of negative edges in the triads. The validity of our model is tested on four datasets including the time series of triadic relationships for the standings between two classes of alliances in a massively multiplayer online game (MMOG). We also analyze real-world data for the relationships between the “agents” involved in the Syrian civil war, and in the relations between countries during the Cold War era. We find emerging properties in the triadic relationships in a political network, for example reflecting itself in a persistent hierarchy between the four triadic energies, and in the consistency of the extracted parameters from comparing the model Hamiltonian to the data.\\n                                                                                                                                                                                                                                                                                                                                                                                                                                                                                                                                                                                                                                                                                                                                                                                                                                                                                                                                                                                                                                                                                                                                                                                                                                                      0.150795\n",
      "\\nDisease outbreaks can have substantial impacts on wild populations, but the often patchy or anecdotal evidence of these impacts impedes our ability to understand outbreak dynamics. Recently however, a severe disease outbreak occurred in a group of very well-studied organisms–sea stars along the west coast of North America. We analyzed nearly two decades of data from a coordinated monitoring effort at 88 sites ranging from southern British Columbia to San Diego, California along with 2 sites near Sitka, Alaska to better understand the effects of sea star wasting disease (SSWD) on the keystone intertidal predator, Pisaster ochraceus. Quantitative surveys revealed unprecedented declines of P. ochraceus in 2014 and 2015 across nearly the entire geographic range of the species. The intensity of the impact of SSWD was not uniform across the affected area, with proportionally greater population declines in the southern regions relative to the north. The degree of population decline was unrelated to pre-outbreak P. ochraceus density, although these factors have been linked in other well-documented disease events. While elevated seawater temperatures were not broadly linked to the initial emergence of SSWD, anomalously high seawater temperatures in 2014 and 2015 might have exacerbated the disease’s impact. Both before and after the onset of the SSWD outbreak, we documented higher recruitment of P. ochraceus in the north than in the south, and while some juveniles are surviving (as evidenced by transition of recruitment pulses to larger size classes), post-SSWD survivorship is lower than during pre-SSWD periods. In hindsight, our data suggest that the SSWD event defied prediction based on two factors found to be important in other marine disease events, sea water temperature and population density, and illustrate the importance of surveillance of natural populations as one element of an integrated approach to marine disease ecology. Low levels of SSWD-symptomatic sea stars are still present throughout the impacted range, thus the outlook for population recovery is uncertain.\\n                                                                                                                                                                                                                                                                                                                                                                                                                                                                                                                                                                                                                                                                                                                                                                                                                                                                                     0.130485\n",
      "                                                                                                                                                                                                                                                                                                                                                                                                                                                                                                                                                                                                                                                                                                                                                                                                                                                                                                                                                                                                                                                                                                                                                                                                                                                                                                                                                                                                                                                                                                                                                                                                                                                                                                                                                                                                                                                                                                                                                                                                                                                                                                                                                                                                                                                                                                                                                                                                                                                                                                                                                                                                                                                                                                                                                                                                                                                                                                                                                                                                                                                                              0.082848\n",
      "Background: Better physical functioning in the elderly may be associated with higher physical activity levels. Since older adults spend a substantial part of the day in their residential neighborhood, the neighborhood physical environment may moderate associations between functioning and older adults’ physical activity. The present study investigated the moderating role of the objective and perceived physical environment on associations between Belgian older adults’ physical functioning and transport walking, recreational walking, and moderate-to-vigorous physical activity. Methods: Data from 438 older adults were included. Objective physical functioning was assessed using the Short Physical Performance Battery. Potential moderators included objective neighborhood walkability and perceptions of land use mix diversity, access to recreational facilities, access to services, street connectivity, physical barriers for walking, aesthetics, crime-related safety, traffic speeding-related safety, and walking infrastructure. Transport and recreational walking were self-reported, moderate-to-vigorous physical activity was assessed through accelerometers. Multi-level regression analyses were conducted using MLwiN to examine two-way interactions between functioning and the environment on both walking outcomes. Based on a previous study where environment x neighborhood income associations were found for Belgian older adults’ moderate-to-vigorous physical activity, three-way functioning x environment x income interactions were examined for moderate-to-vigorous physical activity. Results: Objectively-measured walkability moderated the association between functioning and transport walking; this positive association was only present in high-walkable neighborhoods. Moreover, a three-way interaction was observed for moderate-to-vigorous physical activity. Only in high-income, high-walkable neighborhoods, there was a positive association between functioning and moderate-to-vigorous physical activity. No functioning x walkability interactions were observed for recreational walking, and none of the perceived environmental variables moderated the positive association between physical functioning and the physical activity outcomes. Conclusions: For older adults with better physical functioning, living in a high-walkable neighborhood could be beneficial to engage in more transport walking. Living in high-income, high-walkable neighborhoods and having better functioning might also be beneficial for more engagement in moderate-to-vigorous physical activity. This might suggest a protective role of neighborhood walkability for preventing declining physical functioning and consequently decreasing physical activity levels in older adults. However, given the cross-sectional design of the present study, this suggestion needs to be confirmed through longitudinal assessment investigating over-time changes in the observed associations.     0.074469\n",
      "\\n        MRI is sensitive to tissue pathology in multiple sclerosis (MS); however, most lesional MRI findings have limited correlation with disability. Chronic T1 hypointense lesions or “T1 black holes” (T1BH), observed in a subset of MS patients and thought to represent axonal damage, show moderate to strong correlation with disability. The pathogenesis of T1BH remains unclear. We previously reported the first and as of yet only model of T1BH formation in the Theiler's murine encephalitis virus induced model of acute CNS neuroinflammation induced injury, where CD8 T-cells are critical mediators of axonal damage and related T1BH formation. The purpose of this study was to further analyze the role of CD8 and CD4 T-cells through adoptive transfer experiments and to determine if the relevant CD8 T-cells are classic epitope specific lymphocytes or different subsets. C57BL/6 mice were used as donors and RAG-1 deficient mice as hosts in our adoptive transfer experiments. In vivo 3-dimensional MRI images were acquired using a 7 Tesla small animal MRI system. For image analysis, we used semi-automated methods in Analyze 9.1; transfer efficiency was monitored using FACS of brain infiltrating lymphocytes. Using a peptide depletion method, we demonstrated that the majority of CD8 T-cells are classic epitope specific cytotoxic cells. CD8 T-cell transfer successfully restored the immune system's capability to mediate T1BH formation in animals that lack adaptive immune system, whereas CD4 T-cell transfer results in an attenuated phenotype with significantly less T1BH formation. These findings demonstrate contrasting roles for these cell types, with additional evidence for a direct pathogenic role of CD8 T-cells in our model of T1 black hole formation.\\n                                                                                                                                                                                                                                                                                                                                                                                                                                                                                                                                                                                                                                                                                                                                                                                                                                                                                                                                                                                                                                                                                                                                                                                                                                    0.067271\n",
      "Name: 2, dtype: float64\n",
      "Component 3:\n",
      "Background: Better physical functioning in the elderly may be associated with higher physical activity levels. Since older adults spend a substantial part of the day in their residential neighborhood, the neighborhood physical environment may moderate associations between functioning and older adults’ physical activity. The present study investigated the moderating role of the objective and perceived physical environment on associations between Belgian older adults’ physical functioning and transport walking, recreational walking, and moderate-to-vigorous physical activity. Methods: Data from 438 older adults were included. Objective physical functioning was assessed using the Short Physical Performance Battery. Potential moderators included objective neighborhood walkability and perceptions of land use mix diversity, access to recreational facilities, access to services, street connectivity, physical barriers for walking, aesthetics, crime-related safety, traffic speeding-related safety, and walking infrastructure. Transport and recreational walking were self-reported, moderate-to-vigorous physical activity was assessed through accelerometers. Multi-level regression analyses were conducted using MLwiN to examine two-way interactions between functioning and the environment on both walking outcomes. Based on a previous study where environment x neighborhood income associations were found for Belgian older adults’ moderate-to-vigorous physical activity, three-way functioning x environment x income interactions were examined for moderate-to-vigorous physical activity. Results: Objectively-measured walkability moderated the association between functioning and transport walking; this positive association was only present in high-walkable neighborhoods. Moreover, a three-way interaction was observed for moderate-to-vigorous physical activity. Only in high-income, high-walkable neighborhoods, there was a positive association between functioning and moderate-to-vigorous physical activity. No functioning x walkability interactions were observed for recreational walking, and none of the perceived environmental variables moderated the positive association between physical functioning and the physical activity outcomes. Conclusions: For older adults with better physical functioning, living in a high-walkable neighborhood could be beneficial to engage in more transport walking. Living in high-income, high-walkable neighborhoods and having better functioning might also be beneficial for more engagement in moderate-to-vigorous physical activity. This might suggest a protective role of neighborhood walkability for preventing declining physical functioning and consequently decreasing physical activity levels in older adults. However, given the cross-sectional design of the present study, this suggestion needs to be confirmed through longitudinal assessment investigating over-time changes in the observed associations.     0.615684\n",
      "\\nThis year we celebrate the 150th anniversary of the law of mass action. This law is often assumed to have been “there” forever, but it has its own history, background, and a definite starting point. The law has had an impact on chemistry, biochemistry, biomathematics, and systems biology that is difficult to overestimate. It is easily recognized that it is the direct basis for computational enzyme kinetics, ecological systems models, and models for the spread of diseases. The article reviews the explicit and implicit role of the law of mass action in systems biology and reveals how the original, more general formulation of the law emerged one hundred years later ab initio as a very general, canonical representation of biological processes.\\n                                                                                                                                                                                                                                                                                                                                                                                                                                                                                                                                                                                                                                                                                                                                                                                                                                                                                                                                                                                                                                                                                                                                                                                                                                                                                                                                                                                                                                                                                                                                                                                                                                                                                                                                                                                                                                                                                                                                                                                                                                                                                                                                                                                                                                                                                             0.542932\n",
      "                                                                                                                                                                                                                                                                                                                                                                                                                                                                                                                                                                                                                                                                                                                                                                                                                                                                                                                                                                                                                                                                                                                                                                                                                                                                                                                                                                                                                                                                                                                                                                                                                                                                                                                                                                                                                                                                                                                                                                                                                                                                                                                                                                                                                                                                                                                                                                                                                                                                                                                                                                                                                                                                                                                                                                                                                                                                                                                                                                                                                                                                              0.441596\n",
      "\\nTriadic relationships are accepted to play a key role in the dynamics of social and political networks. Building on insights gleaned from balance theory in social network studies and from Boltzmann-Gibbs statistical physics, we propose a model to quantitatively capture the dynamics of the four types of triadic relationships in a network. Central to our model are the triads’ incidence rates and the idea that those can be modeled by assigning a specific triadic energy to each type of triadic relation. We emphasize the role of the degeneracy of the different triads and how it impacts the degree of frustration in the political network. In order to account for a persistent form of disorder in the formation of the triadic relationships, we introduce the systemic variable temperature. In order to learn about the dynamics and motives, we propose a generic Hamiltonian with three terms to model the triadic energies. One term is connected with a three-body interaction that captures balance theory. The other terms take into account the impact of heterogeneity and of negative edges in the triads. The validity of our model is tested on four datasets including the time series of triadic relationships for the standings between two classes of alliances in a massively multiplayer online game (MMOG). We also analyze real-world data for the relationships between the “agents” involved in the Syrian civil war, and in the relations between countries during the Cold War era. We find emerging properties in the triadic relationships in a political network, for example reflecting itself in a persistent hierarchy between the four triadic energies, and in the consistency of the extracted parameters from comparing the model Hamiltonian to the data.\\n                                                                                                                                                                                                                                                                                                                                                                                                                                                                                                                                                                                                                                                                                                                                                                                                                                                                                                                                                                                                                                                                                                                                                                                                                                                      0.398571\n",
      "Background: Relatively little is known about the degree of inter-specific variability in visual scanning strategies in species with laterally placed eyes (e.g., birds). This is relevant because many species detect prey while perching; therefore, head movement behavior may be an indicator of prey detection rate, a central parameter in foraging models. We studied head movement strategies in three diurnal raptors belonging to the Accipitridae and Falconidae families. Methodology/Principal Findings: We used behavioral recording of individuals under field and captive conditions to calculate the rate of two types of head movements and the interval between consecutive head movements. Cooper's Hawks had the highest rate of regular head movements, which can facilitate tracking prey items in the visually cluttered environment they inhabit (e.g., forested habitats). On the other hand, Red-tailed Hawks showed long intervals between consecutive head movements, which is consistent with prey searching in less visually obstructed environments (e.g., open habitats) and with detecting prey movement from a distance with their central foveae. Finally, American Kestrels have the highest rates of translational head movements (vertical or frontal displacements of the head keeping the bill in the same direction), which have been associated with depth perception through motion parallax. Higher translational head movement rates may be a strategy to compensate for the reduced degree of eye movement of this species. Conclusions: Cooper's Hawks, Red-tailed Hawks, and American Kestrels use both regular and translational head movements, but to different extents. We conclude that these diurnal raptors have species-specific strategies to gather visual information while perching. These strategies may optimize prey search and detection with different visual systems in habitat types with different degrees of visual obstruction.                                                                                                                                                                                                                                                                                                                                                                                                                                                                                                                                                                                                                                                                                                                                                                                                                                                                                                                                                                                                                                                                         0.275017\n",
      "\\nDisease outbreaks can have substantial impacts on wild populations, but the often patchy or anecdotal evidence of these impacts impedes our ability to understand outbreak dynamics. Recently however, a severe disease outbreak occurred in a group of very well-studied organisms–sea stars along the west coast of North America. We analyzed nearly two decades of data from a coordinated monitoring effort at 88 sites ranging from southern British Columbia to San Diego, California along with 2 sites near Sitka, Alaska to better understand the effects of sea star wasting disease (SSWD) on the keystone intertidal predator, Pisaster ochraceus. Quantitative surveys revealed unprecedented declines of P. ochraceus in 2014 and 2015 across nearly the entire geographic range of the species. The intensity of the impact of SSWD was not uniform across the affected area, with proportionally greater population declines in the southern regions relative to the north. The degree of population decline was unrelated to pre-outbreak P. ochraceus density, although these factors have been linked in other well-documented disease events. While elevated seawater temperatures were not broadly linked to the initial emergence of SSWD, anomalously high seawater temperatures in 2014 and 2015 might have exacerbated the disease’s impact. Both before and after the onset of the SSWD outbreak, we documented higher recruitment of P. ochraceus in the north than in the south, and while some juveniles are surviving (as evidenced by transition of recruitment pulses to larger size classes), post-SSWD survivorship is lower than during pre-SSWD periods. In hindsight, our data suggest that the SSWD event defied prediction based on two factors found to be important in other marine disease events, sea water temperature and population density, and illustrate the importance of surveillance of natural populations as one element of an integrated approach to marine disease ecology. Low levels of SSWD-symptomatic sea stars are still present throughout the impacted range, thus the outlook for population recovery is uncertain.\\n                                                                                                                                                                                                                                                                                                                                                                                                                                                                                                                                                                                                                                                                                                                                                                                                                                                                                     0.274094\n",
      "                                                                                                                                                                                                                                                                                                                                                                                                                                                                                                                                                                                                                                                                                                                                                                                                                                                                                                                                                                                                                                                                                                                                                                                                                                                                                                                                                                                                                                                                                                                                                                                                                                                                                                                                                                                                                                                                                                                                                                                                                                                                                                                                                                                                                                                                                                                                                                                                                                                                                                                                                                                                                                                                                                                                                                                                                                                                                                                                                                                                                                                                              0.123637\n",
      "Background: Magnetic Resonance Imaging (MRI) is an established tool in diagnosing and evaluating disease activity in Multiple Sclerosis (MS). While clinical-radiological correlations are limited in general, hypointense T1 lesions (also known as Black Holes (BH)) have shown some promising results. The definition of BHs is very heterogeneous and depends on subjective visual evaluation. Objective: We aimed to improve clinical-radiological correlations by defining BHs using T1 relaxation time (T1-RT) thresholds to achieve best possible correlation between BH lesion volume and clinical disability. Method: 40 patients with mainly relapsing-remitting MS underwent MRI including 3-dimensional fluid attenuated inversion recovery (FLAIR), magnetization-prepared rapid gradient echo (MPRAGE) before and after Gadolinium (GD) injection and double inversion-contrast magnetization-prepared rapid gradient echo (MP2RAGE) sequences. BHs (BHvis) were marked by two raters on native T1-weighted (T1w)-MPRAGE, contrast-enhancing lesions (CE lesions) on T1w-MPRAGE after GD and FLAIR lesions (total-FLAIR lesions) were detected separately. BHvis and total-FLAIR lesion maps were registered to MP2RAGE images, and the mean T1-RT were calculated for all lesion ROIs. Mean T1 values of the cortex (CTX) were calculated for each patient. Subsequently, Spearman rank correlations between clinical scores (Expanded Disability Status Scale and Multiple Sclerosis Functional Composite) and lesion volume were determined for different T1-RT thresholds. Results: Significant differences in T1-RT were obtained between all different lesion types with highest T1 values in visually marked BHs (BHvis: 1453.3±213.4 ms, total-FLAIR lesions: 1394.33±187.38 ms, CTX: 1305.6±35.8 ms; p<0.05). Significant correlations between BHvis/total-FLAIR lesion volume and clinical disability were obtained for a wide range of T1-RT thresholds. The highest correlation for BHvis and total-FLAIR lesion masks were found at T1-RT>1500 ms (Expanded Disability Status Scale vs. lesion volume: rBHvis = 0.442 and rtotal-FLAIR = 0.497, p<0.05; Multiple Sclerosis Functional Composite vs. lesion volume: rBHvis = -0.53 and rtotal-FLAIR = -0.627, p<0.05). Conclusion: Clinical-radiological correlations in MS patients are increased by application of T1-RT thresholds. With the short acquisition time of the MP2RAGE sequences, quantitative T1 maps could be easily established in clinical studies.                                                                                                                                                                                                                                                                                                                                                                                                                                                                                                                             0.089663\n",
      "\\nIn big data area a significant challenge about string similarity join is to find all similar pairs more efficiently. In this paper, we propose a parallel processing framework for efficient string similarity join. First, the input is split into some disjoint small subsets according to the joint frequency distribution and the interval distribution of strings. Then the filter-verification strategy is adopted in the computation of string similarity for each subset so that the number of candidate pairs is reduced before an effective pruning strategy is used to improve the performance. Finally, the operation of string join is executed in parallel. Para-Join algorithm based on the multi-threading technique is proposed to implement the framework in a multi-core system while Pada-Join algorithm based on Spark platform is proposed to implement the framework in a cluster system. We prove that Para-Join and Pada-Join cannot only avoid reduplicate computation but also ensure the completeness of the result. Experimental results show that Para-Join can achieve high efficiency and significantly outperform than state-of-the-art approaches, meanwhile, Pada-Join can work on large datasets.\\n                                                                                                                                                                                                                                                                                                                                                                                                                                                                                                                                                                                                                                                                                                                                                                                                                                                                                                                                                                                                                                                                                                                                                                                                                                                                                                                                                                                                                                                                                                                                                                                                                                                                                                                                                                                                                                     0.064601\n",
      "\\n        The founding director of Singapore's Institute of Molecular and Cell Biology illustrates the rise of science in Asia.\\n                                                                                                                                                                                                                                                                                                                                                                                                                                                                                                                                                                                                                                                                                                                                                                                                                                                                                                                                                                                                                                                                                                                                                                                                                                                                                                                                                                                                                                                                                                                                                                                                                                                                                                                                                                                                                                                                                                                                                                                                                                                                                                                                                                                                                                                                                                                                                                                                                                                                                                                                                                                                                                                                                                                                                                                                                                                                                                                                             0.034235\n",
      "Name: 3, dtype: float64\n",
      "Component 4:\n",
      "\\nElectric guitar playing is ubiquitous in practically all modern music genres. In the hands of an experienced player, electric guitars can sound as expressive and distinct as a human voice. Unlike other more quantised instruments where pitch is a discrete function, guitarists can incorporate micro-tonality and, as a result, vibrato and sting-bending are idiosyncratic hallmarks of a player. Similarly, a wide variety of techniques unique to the electric guitar have emerged. While the mechano-acoustics of stringed instruments and vibrating strings are well studied, there has been comparatively little work dedicated to the underlying physics of unique electric guitar techniques and strings, nor the mechanical factors influencing vibrato, string-bending, fretting force and whammy-bar dynamics. In this work, models for these processes are derived and the implications for guitar and string design discussed. The string-bending model is experimentally validated using a variety of strings and vibrato dynamics are simulated. The implications of these findings on the configuration and design of guitars is also discussed.\\n                                                                                                                                                                                                                                                                                                                                                                                                                                                                                                                                                                                                                                                                                                                                                                                                                                                                                                                                                                                                                                                                                                                                                                                                                                                                                                                                                                             0.565437\n",
      "\\nIn big data area a significant challenge about string similarity join is to find all similar pairs more efficiently. In this paper, we propose a parallel processing framework for efficient string similarity join. First, the input is split into some disjoint small subsets according to the joint frequency distribution and the interval distribution of strings. Then the filter-verification strategy is adopted in the computation of string similarity for each subset so that the number of candidate pairs is reduced before an effective pruning strategy is used to improve the performance. Finally, the operation of string join is executed in parallel. Para-Join algorithm based on the multi-threading technique is proposed to implement the framework in a multi-core system while Pada-Join algorithm based on Spark platform is proposed to implement the framework in a cluster system. We prove that Para-Join and Pada-Join cannot only avoid reduplicate computation but also ensure the completeness of the result. Experimental results show that Para-Join can achieve high efficiency and significantly outperform than state-of-the-art approaches, meanwhile, Pada-Join can work on large datasets.\\n                                                                                                                                                                                                                                                                                                                                                                                                                                                                                                                                                                                                                                                                                                                                                                                                                                                                                                                                                                                                                                                                                                                                                                                                                                                                                                             0.514039\n",
      "\\n        The founding director of Singapore's Institute of Molecular and Cell Biology illustrates the rise of science in Asia.\\n                                                                                                                                                                                                                                                                                                                                                                                                                                                                                                                                                                                                                                                                                                                                                                                                                                                                                                                                                                                                                                                                                                                                                                                                                                                                                                                                                                                                                                                                                                                                                                                                                                                                                                                                                                                                                                                                                                                                                                                                                                                                                                                                                                                                                                                                                                                                                                                                                     0.358963\n",
      "                                                                                                                                                                                                                                                                                                                                                                                                                                                                                                                                                                                                                                                                                                                                                                                                                                                                                                                                                                                                                                                                                                                                                                                                                                                                                                                                                                                                                                                                                                                                                                                                                                                                                                                                                                                                                                                                                                                                                                                                                                                                                                                                                                                                                                                                                                                                                                                                                                                                                                                                                      0.193700\n",
      "\\nWith the emergence of the Web of Data, there is a need of tools for searching and exploring the growing amount of semantic data. Unfortunately, such tools are scarce and typically require knowledge of SPARQL/RDF. We propose here PepeSearch, a portable tool for searching semantic datasets devised for mainstream users. PepeSearch offers a multi-class search form automatically constructed from a SPARQL endpoint. We have tested PepeSearch with 15 participants searching a Linked Open Data version of the Norwegian Register of Business Enterprises for non-trivial challenges. Retrieval performance was encouragingly high and usability ratings were also very positive, thus suggesting that PepeSearch is effective for searching semantic datasets by mainstream users. We also assessed its portability by configuring PepeSearch to query other SPARQL endpoints.\\n                                                                                                                                                                                                                                                                                                                                                                                                                                                                                                                                                                                                                                                                                                                                                                                                                                                                                                                                                                                                                                                                                                                                                                                                                                                                                                                                                                                                                                                                                                                                                                                                                                                          0.188493\n",
      "Background: Transposable elements (TEs) are responsible for the generation of chromosomal inversions in several groups of organisms. However, in Drosophila and other Dipterans, where inversions are abundant both as intraspecific polymorphisms and interspecific fixed differences, the evidence for a role of TEs is scarce. Previous work revealed that the transposon Galileo was involved in the generation of two polymorphic inversions of Drosophila buzzatii. Methodology/Principal Findings: To assess the impact of TEs in Drosophila chromosomal evolution and shed light on the mechanism involved, we isolated and sequenced the two breakpoints of another widespread polymorphic inversion from D. buzzatii, 2z3. In the non inverted chromosome, the 2z3 distal breakpoint was located between genes CG2046 and CG10326 whereas the proximal breakpoint lies between two novel genes that we have named Dlh and Mdp. In the inverted chromosome, the analysis of the breakpoint sequences revealed relatively large insertions (2,870-bp and 4,786-bp long) including two copies of the transposon Galileo (subfamily Newton), one at each breakpoint, plus several other TEs. The two Galileo copies: (i) are inserted in opposite orientation; (ii) present exchanged target site duplications; and (iii) are both chimeric. Conclusions/Significance: Our observations provide the best evidence gathered so far for the role of TEs in the generation of Drosophila inversions. In addition, they show unequivocally that ectopic recombination is the causative mechanism. The fact that the three polymorphic D. buzzatii inversions investigated so far were generated by the same transposon family is remarkable and is conceivably due to Galileo's unusual structure and current (or recent) transpositional activity.                                                                                                                                                                                                                                                                                                                                                                                                                                                                                                                                                                                                                                                                                                 0.161647\n",
      "Background: Relatively little is known about the degree of inter-specific variability in visual scanning strategies in species with laterally placed eyes (e.g., birds). This is relevant because many species detect prey while perching; therefore, head movement behavior may be an indicator of prey detection rate, a central parameter in foraging models. We studied head movement strategies in three diurnal raptors belonging to the Accipitridae and Falconidae families. Methodology/Principal Findings: We used behavioral recording of individuals under field and captive conditions to calculate the rate of two types of head movements and the interval between consecutive head movements. Cooper's Hawks had the highest rate of regular head movements, which can facilitate tracking prey items in the visually cluttered environment they inhabit (e.g., forested habitats). On the other hand, Red-tailed Hawks showed long intervals between consecutive head movements, which is consistent with prey searching in less visually obstructed environments (e.g., open habitats) and with detecting prey movement from a distance with their central foveae. Finally, American Kestrels have the highest rates of translational head movements (vertical or frontal displacements of the head keeping the bill in the same direction), which have been associated with depth perception through motion parallax. Higher translational head movement rates may be a strategy to compensate for the reduced degree of eye movement of this species. Conclusions: Cooper's Hawks, Red-tailed Hawks, and American Kestrels use both regular and translational head movements, but to different extents. We conclude that these diurnal raptors have species-specific strategies to gather visual information while perching. These strategies may optimize prey search and detection with different visual systems in habitat types with different degrees of visual obstruction.                                                                                                                                                                                                                                                                                                                                                                                                                                                                                                                                                 0.150321\n",
      "                                                                                                                                                                                                                                                                                                                                                                                                                                                                                                                                                                                                                                                                                                                                                                                                                                                                                                                                                                                                                                                                                                                                                                                                                                                                                                                                                                                                                                                                                                                                                                                                                                                                                                                                                                                                                                                                                                                                                                                                                                                                                                                                                                                                                                                                                                                                                                                                                                                                                                                                                      0.107808\n",
      "Background: Magnetic Resonance Imaging (MRI) is an established tool in diagnosing and evaluating disease activity in Multiple Sclerosis (MS). While clinical-radiological correlations are limited in general, hypointense T1 lesions (also known as Black Holes (BH)) have shown some promising results. The definition of BHs is very heterogeneous and depends on subjective visual evaluation. Objective: We aimed to improve clinical-radiological correlations by defining BHs using T1 relaxation time (T1-RT) thresholds to achieve best possible correlation between BH lesion volume and clinical disability. Method: 40 patients with mainly relapsing-remitting MS underwent MRI including 3-dimensional fluid attenuated inversion recovery (FLAIR), magnetization-prepared rapid gradient echo (MPRAGE) before and after Gadolinium (GD) injection and double inversion-contrast magnetization-prepared rapid gradient echo (MP2RAGE) sequences. BHs (BHvis) were marked by two raters on native T1-weighted (T1w)-MPRAGE, contrast-enhancing lesions (CE lesions) on T1w-MPRAGE after GD and FLAIR lesions (total-FLAIR lesions) were detected separately. BHvis and total-FLAIR lesion maps were registered to MP2RAGE images, and the mean T1-RT were calculated for all lesion ROIs. Mean T1 values of the cortex (CTX) were calculated for each patient. Subsequently, Spearman rank correlations between clinical scores (Expanded Disability Status Scale and Multiple Sclerosis Functional Composite) and lesion volume were determined for different T1-RT thresholds. Results: Significant differences in T1-RT were obtained between all different lesion types with highest T1 values in visually marked BHs (BHvis: 1453.3±213.4 ms, total-FLAIR lesions: 1394.33±187.38 ms, CTX: 1305.6±35.8 ms; p<0.05). Significant correlations between BHvis/total-FLAIR lesion volume and clinical disability were obtained for a wide range of T1-RT thresholds. The highest correlation for BHvis and total-FLAIR lesion masks were found at T1-RT>1500 ms (Expanded Disability Status Scale vs. lesion volume: rBHvis = 0.442 and rtotal-FLAIR = 0.497, p<0.05; Multiple Sclerosis Functional Composite vs. lesion volume: rBHvis = -0.53 and rtotal-FLAIR = -0.627, p<0.05). Conclusion: Clinical-radiological correlations in MS patients are increased by application of T1-RT thresholds. With the short acquisition time of the MP2RAGE sequences, quantitative T1 maps could be easily established in clinical studies.     0.107739\n",
      "\\n        MRI is sensitive to tissue pathology in multiple sclerosis (MS); however, most lesional MRI findings have limited correlation with disability. Chronic T1 hypointense lesions or “T1 black holes” (T1BH), observed in a subset of MS patients and thought to represent axonal damage, show moderate to strong correlation with disability. The pathogenesis of T1BH remains unclear. We previously reported the first and as of yet only model of T1BH formation in the Theiler's murine encephalitis virus induced model of acute CNS neuroinflammation induced injury, where CD8 T-cells are critical mediators of axonal damage and related T1BH formation. The purpose of this study was to further analyze the role of CD8 and CD4 T-cells through adoptive transfer experiments and to determine if the relevant CD8 T-cells are classic epitope specific lymphocytes or different subsets. C57BL/6 mice were used as donors and RAG-1 deficient mice as hosts in our adoptive transfer experiments. In vivo 3-dimensional MRI images were acquired using a 7 Tesla small animal MRI system. For image analysis, we used semi-automated methods in Analyze 9.1; transfer efficiency was monitored using FACS of brain infiltrating lymphocytes. Using a peptide depletion method, we demonstrated that the majority of CD8 T-cells are classic epitope specific cytotoxic cells. CD8 T-cell transfer successfully restored the immune system's capability to mediate T1BH formation in animals that lack adaptive immune system, whereas CD4 T-cell transfer results in an attenuated phenotype with significantly less T1BH formation. These findings demonstrate contrasting roles for these cell types, with additional evidence for a direct pathogenic role of CD8 T-cells in our model of T1 black hole formation.\\n                                                                                                                                                                                                                                                                                                                                                                                                                                                                                                                                                                                                                                                                                                            0.097163\n",
      "Name: 4, dtype: float64\n"
     ]
    }
   ],
   "source": [
    "from sklearn.decomposition import TruncatedSVD\n",
    "from sklearn.pipeline import make_pipeline\n",
    "from sklearn.preprocessing import Normalizer\n",
    "\n",
    "#Our SVD data reducer.  We are going to reduce the feature space from 260 to 130.\n",
    "svd= TruncatedSVD(130)\n",
    "lsa = make_pipeline(svd, Normalizer(copy=False))\n",
    "# Run SVD on the training data, then project the training data.\n",
    "X_train_lsa = lsa.fit_transform(X_train_tfidf)\n",
    "\n",
    "variance_explained=svd.explained_variance_ratio_\n",
    "total_variance = variance_explained.sum()\n",
    "print(\"Percent variance captured by all components:\",total_variance*100)\n",
    "\n",
    "#Looking at what sorts of paragraphs our solution considers similar, for the first five identified topics\n",
    "paras_by_component=pd.DataFrame(X_train_lsa,index=X_train)\n",
    "for i in range(5):\n",
    "    print('Component {}:'.format(i))\n",
    "    print(paras_by_component.loc[:,i].sort_values(ascending=False)[0:10])\n"
   ]
  },
  {
   "cell_type": "markdown",
   "metadata": {},
   "source": [
    "There is clearly overfitting, and variance explained is 100 %.\n",
    "\n",
    "Similarity between paragraphs:"
   ]
  },
  {
   "cell_type": "code",
   "execution_count": 24,
   "metadata": {},
   "outputs": [
    {
     "data": {
      "image/png": "[encoded data removed]",
      "text/plain": [
       "<matplotlib.figure.Figure at 0x7fe5562a5e80>"
      ]
     },
     "metadata": {},
     "output_type": "display_data"
    },
    {
     "name": "stdout",
     "output_type": "stream",
     "text": [
      "Key:\n",
      "0 Background: Transposable elements (TEs) are responsible for the generation of chromosomal inversions in several groups of organisms. However, in Drosophila and other Dipterans, where inversions are abundant both as intraspecific polymorphisms and interspecific fixed differences, the evidence for a role of TEs is scarce. Previous work revealed that the transposon Galileo was involved in the generation of two polymorphic inversions of Drosophila buzzatii. Methodology/Principal Findings: To assess the impact of TEs in Drosophila chromosomal evolution and shed light on the mechanism involved, we isolated and sequenced the two breakpoints of another widespread polymorphic inversion from D. buzzatii, 2z3. In the non inverted chromosome, the 2z3 distal breakpoint was located between genes CG2046 and CG10326 whereas the proximal breakpoint lies between two novel genes that we have named Dlh and Mdp. In the inverted chromosome, the analysis of the breakpoint sequences revealed relatively large insertions (2,870-bp and 4,786-bp long) including two copies of the transposon Galileo (subfamily Newton), one at each breakpoint, plus several other TEs. The two Galileo copies: (i) are inserted in opposite orientation; (ii) present exchanged target site duplications; and (iii) are both chimeric. Conclusions/Significance: Our observations provide the best evidence gathered so far for the role of TEs in the generation of Drosophila inversions. In addition, they show unequivocally that ectopic recombination is the causative mechanism. The fact that the three polymorphic D. buzzatii inversions investigated so far were generated by the same transposon family is remarkable and is conceivably due to Galileo's unusual structure and current (or recent) transpositional activity. \n",
      "1 \n",
      "        This review presents a comprehensive overview of the current status regarding the global diversity of the echinoderm class Ophiuroidea, focussing on taxonomy and distribution patterns, with brief introduction to their anatomy, biology, phylogeny, and palaeontological history. A glossary of terms is provided. Species names and taxonomic decisions have been extracted from the literature and compiled in The World Ophiuroidea Database, part of the World Register of Marine Species (WoRMS). Ophiuroidea, with 2064 known species, are the largest class of Echinodermata. A table presents 16 families with numbers of genera and species. The largest are Amphiuridae (467), Ophiuridae (344 species) and Ophiacanthidae (319 species). A biogeographic analysis for all world oceans and all accepted species was performed, based on published distribution records. Approximately similar numbers of species were recorded from the shelf (n = 1313) and bathyal depth strata (1297). The Indo-Pacific region had the highest species richness overall (825 species) and at all depths. Adjacent regions were also relatively species rich, including the North Pacific (398), South Pacific (355) and Indian (316) due to the presence of many Indo-Pacific species that partially extended into these regions. A secondary region of enhanced species richness was found in the West Atlantic (335). Regions of relatively low species richness include the Arctic (73 species), East Atlantic (118), South America (124) and Antarctic (126).\n",
      "      \n",
      "2 \n",
      "3 \n",
      "4 \n",
      "String-pulling is one of the most popular tests in animal cognition because of its apparent complexity, and of its potential to be applied to very different taxa. In birds, the basic procedure involves a food reward, suspended from a perch by a string, which can be reached by a series of coordinated pulling actions with the beak and holding actions of the pulled lengths of string with the foot. The taxonomic distribution of species that pass the test includes several corvids, parrots and parids, but in other families, data are much spottier and the number of individuals per species that succeed is often low. To date, the association between string-pulling ability and other cognitive traits was never tested. It is generally assumed that string-pulling is a complex form of problem-solving, suggesting that performance on string-pulling and other problem-solving tasks should be correlated. Here, we show that individuals of two innovative species from Barbados, the bullfinch Loxigilla barbadensis and the Carib grackle Quiscalus lugubris fortirostris, pass the string-pulling test. Eighteen of the 42 bullfinches tested succeeded, allowing us to correlate performance on this test to that on several other behavioral measurements. Surprisingly, string-pulling in bullfinches was unrelated to shyness, neophobia, problem-solving, discrimination and reversal learning performance. Only two of 31 grackles tested succeeded, precluding correlational analyses with other measures but still, the two successful birds largely differed in their other behavioral traits.\n",
      "\n",
      "5 \n",
      "In big data area a significant challenge about string similarity join is to find all similar pairs more efficiently. In this paper, we propose a parallel processing framework for efficient string similarity join. First, the input is split into some disjoint small subsets according to the joint frequency distribution and the interval distribution of strings. Then the filter-verification strategy is adopted in the computation of string similarity for each subset so that the number of candidate pairs is reduced before an effective pruning strategy is used to improve the performance. Finally, the operation of string join is executed in parallel. Para-Join algorithm based on the multi-threading technique is proposed to implement the framework in a multi-core system while Pada-Join algorithm based on Spark platform is proposed to implement the framework in a cluster system. We prove that Para-Join and Pada-Join cannot only avoid reduplicate computation but also ensure the completeness of the result. Experimental results show that Para-Join can achieve high efficiency and significantly outperform than state-of-the-art approaches, meanwhile, Pada-Join can work on large datasets.\n",
      "\n",
      "6 \n",
      "7 \n",
      "        When a gash or gouge is made in a confluent layer of epithelial cells, the cells move to fill in the “wound.” In some cases, such as in wounded embryonic chick wing buds, the movement of the cells is driven by cortical actin contraction (i.e., a purse string mechanism). In adult tissue, though, cells apparently crawl to close wounds. At the single cell level, this crawling is driven by the dynamics of the cell's actin cytoskeleton, which is regulated by a complex biochemical network, and cell signaling has been proposed to play a significant role in directing cells to move into the denuded area. However, wounds made in monolayers of Madin-Darby canine kidney (MDCK) cells still close even when a row of cells is deactivated at the periphery of the wound, and recent experiments show complex, highly-correlated cellular motions that extend tens of cell lengths away from the boundary. These experiments suggest a dominant role for mechanics in wound healing. Here we present a biophysical description of the collective migration of epithelial cells during wound healing based on the basic motility of single cells and cell-cell interactions. This model quantitatively captures the dynamics of wound closure and reproduces the complex cellular flows that are observed. These results suggest that wound healing is predominantly a mechanical process that is modified, but not produced, by cell-cell signaling.\n",
      "      Author Summary: Wound healing is driven by the collective migration of groups of epithelial cells. Experiments have shown that the motions of cells during wound healing are not as simple as had once been thought. Indeed, cells do not just move out to fill in the wounded area but rather undergo a number of complex but coordinated motions. Furthermore, wound healing is not just a response to chemical cues and can be driven by cells that are not immediately at the edge of the wound. In this paper, we develop a mathematical model based on the mechanical behavior of single crawling cells and also includes cell-cell adhesion. We show that this model is capable of explaining quantitatively the dynamics that occur during wound healing assays. This suggests that wound healing is largely a mechanical process where chemical signaling merely acts to augment the overall behavior. \n",
      "8 \n",
      "Disease outbreaks can have substantial impacts on wild populations, but the often patchy or anecdotal evidence of these impacts impedes our ability to understand outbreak dynamics. Recently however, a severe disease outbreak occurred in a group of very well-studied organisms–sea stars along the west coast of North America. We analyzed nearly two decades of data from a coordinated monitoring effort at 88 sites ranging from southern British Columbia to San Diego, California along with 2 sites near Sitka, Alaska to better understand the effects of sea star wasting disease (SSWD) on the keystone intertidal predator, Pisaster ochraceus. Quantitative surveys revealed unprecedented declines of P. ochraceus in 2014 and 2015 across nearly the entire geographic range of the species. The intensity of the impact of SSWD was not uniform across the affected area, with proportionally greater population declines in the southern regions relative to the north. The degree of population decline was unrelated to pre-outbreak P. ochraceus density, although these factors have been linked in other well-documented disease events. While elevated seawater temperatures were not broadly linked to the initial emergence of SSWD, anomalously high seawater temperatures in 2014 and 2015 might have exacerbated the disease’s impact. Both before and after the onset of the SSWD outbreak, we documented higher recruitment of P. ochraceus in the north than in the south, and while some juveniles are surviving (as evidenced by transition of recruitment pulses to larger size classes), post-SSWD survivorship is lower than during pre-SSWD periods. In hindsight, our data suggest that the SSWD event defied prediction based on two factors found to be important in other marine disease events, sea water temperature and population density, and illustrate the importance of surveillance of natural populations as one element of an integrated approach to marine disease ecology. Low levels of SSWD-symptomatic sea stars are still present throughout the impacted range, thus the outlook for population recovery is uncertain.\n",
      "\n",
      "9 \n"
     ]
    }
   ],
   "source": [
    "# Compute document similarity using LSA components\n",
    "similarity = np.asarray(np.asmatrix(X_train_lsa) * np.asmatrix(X_train_lsa).T)\n",
    "#Only taking the first 10 sentences\n",
    "sim_matrix=pd.DataFrame(similarity,index=X_train).iloc[0:10,0:10]\n",
    "#Making a plot\n",
    "ax = sns.heatmap(sim_matrix,yticklabels=range(10))\n",
    "plt.show()\n",
    "\n",
    "#Generating a key for the plot.\n",
    "print('Key:')\n",
    "for i in range(10):\n",
    "    print(i,sim_matrix.index[i])"
   ]
  },
  {
   "cell_type": "markdown",
   "metadata": {},
   "source": [
    "Clearly there is a low similarity."
   ]
  },
  {
   "cell_type": "markdown",
   "metadata": {},
   "source": [
    "### Supervised Learning Models to Predict Outcomes\n",
    "Using BOW features we will predict outcomes using Radom Forest Classifier, Logistic Regression, and Gradient Boosting Classifier."
   ]
  },
  {
   "cell_type": "code",
   "execution_count": 25,
   "metadata": {},
   "outputs": [
    {
     "name": "stdout",
     "output_type": "stream",
     "text": [
      "Training set score: 0.931226765799\n",
      "\n",
      "Test set score: 0.769444444444\n"
     ]
    }
   ],
   "source": [
    "from sklearn.ensemble import RandomForestClassifier\n",
    "\n",
    "rfc = RandomForestClassifier()\n",
    "Y = word_counts['text_source']\n",
    "X = np.array(word_counts.drop(['text_sentence','text_source'], 1))\n",
    "\n",
    "X_train, X_test, y_train, y_test = train_test_split(X, \n",
    "                                                    Y,\n",
    "                                                    test_size=0.4,\n",
    "                                                    random_state=0)\n",
    "train = rfc.fit(X_train, y_train)\n",
    "\n",
    "print('Training set score:', rfc.score(X_train, y_train))\n",
    "print('\\nTest set score:', rfc.score(X_test, y_test))"
   ]
  },
  {
   "cell_type": "code",
   "execution_count": 26,
   "metadata": {},
   "outputs": [
    {
     "name": "stdout",
     "output_type": "stream",
     "text": [
      "(538, 2261) (538,)\n",
      "Training set score: 0.934944237918\n",
      "\n",
      "Test set score: 0.852777777778\n"
     ]
    }
   ],
   "source": [
    "from sklearn.linear_model import LogisticRegression\n",
    "\n",
    "lr = LogisticRegression()\n",
    "train = lr.fit(X_train, y_train)\n",
    "print(X_train.shape, y_train.shape)\n",
    "print('Training set score:', lr.score(X_train, y_train))\n",
    "print('\\nTest set score:', lr.score(X_test, y_test))"
   ]
  },
  {
   "cell_type": "code",
   "execution_count": 27,
   "metadata": {},
   "outputs": [
    {
     "name": "stdout",
     "output_type": "stream",
     "text": [
      "Training set score: 0.931226765799\n",
      "\n",
      "Test set score: 0.788888888889\n"
     ]
    }
   ],
   "source": [
    "from sklearn.ensemble import GradientBoostingClassifier\n",
    "clf = GradientBoostingClassifier()\n",
    "train = clf.fit(X_train, y_train)\n",
    "\n",
    "print('Training set score:', clf.score(X_train, y_train))\n",
    "print('\\nTest set score:', clf.score(X_test, y_test))"
   ]
  },
  {
   "cell_type": "markdown",
   "metadata": {},
   "source": [
    "Logistic regression had the highest score for the test set.\n",
    "\n",
    "#### Optimizing Logistic Regression Model\n",
    "\n",
    "Reducing number of common words:"
   ]
  },
  {
   "cell_type": "code",
   "execution_count": 28,
   "metadata": {},
   "outputs": [],
   "source": [
    "def bag_of_words2(text):\n",
    "    allwords = [token.lemma_\n",
    "               for token in text\n",
    "               if not token.is_punct\n",
    "               and not token.is_stop]\n",
    "    return [item[0] for item in Counter(allwords).most_common(1000)]\n",
    "#word_counts2 = bow_features(sentences2, common_words2)\n",
    "#word_counts2.head()"
   ]
  },
  {
   "cell_type": "markdown",
   "metadata": {},
   "source": [
    "Adding entries:"
   ]
  },
  {
   "cell_type": "code",
   "execution_count": 29,
   "metadata": {
    "collapsed": true,
    "scrolled": true
   },
   "outputs": [],
   "source": [
    "response1b = requests.get(r'http://api.plos.org/search?q=title:\"physics\"&fl=abstract&wt=json&api_key=7ujScsFm2osdMw6ozx4g')\n",
    "response2b = requests.get(r'http://api.plos.org/search?q=title:\"stars\"&fl=abstract&wt=json&api_key=7ujScsFm2osdMw6ozx4g')\n",
    "response3b = requests.get(r'http://api.plos.org/search?q=title:\"black holes\"&fl=abstract&wt=json&api_key=7ujScsFm2osdMw6ozx4g')\n",
    "response4b = requests.get(r'http://api.plos.org/search?q=title:\"strings\"&fl=abstract&wt=json&api_key=7ujScsFm2osdMw6ozx4g')\n",
    "response5b = requests.get(r'http://api.plos.org/search?q=title:\"mass\"&fl=abstract&wt=json&api_key=7ujScsFm2osdMw6ozx4g')\n",
    "response6b = requests.get(r'http://api.plos.org/search?q=title:\"hawking\"&fl=abstract&wt=json&api_key=7ujScsFm2osdMw6ozx4g')\n",
    "response7b = requests.get(r'http://api.plos.org/search?q=title:\"galileo\"&fl=abstract&wt=json&api_key=7ujScsFm2osdMw6ozx4g')"
   ]
  },
  {
   "cell_type": "markdown",
   "metadata": {
    "scrolled": false
   },
   "source": [
    "Creating usable data:"
   ]
  },
  {
   "cell_type": "code",
   "execution_count": 30,
   "metadata": {
    "collapsed": true
   },
   "outputs": [],
   "source": [
    "physics_raw2 = response1.json()\n",
    "stars_raw2 = response2.json()\n",
    "black_raw2 = response3.json()\n",
    "strings_raw2 = response4.json()\n",
    "mass_raw2 = response5.json()\n",
    "astrophysics_raw2 = response6.json()\n",
    "galileo_raw2 = response7.json()"
   ]
  },
  {
   "cell_type": "code",
   "execution_count": 31,
   "metadata": {},
   "outputs": [
    {
     "data": {
      "text/plain": [
       "\"'''Background: Physical function is a crucial factor in the prevention and treatment of health conditions in older adults and is usually measured objectively with physical performance tests and/or phy\""
      ]
     },
     "execution_count": 31,
     "metadata": {},
     "output_type": "execute_result"
    }
   ],
   "source": [
    "physics = ''\n",
    "for article in physics_raw2['response']['docs']:\n",
    "    art = re.sub(r'[\\[\\]]','', str(article['abstract']))\n",
    "    physics = physics + art\n",
    "\n",
    "physics[0:200]"
   ]
  },
  {
   "cell_type": "code",
   "execution_count": 32,
   "metadata": {},
   "outputs": [
    {
     "data": {
      "text/plain": [
       "'\"\\\\n        The founding director of Singapore\\'s Institute of Molecular and Cell Biology illustrates the rise of science in Asia.\\\\n      \"\\'\\\\nDisease outbreaks can have substantial impacts on wild popul'"
      ]
     },
     "execution_count": 32,
     "metadata": {},
     "output_type": "execute_result"
    }
   ],
   "source": [
    "stars = ''\n",
    "for article in stars_raw2['response']['docs']:\n",
    "    art = re.sub(r'[\\[\\]]','', str(article['abstract']))\n",
    "    stars = stars + art\n",
    "\n",
    "stars[0:200]"
   ]
  },
  {
   "cell_type": "code",
   "execution_count": 33,
   "metadata": {
    "scrolled": true
   },
   "outputs": [
    {
     "data": {
      "text/plain": [
       "\"'\\\\nIt has been suggested that innovations occur mainly by combination: the more inventions accumulate, the higher the probability that new inventions are obtained from previous designs. Additionally, \""
      ]
     },
     "execution_count": 33,
     "metadata": {},
     "output_type": "execute_result"
    }
   ],
   "source": [
    "black = ''\n",
    "for article in black_raw['response']['docs']:\n",
    "    art = re.sub(r'[\\[\\]]','', str(article['abstract']))\n",
    "    black = black + art\n",
    "\n",
    "black[0:200]"
   ]
  },
  {
   "cell_type": "code",
   "execution_count": 34,
   "metadata": {},
   "outputs": [
    {
     "data": {
      "text/plain": [
       "\"'\\\\nElectric guitar playing is ubiquitous in practically all modern music genres. In the hands of an experienced player, electric guitars can sound as expressive and distinct as a human voice. Unlike o\""
      ]
     },
     "execution_count": 34,
     "metadata": {},
     "output_type": "execute_result"
    }
   ],
   "source": [
    "strings = ''\n",
    "for article in strings_raw2['response']['docs']:\n",
    "    art = re.sub(r'[\\[\\]]','', str(article['abstract']))\n",
    "    strings = strings + art\n",
    "\n",
    "strings[0:200]"
   ]
  },
  {
   "cell_type": "code",
   "execution_count": 35,
   "metadata": {},
   "outputs": [
    {
     "data": {
      "text/plain": [
       "\"'\\\\nIt has been suggested that innovations occur mainly by combination: the more inventions accumulate, the higher the probability that new inventions are obtained from previous designs. Additionally, \""
      ]
     },
     "execution_count": 35,
     "metadata": {},
     "output_type": "execute_result"
    }
   ],
   "source": [
    "mass = ''\n",
    "for article in mass_raw2['response']['docs']:\n",
    "    art = re.sub(r'[\\[\\]]','', str(article['abstract']))\n",
    "    mass = black + mass\n",
    "\n",
    "mass[0:200]"
   ]
  },
  {
   "cell_type": "code",
   "execution_count": 36,
   "metadata": {},
   "outputs": [
    {
     "data": {
      "text/plain": [
       "\"'\\\\nSwainson’s hawks (Buteo swainsoni) are long-distance migratory raptors that nest primarily in isolated trees located in areas of high grassland density. In recent years, anthropogenic conversion of\""
      ]
     },
     "execution_count": 36,
     "metadata": {},
     "output_type": "execute_result"
    }
   ],
   "source": [
    "astrophysics = ''\n",
    "for article in astrophysics_raw2['response']['docs']:\n",
    "    art = re.sub(r'[\\[\\]]','', str(article['abstract']))\n",
    "    astrophysics = astrophysics + art\n",
    "\n",
    "astrophysics[0:200]"
   ]
  },
  {
   "cell_type": "code",
   "execution_count": 37,
   "metadata": {},
   "outputs": [
    {
     "data": {
      "text/plain": [
       "'\"Background: Transposable elements (TEs) are responsible for the generation of chromosomal inversions in several groups of organisms. However, in Drosophila and other Dipterans, where inversions are a'"
      ]
     },
     "execution_count": 37,
     "metadata": {},
     "output_type": "execute_result"
    }
   ],
   "source": [
    "galileo = ''\n",
    "for article in galileo_raw2['response']['docs']:\n",
    "    art = re.sub(r'[\\[\\]]','', str(article['abstract']))\n",
    "    galileo = galileo + art\n",
    "\n",
    "galileo[0:200]"
   ]
  },
  {
   "cell_type": "code",
   "execution_count": 38,
   "metadata": {
    "collapsed": true,
    "scrolled": false
   },
   "outputs": [],
   "source": [
    "physics_clean2 = text_cleaner(physics)\n",
    "stars_clean2 = text_cleaner(stars)\n",
    "black_clean2 = text_cleaner(black)\n",
    "strings_clean2 = text_cleaner(strings)\n",
    "mass_clean2 = text_cleaner(mass)\n",
    "astrophysics_clean2 = text_cleaner(astrophysics)\n",
    "galileo_clean2 = text_cleaner(galileo)"
   ]
  },
  {
   "cell_type": "code",
   "execution_count": 39,
   "metadata": {
    "collapsed": true
   },
   "outputs": [],
   "source": [
    "physics_doc2 = nlp(physics_clean)\n",
    "stars_doc2 = nlp(stars_clean)\n",
    "black_doc2 = nlp(black_clean)\n",
    "strings_doc2 = nlp(strings_clean)\n",
    "mass_doc2 = nlp(mass_clean)\n",
    "astrophysics_doc2 = nlp(astrophysics_clean)\n",
    "galileo_doc2 = nlp(galileo_clean)"
   ]
  },
  {
   "cell_type": "markdown",
   "metadata": {},
   "source": [
    "Splitting topics"
   ]
  },
  {
   "cell_type": "code",
   "execution_count": 40,
   "metadata": {},
   "outputs": [
    {
     "name": "stdout",
     "output_type": "stream",
     "text": [
      "898\n"
     ]
    }
   ],
   "source": [
    "physics_sents2 = [[sent, 'Physics'] for sent in physics_doc2.sents]\n",
    "stars_sents2 = [[sent, 'Stars'] for sent in stars_doc2.sents]\n",
    "black_sents2 = [[sent, 'Black Holes'] for sent in black_doc2.sents]\n",
    "strings_sents2 = [[sent, 'Strings'] for sent in strings_doc2.sents]\n",
    "mass_sents2 = [[sent, 'Mass'] for sent in mass_doc2.sents]\n",
    "astrophysics_sents2 = [[sent, 'Astrophysics'] for sent in astrophysics_doc2.sents]\n",
    "galileo_sents2 = [[sent, 'Galileo'] for sent in galileo_doc2.sents]\n",
    "\n",
    "sentences2 = pd.DataFrame(physics_sents2 + stars_sents2 + black_sents2 + strings_sents2 + mass_sents2 + astrophysics_sents2 + galileo_sents2)\n",
    "sentences2.head()\n",
    "print(len(sentences2))"
   ]
  },
  {
   "cell_type": "markdown",
   "metadata": {},
   "source": [
    "Identifying common words."
   ]
  },
  {
   "cell_type": "code",
   "execution_count": 41,
   "metadata": {
    "collapsed": true
   },
   "outputs": [],
   "source": [
    "physics_words2 = bag_of_words(physics_doc2)\n",
    "stars_words2 = bag_of_words(stars_doc2)\n",
    "black_words2 = bag_of_words(black_doc2)\n",
    "strings_words2 = bag_of_words(strings_doc2)\n",
    "mass_words2 = bag_of_words(mass_doc2)\n",
    "astrophysics_words2 = bag_of_words(astrophysics_doc2)\n",
    "galileo_words2 = bag_of_words(galileo_doc2)\n",
    "\n",
    "common_words2 = set(physics_words2 + stars_words2 + black_words2 + strings_words2 + mass_words2 + astrophysics_words2 + galileo_words2)"
   ]
  },
  {
   "cell_type": "markdown",
   "metadata": {},
   "source": [
    "Creating features:"
   ]
  },
  {
   "cell_type": "code",
   "execution_count": 42,
   "metadata": {},
   "outputs": [
    {
     "name": "stdout",
     "output_type": "stream",
     "text": [
      "Processing row 0\n",
      "Processing row 100\n",
      "Processing row 200\n",
      "Processing row 300\n",
      "Processing row 400\n",
      "Processing row 500\n",
      "Processing row 600\n",
      "Processing row 700\n",
      "Processing row 800\n"
     ]
    },
    {
     "data": {
      "text/html": [
       "<div>\n",
       "<style scoped>\n",
       "    .dataframe tbody tr th:only-of-type {\n",
       "        vertical-align: middle;\n",
       "    }\n",
       "\n",
       "    .dataframe tbody tr th {\n",
       "        vertical-align: top;\n",
       "    }\n",
       "\n",
       "    .dataframe thead th {\n",
       "        text-align: right;\n",
       "    }\n",
       "</style>\n",
       "<table border=\"1\" class=\"dataframe\">\n",
       "  <thead>\n",
       "    <tr style=\"text-align: right;\">\n",
       "      <th></th>\n",
       "      <th>novel</th>\n",
       "      <th>recruit</th>\n",
       "      <th>microscopy</th>\n",
       "      <th>normal</th>\n",
       "      <th>kidney</th>\n",
       "      <th>habituation</th>\n",
       "      <th>acoustic</th>\n",
       "      <th>instant</th>\n",
       "      <th>conjugate</th>\n",
       "      <th>strategy</th>\n",
       "      <th>...</th>\n",
       "      <th>feature</th>\n",
       "      <th>foraging</th>\n",
       "      <th>laboratory</th>\n",
       "      <th>edema</th>\n",
       "      <th>sensor</th>\n",
       "      <th>decrease</th>\n",
       "      <th>demographic</th>\n",
       "      <th>incidence</th>\n",
       "      <th>text_sentence</th>\n",
       "      <th>text_source</th>\n",
       "    </tr>\n",
       "  </thead>\n",
       "  <tbody>\n",
       "    <tr>\n",
       "      <th>0</th>\n",
       "      <td>0</td>\n",
       "      <td>0</td>\n",
       "      <td>0</td>\n",
       "      <td>0</td>\n",
       "      <td>0</td>\n",
       "      <td>0</td>\n",
       "      <td>0</td>\n",
       "      <td>0</td>\n",
       "      <td>0</td>\n",
       "      <td>0</td>\n",
       "      <td>...</td>\n",
       "      <td>0</td>\n",
       "      <td>0</td>\n",
       "      <td>0</td>\n",
       "      <td>0</td>\n",
       "      <td>0</td>\n",
       "      <td>0</td>\n",
       "      <td>0</td>\n",
       "      <td>0</td>\n",
       "      <td>(Background, :, Physical, function, is, a, cru...</td>\n",
       "      <td>Physics</td>\n",
       "    </tr>\n",
       "    <tr>\n",
       "      <th>1</th>\n",
       "      <td>0</td>\n",
       "      <td>0</td>\n",
       "      <td>0</td>\n",
       "      <td>0</td>\n",
       "      <td>0</td>\n",
       "      <td>0</td>\n",
       "      <td>0</td>\n",
       "      <td>0</td>\n",
       "      <td>0</td>\n",
       "      <td>0</td>\n",
       "      <td>...</td>\n",
       "      <td>0</td>\n",
       "      <td>0</td>\n",
       "      <td>0</td>\n",
       "      <td>0</td>\n",
       "      <td>0</td>\n",
       "      <td>0</td>\n",
       "      <td>0</td>\n",
       "      <td>0</td>\n",
       "      <td>(Objective, :)</td>\n",
       "      <td>Physics</td>\n",
       "    </tr>\n",
       "    <tr>\n",
       "      <th>2</th>\n",
       "      <td>0</td>\n",
       "      <td>0</td>\n",
       "      <td>0</td>\n",
       "      <td>0</td>\n",
       "      <td>0</td>\n",
       "      <td>0</td>\n",
       "      <td>0</td>\n",
       "      <td>0</td>\n",
       "      <td>0</td>\n",
       "      <td>0</td>\n",
       "      <td>...</td>\n",
       "      <td>0</td>\n",
       "      <td>0</td>\n",
       "      <td>0</td>\n",
       "      <td>0</td>\n",
       "      <td>0</td>\n",
       "      <td>0</td>\n",
       "      <td>0</td>\n",
       "      <td>0</td>\n",
       "      <td>(To, examine, whether, ), physical, performanc...</td>\n",
       "      <td>Physics</td>\n",
       "    </tr>\n",
       "    <tr>\n",
       "      <th>3</th>\n",
       "      <td>0</td>\n",
       "      <td>0</td>\n",
       "      <td>0</td>\n",
       "      <td>0</td>\n",
       "      <td>0</td>\n",
       "      <td>0</td>\n",
       "      <td>0</td>\n",
       "      <td>0</td>\n",
       "      <td>0</td>\n",
       "      <td>0</td>\n",
       "      <td>...</td>\n",
       "      <td>0</td>\n",
       "      <td>0</td>\n",
       "      <td>0</td>\n",
       "      <td>0</td>\n",
       "      <td>0</td>\n",
       "      <td>0</td>\n",
       "      <td>0</td>\n",
       "      <td>0</td>\n",
       "      <td>(Design, :, Cross, -, sectional, study, to, ex...</td>\n",
       "      <td>Physics</td>\n",
       "    </tr>\n",
       "    <tr>\n",
       "      <th>4</th>\n",
       "      <td>0</td>\n",
       "      <td>0</td>\n",
       "      <td>0</td>\n",
       "      <td>0</td>\n",
       "      <td>0</td>\n",
       "      <td>0</td>\n",
       "      <td>0</td>\n",
       "      <td>0</td>\n",
       "      <td>0</td>\n",
       "      <td>0</td>\n",
       "      <td>...</td>\n",
       "      <td>0</td>\n",
       "      <td>0</td>\n",
       "      <td>0</td>\n",
       "      <td>0</td>\n",
       "      <td>0</td>\n",
       "      <td>0</td>\n",
       "      <td>0</td>\n",
       "      <td>0</td>\n",
       "      <td>(Methods, :)</td>\n",
       "      <td>Physics</td>\n",
       "    </tr>\n",
       "  </tbody>\n",
       "</table>\n",
       "<p>5 rows × 2263 columns</p>\n",
       "</div>"
      ],
      "text/plain": [
       "  novel recruit microscopy normal kidney habituation acoustic instant  \\\n",
       "0     0       0          0      0      0           0        0       0   \n",
       "1     0       0          0      0      0           0        0       0   \n",
       "2     0       0          0      0      0           0        0       0   \n",
       "3     0       0          0      0      0           0        0       0   \n",
       "4     0       0          0      0      0           0        0       0   \n",
       "\n",
       "  conjugate strategy     ...     feature foraging laboratory edema sensor  \\\n",
       "0         0        0     ...           0        0          0     0      0   \n",
       "1         0        0     ...           0        0          0     0      0   \n",
       "2         0        0     ...           0        0          0     0      0   \n",
       "3         0        0     ...           0        0          0     0      0   \n",
       "4         0        0     ...           0        0          0     0      0   \n",
       "\n",
       "  decrease demographic incidence  \\\n",
       "0        0           0         0   \n",
       "1        0           0         0   \n",
       "2        0           0         0   \n",
       "3        0           0         0   \n",
       "4        0           0         0   \n",
       "\n",
       "                                       text_sentence text_source  \n",
       "0  (Background, :, Physical, function, is, a, cru...     Physics  \n",
       "1                                     (Objective, :)     Physics  \n",
       "2  (To, examine, whether, ), physical, performanc...     Physics  \n",
       "3  (Design, :, Cross, -, sectional, study, to, ex...     Physics  \n",
       "4                                       (Methods, :)     Physics  \n",
       "\n",
       "[5 rows x 2263 columns]"
      ]
     },
     "execution_count": 42,
     "metadata": {},
     "output_type": "execute_result"
    }
   ],
   "source": [
    "word_counts2 = bow_features(sentences2, common_words2)\n",
    "word_counts2.head()"
   ]
  },
  {
   "cell_type": "markdown",
   "metadata": {},
   "source": [
    "Sentence length as a feature:"
   ]
  },
  {
   "cell_type": "code",
   "execution_count": 43,
   "metadata": {
    "collapsed": true
   },
   "outputs": [],
   "source": [
    "word_counts2['sent_length'] = word_counts2.text_sentence.map(lambda x: len(x)) "
   ]
  },
  {
   "cell_type": "code",
   "execution_count": 44,
   "metadata": {
    "collapsed": true
   },
   "outputs": [],
   "source": [
    "Y2 = word_counts2['text_source']\n",
    "X2 = np.array(word_counts2.drop(['text_sentence','text_source'], 1))\n",
    "\n",
    "X_train2, X_test2, y_train2, y_test2 = train_test_split(X2, \n",
    "                                                    Y2,\n",
    "                                                    test_size=0.4,\n",
    "                                                    random_state=0)"
   ]
  },
  {
   "cell_type": "code",
   "execution_count": 45,
   "metadata": {},
   "outputs": [
    {
     "name": "stdout",
     "output_type": "stream",
     "text": [
      "(538, 2262) (538,)\n",
      "Training set score: 0.934944237918\n",
      "\n",
      "Test set score: 0.852777777778\n"
     ]
    }
   ],
   "source": [
    "lr2 = LogisticRegression()\n",
    "train = lr2.fit(X_train2, y_train2)\n",
    "print(X_train2.shape, y_train2.shape)\n",
    "print('Training set score:', lr2.score(X_train2, y_train2))\n",
    "print('\\nTest set score:', lr2.score(X_test2, y_test2))"
   ]
  },
  {
   "cell_type": "markdown",
   "metadata": {},
   "source": [
    "This didn't help much."
   ]
  },
  {
   "cell_type": "code",
   "execution_count": 46,
   "metadata": {},
   "outputs": [],
   "source": [
    "abstract_list2 = []\n",
    "for topic in [physics_raw2, stars_raw2, black_raw2, strings_raw2, mass_raw2, astrophysics_raw2, galileo_raw2]:\n",
    "    for article in topic['response']['docs']:\n",
    "        abstract_list2 = abstract_list2 + article['abstract']"
   ]
  },
  {
   "cell_type": "markdown",
   "metadata": {},
   "source": [
    "Applying vectorizer:"
   ]
  },
  {
   "cell_type": "code",
   "execution_count": 47,
   "metadata": {},
   "outputs": [
    {
     "name": "stdout",
     "output_type": "stream",
     "text": [
      "Number of features: 260\n",
      "Original sentence: \n",
      "In big data area a significant challenge about string similarity join is to find all similar pairs more efficiently. In this paper, we propose a parallel processing framework for efficient string similarity join. First, the input is split into some disjoint small subsets according to the joint frequency distribution and the interval distribution of strings. Then the filter-verification strategy is adopted in the computation of string similarity for each subset so that the number of candidate pairs is reduced before an effective pruning strategy is used to improve the performance. Finally, the operation of string join is executed in parallel. Para-Join algorithm based on the multi-threading technique is proposed to implement the framework in a multi-core system while Pada-Join algorithm based on Spark platform is proposed to implement the framework in a cluster system. We prove that Para-Join and Pada-Join cannot only avoid reduplicate computation but also ensure the completeness of the result. Experimental results show that Para-Join can achieve high efficiency and significantly outperform than state-of-the-art approaches, meanwhile, Pada-Join can work on large datasets.\n",
      "\n",
      "Tf_idf vector: {'state': 0.15918979605274067, 'technique': 0.15069317309158292, 'common': 0.15918979605274067, 'problem': 0.79594898026370331, 'string': 0.12244578711727606, 'strings': 0.14350938073740427, 'compare': 0.15918979605274067, 'results': 0.20996834275384274, 'field': 0.14350938073740427, 'important': 0.13728649674847979, 'We': 0.161199099326228, 'literature': 0.15069317309158292, 'paper': 0.15069317309158292, 'develop': 0.15069317309158292, 'related': 0.11839084772002451, 'using': 0.107991821652727, 'The': 0.14249562543452479, 'In': 0.0923114063373906}\n"
     ]
    }
   ],
   "source": [
    "from sklearn.model_selection import train_test_split\n",
    "\n",
    "X2 = abstract_list2\n",
    "\n",
    "X_train2, X_test2 = train_test_split(X2, test_size=0.4, random_state=42)\n",
    "\n",
    "vectorizer = TfidfVectorizer(encoding='ASCII',\n",
    "                             max_df=0.7, # drop words that occur in more than half the paragraphs\n",
    "                             min_df=4, # only use words that appear at least four times\n",
    "                             stop_words='english', \n",
    "                             lowercase=False, #convert everything to lower case\n",
    "                             use_idf=True,#we definitely want to use inverse document frequencies in our weighting\n",
    "                             norm=u'l2', #Applies a correction factor so that longer paragraphs and shorter paragraphs get treated equally\n",
    "                             smooth_idf=True #Adds 1 to all document frequencies, as if an extra document existed that used every word once.  Prevents divide-by-zero errors\n",
    "                            )\n",
    "\n",
    "#Applying the vectorizer\n",
    "abstract_tfidf2=vectorizer.fit_transform(abstract_list2)\n",
    "print(\"Number of features: %d\" % abstract_tfidf.get_shape()[1])\n",
    "\n",
    "#splitting into training and test sets\n",
    "X_train_tfidf2, X_test_tfidf2 = train_test_split(abstract_tfidf2, test_size=0.4, random_state=0)\n",
    "\n",
    "\n",
    "#Reshapes the vectorizer output into something people can read\n",
    "X_train_tfidf_csr2 = X_train_tfidf2.tocsr()\n",
    "\n",
    "#number of paragraphs\n",
    "n = X_train_tfidf_csr2.shape[0]\n",
    "#A list of dictionaries, one per paragraph\n",
    "tfidf_bypara2 = [{} for _ in range(0,n)]\n",
    "#List of features\n",
    "terms2 = vectorizer.get_feature_names()\n",
    "#for each paragraph, lists the feature words and their tf-idf scores\n",
    "for i, j in zip(*X_train_tfidf_csr2.nonzero()):\n",
    "    tfidf_bypara2[i][terms2[j]] = X_train_tfidf_csr2[i, j]\n",
    "\n",
    "#Keep in mind that the log base 2 of 1 is 0, so a tf-idf score of 0 indicates that the word was present once in that sentence.\n",
    "print('Original sentence:', X_train2[5])\n",
    "print('Tf_idf vector:', tfidf_bypara2[5])"
   ]
  },
  {
   "cell_type": "code",
   "execution_count": 48,
   "metadata": {
    "scrolled": true
   },
   "outputs": [
    {
     "name": "stdout",
     "output_type": "stream",
     "text": [
      "Percent variance captured by all components: 100.0\n",
      "Component 0:\n",
      "Background: Great cormorants (Phalacrocorax carbo L.) show the highest known foraging yield for a marine predator and they are often perceived to be in conflict with human economic interests. They are generally regarded as visually-guided, pursuit-dive foragers, so it would be expected that cormorants have excellent vision much like aerial predators, such as hawks which detect and pursue prey from a distance. Indeed cormorant eyes appear to show some specific adaptations to the amphibious life style. They are reported to have a highly pliable lens and powerful intraocular muscles which are thought to accommodate for the loss of corneal refractive power that accompanies immersion and ensures a well focussed image on the retina. However, nothing is known of the visual performance of these birds and how this might influence their prey capture technique. Methodology/Principal Findings: We measured the aquatic visual acuity of great cormorants under a range of viewing conditions (illuminance, target contrast, viewing distance) and found it to be unexpectedly poor. Cormorant visual acuity under a range of viewing conditions is in fact comparable to unaided humans under water, and very inferior to that of aerial predators. We present a prey detectability model based upon the known acuity of cormorants at different illuminances, target contrasts and viewing distances. This shows that cormorants are able to detect individual prey only at close range (less than 1 m). Conclusions/Significance: We conclude that cormorants are not the aquatic equivalent of hawks. Their efficient hunting involves the use of specialised foraging techniques which employ brief short-distance pursuit and/or rapid neck extension to capture prey that is visually detected or flushed only at short range. This technique appears to be driven proximately by the cormorant's limited visual capacities, and is analogous to the foraging techniques employed by herons.                                                                                                                                                                                                                                                                                                                                                                                                                                                                                                                                                                                                                                                                                                                                                                                                                                                                                                                                                                                                                                                                                                                                                                                                                                                                                                                                                                                                                                                                                                                                                                                                                                        0.548799\n",
      "\\nPoint process generalized linear models (PP-GLMs) provide an important statistical framework for modeling spiking activity in single-neurons and neuronal networks. Stochastic stability is essential when sampling from these models, as done in computational neuroscience to analyze statistical properties of neuronal dynamics and in neuro-engineering to implement closed-loop applications. Here we show, however, that despite passing common goodness-of-fit tests, PP-GLMs estimated from data are often unstable, leading to divergent firing rates. The inclusion of absolute refractory periods is not a satisfactory solution since the activity then typically settles into unphysiological rates. To address these issues, we derive a framework for determining the existence and stability of fixed points of the expected conditional intensity function (CIF) for general PP-GLMs. Specifically, in nonlinear Hawkes PP-GLMs, the CIF is expressed as a function of the previous spike history and exogenous inputs. We use a mean-field quasi-renewal (QR) approximation that decomposes spike history effects into the contribution of the last spike and an average of the CIF over all spike histories prior to the last spike. Fixed points for stationary rates are derived as self-consistent solutions of integral equations. Bifurcation analysis and the number of fixed points predict that the original models can show stable, divergent, and metastable (fragile) dynamics. For fragile models, fluctuations of the single-neuron dynamics predict expected divergence times after which rates approach unphysiologically high values. This metric can be used to estimate the probability of rates to remain physiological for given time periods, e.g., for simulation purposes. We demonstrate the use of the stability framework using simulated single-neuron examples and neurophysiological recordings. Finally, we show how to adapt PP-GLM estimation procedures to guarantee model stability. Overall, our results provide a stability framework for data-driven PP-GLMs and shed new light on the stochastic dynamics of state-of-the-art statistical models of neuronal spiking activity.\\nAuthor summary: Earthquakes, gene regulatory elements, financial transactions, and action potentials produced by nerve cells are examples of sequences of discrete events in space or time. In many cases, such events do not appear independently of each other. Instead, the occurrence of one event changes the rate of upcoming events (e.g, aftershocks following an earthquake). The nonlinear Hawkes process is a statistical model that captures these complex dependencies. Unfortunately, for a given model, it is hard to predict whether stochastic samples will produce an event pattern consistent with observations. In particular, with positive feedback loops, the process might diverge and yield unrealistically high event rates. Here, we show that an approximation to the mathematical model predicts dynamical properties, in particular, whether the model will exhibit stable and finite rates. In the context of neurophysiology, we find that models estimated from experimental data often tend to show metastability or even unstable dynamics. Our framework can be used to add constraints to data-driven estimation procedures to find the optimal model with realistic event rates and help to build more robust models of single-cell spiking dynamics. It is a first step towards studying the stability of large-scale nonlinear spiking neural network models estimated from data.     0.538069\n",
      "\\nHabitat loss causes population declines, but the mechanisms are rarely known. In the European Boreal Zone, loss of old forest due to intensive forestry is suspected to cause declines in forest-dwelling raptors by reducing their breeding performance. We studied the boreal breeding habitat and habitat-associated breeding performance of the northern goshawk (Accipiter gentilis), common buzzard (Buteo buteo) and European honey buzzard (Pernis apivorus). We combined long-term Finnish bird-of-prey data with multi-source national forest inventory data at various distances (100–4000 m) around the hawk nests. We found that breeding success of the goshawk was best explained by the habitat within a 2000-m radius around the nests; breeding was more successful with increasing proportions of old spruce forest and water, and decreasing proportions of young thinning forest. None of the habitat variables affected significantly the breeding success of the common buzzard or the honey buzzard, or the brood size of any of the species. The amount of old spruce forest decreased both around goshawk and common buzzard nests and throughout southern Finland in 1992–2010. In contrast, the area of young forest increased in southern Finland but not around hawk nests. We emphasize the importance of studying habitats at several spatial and temporal scales to determine the relevant species-specific scale and to detect environmental changes. Further effort is needed to reconcile the socioeconomic and ecological functions of forests and habitat requirements of old forest specialists.\\n                                                                                                                                                                                                                                                                                                                                                                                                                                                                                                                                                                                                                                                                                                                                                                                                                                                                                                                                                                                                                                                                                                                                                                                                                                                                                                                                                                                                                                                                                                                                                                                                                                                                                                                                                                                                                                                                                                                                                                                                                               0.526366\n",
      "\\nFour end-functionalized star polymers that could attenuate the flow of ionic currents across biological ion channels were first de novo designed computationally, then synthesized and tested experimentally on mammalian K+ channels. The 4-arm ethylene glycol conjugate star polymers with lysine or a tripeptide attached to the end of each arm were specifically designed to mimic the action of scorpion toxins on K+ channels. Molecular dynamics simulations showed that the lysine side chain of the polymers physically occludes the pore of Kv1.3, a target for immuno-suppression therapy. Two of the compounds tested were potent inhibitors of Kv1.3. The dissociation constants of these two compounds were computed to be 0.1 μM and 0.7 μM, respectively, within 3-fold to the values derived from subsequent experiments. These results demonstrate the power of computational methods in molecular design and the potential of star polymers as a new infinitely modifiable platform for ion channel drug discovery.\\n                                                                                                                                                                                                                                                                                                                                                                                                                                                                                                                                                                                                                                                                                                                                                                                                                                                                                                                                                                                                                                                                                                                                                                                                                                                                                                                                                                                                                                                                                                                                                                                                                                                                                                                                                                                                                                                                                                                                                                                                                                                                                                                                                                                                                                                                                                                                                                                                                                                                                                                                                                                                                              0.464914\n",
      "\\n        This review presents a comprehensive overview of the current status regarding the global diversity of the echinoderm class Ophiuroidea, focussing on taxonomy and distribution patterns, with brief introduction to their anatomy, biology, phylogeny, and palaeontological history. A glossary of terms is provided. Species names and taxonomic decisions have been extracted from the literature and compiled in The World Ophiuroidea Database, part of the World Register of Marine Species (WoRMS). Ophiuroidea, with 2064 known species, are the largest class of Echinodermata. A table presents 16 families with numbers of genera and species. The largest are Amphiuridae (467), Ophiuridae (344 species) and Ophiacanthidae (319 species). A biogeographic analysis for all world oceans and all accepted species was performed, based on published distribution records. Approximately similar numbers of species were recorded from the shelf (n = 1313) and bathyal depth strata (1297). The Indo-Pacific region had the highest species richness overall (825 species) and at all depths. Adjacent regions were also relatively species rich, including the North Pacific (398), South Pacific (355) and Indian (316) due to the presence of many Indo-Pacific species that partially extended into these regions. A secondary region of enhanced species richness was found in the West Atlantic (335). Regions of relatively low species richness include the Arctic (73 species), East Atlantic (118), South America (124) and Antarctic (126).\\n                                                                                                                                                                                                                                                                                                                                                                                                                                                                                                                                                                                                                                                                                                                                                                                                                                                                                                                                                                                                                                                                                                                                                                                                                                                                                                                                                                                                                                                                                                                                                                                                                                                                                                                                                                                                                                                                                                                                                                                                                                                                                            0.448540\n",
      "Background: Transposable elements (TEs) are responsible for the generation of chromosomal inversions in several groups of organisms. However, in Drosophila and other Dipterans, where inversions are abundant both as intraspecific polymorphisms and interspecific fixed differences, the evidence for a role of TEs is scarce. Previous work revealed that the transposon Galileo was involved in the generation of two polymorphic inversions of Drosophila buzzatii. Methodology/Principal Findings: To assess the impact of TEs in Drosophila chromosomal evolution and shed light on the mechanism involved, we isolated and sequenced the two breakpoints of another widespread polymorphic inversion from D. buzzatii, 2z3. In the non inverted chromosome, the 2z3 distal breakpoint was located between genes CG2046 and CG10326 whereas the proximal breakpoint lies between two novel genes that we have named Dlh and Mdp. In the inverted chromosome, the analysis of the breakpoint sequences revealed relatively large insertions (2,870-bp and 4,786-bp long) including two copies of the transposon Galileo (subfamily Newton), one at each breakpoint, plus several other TEs. The two Galileo copies: (i) are inserted in opposite orientation; (ii) present exchanged target site duplications; and (iii) are both chimeric. Conclusions/Significance: Our observations provide the best evidence gathered so far for the role of TEs in the generation of Drosophila inversions. In addition, they show unequivocally that ectopic recombination is the causative mechanism. The fact that the three polymorphic D. buzzatii inversions investigated so far were generated by the same transposon family is remarkable and is conceivably due to Galileo's unusual structure and current (or recent) transpositional activity.                                                                                                                                                                                                                                                                                                                                                                                                                                                                                                                                                                                                                                                                                                                                                                                                                                                                                                                                                                                                                                                                                                                                                                                                                                                                                                                                                                                                                                                                                                                                                                                                                                                                                                                                                                                                                     0.417482\n",
      "\\nString-pulling is one of the most popular tests in animal cognition because of its apparent complexity, and of its potential to be applied to very different taxa. In birds, the basic procedure involves a food reward, suspended from a perch by a string, which can be reached by a series of coordinated pulling actions with the beak and holding actions of the pulled lengths of string with the foot. The taxonomic distribution of species that pass the test includes several corvids, parrots and parids, but in other families, data are much spottier and the number of individuals per species that succeed is often low. To date, the association between string-pulling ability and other cognitive traits was never tested. It is generally assumed that string-pulling is a complex form of problem-solving, suggesting that performance on string-pulling and other problem-solving tasks should be correlated. Here, we show that individuals of two innovative species from Barbados, the bullfinch Loxigilla barbadensis and the Carib grackle Quiscalus lugubris fortirostris, pass the string-pulling test. Eighteen of the 42 bullfinches tested succeeded, allowing us to correlate performance on this test to that on several other behavioral measurements. Surprisingly, string-pulling in bullfinches was unrelated to shyness, neophobia, problem-solving, discrimination and reversal learning performance. Only two of 31 grackles tested succeeded, precluding correlational analyses with other measures but still, the two successful birds largely differed in their other behavioral traits.\\n                                                                                                                                                                                                                                                                                                                                                                                                                                                                                                                                                                                                                                                                                                                                                                                                                                                                                                                                                                                                                                                                                                                                                                                                                                                                                                                                                                                                                                                                                                                                                                                                                                                                                                                                                                                                                                                                                                                                                                                                                                   0.416844\n",
      "                                                                                                                                                                                                                                                                                                                                                                                                                                                                                                                                                                                                                                                                                                                                                                                                                                                                                                                                                                                                                                                                                                                                                                                                                                                                                                                                                                                                                                                                                                                                                                                                                                                                                                                                                                                                                                                                                                                                                                                                                                                                                                                                                                                                                                                                                                                                                                                                                                                                                                                                                                                                                                                                                                                                                                                                                                                                                                                                                                                                                                                                                                                                                                                                                                                                                                                                                                                                                                                                                                                                                                                                                                                                          0.392480\n",
      "\\n        When a gash or gouge is made in a confluent layer of epithelial cells, the cells move to fill in the “wound.” In some cases, such as in wounded embryonic chick wing buds, the movement of the cells is driven by cortical actin contraction (i.e., a purse string mechanism). In adult tissue, though, cells apparently crawl to close wounds. At the single cell level, this crawling is driven by the dynamics of the cell's actin cytoskeleton, which is regulated by a complex biochemical network, and cell signaling has been proposed to play a significant role in directing cells to move into the denuded area. However, wounds made in monolayers of Madin-Darby canine kidney (MDCK) cells still close even when a row of cells is deactivated at the periphery of the wound, and recent experiments show complex, highly-correlated cellular motions that extend tens of cell lengths away from the boundary. These experiments suggest a dominant role for mechanics in wound healing. Here we present a biophysical description of the collective migration of epithelial cells during wound healing based on the basic motility of single cells and cell-cell interactions. This model quantitatively captures the dynamics of wound closure and reproduces the complex cellular flows that are observed. These results suggest that wound healing is predominantly a mechanical process that is modified, but not produced, by cell-cell signaling.\\n      Author Summary: Wound healing is driven by the collective migration of groups of epithelial cells. Experiments have shown that the motions of cells during wound healing are not as simple as had once been thought. Indeed, cells do not just move out to fill in the wounded area but rather undergo a number of complex but coordinated motions. Furthermore, wound healing is not just a response to chemical cues and can be driven by cells that are not immediately at the edge of the wound. In this paper, we develop a mathematical model based on the mechanical behavior of single crawling cells and also includes cell-cell adhesion. We show that this model is capable of explaining quantitatively the dynamics that occur during wound healing assays. This suggests that wound healing is largely a mechanical process where chemical signaling merely acts to augment the overall behavior.                                                                                                                                                                                                                                                                                                                                                                                                                                                                                                                                                                                                                                                                                                                                                                                                                                                                                                                                                                                                                                                                                                                                                                                                                                                                    0.378419\n",
      "                                                                                                                                                                                                                                                                                                                                                                                                                                                                                                                                                                                                                                                                                                                                                                                                                                                                                                                                                                                                                                                                                                                                                                                                                                                                                                                                                                                                                                                                                                                                                                                                                                                                                                                                                                                                                                                                                                                                                                                                                                                                                                                                                                                                                                                                                                                                                                                                                                                                                                                                                                                                                                                                                                                                                                                                                                                                                                                                                                                                                                                                                                                                                                                                                                                                                                                                                                                                                                                                                                                                                                                                                                                                          0.371049\n",
      "Name: 0, dtype: float64\n",
      "Component 1:\n",
      "Background: Great cormorants (Phalacrocorax carbo L.) show the highest known foraging yield for a marine predator and they are often perceived to be in conflict with human economic interests. They are generally regarded as visually-guided, pursuit-dive foragers, so it would be expected that cormorants have excellent vision much like aerial predators, such as hawks which detect and pursue prey from a distance. Indeed cormorant eyes appear to show some specific adaptations to the amphibious life style. They are reported to have a highly pliable lens and powerful intraocular muscles which are thought to accommodate for the loss of corneal refractive power that accompanies immersion and ensures a well focussed image on the retina. However, nothing is known of the visual performance of these birds and how this might influence their prey capture technique. Methodology/Principal Findings: We measured the aquatic visual acuity of great cormorants under a range of viewing conditions (illuminance, target contrast, viewing distance) and found it to be unexpectedly poor. Cormorant visual acuity under a range of viewing conditions is in fact comparable to unaided humans under water, and very inferior to that of aerial predators. We present a prey detectability model based upon the known acuity of cormorants at different illuminances, target contrasts and viewing distances. This shows that cormorants are able to detect individual prey only at close range (less than 1 m). Conclusions/Significance: We conclude that cormorants are not the aquatic equivalent of hawks. Their efficient hunting involves the use of specialised foraging techniques which employ brief short-distance pursuit and/or rapid neck extension to capture prey that is visually detected or flushed only at short range. This technique appears to be driven proximately by the cormorant's limited visual capacities, and is analogous to the foraging techniques employed by herons.                                                                                                                                                                                                                                                                                                                                                                                                                                                                                                                                                                                                                                                                                                                                                                                                                                                                                                                                                                                                                                                                                                                                                                                                                                                                                                                                                                                                                                                                                                                                                                                                                                        0.626333\n",
      "\\nPoint process generalized linear models (PP-GLMs) provide an important statistical framework for modeling spiking activity in single-neurons and neuronal networks. Stochastic stability is essential when sampling from these models, as done in computational neuroscience to analyze statistical properties of neuronal dynamics and in neuro-engineering to implement closed-loop applications. Here we show, however, that despite passing common goodness-of-fit tests, PP-GLMs estimated from data are often unstable, leading to divergent firing rates. The inclusion of absolute refractory periods is not a satisfactory solution since the activity then typically settles into unphysiological rates. To address these issues, we derive a framework for determining the existence and stability of fixed points of the expected conditional intensity function (CIF) for general PP-GLMs. Specifically, in nonlinear Hawkes PP-GLMs, the CIF is expressed as a function of the previous spike history and exogenous inputs. We use a mean-field quasi-renewal (QR) approximation that decomposes spike history effects into the contribution of the last spike and an average of the CIF over all spike histories prior to the last spike. Fixed points for stationary rates are derived as self-consistent solutions of integral equations. Bifurcation analysis and the number of fixed points predict that the original models can show stable, divergent, and metastable (fragile) dynamics. For fragile models, fluctuations of the single-neuron dynamics predict expected divergence times after which rates approach unphysiologically high values. This metric can be used to estimate the probability of rates to remain physiological for given time periods, e.g., for simulation purposes. We demonstrate the use of the stability framework using simulated single-neuron examples and neurophysiological recordings. Finally, we show how to adapt PP-GLM estimation procedures to guarantee model stability. Overall, our results provide a stability framework for data-driven PP-GLMs and shed new light on the stochastic dynamics of state-of-the-art statistical models of neuronal spiking activity.\\nAuthor summary: Earthquakes, gene regulatory elements, financial transactions, and action potentials produced by nerve cells are examples of sequences of discrete events in space or time. In many cases, such events do not appear independently of each other. Instead, the occurrence of one event changes the rate of upcoming events (e.g, aftershocks following an earthquake). The nonlinear Hawkes process is a statistical model that captures these complex dependencies. Unfortunately, for a given model, it is hard to predict whether stochastic samples will produce an event pattern consistent with observations. In particular, with positive feedback loops, the process might diverge and yield unrealistically high event rates. Here, we show that an approximation to the mathematical model predicts dynamical properties, in particular, whether the model will exhibit stable and finite rates. In the context of neurophysiology, we find that models estimated from experimental data often tend to show metastability or even unstable dynamics. Our framework can be used to add constraints to data-driven estimation procedures to find the optimal model with realistic event rates and help to build more robust models of single-cell spiking dynamics. It is a first step towards studying the stability of large-scale nonlinear spiking neural network models estimated from data.     0.606898\n",
      "\\nHabitat loss causes population declines, but the mechanisms are rarely known. In the European Boreal Zone, loss of old forest due to intensive forestry is suspected to cause declines in forest-dwelling raptors by reducing their breeding performance. We studied the boreal breeding habitat and habitat-associated breeding performance of the northern goshawk (Accipiter gentilis), common buzzard (Buteo buteo) and European honey buzzard (Pernis apivorus). We combined long-term Finnish bird-of-prey data with multi-source national forest inventory data at various distances (100–4000 m) around the hawk nests. We found that breeding success of the goshawk was best explained by the habitat within a 2000-m radius around the nests; breeding was more successful with increasing proportions of old spruce forest and water, and decreasing proportions of young thinning forest. None of the habitat variables affected significantly the breeding success of the common buzzard or the honey buzzard, or the brood size of any of the species. The amount of old spruce forest decreased both around goshawk and common buzzard nests and throughout southern Finland in 1992–2010. In contrast, the area of young forest increased in southern Finland but not around hawk nests. We emphasize the importance of studying habitats at several spatial and temporal scales to determine the relevant species-specific scale and to detect environmental changes. Further effort is needed to reconcile the socioeconomic and ecological functions of forests and habitat requirements of old forest specialists.\\n                                                                                                                                                                                                                                                                                                                                                                                                                                                                                                                                                                                                                                                                                                                                                                                                                                                                                                                                                                                                                                                                                                                                                                                                                                                                                                                                                                                                                                                                                                                                                                                                                                                                                                                                                                                                                                                                                                                                                                                                                               0.540310\n",
      "\\nFour end-functionalized star polymers that could attenuate the flow of ionic currents across biological ion channels were first de novo designed computationally, then synthesized and tested experimentally on mammalian K+ channels. The 4-arm ethylene glycol conjugate star polymers with lysine or a tripeptide attached to the end of each arm were specifically designed to mimic the action of scorpion toxins on K+ channels. Molecular dynamics simulations showed that the lysine side chain of the polymers physically occludes the pore of Kv1.3, a target for immuno-suppression therapy. Two of the compounds tested were potent inhibitors of Kv1.3. The dissociation constants of these two compounds were computed to be 0.1 μM and 0.7 μM, respectively, within 3-fold to the values derived from subsequent experiments. These results demonstrate the power of computational methods in molecular design and the potential of star polymers as a new infinitely modifiable platform for ion channel drug discovery.\\n                                                                                                                                                                                                                                                                                                                                                                                                                                                                                                                                                                                                                                                                                                                                                                                                                                                                                                                                                                                                                                                                                                                                                                                                                                                                                                                                                                                                                                                                                                                                                                                                                                                                                                                                                                                                                                                                                                                                                                                                                                                                                                                                                                                                                                                                                                                                                                                                                                                                                                                                                                                                                              0.510752\n",
      "\\nString-pulling is one of the most popular tests in animal cognition because of its apparent complexity, and of its potential to be applied to very different taxa. In birds, the basic procedure involves a food reward, suspended from a perch by a string, which can be reached by a series of coordinated pulling actions with the beak and holding actions of the pulled lengths of string with the foot. The taxonomic distribution of species that pass the test includes several corvids, parrots and parids, but in other families, data are much spottier and the number of individuals per species that succeed is often low. To date, the association between string-pulling ability and other cognitive traits was never tested. It is generally assumed that string-pulling is a complex form of problem-solving, suggesting that performance on string-pulling and other problem-solving tasks should be correlated. Here, we show that individuals of two innovative species from Barbados, the bullfinch Loxigilla barbadensis and the Carib grackle Quiscalus lugubris fortirostris, pass the string-pulling test. Eighteen of the 42 bullfinches tested succeeded, allowing us to correlate performance on this test to that on several other behavioral measurements. Surprisingly, string-pulling in bullfinches was unrelated to shyness, neophobia, problem-solving, discrimination and reversal learning performance. Only two of 31 grackles tested succeeded, precluding correlational analyses with other measures but still, the two successful birds largely differed in their other behavioral traits.\\n                                                                                                                                                                                                                                                                                                                                                                                                                                                                                                                                                                                                                                                                                                                                                                                                                                                                                                                                                                                                                                                                                                                                                                                                                                                                                                                                                                                                                                                                                                                                                                                                                                                                                                                                                                                                                                                                                                                                                                                                                                   0.382777\n",
      "                                                                                                                                                                                                                                                                                                                                                                                                                                                                                                                                                                                                                                                                                                                                                                                                                                                                                                                                                                                                                                                                                                                                                                                                                                                                                                                                                                                                                                                                                                                                                                                                                                                                                                                                                                                                                                                                                                                                                                                                                                                                                                                                                                                                                                                                                                                                                                                                                                                                                                                                                                                                                                                                                                                                                                                                                                                                                                                                                                                                                                                                                                                                                                                                                                                                                                                                                                                                                                                                                                                                                                                                                                                                          0.000000\n",
      "\\nTotal body mass (TBM) is known to be related to a number of different osteological features in vertebrates, including limb element measurements and total skeletal mass. The relationship between skeletal mass and TBM in birds has been suggested as a way of estimating the latter in cases where only the skeleton is known (e.g., fossils). This relationship has thus also been applied to other extinct vertebrates, including the non-avian pterosaurs, while other studies have used additional skeletal correlates found in modern birds to estimate TBM. However, most previous studies have used TBM compiled from the literature rather than from direct measurements, producing values from population averages rather than from individuals. Here, we report a new dataset of 487 extant birds encompassing 79 species that have skeletal mass and TBM recorded at the time of collection or preparation. We combine both historical and new data for analyses with phylogenetic control and find a similar and well-correlated relationship between skeletal mass and TBM. Thus, we confirm that TBM and skeletal mass are accurate proxies for estimating one another. We also look at other factors that may have an effect on avian body mass, including sex, ontogenetic stage, and flight mode. While data are well-correlated in all cases, phylogeny is a major control on TBM in birds strongly suggesting that this relationship is not appropriate for estimating the total mass of taxa outside of crown birds, Neornithes (e.g., non-avian dinosaurs, pterosaurs). Data also reveal large variability in both bird skeletal and TBM within single species; caution should thus be applied when using published mass to test direct correlations with skeletal mass and bone lengths.\\n                                                                                                                                                                                                                                                                                                                                                                                                                                                                                                                                                                                                                                                                                                                                                                                                                                                                                                                                                                                                                                                                                                                                                                                                                                                                                                                                                                                                                                                                                                                                                                                                                                                                                                                                                                                                                                                      0.000000\n",
      "Background: Genome-wide association studies (GWAS) identify disease-associations for single-nucleotide-polymorphisms (SNPs) from scattered genomic-locations. However, SNPs frequently reside on several different SNP-haplotypes, only some of which may be disease-associated. This circumstance lowers the observed odds-ratio for disease-association. Methodology/Principal Findings: Here we develop a method to identify the two SNP-haplotypes, which combine to produce each person’s SNP-genotype over specified chromosomal segments. Two multiple sclerosis (MS)-associated genetic regions were modeled; DRB1 (a Class II molecule of the major histocompatibility complex) and MMEL1 (an endopeptidase that degrades both neuropeptides and β-amyloid). For each locus, we considered sets of eleven adjacent SNPs, surrounding the putative disease-associated gene and spanning ∼200 kb of DNA. The SNP-information was converted into an ordered-set of eleven-numbers (subject-vectors) based on whether a person had zero, one, or two copies of particular SNP-variant at each sequential SNP-location. SNP-strings were defined as those ordered-combinations of eleven-numbers (0 or 1), representing a haplotype, two of which combined to form the observed subject-vector. Subject-vectors were resolved using probabilistic methods. In both regions, only a small number of SNP-strings were present. We compared our method to the SHAPEIT-2 phasing-algorithm. When the SNP-information spanning 200 kb was used, SHAPEIT-2 was inaccurate. When the SHAPEIT-2 window was increased to 2,000 kb, the concordance between the two methods, in both of these eleven-SNP regions, was over 99%, suggesting that, in these regions, both methods were quite accurate. Nevertheless, correspondence was not uniformly high over the entire DNA-span but, rather, was characterized by alternating peaks and valleys of concordance. Moreover, in the valleys of poor-correspondence, SHAPEIT-2 was also inconsistent with itself, suggesting that the SNP-string method is more accurate across the entire region. Conclusions/Significance: Accurate haplotype identification will enhance the detection of genetic-associations. The SNP-string method provides a simple means to accomplish this and can be extended to cover larger genomic regions, thereby improving a GWAS’s power, even for those published previously.                                                                                                                                                                                                                                                                                                                                                                                                                                                                                                                                                                                                                                                                                                                                                                                                                                                                                                                                                                                                                                                                                                                                                                                                                   0.000000\n",
      "\\nIt has been suggested that innovations occur mainly by combination: the more inventions accumulate, the higher the probability that new inventions are obtained from previous designs. Additionally, it has been conjectured that the combinatorial nature of innovations naturally leads to a singularity: at some finite time, the number of innovations should diverge. Although these ideas are certainly appealing, no general models have been yet developed to test the conditions under which combinatorial technology should become explosive. Here we present a generalised model of technological evolution that takes into account two major properties: the number of previous technologies needed to create a novel one and how rapidly technology ages. Two different models of combinatorial growth are considered, involving different forms of ageing. When long-range memory is used and thus old inventions are available for novel innovations, singularities can emerge under some conditions with two phases separated by a critical boundary. If the ageing has a characteristic time scale, it is shown that no singularities will be observed. Instead, a “black hole” of old innovations appears and expands in time, making the rate of invention creation slow down into a linear regime.\\n                                                                                                                                                                                                                                                                                                                                                                                                                                                                                                                                                                                                                                                                                                                                                                                                                                                                                                                                                                                                                                                                                                                                                                                                                                                                                                                                                                                                                                                                                                                                                                                                                                                                                                                                                                                                                                                                                                                                                                                                                                                                                                                                                                                                                                                                                                                                                0.000000\n",
      "Background: Physical function is a crucial factor in the prevention and treatment of health conditions in older adults and is usually measured objectively with physical performance tests and/or physical activity monitoring. Objective: To examine whether 1) physical performance (PP) and physical activity (PA) constitute separate domains of physical function; 2) differentiation of PA classes is more informative than overall PA. Design: Cross-sectional study to explore the relationships within and among PP and PA measures. Methods: In 49 older participants (83±7 years; M±SD), performance-based tests were conducted and PA was measured for one week. Activity monitor data were reduced in terms of duration, periods, and mean duration of periods of lying, sitting, standing and locomotion. The relation between and within PP scores and PA outcomes were analysed using rank order correlation and factor analysis. Results: Factor structure after varimax rotation revealed two orthogonal factors explaining 78% of the variance in the data: one comprising all PA variables and one comprising all PP variables. PP scores correlated moderately with PA in daily life. Differentiation of activity types and quantification of their duration, intensity and frequency of occurrence provided stronger associations with PP, as compared to a single measure of acceleration expressing overall PA. Limitations: For independent validation, the conclusions about the validity of the presented conceptual framework and its clinical implications need to be confirmed in other studies. Conclusions: PP and PA represent associated but separate domains of physical function, suggesting that an improvement of PP does not automatically imply an increase of PA, i.e. a change to a more active lifestyle. Differentiation of activity classes in the analysis of PA provides more insights into PA and its association with PP than using a single overall measure of acceleration.                                                                                                                                                                                                                                                                                                                                                                                                                                                                                                                                                                                                                                                                                                                                                                                                                                                                                                                                                                                                                                                                                                                                                                                                                                                                                                                                                                                                                                                                                                                                                                                                                                            0.000000\n",
      "Name: 1, dtype: float64\n",
      "Component 2:\n",
      "\\n        The roles of microRNAs (miRNAs) as important regulators of gene expression have been studied intensively. Although most of these investigations have involved the highly expressed form of the two mature miRNA species, increasing evidence points to essential roles for star-form microRNAs (miRNA*), which are usually expressed at much lower levels. Owing to the nature of miRNA biogenesis, it is challenging to use plasmids containing miRNA coding sequences for gain-of-function experiments concerning the roles of microRNA* species. Synthetic microRNA mimics could introduce specific miRNA* species into cells, but this transient overexpression system has many shortcomings. Here, we report that specific miRNA* species can be overexpressed by introducing artificially designed stem-loop sequences into short hairpin RNA (shRNA) overexpression vectors. By our prototypic plasmid, designed to overexpress hsa-miR-146b-3p, we successfully expressed high levels of hsa-miR-146b-3p without detectable change of hsa-miR-146b-5p. Functional analysis involving luciferase reporter assays showed that, like natural miRNAs, the overexpressed hsa-miR-146b-3p inhibited target gene expression by 3′UTR seed pairing. Our demonstration that this method could overexpress two other miRNAs suggests that the approach should be broadly applicable. Our novel strategy opens the way for exclusively stable overexpression of miRNA* species and analyzing their unique functions both in vitro and in vivo.\\n                                                                                                                                                                                                                                                                                                                                                                                                                                                                                                                                                                                                                                                                                                                                                                                                                                                                                                                                                                                                                                                                                                                                                                                                                                                                                                                                                                                                                                                                                                                       0.649382\n",
      "\\nWe consider the problem of finding a minimum common string partition (MCSP) of two strings, which is an NP-hard problem. The MCSP problem is closely related to genome comparison and rearrangement, an important field in Computational Biology. In this paper, we map the MCSP problem into a graph applying a prior technique and using this graph, we develop an Integer Linear Programming (ILP) formulation for the problem. We implement the ILP formulation and compare the results with the state-of-the-art algorithms from the literature. The experimental results are found to be promising.\\n                                                                                                                                                                                                                                                                                                                                                                                                                                                                                                                                                                                                                                                                                                                                                                                                                                                                                                                                                                                                                                                                                                                                                                                                                                                                                                                                                                                                                                                                                                                                                                                                                                                                                                                                                                                                                                                                                                                                                                                                                                                                                                                                                                                                                                                                                                                                                                                                                                                                 0.647617\n",
      "\\nSagan et al. (1993) used the Galileo space probe data and first principles to find evidence of life on Earth. Here we ask whether Sagan et al. (1993) could also have detected whether life on Earth had three-dimensional structure, based on the Galileo space probe data. We reanalyse the data from this probe to see if structured vegetation could have been detected in regions with abundant photosynthetic pigments through the anisotropy of reflected shortwave radiation. We compare changing brightness of the Amazon forest (a region where Sagan et al. (1993) noted a red edge in the reflectance spectrum, indicative of photosynthesis) as the planet rotates to a common model of reflectance anisotropy and found measured increase of surface reflectance of 0.019 ± 0.003 versus a 0.007 predicted from only anisotropic effects. We hypothesize the difference was due to minor cloud contamination. However, the Galileo dataset had only a small change in phase angle (sun-satellite position) which reduced the observed anisotropy signal and we demonstrate that theoretically if the probe had a variable phase angle between 0–20°, there would have been a much larger predicted change in surface reflectance of 0.1 and under such a scenario three-dimensional vegetation structure on Earth could possibly have been detected. These results suggest that anisotropic effects may be useful to help determine whether exoplanets have three-dimensional vegetation structure in the future, but that further comparisons between empirical and theoretical results are first necessary.\\n                                                                                                                                                                                                                                                                                                                                                                                                                                                                                                                                                                                                                                                                                                                                                                                                                                                                                                                                                                                                                                                                                                                                                                                                                                                                                                                                                                                                                                               0.473389\n",
      "\\n        When a gash or gouge is made in a confluent layer of epithelial cells, the cells move to fill in the “wound.” In some cases, such as in wounded embryonic chick wing buds, the movement of the cells is driven by cortical actin contraction (i.e., a purse string mechanism). In adult tissue, though, cells apparently crawl to close wounds. At the single cell level, this crawling is driven by the dynamics of the cell's actin cytoskeleton, which is regulated by a complex biochemical network, and cell signaling has been proposed to play a significant role in directing cells to move into the denuded area. However, wounds made in monolayers of Madin-Darby canine kidney (MDCK) cells still close even when a row of cells is deactivated at the periphery of the wound, and recent experiments show complex, highly-correlated cellular motions that extend tens of cell lengths away from the boundary. These experiments suggest a dominant role for mechanics in wound healing. Here we present a biophysical description of the collective migration of epithelial cells during wound healing based on the basic motility of single cells and cell-cell interactions. This model quantitatively captures the dynamics of wound closure and reproduces the complex cellular flows that are observed. These results suggest that wound healing is predominantly a mechanical process that is modified, but not produced, by cell-cell signaling.\\n      Author Summary: Wound healing is driven by the collective migration of groups of epithelial cells. Experiments have shown that the motions of cells during wound healing are not as simple as had once been thought. Indeed, cells do not just move out to fill in the wounded area but rather undergo a number of complex but coordinated motions. Furthermore, wound healing is not just a response to chemical cues and can be driven by cells that are not immediately at the edge of the wound. In this paper, we develop a mathematical model based on the mechanical behavior of single crawling cells and also includes cell-cell adhesion. We show that this model is capable of explaining quantitatively the dynamics that occur during wound healing assays. This suggests that wound healing is largely a mechanical process where chemical signaling merely acts to augment the overall behavior.                                                                                                                                                                                                                                                                                                                                                                                                                                                                                                                                                                                                                                                                        0.268214\n",
      "\\n        The founding director of Singapore's Institute of Molecular and Cell Biology illustrates the rise of science in Asia.\\n                                                                                                                                                                                                                                                                                                                                                                                                                                                                                                                                                                                                                                                                                                                                                                                                                                                                                                                                                                                                                                                                                                                                                                                                                                                                                                                                                                                                                                                                                                                                                                                                                                                                                                                                                                                                                                                                                                                                                                                                                                                                                                                                                                                                                                                                                                                                                                                                                                                                                                                                                                                                                                                                                                                                                                                                                                                                                                                                             0.156118\n",
      "\\nTriadic relationships are accepted to play a key role in the dynamics of social and political networks. Building on insights gleaned from balance theory in social network studies and from Boltzmann-Gibbs statistical physics, we propose a model to quantitatively capture the dynamics of the four types of triadic relationships in a network. Central to our model are the triads’ incidence rates and the idea that those can be modeled by assigning a specific triadic energy to each type of triadic relation. We emphasize the role of the degeneracy of the different triads and how it impacts the degree of frustration in the political network. In order to account for a persistent form of disorder in the formation of the triadic relationships, we introduce the systemic variable temperature. In order to learn about the dynamics and motives, we propose a generic Hamiltonian with three terms to model the triadic energies. One term is connected with a three-body interaction that captures balance theory. The other terms take into account the impact of heterogeneity and of negative edges in the triads. The validity of our model is tested on four datasets including the time series of triadic relationships for the standings between two classes of alliances in a massively multiplayer online game (MMOG). We also analyze real-world data for the relationships between the “agents” involved in the Syrian civil war, and in the relations between countries during the Cold War era. We find emerging properties in the triadic relationships in a political network, for example reflecting itself in a persistent hierarchy between the four triadic energies, and in the consistency of the extracted parameters from comparing the model Hamiltonian to the data.\\n                                                                                                                                                                                                                                                                                                                                                                                                                                                                                                                                                                                                                                                                                                                                                                                                                                                                                                                                                                                                                                                                                                                                                                                                                                                      0.150795\n",
      "\\nDisease outbreaks can have substantial impacts on wild populations, but the often patchy or anecdotal evidence of these impacts impedes our ability to understand outbreak dynamics. Recently however, a severe disease outbreak occurred in a group of very well-studied organisms–sea stars along the west coast of North America. We analyzed nearly two decades of data from a coordinated monitoring effort at 88 sites ranging from southern British Columbia to San Diego, California along with 2 sites near Sitka, Alaska to better understand the effects of sea star wasting disease (SSWD) on the keystone intertidal predator, Pisaster ochraceus. Quantitative surveys revealed unprecedented declines of P. ochraceus in 2014 and 2015 across nearly the entire geographic range of the species. The intensity of the impact of SSWD was not uniform across the affected area, with proportionally greater population declines in the southern regions relative to the north. The degree of population decline was unrelated to pre-outbreak P. ochraceus density, although these factors have been linked in other well-documented disease events. While elevated seawater temperatures were not broadly linked to the initial emergence of SSWD, anomalously high seawater temperatures in 2014 and 2015 might have exacerbated the disease’s impact. Both before and after the onset of the SSWD outbreak, we documented higher recruitment of P. ochraceus in the north than in the south, and while some juveniles are surviving (as evidenced by transition of recruitment pulses to larger size classes), post-SSWD survivorship is lower than during pre-SSWD periods. In hindsight, our data suggest that the SSWD event defied prediction based on two factors found to be important in other marine disease events, sea water temperature and population density, and illustrate the importance of surveillance of natural populations as one element of an integrated approach to marine disease ecology. Low levels of SSWD-symptomatic sea stars are still present throughout the impacted range, thus the outlook for population recovery is uncertain.\\n                                                                                                                                                                                                                                                                                                                                                                                                                                                                                                                                                                                                                                                                                                                                                                                                                                                                                     0.130485\n",
      "                                                                                                                                                                                                                                                                                                                                                                                                                                                                                                                                                                                                                                                                                                                                                                                                                                                                                                                                                                                                                                                                                                                                                                                                                                                                                                                                                                                                                                                                                                                                                                                                                                                                                                                                                                                                                                                                                                                                                                                                                                                                                                                                                                                                                                                                                                                                                                                                                                                                                                                                                                                                                                                                                                                                                                                                                                                                                                                                                                                                                                                                              0.082848\n",
      "Background: Better physical functioning in the elderly may be associated with higher physical activity levels. Since older adults spend a substantial part of the day in their residential neighborhood, the neighborhood physical environment may moderate associations between functioning and older adults’ physical activity. The present study investigated the moderating role of the objective and perceived physical environment on associations between Belgian older adults’ physical functioning and transport walking, recreational walking, and moderate-to-vigorous physical activity. Methods: Data from 438 older adults were included. Objective physical functioning was assessed using the Short Physical Performance Battery. Potential moderators included objective neighborhood walkability and perceptions of land use mix diversity, access to recreational facilities, access to services, street connectivity, physical barriers for walking, aesthetics, crime-related safety, traffic speeding-related safety, and walking infrastructure. Transport and recreational walking were self-reported, moderate-to-vigorous physical activity was assessed through accelerometers. Multi-level regression analyses were conducted using MLwiN to examine two-way interactions between functioning and the environment on both walking outcomes. Based on a previous study where environment x neighborhood income associations were found for Belgian older adults’ moderate-to-vigorous physical activity, three-way functioning x environment x income interactions were examined for moderate-to-vigorous physical activity. Results: Objectively-measured walkability moderated the association between functioning and transport walking; this positive association was only present in high-walkable neighborhoods. Moreover, a three-way interaction was observed for moderate-to-vigorous physical activity. Only in high-income, high-walkable neighborhoods, there was a positive association between functioning and moderate-to-vigorous physical activity. No functioning x walkability interactions were observed for recreational walking, and none of the perceived environmental variables moderated the positive association between physical functioning and the physical activity outcomes. Conclusions: For older adults with better physical functioning, living in a high-walkable neighborhood could be beneficial to engage in more transport walking. Living in high-income, high-walkable neighborhoods and having better functioning might also be beneficial for more engagement in moderate-to-vigorous physical activity. This might suggest a protective role of neighborhood walkability for preventing declining physical functioning and consequently decreasing physical activity levels in older adults. However, given the cross-sectional design of the present study, this suggestion needs to be confirmed through longitudinal assessment investigating over-time changes in the observed associations.     0.074469\n",
      "\\n        MRI is sensitive to tissue pathology in multiple sclerosis (MS); however, most lesional MRI findings have limited correlation with disability. Chronic T1 hypointense lesions or “T1 black holes” (T1BH), observed in a subset of MS patients and thought to represent axonal damage, show moderate to strong correlation with disability. The pathogenesis of T1BH remains unclear. We previously reported the first and as of yet only model of T1BH formation in the Theiler's murine encephalitis virus induced model of acute CNS neuroinflammation induced injury, where CD8 T-cells are critical mediators of axonal damage and related T1BH formation. The purpose of this study was to further analyze the role of CD8 and CD4 T-cells through adoptive transfer experiments and to determine if the relevant CD8 T-cells are classic epitope specific lymphocytes or different subsets. C57BL/6 mice were used as donors and RAG-1 deficient mice as hosts in our adoptive transfer experiments. In vivo 3-dimensional MRI images were acquired using a 7 Tesla small animal MRI system. For image analysis, we used semi-automated methods in Analyze 9.1; transfer efficiency was monitored using FACS of brain infiltrating lymphocytes. Using a peptide depletion method, we demonstrated that the majority of CD8 T-cells are classic epitope specific cytotoxic cells. CD8 T-cell transfer successfully restored the immune system's capability to mediate T1BH formation in animals that lack adaptive immune system, whereas CD4 T-cell transfer results in an attenuated phenotype with significantly less T1BH formation. These findings demonstrate contrasting roles for these cell types, with additional evidence for a direct pathogenic role of CD8 T-cells in our model of T1 black hole formation.\\n                                                                                                                                                                                                                                                                                                                                                                                                                                                                                                                                                                                                                                                                                                                                                                                                                                                                                                                                                                                                                                                                                                                                                                                                                                    0.067271\n",
      "Name: 2, dtype: float64\n",
      "Component 3:\n",
      "Background: Better physical functioning in the elderly may be associated with higher physical activity levels. Since older adults spend a substantial part of the day in their residential neighborhood, the neighborhood physical environment may moderate associations between functioning and older adults’ physical activity. The present study investigated the moderating role of the objective and perceived physical environment on associations between Belgian older adults’ physical functioning and transport walking, recreational walking, and moderate-to-vigorous physical activity. Methods: Data from 438 older adults were included. Objective physical functioning was assessed using the Short Physical Performance Battery. Potential moderators included objective neighborhood walkability and perceptions of land use mix diversity, access to recreational facilities, access to services, street connectivity, physical barriers for walking, aesthetics, crime-related safety, traffic speeding-related safety, and walking infrastructure. Transport and recreational walking were self-reported, moderate-to-vigorous physical activity was assessed through accelerometers. Multi-level regression analyses were conducted using MLwiN to examine two-way interactions between functioning and the environment on both walking outcomes. Based on a previous study where environment x neighborhood income associations were found for Belgian older adults’ moderate-to-vigorous physical activity, three-way functioning x environment x income interactions were examined for moderate-to-vigorous physical activity. Results: Objectively-measured walkability moderated the association between functioning and transport walking; this positive association was only present in high-walkable neighborhoods. Moreover, a three-way interaction was observed for moderate-to-vigorous physical activity. Only in high-income, high-walkable neighborhoods, there was a positive association between functioning and moderate-to-vigorous physical activity. No functioning x walkability interactions were observed for recreational walking, and none of the perceived environmental variables moderated the positive association between physical functioning and the physical activity outcomes. Conclusions: For older adults with better physical functioning, living in a high-walkable neighborhood could be beneficial to engage in more transport walking. Living in high-income, high-walkable neighborhoods and having better functioning might also be beneficial for more engagement in moderate-to-vigorous physical activity. This might suggest a protective role of neighborhood walkability for preventing declining physical functioning and consequently decreasing physical activity levels in older adults. However, given the cross-sectional design of the present study, this suggestion needs to be confirmed through longitudinal assessment investigating over-time changes in the observed associations.     0.615684\n",
      "\\nThis year we celebrate the 150th anniversary of the law of mass action. This law is often assumed to have been “there” forever, but it has its own history, background, and a definite starting point. The law has had an impact on chemistry, biochemistry, biomathematics, and systems biology that is difficult to overestimate. It is easily recognized that it is the direct basis for computational enzyme kinetics, ecological systems models, and models for the spread of diseases. The article reviews the explicit and implicit role of the law of mass action in systems biology and reveals how the original, more general formulation of the law emerged one hundred years later ab initio as a very general, canonical representation of biological processes.\\n                                                                                                                                                                                                                                                                                                                                                                                                                                                                                                                                                                                                                                                                                                                                                                                                                                                                                                                                                                                                                                                                                                                                                                                                                                                                                                                                                                                                                                                                                                                                                                                                                                                                                                                                                                                                                                                                                                                                                                                                                                                                                                                                                                                                                                                                                             0.542932\n",
      "                                                                                                                                                                                                                                                                                                                                                                                                                                                                                                                                                                                                                                                                                                                                                                                                                                                                                                                                                                                                                                                                                                                                                                                                                                                                                                                                                                                                                                                                                                                                                                                                                                                                                                                                                                                                                                                                                                                                                                                                                                                                                                                                                                                                                                                                                                                                                                                                                                                                                                                                                                                                                                                                                                                                                                                                                                                                                                                                                                                                                                                                              0.441596\n",
      "\\nTriadic relationships are accepted to play a key role in the dynamics of social and political networks. Building on insights gleaned from balance theory in social network studies and from Boltzmann-Gibbs statistical physics, we propose a model to quantitatively capture the dynamics of the four types of triadic relationships in a network. Central to our model are the triads’ incidence rates and the idea that those can be modeled by assigning a specific triadic energy to each type of triadic relation. We emphasize the role of the degeneracy of the different triads and how it impacts the degree of frustration in the political network. In order to account for a persistent form of disorder in the formation of the triadic relationships, we introduce the systemic variable temperature. In order to learn about the dynamics and motives, we propose a generic Hamiltonian with three terms to model the triadic energies. One term is connected with a three-body interaction that captures balance theory. The other terms take into account the impact of heterogeneity and of negative edges in the triads. The validity of our model is tested on four datasets including the time series of triadic relationships for the standings between two classes of alliances in a massively multiplayer online game (MMOG). We also analyze real-world data for the relationships between the “agents” involved in the Syrian civil war, and in the relations between countries during the Cold War era. We find emerging properties in the triadic relationships in a political network, for example reflecting itself in a persistent hierarchy between the four triadic energies, and in the consistency of the extracted parameters from comparing the model Hamiltonian to the data.\\n                                                                                                                                                                                                                                                                                                                                                                                                                                                                                                                                                                                                                                                                                                                                                                                                                                                                                                                                                                                                                                                                                                                                                                                                                                                      0.398571\n",
      "Background: Relatively little is known about the degree of inter-specific variability in visual scanning strategies in species with laterally placed eyes (e.g., birds). This is relevant because many species detect prey while perching; therefore, head movement behavior may be an indicator of prey detection rate, a central parameter in foraging models. We studied head movement strategies in three diurnal raptors belonging to the Accipitridae and Falconidae families. Methodology/Principal Findings: We used behavioral recording of individuals under field and captive conditions to calculate the rate of two types of head movements and the interval between consecutive head movements. Cooper's Hawks had the highest rate of regular head movements, which can facilitate tracking prey items in the visually cluttered environment they inhabit (e.g., forested habitats). On the other hand, Red-tailed Hawks showed long intervals between consecutive head movements, which is consistent with prey searching in less visually obstructed environments (e.g., open habitats) and with detecting prey movement from a distance with their central foveae. Finally, American Kestrels have the highest rates of translational head movements (vertical or frontal displacements of the head keeping the bill in the same direction), which have been associated with depth perception through motion parallax. Higher translational head movement rates may be a strategy to compensate for the reduced degree of eye movement of this species. Conclusions: Cooper's Hawks, Red-tailed Hawks, and American Kestrels use both regular and translational head movements, but to different extents. We conclude that these diurnal raptors have species-specific strategies to gather visual information while perching. These strategies may optimize prey search and detection with different visual systems in habitat types with different degrees of visual obstruction.                                                                                                                                                                                                                                                                                                                                                                                                                                                                                                                                                                                                                                                                                                                                                                                                                                                                                                                                                                                                                                                                         0.275017\n",
      "\\nDisease outbreaks can have substantial impacts on wild populations, but the often patchy or anecdotal evidence of these impacts impedes our ability to understand outbreak dynamics. Recently however, a severe disease outbreak occurred in a group of very well-studied organisms–sea stars along the west coast of North America. We analyzed nearly two decades of data from a coordinated monitoring effort at 88 sites ranging from southern British Columbia to San Diego, California along with 2 sites near Sitka, Alaska to better understand the effects of sea star wasting disease (SSWD) on the keystone intertidal predator, Pisaster ochraceus. Quantitative surveys revealed unprecedented declines of P. ochraceus in 2014 and 2015 across nearly the entire geographic range of the species. The intensity of the impact of SSWD was not uniform across the affected area, with proportionally greater population declines in the southern regions relative to the north. The degree of population decline was unrelated to pre-outbreak P. ochraceus density, although these factors have been linked in other well-documented disease events. While elevated seawater temperatures were not broadly linked to the initial emergence of SSWD, anomalously high seawater temperatures in 2014 and 2015 might have exacerbated the disease’s impact. Both before and after the onset of the SSWD outbreak, we documented higher recruitment of P. ochraceus in the north than in the south, and while some juveniles are surviving (as evidenced by transition of recruitment pulses to larger size classes), post-SSWD survivorship is lower than during pre-SSWD periods. In hindsight, our data suggest that the SSWD event defied prediction based on two factors found to be important in other marine disease events, sea water temperature and population density, and illustrate the importance of surveillance of natural populations as one element of an integrated approach to marine disease ecology. Low levels of SSWD-symptomatic sea stars are still present throughout the impacted range, thus the outlook for population recovery is uncertain.\\n                                                                                                                                                                                                                                                                                                                                                                                                                                                                                                                                                                                                                                                                                                                                                                                                                                                                                     0.274094\n",
      "Background: Magnetic Resonance Imaging (MRI) is an established tool in diagnosing and evaluating disease activity in Multiple Sclerosis (MS). While clinical-radiological correlations are limited in general, hypointense T1 lesions (also known as Black Holes (BH)) have shown some promising results. The definition of BHs is very heterogeneous and depends on subjective visual evaluation. Objective: We aimed to improve clinical-radiological correlations by defining BHs using T1 relaxation time (T1-RT) thresholds to achieve best possible correlation between BH lesion volume and clinical disability. Method: 40 patients with mainly relapsing-remitting MS underwent MRI including 3-dimensional fluid attenuated inversion recovery (FLAIR), magnetization-prepared rapid gradient echo (MPRAGE) before and after Gadolinium (GD) injection and double inversion-contrast magnetization-prepared rapid gradient echo (MP2RAGE) sequences. BHs (BHvis) were marked by two raters on native T1-weighted (T1w)-MPRAGE, contrast-enhancing lesions (CE lesions) on T1w-MPRAGE after GD and FLAIR lesions (total-FLAIR lesions) were detected separately. BHvis and total-FLAIR lesion maps were registered to MP2RAGE images, and the mean T1-RT were calculated for all lesion ROIs. Mean T1 values of the cortex (CTX) were calculated for each patient. Subsequently, Spearman rank correlations between clinical scores (Expanded Disability Status Scale and Multiple Sclerosis Functional Composite) and lesion volume were determined for different T1-RT thresholds. Results: Significant differences in T1-RT were obtained between all different lesion types with highest T1 values in visually marked BHs (BHvis: 1453.3±213.4 ms, total-FLAIR lesions: 1394.33±187.38 ms, CTX: 1305.6±35.8 ms; p<0.05). Significant correlations between BHvis/total-FLAIR lesion volume and clinical disability were obtained for a wide range of T1-RT thresholds. The highest correlation for BHvis and total-FLAIR lesion masks were found at T1-RT>1500 ms (Expanded Disability Status Scale vs. lesion volume: rBHvis = 0.442 and rtotal-FLAIR = 0.497, p<0.05; Multiple Sclerosis Functional Composite vs. lesion volume: rBHvis = -0.53 and rtotal-FLAIR = -0.627, p<0.05). Conclusion: Clinical-radiological correlations in MS patients are increased by application of T1-RT thresholds. With the short acquisition time of the MP2RAGE sequences, quantitative T1 maps could be easily established in clinical studies.                                                                                                                                                                                                                                                                                                                                                                                                                                                                                                                             0.089663\n",
      "\\nIn big data area a significant challenge about string similarity join is to find all similar pairs more efficiently. In this paper, we propose a parallel processing framework for efficient string similarity join. First, the input is split into some disjoint small subsets according to the joint frequency distribution and the interval distribution of strings. Then the filter-verification strategy is adopted in the computation of string similarity for each subset so that the number of candidate pairs is reduced before an effective pruning strategy is used to improve the performance. Finally, the operation of string join is executed in parallel. Para-Join algorithm based on the multi-threading technique is proposed to implement the framework in a multi-core system while Pada-Join algorithm based on Spark platform is proposed to implement the framework in a cluster system. We prove that Para-Join and Pada-Join cannot only avoid reduplicate computation but also ensure the completeness of the result. Experimental results show that Para-Join can achieve high efficiency and significantly outperform than state-of-the-art approaches, meanwhile, Pada-Join can work on large datasets.\\n                                                                                                                                                                                                                                                                                                                                                                                                                                                                                                                                                                                                                                                                                                                                                                                                                                                                                                                                                                                                                                                                                                                                                                                                                                                                                                                                                                                                                                                                                                                                                                                                                                                                                                                                                                                                                                     0.064601\n",
      "\\n        The founding director of Singapore's Institute of Molecular and Cell Biology illustrates the rise of science in Asia.\\n                                                                                                                                                                                                                                                                                                                                                                                                                                                                                                                                                                                                                                                                                                                                                                                                                                                                                                                                                                                                                                                                                                                                                                                                                                                                                                                                                                                                                                                                                                                                                                                                                                                                                                                                                                                                                                                                                                                                                                                                                                                                                                                                                                                                                                                                                                                                                                                                                                                                                                                                                                                                                                                                                                                                                                                                                                                                                                                                             0.034235\n",
      "\\nElectric guitar playing is ubiquitous in practically all modern music genres. In the hands of an experienced player, electric guitars can sound as expressive and distinct as a human voice. Unlike other more quantised instruments where pitch is a discrete function, guitarists can incorporate micro-tonality and, as a result, vibrato and sting-bending are idiosyncratic hallmarks of a player. Similarly, a wide variety of techniques unique to the electric guitar have emerged. While the mechano-acoustics of stringed instruments and vibrating strings are well studied, there has been comparatively little work dedicated to the underlying physics of unique electric guitar techniques and strings, nor the mechanical factors influencing vibrato, string-bending, fretting force and whammy-bar dynamics. In this work, models for these processes are derived and the implications for guitar and string design discussed. The string-bending model is experimentally validated using a variety of strings and vibrato dynamics are simulated. The implications of these findings on the configuration and design of guitars is also discussed.\\n                                                                                                                                                                                                                                                                                                                                                                                                                                                                                                                                                                                                                                                                                                                                                                                                                                                                                                                                                                                                                                                                                                                                                                                                                                                                                                                                                                                                                                                                                                                                                                                                                                                                                                                                                                                                                                                                                                     0.028614\n",
      "Name: 3, dtype: float64\n",
      "Component 4:\n",
      "\\nElectric guitar playing is ubiquitous in practically all modern music genres. In the hands of an experienced player, electric guitars can sound as expressive and distinct as a human voice. Unlike other more quantised instruments where pitch is a discrete function, guitarists can incorporate micro-tonality and, as a result, vibrato and sting-bending are idiosyncratic hallmarks of a player. Similarly, a wide variety of techniques unique to the electric guitar have emerged. While the mechano-acoustics of stringed instruments and vibrating strings are well studied, there has been comparatively little work dedicated to the underlying physics of unique electric guitar techniques and strings, nor the mechanical factors influencing vibrato, string-bending, fretting force and whammy-bar dynamics. In this work, models for these processes are derived and the implications for guitar and string design discussed. The string-bending model is experimentally validated using a variety of strings and vibrato dynamics are simulated. The implications of these findings on the configuration and design of guitars is also discussed.\\n                                                                                                                                                                                                                                                                                                                                                                                                                                                                                                                                                                                                                                                                                                                                                                                                                                                                                                                                                                                                                                                                                                                                                                                                                                                                                                                                                                             0.565437\n",
      "\\nIn big data area a significant challenge about string similarity join is to find all similar pairs more efficiently. In this paper, we propose a parallel processing framework for efficient string similarity join. First, the input is split into some disjoint small subsets according to the joint frequency distribution and the interval distribution of strings. Then the filter-verification strategy is adopted in the computation of string similarity for each subset so that the number of candidate pairs is reduced before an effective pruning strategy is used to improve the performance. Finally, the operation of string join is executed in parallel. Para-Join algorithm based on the multi-threading technique is proposed to implement the framework in a multi-core system while Pada-Join algorithm based on Spark platform is proposed to implement the framework in a cluster system. We prove that Para-Join and Pada-Join cannot only avoid reduplicate computation but also ensure the completeness of the result. Experimental results show that Para-Join can achieve high efficiency and significantly outperform than state-of-the-art approaches, meanwhile, Pada-Join can work on large datasets.\\n                                                                                                                                                                                                                                                                                                                                                                                                                                                                                                                                                                                                                                                                                                                                                                                                                                                                                                                                                                                                                                                                                                                                                                                                                                                                                                             0.514039\n",
      "\\n        The founding director of Singapore's Institute of Molecular and Cell Biology illustrates the rise of science in Asia.\\n                                                                                                                                                                                                                                                                                                                                                                                                                                                                                                                                                                                                                                                                                                                                                                                                                                                                                                                                                                                                                                                                                                                                                                                                                                                                                                                                                                                                                                                                                                                                                                                                                                                                                                                                                                                                                                                                                                                                                                                                                                                                                                                                                                                                                                                                                                                                                                                                                     0.358963\n",
      "                                                                                                                                                                                                                                                                                                                                                                                                                                                                                                                                                                                                                                                                                                                                                                                                                                                                                                                                                                                                                                                                                                                                                                                                                                                                                                                                                                                                                                                                                                                                                                                                                                                                                                                                                                                                                                                                                                                                                                                                                                                                                                                                                                                                                                                                                                                                                                                                                                                                                                                                                      0.193700\n",
      "\\nWith the emergence of the Web of Data, there is a need of tools for searching and exploring the growing amount of semantic data. Unfortunately, such tools are scarce and typically require knowledge of SPARQL/RDF. We propose here PepeSearch, a portable tool for searching semantic datasets devised for mainstream users. PepeSearch offers a multi-class search form automatically constructed from a SPARQL endpoint. We have tested PepeSearch with 15 participants searching a Linked Open Data version of the Norwegian Register of Business Enterprises for non-trivial challenges. Retrieval performance was encouragingly high and usability ratings were also very positive, thus suggesting that PepeSearch is effective for searching semantic datasets by mainstream users. We also assessed its portability by configuring PepeSearch to query other SPARQL endpoints.\\n                                                                                                                                                                                                                                                                                                                                                                                                                                                                                                                                                                                                                                                                                                                                                                                                                                                                                                                                                                                                                                                                                                                                                                                                                                                                                                                                                                                                                                                                                                                                                                                                                                                          0.188493\n",
      "                                                                                                                                                                                                                                                                                                                                                                                                                                                                                                                                                                                                                                                                                                                                                                                                                                                                                                                                                                                                                                                                                                                                                                                                                                                                                                                                                                                                                                                                                                                                                                                                                                                                                                                                                                                                                                                                                                                                                                                                                                                                                                                                                                                                                                                                                                                                                                                                                                                                                                                                                      0.170059\n",
      "Background: Transposable elements (TEs) are responsible for the generation of chromosomal inversions in several groups of organisms. However, in Drosophila and other Dipterans, where inversions are abundant both as intraspecific polymorphisms and interspecific fixed differences, the evidence for a role of TEs is scarce. Previous work revealed that the transposon Galileo was involved in the generation of two polymorphic inversions of Drosophila buzzatii. Methodology/Principal Findings: To assess the impact of TEs in Drosophila chromosomal evolution and shed light on the mechanism involved, we isolated and sequenced the two breakpoints of another widespread polymorphic inversion from D. buzzatii, 2z3. In the non inverted chromosome, the 2z3 distal breakpoint was located between genes CG2046 and CG10326 whereas the proximal breakpoint lies between two novel genes that we have named Dlh and Mdp. In the inverted chromosome, the analysis of the breakpoint sequences revealed relatively large insertions (2,870-bp and 4,786-bp long) including two copies of the transposon Galileo (subfamily Newton), one at each breakpoint, plus several other TEs. The two Galileo copies: (i) are inserted in opposite orientation; (ii) present exchanged target site duplications; and (iii) are both chimeric. Conclusions/Significance: Our observations provide the best evidence gathered so far for the role of TEs in the generation of Drosophila inversions. In addition, they show unequivocally that ectopic recombination is the causative mechanism. The fact that the three polymorphic D. buzzatii inversions investigated so far were generated by the same transposon family is remarkable and is conceivably due to Galileo's unusual structure and current (or recent) transpositional activity.                                                                                                                                                                                                                                                                                                                                                                                                                                                                                                                                                                                                                                                                                                 0.161647\n",
      "Background: Relatively little is known about the degree of inter-specific variability in visual scanning strategies in species with laterally placed eyes (e.g., birds). This is relevant because many species detect prey while perching; therefore, head movement behavior may be an indicator of prey detection rate, a central parameter in foraging models. We studied head movement strategies in three diurnal raptors belonging to the Accipitridae and Falconidae families. Methodology/Principal Findings: We used behavioral recording of individuals under field and captive conditions to calculate the rate of two types of head movements and the interval between consecutive head movements. Cooper's Hawks had the highest rate of regular head movements, which can facilitate tracking prey items in the visually cluttered environment they inhabit (e.g., forested habitats). On the other hand, Red-tailed Hawks showed long intervals between consecutive head movements, which is consistent with prey searching in less visually obstructed environments (e.g., open habitats) and with detecting prey movement from a distance with their central foveae. Finally, American Kestrels have the highest rates of translational head movements (vertical or frontal displacements of the head keeping the bill in the same direction), which have been associated with depth perception through motion parallax. Higher translational head movement rates may be a strategy to compensate for the reduced degree of eye movement of this species. Conclusions: Cooper's Hawks, Red-tailed Hawks, and American Kestrels use both regular and translational head movements, but to different extents. We conclude that these diurnal raptors have species-specific strategies to gather visual information while perching. These strategies may optimize prey search and detection with different visual systems in habitat types with different degrees of visual obstruction.                                                                                                                                                                                                                                                                                                                                                                                                                                                                                                                                                 0.150321\n",
      "                                                                                                                                                                                                                                                                                                                                                                                                                                                                                                                                                                                                                                                                                                                                                                                                                                                                                                                                                                                                                                                                                                                                                                                                                                                                                                                                                                                                                                                                                                                                                                                                                                                                                                                                                                                                                                                                                                                                                                                                                                                                                                                                                                                                                                                                                                                                                                                                                                                                                                                                                      0.107808\n",
      "Background: Magnetic Resonance Imaging (MRI) is an established tool in diagnosing and evaluating disease activity in Multiple Sclerosis (MS). While clinical-radiological correlations are limited in general, hypointense T1 lesions (also known as Black Holes (BH)) have shown some promising results. The definition of BHs is very heterogeneous and depends on subjective visual evaluation. Objective: We aimed to improve clinical-radiological correlations by defining BHs using T1 relaxation time (T1-RT) thresholds to achieve best possible correlation between BH lesion volume and clinical disability. Method: 40 patients with mainly relapsing-remitting MS underwent MRI including 3-dimensional fluid attenuated inversion recovery (FLAIR), magnetization-prepared rapid gradient echo (MPRAGE) before and after Gadolinium (GD) injection and double inversion-contrast magnetization-prepared rapid gradient echo (MP2RAGE) sequences. BHs (BHvis) were marked by two raters on native T1-weighted (T1w)-MPRAGE, contrast-enhancing lesions (CE lesions) on T1w-MPRAGE after GD and FLAIR lesions (total-FLAIR lesions) were detected separately. BHvis and total-FLAIR lesion maps were registered to MP2RAGE images, and the mean T1-RT were calculated for all lesion ROIs. Mean T1 values of the cortex (CTX) were calculated for each patient. Subsequently, Spearman rank correlations between clinical scores (Expanded Disability Status Scale and Multiple Sclerosis Functional Composite) and lesion volume were determined for different T1-RT thresholds. Results: Significant differences in T1-RT were obtained between all different lesion types with highest T1 values in visually marked BHs (BHvis: 1453.3±213.4 ms, total-FLAIR lesions: 1394.33±187.38 ms, CTX: 1305.6±35.8 ms; p<0.05). Significant correlations between BHvis/total-FLAIR lesion volume and clinical disability were obtained for a wide range of T1-RT thresholds. The highest correlation for BHvis and total-FLAIR lesion masks were found at T1-RT>1500 ms (Expanded Disability Status Scale vs. lesion volume: rBHvis = 0.442 and rtotal-FLAIR = 0.497, p<0.05; Multiple Sclerosis Functional Composite vs. lesion volume: rBHvis = -0.53 and rtotal-FLAIR = -0.627, p<0.05). Conclusion: Clinical-radiological correlations in MS patients are increased by application of T1-RT thresholds. With the short acquisition time of the MP2RAGE sequences, quantitative T1 maps could be easily established in clinical studies.     0.107739\n",
      "Name: 4, dtype: float64\n"
     ]
    }
   ],
   "source": [
    "from sklearn.decomposition import TruncatedSVD\n",
    "from sklearn.pipeline import make_pipeline\n",
    "from sklearn.preprocessing import Normalizer\n",
    "\n",
    "#Our SVD data reducer.  We are going to reduce the feature space from 1379 to 130.\n",
    "svd2= TruncatedSVD(130)\n",
    "lsa2 = make_pipeline(svd2, Normalizer(copy=False))\n",
    "# Run SVD on the training data, then project the training data.\n",
    "X_train_lsa2 = lsa2.fit_transform(X_train_tfidf2)\n",
    "\n",
    "variance_explained2=svd2.explained_variance_ratio_\n",
    "total_variance2 = variance_explained2.sum()\n",
    "print(\"Percent variance captured by all components:\",total_variance*100)\n",
    "\n",
    "#Looking at what sorts of paragraphs our solution considers similar, for the first five identified topics\n",
    "paras_by_component2=pd.DataFrame(X_train_lsa2,index=X_train2)\n",
    "for i in range(5):\n",
    "    print('Component {}:'.format(i))\n",
    "    print(paras_by_component2.loc[:,i].sort_values(ascending=False)[0:10])\n"
   ]
  },
  {
   "cell_type": "markdown",
   "metadata": {},
   "source": [
    "Still there is overfitting, and variance explained is 100 %. \n",
    "\n",
    "Probably the problem is due to too many words in each paragraph. Probably we should approach this in a different way."
   ]
  }
 ],
 "metadata": {
  "kernelspec": {
   "display_name": "Python [default]",
   "language": "python",
   "name": "python3"
  },
  "language_info": {
   "codemirror_mode": {
    "name": "ipython",
    "version": 3
   },
   "file_extension": ".py",
   "mimetype": "text/x-python",
   "name": "python",
   "nbconvert_exporter": "python",
   "pygments_lexer": "ipython3",
   "version": "3.6.3"
  }
 },
 "nbformat": 4,
 "nbformat_minor": 2
}
