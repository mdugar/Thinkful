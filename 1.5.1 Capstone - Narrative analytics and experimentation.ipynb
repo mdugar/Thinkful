{
 "cells": [
  {
   "cell_type": "markdown",
   "metadata": {},
   "source": [
    "# 1.5.1 Capstone - Narrative analytics and experimentation"
   ]
  },
  {
   "cell_type": "markdown",
   "metadata": {},
   "source": [
    "## About the dataset"
   ]
  },
  {
   "cell_type": "markdown",
   "metadata": {},
   "source": [
    "This dataset includes taxi trips for 2016, reported to the City of Chicago in its role as a regulatory agency. To protect privacy but allow for aggregate analyses, the Taxi ID is consistent for any given taxi medallion number but does not show the number, Census Tracts are suppressed in some cases, and times are rounded to the nearest 15 minutes. Due to the data reporting process, not all trips are reported but the City believes that most are."
   ]
  },
  {
   "cell_type": "code",
   "execution_count": 1,
   "metadata": {
    "collapsed": true
   },
   "outputs": [],
   "source": [
    "import numpy as np\n",
    "import pandas as pd\n",
    "import matplotlib.pyplot as plt\n",
    "%matplotlib inline\n",
    "import seaborn as sns\n",
    "from scipy import stats"
   ]
  },
  {
   "cell_type": "markdown",
   "metadata": {},
   "source": [
    "## Importing data"
   ]
  },
  {
   "cell_type": "code",
   "execution_count": 2,
   "metadata": {
    "collapsed": true
   },
   "outputs": [],
   "source": [
    "df = pd.read_csv('chicago_taxi_trips_2016_12.csv')"
   ]
  },
  {
   "cell_type": "markdown",
   "metadata": {},
   "source": [
    "## Exploring data"
   ]
  },
  {
   "cell_type": "code",
   "execution_count": 3,
   "metadata": {},
   "outputs": [
    {
     "name": "stdout",
     "output_type": "stream",
     "text": [
      "Shape: (1245712, 20)\n"
     ]
    }
   ],
   "source": [
    "print('Shape:', df.shape)"
   ]
  },
  {
   "cell_type": "code",
   "execution_count": 4,
   "metadata": {},
   "outputs": [
    {
     "data": {
      "text/html": [
       "<div>\n",
       "<style>\n",
       "    .dataframe thead tr:only-child th {\n",
       "        text-align: right;\n",
       "    }\n",
       "\n",
       "    .dataframe thead th {\n",
       "        text-align: left;\n",
       "    }\n",
       "\n",
       "    .dataframe tbody tr th {\n",
       "        vertical-align: top;\n",
       "    }\n",
       "</style>\n",
       "<table border=\"1\" class=\"dataframe\">\n",
       "  <thead>\n",
       "    <tr style=\"text-align: right;\">\n",
       "      <th></th>\n",
       "      <th>taxi_id</th>\n",
       "      <th>trip_seconds</th>\n",
       "      <th>trip_miles</th>\n",
       "      <th>pickup_census_tract</th>\n",
       "      <th>dropoff_census_tract</th>\n",
       "      <th>pickup_community_area</th>\n",
       "      <th>dropoff_community_area</th>\n",
       "      <th>fare</th>\n",
       "      <th>tips</th>\n",
       "      <th>tolls</th>\n",
       "      <th>extras</th>\n",
       "      <th>trip_total</th>\n",
       "      <th>company</th>\n",
       "      <th>pickup_latitude</th>\n",
       "      <th>pickup_longitude</th>\n",
       "      <th>dropoff_latitude</th>\n",
       "      <th>dropoff_longitude</th>\n",
       "    </tr>\n",
       "  </thead>\n",
       "  <tbody>\n",
       "    <tr>\n",
       "      <th>count</th>\n",
       "      <td>1.245094e+06</td>\n",
       "      <td>1.245614e+06</td>\n",
       "      <td>1.245690e+06</td>\n",
       "      <td>0.0</td>\n",
       "      <td>787242.00000</td>\n",
       "      <td>1.131361e+06</td>\n",
       "      <td>1.111901e+06</td>\n",
       "      <td>1.245689e+06</td>\n",
       "      <td>1.245689e+06</td>\n",
       "      <td>1.245689e+06</td>\n",
       "      <td>1.245689e+06</td>\n",
       "      <td>1.245689e+06</td>\n",
       "      <td>671305.000000</td>\n",
       "      <td>1.131368e+06</td>\n",
       "      <td>1.131368e+06</td>\n",
       "      <td>1.113250e+06</td>\n",
       "      <td>1.113250e+06</td>\n",
       "    </tr>\n",
       "    <tr>\n",
       "      <th>mean</th>\n",
       "      <td>4.361896e+03</td>\n",
       "      <td>7.565623e+02</td>\n",
       "      <td>2.722639e+00</td>\n",
       "      <td>NaN</td>\n",
       "      <td>514.28259</td>\n",
       "      <td>2.281085e+01</td>\n",
       "      <td>2.106795e+01</td>\n",
       "      <td>1.240251e+01</td>\n",
       "      <td>1.376216e+00</td>\n",
       "      <td>4.248508e-03</td>\n",
       "      <td>9.401077e-01</td>\n",
       "      <td>1.481602e+01</td>\n",
       "      <td>83.407703</td>\n",
       "      <td>3.861354e+02</td>\n",
       "      <td>4.409327e+02</td>\n",
       "      <td>3.964387e+02</td>\n",
       "      <td>4.388257e+02</td>\n",
       "    </tr>\n",
       "    <tr>\n",
       "      <th>std</th>\n",
       "      <td>2.511681e+03</td>\n",
       "      <td>1.090555e+03</td>\n",
       "      <td>4.914539e+00</td>\n",
       "      <td>NaN</td>\n",
       "      <td>357.14152</td>\n",
       "      <td>1.879816e+01</td>\n",
       "      <td>1.694041e+01</td>\n",
       "      <td>2.153353e+01</td>\n",
       "      <td>2.654190e+00</td>\n",
       "      <td>1.260149e+00</td>\n",
       "      <td>1.523253e+01</td>\n",
       "      <td>2.784119e+01</td>\n",
       "      <td>38.243598</td>\n",
       "      <td>2.540746e+02</td>\n",
       "      <td>1.890504e+02</td>\n",
       "      <td>2.560480e+02</td>\n",
       "      <td>1.987694e+02</td>\n",
       "    </tr>\n",
       "    <tr>\n",
       "      <th>min</th>\n",
       "      <td>0.000000e+00</td>\n",
       "      <td>0.000000e+00</td>\n",
       "      <td>0.000000e+00</td>\n",
       "      <td>NaN</td>\n",
       "      <td>2.00000</td>\n",
       "      <td>1.000000e+00</td>\n",
       "      <td>1.000000e+00</td>\n",
       "      <td>0.000000e+00</td>\n",
       "      <td>0.000000e+00</td>\n",
       "      <td>0.000000e+00</td>\n",
       "      <td>0.000000e+00</td>\n",
       "      <td>0.000000e+00</td>\n",
       "      <td>2.000000</td>\n",
       "      <td>5.000000e+00</td>\n",
       "      <td>1.000000e+00</td>\n",
       "      <td>0.000000e+00</td>\n",
       "      <td>1.000000e+00</td>\n",
       "    </tr>\n",
       "    <tr>\n",
       "      <th>25%</th>\n",
       "      <td>2.229000e+03</td>\n",
       "      <td>3.600000e+02</td>\n",
       "      <td>4.000000e-01</td>\n",
       "      <td>NaN</td>\n",
       "      <td>225.00000</td>\n",
       "      <td>8.000000e+00</td>\n",
       "      <td>8.000000e+00</td>\n",
       "      <td>6.000000e+00</td>\n",
       "      <td>0.000000e+00</td>\n",
       "      <td>0.000000e+00</td>\n",
       "      <td>0.000000e+00</td>\n",
       "      <td>7.000000e+00</td>\n",
       "      <td>82.000000</td>\n",
       "      <td>1.700000e+02</td>\n",
       "      <td>3.460000e+02</td>\n",
       "      <td>1.700000e+02</td>\n",
       "      <td>2.700000e+02</td>\n",
       "    </tr>\n",
       "    <tr>\n",
       "      <th>50%</th>\n",
       "      <td>4.316000e+03</td>\n",
       "      <td>5.400000e+02</td>\n",
       "      <td>1.100000e+00</td>\n",
       "      <td>NaN</td>\n",
       "      <td>504.00000</td>\n",
       "      <td>2.400000e+01</td>\n",
       "      <td>1.600000e+01</td>\n",
       "      <td>8.000000e+00</td>\n",
       "      <td>0.000000e+00</td>\n",
       "      <td>0.000000e+00</td>\n",
       "      <td>0.000000e+00</td>\n",
       "      <td>9.500000e+00</td>\n",
       "      <td>101.000000</td>\n",
       "      <td>3.950000e+02</td>\n",
       "      <td>4.780000e+02</td>\n",
       "      <td>4.110000e+02</td>\n",
       "      <td>4.780000e+02</td>\n",
       "    </tr>\n",
       "    <tr>\n",
       "      <th>75%</th>\n",
       "      <td>6.524000e+03</td>\n",
       "      <td>9.000000e+02</td>\n",
       "      <td>2.400000e+00</td>\n",
       "      <td>NaN</td>\n",
       "      <td>807.00000</td>\n",
       "      <td>3.200000e+01</td>\n",
       "      <td>3.200000e+01</td>\n",
       "      <td>1.225000e+01</td>\n",
       "      <td>2.000000e+00</td>\n",
       "      <td>0.000000e+00</td>\n",
       "      <td>1.000000e+00</td>\n",
       "      <td>1.425000e+01</td>\n",
       "      <td>107.000000</td>\n",
       "      <td>6.040000e+02</td>\n",
       "      <td>6.100000e+02</td>\n",
       "      <td>6.810000e+02</td>\n",
       "      <td>6.100000e+02</td>\n",
       "    </tr>\n",
       "    <tr>\n",
       "      <th>max</th>\n",
       "      <td>8.760000e+03</td>\n",
       "      <td>8.634000e+04</td>\n",
       "      <td>9.000000e+02</td>\n",
       "      <td>NaN</td>\n",
       "      <td>1140.00000</td>\n",
       "      <td>7.700000e+01</td>\n",
       "      <td>7.700000e+01</td>\n",
       "      <td>9.026310e+03</td>\n",
       "      <td>4.220000e+02</td>\n",
       "      <td>8.000000e+02</td>\n",
       "      <td>6.666660e+03</td>\n",
       "      <td>9.026310e+03</td>\n",
       "      <td>118.000000</td>\n",
       "      <td>7.840000e+02</td>\n",
       "      <td>7.850000e+02</td>\n",
       "      <td>7.840000e+02</td>\n",
       "      <td>7.850000e+02</td>\n",
       "    </tr>\n",
       "  </tbody>\n",
       "</table>\n",
       "</div>"
      ],
      "text/plain": [
       "            taxi_id  trip_seconds    trip_miles  pickup_census_tract  \\\n",
       "count  1.245094e+06  1.245614e+06  1.245690e+06                  0.0   \n",
       "mean   4.361896e+03  7.565623e+02  2.722639e+00                  NaN   \n",
       "std    2.511681e+03  1.090555e+03  4.914539e+00                  NaN   \n",
       "min    0.000000e+00  0.000000e+00  0.000000e+00                  NaN   \n",
       "25%    2.229000e+03  3.600000e+02  4.000000e-01                  NaN   \n",
       "50%    4.316000e+03  5.400000e+02  1.100000e+00                  NaN   \n",
       "75%    6.524000e+03  9.000000e+02  2.400000e+00                  NaN   \n",
       "max    8.760000e+03  8.634000e+04  9.000000e+02                  NaN   \n",
       "\n",
       "       dropoff_census_tract  pickup_community_area  dropoff_community_area  \\\n",
       "count          787242.00000           1.131361e+06            1.111901e+06   \n",
       "mean              514.28259           2.281085e+01            2.106795e+01   \n",
       "std               357.14152           1.879816e+01            1.694041e+01   \n",
       "min                 2.00000           1.000000e+00            1.000000e+00   \n",
       "25%               225.00000           8.000000e+00            8.000000e+00   \n",
       "50%               504.00000           2.400000e+01            1.600000e+01   \n",
       "75%               807.00000           3.200000e+01            3.200000e+01   \n",
       "max              1140.00000           7.700000e+01            7.700000e+01   \n",
       "\n",
       "               fare          tips         tolls        extras    trip_total  \\\n",
       "count  1.245689e+06  1.245689e+06  1.245689e+06  1.245689e+06  1.245689e+06   \n",
       "mean   1.240251e+01  1.376216e+00  4.248508e-03  9.401077e-01  1.481602e+01   \n",
       "std    2.153353e+01  2.654190e+00  1.260149e+00  1.523253e+01  2.784119e+01   \n",
       "min    0.000000e+00  0.000000e+00  0.000000e+00  0.000000e+00  0.000000e+00   \n",
       "25%    6.000000e+00  0.000000e+00  0.000000e+00  0.000000e+00  7.000000e+00   \n",
       "50%    8.000000e+00  0.000000e+00  0.000000e+00  0.000000e+00  9.500000e+00   \n",
       "75%    1.225000e+01  2.000000e+00  0.000000e+00  1.000000e+00  1.425000e+01   \n",
       "max    9.026310e+03  4.220000e+02  8.000000e+02  6.666660e+03  9.026310e+03   \n",
       "\n",
       "             company  pickup_latitude  pickup_longitude  dropoff_latitude  \\\n",
       "count  671305.000000     1.131368e+06      1.131368e+06      1.113250e+06   \n",
       "mean       83.407703     3.861354e+02      4.409327e+02      3.964387e+02   \n",
       "std        38.243598     2.540746e+02      1.890504e+02      2.560480e+02   \n",
       "min         2.000000     5.000000e+00      1.000000e+00      0.000000e+00   \n",
       "25%        82.000000     1.700000e+02      3.460000e+02      1.700000e+02   \n",
       "50%       101.000000     3.950000e+02      4.780000e+02      4.110000e+02   \n",
       "75%       107.000000     6.040000e+02      6.100000e+02      6.810000e+02   \n",
       "max       118.000000     7.840000e+02      7.850000e+02      7.840000e+02   \n",
       "\n",
       "       dropoff_longitude  \n",
       "count       1.113250e+06  \n",
       "mean        4.388257e+02  \n",
       "std         1.987694e+02  \n",
       "min         1.000000e+00  \n",
       "25%         2.700000e+02  \n",
       "50%         4.780000e+02  \n",
       "75%         6.100000e+02  \n",
       "max         7.850000e+02  "
      ]
     },
     "execution_count": 4,
     "metadata": {},
     "output_type": "execute_result"
    }
   ],
   "source": [
    "df.describe()"
   ]
  },
  {
   "cell_type": "markdown",
   "metadata": {},
   "source": [
    "## Data composition"
   ]
  },
  {
   "cell_type": "code",
   "execution_count": 5,
   "metadata": {},
   "outputs": [
    {
     "data": {
      "text/html": [
       "<div>\n",
       "<style>\n",
       "    .dataframe thead tr:only-child th {\n",
       "        text-align: right;\n",
       "    }\n",
       "\n",
       "    .dataframe thead th {\n",
       "        text-align: left;\n",
       "    }\n",
       "\n",
       "    .dataframe tbody tr th {\n",
       "        vertical-align: top;\n",
       "    }\n",
       "</style>\n",
       "<table border=\"1\" class=\"dataframe\">\n",
       "  <thead>\n",
       "    <tr style=\"text-align: right;\">\n",
       "      <th></th>\n",
       "      <th>taxi_id</th>\n",
       "      <th>trip_start_timestamp</th>\n",
       "      <th>trip_end_timestamp</th>\n",
       "      <th>trip_seconds</th>\n",
       "      <th>trip_miles</th>\n",
       "      <th>pickup_census_tract</th>\n",
       "      <th>dropoff_census_tract</th>\n",
       "      <th>pickup_community_area</th>\n",
       "      <th>dropoff_community_area</th>\n",
       "      <th>fare</th>\n",
       "      <th>tips</th>\n",
       "      <th>tolls</th>\n",
       "      <th>extras</th>\n",
       "      <th>trip_total</th>\n",
       "      <th>payment_type</th>\n",
       "      <th>company</th>\n",
       "      <th>pickup_latitude</th>\n",
       "      <th>pickup_longitude</th>\n",
       "      <th>dropoff_latitude</th>\n",
       "      <th>dropoff_longitude</th>\n",
       "    </tr>\n",
       "  </thead>\n",
       "  <tbody>\n",
       "    <tr>\n",
       "      <th>0</th>\n",
       "      <td>5240.0</td>\n",
       "      <td>2016-12-15 23:45:00</td>\n",
       "      <td>2016-12-16 00:00:00</td>\n",
       "      <td>900.0</td>\n",
       "      <td>2.5</td>\n",
       "      <td>NaN</td>\n",
       "      <td>307.0</td>\n",
       "      <td>8.0</td>\n",
       "      <td>32.0</td>\n",
       "      <td>10.75</td>\n",
       "      <td>2.45</td>\n",
       "      <td>0.0</td>\n",
       "      <td>1.0</td>\n",
       "      <td>14.70</td>\n",
       "      <td>Credit Card</td>\n",
       "      <td>NaN</td>\n",
       "      <td>754.0</td>\n",
       "      <td>410.0</td>\n",
       "      <td>64.0</td>\n",
       "      <td>231.0</td>\n",
       "    </tr>\n",
       "    <tr>\n",
       "      <th>1</th>\n",
       "      <td>1215.0</td>\n",
       "      <td>2016-12-12 07:15:00</td>\n",
       "      <td>2016-12-12 07:15:00</td>\n",
       "      <td>240.0</td>\n",
       "      <td>0.4</td>\n",
       "      <td>NaN</td>\n",
       "      <td>40.0</td>\n",
       "      <td>28.0</td>\n",
       "      <td>28.0</td>\n",
       "      <td>5.00</td>\n",
       "      <td>3.00</td>\n",
       "      <td>0.0</td>\n",
       "      <td>1.0</td>\n",
       "      <td>9.50</td>\n",
       "      <td>Credit Card</td>\n",
       "      <td>NaN</td>\n",
       "      <td>395.0</td>\n",
       "      <td>408.0</td>\n",
       "      <td>395.0</td>\n",
       "      <td>408.0</td>\n",
       "    </tr>\n",
       "    <tr>\n",
       "      <th>2</th>\n",
       "      <td>3673.0</td>\n",
       "      <td>2016-12-16 16:30:00</td>\n",
       "      <td>2016-12-16 17:00:00</td>\n",
       "      <td>2400.0</td>\n",
       "      <td>10.7</td>\n",
       "      <td>NaN</td>\n",
       "      <td>NaN</td>\n",
       "      <td>32.0</td>\n",
       "      <td>NaN</td>\n",
       "      <td>31.00</td>\n",
       "      <td>0.00</td>\n",
       "      <td>0.0</td>\n",
       "      <td>0.0</td>\n",
       "      <td>31.00</td>\n",
       "      <td>Cash</td>\n",
       "      <td>NaN</td>\n",
       "      <td>385.0</td>\n",
       "      <td>478.0</td>\n",
       "      <td>NaN</td>\n",
       "      <td>NaN</td>\n",
       "    </tr>\n",
       "    <tr>\n",
       "      <th>3</th>\n",
       "      <td>5400.0</td>\n",
       "      <td>2016-12-16 08:45:00</td>\n",
       "      <td>2016-12-16 09:00:00</td>\n",
       "      <td>300.0</td>\n",
       "      <td>0.0</td>\n",
       "      <td>NaN</td>\n",
       "      <td>787.0</td>\n",
       "      <td>8.0</td>\n",
       "      <td>8.0</td>\n",
       "      <td>5.25</td>\n",
       "      <td>2.00</td>\n",
       "      <td>0.0</td>\n",
       "      <td>0.0</td>\n",
       "      <td>7.25</td>\n",
       "      <td>Credit Card</td>\n",
       "      <td>101.0</td>\n",
       "      <td>688.0</td>\n",
       "      <td>206.0</td>\n",
       "      <td>161.0</td>\n",
       "      <td>649.0</td>\n",
       "    </tr>\n",
       "    <tr>\n",
       "      <th>4</th>\n",
       "      <td>1257.0</td>\n",
       "      <td>2016-12-3 18:45:00</td>\n",
       "      <td>2016-12-3 18:45:00</td>\n",
       "      <td>360.0</td>\n",
       "      <td>0.3</td>\n",
       "      <td>NaN</td>\n",
       "      <td>534.0</td>\n",
       "      <td>7.0</td>\n",
       "      <td>8.0</td>\n",
       "      <td>5.00</td>\n",
       "      <td>0.00</td>\n",
       "      <td>0.0</td>\n",
       "      <td>0.0</td>\n",
       "      <td>5.00</td>\n",
       "      <td>Cash</td>\n",
       "      <td>3.0</td>\n",
       "      <td>618.0</td>\n",
       "      <td>407.0</td>\n",
       "      <td>454.0</td>\n",
       "      <td>453.0</td>\n",
       "    </tr>\n",
       "  </tbody>\n",
       "</table>\n",
       "</div>"
      ],
      "text/plain": [
       "   taxi_id trip_start_timestamp   trip_end_timestamp  trip_seconds  \\\n",
       "0   5240.0  2016-12-15 23:45:00  2016-12-16 00:00:00         900.0   \n",
       "1   1215.0  2016-12-12 07:15:00  2016-12-12 07:15:00         240.0   \n",
       "2   3673.0  2016-12-16 16:30:00  2016-12-16 17:00:00        2400.0   \n",
       "3   5400.0  2016-12-16 08:45:00  2016-12-16 09:00:00         300.0   \n",
       "4   1257.0   2016-12-3 18:45:00   2016-12-3 18:45:00         360.0   \n",
       "\n",
       "   trip_miles  pickup_census_tract  dropoff_census_tract  \\\n",
       "0         2.5                  NaN                 307.0   \n",
       "1         0.4                  NaN                  40.0   \n",
       "2        10.7                  NaN                   NaN   \n",
       "3         0.0                  NaN                 787.0   \n",
       "4         0.3                  NaN                 534.0   \n",
       "\n",
       "   pickup_community_area  dropoff_community_area   fare  tips  tolls  extras  \\\n",
       "0                    8.0                    32.0  10.75  2.45    0.0     1.0   \n",
       "1                   28.0                    28.0   5.00  3.00    0.0     1.0   \n",
       "2                   32.0                     NaN  31.00  0.00    0.0     0.0   \n",
       "3                    8.0                     8.0   5.25  2.00    0.0     0.0   \n",
       "4                    7.0                     8.0   5.00  0.00    0.0     0.0   \n",
       "\n",
       "   trip_total payment_type  company  pickup_latitude  pickup_longitude  \\\n",
       "0       14.70  Credit Card      NaN            754.0             410.0   \n",
       "1        9.50  Credit Card      NaN            395.0             408.0   \n",
       "2       31.00         Cash      NaN            385.0             478.0   \n",
       "3        7.25  Credit Card    101.0            688.0             206.0   \n",
       "4        5.00         Cash      3.0            618.0             407.0   \n",
       "\n",
       "   dropoff_latitude  dropoff_longitude  \n",
       "0              64.0              231.0  \n",
       "1             395.0              408.0  \n",
       "2               NaN                NaN  \n",
       "3             161.0              649.0  \n",
       "4             454.0              453.0  "
      ]
     },
     "execution_count": 5,
     "metadata": {},
     "output_type": "execute_result"
    }
   ],
   "source": [
    "df.head()"
   ]
  },
  {
   "cell_type": "markdown",
   "metadata": {},
   "source": [
    "## Trip total"
   ]
  },
  {
   "cell_type": "code",
   "execution_count": 6,
   "metadata": {},
   "outputs": [
    {
     "data": {
      "text/plain": [
       "8.00      34073\n",
       "7.50      33439\n",
       "7.75      33390\n",
       "7.00      32997\n",
       "8.25      32543\n",
       "7.25      32381\n",
       "8.50      32027\n",
       "6.75      31294\n",
       "8.75      30886\n",
       "6.50      30499\n",
       "9.00      30355\n",
       "6.25      29124\n",
       "9.25      28614\n",
       "6.00      28281\n",
       "9.50      26726\n",
       "10.00     26626\n",
       "5.75      25997\n",
       "9.75      25794\n",
       "3.25      23978\n",
       "5.50      23684\n",
       "10.25     23073\n",
       "10.50     21892\n",
       "5.25      21161\n",
       "10.75     20445\n",
       "11.00     19624\n",
       "5.00      18484\n",
       "11.25     18076\n",
       "11.50     16596\n",
       "11.75     15617\n",
       "12.00     15257\n",
       "          ...  \n",
       "19.06        69\n",
       "9.30         69\n",
       "65.75        69\n",
       "8.05         68\n",
       "90.00        68\n",
       "64.75        68\n",
       "11.60        68\n",
       "62.80        68\n",
       "73.50        68\n",
       "31.10        68\n",
       "67.25        67\n",
       "68.50        67\n",
       "67.75        67\n",
       "10.20        67\n",
       "35.30        67\n",
       "58.31        67\n",
       "67.00        67\n",
       "81.00        67\n",
       "30.20        66\n",
       "48.40        66\n",
       "35.90        66\n",
       "26.55        66\n",
       "9.90         66\n",
       "8.70         66\n",
       "64.35        66\n",
       "69.75        65\n",
       "75.50        65\n",
       "26.85        65\n",
       "62.90        65\n",
       "100.00       65\n",
       "Name: trip_total, Length: 625, dtype: int64"
      ]
     },
     "execution_count": 6,
     "metadata": {},
     "output_type": "execute_result"
    }
   ],
   "source": [
    "tt = df.trip_total.value_counts()\n",
    "tt[:100]"
   ]
  },
  {
   "cell_type": "code",
   "execution_count": 7,
   "metadata": {},
   "outputs": [
    {
     "data": {
      "text/plain": [
       "count    1.245689e+06\n",
       "mean     1.481602e+01\n",
       "std      2.784119e+01\n",
       "min      0.000000e+00\n",
       "25%      7.000000e+00\n",
       "50%      9.500000e+00\n",
       "75%      1.425000e+01\n",
       "max      9.026310e+03\n",
       "Name: trip_total, dtype: float64"
      ]
     },
     "execution_count": 7,
     "metadata": {},
     "output_type": "execute_result"
    }
   ],
   "source": [
    "df.trip_total.describe()"
   ]
  },
  {
   "cell_type": "code",
   "execution_count": 8,
   "metadata": {},
   "outputs": [
    {
     "name": "stdout",
     "output_type": "stream",
     "text": [
      "No value rows in trip value column: 23\n",
      "No value rows in payment type column: 0\n"
     ]
    }
   ],
   "source": [
    "print('No value rows in trip value column:', df['trip_total'].isnull().sum())\n",
    "print('No value rows in payment type column:', df['payment_type'].isnull().sum())"
   ]
  },
  {
   "cell_type": "code",
   "execution_count": 9,
   "metadata": {},
   "outputs": [],
   "source": [
    "#Dropping no value rows in trip total column\n",
    "df.dropna(subset=['trip_total'], inplace=True)"
   ]
  },
  {
   "cell_type": "code",
   "execution_count": 10,
   "metadata": {},
   "outputs": [
    {
     "data": {
      "text/plain": [
       "(1245689, 20)"
      ]
     },
     "execution_count": 10,
     "metadata": {},
     "output_type": "execute_result"
    }
   ],
   "source": [
    "df.shape"
   ]
  },
  {
   "cell_type": "code",
   "execution_count": 11,
   "metadata": {},
   "outputs": [
    {
     "name": "stdout",
     "output_type": "stream",
     "text": [
      "Description of distribuition\n",
      "count    1245689.000000\n",
      "mean          14.816016\n",
      "std           27.841188\n",
      "min            0.000000\n",
      "25%            7.000000\n",
      "50%            9.500000\n",
      "75%           14.250000\n",
      "max         9026.310000\n",
      "Name: trip_total, dtype: object\n"
     ]
    }
   ],
   "source": [
    "print(\"Description of distribuition\")\n",
    "print(df.trip_total.describe().apply(lambda x: format(x, 'f')))"
   ]
  },
  {
   "cell_type": "code",
   "execution_count": 12,
   "metadata": {},
   "outputs": [
    {
     "data": {
      "image/png": "[encoded data removed]",
      "text/plain": [
       "<matplotlib.figure.Figure at 0x7f19227abd30>"
      ]
     },
     "metadata": {},
     "output_type": "display_data"
    }
   ],
   "source": [
    "plt.figure(figsize=(15,10))\n",
    "plt.subplot(2,1,1)\n",
    "\n",
    "g = sns.distplot(np.log(df.trip_total +1))\n",
    "\n",
    "g.set_title('Trip total Distribuition', fontsize=15)\n",
    "g.set_xlabel('Trip total')\n",
    "g.set_ylabel('Count', fontsize=12)\n",
    "\n",
    "plt.subplot(2,1,2)\n",
    "g2 = plt.scatter(range(df.shape[0]), np.sort(df.trip_total.values))\n",
    "g2= plt.title('Trip total Residual Distribuition', fontsize=15)\n",
    "g2 = plt.xlabel('Index')\n",
    "g2 = plt.ylabel('Amount(US)', fontsize=12)\n",
    "\n",
    "plt.show()"
   ]
  },
  {
   "cell_type": "markdown",
   "metadata": {},
   "source": [
    "### Research proposal"
   ]
  },
  {
   "cell_type": "markdown",
   "metadata": {},
   "source": [
    "Do taxi users use both credit cards and cash payment options for similar trip values?"
   ]
  },
  {
   "cell_type": "markdown",
   "metadata": {},
   "source": [
    " ### Hypothesis"
   ]
  },
  {
   "cell_type": "markdown",
   "metadata": {},
   "source": [
    "I expect to see a that users pick the cash option for trip values lower amounts (such as $50), and use credit cards for higher amounts."
   ]
  },
  {
   "cell_type": "markdown",
   "metadata": {},
   "source": [
    "### Method of Testing"
   ]
  },
  {
   "cell_type": "markdown",
   "metadata": {},
   "source": [
    "I'm going to use two columns: trip value and payment type. With these I'll create two new data frames, target_ca and target_cc, referring to those operations payed with credit card and cash respectively. Will observe a total of 1,245,712 operations, distribute them among trip values, analize each data frame's description in relation to the trip values and compare both of these sets of populations."
   ]
  },
  {
   "cell_type": "markdown",
   "metadata": {},
   "source": [
    "## Outcome"
   ]
  },
  {
   "cell_type": "markdown",
   "metadata": {},
   "source": [
    "Using plots will understand the data, and running a T-test will ensure us that there is a statistical difference or not between both populations."
   ]
  },
  {
   "cell_type": "code",
   "execution_count": 13,
   "metadata": {},
   "outputs": [
    {
     "data": {
      "image/png": "[encoded data removed]",
      "text/plain": [
       "<matplotlib.figure.Figure at 0x7f19245cd128>"
      ]
     },
     "metadata": {},
     "output_type": "display_data"
    }
   ],
   "source": [
    "# Sort the dataframe by target\n",
    "target_cc = df.loc[df['payment_type'] == 'Credit Card']\n",
    "target_ca = df.loc[df['payment_type'] == 'Cash']\n",
    "\n",
    "plt.figure(figsize=(15,10))\n",
    "\n",
    "plt.subplot(311)\n",
    "sns.distplot(np.log(target_cc[['trip_total']] + 1), color='g', label='Credit card payment')\n",
    "plt.legend(loc='upper right')\n",
    "plt.ylabel('Counts')\n",
    "plt.xlabel('Trip total')\n",
    "\n",
    "plt.subplot(312)\n",
    "sns.distplot(np.log(target_ca[['trip_total']] + 1), label='Cash payment')\n",
    "plt.legend(loc='upper right')\n",
    "plt.ylabel('Counts')\n",
    "plt.xlabel('Trip total')\n",
    "\n",
    "plt.subplot(313)\n",
    "sns.distplot(np.log(target_cc[['trip_total']] + 1), label='Credit card payment')\n",
    "sns.distplot(np.log(target_ca[['trip_total']] + 1), label='Cash payment')\n",
    "plt.legend(loc='upper right')\n",
    "plt.ylabel('Counts')\n",
    "plt.xlabel('Trip value')\n",
    "plt.show()"
   ]
  },
  {
   "cell_type": "code",
   "execution_count": 14,
   "metadata": {},
   "outputs": [
    {
     "data": {
      "text/html": [
       "<div>\n",
       "<style>\n",
       "    .dataframe thead tr:only-child th {\n",
       "        text-align: right;\n",
       "    }\n",
       "\n",
       "    .dataframe thead th {\n",
       "        text-align: left;\n",
       "    }\n",
       "\n",
       "    .dataframe tbody tr th {\n",
       "        vertical-align: top;\n",
       "    }\n",
       "</style>\n",
       "<table border=\"1\" class=\"dataframe\">\n",
       "  <thead>\n",
       "    <tr style=\"text-align: right;\">\n",
       "      <th></th>\n",
       "      <th>trip_total</th>\n",
       "    </tr>\n",
       "  </thead>\n",
       "  <tbody>\n",
       "    <tr>\n",
       "      <th>count</th>\n",
       "      <td>523461.000000</td>\n",
       "    </tr>\n",
       "    <tr>\n",
       "      <th>mean</th>\n",
       "      <td>19.408932</td>\n",
       "    </tr>\n",
       "    <tr>\n",
       "      <th>std</th>\n",
       "      <td>18.050859</td>\n",
       "    </tr>\n",
       "    <tr>\n",
       "      <th>min</th>\n",
       "      <td>0.000000</td>\n",
       "    </tr>\n",
       "    <tr>\n",
       "      <th>25%</th>\n",
       "      <td>9.000000</td>\n",
       "    </tr>\n",
       "    <tr>\n",
       "      <th>50%</th>\n",
       "      <td>11.750000</td>\n",
       "    </tr>\n",
       "    <tr>\n",
       "      <th>75%</th>\n",
       "      <td>19.800000</td>\n",
       "    </tr>\n",
       "    <tr>\n",
       "      <th>max</th>\n",
       "      <td>929.000000</td>\n",
       "    </tr>\n",
       "  </tbody>\n",
       "</table>\n",
       "</div>"
      ],
      "text/plain": [
       "          trip_total\n",
       "count  523461.000000\n",
       "mean       19.408932\n",
       "std        18.050859\n",
       "min         0.000000\n",
       "25%         9.000000\n",
       "50%        11.750000\n",
       "75%        19.800000\n",
       "max       929.000000"
      ]
     },
     "execution_count": 14,
     "metadata": {},
     "output_type": "execute_result"
    }
   ],
   "source": [
    "target_cc[['trip_total']].describe()"
   ]
  },
  {
   "cell_type": "code",
   "execution_count": 15,
   "metadata": {},
   "outputs": [
    {
     "data": {
      "text/html": [
       "<div>\n",
       "<style>\n",
       "    .dataframe thead tr:only-child th {\n",
       "        text-align: right;\n",
       "    }\n",
       "\n",
       "    .dataframe thead th {\n",
       "        text-align: left;\n",
       "    }\n",
       "\n",
       "    .dataframe tbody tr th {\n",
       "        vertical-align: top;\n",
       "    }\n",
       "</style>\n",
       "<table border=\"1\" class=\"dataframe\">\n",
       "  <thead>\n",
       "    <tr style=\"text-align: right;\">\n",
       "      <th></th>\n",
       "      <th>trip_total</th>\n",
       "    </tr>\n",
       "  </thead>\n",
       "  <tbody>\n",
       "    <tr>\n",
       "      <th>count</th>\n",
       "      <td>711434.000000</td>\n",
       "    </tr>\n",
       "    <tr>\n",
       "      <th>mean</th>\n",
       "      <td>11.452534</td>\n",
       "    </tr>\n",
       "    <tr>\n",
       "      <th>std</th>\n",
       "      <td>32.792418</td>\n",
       "    </tr>\n",
       "    <tr>\n",
       "      <th>min</th>\n",
       "      <td>0.000000</td>\n",
       "    </tr>\n",
       "    <tr>\n",
       "      <th>25%</th>\n",
       "      <td>6.000000</td>\n",
       "    </tr>\n",
       "    <tr>\n",
       "      <th>50%</th>\n",
       "      <td>8.000000</td>\n",
       "    </tr>\n",
       "    <tr>\n",
       "      <th>75%</th>\n",
       "      <td>11.250000</td>\n",
       "    </tr>\n",
       "    <tr>\n",
       "      <th>max</th>\n",
       "      <td>9026.310000</td>\n",
       "    </tr>\n",
       "  </tbody>\n",
       "</table>\n",
       "</div>"
      ],
      "text/plain": [
       "          trip_total\n",
       "count  711434.000000\n",
       "mean       11.452534\n",
       "std        32.792418\n",
       "min         0.000000\n",
       "25%         6.000000\n",
       "50%         8.000000\n",
       "75%        11.250000\n",
       "max      9026.310000"
      ]
     },
     "execution_count": 15,
     "metadata": {},
     "output_type": "execute_result"
    }
   ],
   "source": [
    "target_ca[['trip_total']].describe()"
   ]
  },
  {
   "cell_type": "code",
   "execution_count": 16,
   "metadata": {},
   "outputs": [
    {
     "name": "stdout",
     "output_type": "stream",
     "text": [
      "Credit card shape: (523461, 1)\n",
      "Cash shape: (711434, 1)\n"
     ]
    }
   ],
   "source": [
    "print('Credit card shape:', target_cc[['trip_total']].shape)\n",
    "print('Cash shape:', target_ca[['trip_total']].shape)"
   ]
  },
  {
   "cell_type": "code",
   "execution_count": 17,
   "metadata": {},
   "outputs": [
    {
     "data": {
      "text/plain": [
       "Ttest_indResult(statistic=array([ 172.23521627]), pvalue=array([ 0.]))"
      ]
     },
     "execution_count": 17,
     "metadata": {},
     "output_type": "execute_result"
    }
   ],
   "source": [
    "stats.ttest_ind(target_cc[['trip_total']], target_ca[['trip_total']], equal_var=False)"
   ]
  },
  {
   "cell_type": "markdown",
   "metadata": {},
   "source": [
    "## Conclusion"
   ]
  },
  {
   "cell_type": "markdown",
   "metadata": {},
   "source": [
    "Our p-value was not low. From the description of both new data frames we see that the mean trip value payed with credit card was US 19.41 and with cash US 11.45. Comparing the distribution plots, we visually confirm the latter. We can conclude that there is no significant difference in the use of payment types according to the trip value, which certainly surprises me. A further analysis could include what is the frequency of the use of cash at night times compared to day times."
   ]
  }
 ],
 "metadata": {
  "kernelspec": {
   "display_name": "Python 3",
   "language": "python",
   "name": "python3"
  },
  "language_info": {
   "codemirror_mode": {
    "name": "ipython",
    "version": 3
   },
   "file_extension": ".py",
   "mimetype": "text/x-python",
   "name": "python",
   "nbconvert_exporter": "python",
   "pygments_lexer": "ipython3",
   "version": "3.6.3"
  }
 },
 "nbformat": 4,
 "nbformat_minor": 2
}
