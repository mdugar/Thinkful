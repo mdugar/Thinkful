{
 "cells": [
  {
   "cell_type": "markdown",
   "metadata": {},
   "source": [
    "## 1.4.1 DRILL Getting Testy"
   ]
  },
  {
   "cell_type": "markdown",
   "metadata": {},
   "source": [
    "### 1. Does a new supplement help people sleep better?\n",
    "\n",
    "Two versions: People who take the supplement (test version) and people who don't take the supplement (control version). \n",
    "\n",
    "Sample: Large popullation and evenly distributed.\n",
    "\n",
    "Hypothesis: The new supplement increases the sleep time by 5 to 10 percent. \n",
    "\n",
    "Outcomes: Key metric to measure: time of sleep. Way of measuring: app, device?\n",
    "\n",
    "Other Variables Measured: did something vary beside the length? If so, were they restless? Did the percieve any side effect?\n",
    "\n",
    "### 2. Will new uniforms help a gym’s business?\n",
    "\n",
    "Two versions: assuming the gym has multiple location, we compare one with new uniforms (test version) and one with the old uniforms (control version).\n",
    "\n",
    "Sample: the comparison should be made with gyms in similar areas.\n",
    "\n",
    "Hypothesis: The new uniforms will increase profits bestween 5 and 10 percent.\n",
    "\n",
    "Outcomes: Key Metric: What were the profits?\n",
    "\n",
    "Other Variables Measured: More or less sign-ups? Churn rise or fall? Happy or not happy staff?\n",
    "\n",
    "### 3. Will a new homepage improve my online exotic pet rental business?\n",
    "\n",
    "Two versions: The old homepage (control version) and the new homepage (test version). \n",
    "\n",
    "Sample: Have both versions online, and send to a large number of people the old homepage, and to another large number of people send them the new one, in the form of newsletter.\n",
    "\n",
    "Hypothesis: The new homepage increases profits from 5 to 10 per cent.\n",
    "\n",
    "Outcomes: Key Metric: what is the profit with one homepage compared with the other one? \n",
    "\n",
    "Other Variables Measured: did pepole spend more time in the homepage? did they unsubscribe to the newsletter?\n",
    "\n",
    "### 4. If I put 'please read' in the email subject will more people read my emails?\n",
    "\n",
    "Two versions: email without \"please read\" (control version), and email with \"please read\" (test version).\n",
    "\n",
    "Sample: send both email to a large number of people.\n",
    "\n",
    "Hypothesis: Emails with \"please read\", will go to the site you indicate by 5 to 10 per cent more than the email withou the \"please read\".\n",
    "\n",
    "Outcomes: Site visit count from both set of email recipients.\n",
    "\n",
    "Other Variables Measured: how much time did people spend in the site? did they unsubscribe to the newsletter?"
   ]
  },
  {
   "cell_type": "code",
   "execution_count": null,
   "metadata": {
    "collapsed": true
   },
   "outputs": [],
   "source": []
  }
 ],
 "metadata": {
  "kernelspec": {
   "display_name": "Python 3",
   "language": "python",
   "name": "python3"
  },
  "language_info": {
   "codemirror_mode": {
    "name": "ipython",
    "version": 3
   },
   "file_extension": ".py",
   "mimetype": "text/x-python",
   "name": "python",
   "nbconvert_exporter": "python",
   "pygments_lexer": "ipython3",
   "version": "3.6.3"
  }
 },
 "nbformat": 4,
 "nbformat_minor": 2
}
