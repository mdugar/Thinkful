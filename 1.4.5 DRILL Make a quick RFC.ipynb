{
 "cells": [
  {
   "cell_type": "markdown",
   "metadata": {},
   "source": [
    "## 1.4.5 DRILL Make a quick RFC"
   ]
  },
  {
   "cell_type": "markdown",
   "metadata": {},
   "source": [
    "##### “A company with work sites in five different countries has sent you data on employee satisfaction rates for workers in Human Resources and workers in Information Technology. Most HR workers are concentrated in three of the countries, while IT workers are equally distributed across worksites. The company requests a report on satisfaction for each job type. You calculate average job satisfaction for HR and for IT and present the report.”\n",
    "\n",
    "\n",
    "After presenting the report we find that Location B of A, B, C, D, E shows a lower satisfaction rate than the other locations.\n",
    "\n",
    "__The probelm:__\n",
    "\n",
    "We have a location with a low satisfaction rate, which means less productivity, thus less profit. What can we do to boost the satisfaction rate? Are the factors internal, meaning we need to change our policies, or external due to political, weather, infraestructure, etc. cuases?\n",
    "\n",
    "__The potential solution:__\n",
    "\n",
    "We need to run a survey and determine where is the origin of the problem. Is it because there is less time for leisure, the lunch is not tasty, the location of the office is far away, the inflation rate in the country is high, the security in the country is low, our equipment is old and slow, etc.? Once we answer these questions we need to tackle for a solution accordingly. The survey will help us narrow the factors that make the employee's satisfcation higher or lower.\n",
    "\n",
    "__The method of testing the solution:__\n",
    "\n",
    "Once we made the survey, and for example, the results show us that a great factor is the location of the offices, we offer a shuttle service door to door for all employees for three months, and the choice of doing home office twice a week. If over the three months, and after a new survey the satisfaction rate continues to be the same, we need to adopt new measures, and if it increased will preserve the new adopted measures."
   ]
  }
 ],
 "metadata": {
  "kernelspec": {
   "display_name": "Python 3",
   "language": "python",
   "name": "python3"
  },
  "language_info": {
   "codemirror_mode": {
    "name": "ipython",
    "version": 3
   },
   "file_extension": ".py",
   "mimetype": "text/x-python",
   "name": "python",
   "nbconvert_exporter": "python",
   "pygments_lexer": "ipython3",
   "version": "3.6.3"
  }
 },
 "nbformat": 4,
 "nbformat_minor": 2
}
