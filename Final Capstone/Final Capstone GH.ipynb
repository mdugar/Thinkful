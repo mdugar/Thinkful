{
 "cells": [
  {
   "cell_type": "code",
   "execution_count": 1,
   "metadata": {},
   "outputs": [
    {
     "name": "stderr",
     "output_type": "stream",
     "text": [
      "/home/mache/anaconda3/lib/python3.6/site-packages/sklearn/cross_validation.py:41: DeprecationWarning: This module was deprecated in version 0.18 in favor of the model_selection module into which all the refactored classes and functions are moved. Also note that the interface of the new CV iterators are different from that of this module. This module will be removed in 0.20.\n",
      "  \"This module will be removed in 0.20.\", DeprecationWarning)\n"
     ]
    }
   ],
   "source": [
    "import pandas as pd\n",
    "import numpy as np\n",
    "from numpy import array\n",
    "from numpy import argmax\n",
    "import matplotlib as mpl\n",
    "import time \n",
    "\n",
    "import seaborn as sns\n",
    "import matplotlib.pyplot as plt\n",
    "import os\n",
    "\n",
    "import pylab as pl\n",
    "from scipy import stats\n",
    "\n",
    "import matplotlib.pyplot as pyplot\n",
    "from collections import Counter\n",
    "from imblearn.over_sampling import SMOTE\n",
    "\n",
    "from sklearn import svm\n",
    "\n",
    "from sklearn import metrics\n",
    "from sklearn.metrics import confusion_matrix, classification_report\n",
    "from sklearn.metrics import roc_curve\n",
    "from sklearn.metrics import accuracy_score\n",
    "from sklearn.metrics import recall_score\n",
    "from sklearn.metrics import log_loss\n",
    "\n",
    "from sklearn import model_selection\n",
    "from sklearn.model_selection import train_test_split, cross_val_score, GridSearchCV\n",
    "\n",
    "from sklearn import linear_model\n",
    "from sklearn.linear_model import LogisticRegression\n",
    "\n",
    "from sklearn import ensemble\n",
    "from sklearn.ensemble import RandomForestClassifier\n",
    "from sklearn.linear_model import RidgeClassifier\n",
    "\n",
    "from sklearn import preprocessing\n",
    "from sklearn.preprocessing import LabelEncoder\n",
    "from sklearn.preprocessing import StandardScaler\n",
    "from sklearn.preprocessing import LabelEncoder\n",
    "from sklearn.preprocessing import OneHotEncoder\n",
    "\n",
    "from sklearn.cross_validation import StratifiedKFold\n",
    "from sklearn.cluster import KMeans\n",
    "from sklearn.decomposition import PCA\n",
    "from sklearn.pipeline import Pipeline\n",
    "from sklearn.discriminant_analysis import LinearDiscriminantAnalysis\n",
    "from sklearn.tree import DecisionTreeClassifier\n",
    "from sklearn.naive_bayes import GaussianNB\n",
    "from sklearn.naive_bayes import BernoulliNB\n",
    "from sklearn.neighbors import KNeighborsClassifier\n",
    "\n",
    "from IPython.display import display\n",
    "from IPython.display import Image\n",
    "%matplotlib inline"
   ]
  },
  {
   "cell_type": "markdown",
   "metadata": {},
   "source": [
    "# Final Capstone\n",
    "## Exploring and modelling a tech giant's dataset.\n",
    "\n",
    "In this notebook, we'll explore and model a dataset from China's largest third-party mobile platform, TalkingData. Understanding that everyday choices and behaviors draw a picture of who we are and what we value, we can use this information to optimize apps and manage marketing resources. The dataset contains information regarding app usage, geolocation and mobile device properties. My objective is to predict user’s demographic characteristics based on the latter information, which in return gives us valuable information that will help millions of developers and brand advertisers around the world pursue data-driven marketing efforts which are relevant to their users and catered to their preferences.\n",
    "\n",
    "The dataset was obtained from a Kaggle competition that took place two years ago, the link to the dataset is the following:\n",
    "\n",
    "https://www.kaggle.com/c/talkingdata-mobile-user-demographics/data\n",
    "\n",
    "__Sections:__\n",
    "\n",
    "[Data](#section1)<br>\n",
    "[Data analysis](#section3)<br>\n",
    "[Combining Data](#section4)<br>\n",
    "[Training, testing and evaluation](#section5)<br>\n",
    "1. [Training and testing with GridSearchCV](#section6)<br>\n",
    "2. [Training and testing applying PCA](#section7)<br>\n",
    "3. [Training and testing applying PCA and KMeans Clustering](#section8)<br>\n",
    "4. [Running Neural Networks models](#section9)<br>"
   ]
  },
  {
   "cell_type": "markdown",
   "metadata": {},
   "source": [
    "<a id='section1'></a>\n",
    "## Dataset"
   ]
  },
  {
   "cell_type": "markdown",
   "metadata": {},
   "source": [
    "The original dataset consisted of 7 files that contained a minum of 930 rows and a maximum of 32473067, the corresponding shapes are the following:\n",
    "\n",
    "- App events shape: (32473067, 4)\n",
    "- App labels shape: (459943, 2)\n",
    "- App events shape: (3252950, 5)\n",
    "- Gender age train shape: (74645, 4)\n",
    "- Gender age test shape: (112071, 1)\n",
    "- Label Categories shape: (930, 3)\n",
    "- Phone brand device shape: (187245, 3)\n",
    "\n",
    "Therefore, to agilize the data processing of these files I decided to use the following function to chunk the files to approximately 0,5 % of the original size:"
   ]
  },
  {
   "cell_type": "code",
   "execution_count": 2,
   "metadata": {
    "collapsed": true
   },
   "outputs": [],
   "source": [
    "def split(filehandler, delimiter=',', row_limit=4500,\n",
    "          output_name_template='output_%s.csv', output_path='.', keep_headers=True):\n",
    "    reader = csv.reader(filehandler, delimiter=delimiter)\n",
    "    current_piece = 1\n",
    "    current_out_path = os.path.join(\n",
    "        output_path,\n",
    "        output_name_template % current_piece\n",
    "    )\n",
    "    current_out_writer = csv.writer(open(current_out_path, 'w'), delimiter=delimiter)\n",
    "    current_limit = row_limit\n",
    "    if keep_headers:\n",
    "        headers = next(reader)\n",
    "        current_out_writer.writerow(headers)\n",
    "    for i, row in enumerate(reader):\n",
    "        if i + 1 > current_limit:\n",
    "            current_piece += 1\n",
    "            current_limit = row_limit * current_piece\n",
    "            current_out_path = os.path.join(\n",
    "                output_path,\n",
    "                output_name_template % current_piece\n",
    "            )\n",
    "            current_out_writer = csv.writer(open(current_out_path, 'w'), delimiter=delimiter)\n",
    "            if keep_headers:\n",
    "                current_out_writer.writerow(headers)\n",
    "        current_out_writer.writerow(row)"
   ]
  },
  {
   "cell_type": "markdown",
   "metadata": {},
   "source": [
    "By doing this, and uploading the dataset to a Google Cloud Platform virtual machine of high performance, I was able to reduce the computational time it was taking to process my script on my personal computer."
   ]
  },
  {
   "cell_type": "markdown",
   "metadata": {},
   "source": [
    "As we have several dataset to our disposal I created various Pandas dataframes to manipulate and understand the data better. Later we will be able to combine alL the datasets to use in our quest for a rightious model."
   ]
  },
  {
   "cell_type": "code",
   "execution_count": 3,
   "metadata": {
    "collapsed": true
   },
   "outputs": [],
   "source": [
    "# Creating Pandas dataframes for each dataset\n",
    "\n",
    "app_events = pd.read_csv('app_events_smaller.csv')\n",
    "app_labels = pd.read_csv('app_labels_smaller.csv')\n",
    "events = pd.read_csv('events_smaller.csv')\n",
    "gender_age_test = pd.read_csv('gender_age_test_smaller.csv')\n",
    "gender_age_train = pd.read_csv('gender_age_20k.csv')\n",
    "label_categories = pd.read_csv('label_categories.csv')\n",
    "phone_brand_device_model = pd.read_csv('phone_brand_device_model.csv')\n",
    "gender_age_train_original = pd.read_csv('gender_age_train.csv')"
   ]
  },
  {
   "cell_type": "code",
   "execution_count": 4,
   "metadata": {},
   "outputs": [
    {
     "name": "stdout",
     "output_type": "stream",
     "text": [
      "Training dataset header:\n"
     ]
    },
    {
     "data": {
      "text/html": [
       "<div>\n",
       "<style scoped>\n",
       "    .dataframe tbody tr th:only-of-type {\n",
       "        vertical-align: middle;\n",
       "    }\n",
       "\n",
       "    .dataframe tbody tr th {\n",
       "        vertical-align: top;\n",
       "    }\n",
       "\n",
       "    .dataframe thead th {\n",
       "        text-align: right;\n",
       "    }\n",
       "</style>\n",
       "<table border=\"1\" class=\"dataframe\">\n",
       "  <thead>\n",
       "    <tr style=\"text-align: right;\">\n",
       "      <th></th>\n",
       "      <th>device_id</th>\n",
       "      <th>gender</th>\n",
       "      <th>age</th>\n",
       "      <th>group</th>\n",
       "    </tr>\n",
       "  </thead>\n",
       "  <tbody>\n",
       "    <tr>\n",
       "      <th>0</th>\n",
       "      <td>-8076087639492063270</td>\n",
       "      <td>M</td>\n",
       "      <td>35</td>\n",
       "      <td>M32-38</td>\n",
       "    </tr>\n",
       "    <tr>\n",
       "      <th>1</th>\n",
       "      <td>-2897161552818060146</td>\n",
       "      <td>M</td>\n",
       "      <td>35</td>\n",
       "      <td>M32-38</td>\n",
       "    </tr>\n",
       "    <tr>\n",
       "      <th>2</th>\n",
       "      <td>-8260683887967679142</td>\n",
       "      <td>M</td>\n",
       "      <td>35</td>\n",
       "      <td>M32-38</td>\n",
       "    </tr>\n",
       "    <tr>\n",
       "      <th>3</th>\n",
       "      <td>-4938849341048082022</td>\n",
       "      <td>M</td>\n",
       "      <td>30</td>\n",
       "      <td>M29-31</td>\n",
       "    </tr>\n",
       "    <tr>\n",
       "      <th>4</th>\n",
       "      <td>245133531816851882</td>\n",
       "      <td>M</td>\n",
       "      <td>30</td>\n",
       "      <td>M29-31</td>\n",
       "    </tr>\n",
       "  </tbody>\n",
       "</table>\n",
       "</div>"
      ],
      "text/plain": [
       "             device_id gender  age   group\n",
       "0 -8076087639492063270      M   35  M32-38\n",
       "1 -2897161552818060146      M   35  M32-38\n",
       "2 -8260683887967679142      M   35  M32-38\n",
       "3 -4938849341048082022      M   30  M29-31\n",
       "4   245133531816851882      M   30  M29-31"
      ]
     },
     "metadata": {},
     "output_type": "display_data"
    },
    {
     "name": "stdout",
     "output_type": "stream",
     "text": [
      "Dataset shape: (20000, 4)\n",
      "\n",
      "Events dataset header:\n"
     ]
    },
    {
     "data": {
      "text/html": [
       "<div>\n",
       "<style scoped>\n",
       "    .dataframe tbody tr th:only-of-type {\n",
       "        vertical-align: middle;\n",
       "    }\n",
       "\n",
       "    .dataframe tbody tr th {\n",
       "        vertical-align: top;\n",
       "    }\n",
       "\n",
       "    .dataframe thead th {\n",
       "        text-align: right;\n",
       "    }\n",
       "</style>\n",
       "<table border=\"1\" class=\"dataframe\">\n",
       "  <thead>\n",
       "    <tr style=\"text-align: right;\">\n",
       "      <th></th>\n",
       "      <th>event_id</th>\n",
       "      <th>device_id</th>\n",
       "      <th>timestamp</th>\n",
       "      <th>longitude</th>\n",
       "      <th>latitude</th>\n",
       "    </tr>\n",
       "  </thead>\n",
       "  <tbody>\n",
       "    <tr>\n",
       "      <th>0</th>\n",
       "      <td>1</td>\n",
       "      <td>29182687948017175</td>\n",
       "      <td>2016-05-01 00:55:25</td>\n",
       "      <td>121.38</td>\n",
       "      <td>31.24</td>\n",
       "    </tr>\n",
       "    <tr>\n",
       "      <th>1</th>\n",
       "      <td>2</td>\n",
       "      <td>-6401643145415154744</td>\n",
       "      <td>2016-05-01 00:54:12</td>\n",
       "      <td>103.65</td>\n",
       "      <td>30.97</td>\n",
       "    </tr>\n",
       "    <tr>\n",
       "      <th>2</th>\n",
       "      <td>3</td>\n",
       "      <td>-4833982096941402721</td>\n",
       "      <td>2016-05-01 00:08:05</td>\n",
       "      <td>106.60</td>\n",
       "      <td>29.70</td>\n",
       "    </tr>\n",
       "    <tr>\n",
       "      <th>3</th>\n",
       "      <td>4</td>\n",
       "      <td>-6815121365017318426</td>\n",
       "      <td>2016-05-01 00:06:40</td>\n",
       "      <td>104.27</td>\n",
       "      <td>23.28</td>\n",
       "    </tr>\n",
       "    <tr>\n",
       "      <th>4</th>\n",
       "      <td>5</td>\n",
       "      <td>-5373797595892518570</td>\n",
       "      <td>2016-05-01 00:07:18</td>\n",
       "      <td>115.88</td>\n",
       "      <td>28.66</td>\n",
       "    </tr>\n",
       "  </tbody>\n",
       "</table>\n",
       "</div>"
      ],
      "text/plain": [
       "   event_id            device_id            timestamp  longitude  latitude\n",
       "0         1    29182687948017175  2016-05-01 00:55:25     121.38     31.24\n",
       "1         2 -6401643145415154744  2016-05-01 00:54:12     103.65     30.97\n",
       "2         3 -4833982096941402721  2016-05-01 00:08:05     106.60     29.70\n",
       "3         4 -6815121365017318426  2016-05-01 00:06:40     104.27     23.28\n",
       "4         5 -5373797595892518570  2016-05-01 00:07:18     115.88     28.66"
      ]
     },
     "metadata": {},
     "output_type": "display_data"
    },
    {
     "name": "stdout",
     "output_type": "stream",
     "text": [
      "Dataset shape: (30000, 5)\n",
      "\n",
      "App events dataset header:\n"
     ]
    },
    {
     "data": {
      "text/html": [
       "<div>\n",
       "<style scoped>\n",
       "    .dataframe tbody tr th:only-of-type {\n",
       "        vertical-align: middle;\n",
       "    }\n",
       "\n",
       "    .dataframe tbody tr th {\n",
       "        vertical-align: top;\n",
       "    }\n",
       "\n",
       "    .dataframe thead th {\n",
       "        text-align: right;\n",
       "    }\n",
       "</style>\n",
       "<table border=\"1\" class=\"dataframe\">\n",
       "  <thead>\n",
       "    <tr style=\"text-align: right;\">\n",
       "      <th></th>\n",
       "      <th>event_id</th>\n",
       "      <th>app_id</th>\n",
       "      <th>is_installed</th>\n",
       "      <th>is_active</th>\n",
       "    </tr>\n",
       "  </thead>\n",
       "  <tbody>\n",
       "    <tr>\n",
       "      <th>0</th>\n",
       "      <td>2</td>\n",
       "      <td>5927333115845830913</td>\n",
       "      <td>1</td>\n",
       "      <td>1</td>\n",
       "    </tr>\n",
       "    <tr>\n",
       "      <th>1</th>\n",
       "      <td>2</td>\n",
       "      <td>-5720078949152207372</td>\n",
       "      <td>1</td>\n",
       "      <td>0</td>\n",
       "    </tr>\n",
       "    <tr>\n",
       "      <th>2</th>\n",
       "      <td>2</td>\n",
       "      <td>-1633887856876571208</td>\n",
       "      <td>1</td>\n",
       "      <td>0</td>\n",
       "    </tr>\n",
       "    <tr>\n",
       "      <th>3</th>\n",
       "      <td>2</td>\n",
       "      <td>-653184325010919369</td>\n",
       "      <td>1</td>\n",
       "      <td>1</td>\n",
       "    </tr>\n",
       "    <tr>\n",
       "      <th>4</th>\n",
       "      <td>2</td>\n",
       "      <td>8693964245073640147</td>\n",
       "      <td>1</td>\n",
       "      <td>1</td>\n",
       "    </tr>\n",
       "  </tbody>\n",
       "</table>\n",
       "</div>"
      ],
      "text/plain": [
       "   event_id               app_id  is_installed  is_active\n",
       "0         2  5927333115845830913             1          1\n",
       "1         2 -5720078949152207372             1          0\n",
       "2         2 -1633887856876571208             1          0\n",
       "3         2  -653184325010919369             1          1\n",
       "4         2  8693964245073640147             1          1"
      ]
     },
     "metadata": {},
     "output_type": "display_data"
    },
    {
     "name": "stdout",
     "output_type": "stream",
     "text": [
      "Dataset shape: (300000, 4)\n",
      "\n",
      "App labels dataset header:\n"
     ]
    },
    {
     "data": {
      "text/html": [
       "<div>\n",
       "<style scoped>\n",
       "    .dataframe tbody tr th:only-of-type {\n",
       "        vertical-align: middle;\n",
       "    }\n",
       "\n",
       "    .dataframe tbody tr th {\n",
       "        vertical-align: top;\n",
       "    }\n",
       "\n",
       "    .dataframe thead th {\n",
       "        text-align: right;\n",
       "    }\n",
       "</style>\n",
       "<table border=\"1\" class=\"dataframe\">\n",
       "  <thead>\n",
       "    <tr style=\"text-align: right;\">\n",
       "      <th></th>\n",
       "      <th>app_id</th>\n",
       "      <th>label_id</th>\n",
       "    </tr>\n",
       "  </thead>\n",
       "  <tbody>\n",
       "    <tr>\n",
       "      <th>0</th>\n",
       "      <td>7324884708820027918</td>\n",
       "      <td>251</td>\n",
       "    </tr>\n",
       "    <tr>\n",
       "      <th>1</th>\n",
       "      <td>-4494216993218550286</td>\n",
       "      <td>251</td>\n",
       "    </tr>\n",
       "    <tr>\n",
       "      <th>2</th>\n",
       "      <td>6058196446775239644</td>\n",
       "      <td>406</td>\n",
       "    </tr>\n",
       "    <tr>\n",
       "      <th>3</th>\n",
       "      <td>6058196446775239644</td>\n",
       "      <td>407</td>\n",
       "    </tr>\n",
       "    <tr>\n",
       "      <th>4</th>\n",
       "      <td>8694625920731541625</td>\n",
       "      <td>406</td>\n",
       "    </tr>\n",
       "  </tbody>\n",
       "</table>\n",
       "</div>"
      ],
      "text/plain": [
       "                app_id  label_id\n",
       "0  7324884708820027918       251\n",
       "1 -4494216993218550286       251\n",
       "2  6058196446775239644       406\n",
       "3  6058196446775239644       407\n",
       "4  8694625920731541625       406"
      ]
     },
     "metadata": {},
     "output_type": "display_data"
    },
    {
     "name": "stdout",
     "output_type": "stream",
     "text": [
      "Dataset shape: (45000, 2)\n",
      "\n",
      "Label categories dataset header:\n"
     ]
    },
    {
     "data": {
      "text/html": [
       "<div>\n",
       "<style scoped>\n",
       "    .dataframe tbody tr th:only-of-type {\n",
       "        vertical-align: middle;\n",
       "    }\n",
       "\n",
       "    .dataframe tbody tr th {\n",
       "        vertical-align: top;\n",
       "    }\n",
       "\n",
       "    .dataframe thead th {\n",
       "        text-align: right;\n",
       "    }\n",
       "</style>\n",
       "<table border=\"1\" class=\"dataframe\">\n",
       "  <thead>\n",
       "    <tr style=\"text-align: right;\">\n",
       "      <th></th>\n",
       "      <th>label_id</th>\n",
       "      <th>category</th>\n",
       "      <th>label_itunes_id</th>\n",
       "    </tr>\n",
       "  </thead>\n",
       "  <tbody>\n",
       "    <tr>\n",
       "      <th>0</th>\n",
       "      <td>1</td>\n",
       "      <td>NaN</td>\n",
       "      <td>26</td>\n",
       "    </tr>\n",
       "    <tr>\n",
       "      <th>1</th>\n",
       "      <td>2</td>\n",
       "      <td>game-game type</td>\n",
       "      <td>8</td>\n",
       "    </tr>\n",
       "    <tr>\n",
       "      <th>2</th>\n",
       "      <td>3</td>\n",
       "      <td>game-Game themes</td>\n",
       "      <td>8</td>\n",
       "    </tr>\n",
       "    <tr>\n",
       "      <th>3</th>\n",
       "      <td>4</td>\n",
       "      <td>game-Art Style</td>\n",
       "      <td>8</td>\n",
       "    </tr>\n",
       "    <tr>\n",
       "      <th>4</th>\n",
       "      <td>5</td>\n",
       "      <td>game-Leisure time</td>\n",
       "      <td>8</td>\n",
       "    </tr>\n",
       "  </tbody>\n",
       "</table>\n",
       "</div>"
      ],
      "text/plain": [
       "   label_id           category  label_itunes_id\n",
       "0         1                NaN               26\n",
       "1         2     game-game type                8\n",
       "2         3   game-Game themes                8\n",
       "3         4     game-Art Style                8\n",
       "4         5  game-Leisure time                8"
      ]
     },
     "metadata": {},
     "output_type": "display_data"
    },
    {
     "name": "stdout",
     "output_type": "stream",
     "text": [
      "Dataset shape: (930, 3)\n",
      "\n",
      "Phone brand & device model dataset header:\n"
     ]
    },
    {
     "data": {
      "text/html": [
       "<div>\n",
       "<style scoped>\n",
       "    .dataframe tbody tr th:only-of-type {\n",
       "        vertical-align: middle;\n",
       "    }\n",
       "\n",
       "    .dataframe tbody tr th {\n",
       "        vertical-align: top;\n",
       "    }\n",
       "\n",
       "    .dataframe thead th {\n",
       "        text-align: right;\n",
       "    }\n",
       "</style>\n",
       "<table border=\"1\" class=\"dataframe\">\n",
       "  <thead>\n",
       "    <tr style=\"text-align: right;\">\n",
       "      <th></th>\n",
       "      <th>device_id</th>\n",
       "      <th>phone_brand</th>\n",
       "      <th>device_model</th>\n",
       "    </tr>\n",
       "  </thead>\n",
       "  <tbody>\n",
       "    <tr>\n",
       "      <th>0</th>\n",
       "      <td>-8890648629457979026</td>\n",
       "      <td>小米</td>\n",
       "      <td>红米</td>\n",
       "    </tr>\n",
       "    <tr>\n",
       "      <th>1</th>\n",
       "      <td>1277779817574759137</td>\n",
       "      <td>小米</td>\n",
       "      <td>MI 2</td>\n",
       "    </tr>\n",
       "    <tr>\n",
       "      <th>2</th>\n",
       "      <td>5137427614288105724</td>\n",
       "      <td>三星</td>\n",
       "      <td>Galaxy S4</td>\n",
       "    </tr>\n",
       "    <tr>\n",
       "      <th>3</th>\n",
       "      <td>3669464369358936369</td>\n",
       "      <td>SUGAR</td>\n",
       "      <td>时尚手机</td>\n",
       "    </tr>\n",
       "    <tr>\n",
       "      <th>4</th>\n",
       "      <td>-5019277647504317457</td>\n",
       "      <td>三星</td>\n",
       "      <td>Galaxy Note 2</td>\n",
       "    </tr>\n",
       "  </tbody>\n",
       "</table>\n",
       "</div>"
      ],
      "text/plain": [
       "             device_id phone_brand   device_model\n",
       "0 -8890648629457979026          小米             红米\n",
       "1  1277779817574759137          小米           MI 2\n",
       "2  5137427614288105724          三星      Galaxy S4\n",
       "3  3669464369358936369       SUGAR           时尚手机\n",
       "4 -5019277647504317457          三星  Galaxy Note 2"
      ]
     },
     "metadata": {},
     "output_type": "display_data"
    },
    {
     "name": "stdout",
     "output_type": "stream",
     "text": [
      "Dataset shape: (187245, 3)\n"
     ]
    }
   ],
   "source": [
    "print('Training dataset header:')\n",
    "display(gender_age_train.head())\n",
    "print('Dataset shape:', gender_age_train.shape)\n",
    "print('')\n",
    "print('Events dataset header:')\n",
    "display(events.head())\n",
    "print('Dataset shape:', events.shape)\n",
    "print('')\n",
    "print('App events dataset header:')\n",
    "display(app_events.head())\n",
    "print('Dataset shape:', app_events.shape)\n",
    "print('')\n",
    "print('App labels dataset header:')\n",
    "display(app_labels.head())\n",
    "print('Dataset shape:', app_labels.shape)\n",
    "print('')\n",
    "print('Label categories dataset header:')\n",
    "display(label_categories.head())\n",
    "print('Dataset shape:', label_categories.shape)\n",
    "print('')\n",
    "print('Phone brand & device model dataset header:')\n",
    "display(phone_brand_device_model.head())\n",
    "print('Dataset shape:', phone_brand_device_model.shape)"
   ]
  },
  {
   "cell_type": "code",
   "execution_count": 5,
   "metadata": {
    "collapsed": true
   },
   "outputs": [],
   "source": [
    "app_events = app_events.drop_duplicates()"
   ]
  },
  {
   "cell_type": "markdown",
   "metadata": {},
   "source": [
    "### Entity relationship diagram (ERD) & desired combined dataframe"
   ]
  },
  {
   "cell_type": "markdown",
   "metadata": {},
   "source": [
    "The following image shows the composition of each csv file in relation to it's features and how we may relate them to create a final combined dataframe that can be useful for our modelling goals."
   ]
  },
  {
   "cell_type": "code",
   "execution_count": 6,
   "metadata": {},
   "outputs": [
    {
     "data": {
      "image/png": "[encoded data removed]",
      "text/plain": [
       "<IPython.core.display.Image object>"
      ]
     },
     "execution_count": 6,
     "metadata": {},
     "output_type": "execute_result"
    }
   ],
   "source": [
    "# This ERD was created at https://www.draw.io/\n",
    "Image(filename='desired.png')"
   ]
  },
  {
   "cell_type": "markdown",
   "metadata": {},
   "source": [
    "<a id='section3'></a>\n",
    "## Data analysis"
   ]
  },
  {
   "cell_type": "markdown",
   "metadata": {},
   "source": [
    "### Gender & Age exploration"
   ]
  },
  {
   "cell_type": "markdown",
   "metadata": {},
   "source": [
    "To analyze the user gender and mobile phone comparisons, we will combine both respective datasets, gender_age_train and phone_brand_device_model, using device_id as the merging column."
   ]
  },
  {
   "cell_type": "markdown",
   "metadata": {},
   "source": [
    "#### Checking for missing values"
   ]
  },
  {
   "cell_type": "code",
   "execution_count": 7,
   "metadata": {},
   "outputs": [
    {
     "data": {
      "text/plain": [
       "device_id    0\n",
       "gender       0\n",
       "age          0\n",
       "group        0\n",
       "dtype: int64"
      ]
     },
     "execution_count": 7,
     "metadata": {},
     "output_type": "execute_result"
    }
   ],
   "source": [
    "gender_age_train_original.isna().sum()"
   ]
  },
  {
   "cell_type": "code",
   "execution_count": 8,
   "metadata": {},
   "outputs": [
    {
     "data": {
      "text/plain": [
       "device_id       0\n",
       "phone_brand     0\n",
       "device_model    0\n",
       "dtype: int64"
      ]
     },
     "execution_count": 8,
     "metadata": {},
     "output_type": "execute_result"
    }
   ],
   "source": [
    "phone_brand_device_model.isna().sum()"
   ]
  },
  {
   "cell_type": "markdown",
   "metadata": {},
   "source": [
    "#### Checking for duplicates and dropping them"
   ]
  },
  {
   "cell_type": "code",
   "execution_count": 9,
   "metadata": {},
   "outputs": [
    {
     "data": {
      "text/plain": [
       "0"
      ]
     },
     "execution_count": 9,
     "metadata": {},
     "output_type": "execute_result"
    }
   ],
   "source": [
    "gender_age_train_original.device_id.duplicated().sum()"
   ]
  },
  {
   "cell_type": "code",
   "execution_count": 10,
   "metadata": {},
   "outputs": [
    {
     "data": {
      "text/plain": [
       "529"
      ]
     },
     "execution_count": 10,
     "metadata": {},
     "output_type": "execute_result"
    }
   ],
   "source": [
    "phone_brand_device_model.device_id.duplicated().sum()"
   ]
  },
  {
   "cell_type": "code",
   "execution_count": 11,
   "metadata": {},
   "outputs": [
    {
     "data": {
      "text/plain": [
       "(186716,)"
      ]
     },
     "execution_count": 11,
     "metadata": {},
     "output_type": "execute_result"
    }
   ],
   "source": [
    "phone_brand_device_model.device_id.drop_duplicates().shape"
   ]
  },
  {
   "cell_type": "markdown",
   "metadata": {},
   "source": [
    "#### Merging gender_age_train & phone_brand_device_model"
   ]
  },
  {
   "cell_type": "code",
   "execution_count": 12,
   "metadata": {
    "collapsed": true
   },
   "outputs": [],
   "source": [
    "analyze_df_1 = pd.merge(gender_age_train_original, phone_brand_device_model, left_on='device_id', right_on='device_id')"
   ]
  },
  {
   "cell_type": "code",
   "execution_count": 13,
   "metadata": {},
   "outputs": [
    {
     "data": {
      "text/html": [
       "<div>\n",
       "<style scoped>\n",
       "    .dataframe tbody tr th:only-of-type {\n",
       "        vertical-align: middle;\n",
       "    }\n",
       "\n",
       "    .dataframe tbody tr th {\n",
       "        vertical-align: top;\n",
       "    }\n",
       "\n",
       "    .dataframe thead th {\n",
       "        text-align: right;\n",
       "    }\n",
       "</style>\n",
       "<table border=\"1\" class=\"dataframe\">\n",
       "  <thead>\n",
       "    <tr style=\"text-align: right;\">\n",
       "      <th></th>\n",
       "      <th>device_id</th>\n",
       "      <th>gender</th>\n",
       "      <th>age</th>\n",
       "      <th>group</th>\n",
       "      <th>phone_brand</th>\n",
       "      <th>device_model</th>\n",
       "    </tr>\n",
       "  </thead>\n",
       "  <tbody>\n",
       "    <tr>\n",
       "      <th>0</th>\n",
       "      <td>-8076087639492063270</td>\n",
       "      <td>M</td>\n",
       "      <td>35</td>\n",
       "      <td>M32-38</td>\n",
       "      <td>小米</td>\n",
       "      <td>MI 2</td>\n",
       "    </tr>\n",
       "    <tr>\n",
       "      <th>1</th>\n",
       "      <td>-2897161552818060146</td>\n",
       "      <td>M</td>\n",
       "      <td>35</td>\n",
       "      <td>M32-38</td>\n",
       "      <td>小米</td>\n",
       "      <td>MI 2</td>\n",
       "    </tr>\n",
       "    <tr>\n",
       "      <th>2</th>\n",
       "      <td>-8260683887967679142</td>\n",
       "      <td>M</td>\n",
       "      <td>35</td>\n",
       "      <td>M32-38</td>\n",
       "      <td>小米</td>\n",
       "      <td>MI 2</td>\n",
       "    </tr>\n",
       "    <tr>\n",
       "      <th>3</th>\n",
       "      <td>-4938849341048082022</td>\n",
       "      <td>M</td>\n",
       "      <td>30</td>\n",
       "      <td>M29-31</td>\n",
       "      <td>小米</td>\n",
       "      <td>红米note</td>\n",
       "    </tr>\n",
       "    <tr>\n",
       "      <th>4</th>\n",
       "      <td>245133531816851882</td>\n",
       "      <td>M</td>\n",
       "      <td>30</td>\n",
       "      <td>M29-31</td>\n",
       "      <td>小米</td>\n",
       "      <td>MI 3</td>\n",
       "    </tr>\n",
       "  </tbody>\n",
       "</table>\n",
       "</div>"
      ],
      "text/plain": [
       "             device_id gender  age   group phone_brand device_model\n",
       "0 -8076087639492063270      M   35  M32-38          小米         MI 2\n",
       "1 -2897161552818060146      M   35  M32-38          小米         MI 2\n",
       "2 -8260683887967679142      M   35  M32-38          小米         MI 2\n",
       "3 -4938849341048082022      M   30  M29-31          小米       红米note\n",
       "4   245133531816851882      M   30  M29-31          小米         MI 3"
      ]
     },
     "execution_count": 13,
     "metadata": {},
     "output_type": "execute_result"
    }
   ],
   "source": [
    "analyze_df_1.head()"
   ]
  },
  {
   "cell_type": "code",
   "execution_count": 14,
   "metadata": {},
   "outputs": [
    {
     "data": {
      "text/html": [
       "<div>\n",
       "<style scoped>\n",
       "    .dataframe tbody tr th:only-of-type {\n",
       "        vertical-align: middle;\n",
       "    }\n",
       "\n",
       "    .dataframe tbody tr th {\n",
       "        vertical-align: top;\n",
       "    }\n",
       "\n",
       "    .dataframe thead th {\n",
       "        text-align: right;\n",
       "    }\n",
       "</style>\n",
       "<table border=\"1\" class=\"dataframe\">\n",
       "  <thead>\n",
       "    <tr style=\"text-align: right;\">\n",
       "      <th></th>\n",
       "      <th>device_id</th>\n",
       "      <th>gender</th>\n",
       "      <th>age</th>\n",
       "      <th>group</th>\n",
       "      <th>phone_brand</th>\n",
       "      <th>device_model</th>\n",
       "    </tr>\n",
       "  </thead>\n",
       "  <tbody>\n",
       "    <tr>\n",
       "      <th>count</th>\n",
       "      <td>7.483900e+04</td>\n",
       "      <td>74839</td>\n",
       "      <td>74839.000000</td>\n",
       "      <td>74839</td>\n",
       "      <td>74839</td>\n",
       "      <td>74839</td>\n",
       "    </tr>\n",
       "    <tr>\n",
       "      <th>unique</th>\n",
       "      <td>NaN</td>\n",
       "      <td>2</td>\n",
       "      <td>NaN</td>\n",
       "      <td>12</td>\n",
       "      <td>120</td>\n",
       "      <td>1438</td>\n",
       "    </tr>\n",
       "    <tr>\n",
       "      <th>top</th>\n",
       "      <td>NaN</td>\n",
       "      <td>M</td>\n",
       "      <td>NaN</td>\n",
       "      <td>M23-26</td>\n",
       "      <td>小米</td>\n",
       "      <td>红米note</td>\n",
       "    </tr>\n",
       "    <tr>\n",
       "      <th>freq</th>\n",
       "      <td>NaN</td>\n",
       "      <td>48034</td>\n",
       "      <td>NaN</td>\n",
       "      <td>9629</td>\n",
       "      <td>17336</td>\n",
       "      <td>3016</td>\n",
       "    </tr>\n",
       "    <tr>\n",
       "      <th>mean</th>\n",
       "      <td>1.375210e+14</td>\n",
       "      <td>NaN</td>\n",
       "      <td>31.407956</td>\n",
       "      <td>NaN</td>\n",
       "      <td>NaN</td>\n",
       "      <td>NaN</td>\n",
       "    </tr>\n",
       "    <tr>\n",
       "      <th>std</th>\n",
       "      <td>5.327451e+18</td>\n",
       "      <td>NaN</td>\n",
       "      <td>9.867341</td>\n",
       "      <td>NaN</td>\n",
       "      <td>NaN</td>\n",
       "      <td>NaN</td>\n",
       "    </tr>\n",
       "    <tr>\n",
       "      <th>min</th>\n",
       "      <td>-9.223067e+18</td>\n",
       "      <td>NaN</td>\n",
       "      <td>1.000000</td>\n",
       "      <td>NaN</td>\n",
       "      <td>NaN</td>\n",
       "      <td>NaN</td>\n",
       "    </tr>\n",
       "    <tr>\n",
       "      <th>25%</th>\n",
       "      <td>-4.617687e+18</td>\n",
       "      <td>NaN</td>\n",
       "      <td>25.000000</td>\n",
       "      <td>NaN</td>\n",
       "      <td>NaN</td>\n",
       "      <td>NaN</td>\n",
       "    </tr>\n",
       "    <tr>\n",
       "      <th>50%</th>\n",
       "      <td>-1.833915e+16</td>\n",
       "      <td>NaN</td>\n",
       "      <td>29.000000</td>\n",
       "      <td>NaN</td>\n",
       "      <td>NaN</td>\n",
       "      <td>NaN</td>\n",
       "    </tr>\n",
       "    <tr>\n",
       "      <th>75%</th>\n",
       "      <td>4.638518e+18</td>\n",
       "      <td>NaN</td>\n",
       "      <td>36.000000</td>\n",
       "      <td>NaN</td>\n",
       "      <td>NaN</td>\n",
       "      <td>NaN</td>\n",
       "    </tr>\n",
       "    <tr>\n",
       "      <th>max</th>\n",
       "      <td>9.222849e+18</td>\n",
       "      <td>NaN</td>\n",
       "      <td>96.000000</td>\n",
       "      <td>NaN</td>\n",
       "      <td>NaN</td>\n",
       "      <td>NaN</td>\n",
       "    </tr>\n",
       "  </tbody>\n",
       "</table>\n",
       "</div>"
      ],
      "text/plain": [
       "           device_id gender           age   group phone_brand device_model\n",
       "count   7.483900e+04  74839  74839.000000   74839       74839        74839\n",
       "unique           NaN      2           NaN      12         120         1438\n",
       "top              NaN      M           NaN  M23-26          小米       红米note\n",
       "freq             NaN  48034           NaN    9629       17336         3016\n",
       "mean    1.375210e+14    NaN     31.407956     NaN         NaN          NaN\n",
       "std     5.327451e+18    NaN      9.867341     NaN         NaN          NaN\n",
       "min    -9.223067e+18    NaN      1.000000     NaN         NaN          NaN\n",
       "25%    -4.617687e+18    NaN     25.000000     NaN         NaN          NaN\n",
       "50%    -1.833915e+16    NaN     29.000000     NaN         NaN          NaN\n",
       "75%     4.638518e+18    NaN     36.000000     NaN         NaN          NaN\n",
       "max     9.222849e+18    NaN     96.000000     NaN         NaN          NaN"
      ]
     },
     "execution_count": 14,
     "metadata": {},
     "output_type": "execute_result"
    }
   ],
   "source": [
    "analyze_df_1.describe(include='all')"
   ]
  },
  {
   "cell_type": "markdown",
   "metadata": {},
   "source": [
    "From the description above we can see that there are more male users than female users, the minimum age is 1 and maximum 96 and that the top phone brand is 小米 (Xiamoi) summing 17,336 devices in our dataset."
   ]
  },
  {
   "cell_type": "markdown",
   "metadata": {},
   "source": [
    "#### Graphical description"
   ]
  },
  {
   "cell_type": "code",
   "execution_count": 15,
   "metadata": {},
   "outputs": [
    {
     "data": {
      "image/png": "[encoded data removed]",
      "text/plain": [
       "<matplotlib.figure.Figure at 0x7f64c12f1748>"
      ]
     },
     "metadata": {},
     "output_type": "display_data"
    }
   ],
   "source": [
    "# Box plots\n",
    "analyze_df_1.age.plot(kind='box', subplots=False, figsize=(15,5))\n",
    "plt.plot()\n",
    "plt.show()"
   ]
  },
  {
   "cell_type": "markdown",
   "metadata": {},
   "source": [
    "From the boxplot above we can see that there are several age outliers above 55 years and some below 5 years, so will drop those outliers and plot a new boxplot:"
   ]
  },
  {
   "cell_type": "code",
   "execution_count": 16,
   "metadata": {
    "collapsed": true
   },
   "outputs": [],
   "source": [
    "analyze_df_2 = analyze_df_1[analyze_df_1.age < 55]\n",
    "analyze_df_2 = analyze_df_2[analyze_df_2.age > 5]"
   ]
  },
  {
   "cell_type": "code",
   "execution_count": 17,
   "metadata": {},
   "outputs": [
    {
     "data": {
      "image/png": "[encoded data removed]",
      "text/plain": [
       "<matplotlib.figure.Figure at 0x7f64c1603470>"
      ]
     },
     "metadata": {},
     "output_type": "display_data"
    }
   ],
   "source": [
    "analyze_df_2.age.plot(kind='box', subplots=False, figsize=(15,5))\n",
    "plt.plot()\n",
    "plt.show()"
   ]
  },
  {
   "cell_type": "code",
   "execution_count": 18,
   "metadata": {},
   "outputs": [
    {
     "data": {
      "text/plain": [
       "count    72486.000000\n",
       "mean        30.392917\n",
       "std          8.146644\n",
       "min          6.000000\n",
       "25%         25.000000\n",
       "50%         29.000000\n",
       "75%         35.000000\n",
       "max         54.000000\n",
       "Name: age, dtype: float64"
      ]
     },
     "execution_count": 18,
     "metadata": {},
     "output_type": "execute_result"
    }
   ],
   "source": [
    "analyze_df_2.age.describe()"
   ]
  },
  {
   "cell_type": "markdown",
   "metadata": {},
   "source": [
    "From the boxplot above and the corresponding description, we can see that average age of the users is 30, the minimum 6 and maximum 54. It is interesting to see that most customers are between 25 and 35 years approximately."
   ]
  },
  {
   "cell_type": "code",
   "execution_count": 19,
   "metadata": {},
   "outputs": [
    {
     "data": {
      "text/plain": [
       "Text(0,0.5,'frequency')"
      ]
     },
     "execution_count": 19,
     "metadata": {},
     "output_type": "execute_result"
    },
    {
     "data": {
      "image/png": "[encoded data removed]",
      "text/plain": [
       "<matplotlib.figure.Figure at 0x7f64c16036a0>"
      ]
     },
     "metadata": {},
     "output_type": "display_data"
    }
   ],
   "source": [
    "# Age Histogram\n",
    "sns.distplot(analyze_df_2['age'], bins=30, kde=False)\n",
    "plt.title('Histogram of Age')\n",
    "plt.xlabel('age (years)')\n",
    "plt.ylabel('frequency')"
   ]
  },
  {
   "cell_type": "code",
   "execution_count": 20,
   "metadata": {},
   "outputs": [
    {
     "name": "stdout",
     "output_type": "stream",
     "text": [
      "M    46806\n",
      "F    25680\n",
      "Name: gender, dtype: int64\n"
     ]
    },
    {
     "data": {
      "image/png": "[encoded data removed]",
      "text/plain": [
       "<matplotlib.figure.Figure at 0x7f64c0441358>"
      ]
     },
     "metadata": {},
     "output_type": "display_data"
    }
   ],
   "source": [
    "# Gender count\n",
    "counts = analyze_df_2.gender.value_counts()\n",
    "print(counts);\n",
    "\n",
    "plt.pie(counts.values, labels=counts.keys())\n",
    "plt.axis('equal')\n",
    "plt.show()"
   ]
  },
  {
   "cell_type": "code",
   "execution_count": 21,
   "metadata": {},
   "outputs": [
    {
     "data": {
      "text/plain": [
       "72486"
      ]
     },
     "execution_count": 21,
     "metadata": {},
     "output_type": "execute_result"
    }
   ],
   "source": [
    "analyze_df_2.gender.count()"
   ]
  },
  {
   "cell_type": "code",
   "execution_count": 22,
   "metadata": {
    "collapsed": true
   },
   "outputs": [],
   "source": [
    "gender_m = pd.DataFrame(analyze_df_2['gender'] == 'M')\n",
    "gender_f = pd.DataFrame(analyze_df_2['gender'] == 'F')"
   ]
  },
  {
   "cell_type": "code",
   "execution_count": 23,
   "metadata": {},
   "outputs": [
    {
     "name": "stdout",
     "output_type": "stream",
     "text": [
      "Male percentage proportion: gender    64.572469\n",
      "dtype: float64\n"
     ]
    }
   ],
   "source": [
    "print('Male percentage proportion:', ((gender_m.sum()*100)/analyze_df_2.gender.count()))"
   ]
  },
  {
   "cell_type": "code",
   "execution_count": 24,
   "metadata": {},
   "outputs": [
    {
     "name": "stdout",
     "output_type": "stream",
     "text": [
      "Female percentage proportion: gender    35.427531\n",
      "dtype: float64\n"
     ]
    }
   ],
   "source": [
    "print('Female percentage proportion:', ((gender_f.sum()*100)/analyze_df_2.gender.count()))"
   ]
  },
  {
   "cell_type": "markdown",
   "metadata": {
    "collapsed": true
   },
   "source": [
    "We can see that the proportion of men and women in the total age group consists of 35.42 % women and 64.58 % men."
   ]
  },
  {
   "cell_type": "markdown",
   "metadata": {
    "collapsed": true
   },
   "source": [
    "### Top 20 mobile phone exploration"
   ]
  },
  {
   "cell_type": "markdown",
   "metadata": {},
   "source": [
    "We will now analyze which are the top 20 mobile phone brands:"
   ]
  },
  {
   "cell_type": "code",
   "execution_count": 25,
   "metadata": {},
   "outputs": [
    {
     "data": {
      "text/plain": [
       "Index(['device_id', 'gender', 'age', 'group', 'phone_brand', 'device_model'], dtype='object')"
      ]
     },
     "execution_count": 25,
     "metadata": {},
     "output_type": "execute_result"
    }
   ],
   "source": [
    "analyze_df_2.columns"
   ]
  },
  {
   "cell_type": "code",
   "execution_count": 26,
   "metadata": {},
   "outputs": [
    {
     "data": {
      "text/plain": [
       "小米      16801\n",
       "三星      13185\n",
       "华为      12573\n",
       "OPPO     5682\n",
       "vivo     5555\n",
       "魅族       4609\n",
       "酷派       3206\n",
       "联想       2582\n",
       "金立       1089\n",
       "HTC       987\n",
       "中兴        826\n",
       "乐视        744\n",
       "索尼        695\n",
       "努比亚       470\n",
       "LG        326\n",
       "中国移动      267\n",
       "TCL       213\n",
       "朵唯        207\n",
       "海信        193\n",
       "锤子        186\n",
       "Name: phone_brand, dtype: int64"
      ]
     },
     "execution_count": 26,
     "metadata": {},
     "output_type": "execute_result"
    }
   ],
   "source": [
    "analyze_df_2.phone_brand.value_counts()[0:20]"
   ]
  },
  {
   "cell_type": "markdown",
   "metadata": {
    "collapsed": true
   },
   "source": [
    "We can see that the top 3 brands are: 小米 (Xiaomi), 三星 (Samsung Group) and Huawei (华为)."
   ]
  },
  {
   "cell_type": "code",
   "execution_count": 27,
   "metadata": {
    "collapsed": true
   },
   "outputs": [],
   "source": [
    "analyze_df_3 = analyze_df_2['phone_brand'].groupby([analyze_df_2['gender'], analyze_df_2['age']])"
   ]
  },
  {
   "cell_type": "code",
   "execution_count": 28,
   "metadata": {},
   "outputs": [
    {
     "data": {
      "text/html": [
       "<div>\n",
       "<style scoped>\n",
       "    .dataframe tbody tr th:only-of-type {\n",
       "        vertical-align: middle;\n",
       "    }\n",
       "\n",
       "    .dataframe tbody tr th {\n",
       "        vertical-align: top;\n",
       "    }\n",
       "\n",
       "    .dataframe thead th {\n",
       "        text-align: right;\n",
       "    }\n",
       "</style>\n",
       "<table border=\"1\" class=\"dataframe\">\n",
       "  <thead>\n",
       "    <tr style=\"text-align: right;\">\n",
       "      <th></th>\n",
       "      <th></th>\n",
       "      <th>count</th>\n",
       "      <th>unique</th>\n",
       "      <th>top</th>\n",
       "      <th>freq</th>\n",
       "    </tr>\n",
       "    <tr>\n",
       "      <th>gender</th>\n",
       "      <th>age</th>\n",
       "      <th></th>\n",
       "      <th></th>\n",
       "      <th></th>\n",
       "      <th></th>\n",
       "    </tr>\n",
       "  </thead>\n",
       "  <tbody>\n",
       "    <tr>\n",
       "      <th rowspan=\"30\" valign=\"top\">F</th>\n",
       "      <th>10</th>\n",
       "      <td>2</td>\n",
       "      <td>1</td>\n",
       "      <td>小米</td>\n",
       "      <td>2</td>\n",
       "    </tr>\n",
       "    <tr>\n",
       "      <th>11</th>\n",
       "      <td>4</td>\n",
       "      <td>3</td>\n",
       "      <td>联想</td>\n",
       "      <td>2</td>\n",
       "    </tr>\n",
       "    <tr>\n",
       "      <th>12</th>\n",
       "      <td>5</td>\n",
       "      <td>4</td>\n",
       "      <td>三星</td>\n",
       "      <td>2</td>\n",
       "    </tr>\n",
       "    <tr>\n",
       "      <th>13</th>\n",
       "      <td>5</td>\n",
       "      <td>4</td>\n",
       "      <td>三星</td>\n",
       "      <td>2</td>\n",
       "    </tr>\n",
       "    <tr>\n",
       "      <th>14</th>\n",
       "      <td>14</td>\n",
       "      <td>8</td>\n",
       "      <td>小米</td>\n",
       "      <td>3</td>\n",
       "    </tr>\n",
       "    <tr>\n",
       "      <th>15</th>\n",
       "      <td>10</td>\n",
       "      <td>7</td>\n",
       "      <td>OPPO</td>\n",
       "      <td>3</td>\n",
       "    </tr>\n",
       "    <tr>\n",
       "      <th>16</th>\n",
       "      <td>40</td>\n",
       "      <td>10</td>\n",
       "      <td>小米</td>\n",
       "      <td>9</td>\n",
       "    </tr>\n",
       "    <tr>\n",
       "      <th>17</th>\n",
       "      <td>116</td>\n",
       "      <td>19</td>\n",
       "      <td>vivo</td>\n",
       "      <td>19</td>\n",
       "    </tr>\n",
       "    <tr>\n",
       "      <th>18</th>\n",
       "      <td>187</td>\n",
       "      <td>20</td>\n",
       "      <td>vivo</td>\n",
       "      <td>35</td>\n",
       "    </tr>\n",
       "    <tr>\n",
       "      <th>19</th>\n",
       "      <td>536</td>\n",
       "      <td>25</td>\n",
       "      <td>OPPO</td>\n",
       "      <td>102</td>\n",
       "    </tr>\n",
       "    <tr>\n",
       "      <th>20</th>\n",
       "      <td>850</td>\n",
       "      <td>39</td>\n",
       "      <td>小米</td>\n",
       "      <td>155</td>\n",
       "    </tr>\n",
       "    <tr>\n",
       "      <th>21</th>\n",
       "      <td>1102</td>\n",
       "      <td>35</td>\n",
       "      <td>小米</td>\n",
       "      <td>213</td>\n",
       "    </tr>\n",
       "    <tr>\n",
       "      <th>22</th>\n",
       "      <td>1087</td>\n",
       "      <td>39</td>\n",
       "      <td>小米</td>\n",
       "      <td>195</td>\n",
       "    </tr>\n",
       "    <tr>\n",
       "      <th>23</th>\n",
       "      <td>1105</td>\n",
       "      <td>30</td>\n",
       "      <td>小米</td>\n",
       "      <td>220</td>\n",
       "    </tr>\n",
       "    <tr>\n",
       "      <th>24</th>\n",
       "      <td>1221</td>\n",
       "      <td>34</td>\n",
       "      <td>小米</td>\n",
       "      <td>283</td>\n",
       "    </tr>\n",
       "    <tr>\n",
       "      <th>25</th>\n",
       "      <td>1354</td>\n",
       "      <td>38</td>\n",
       "      <td>小米</td>\n",
       "      <td>327</td>\n",
       "    </tr>\n",
       "    <tr>\n",
       "      <th>26</th>\n",
       "      <td>1627</td>\n",
       "      <td>39</td>\n",
       "      <td>小米</td>\n",
       "      <td>371</td>\n",
       "    </tr>\n",
       "    <tr>\n",
       "      <th>27</th>\n",
       "      <td>1624</td>\n",
       "      <td>40</td>\n",
       "      <td>小米</td>\n",
       "      <td>405</td>\n",
       "    </tr>\n",
       "    <tr>\n",
       "      <th>28</th>\n",
       "      <td>1497</td>\n",
       "      <td>40</td>\n",
       "      <td>小米</td>\n",
       "      <td>391</td>\n",
       "    </tr>\n",
       "    <tr>\n",
       "      <th>29</th>\n",
       "      <td>1561</td>\n",
       "      <td>39</td>\n",
       "      <td>三星</td>\n",
       "      <td>354</td>\n",
       "    </tr>\n",
       "    <tr>\n",
       "      <th>30</th>\n",
       "      <td>1224</td>\n",
       "      <td>40</td>\n",
       "      <td>小米</td>\n",
       "      <td>303</td>\n",
       "    </tr>\n",
       "    <tr>\n",
       "      <th>31</th>\n",
       "      <td>984</td>\n",
       "      <td>33</td>\n",
       "      <td>小米</td>\n",
       "      <td>251</td>\n",
       "    </tr>\n",
       "    <tr>\n",
       "      <th>32</th>\n",
       "      <td>870</td>\n",
       "      <td>30</td>\n",
       "      <td>小米</td>\n",
       "      <td>198</td>\n",
       "    </tr>\n",
       "    <tr>\n",
       "      <th>33</th>\n",
       "      <td>855</td>\n",
       "      <td>33</td>\n",
       "      <td>三星</td>\n",
       "      <td>224</td>\n",
       "    </tr>\n",
       "    <tr>\n",
       "      <th>34</th>\n",
       "      <td>866</td>\n",
       "      <td>32</td>\n",
       "      <td>三星</td>\n",
       "      <td>202</td>\n",
       "    </tr>\n",
       "    <tr>\n",
       "      <th>35</th>\n",
       "      <td>675</td>\n",
       "      <td>31</td>\n",
       "      <td>三星</td>\n",
       "      <td>161</td>\n",
       "    </tr>\n",
       "    <tr>\n",
       "      <th>36</th>\n",
       "      <td>536</td>\n",
       "      <td>26</td>\n",
       "      <td>三星</td>\n",
       "      <td>141</td>\n",
       "    </tr>\n",
       "    <tr>\n",
       "      <th>37</th>\n",
       "      <td>558</td>\n",
       "      <td>25</td>\n",
       "      <td>三星</td>\n",
       "      <td>152</td>\n",
       "    </tr>\n",
       "    <tr>\n",
       "      <th>38</th>\n",
       "      <td>476</td>\n",
       "      <td>23</td>\n",
       "      <td>华为</td>\n",
       "      <td>102</td>\n",
       "    </tr>\n",
       "    <tr>\n",
       "      <th>39</th>\n",
       "      <td>434</td>\n",
       "      <td>24</td>\n",
       "      <td>三星</td>\n",
       "      <td>126</td>\n",
       "    </tr>\n",
       "    <tr>\n",
       "      <th>...</th>\n",
       "      <th>...</th>\n",
       "      <td>...</td>\n",
       "      <td>...</td>\n",
       "      <td>...</td>\n",
       "      <td>...</td>\n",
       "    </tr>\n",
       "    <tr>\n",
       "      <th rowspan=\"30\" valign=\"top\">M</th>\n",
       "      <th>25</th>\n",
       "      <td>2397</td>\n",
       "      <td>53</td>\n",
       "      <td>小米</td>\n",
       "      <td>638</td>\n",
       "    </tr>\n",
       "    <tr>\n",
       "      <th>26</th>\n",
       "      <td>2928</td>\n",
       "      <td>51</td>\n",
       "      <td>小米</td>\n",
       "      <td>725</td>\n",
       "    </tr>\n",
       "    <tr>\n",
       "      <th>27</th>\n",
       "      <td>2863</td>\n",
       "      <td>52</td>\n",
       "      <td>小米</td>\n",
       "      <td>721</td>\n",
       "    </tr>\n",
       "    <tr>\n",
       "      <th>28</th>\n",
       "      <td>2600</td>\n",
       "      <td>53</td>\n",
       "      <td>小米</td>\n",
       "      <td>658</td>\n",
       "    </tr>\n",
       "    <tr>\n",
       "      <th>29</th>\n",
       "      <td>2799</td>\n",
       "      <td>51</td>\n",
       "      <td>小米</td>\n",
       "      <td>723</td>\n",
       "    </tr>\n",
       "    <tr>\n",
       "      <th>30</th>\n",
       "      <td>2518</td>\n",
       "      <td>46</td>\n",
       "      <td>小米</td>\n",
       "      <td>579</td>\n",
       "    </tr>\n",
       "    <tr>\n",
       "      <th>31</th>\n",
       "      <td>2019</td>\n",
       "      <td>52</td>\n",
       "      <td>小米</td>\n",
       "      <td>464</td>\n",
       "    </tr>\n",
       "    <tr>\n",
       "      <th>32</th>\n",
       "      <td>1776</td>\n",
       "      <td>50</td>\n",
       "      <td>小米</td>\n",
       "      <td>455</td>\n",
       "    </tr>\n",
       "    <tr>\n",
       "      <th>33</th>\n",
       "      <td>1629</td>\n",
       "      <td>43</td>\n",
       "      <td>三星</td>\n",
       "      <td>348</td>\n",
       "    </tr>\n",
       "    <tr>\n",
       "      <th>34</th>\n",
       "      <td>1725</td>\n",
       "      <td>48</td>\n",
       "      <td>小米</td>\n",
       "      <td>395</td>\n",
       "    </tr>\n",
       "    <tr>\n",
       "      <th>35</th>\n",
       "      <td>1341</td>\n",
       "      <td>39</td>\n",
       "      <td>小米</td>\n",
       "      <td>318</td>\n",
       "    </tr>\n",
       "    <tr>\n",
       "      <th>36</th>\n",
       "      <td>1070</td>\n",
       "      <td>41</td>\n",
       "      <td>小米</td>\n",
       "      <td>246</td>\n",
       "    </tr>\n",
       "    <tr>\n",
       "      <th>37</th>\n",
       "      <td>1066</td>\n",
       "      <td>39</td>\n",
       "      <td>三星</td>\n",
       "      <td>231</td>\n",
       "    </tr>\n",
       "    <tr>\n",
       "      <th>38</th>\n",
       "      <td>885</td>\n",
       "      <td>38</td>\n",
       "      <td>华为</td>\n",
       "      <td>200</td>\n",
       "    </tr>\n",
       "    <tr>\n",
       "      <th>39</th>\n",
       "      <td>816</td>\n",
       "      <td>36</td>\n",
       "      <td>华为</td>\n",
       "      <td>188</td>\n",
       "    </tr>\n",
       "    <tr>\n",
       "      <th>40</th>\n",
       "      <td>747</td>\n",
       "      <td>33</td>\n",
       "      <td>华为</td>\n",
       "      <td>185</td>\n",
       "    </tr>\n",
       "    <tr>\n",
       "      <th>41</th>\n",
       "      <td>653</td>\n",
       "      <td>31</td>\n",
       "      <td>华为</td>\n",
       "      <td>160</td>\n",
       "    </tr>\n",
       "    <tr>\n",
       "      <th>42</th>\n",
       "      <td>657</td>\n",
       "      <td>34</td>\n",
       "      <td>小米</td>\n",
       "      <td>147</td>\n",
       "    </tr>\n",
       "    <tr>\n",
       "      <th>43</th>\n",
       "      <td>604</td>\n",
       "      <td>33</td>\n",
       "      <td>华为</td>\n",
       "      <td>125</td>\n",
       "    </tr>\n",
       "    <tr>\n",
       "      <th>44</th>\n",
       "      <td>576</td>\n",
       "      <td>35</td>\n",
       "      <td>华为</td>\n",
       "      <td>139</td>\n",
       "    </tr>\n",
       "    <tr>\n",
       "      <th>45</th>\n",
       "      <td>556</td>\n",
       "      <td>27</td>\n",
       "      <td>华为</td>\n",
       "      <td>132</td>\n",
       "    </tr>\n",
       "    <tr>\n",
       "      <th>46</th>\n",
       "      <td>556</td>\n",
       "      <td>30</td>\n",
       "      <td>华为</td>\n",
       "      <td>127</td>\n",
       "    </tr>\n",
       "    <tr>\n",
       "      <th>47</th>\n",
       "      <td>412</td>\n",
       "      <td>32</td>\n",
       "      <td>华为</td>\n",
       "      <td>102</td>\n",
       "    </tr>\n",
       "    <tr>\n",
       "      <th>48</th>\n",
       "      <td>389</td>\n",
       "      <td>31</td>\n",
       "      <td>三星</td>\n",
       "      <td>94</td>\n",
       "    </tr>\n",
       "    <tr>\n",
       "      <th>49</th>\n",
       "      <td>261</td>\n",
       "      <td>23</td>\n",
       "      <td>华为</td>\n",
       "      <td>60</td>\n",
       "    </tr>\n",
       "    <tr>\n",
       "      <th>50</th>\n",
       "      <td>267</td>\n",
       "      <td>24</td>\n",
       "      <td>华为</td>\n",
       "      <td>70</td>\n",
       "    </tr>\n",
       "    <tr>\n",
       "      <th>51</th>\n",
       "      <td>236</td>\n",
       "      <td>26</td>\n",
       "      <td>三星</td>\n",
       "      <td>55</td>\n",
       "    </tr>\n",
       "    <tr>\n",
       "      <th>52</th>\n",
       "      <td>228</td>\n",
       "      <td>20</td>\n",
       "      <td>小米</td>\n",
       "      <td>47</td>\n",
       "    </tr>\n",
       "    <tr>\n",
       "      <th>53</th>\n",
       "      <td>241</td>\n",
       "      <td>19</td>\n",
       "      <td>三星</td>\n",
       "      <td>69</td>\n",
       "    </tr>\n",
       "    <tr>\n",
       "      <th>54</th>\n",
       "      <td>174</td>\n",
       "      <td>21</td>\n",
       "      <td>华为</td>\n",
       "      <td>41</td>\n",
       "    </tr>\n",
       "  </tbody>\n",
       "</table>\n",
       "<p>90 rows × 4 columns</p>\n",
       "</div>"
      ],
      "text/plain": [
       "           count unique   top freq\n",
       "gender age                        \n",
       "F      10      2      1    小米    2\n",
       "       11      4      3    联想    2\n",
       "       12      5      4    三星    2\n",
       "       13      5      4    三星    2\n",
       "       14     14      8    小米    3\n",
       "       15     10      7  OPPO    3\n",
       "       16     40     10    小米    9\n",
       "       17    116     19  vivo   19\n",
       "       18    187     20  vivo   35\n",
       "       19    536     25  OPPO  102\n",
       "       20    850     39    小米  155\n",
       "       21   1102     35    小米  213\n",
       "       22   1087     39    小米  195\n",
       "       23   1105     30    小米  220\n",
       "       24   1221     34    小米  283\n",
       "       25   1354     38    小米  327\n",
       "       26   1627     39    小米  371\n",
       "       27   1624     40    小米  405\n",
       "       28   1497     40    小米  391\n",
       "       29   1561     39    三星  354\n",
       "       30   1224     40    小米  303\n",
       "       31    984     33    小米  251\n",
       "       32    870     30    小米  198\n",
       "       33    855     33    三星  224\n",
       "       34    866     32    三星  202\n",
       "       35    675     31    三星  161\n",
       "       36    536     26    三星  141\n",
       "       37    558     25    三星  152\n",
       "       38    476     23    华为  102\n",
       "       39    434     24    三星  126\n",
       "...          ...    ...   ...  ...\n",
       "M      25   2397     53    小米  638\n",
       "       26   2928     51    小米  725\n",
       "       27   2863     52    小米  721\n",
       "       28   2600     53    小米  658\n",
       "       29   2799     51    小米  723\n",
       "       30   2518     46    小米  579\n",
       "       31   2019     52    小米  464\n",
       "       32   1776     50    小米  455\n",
       "       33   1629     43    三星  348\n",
       "       34   1725     48    小米  395\n",
       "       35   1341     39    小米  318\n",
       "       36   1070     41    小米  246\n",
       "       37   1066     39    三星  231\n",
       "       38    885     38    华为  200\n",
       "       39    816     36    华为  188\n",
       "       40    747     33    华为  185\n",
       "       41    653     31    华为  160\n",
       "       42    657     34    小米  147\n",
       "       43    604     33    华为  125\n",
       "       44    576     35    华为  139\n",
       "       45    556     27    华为  132\n",
       "       46    556     30    华为  127\n",
       "       47    412     32    华为  102\n",
       "       48    389     31    三星   94\n",
       "       49    261     23    华为   60\n",
       "       50    267     24    华为   70\n",
       "       51    236     26    三星   55\n",
       "       52    228     20    小米   47\n",
       "       53    241     19    三星   69\n",
       "       54    174     21    华为   41\n",
       "\n",
       "[90 rows x 4 columns]"
      ]
     },
     "execution_count": 28,
     "metadata": {},
     "output_type": "execute_result"
    }
   ],
   "source": [
    "analyze_df_3.describe()"
   ]
  },
  {
   "cell_type": "code",
   "execution_count": 29,
   "metadata": {
    "collapsed": true
   },
   "outputs": [],
   "source": [
    "#小米, 三星, 华为, OPPO, vivo, 魅族, 酷派, 联想, 金立, HTC, 中兴, 乐视, 索尼, 努比亚, LG, 中国移动, TCL, 朵唯, 海信, 锤子"
   ]
  },
  {
   "cell_type": "code",
   "execution_count": 30,
   "metadata": {
    "collapsed": true
   },
   "outputs": [],
   "source": [
    "analyze_df_4 = analyze_df_2[analyze_df_2['phone_brand'].str.contains('小米|三星|华为|OPPO|vivo|魅族|酷派|联想|金立|HTC|中兴|乐视|索尼|努比亚|LG|中国移动|TCL|朵唯|海信|锤子')]"
   ]
  },
  {
   "cell_type": "code",
   "execution_count": 31,
   "metadata": {},
   "outputs": [
    {
     "data": {
      "text/html": [
       "<div>\n",
       "<style scoped>\n",
       "    .dataframe tbody tr th:only-of-type {\n",
       "        vertical-align: middle;\n",
       "    }\n",
       "\n",
       "    .dataframe tbody tr th {\n",
       "        vertical-align: top;\n",
       "    }\n",
       "\n",
       "    .dataframe thead th {\n",
       "        text-align: right;\n",
       "    }\n",
       "</style>\n",
       "<table border=\"1\" class=\"dataframe\">\n",
       "  <thead>\n",
       "    <tr style=\"text-align: right;\">\n",
       "      <th></th>\n",
       "      <th>device_id</th>\n",
       "      <th>gender</th>\n",
       "      <th>age</th>\n",
       "      <th>group</th>\n",
       "      <th>phone_brand</th>\n",
       "      <th>device_model</th>\n",
       "    </tr>\n",
       "  </thead>\n",
       "  <tbody>\n",
       "    <tr>\n",
       "      <th>0</th>\n",
       "      <td>-8076087639492063270</td>\n",
       "      <td>M</td>\n",
       "      <td>35</td>\n",
       "      <td>M32-38</td>\n",
       "      <td>小米</td>\n",
       "      <td>MI 2</td>\n",
       "    </tr>\n",
       "    <tr>\n",
       "      <th>1</th>\n",
       "      <td>-2897161552818060146</td>\n",
       "      <td>M</td>\n",
       "      <td>35</td>\n",
       "      <td>M32-38</td>\n",
       "      <td>小米</td>\n",
       "      <td>MI 2</td>\n",
       "    </tr>\n",
       "    <tr>\n",
       "      <th>2</th>\n",
       "      <td>-8260683887967679142</td>\n",
       "      <td>M</td>\n",
       "      <td>35</td>\n",
       "      <td>M32-38</td>\n",
       "      <td>小米</td>\n",
       "      <td>MI 2</td>\n",
       "    </tr>\n",
       "    <tr>\n",
       "      <th>3</th>\n",
       "      <td>-4938849341048082022</td>\n",
       "      <td>M</td>\n",
       "      <td>30</td>\n",
       "      <td>M29-31</td>\n",
       "      <td>小米</td>\n",
       "      <td>红米note</td>\n",
       "    </tr>\n",
       "    <tr>\n",
       "      <th>4</th>\n",
       "      <td>245133531816851882</td>\n",
       "      <td>M</td>\n",
       "      <td>30</td>\n",
       "      <td>M29-31</td>\n",
       "      <td>小米</td>\n",
       "      <td>MI 3</td>\n",
       "    </tr>\n",
       "  </tbody>\n",
       "</table>\n",
       "</div>"
      ],
      "text/plain": [
       "             device_id gender  age   group phone_brand device_model\n",
       "0 -8076087639492063270      M   35  M32-38          小米         MI 2\n",
       "1 -2897161552818060146      M   35  M32-38          小米         MI 2\n",
       "2 -8260683887967679142      M   35  M32-38          小米         MI 2\n",
       "3 -4938849341048082022      M   30  M29-31          小米       红米note\n",
       "4   245133531816851882      M   30  M29-31          小米         MI 3"
      ]
     },
     "execution_count": 31,
     "metadata": {},
     "output_type": "execute_result"
    }
   ],
   "source": [
    "analyze_df_4.head()"
   ]
  },
  {
   "cell_type": "code",
   "execution_count": 32,
   "metadata": {},
   "outputs": [
    {
     "data": {
      "text/plain": [
       "(70208,)"
      ]
     },
     "execution_count": 32,
     "metadata": {},
     "output_type": "execute_result"
    }
   ],
   "source": [
    "analyze_df_4.device_id.unique().shape"
   ]
  },
  {
   "cell_type": "code",
   "execution_count": 33,
   "metadata": {
    "collapsed": true
   },
   "outputs": [],
   "source": [
    "mpl.rcParams['font.sans-serif'] = ['Droid Sans Fallback']\n",
    "mpl.rcParams['font.serif'] = ['Droid Sans Fallback']\n",
    "sns.set_style({\"font.sans-serif\":['Droid Sans Fallback', 'Arial']})"
   ]
  },
  {
   "cell_type": "code",
   "execution_count": 34,
   "metadata": {},
   "outputs": [
    {
     "name": "stderr",
     "output_type": "stream",
     "text": [
      "/home/mache/anaconda3/lib/python3.6/site-packages/seaborn/categorical.py:462: FutureWarning: remove_na is deprecated and is a private function. Do not use.\n",
      "  box_data = remove_na(group_data)\n"
     ]
    },
    {
     "data": {
      "image/png": "[encoded data removed]",
      "text/plain": [
       "<matplotlib.figure.Figure at 0x7f64c006f550>"
      ]
     },
     "metadata": {},
     "output_type": "display_data"
    }
   ],
   "source": [
    "fig, ax = plt.subplots(figsize=(15,10))\n",
    "sns.boxplot(x=\"phone_brand\", y=\"age\", data=analyze_df_4, ax=ax)\n",
    "plt.title('Age vs. top 20 phone brands')\n",
    "plt.plot()\n",
    "plt.show()"
   ]
  },
  {
   "cell_type": "code",
   "execution_count": 35,
   "metadata": {},
   "outputs": [
    {
     "data": {
      "image/png": "[encoded data removed]",
      "text/plain": [
       "<matplotlib.figure.Figure at 0x7f64c0a44748>"
      ]
     },
     "metadata": {},
     "output_type": "display_data"
    }
   ],
   "source": [
    "analyze_df_4['phone_brand'].groupby(analyze_df_4['gender']).value_counts().unstack(0).plot.barh(figsize=(15,10))\n",
    "plt.title('Gender count by phone brand')\n",
    "plt.plot()\n",
    "plt.show()"
   ]
  },
  {
   "cell_type": "markdown",
   "metadata": {},
   "source": [
    "From the bar plot above, we can see that the leading phone brand in the dataset among male and female user is 小米 (Xiaomi), in this case, almost double the number of female users is represented by men. However, in other cases such as vivo and OPPO, th proporcionality is similar."
   ]
  },
  {
   "cell_type": "code",
   "execution_count": 36,
   "metadata": {
    "collapsed": true
   },
   "outputs": [],
   "source": [
    "df = analyze_df_4['age'].groupby(analyze_df_4['phone_brand']).mean()"
   ]
  },
  {
   "cell_type": "code",
   "execution_count": 37,
   "metadata": {
    "collapsed": true
   },
   "outputs": [],
   "source": [
    "df_mean = analyze_df_4['age'].groupby(analyze_df_4['phone_brand']).mean().reset_index()"
   ]
  },
  {
   "cell_type": "code",
   "execution_count": 38,
   "metadata": {},
   "outputs": [
    {
     "data": {
      "text/html": [
       "<div>\n",
       "<style scoped>\n",
       "    .dataframe tbody tr th:only-of-type {\n",
       "        vertical-align: middle;\n",
       "    }\n",
       "\n",
       "    .dataframe tbody tr th {\n",
       "        vertical-align: top;\n",
       "    }\n",
       "\n",
       "    .dataframe thead th {\n",
       "        text-align: right;\n",
       "    }\n",
       "</style>\n",
       "<table border=\"1\" class=\"dataframe\">\n",
       "  <thead>\n",
       "    <tr style=\"text-align: right;\">\n",
       "      <th></th>\n",
       "      <th>phone_brand</th>\n",
       "      <th>age</th>\n",
       "    </tr>\n",
       "  </thead>\n",
       "  <tbody>\n",
       "    <tr>\n",
       "      <th>0</th>\n",
       "      <td>HTC</td>\n",
       "      <td>30.348531</td>\n",
       "    </tr>\n",
       "    <tr>\n",
       "      <th>1</th>\n",
       "      <td>LG</td>\n",
       "      <td>30.812883</td>\n",
       "    </tr>\n",
       "    <tr>\n",
       "      <th>2</th>\n",
       "      <td>OPPO</td>\n",
       "      <td>28.755192</td>\n",
       "    </tr>\n",
       "    <tr>\n",
       "      <th>3</th>\n",
       "      <td>TCL</td>\n",
       "      <td>30.887324</td>\n",
       "    </tr>\n",
       "    <tr>\n",
       "      <th>4</th>\n",
       "      <td>vivo</td>\n",
       "      <td>28.205221</td>\n",
       "    </tr>\n",
       "    <tr>\n",
       "      <th>5</th>\n",
       "      <td>三星</td>\n",
       "      <td>31.802655</td>\n",
       "    </tr>\n",
       "    <tr>\n",
       "      <th>6</th>\n",
       "      <td>中兴</td>\n",
       "      <td>31.446731</td>\n",
       "    </tr>\n",
       "    <tr>\n",
       "      <th>7</th>\n",
       "      <td>中国移动</td>\n",
       "      <td>31.078652</td>\n",
       "    </tr>\n",
       "    <tr>\n",
       "      <th>8</th>\n",
       "      <td>乐视</td>\n",
       "      <td>30.334677</td>\n",
       "    </tr>\n",
       "    <tr>\n",
       "      <th>9</th>\n",
       "      <td>努比亚</td>\n",
       "      <td>29.991489</td>\n",
       "    </tr>\n",
       "    <tr>\n",
       "      <th>10</th>\n",
       "      <td>华为</td>\n",
       "      <td>31.734033</td>\n",
       "    </tr>\n",
       "    <tr>\n",
       "      <th>11</th>\n",
       "      <td>小米</td>\n",
       "      <td>29.995596</td>\n",
       "    </tr>\n",
       "    <tr>\n",
       "      <th>12</th>\n",
       "      <td>朵唯</td>\n",
       "      <td>28.429952</td>\n",
       "    </tr>\n",
       "    <tr>\n",
       "      <th>13</th>\n",
       "      <td>海信</td>\n",
       "      <td>31.129534</td>\n",
       "    </tr>\n",
       "    <tr>\n",
       "      <th>14</th>\n",
       "      <td>索尼</td>\n",
       "      <td>30.588489</td>\n",
       "    </tr>\n",
       "    <tr>\n",
       "      <th>15</th>\n",
       "      <td>联想</td>\n",
       "      <td>31.313710</td>\n",
       "    </tr>\n",
       "    <tr>\n",
       "      <th>16</th>\n",
       "      <td>酷派</td>\n",
       "      <td>30.917342</td>\n",
       "    </tr>\n",
       "    <tr>\n",
       "      <th>17</th>\n",
       "      <td>金立</td>\n",
       "      <td>30.359045</td>\n",
       "    </tr>\n",
       "    <tr>\n",
       "      <th>18</th>\n",
       "      <td>锤子</td>\n",
       "      <td>28.322581</td>\n",
       "    </tr>\n",
       "    <tr>\n",
       "      <th>19</th>\n",
       "      <td>魅族</td>\n",
       "      <td>27.690605</td>\n",
       "    </tr>\n",
       "  </tbody>\n",
       "</table>\n",
       "</div>"
      ],
      "text/plain": [
       "   phone_brand        age\n",
       "0          HTC  30.348531\n",
       "1           LG  30.812883\n",
       "2         OPPO  28.755192\n",
       "3          TCL  30.887324\n",
       "4         vivo  28.205221\n",
       "5           三星  31.802655\n",
       "6           中兴  31.446731\n",
       "7         中国移动  31.078652\n",
       "8           乐视  30.334677\n",
       "9          努比亚  29.991489\n",
       "10          华为  31.734033\n",
       "11          小米  29.995596\n",
       "12          朵唯  28.429952\n",
       "13          海信  31.129534\n",
       "14          索尼  30.588489\n",
       "15          联想  31.313710\n",
       "16          酷派  30.917342\n",
       "17          金立  30.359045\n",
       "18          锤子  28.322581\n",
       "19          魅族  27.690605"
      ]
     },
     "execution_count": 38,
     "metadata": {},
     "output_type": "execute_result"
    }
   ],
   "source": [
    "df_mean"
   ]
  },
  {
   "cell_type": "code",
   "execution_count": 39,
   "metadata": {},
   "outputs": [
    {
     "data": {
      "text/plain": [
       "<matplotlib.collections.PathCollection at 0x7f64bfd48668>"
      ]
     },
     "execution_count": 39,
     "metadata": {},
     "output_type": "execute_result"
    },
    {
     "data": {
      "image/png": "[encoded data removed]",
      "text/plain": [
       "<matplotlib.figure.Figure at 0x7f64bfd69780>"
      ]
     },
     "metadata": {},
     "output_type": "display_data"
    }
   ],
   "source": [
    "plt.figure(figsize=(10, 10))\n",
    "plt.scatter(df_mean['age'], df_mean['phone_brand'])"
   ]
  },
  {
   "cell_type": "markdown",
   "metadata": {},
   "source": [
    "As we can see from the scatter plot above and from the earlier boxplot (line 34), the average user of the top 20 mobile phone brands has an age between 30 and 32. Whilst only 5 of the top brands are used by users below 30."
   ]
  },
  {
   "cell_type": "markdown",
   "metadata": {},
   "source": [
    "<a id='section4'></a>\n",
    "\n",
    "### Combining App/Categories Data"
   ]
  },
  {
   "cell_type": "markdown",
   "metadata": {},
   "source": [
    "Combining the apps and cataegories data, will help us understan the app's categories better."
   ]
  },
  {
   "cell_type": "code",
   "execution_count": 40,
   "metadata": {},
   "outputs": [
    {
     "data": {
      "text/html": [
       "<div>\n",
       "<style scoped>\n",
       "    .dataframe tbody tr th:only-of-type {\n",
       "        vertical-align: middle;\n",
       "    }\n",
       "\n",
       "    .dataframe tbody tr th {\n",
       "        vertical-align: top;\n",
       "    }\n",
       "\n",
       "    .dataframe thead th {\n",
       "        text-align: right;\n",
       "    }\n",
       "</style>\n",
       "<table border=\"1\" class=\"dataframe\">\n",
       "  <thead>\n",
       "    <tr style=\"text-align: right;\">\n",
       "      <th></th>\n",
       "      <th>app_id</th>\n",
       "      <th>label_id</th>\n",
       "    </tr>\n",
       "  </thead>\n",
       "  <tbody>\n",
       "    <tr>\n",
       "      <th>0</th>\n",
       "      <td>7324884708820027918</td>\n",
       "      <td>251</td>\n",
       "    </tr>\n",
       "    <tr>\n",
       "      <th>1</th>\n",
       "      <td>-4494216993218550286</td>\n",
       "      <td>251</td>\n",
       "    </tr>\n",
       "    <tr>\n",
       "      <th>2</th>\n",
       "      <td>6058196446775239644</td>\n",
       "      <td>406</td>\n",
       "    </tr>\n",
       "    <tr>\n",
       "      <th>3</th>\n",
       "      <td>6058196446775239644</td>\n",
       "      <td>407</td>\n",
       "    </tr>\n",
       "    <tr>\n",
       "      <th>4</th>\n",
       "      <td>8694625920731541625</td>\n",
       "      <td>406</td>\n",
       "    </tr>\n",
       "  </tbody>\n",
       "</table>\n",
       "</div>"
      ],
      "text/plain": [
       "                app_id  label_id\n",
       "0  7324884708820027918       251\n",
       "1 -4494216993218550286       251\n",
       "2  6058196446775239644       406\n",
       "3  6058196446775239644       407\n",
       "4  8694625920731541625       406"
      ]
     },
     "execution_count": 40,
     "metadata": {},
     "output_type": "execute_result"
    }
   ],
   "source": [
    "app_labels.head()"
   ]
  },
  {
   "cell_type": "code",
   "execution_count": 41,
   "metadata": {
    "collapsed": true
   },
   "outputs": [],
   "source": [
    "app_label_categories = pd.merge(app_labels, label_categories, left_on='label_id', right_on='label_id')"
   ]
  },
  {
   "cell_type": "code",
   "execution_count": 42,
   "metadata": {
    "collapsed": true
   },
   "outputs": [],
   "source": [
    "app_label_categories.set_index('label_id', inplace=True)"
   ]
  },
  {
   "cell_type": "code",
   "execution_count": 43,
   "metadata": {},
   "outputs": [
    {
     "data": {
      "text/html": [
       "<div>\n",
       "<style scoped>\n",
       "    .dataframe tbody tr th:only-of-type {\n",
       "        vertical-align: middle;\n",
       "    }\n",
       "\n",
       "    .dataframe tbody tr th {\n",
       "        vertical-align: top;\n",
       "    }\n",
       "\n",
       "    .dataframe thead th {\n",
       "        text-align: right;\n",
       "    }\n",
       "</style>\n",
       "<table border=\"1\" class=\"dataframe\">\n",
       "  <thead>\n",
       "    <tr style=\"text-align: right;\">\n",
       "      <th></th>\n",
       "      <th>app_id</th>\n",
       "      <th>category</th>\n",
       "      <th>label_itunes_id</th>\n",
       "    </tr>\n",
       "    <tr>\n",
       "      <th>label_id</th>\n",
       "      <th></th>\n",
       "      <th></th>\n",
       "      <th></th>\n",
       "    </tr>\n",
       "  </thead>\n",
       "  <tbody>\n",
       "    <tr>\n",
       "      <th>251</th>\n",
       "      <td>7324884708820027918</td>\n",
       "      <td>Finance</td>\n",
       "      <td>6</td>\n",
       "    </tr>\n",
       "    <tr>\n",
       "      <th>251</th>\n",
       "      <td>-4494216993218550286</td>\n",
       "      <td>Finance</td>\n",
       "      <td>6</td>\n",
       "    </tr>\n",
       "    <tr>\n",
       "      <th>251</th>\n",
       "      <td>8756705988821000489</td>\n",
       "      <td>Finance</td>\n",
       "      <td>6</td>\n",
       "    </tr>\n",
       "    <tr>\n",
       "      <th>251</th>\n",
       "      <td>1061207043315821111</td>\n",
       "      <td>Finance</td>\n",
       "      <td>6</td>\n",
       "    </tr>\n",
       "    <tr>\n",
       "      <th>251</th>\n",
       "      <td>-1491198667294647703</td>\n",
       "      <td>Finance</td>\n",
       "      <td>6</td>\n",
       "    </tr>\n",
       "  </tbody>\n",
       "</table>\n",
       "</div>"
      ],
      "text/plain": [
       "                       app_id category  label_itunes_id\n",
       "label_id                                               \n",
       "251       7324884708820027918  Finance                6\n",
       "251      -4494216993218550286  Finance                6\n",
       "251       8756705988821000489  Finance                6\n",
       "251       1061207043315821111  Finance                6\n",
       "251      -1491198667294647703  Finance                6"
      ]
     },
     "execution_count": 43,
     "metadata": {},
     "output_type": "execute_result"
    }
   ],
   "source": [
    "app_label_categories.head()"
   ]
  },
  {
   "cell_type": "code",
   "execution_count": 44,
   "metadata": {},
   "outputs": [
    {
     "data": {
      "text/html": [
       "<div>\n",
       "<style scoped>\n",
       "    .dataframe tbody tr th:only-of-type {\n",
       "        vertical-align: middle;\n",
       "    }\n",
       "\n",
       "    .dataframe tbody tr th {\n",
       "        vertical-align: top;\n",
       "    }\n",
       "\n",
       "    .dataframe thead th {\n",
       "        text-align: right;\n",
       "    }\n",
       "</style>\n",
       "<table border=\"1\" class=\"dataframe\">\n",
       "  <thead>\n",
       "    <tr style=\"text-align: right;\">\n",
       "      <th></th>\n",
       "      <th>label_itunes_id</th>\n",
       "      <th>label_itunes_category</th>\n",
       "    </tr>\n",
       "  </thead>\n",
       "  <tbody>\n",
       "    <tr>\n",
       "      <th>0</th>\n",
       "      <td>1</td>\n",
       "      <td>Books</td>\n",
       "    </tr>\n",
       "    <tr>\n",
       "      <th>1</th>\n",
       "      <td>2</td>\n",
       "      <td>Business</td>\n",
       "    </tr>\n",
       "    <tr>\n",
       "      <th>2</th>\n",
       "      <td>3</td>\n",
       "      <td>Catalogs</td>\n",
       "    </tr>\n",
       "    <tr>\n",
       "      <th>3</th>\n",
       "      <td>4</td>\n",
       "      <td>Education</td>\n",
       "    </tr>\n",
       "    <tr>\n",
       "      <th>4</th>\n",
       "      <td>5</td>\n",
       "      <td>Entertainment</td>\n",
       "    </tr>\n",
       "  </tbody>\n",
       "</table>\n",
       "</div>"
      ],
      "text/plain": [
       "   label_itunes_id label_itunes_category\n",
       "0                1                 Books\n",
       "1                2              Business\n",
       "2                3              Catalogs\n",
       "3                4             Education\n",
       "4                5         Entertainment"
      ]
     },
     "execution_count": 44,
     "metadata": {},
     "output_type": "execute_result"
    }
   ],
   "source": [
    "label_categories_mapping = pd.read_csv('label_categories_mapping.csv')\n",
    "label_categories_mapping.head()"
   ]
  },
  {
   "cell_type": "code",
   "execution_count": 45,
   "metadata": {},
   "outputs": [
    {
     "data": {
      "text/html": [
       "<div>\n",
       "<style scoped>\n",
       "    .dataframe tbody tr th:only-of-type {\n",
       "        vertical-align: middle;\n",
       "    }\n",
       "\n",
       "    .dataframe tbody tr th {\n",
       "        vertical-align: top;\n",
       "    }\n",
       "\n",
       "    .dataframe thead th {\n",
       "        text-align: right;\n",
       "    }\n",
       "</style>\n",
       "<table border=\"1\" class=\"dataframe\">\n",
       "  <thead>\n",
       "    <tr style=\"text-align: right;\">\n",
       "      <th></th>\n",
       "      <th>label_id</th>\n",
       "      <th>category</th>\n",
       "      <th>label_itunes_id</th>\n",
       "    </tr>\n",
       "  </thead>\n",
       "  <tbody>\n",
       "    <tr>\n",
       "      <th>0</th>\n",
       "      <td>1</td>\n",
       "      <td>NaN</td>\n",
       "      <td>26</td>\n",
       "    </tr>\n",
       "    <tr>\n",
       "      <th>1</th>\n",
       "      <td>2</td>\n",
       "      <td>game-game type</td>\n",
       "      <td>8</td>\n",
       "    </tr>\n",
       "    <tr>\n",
       "      <th>2</th>\n",
       "      <td>3</td>\n",
       "      <td>game-Game themes</td>\n",
       "      <td>8</td>\n",
       "    </tr>\n",
       "    <tr>\n",
       "      <th>3</th>\n",
       "      <td>4</td>\n",
       "      <td>game-Art Style</td>\n",
       "      <td>8</td>\n",
       "    </tr>\n",
       "    <tr>\n",
       "      <th>4</th>\n",
       "      <td>5</td>\n",
       "      <td>game-Leisure time</td>\n",
       "      <td>8</td>\n",
       "    </tr>\n",
       "  </tbody>\n",
       "</table>\n",
       "</div>"
      ],
      "text/plain": [
       "   label_id           category  label_itunes_id\n",
       "0         1                NaN               26\n",
       "1         2     game-game type                8\n",
       "2         3   game-Game themes                8\n",
       "3         4     game-Art Style                8\n",
       "4         5  game-Leisure time                8"
      ]
     },
     "execution_count": 45,
     "metadata": {},
     "output_type": "execute_result"
    }
   ],
   "source": [
    "label_categories.head()"
   ]
  },
  {
   "cell_type": "code",
   "execution_count": 46,
   "metadata": {
    "collapsed": true
   },
   "outputs": [],
   "source": [
    "label_categories = pd.merge(label_categories, label_categories_mapping, left_on='label_itunes_id', right_on='label_itunes_id')"
   ]
  },
  {
   "cell_type": "code",
   "execution_count": 47,
   "metadata": {},
   "outputs": [
    {
     "data": {
      "text/html": [
       "<div>\n",
       "<style scoped>\n",
       "    .dataframe tbody tr th:only-of-type {\n",
       "        vertical-align: middle;\n",
       "    }\n",
       "\n",
       "    .dataframe tbody tr th {\n",
       "        vertical-align: top;\n",
       "    }\n",
       "\n",
       "    .dataframe thead th {\n",
       "        text-align: right;\n",
       "    }\n",
       "</style>\n",
       "<table border=\"1\" class=\"dataframe\">\n",
       "  <thead>\n",
       "    <tr style=\"text-align: right;\">\n",
       "      <th></th>\n",
       "      <th>label_id</th>\n",
       "      <th>category</th>\n",
       "      <th>label_itunes_id</th>\n",
       "      <th>label_itunes_category</th>\n",
       "    </tr>\n",
       "  </thead>\n",
       "  <tbody>\n",
       "    <tr>\n",
       "      <th>0</th>\n",
       "      <td>1</td>\n",
       "      <td>NaN</td>\n",
       "      <td>26</td>\n",
       "      <td>Unknown</td>\n",
       "    </tr>\n",
       "    <tr>\n",
       "      <th>1</th>\n",
       "      <td>74</td>\n",
       "      <td>unknown</td>\n",
       "      <td>26</td>\n",
       "      <td>Unknown</td>\n",
       "    </tr>\n",
       "    <tr>\n",
       "      <th>2</th>\n",
       "      <td>115</td>\n",
       "      <td>unknown</td>\n",
       "      <td>26</td>\n",
       "      <td>Unknown</td>\n",
       "    </tr>\n",
       "    <tr>\n",
       "      <th>3</th>\n",
       "      <td>125</td>\n",
       "      <td>unknown</td>\n",
       "      <td>26</td>\n",
       "      <td>Unknown</td>\n",
       "    </tr>\n",
       "    <tr>\n",
       "      <th>4</th>\n",
       "      <td>126</td>\n",
       "      <td>unknown</td>\n",
       "      <td>26</td>\n",
       "      <td>Unknown</td>\n",
       "    </tr>\n",
       "  </tbody>\n",
       "</table>\n",
       "</div>"
      ],
      "text/plain": [
       "   label_id category  label_itunes_id label_itunes_category\n",
       "0         1      NaN               26               Unknown\n",
       "1        74  unknown               26               Unknown\n",
       "2       115  unknown               26               Unknown\n",
       "3       125  unknown               26               Unknown\n",
       "4       126  unknown               26               Unknown"
      ]
     },
     "execution_count": 47,
     "metadata": {},
     "output_type": "execute_result"
    }
   ],
   "source": [
    "label_categories.head()"
   ]
  },
  {
   "cell_type": "code",
   "execution_count": 48,
   "metadata": {
    "collapsed": true
   },
   "outputs": [],
   "source": [
    "label_categories.set_index('label_itunes_id', inplace=True)"
   ]
  },
  {
   "cell_type": "code",
   "execution_count": 49,
   "metadata": {},
   "outputs": [
    {
     "data": {
      "text/html": [
       "<div>\n",
       "<style scoped>\n",
       "    .dataframe tbody tr th:only-of-type {\n",
       "        vertical-align: middle;\n",
       "    }\n",
       "\n",
       "    .dataframe tbody tr th {\n",
       "        vertical-align: top;\n",
       "    }\n",
       "\n",
       "    .dataframe thead th {\n",
       "        text-align: right;\n",
       "    }\n",
       "</style>\n",
       "<table border=\"1\" class=\"dataframe\">\n",
       "  <thead>\n",
       "    <tr style=\"text-align: right;\">\n",
       "      <th></th>\n",
       "      <th>label_id</th>\n",
       "      <th>category</th>\n",
       "      <th>label_itunes_category</th>\n",
       "    </tr>\n",
       "    <tr>\n",
       "      <th>label_itunes_id</th>\n",
       "      <th></th>\n",
       "      <th></th>\n",
       "      <th></th>\n",
       "    </tr>\n",
       "  </thead>\n",
       "  <tbody>\n",
       "    <tr>\n",
       "      <th>26</th>\n",
       "      <td>1</td>\n",
       "      <td>NaN</td>\n",
       "      <td>Unknown</td>\n",
       "    </tr>\n",
       "    <tr>\n",
       "      <th>26</th>\n",
       "      <td>74</td>\n",
       "      <td>unknown</td>\n",
       "      <td>Unknown</td>\n",
       "    </tr>\n",
       "    <tr>\n",
       "      <th>26</th>\n",
       "      <td>115</td>\n",
       "      <td>unknown</td>\n",
       "      <td>Unknown</td>\n",
       "    </tr>\n",
       "    <tr>\n",
       "      <th>26</th>\n",
       "      <td>125</td>\n",
       "      <td>unknown</td>\n",
       "      <td>Unknown</td>\n",
       "    </tr>\n",
       "    <tr>\n",
       "      <th>26</th>\n",
       "      <td>126</td>\n",
       "      <td>unknown</td>\n",
       "      <td>Unknown</td>\n",
       "    </tr>\n",
       "  </tbody>\n",
       "</table>\n",
       "</div>"
      ],
      "text/plain": [
       "                 label_id category label_itunes_category\n",
       "label_itunes_id                                         \n",
       "26                      1      NaN               Unknown\n",
       "26                     74  unknown               Unknown\n",
       "26                    115  unknown               Unknown\n",
       "26                    125  unknown               Unknown\n",
       "26                    126  unknown               Unknown"
      ]
     },
     "execution_count": 49,
     "metadata": {},
     "output_type": "execute_result"
    }
   ],
   "source": [
    "label_categories.head()"
   ]
  },
  {
   "cell_type": "code",
   "execution_count": 50,
   "metadata": {},
   "outputs": [
    {
     "data": {
      "text/html": [
       "<div>\n",
       "<style scoped>\n",
       "    .dataframe tbody tr th:only-of-type {\n",
       "        vertical-align: middle;\n",
       "    }\n",
       "\n",
       "    .dataframe tbody tr th {\n",
       "        vertical-align: top;\n",
       "    }\n",
       "\n",
       "    .dataframe thead th {\n",
       "        text-align: right;\n",
       "    }\n",
       "</style>\n",
       "<table border=\"1\" class=\"dataframe\">\n",
       "  <thead>\n",
       "    <tr style=\"text-align: right;\">\n",
       "      <th></th>\n",
       "      <th>label_id</th>\n",
       "      <th>label_itunes_category</th>\n",
       "    </tr>\n",
       "  </thead>\n",
       "  <tbody>\n",
       "    <tr>\n",
       "      <th>count</th>\n",
       "      <td>833.000000</td>\n",
       "      <td>833.000000</td>\n",
       "    </tr>\n",
       "    <tr>\n",
       "      <th>mean</th>\n",
       "      <td>1.110444</td>\n",
       "      <td>1.110444</td>\n",
       "    </tr>\n",
       "    <tr>\n",
       "      <th>min</th>\n",
       "      <td>1.000000</td>\n",
       "      <td>1.000000</td>\n",
       "    </tr>\n",
       "    <tr>\n",
       "      <th>max</th>\n",
       "      <td>26.000000</td>\n",
       "      <td>26.000000</td>\n",
       "    </tr>\n",
       "    <tr>\n",
       "      <th>sum</th>\n",
       "      <td>925.000000</td>\n",
       "      <td>925.000000</td>\n",
       "    </tr>\n",
       "  </tbody>\n",
       "</table>\n",
       "</div>"
      ],
      "text/plain": [
       "         label_id  label_itunes_category\n",
       "count  833.000000             833.000000\n",
       "mean     1.110444               1.110444\n",
       "min      1.000000               1.000000\n",
       "max     26.000000              26.000000\n",
       "sum    925.000000             925.000000"
      ]
     },
     "execution_count": 50,
     "metadata": {},
     "output_type": "execute_result"
    }
   ],
   "source": [
    "label_categories.groupby('category').count().agg(['count', 'mean', 'min', 'max', 'sum'])"
   ]
  },
  {
   "cell_type": "code",
   "execution_count": 51,
   "metadata": {
    "collapsed": true
   },
   "outputs": [],
   "source": [
    "app_labels = pd.merge(app_labels, label_categories, left_on='label_id', right_on='label_id')\n",
    "app_labels.set_index('label_id', inplace=True)"
   ]
  },
  {
   "cell_type": "code",
   "execution_count": 52,
   "metadata": {},
   "outputs": [
    {
     "data": {
      "text/html": [
       "<div>\n",
       "<style scoped>\n",
       "    .dataframe tbody tr th:only-of-type {\n",
       "        vertical-align: middle;\n",
       "    }\n",
       "\n",
       "    .dataframe tbody tr th {\n",
       "        vertical-align: top;\n",
       "    }\n",
       "\n",
       "    .dataframe thead th {\n",
       "        text-align: right;\n",
       "    }\n",
       "</style>\n",
       "<table border=\"1\" class=\"dataframe\">\n",
       "  <thead>\n",
       "    <tr style=\"text-align: right;\">\n",
       "      <th></th>\n",
       "      <th>app_id</th>\n",
       "      <th>category</th>\n",
       "      <th>label_itunes_category</th>\n",
       "    </tr>\n",
       "    <tr>\n",
       "      <th>label_id</th>\n",
       "      <th></th>\n",
       "      <th></th>\n",
       "      <th></th>\n",
       "    </tr>\n",
       "  </thead>\n",
       "  <tbody>\n",
       "    <tr>\n",
       "      <th>251</th>\n",
       "      <td>7324884708820027918</td>\n",
       "      <td>Finance</td>\n",
       "      <td>Finance</td>\n",
       "    </tr>\n",
       "    <tr>\n",
       "      <th>251</th>\n",
       "      <td>-4494216993218550286</td>\n",
       "      <td>Finance</td>\n",
       "      <td>Finance</td>\n",
       "    </tr>\n",
       "    <tr>\n",
       "      <th>251</th>\n",
       "      <td>8756705988821000489</td>\n",
       "      <td>Finance</td>\n",
       "      <td>Finance</td>\n",
       "    </tr>\n",
       "    <tr>\n",
       "      <th>251</th>\n",
       "      <td>1061207043315821111</td>\n",
       "      <td>Finance</td>\n",
       "      <td>Finance</td>\n",
       "    </tr>\n",
       "    <tr>\n",
       "      <th>251</th>\n",
       "      <td>-1491198667294647703</td>\n",
       "      <td>Finance</td>\n",
       "      <td>Finance</td>\n",
       "    </tr>\n",
       "  </tbody>\n",
       "</table>\n",
       "</div>"
      ],
      "text/plain": [
       "                       app_id category label_itunes_category\n",
       "label_id                                                    \n",
       "251       7324884708820027918  Finance               Finance\n",
       "251      -4494216993218550286  Finance               Finance\n",
       "251       8756705988821000489  Finance               Finance\n",
       "251       1061207043315821111  Finance               Finance\n",
       "251      -1491198667294647703  Finance               Finance"
      ]
     },
     "execution_count": 52,
     "metadata": {},
     "output_type": "execute_result"
    }
   ],
   "source": [
    "app_labels.head()"
   ]
  },
  {
   "cell_type": "code",
   "execution_count": 53,
   "metadata": {
    "collapsed": true
   },
   "outputs": [],
   "source": [
    "app_cat_itunes_freq = app_labels.groupby(\"label_itunes_category\").agg('count')"
   ]
  },
  {
   "cell_type": "code",
   "execution_count": 54,
   "metadata": {
    "collapsed": true
   },
   "outputs": [],
   "source": [
    "app_cat_itunes_freq.sort_values(by='category', ascending=False, inplace=True)"
   ]
  },
  {
   "cell_type": "code",
   "execution_count": 55,
   "metadata": {},
   "outputs": [
    {
     "data": {
      "text/html": [
       "<div>\n",
       "<style scoped>\n",
       "    .dataframe tbody tr th:only-of-type {\n",
       "        vertical-align: middle;\n",
       "    }\n",
       "\n",
       "    .dataframe tbody tr th {\n",
       "        vertical-align: top;\n",
       "    }\n",
       "\n",
       "    .dataframe thead th {\n",
       "        text-align: right;\n",
       "    }\n",
       "</style>\n",
       "<table border=\"1\" class=\"dataframe\">\n",
       "  <thead>\n",
       "    <tr style=\"text-align: right;\">\n",
       "      <th></th>\n",
       "      <th>app_id</th>\n",
       "      <th>category</th>\n",
       "    </tr>\n",
       "    <tr>\n",
       "      <th>label_itunes_category</th>\n",
       "      <th></th>\n",
       "      <th></th>\n",
       "    </tr>\n",
       "  </thead>\n",
       "  <tbody>\n",
       "    <tr>\n",
       "      <th>Unknown</th>\n",
       "      <td>37188</td>\n",
       "      <td>37188</td>\n",
       "    </tr>\n",
       "    <tr>\n",
       "      <th>Finance</th>\n",
       "      <td>4103</td>\n",
       "      <td>4103</td>\n",
       "    </tr>\n",
       "    <tr>\n",
       "      <th>Business</th>\n",
       "      <td>3409</td>\n",
       "      <td>3409</td>\n",
       "    </tr>\n",
       "    <tr>\n",
       "      <th>Shopping</th>\n",
       "      <td>224</td>\n",
       "      <td>224</td>\n",
       "    </tr>\n",
       "    <tr>\n",
       "      <th>Reference</th>\n",
       "      <td>70</td>\n",
       "      <td>70</td>\n",
       "    </tr>\n",
       "  </tbody>\n",
       "</table>\n",
       "</div>"
      ],
      "text/plain": [
       "                       app_id  category\n",
       "label_itunes_category                  \n",
       "Unknown                 37188     37188\n",
       "Finance                  4103      4103\n",
       "Business                 3409      3409\n",
       "Shopping                  224       224\n",
       "Reference                  70        70"
      ]
     },
     "execution_count": 55,
     "metadata": {},
     "output_type": "execute_result"
    }
   ],
   "source": [
    "app_cat_itunes_freq.head()"
   ]
  },
  {
   "cell_type": "code",
   "execution_count": 56,
   "metadata": {
    "collapsed": true
   },
   "outputs": [],
   "source": [
    "app_labels_pandas = app_labels\n",
    "app_labels_pandas = app_labels_pandas.sample(1000, replace=True)"
   ]
  },
  {
   "cell_type": "code",
   "execution_count": 57,
   "metadata": {},
   "outputs": [
    {
     "data": {
      "image/png": "[encoded data removed]",
      "text/plain": [
       "<matplotlib.figure.Figure at 0x7f64bfd48eb8>"
      ]
     },
     "metadata": {},
     "output_type": "display_data"
    }
   ],
   "source": [
    "dimensions = (10, 10)\n",
    "fig, ax = pyplot.subplots(figsize=dimensions)\n",
    "sns.stripplot(x=\"app_id\", y=\"label_itunes_category\", data=app_labels_pandas);"
   ]
  },
  {
   "cell_type": "markdown",
   "metadata": {},
   "source": [
    "We can see that a high number of apps is categorized as Unknown, and followed by a frequent use of Finance and Business apps."
   ]
  },
  {
   "cell_type": "markdown",
   "metadata": {},
   "source": [
    "### Data Transformation"
   ]
  },
  {
   "cell_type": "markdown",
   "metadata": {},
   "source": [
    "We will now combine the different datasets in order to have only one dataset to train our model on."
   ]
  },
  {
   "cell_type": "code",
   "execution_count": 58,
   "metadata": {
    "collapsed": true
   },
   "outputs": [],
   "source": [
    "combined_data_df = pd.merge(phone_brand_device_model, gender_age_train, left_on='device_id', right_on='device_id')"
   ]
  },
  {
   "cell_type": "code",
   "execution_count": 59,
   "metadata": {
    "collapsed": true
   },
   "outputs": [],
   "source": [
    "combined_data_df = pd.merge(combined_data_df, events, left_on='device_id', right_on='device_id')"
   ]
  },
  {
   "cell_type": "code",
   "execution_count": 60,
   "metadata": {
    "collapsed": true
   },
   "outputs": [],
   "source": [
    "combined_data_df = pd.merge(combined_data_df, app_events, left_on='event_id', right_on='event_id')"
   ]
  },
  {
   "cell_type": "code",
   "execution_count": 61,
   "metadata": {
    "collapsed": true
   },
   "outputs": [],
   "source": [
    "combined_data_df = pd.merge(combined_data_df, app_labels, left_on='app_id', right_on='app_id')"
   ]
  },
  {
   "cell_type": "code",
   "execution_count": 62,
   "metadata": {
    "collapsed": true
   },
   "outputs": [],
   "source": [
    "#combined_data_df = pd.merge(combined_data_df, label_categories, left_on='label_itunes_category', right_on='label_itunes_category')"
   ]
  },
  {
   "cell_type": "code",
   "execution_count": 63,
   "metadata": {},
   "outputs": [
    {
     "data": {
      "text/html": [
       "<div>\n",
       "<style scoped>\n",
       "    .dataframe tbody tr th:only-of-type {\n",
       "        vertical-align: middle;\n",
       "    }\n",
       "\n",
       "    .dataframe tbody tr th {\n",
       "        vertical-align: top;\n",
       "    }\n",
       "\n",
       "    .dataframe thead th {\n",
       "        text-align: right;\n",
       "    }\n",
       "</style>\n",
       "<table border=\"1\" class=\"dataframe\">\n",
       "  <thead>\n",
       "    <tr style=\"text-align: right;\">\n",
       "      <th></th>\n",
       "      <th>device_id</th>\n",
       "      <th>phone_brand</th>\n",
       "      <th>device_model</th>\n",
       "      <th>gender</th>\n",
       "      <th>age</th>\n",
       "      <th>group</th>\n",
       "      <th>event_id</th>\n",
       "      <th>timestamp</th>\n",
       "      <th>longitude</th>\n",
       "      <th>latitude</th>\n",
       "      <th>app_id</th>\n",
       "      <th>is_installed</th>\n",
       "      <th>is_active</th>\n",
       "      <th>category</th>\n",
       "      <th>label_itunes_category</th>\n",
       "    </tr>\n",
       "  </thead>\n",
       "  <tbody>\n",
       "    <tr>\n",
       "      <th>0</th>\n",
       "      <td>7102818890309647918</td>\n",
       "      <td>华为</td>\n",
       "      <td>荣耀6 Plus</td>\n",
       "      <td>M</td>\n",
       "      <td>34</td>\n",
       "      <td>M32-38</td>\n",
       "      <td>19508</td>\n",
       "      <td>2016-05-06 17:28:37</td>\n",
       "      <td>0.0</td>\n",
       "      <td>0.0</td>\n",
       "      <td>6284164581582112235</td>\n",
       "      <td>1</td>\n",
       "      <td>1</td>\n",
       "      <td>Services 1</td>\n",
       "      <td>Unknown</td>\n",
       "    </tr>\n",
       "    <tr>\n",
       "      <th>1</th>\n",
       "      <td>7102818890309647918</td>\n",
       "      <td>华为</td>\n",
       "      <td>荣耀6 Plus</td>\n",
       "      <td>M</td>\n",
       "      <td>34</td>\n",
       "      <td>M32-38</td>\n",
       "      <td>19511</td>\n",
       "      <td>2016-05-06 17:29:20</td>\n",
       "      <td>0.0</td>\n",
       "      <td>0.0</td>\n",
       "      <td>6284164581582112235</td>\n",
       "      <td>1</td>\n",
       "      <td>1</td>\n",
       "      <td>Services 1</td>\n",
       "      <td>Unknown</td>\n",
       "    </tr>\n",
       "    <tr>\n",
       "      <th>2</th>\n",
       "      <td>2960733785680786248</td>\n",
       "      <td>华为</td>\n",
       "      <td>X1 7.0</td>\n",
       "      <td>F</td>\n",
       "      <td>42</td>\n",
       "      <td>F33-42</td>\n",
       "      <td>10169</td>\n",
       "      <td>2016-05-02 11:35:18</td>\n",
       "      <td>0.0</td>\n",
       "      <td>0.0</td>\n",
       "      <td>6284164581582112235</td>\n",
       "      <td>1</td>\n",
       "      <td>1</td>\n",
       "      <td>Services 1</td>\n",
       "      <td>Unknown</td>\n",
       "    </tr>\n",
       "    <tr>\n",
       "      <th>3</th>\n",
       "      <td>2960733785680786248</td>\n",
       "      <td>华为</td>\n",
       "      <td>X1 7.0</td>\n",
       "      <td>F</td>\n",
       "      <td>42</td>\n",
       "      <td>F33-42</td>\n",
       "      <td>15883</td>\n",
       "      <td>2016-05-01 15:35:50</td>\n",
       "      <td>0.0</td>\n",
       "      <td>0.0</td>\n",
       "      <td>6284164581582112235</td>\n",
       "      <td>1</td>\n",
       "      <td>1</td>\n",
       "      <td>Services 1</td>\n",
       "      <td>Unknown</td>\n",
       "    </tr>\n",
       "    <tr>\n",
       "      <th>4</th>\n",
       "      <td>6991051957078230900</td>\n",
       "      <td>华为</td>\n",
       "      <td>荣耀畅玩4C</td>\n",
       "      <td>M</td>\n",
       "      <td>25</td>\n",
       "      <td>M23-26</td>\n",
       "      <td>14983</td>\n",
       "      <td>2016-05-04 14:47:45</td>\n",
       "      <td>0.0</td>\n",
       "      <td>0.0</td>\n",
       "      <td>6284164581582112235</td>\n",
       "      <td>1</td>\n",
       "      <td>1</td>\n",
       "      <td>Services 1</td>\n",
       "      <td>Unknown</td>\n",
       "    </tr>\n",
       "  </tbody>\n",
       "</table>\n",
       "</div>"
      ],
      "text/plain": [
       "             device_id phone_brand device_model gender  age   group  event_id  \\\n",
       "0  7102818890309647918          华为     荣耀6 Plus      M   34  M32-38     19508   \n",
       "1  7102818890309647918          华为     荣耀6 Plus      M   34  M32-38     19511   \n",
       "2  2960733785680786248          华为       X1 7.0      F   42  F33-42     10169   \n",
       "3  2960733785680786248          华为       X1 7.0      F   42  F33-42     15883   \n",
       "4  6991051957078230900          华为       荣耀畅玩4C      M   25  M23-26     14983   \n",
       "\n",
       "             timestamp  longitude  latitude               app_id  \\\n",
       "0  2016-05-06 17:28:37        0.0       0.0  6284164581582112235   \n",
       "1  2016-05-06 17:29:20        0.0       0.0  6284164581582112235   \n",
       "2  2016-05-02 11:35:18        0.0       0.0  6284164581582112235   \n",
       "3  2016-05-01 15:35:50        0.0       0.0  6284164581582112235   \n",
       "4  2016-05-04 14:47:45        0.0       0.0  6284164581582112235   \n",
       "\n",
       "   is_installed  is_active    category label_itunes_category  \n",
       "0             1          1  Services 1               Unknown  \n",
       "1             1          1  Services 1               Unknown  \n",
       "2             1          1  Services 1               Unknown  \n",
       "3             1          1  Services 1               Unknown  \n",
       "4             1          1  Services 1               Unknown  "
      ]
     },
     "execution_count": 63,
     "metadata": {},
     "output_type": "execute_result"
    }
   ],
   "source": [
    "combined_data_df.head()"
   ]
  },
  {
   "cell_type": "code",
   "execution_count": 64,
   "metadata": {},
   "outputs": [
    {
     "data": {
      "text/plain": [
       "(33545, 15)"
      ]
     },
     "execution_count": 64,
     "metadata": {},
     "output_type": "execute_result"
    }
   ],
   "source": [
    "combined_data_df.shape"
   ]
  },
  {
   "cell_type": "code",
   "execution_count": 65,
   "metadata": {
    "scrolled": true
   },
   "outputs": [
    {
     "name": "stdout",
     "output_type": "stream",
     "text": [
      "M    22793\n",
      "F    10752\n",
      "Name: gender, dtype: int64\n"
     ]
    },
    {
     "data": {
      "image/png": "[encoded data removed]",
      "text/plain": [
       "<matplotlib.figure.Figure at 0x7f64c0427940>"
      ]
     },
     "metadata": {},
     "output_type": "display_data"
    }
   ],
   "source": [
    "counts = combined_data_df.gender.value_counts()\n",
    "print(counts);\n",
    "\n",
    "plt.pie(counts.values, labels=counts.keys())\n",
    "plt.axis('equal')\n",
    "plt.show()"
   ]
  },
  {
   "cell_type": "markdown",
   "metadata": {},
   "source": [
    "We will drop a fraction of male users to balance our data:"
   ]
  },
  {
   "cell_type": "code",
   "execution_count": 66,
   "metadata": {
    "collapsed": true
   },
   "outputs": [],
   "source": [
    "combined_data_df = combined_data_df.drop(combined_data_df[combined_data_df['gender'] == 'M'].sample(frac=0.6).index)"
   ]
  },
  {
   "cell_type": "code",
   "execution_count": 67,
   "metadata": {},
   "outputs": [
    {
     "data": {
      "text/html": [
       "<div>\n",
       "<style scoped>\n",
       "    .dataframe tbody tr th:only-of-type {\n",
       "        vertical-align: middle;\n",
       "    }\n",
       "\n",
       "    .dataframe tbody tr th {\n",
       "        vertical-align: top;\n",
       "    }\n",
       "\n",
       "    .dataframe thead th {\n",
       "        text-align: right;\n",
       "    }\n",
       "</style>\n",
       "<table border=\"1\" class=\"dataframe\">\n",
       "  <thead>\n",
       "    <tr style=\"text-align: right;\">\n",
       "      <th></th>\n",
       "      <th>device_id</th>\n",
       "      <th>phone_brand</th>\n",
       "      <th>device_model</th>\n",
       "      <th>gender</th>\n",
       "      <th>age</th>\n",
       "      <th>group</th>\n",
       "      <th>event_id</th>\n",
       "      <th>timestamp</th>\n",
       "      <th>longitude</th>\n",
       "      <th>latitude</th>\n",
       "      <th>app_id</th>\n",
       "      <th>is_installed</th>\n",
       "      <th>is_active</th>\n",
       "      <th>category</th>\n",
       "      <th>label_itunes_category</th>\n",
       "    </tr>\n",
       "  </thead>\n",
       "  <tbody>\n",
       "    <tr>\n",
       "      <th>2</th>\n",
       "      <td>2960733785680786248</td>\n",
       "      <td>华为</td>\n",
       "      <td>X1 7.0</td>\n",
       "      <td>F</td>\n",
       "      <td>42</td>\n",
       "      <td>F33-42</td>\n",
       "      <td>10169</td>\n",
       "      <td>2016-05-02 11:35:18</td>\n",
       "      <td>0.0</td>\n",
       "      <td>0.0</td>\n",
       "      <td>6284164581582112235</td>\n",
       "      <td>1</td>\n",
       "      <td>1</td>\n",
       "      <td>Services 1</td>\n",
       "      <td>Unknown</td>\n",
       "    </tr>\n",
       "    <tr>\n",
       "      <th>3</th>\n",
       "      <td>2960733785680786248</td>\n",
       "      <td>华为</td>\n",
       "      <td>X1 7.0</td>\n",
       "      <td>F</td>\n",
       "      <td>42</td>\n",
       "      <td>F33-42</td>\n",
       "      <td>15883</td>\n",
       "      <td>2016-05-01 15:35:50</td>\n",
       "      <td>0.0</td>\n",
       "      <td>0.0</td>\n",
       "      <td>6284164581582112235</td>\n",
       "      <td>1</td>\n",
       "      <td>1</td>\n",
       "      <td>Services 1</td>\n",
       "      <td>Unknown</td>\n",
       "    </tr>\n",
       "    <tr>\n",
       "      <th>5</th>\n",
       "      <td>-941605740552358285</td>\n",
       "      <td>华为</td>\n",
       "      <td>荣耀畅玩4X</td>\n",
       "      <td>F</td>\n",
       "      <td>32</td>\n",
       "      <td>F29-32</td>\n",
       "      <td>19192</td>\n",
       "      <td>2016-05-04 17:37:53</td>\n",
       "      <td>0.0</td>\n",
       "      <td>0.0</td>\n",
       "      <td>6284164581582112235</td>\n",
       "      <td>1</td>\n",
       "      <td>1</td>\n",
       "      <td>Services 1</td>\n",
       "      <td>Unknown</td>\n",
       "    </tr>\n",
       "    <tr>\n",
       "      <th>6</th>\n",
       "      <td>-941605740552358285</td>\n",
       "      <td>华为</td>\n",
       "      <td>荣耀畅玩4X</td>\n",
       "      <td>F</td>\n",
       "      <td>32</td>\n",
       "      <td>F29-32</td>\n",
       "      <td>28171</td>\n",
       "      <td>2016-05-03 23:30:46</td>\n",
       "      <td>0.0</td>\n",
       "      <td>0.0</td>\n",
       "      <td>6284164581582112235</td>\n",
       "      <td>1</td>\n",
       "      <td>1</td>\n",
       "      <td>Services 1</td>\n",
       "      <td>Unknown</td>\n",
       "    </tr>\n",
       "    <tr>\n",
       "      <th>7</th>\n",
       "      <td>7715946606178828084</td>\n",
       "      <td>华为</td>\n",
       "      <td>荣耀6</td>\n",
       "      <td>M</td>\n",
       "      <td>24</td>\n",
       "      <td>M23-26</td>\n",
       "      <td>29210</td>\n",
       "      <td>2016-05-02 00:23:37</td>\n",
       "      <td>0.0</td>\n",
       "      <td>0.0</td>\n",
       "      <td>6284164581582112235</td>\n",
       "      <td>1</td>\n",
       "      <td>1</td>\n",
       "      <td>Services 1</td>\n",
       "      <td>Unknown</td>\n",
       "    </tr>\n",
       "  </tbody>\n",
       "</table>\n",
       "</div>"
      ],
      "text/plain": [
       "             device_id phone_brand device_model gender  age   group  event_id  \\\n",
       "2  2960733785680786248          华为       X1 7.0      F   42  F33-42     10169   \n",
       "3  2960733785680786248          华为       X1 7.0      F   42  F33-42     15883   \n",
       "5  -941605740552358285          华为       荣耀畅玩4X      F   32  F29-32     19192   \n",
       "6  -941605740552358285          华为       荣耀畅玩4X      F   32  F29-32     28171   \n",
       "7  7715946606178828084          华为          荣耀6      M   24  M23-26     29210   \n",
       "\n",
       "             timestamp  longitude  latitude               app_id  \\\n",
       "2  2016-05-02 11:35:18        0.0       0.0  6284164581582112235   \n",
       "3  2016-05-01 15:35:50        0.0       0.0  6284164581582112235   \n",
       "5  2016-05-04 17:37:53        0.0       0.0  6284164581582112235   \n",
       "6  2016-05-03 23:30:46        0.0       0.0  6284164581582112235   \n",
       "7  2016-05-02 00:23:37        0.0       0.0  6284164581582112235   \n",
       "\n",
       "   is_installed  is_active    category label_itunes_category  \n",
       "2             1          1  Services 1               Unknown  \n",
       "3             1          1  Services 1               Unknown  \n",
       "5             1          1  Services 1               Unknown  \n",
       "6             1          1  Services 1               Unknown  \n",
       "7             1          1  Services 1               Unknown  "
      ]
     },
     "execution_count": 67,
     "metadata": {},
     "output_type": "execute_result"
    }
   ],
   "source": [
    "combined_data_df.head()"
   ]
  },
  {
   "cell_type": "code",
   "execution_count": 68,
   "metadata": {
    "collapsed": true
   },
   "outputs": [],
   "source": [
    "combined_data_df.set_index('device_id', inplace=True)"
   ]
  },
  {
   "cell_type": "code",
   "execution_count": 69,
   "metadata": {},
   "outputs": [
    {
     "data": {
      "text/plain": [
       "(19869, 14)"
      ]
     },
     "execution_count": 69,
     "metadata": {},
     "output_type": "execute_result"
    }
   ],
   "source": [
    "combined_data_df.shape"
   ]
  },
  {
   "cell_type": "code",
   "execution_count": 70,
   "metadata": {},
   "outputs": [
    {
     "data": {
      "text/plain": [
       "F    10752\n",
       "M     9117\n",
       "Name: gender, dtype: int64"
      ]
     },
     "execution_count": 70,
     "metadata": {},
     "output_type": "execute_result"
    }
   ],
   "source": [
    "combined_data_df.gender.value_counts()"
   ]
  },
  {
   "cell_type": "code",
   "execution_count": 71,
   "metadata": {},
   "outputs": [
    {
     "name": "stdout",
     "output_type": "stream",
     "text": [
      "F    10752\n",
      "M     9117\n",
      "Name: gender, dtype: int64\n"
     ]
    },
    {
     "data": {
      "image/png": "[encoded data removed]",
      "text/plain": [
       "<matplotlib.figure.Figure at 0x7f64bfc81e80>"
      ]
     },
     "metadata": {},
     "output_type": "display_data"
    }
   ],
   "source": [
    "counts = combined_data_df.gender.value_counts()\n",
    "print(counts);\n",
    "\n",
    "plt.pie(counts.values, labels=counts.keys())\n",
    "plt.axis('equal')\n",
    "plt.show()"
   ]
  },
  {
   "cell_type": "code",
   "execution_count": 72,
   "metadata": {},
   "outputs": [
    {
     "data": {
      "text/plain": [
       "Index(['phone_brand', 'device_model', 'gender', 'age', 'group', 'event_id',\n",
       "       'timestamp', 'longitude', 'latitude', 'app_id', 'is_installed',\n",
       "       'is_active', 'category', 'label_itunes_category'],\n",
       "      dtype='object')"
      ]
     },
     "execution_count": 72,
     "metadata": {},
     "output_type": "execute_result"
    }
   ],
   "source": [
    "combined_data_df.columns"
   ]
  },
  {
   "cell_type": "code",
   "execution_count": 73,
   "metadata": {
    "collapsed": true
   },
   "outputs": [],
   "source": [
    "combined_data_df.drop(['device_model', 'group',\n",
    "       'event_id', 'timestamp', 'longitude', 'latitude', 'app_id',\n",
    "       'is_installed', 'is_active'], axis=1, inplace=True)"
   ]
  },
  {
   "cell_type": "code",
   "execution_count": 74,
   "metadata": {
    "collapsed": true
   },
   "outputs": [],
   "source": [
    "dummy = pd.get_dummies(combined_data_df)"
   ]
  },
  {
   "cell_type": "code",
   "execution_count": 75,
   "metadata": {},
   "outputs": [
    {
     "data": {
      "text/html": [
       "<div>\n",
       "<style scoped>\n",
       "    .dataframe tbody tr th:only-of-type {\n",
       "        vertical-align: middle;\n",
       "    }\n",
       "\n",
       "    .dataframe tbody tr th {\n",
       "        vertical-align: top;\n",
       "    }\n",
       "\n",
       "    .dataframe thead th {\n",
       "        text-align: right;\n",
       "    }\n",
       "</style>\n",
       "<table border=\"1\" class=\"dataframe\">\n",
       "  <thead>\n",
       "    <tr style=\"text-align: right;\">\n",
       "      <th></th>\n",
       "      <th>age</th>\n",
       "      <th>phone_brand_HTC</th>\n",
       "      <th>phone_brand_OPPO</th>\n",
       "      <th>phone_brand_TCL</th>\n",
       "      <th>phone_brand_ZUK</th>\n",
       "      <th>phone_brand_vivo</th>\n",
       "      <th>phone_brand_一加</th>\n",
       "      <th>phone_brand_三星</th>\n",
       "      <th>phone_brand_中兴</th>\n",
       "      <th>phone_brand_中国移动</th>\n",
       "      <th>...</th>\n",
       "      <th>category_futures</th>\n",
       "      <th>category_mobile bank</th>\n",
       "      <th>category_pursue</th>\n",
       "      <th>category_service</th>\n",
       "      <th>category_unknown</th>\n",
       "      <th>label_itunes_category_Business</th>\n",
       "      <th>label_itunes_category_Finance</th>\n",
       "      <th>label_itunes_category_Reference</th>\n",
       "      <th>label_itunes_category_Shopping</th>\n",
       "      <th>label_itunes_category_Unknown</th>\n",
       "    </tr>\n",
       "    <tr>\n",
       "      <th>device_id</th>\n",
       "      <th></th>\n",
       "      <th></th>\n",
       "      <th></th>\n",
       "      <th></th>\n",
       "      <th></th>\n",
       "      <th></th>\n",
       "      <th></th>\n",
       "      <th></th>\n",
       "      <th></th>\n",
       "      <th></th>\n",
       "      <th></th>\n",
       "      <th></th>\n",
       "      <th></th>\n",
       "      <th></th>\n",
       "      <th></th>\n",
       "      <th></th>\n",
       "      <th></th>\n",
       "      <th></th>\n",
       "      <th></th>\n",
       "      <th></th>\n",
       "      <th></th>\n",
       "    </tr>\n",
       "  </thead>\n",
       "  <tbody>\n",
       "    <tr>\n",
       "      <th>2960733785680786248</th>\n",
       "      <td>42</td>\n",
       "      <td>0</td>\n",
       "      <td>0</td>\n",
       "      <td>0</td>\n",
       "      <td>0</td>\n",
       "      <td>0</td>\n",
       "      <td>0</td>\n",
       "      <td>0</td>\n",
       "      <td>0</td>\n",
       "      <td>0</td>\n",
       "      <td>...</td>\n",
       "      <td>0</td>\n",
       "      <td>0</td>\n",
       "      <td>0</td>\n",
       "      <td>0</td>\n",
       "      <td>0</td>\n",
       "      <td>0</td>\n",
       "      <td>0</td>\n",
       "      <td>0</td>\n",
       "      <td>0</td>\n",
       "      <td>1</td>\n",
       "    </tr>\n",
       "    <tr>\n",
       "      <th>2960733785680786248</th>\n",
       "      <td>42</td>\n",
       "      <td>0</td>\n",
       "      <td>0</td>\n",
       "      <td>0</td>\n",
       "      <td>0</td>\n",
       "      <td>0</td>\n",
       "      <td>0</td>\n",
       "      <td>0</td>\n",
       "      <td>0</td>\n",
       "      <td>0</td>\n",
       "      <td>...</td>\n",
       "      <td>0</td>\n",
       "      <td>0</td>\n",
       "      <td>0</td>\n",
       "      <td>0</td>\n",
       "      <td>0</td>\n",
       "      <td>0</td>\n",
       "      <td>0</td>\n",
       "      <td>0</td>\n",
       "      <td>0</td>\n",
       "      <td>1</td>\n",
       "    </tr>\n",
       "    <tr>\n",
       "      <th>-941605740552358285</th>\n",
       "      <td>32</td>\n",
       "      <td>0</td>\n",
       "      <td>0</td>\n",
       "      <td>0</td>\n",
       "      <td>0</td>\n",
       "      <td>0</td>\n",
       "      <td>0</td>\n",
       "      <td>0</td>\n",
       "      <td>0</td>\n",
       "      <td>0</td>\n",
       "      <td>...</td>\n",
       "      <td>0</td>\n",
       "      <td>0</td>\n",
       "      <td>0</td>\n",
       "      <td>0</td>\n",
       "      <td>0</td>\n",
       "      <td>0</td>\n",
       "      <td>0</td>\n",
       "      <td>0</td>\n",
       "      <td>0</td>\n",
       "      <td>1</td>\n",
       "    </tr>\n",
       "    <tr>\n",
       "      <th>-941605740552358285</th>\n",
       "      <td>32</td>\n",
       "      <td>0</td>\n",
       "      <td>0</td>\n",
       "      <td>0</td>\n",
       "      <td>0</td>\n",
       "      <td>0</td>\n",
       "      <td>0</td>\n",
       "      <td>0</td>\n",
       "      <td>0</td>\n",
       "      <td>0</td>\n",
       "      <td>...</td>\n",
       "      <td>0</td>\n",
       "      <td>0</td>\n",
       "      <td>0</td>\n",
       "      <td>0</td>\n",
       "      <td>0</td>\n",
       "      <td>0</td>\n",
       "      <td>0</td>\n",
       "      <td>0</td>\n",
       "      <td>0</td>\n",
       "      <td>1</td>\n",
       "    </tr>\n",
       "    <tr>\n",
       "      <th>7715946606178828084</th>\n",
       "      <td>24</td>\n",
       "      <td>0</td>\n",
       "      <td>0</td>\n",
       "      <td>0</td>\n",
       "      <td>0</td>\n",
       "      <td>0</td>\n",
       "      <td>0</td>\n",
       "      <td>0</td>\n",
       "      <td>0</td>\n",
       "      <td>0</td>\n",
       "      <td>...</td>\n",
       "      <td>0</td>\n",
       "      <td>0</td>\n",
       "      <td>0</td>\n",
       "      <td>0</td>\n",
       "      <td>0</td>\n",
       "      <td>0</td>\n",
       "      <td>0</td>\n",
       "      <td>0</td>\n",
       "      <td>0</td>\n",
       "      <td>1</td>\n",
       "    </tr>\n",
       "  </tbody>\n",
       "</table>\n",
       "<p>5 rows × 85 columns</p>\n",
       "</div>"
      ],
      "text/plain": [
       "                      age  phone_brand_HTC  phone_brand_OPPO  phone_brand_TCL  \\\n",
       "device_id                                                                       \n",
       " 2960733785680786248   42                0                 0                0   \n",
       " 2960733785680786248   42                0                 0                0   \n",
       "-941605740552358285    32                0                 0                0   \n",
       "-941605740552358285    32                0                 0                0   \n",
       " 7715946606178828084   24                0                 0                0   \n",
       "\n",
       "                      phone_brand_ZUK  phone_brand_vivo  phone_brand_一加  \\\n",
       "device_id                                                                 \n",
       " 2960733785680786248                0                 0               0   \n",
       " 2960733785680786248                0                 0               0   \n",
       "-941605740552358285                 0                 0               0   \n",
       "-941605740552358285                 0                 0               0   \n",
       " 7715946606178828084                0                 0               0   \n",
       "\n",
       "                      phone_brand_三星  phone_brand_中兴  phone_brand_中国移动  \\\n",
       "device_id                                                                \n",
       " 2960733785680786248               0               0                 0   \n",
       " 2960733785680786248               0               0                 0   \n",
       "-941605740552358285                0               0                 0   \n",
       "-941605740552358285                0               0                 0   \n",
       " 7715946606178828084               0               0                 0   \n",
       "\n",
       "                                  ...                category_futures  \\\n",
       "device_id                         ...                                   \n",
       " 2960733785680786248              ...                               0   \n",
       " 2960733785680786248              ...                               0   \n",
       "-941605740552358285               ...                               0   \n",
       "-941605740552358285               ...                               0   \n",
       " 7715946606178828084              ...                               0   \n",
       "\n",
       "                      category_mobile bank  category_pursue  category_service  \\\n",
       "device_id                                                                       \n",
       " 2960733785680786248                     0                0                 0   \n",
       " 2960733785680786248                     0                0                 0   \n",
       "-941605740552358285                      0                0                 0   \n",
       "-941605740552358285                      0                0                 0   \n",
       " 7715946606178828084                     0                0                 0   \n",
       "\n",
       "                      category_unknown  label_itunes_category_Business  \\\n",
       "device_id                                                                \n",
       " 2960733785680786248                 0                               0   \n",
       " 2960733785680786248                 0                               0   \n",
       "-941605740552358285                  0                               0   \n",
       "-941605740552358285                  0                               0   \n",
       " 7715946606178828084                 0                               0   \n",
       "\n",
       "                      label_itunes_category_Finance  \\\n",
       "device_id                                             \n",
       " 2960733785680786248                              0   \n",
       " 2960733785680786248                              0   \n",
       "-941605740552358285                               0   \n",
       "-941605740552358285                               0   \n",
       " 7715946606178828084                              0   \n",
       "\n",
       "                      label_itunes_category_Reference  \\\n",
       "device_id                                               \n",
       " 2960733785680786248                                0   \n",
       " 2960733785680786248                                0   \n",
       "-941605740552358285                                 0   \n",
       "-941605740552358285                                 0   \n",
       " 7715946606178828084                                0   \n",
       "\n",
       "                      label_itunes_category_Shopping  \\\n",
       "device_id                                              \n",
       " 2960733785680786248                               0   \n",
       " 2960733785680786248                               0   \n",
       "-941605740552358285                                0   \n",
       "-941605740552358285                                0   \n",
       " 7715946606178828084                               0   \n",
       "\n",
       "                      label_itunes_category_Unknown  \n",
       "device_id                                            \n",
       " 2960733785680786248                              1  \n",
       " 2960733785680786248                              1  \n",
       "-941605740552358285                               1  \n",
       "-941605740552358285                               1  \n",
       " 7715946606178828084                              1  \n",
       "\n",
       "[5 rows x 85 columns]"
      ]
     },
     "execution_count": 75,
     "metadata": {},
     "output_type": "execute_result"
    }
   ],
   "source": [
    "dummy.head()"
   ]
  },
  {
   "cell_type": "code",
   "execution_count": 76,
   "metadata": {},
   "outputs": [
    {
     "data": {
      "text/plain": [
       "(19869, 85)"
      ]
     },
     "execution_count": 76,
     "metadata": {},
     "output_type": "execute_result"
    }
   ],
   "source": [
    "dummy.shape"
   ]
  },
  {
   "cell_type": "code",
   "execution_count": 77,
   "metadata": {
    "collapsed": true
   },
   "outputs": [],
   "source": [
    "features = dummy.drop(['gender_F', 'gender_M'], axis=1).columns\n",
    "X = dummy[features]\n",
    "Y = dummy['gender_F']\n",
    "X2 = X\n",
    "Y2 = Y\n",
    "validation_size = 0.20\n",
    "seed = 7\n",
    "X_train, X_validation, Y_train, Y_validation = model_selection.train_test_split(X, Y, test_size=validation_size, random_state=seed)"
   ]
  },
  {
   "cell_type": "code",
   "execution_count": 78,
   "metadata": {},
   "outputs": [
    {
     "name": "stdout",
     "output_type": "stream",
     "text": [
      "Normal data distribution: Counter({1: 8603, 0: 7292})\n"
     ]
    }
   ],
   "source": [
    "print(\"Normal data distribution: {}\".format(Counter(Y_train)))"
   ]
  },
  {
   "cell_type": "code",
   "execution_count": 79,
   "metadata": {},
   "outputs": [
    {
     "name": "stdout",
     "output_type": "stream",
     "text": [
      "1    8603\n",
      "0    7292\n",
      "Name: gender_F, dtype: int64\n"
     ]
    },
    {
     "data": {
      "image/png": "[encoded data removed]",
      "text/plain": [
       "<matplotlib.figure.Figure at 0x7f64bfd0e160>"
      ]
     },
     "metadata": {},
     "output_type": "display_data"
    }
   ],
   "source": [
    "counts = Y_train.value_counts()\n",
    "print(counts);\n",
    "\n",
    "plt.pie(counts.values, labels=counts.keys())\n",
    "plt.axis('equal')\n",
    "plt.show()"
   ]
  },
  {
   "cell_type": "code",
   "execution_count": 80,
   "metadata": {
    "collapsed": true
   },
   "outputs": [],
   "source": [
    "#sm = SMOTE(random_state=12, ratio=1.0)\n",
    "#X_train, Y_train = sm.fit_sample(X_train, Y_train)"
   ]
  },
  {
   "cell_type": "code",
   "execution_count": 81,
   "metadata": {
    "collapsed": true
   },
   "outputs": [],
   "source": [
    "#print(\"SMOTE data distribution: {}\".format(Counter(Y_train)))"
   ]
  },
  {
   "cell_type": "code",
   "execution_count": 82,
   "metadata": {
    "collapsed": true
   },
   "outputs": [],
   "source": [
    "# We create several dataframes for each model\n",
    "\n",
    "X_train_LR = X_train\n",
    "X_validation_LR = X_validation\n",
    "Y_train_LR = Y_train\n",
    "Y_validation_LR = Y_validation\n",
    "\n",
    "X_train_RF = X_train\n",
    "X_validation_RF = X_validation\n",
    "Y_train_RF = Y_train\n",
    "Y_validation_RF = Y_validation\n",
    "\n",
    "X_train_DT = X_train\n",
    "X_validation_DT = X_validation\n",
    "Y_train_DT = Y_train\n",
    "Y_validation_DT = Y_validation\n",
    "\n",
    "X_train_KNN = X_train\n",
    "X_validation_KNN = X_validation\n",
    "Y_train_KNN = Y_train\n",
    "Y_validation_KNN = Y_validation\n",
    "\n",
    "X_train_RI = X_train\n",
    "X_validation_RI = X_validation\n",
    "Y_train_RI = Y_train\n",
    "Y_validation_RI = Y_validation"
   ]
  },
  {
   "cell_type": "markdown",
   "metadata": {},
   "source": [
    "<a id='section5'></a>\n",
    "### Training, testing and evaluation"
   ]
  },
  {
   "cell_type": "markdown",
   "metadata": {},
   "source": [
    "<a id='section6'></a>\n",
    "#### Training and testing with GridSearchCV"
   ]
  },
  {
   "cell_type": "markdown",
   "metadata": {},
   "source": [
    "#### Logistic Regression (Classification L2)"
   ]
  },
  {
   "cell_type": "code",
   "execution_count": 83,
   "metadata": {
    "collapsed": true
   },
   "outputs": [],
   "source": [
    "log_reg_model = linear_model.LogisticRegression(penalty = 'l2')"
   ]
  },
  {
   "cell_type": "code",
   "execution_count": 84,
   "metadata": {
    "collapsed": true
   },
   "outputs": [],
   "source": [
    "# Define the parameter values that should be searched \n",
    "C = {'C': [0.001, 0.01, 0.1, 1, 10, 100, 1000] }"
   ]
  },
  {
   "cell_type": "code",
   "execution_count": 85,
   "metadata": {},
   "outputs": [
    {
     "name": "stdout",
     "output_type": "stream",
     "text": [
      "{'C': [0.001, 0.01, 0.1, 1, 10, 100, 1000]}\n"
     ]
    }
   ],
   "source": [
    "# Create a parameter grid: map the parameter names to the values that should be searched\n",
    "param_grid = dict(C)\n",
    "print(param_grid)"
   ]
  },
  {
   "cell_type": "code",
   "execution_count": 86,
   "metadata": {},
   "outputs": [
    {
     "name": "stdout",
     "output_type": "stream",
     "text": [
      "Runtime 7.93\n"
     ]
    }
   ],
   "source": [
    "# instantiate and fit the grid\n",
    "start = time.time()\n",
    "grid = GridSearchCV(log_reg_model, param_grid, cv=10, scoring='accuracy')\n",
    "grid.fit(X_train_LR, Y_train_LR)\n",
    "print (\"Runtime %0.2f\" % (time.time() - start))"
   ]
  },
  {
   "cell_type": "code",
   "execution_count": 87,
   "metadata": {},
   "outputs": [
    {
     "name": "stderr",
     "output_type": "stream",
     "text": [
      "/home/mache/anaconda3/lib/python3.6/site-packages/sklearn/model_selection/_search.py:761: DeprecationWarning: The grid_scores_ attribute was deprecated in version 0.18 in favor of the more elaborate cv_results_ attribute. The grid_scores_ attribute will not be available from 0.20\n",
      "  DeprecationWarning)\n"
     ]
    },
    {
     "data": {
      "text/plain": [
       "[mean: 0.59887, std: 0.00898, params: {'C': 0.001},\n",
       " mean: 0.61994, std: 0.00884, params: {'C': 0.01},\n",
       " mean: 0.62259, std: 0.01064, params: {'C': 0.1},\n",
       " mean: 0.62303, std: 0.01022, params: {'C': 1},\n",
       " mean: 0.62271, std: 0.01078, params: {'C': 10},\n",
       " mean: 0.62271, std: 0.01076, params: {'C': 100},\n",
       " mean: 0.62259, std: 0.01084, params: {'C': 1000}]"
      ]
     },
     "execution_count": 87,
     "metadata": {},
     "output_type": "execute_result"
    }
   ],
   "source": [
    "# View the complete results\n",
    "grid.grid_scores_"
   ]
  },
  {
   "cell_type": "code",
   "execution_count": 88,
   "metadata": {},
   "outputs": [
    {
     "name": "stdout",
     "output_type": "stream",
     "text": [
      "0.623026108839\n",
      "{'C': 1}\n"
     ]
    }
   ],
   "source": [
    "# Examine the best model\n",
    "print(grid.best_score_)\n",
    "print(grid.best_params_)"
   ]
  },
  {
   "cell_type": "code",
   "execution_count": 89,
   "metadata": {},
   "outputs": [
    {
     "data": {
      "text/plain": [
       "LogisticRegression(C=0.001, class_weight=None, dual=False, fit_intercept=True,\n",
       "          intercept_scaling=1, max_iter=100, multi_class='ovr', n_jobs=1,\n",
       "          penalty='l2', random_state=None, solver='liblinear', tol=0.0001,\n",
       "          verbose=0, warm_start=False)"
      ]
     },
     "execution_count": 89,
     "metadata": {},
     "output_type": "execute_result"
    }
   ],
   "source": [
    "log_reg_model = linear_model.LogisticRegression(penalty = 'l2', C=0.001)\n",
    "log_reg_model.fit(X_train_LR, Y_train_LR)"
   ]
  },
  {
   "cell_type": "code",
   "execution_count": 90,
   "metadata": {
    "collapsed": true
   },
   "outputs": [],
   "source": [
    "# Prediction\n",
    "log_reg_pred = log_reg_model.predict(X_train_LR)"
   ]
  },
  {
   "cell_type": "code",
   "execution_count": 91,
   "metadata": {},
   "outputs": [
    {
     "name": "stdout",
     "output_type": "stream",
     "text": [
      "             precision    recall  f1-score   support\n",
      "\n",
      "   gender_F       0.62      0.34      0.44      7292\n",
      "   gender_M       0.60      0.83      0.69      8603\n",
      "\n",
      "avg / total       0.61      0.60      0.58     15895\n",
      "\n"
     ]
    }
   ],
   "source": [
    "# Printing classification report\n",
    "print(classification_report(Y_train_LR, log_reg_pred, target_names=['gender_F', 'gender_M']))"
   ]
  },
  {
   "cell_type": "code",
   "execution_count": 92,
   "metadata": {
    "collapsed": true
   },
   "outputs": [],
   "source": [
    "# Building confusion matrix\n",
    "conf_matrix_train_logR = confusion_matrix(Y_train_LR, log_reg_pred)"
   ]
  },
  {
   "cell_type": "code",
   "execution_count": 93,
   "metadata": {},
   "outputs": [
    {
     "data": {
      "image/png": "[encoded data removed]",
      "text/plain": [
       "<matplotlib.figure.Figure at 0x7f64bfb64f60>"
      ]
     },
     "metadata": {},
     "output_type": "display_data"
    }
   ],
   "source": [
    "# Creating heatmap of confusion matrix\n",
    "plt.figure(figsize = (12,8))\n",
    "sns.set(rc={'axes.grid': False, 'axes.linewidth': 1 }, font_scale=1)\n",
    "sns.heatmap(conf_matrix_train_logR,\n",
    "           cmap='coolwarm_r',\n",
    "           annot=True,\n",
    "           linewidths=0.5)\n",
    "plt.title('Logistic Regression Confusion Matrix for Training Set')\n",
    "plt.xlabel('Predicted Class')\n",
    "plt.ylabel('Real Class')\n",
    "plt.show()"
   ]
  },
  {
   "cell_type": "code",
   "execution_count": 94,
   "metadata": {},
   "outputs": [
    {
     "name": "stdout",
     "output_type": "stream",
     "text": [
      "Cross Validation Accuracy Scores: 0.599(+/- 0.02)\n"
     ]
    }
   ],
   "source": [
    "scores_logR = cross_val_score(log_reg_model, X_train_LR, Y_train_LR, cv=10)\n",
    "print('Cross Validation Accuracy Scores: {:.3f}(+/- {:.2f})'.format(scores_logR.mean(), scores_logR.std()*2))"
   ]
  },
  {
   "cell_type": "code",
   "execution_count": 95,
   "metadata": {},
   "outputs": [
    {
     "name": "stdout",
     "output_type": "stream",
     "text": [
      "0.625566180171\n"
     ]
    }
   ],
   "source": [
    "model_predictions = log_reg_model.predict(X_validation_LR)\n",
    "score = log_reg_model.score(X_validation_LR, Y_validation_LR)\n",
    "print(score)"
   ]
  },
  {
   "cell_type": "code",
   "execution_count": 96,
   "metadata": {},
   "outputs": [
    {
     "name": "stdout",
     "output_type": "stream",
     "text": [
      "[[ 670 1155]\n",
      " [ 333 1816]]\n"
     ]
    }
   ],
   "source": [
    "cm = metrics.confusion_matrix(Y_validation_LR, model_predictions)\n",
    "print(cm)"
   ]
  },
  {
   "cell_type": "code",
   "execution_count": 97,
   "metadata": {},
   "outputs": [
    {
     "name": "stdout",
     "output_type": "stream",
     "text": [
      "             precision    recall  f1-score   support\n",
      "\n",
      "          0       0.67      0.37      0.47      1825\n",
      "          1       0.61      0.85      0.71      2149\n",
      "\n",
      "avg / total       0.64      0.63      0.60      3974\n",
      "\n"
     ]
    },
    {
     "data": {
      "image/png": "[encoded data removed]",
      "text/plain": [
       "<matplotlib.figure.Figure at 0x7f64bfb727f0>"
      ]
     },
     "metadata": {},
     "output_type": "display_data"
    }
   ],
   "source": [
    "plt.figure(figsize=(9,9))\n",
    "sns.heatmap(cm, annot=True, fmt=\".3f\", linewidths=.5, square = True, cmap = 'Blues_r');\n",
    "plt.ylabel('Actual label');\n",
    "plt.xlabel('Predicted label');\n",
    "all_sample_title = 'Accuracy Score: {0}'.format(score)\n",
    "plt.title(all_sample_title, size = 15);\n",
    "\n",
    "print(classification_report(Y_validation_LR, model_predictions))"
   ]
  },
  {
   "cell_type": "markdown",
   "metadata": {},
   "source": [
    "#### Random Forest"
   ]
  },
  {
   "cell_type": "code",
   "execution_count": 98,
   "metadata": {
    "collapsed": true
   },
   "outputs": [],
   "source": [
    "rfc = ensemble.RandomForestClassifier()"
   ]
  },
  {
   "cell_type": "code",
   "execution_count": 99,
   "metadata": {
    "collapsed": true
   },
   "outputs": [],
   "source": [
    "# Define the parameter values that should be searched# Define \n",
    "# Number of trees in random forest\n",
    "n_estimators = [int(x) for x in np.linspace(start = 1, stop = 4, num = 1)]\n",
    "# Number of features to consider at every split\n",
    "max_features = ['auto', 'sqrt']\n",
    "# Maximum number of levels in tree\n",
    "max_depth = [int(x) for x in np.linspace(1, 10, num = 11)]\n",
    "max_depth.append(None)\n",
    "# Minimum number of samples required to split a node\n",
    "min_samples_split = [2, 5, 10]\n",
    "# Minimum number of samples required at each leaf node\n",
    "min_samples_leaf = [1, 2, 4]\n",
    "# Method of selecting samples for training each tree\n",
    "bootstrap = [True, False]"
   ]
  },
  {
   "cell_type": "code",
   "execution_count": 100,
   "metadata": {},
   "outputs": [
    {
     "name": "stdout",
     "output_type": "stream",
     "text": [
      "{'n_estimators': [1], 'max_features': ['auto', 'sqrt'], 'max_depth': [1, 1, 2, 3, 4, 5, 6, 7, 8, 9, 10, None], 'min_samples_split': [2, 5, 10], 'min_samples_leaf': [1, 2, 4], 'bootstrap': [True, False]}\n"
     ]
    }
   ],
   "source": [
    "# Create a parameter grid: map the parameter names to the values that should be searched\n",
    "param_grid = {'n_estimators': n_estimators,\n",
    "               'max_features': max_features,\n",
    "               'max_depth': max_depth,\n",
    "               'min_samples_split': min_samples_split,\n",
    "               'min_samples_leaf': min_samples_leaf,\n",
    "               'bootstrap': bootstrap}\n",
    "print(param_grid)"
   ]
  },
  {
   "cell_type": "code",
   "execution_count": 101,
   "metadata": {},
   "outputs": [
    {
     "name": "stdout",
     "output_type": "stream",
     "text": [
      "Runtime 120.33\n"
     ]
    }
   ],
   "source": [
    "# Instantiate and fit the grid\n",
    "start = time.time()\n",
    "grid = GridSearchCV(rfc, param_grid, cv=10, scoring='accuracy')\n",
    "grid.fit(X_train_RF, Y_train_RF)\n",
    "print (\"Runtime %0.2f\" % (time.time() - start))"
   ]
  },
  {
   "cell_type": "code",
   "execution_count": 103,
   "metadata": {},
   "outputs": [
    {
     "name": "stdout",
     "output_type": "stream",
     "text": [
      "0.79811261403\n",
      "{'bootstrap': False, 'max_depth': None, 'max_features': 'sqrt', 'min_samples_leaf': 1, 'min_samples_split': 2, 'n_estimators': 1}\n"
     ]
    }
   ],
   "source": [
    "# Examine the best model\n",
    "print(grid.best_score_)\n",
    "print(grid.best_params_)"
   ]
  },
  {
   "cell_type": "code",
   "execution_count": 104,
   "metadata": {},
   "outputs": [
    {
     "data": {
      "text/plain": [
       "RandomForestClassifier(bootstrap=False, class_weight=None, criterion='gini',\n",
       "            max_depth=None, max_features='sqrt', max_leaf_nodes=None,\n",
       "            min_impurity_decrease=0.0, min_impurity_split=None,\n",
       "            min_samples_leaf=1, min_samples_split=10,\n",
       "            min_weight_fraction_leaf=0.0, n_estimators=1, n_jobs=1,\n",
       "            oob_score=False, random_state=None, verbose=0,\n",
       "            warm_start=False)"
      ]
     },
     "execution_count": 104,
     "metadata": {},
     "output_type": "execute_result"
    }
   ],
   "source": [
    "rfc = ensemble.RandomForestClassifier(bootstrap=False, max_depth=None, max_features='sqrt', min_samples_leaf=1, min_samples_split=10, n_estimators=1)\n",
    "rfc.fit(X_train_RF, Y_train_RF)"
   ]
  },
  {
   "cell_type": "code",
   "execution_count": 105,
   "metadata": {
    "collapsed": true
   },
   "outputs": [],
   "source": [
    "# Prediction\n",
    "RF_pred = rfc.predict(X_train_LR)"
   ]
  },
  {
   "cell_type": "code",
   "execution_count": 106,
   "metadata": {},
   "outputs": [
    {
     "name": "stdout",
     "output_type": "stream",
     "text": [
      "             precision    recall  f1-score   support\n",
      "\n",
      "   gender_F       0.83      0.81      0.82      7292\n",
      "   gender_M       0.84      0.86      0.85      8603\n",
      "\n",
      "avg / total       0.84      0.84      0.84     15895\n",
      "\n"
     ]
    }
   ],
   "source": [
    "# Printing classification report\n",
    "print(classification_report(Y_train_RF, RF_pred, target_names=['gender_F', 'gender_M']))"
   ]
  },
  {
   "cell_type": "code",
   "execution_count": 107,
   "metadata": {
    "collapsed": true
   },
   "outputs": [],
   "source": [
    "# Building confusion matrix\n",
    "conf_matrix_train_RF = confusion_matrix(Y_train_RF, RF_pred)"
   ]
  },
  {
   "cell_type": "code",
   "execution_count": 108,
   "metadata": {},
   "outputs": [
    {
     "data": {
      "image/png": "[encoded data removed]",
      "text/plain": [
       "<matplotlib.figure.Figure at 0x7f64bf9c2438>"
      ]
     },
     "metadata": {},
     "output_type": "display_data"
    }
   ],
   "source": [
    "# Creating heatmap of confusion matrix\n",
    "plt.figure(figsize = (12,8))\n",
    "sns.set(rc={'axes.grid': False, 'axes.linewidth': 1 }, font_scale=1)\n",
    "sns.heatmap(conf_matrix_train_RF,\n",
    "           cmap='coolwarm_r',\n",
    "           annot=True,\n",
    "           linewidths=0.5)\n",
    "plt.title('Random Forest Confusion Matrix for Training Set')\n",
    "plt.xlabel('Predicted Class')\n",
    "plt.ylabel('Real Class')\n",
    "plt.show()"
   ]
  },
  {
   "cell_type": "code",
   "execution_count": 109,
   "metadata": {},
   "outputs": [
    {
     "name": "stdout",
     "output_type": "stream",
     "text": [
      "Cross Validation Accuracy Scores: 0.784(+/- 0.02)\n"
     ]
    }
   ],
   "source": [
    "scores_rfc = cross_val_score(rfc, X_train_RF, Y_train_RF, cv=10)\n",
    "print('Cross Validation Accuracy Scores: {:.3f}(+/- {:.2f})'.format(scores_rfc.mean(), scores_rfc.std()*2))"
   ]
  },
  {
   "cell_type": "code",
   "execution_count": 110,
   "metadata": {},
   "outputs": [
    {
     "name": "stdout",
     "output_type": "stream",
     "text": [
      "0.788626069451\n"
     ]
    }
   ],
   "source": [
    "model_predictions = rfc.predict(X_validation_RF)\n",
    "score = rfc.score(X_validation_RF, Y_validation_RF)\n",
    "print(score)"
   ]
  },
  {
   "cell_type": "code",
   "execution_count": 111,
   "metadata": {},
   "outputs": [
    {
     "name": "stdout",
     "output_type": "stream",
     "text": [
      "[[1398  427]\n",
      " [ 413 1736]]\n"
     ]
    }
   ],
   "source": [
    "cm = metrics.confusion_matrix(Y_validation_RF, model_predictions)\n",
    "print(cm)"
   ]
  },
  {
   "cell_type": "code",
   "execution_count": 112,
   "metadata": {},
   "outputs": [
    {
     "name": "stdout",
     "output_type": "stream",
     "text": [
      "             precision    recall  f1-score   support\n",
      "\n",
      "          0       0.77      0.77      0.77      1825\n",
      "          1       0.80      0.81      0.81      2149\n",
      "\n",
      "avg / total       0.79      0.79      0.79      3974\n",
      "\n"
     ]
    },
    {
     "data": {
      "image/png": "[encoded data removed]",
      "text/plain": [
       "<matplotlib.figure.Figure at 0x7f64bfe53c50>"
      ]
     },
     "metadata": {},
     "output_type": "display_data"
    }
   ],
   "source": [
    "plt.figure(figsize=(9,9))\n",
    "sns.heatmap(cm, annot=True, fmt=\".3f\", linewidths=.5, square = True, cmap = 'Blues_r');\n",
    "plt.ylabel('Actual label');\n",
    "plt.xlabel('Predicted label');\n",
    "all_sample_title = 'Accuracy Score: {0}'.format(score)\n",
    "plt.title(all_sample_title, size = 15);\n",
    "\n",
    "print(classification_report(Y_validation_RF, model_predictions))"
   ]
  },
  {
   "cell_type": "markdown",
   "metadata": {},
   "source": [
    "#### Decision Tree"
   ]
  },
  {
   "cell_type": "code",
   "execution_count": 113,
   "metadata": {},
   "outputs": [
    {
     "name": "stdout",
     "output_type": "stream",
     "text": [
      "{'min_samples_split': range(10, 500, 20), 'max_depth': range(1, 20, 2), 'criterion': ['gini', 'entropy']}\n",
      "Runtime 350.70\n",
      "0.81981755269\n",
      "{'criterion': 'gini', 'max_depth': 19, 'min_samples_split': 10}\n",
      "             precision    recall  f1-score   support\n",
      "\n",
      "   gender_F       0.87      0.59      0.70      7292\n",
      "   gender_M       0.73      0.93      0.81      8603\n",
      "\n",
      "avg / total       0.79      0.77      0.76     15895\n",
      "\n"
     ]
    },
    {
     "name": "stderr",
     "output_type": "stream",
     "text": [
      "/home/mache/anaconda3/lib/python3.6/site-packages/sklearn/model_selection/_search.py:761: DeprecationWarning: The grid_scores_ attribute was deprecated in version 0.18 in favor of the more elaborate cv_results_ attribute. The grid_scores_ attribute will not be available from 0.20\n",
      "  DeprecationWarning)\n"
     ]
    },
    {
     "data": {
      "image/png": "[encoded data removed]",
      "text/plain": [
       "<matplotlib.figure.Figure at 0x7f64bfae3c88>"
      ]
     },
     "metadata": {},
     "output_type": "display_data"
    },
    {
     "name": "stdout",
     "output_type": "stream",
     "text": [
      "Cross Validation Accuracy Scores: 0.762(+/- 0.02)\n",
      "0.76648213387\n",
      "[[1066  759]\n",
      " [ 169 1980]]\n",
      "             precision    recall  f1-score   support\n",
      "\n",
      "          0       0.86      0.58      0.70      1825\n",
      "          1       0.72      0.92      0.81      2149\n",
      "\n",
      "avg / total       0.79      0.77      0.76      3974\n",
      "\n"
     ]
    },
    {
     "data": {
      "image/png": "[encoded data removed]",
      "text/plain": [
       "<matplotlib.figure.Figure at 0x7f64c00802e8>"
      ]
     },
     "metadata": {},
     "output_type": "display_data"
    }
   ],
   "source": [
    "clf = DecisionTreeClassifier()\n",
    "\n",
    "# Define the parameter values that should be searched\n",
    "# Create a parameter grid: map the parameter names to the values that should be searched\n",
    "param_grid = {'min_samples_split' : range(10,500,20),'max_depth': range(1,20,2),'criterion' : ['gini', 'entropy']}\n",
    "print(param_grid)\n",
    "\n",
    "# instantiate and fit the grid\n",
    "start = time.time()\n",
    "grid = GridSearchCV(clf, param_grid, cv=10, scoring='accuracy')\n",
    "grid.fit(X_train_DT, Y_train_DT)\n",
    "print (\"Runtime %0.2f\" % (time.time() - start))\n",
    "\n",
    "# View the complete results\n",
    "grid.grid_scores_\n",
    "\n",
    "# Examine the best model\n",
    "print(grid.best_score_)\n",
    "print(grid.best_params_)\n",
    "\n",
    "clf = DecisionTreeClassifier(criterion='gini', max_depth=13, min_samples_split=10)\n",
    "clf.fit(X_train_DT, Y_train_DT)\n",
    "\n",
    "# Prediction\n",
    "\n",
    "CLF_pred = clf.predict(X_train_LR)\n",
    "\n",
    "# Printing classification report\n",
    "print(classification_report(Y_train_DT, CLF_pred, target_names=['gender_F', 'gender_M']))\n",
    "\n",
    "# Building confusion matrix\n",
    "conf_matrix_train_clf = confusion_matrix(Y_train_DT, CLF_pred)\n",
    "\n",
    "# Creating heatmap of confusion matrix\n",
    "plt.figure(figsize = (12,8))\n",
    "#sns.set(rc={'axes.facecolor':'#757575ff', 'figure.facecolor':'#757575ff', 'axes.grid': False, 'axes.linewidth': 1 }, font_scale=1.5)\n",
    "sns.set(rc={'axes.grid': False, 'axes.linewidth': 1 }, font_scale=1)\n",
    "sns.heatmap(conf_matrix_train_clf, \n",
    "            cmap='coolwarm_r', \n",
    "            annot=True, \n",
    "            linewidths=0.5)\n",
    "plt.title('Decision Tree Confusion Matrix for Training Set')\n",
    "plt.xlabel('Predicted Class')\n",
    "plt.ylabel('Real Class')\n",
    "plt.show()\n",
    "\n",
    "scores_clf = cross_val_score(clf, X_train_DT, Y_train_DT, cv=10)\n",
    "print('Cross Validation Accuracy Scores: {:.3f}(+/- {:.2f})'.format(scores_clf.mean(), scores_clf.std()*2))\n",
    "\n",
    "model_predictions = clf.predict(X_validation_DT)\n",
    "score = clf.score(X_validation_DT, Y_validation_DT)\n",
    "print(score)\n",
    "\n",
    "cm = metrics.confusion_matrix(Y_validation_DT, model_predictions)\n",
    "print(cm)\n",
    "\n",
    "plt.figure(figsize=(9,9))\n",
    "sns.heatmap(cm, annot=True, fmt=\".3f\", linewidths=.5, square = True, cmap = 'Blues_r');\n",
    "plt.ylabel('Actual label');\n",
    "plt.xlabel('Predicted label');\n",
    "all_sample_title = 'Accuracy Score: {0}'.format(score)\n",
    "plt.title(all_sample_title, size = 15);\n",
    "\n",
    "print(classification_report(Y_validation_DT, model_predictions))"
   ]
  },
  {
   "cell_type": "code",
   "execution_count": 114,
   "metadata": {},
   "outputs": [
    {
     "name": "stderr",
     "output_type": "stream",
     "text": [
      "IOPub data rate exceeded.\n",
      "The notebook server will temporarily stop sending output\n",
      "to the client in order to avoid crashing it.\n",
      "To change this limit, set the config variable\n",
      "`--NotebookApp.iopub_data_rate_limit`.\n"
     ]
    }
   ],
   "source": [
    "from sklearn.externals.six import StringIO  \n",
    "from IPython.display import Image  \n",
    "from sklearn.tree import export_graphviz\n",
    "import pydotplus\n",
    "dot_data = StringIO()\n",
    "export_graphviz(clf, out_file=dot_data,  \n",
    "                filled=True, rounded=True,\n",
    "                special_characters=True)\n",
    "graph = pydotplus.graph_from_dot_data(dot_data.getvalue())\n",
    "Image(graph.create_png())"
   ]
  },
  {
   "cell_type": "markdown",
   "metadata": {},
   "source": [
    "#### KNN"
   ]
  },
  {
   "cell_type": "code",
   "execution_count": 116,
   "metadata": {},
   "outputs": [
    {
     "name": "stdout",
     "output_type": "stream",
     "text": [
      "{'n_neighbors': [1, 2, 3, 4, 5, 6, 7, 8, 9]}\n",
      "Fitting 4 folds for each of 9 candidates, totalling 36 fits\n"
     ]
    },
    {
     "name": "stderr",
     "output_type": "stream",
     "text": [
      "[Parallel(n_jobs=1)]: Done  36 out of  36 | elapsed:  2.2min finished\n",
      "/home/mache/anaconda3/lib/python3.6/site-packages/sklearn/model_selection/_search.py:761: DeprecationWarning: The grid_scores_ attribute was deprecated in version 0.18 in favor of the more elaborate cv_results_ attribute. The grid_scores_ attribute will not be available from 0.20\n",
      "  DeprecationWarning)\n"
     ]
    },
    {
     "name": "stdout",
     "output_type": "stream",
     "text": [
      "Runtime 129.80\n",
      "0.776659326832\n",
      "{'n_neighbors': 7}\n",
      "             precision    recall  f1-score   support\n",
      "\n",
      "   gender_F       0.82      0.75      0.78      7292\n",
      "   gender_M       0.80      0.86      0.83      8603\n",
      "\n",
      "avg / total       0.81      0.81      0.81     15895\n",
      "\n"
     ]
    },
    {
     "data": {
      "image/png": "[encoded data removed]",
      "text/plain": [
       "<matplotlib.figure.Figure at 0x7f64a65f75c0>"
      ]
     },
     "metadata": {},
     "output_type": "display_data"
    },
    {
     "name": "stdout",
     "output_type": "stream",
     "text": [
      "Cross Validation Accuracy Scores: 0.778(+/- 0.01)\n",
      "0.76648213387\n",
      "[[1314  511]\n",
      " [ 364 1785]]\n",
      "             precision    recall  f1-score   support\n",
      "\n",
      "          0       0.78      0.72      0.75      1825\n",
      "          1       0.78      0.83      0.80      2149\n",
      "\n",
      "avg / total       0.78      0.78      0.78      3974\n",
      "\n"
     ]
    },
    {
     "data": {
      "image/png": "[encoded data removed]",
      "text/plain": [
       "<matplotlib.figure.Figure at 0x7f64a656a080>"
      ]
     },
     "metadata": {},
     "output_type": "display_data"
    }
   ],
   "source": [
    "knn_model = KNeighborsClassifier()\n",
    "\n",
    "# Define the parameter values that should be searched\n",
    "# Create a parameter grid: map the parameter names to the values that should be searched\n",
    "k_range = list(range(1, 10))\n",
    "param_grid = dict(n_neighbors=k_range)\n",
    "print(param_grid)\n",
    "\n",
    "# instantiate and fit the grid\n",
    "start = time.time()\n",
    "grid = GridSearchCV(knn_model, param_grid, verbose=1, cv=4, scoring='accuracy')\n",
    "grid.fit(X_train_KNN, Y_train_KNN)\n",
    "print (\"Runtime %0.2f\" % (time.time() - start))\n",
    "\n",
    "# View the complete results\n",
    "grid.grid_scores_\n",
    "\n",
    "# Examine the best model\n",
    "print(grid.best_score_)\n",
    "print(grid.best_params_)\n",
    "\n",
    "knn_model = KNeighborsClassifier(n_neighbors=9)\n",
    "knn_model.fit(X_train_KNN, Y_train_KNN)\n",
    "\n",
    "# Prediction\n",
    "\n",
    "KNN_pred = knn_model.predict(X_train_KNN)\n",
    "\n",
    "# Printing classification report\n",
    "print(classification_report(Y_train_KNN, KNN_pred, target_names=['gender_F', 'gender_M']))\n",
    "\n",
    "# Building confusion matrix\n",
    "conf_matrix_knn = confusion_matrix(Y_train_KNN, KNN_pred)\n",
    "\n",
    "# Creating heatmap of confusion matrix\n",
    "plt.figure(figsize = (12,8))\n",
    "sns.set(rc={'axes.grid': False, 'axes.linewidth': 1 }, font_scale=1)\n",
    "sns.heatmap(conf_matrix_knn, \n",
    "            cmap='coolwarm_r', \n",
    "            annot=True, \n",
    "            linewidths=0.5)\n",
    "plt.title('KNN Confusion Matrix for Training Set')\n",
    "plt.xlabel('Predicted Class')\n",
    "plt.ylabel('Real Class')\n",
    "plt.show()\n",
    "\n",
    "scores_knn = cross_val_score(knn_model, X_train_KNN, Y_train_KNN, cv=10)\n",
    "print('Cross Validation Accuracy Scores: {:.3f}(+/- {:.2f})'.format(scores_knn.mean(), scores_knn.std()*2))\n",
    "\n",
    "model_predictions = knn_model.predict(X_validation_KNN)\n",
    "score = clf.score(X_validation_KNN, Y_validation_KNN)\n",
    "print(score)\n",
    "\n",
    "cm = metrics.confusion_matrix(Y_validation_KNN, model_predictions)\n",
    "print(cm)\n",
    "\n",
    "plt.figure(figsize=(9,9))\n",
    "sns.heatmap(cm, annot=True, fmt=\".3f\", linewidths=.5, square = True, cmap = 'Blues_r');\n",
    "plt.ylabel('Actual label');\n",
    "plt.xlabel('Predicted label');\n",
    "all_sample_title = 'Accuracy Score: {0}'.format(score)\n",
    "plt.title(all_sample_title, size = 15);\n",
    "\n",
    "print(classification_report(Y_validation_KNN, model_predictions))"
   ]
  },
  {
   "cell_type": "markdown",
   "metadata": {},
   "source": [
    "#### Ridge"
   ]
  },
  {
   "cell_type": "code",
   "execution_count": 118,
   "metadata": {},
   "outputs": [
    {
     "name": "stdout",
     "output_type": "stream",
     "text": [
      "{'alpha': [25, 10, 4, 2, 1.0, 0.8, 0.5, 0.3, 0.2, 0.1, 0.05, 0.02, 0.01]}\n",
      "Fitting 4 folds for each of 13 candidates, totalling 52 fits\n"
     ]
    },
    {
     "name": "stderr",
     "output_type": "stream",
     "text": [
      "[Parallel(n_jobs=1)]: Done  52 out of  52 | elapsed:    1.8s finished\n",
      "/home/mache/anaconda3/lib/python3.6/site-packages/sklearn/model_selection/_search.py:761: DeprecationWarning: The grid_scores_ attribute was deprecated in version 0.18 in favor of the more elaborate cv_results_ attribute. The grid_scores_ attribute will not be available from 0.20\n",
      "  DeprecationWarning)\n"
     ]
    },
    {
     "name": "stdout",
     "output_type": "stream",
     "text": [
      "Runtime 1.82\n",
      "0.623843976093\n",
      "{'alpha': 10}\n",
      "             precision    recall  f1-score   support\n",
      "\n",
      "   gender_F       0.64      0.43      0.51      7292\n",
      "   gender_M       0.62      0.79      0.70      8603\n",
      "\n",
      "avg / total       0.63      0.63      0.61     15895\n",
      "\n"
     ]
    },
    {
     "data": {
      "image/png": "[encoded data removed]",
      "text/plain": [
       "<matplotlib.figure.Figure at 0x7f64a64f6748>"
      ]
     },
     "metadata": {},
     "output_type": "display_data"
    },
    {
     "name": "stdout",
     "output_type": "stream",
     "text": [
      "Cross Validation Accuracy Scores: 0.623(+/- 0.02)\n",
      "0.632863613488\n",
      "[[ 820 1005]\n",
      " [ 454 1695]]\n",
      "             precision    recall  f1-score   support\n",
      "\n",
      "          0       0.64      0.45      0.53      1825\n",
      "          1       0.63      0.79      0.70      2149\n",
      "\n",
      "avg / total       0.64      0.63      0.62      3974\n",
      "\n"
     ]
    },
    {
     "data": {
      "image/png": "[encoded data removed]",
      "text/plain": [
       "<matplotlib.figure.Figure at 0x7f64a64a9240>"
      ]
     },
     "metadata": {},
     "output_type": "display_data"
    }
   ],
   "source": [
    "rclass = RidgeClassifier()\n",
    "\n",
    "# Define the parameter values that should be searched# Define \n",
    "param_grid = {'alpha': [25,10,4,2,1.0,0.8,0.5,0.3,0.2,0.1,0.05,0.02,0.01]}\n",
    "print(param_grid)\n",
    "\n",
    "# instantiate and fit the grid\n",
    "start = time.time()\n",
    "grid = GridSearchCV(rclass, param_grid, verbose=1, cv=4, scoring='accuracy')\n",
    "grid.fit(X_train_RI, Y_train_RI)\n",
    "print (\"Runtime %0.2f\" % (time.time() - start))\n",
    "\n",
    "# View the complete results\n",
    "grid.grid_scores_\n",
    "\n",
    "# Examine the best model\n",
    "print(grid.best_score_)\n",
    "print(grid.best_params_)\n",
    "\n",
    "rclass = RidgeClassifier(alpha=0.8)\n",
    "rclass.fit(X_train_RI, Y_train_RI)\n",
    "\n",
    "# Prediction\n",
    "\n",
    "rclass_pred = rclass.predict(X_train_KNN)\n",
    "\n",
    "# Print classification report\n",
    "print(classification_report(Y_train_RI, rclass_pred, target_names=['gender_F', 'gender_M']))\n",
    "\n",
    "# Building confusion matrix\n",
    "conf_matrix_rclass = confusion_matrix(Y_train_RI, rclass_pred)\n",
    "\n",
    "# Creating heatmap of confusion matrix\n",
    "plt.figure(figsize = (12,8))\n",
    "sns.set(rc={'axes.grid': False, 'axes.linewidth': 1 }, font_scale=1)\n",
    "sns.heatmap(conf_matrix_rclass, \n",
    "            cmap='coolwarm_r', \n",
    "            annot=True, \n",
    "            linewidths=0.5)\n",
    "plt.title('Ridge Classification Confusion Matrix for Training Set')\n",
    "plt.xlabel('Predicted Class')\n",
    "plt.ylabel('Real Class')\n",
    "plt.show()\n",
    "\n",
    "scores_rclass = cross_val_score(rclass, X_train_RI, Y_train_RI, cv=10)\n",
    "print('Cross Validation Accuracy Scores: {:.3f}(+/- {:.2f})'.format(scores_rclass.mean(), scores_rclass.std()*2))\n",
    "\n",
    "model_predictions = rclass.predict(X_validation_RI)\n",
    "score = rclass.score(X_validation_RI, Y_validation_RI)\n",
    "print(score)\n",
    "\n",
    "cm = metrics.confusion_matrix(Y_validation_RI, model_predictions)\n",
    "print(cm)\n",
    "\n",
    "plt.figure(figsize=(9,9))\n",
    "sns.heatmap(cm, annot=True, fmt=\".3f\", linewidths=.5, square = True, cmap = 'Blues_r');\n",
    "plt.ylabel('Actual label');\n",
    "plt.xlabel('Predicted label');\n",
    "all_sample_title = 'Accuracy Score: {0}'.format(score)\n",
    "plt.title(all_sample_title, size = 15);\n",
    "\n",
    "print(classification_report(Y_validation_RI, model_predictions))"
   ]
  },
  {
   "cell_type": "markdown",
   "metadata": {},
   "source": [
    "<a id='section7'></a>\n",
    "### Training and testing applying PCA"
   ]
  },
  {
   "cell_type": "code",
   "execution_count": 119,
   "metadata": {
    "collapsed": true
   },
   "outputs": [],
   "source": [
    "# Standardize the feature matrix\n",
    "X = StandardScaler().fit_transform(X_train)"
   ]
  },
  {
   "cell_type": "code",
   "execution_count": 120,
   "metadata": {
    "collapsed": true
   },
   "outputs": [],
   "source": [
    "# Create a PCA that will retain 90% of the variance\n",
    "pca = PCA(n_components=0.75, whiten=True)\n",
    "\n",
    "# Conduct PCA\n",
    "X_pca = pca.fit_transform(X)"
   ]
  },
  {
   "cell_type": "code",
   "execution_count": 121,
   "metadata": {},
   "outputs": [
    {
     "name": "stdout",
     "output_type": "stream",
     "text": [
      "Original number of features: 83\n",
      "Reduced number of features: 53\n"
     ]
    }
   ],
   "source": [
    "# Show results\n",
    "print('Original number of features:', X.shape[1])\n",
    "print('Reduced number of features:', X_pca.shape[1])"
   ]
  },
  {
   "cell_type": "code",
   "execution_count": 122,
   "metadata": {
    "collapsed": true
   },
   "outputs": [],
   "source": [
    "def myplot(score,coeff,labels=None):\n",
    "    xs = score[:,0]\n",
    "    ys = score[:,1]\n",
    "    n = coeff.shape[0]\n",
    "    scalex = 1.0/(xs.max() - xs.min())\n",
    "    scaley = 1.0/(ys.max() - ys.min())\n",
    "    plt.scatter(xs * scalex,ys * scaley, c = Y_train)\n",
    "    for i in range(n):\n",
    "        plt.arrow(0, 0, coeff[i,0], coeff[i,1],color = 'r',alpha = 0.5)\n",
    "        if labels is None:\n",
    "            plt.text(coeff[i,0]* 1.15, coeff[i,1] * 1.15, \"Var\"+str(i+1), color = 'g', ha = 'center', va = 'center')\n",
    "        else:\n",
    "            plt.text(coeff[i,0]* 1.15, coeff[i,1] * 1.15, labels[i], color = 'g', ha = 'center', va = 'center')"
   ]
  },
  {
   "cell_type": "code",
   "execution_count": 123,
   "metadata": {},
   "outputs": [
    {
     "data": {
      "image/png": "[encoded data removed]",
      "text/plain": [
       "<matplotlib.figure.Figure at 0x7f64a64631d0>"
      ]
     },
     "metadata": {},
     "output_type": "display_data"
    }
   ],
   "source": [
    "#Call the function. Use only the 2 PCs.\n",
    "myplot(X_pca[:,0:2],np.transpose(pca.components_[0:2, :]))\n",
    "plt.show()"
   ]
  },
  {
   "cell_type": "markdown",
   "metadata": {},
   "source": [
    "#### Logistic Regression (L2)"
   ]
  },
  {
   "cell_type": "code",
   "execution_count": 124,
   "metadata": {
    "collapsed": true
   },
   "outputs": [],
   "source": [
    "pipe = Pipeline([('pca', pca), ('logistic', log_reg_model)])\n",
    "pipe.fit(X_train, Y_train)\n",
    "pred = pipe.predict(X_train)"
   ]
  },
  {
   "cell_type": "code",
   "execution_count": 125,
   "metadata": {},
   "outputs": [
    {
     "name": "stdout",
     "output_type": "stream",
     "text": [
      "             precision    recall  f1-score   support\n",
      "\n",
      "   gender_F       0.58      0.10      0.18      7292\n",
      "   gender_M       0.55      0.94      0.69      8603\n",
      "\n",
      "avg / total       0.56      0.55      0.46     15895\n",
      "\n",
      "Cross Validation Accuracy Scores: 0.544(+/- 0.01)\n",
      "0.548817312531\n",
      "[[ 165 1660]\n",
      " [ 133 2016]]\n",
      "             precision    recall  f1-score   support\n",
      "\n",
      "          0       0.55      0.09      0.16      1825\n",
      "          1       0.55      0.94      0.69      2149\n",
      "\n",
      "avg / total       0.55      0.55      0.45      3974\n",
      "\n"
     ]
    },
    {
     "data": {
      "image/png": "[encoded data removed]",
      "text/plain": [
       "<matplotlib.figure.Figure at 0x7f64a646fa20>"
      ]
     },
     "metadata": {},
     "output_type": "display_data"
    }
   ],
   "source": [
    "# Printing classification report\n",
    "print(classification_report(Y_train, pred, target_names=['gender_F', 'gender_M']))\n",
    "\n",
    "scores = cross_val_score(pipe, X_train, Y_train, cv=4)\n",
    "print('Cross Validation Accuracy Scores: {:.3f}(+/- {:.2f})'.format(scores.mean(), scores.std()*2))\n",
    "\n",
    "model_predictions = pipe.predict(X_validation)\n",
    "score = pipe.score(X_validation, Y_validation)\n",
    "print(score)\n",
    "\n",
    "cm = metrics.confusion_matrix(Y_validation, model_predictions)\n",
    "print(cm)\n",
    "\n",
    "plt.figure(figsize=(9,9))\n",
    "sns.heatmap(cm, annot=True, fmt=\".3f\", linewidths=.5, square = True, cmap = 'Blues_r');\n",
    "plt.ylabel('Actual label');\n",
    "plt.xlabel('Predicted label');\n",
    "all_sample_title = 'Accuracy Score: {0}'.format(score)\n",
    "plt.title(all_sample_title, size = 15);\n",
    "\n",
    "print(classification_report(Y_validation, model_predictions))"
   ]
  },
  {
   "cell_type": "markdown",
   "metadata": {},
   "source": [
    "#### Random Forest Classification"
   ]
  },
  {
   "cell_type": "code",
   "execution_count": 126,
   "metadata": {
    "collapsed": true
   },
   "outputs": [],
   "source": [
    "pipe = Pipeline([('pca', pca), ('rfc', rfc)])\n",
    "pipe.fit(X_train, Y_train)\n",
    "pred = pipe.predict(X_train)"
   ]
  },
  {
   "cell_type": "code",
   "execution_count": 127,
   "metadata": {},
   "outputs": [
    {
     "name": "stdout",
     "output_type": "stream",
     "text": [
      "             precision    recall  f1-score   support\n",
      "\n",
      "   gender_F       0.85      0.82      0.83      7292\n",
      "   gender_M       0.85      0.88      0.86      8603\n",
      "\n",
      "avg / total       0.85      0.85      0.85     15895\n",
      "\n",
      "Cross Validation Accuracy Scores: 0.791(+/- 0.01)\n",
      "0.808002013085\n",
      "[[1409  416]\n",
      " [ 347 1802]]\n",
      "             precision    recall  f1-score   support\n",
      "\n",
      "          0       0.80      0.77      0.79      1825\n",
      "          1       0.81      0.84      0.83      2149\n",
      "\n",
      "avg / total       0.81      0.81      0.81      3974\n",
      "\n"
     ]
    },
    {
     "data": {
      "image/png": "[encoded data removed]",
      "text/plain": [
       "<matplotlib.figure.Figure at 0x7f64a62ab080>"
      ]
     },
     "metadata": {},
     "output_type": "display_data"
    }
   ],
   "source": [
    "# Printing classification report\n",
    "print(classification_report(Y_train, pred, target_names=['gender_F', 'gender_M']))\n",
    "\n",
    "scores = cross_val_score(pipe, X_train, Y_train, cv=4)\n",
    "print('Cross Validation Accuracy Scores: {:.3f}(+/- {:.2f})'.format(scores.mean(), scores.std()*2))\n",
    "\n",
    "model_predictions = pipe.predict(X_validation)\n",
    "score = pipe.score(X_validation, Y_validation)\n",
    "print(score)\n",
    "\n",
    "cm = metrics.confusion_matrix(Y_validation, model_predictions)\n",
    "print(cm)\n",
    "\n",
    "plt.figure(figsize=(9,9))\n",
    "sns.heatmap(cm, annot=True, fmt=\".3f\", linewidths=.5, square = True, cmap = 'Blues_r');\n",
    "plt.ylabel('Actual label');\n",
    "plt.xlabel('Predicted label');\n",
    "all_sample_title = 'Accuracy Score: {0}'.format(score)\n",
    "plt.title(all_sample_title, size = 15);\n",
    "\n",
    "print(classification_report(Y_validation, model_predictions))"
   ]
  },
  {
   "cell_type": "markdown",
   "metadata": {},
   "source": [
    "#### Decision Tree Classification"
   ]
  },
  {
   "cell_type": "code",
   "execution_count": 128,
   "metadata": {
    "collapsed": true
   },
   "outputs": [],
   "source": [
    "pipe = Pipeline([('pca', pca), ('clf', clf)])\n",
    "pipe.fit(X_train, Y_train)\n",
    "pred = pipe.predict(X_train)"
   ]
  },
  {
   "cell_type": "code",
   "execution_count": 129,
   "metadata": {},
   "outputs": [
    {
     "name": "stdout",
     "output_type": "stream",
     "text": [
      "             precision    recall  f1-score   support\n",
      "\n",
      "   gender_F       0.75      0.74      0.75      7292\n",
      "   gender_M       0.78      0.80      0.79      8603\n",
      "\n",
      "avg / total       0.77      0.77      0.77     15895\n",
      "\n",
      "Cross Validation Accuracy Scores: 0.743(+/- 0.01)\n",
      "0.759687971817\n",
      "[[1313  512]\n",
      " [ 443 1706]]\n",
      "             precision    recall  f1-score   support\n",
      "\n",
      "          0       0.75      0.72      0.73      1825\n",
      "          1       0.77      0.79      0.78      2149\n",
      "\n",
      "avg / total       0.76      0.76      0.76      3974\n",
      "\n"
     ]
    },
    {
     "data": {
      "image/png": "[encoded data removed]",
      "text/plain": [
       "<matplotlib.figure.Figure at 0x7f64a63d1a20>"
      ]
     },
     "metadata": {},
     "output_type": "display_data"
    }
   ],
   "source": [
    "# Printing classification report\n",
    "print(classification_report(Y_train, pred, target_names=['gender_F', 'gender_M']))\n",
    "\n",
    "scores = cross_val_score(pipe, X_train, Y_train, cv=4)\n",
    "print('Cross Validation Accuracy Scores: {:.3f}(+/- {:.2f})'.format(scores.mean(), scores.std()*2))\n",
    "\n",
    "model_predictions = pipe.predict(X_validation)\n",
    "score = pipe.score(X_validation, Y_validation)\n",
    "print(score)\n",
    "\n",
    "cm = metrics.confusion_matrix(Y_validation, model_predictions)\n",
    "print(cm)\n",
    "\n",
    "plt.figure(figsize=(9,9))\n",
    "sns.heatmap(cm, annot=True, fmt=\".3f\", linewidths=.5, square = True, cmap = 'Blues_r');\n",
    "plt.ylabel('Actual label');\n",
    "plt.xlabel('Predicted label');\n",
    "all_sample_title = 'Accuracy Score: {0}'.format(score)\n",
    "plt.title(all_sample_title, size = 15);\n",
    "\n",
    "print(classification_report(Y_validation, model_predictions))"
   ]
  },
  {
   "cell_type": "markdown",
   "metadata": {},
   "source": [
    "#### KNN"
   ]
  },
  {
   "cell_type": "code",
   "execution_count": 130,
   "metadata": {
    "collapsed": true
   },
   "outputs": [],
   "source": [
    "pipe = Pipeline([('pca', pca), ('knn', knn_model)])\n",
    "pipe.fit(X_train, Y_train)\n",
    "pred = pipe.predict(X_train)"
   ]
  },
  {
   "cell_type": "code",
   "execution_count": 131,
   "metadata": {},
   "outputs": [
    {
     "name": "stdout",
     "output_type": "stream",
     "text": [
      "             precision    recall  f1-score   support\n",
      "\n",
      "   gender_F       0.82      0.75      0.78      7292\n",
      "   gender_M       0.80      0.86      0.83      8603\n",
      "\n",
      "avg / total       0.81      0.81      0.81     15895\n",
      "\n",
      "Cross Validation Accuracy Scores: 0.769(+/- 0.02)\n",
      "0.788122798188\n",
      "[[1319  506]\n",
      " [ 336 1813]]\n",
      "             precision    recall  f1-score   support\n",
      "\n",
      "          0       0.80      0.72      0.76      1825\n",
      "          1       0.78      0.84      0.81      2149\n",
      "\n",
      "avg / total       0.79      0.79      0.79      3974\n",
      "\n"
     ]
    },
    {
     "data": {
      "image/png": "[encoded data removed]",
      "text/plain": [
       "<matplotlib.figure.Figure at 0x7f64a61b3710>"
      ]
     },
     "metadata": {},
     "output_type": "display_data"
    }
   ],
   "source": [
    "# Printing classification report\n",
    "print(classification_report(Y_train, pred, target_names=['gender_F', 'gender_M']))\n",
    "\n",
    "scores = cross_val_score(pipe, X_train, Y_train, cv=4)\n",
    "print('Cross Validation Accuracy Scores: {:.3f}(+/- {:.2f})'.format(scores.mean(), scores.std()*2))\n",
    "\n",
    "model_predictions = pipe.predict(X_validation)\n",
    "score = pipe.score(X_validation, Y_validation)\n",
    "print(score)\n",
    "\n",
    "cm = metrics.confusion_matrix(Y_validation, model_predictions)\n",
    "print(cm)\n",
    "\n",
    "plt.figure(figsize=(9,9))\n",
    "sns.heatmap(cm, annot=True, fmt=\".3f\", linewidths=.5, square = True, cmap = 'Blues_r');\n",
    "plt.ylabel('Actual label');\n",
    "plt.xlabel('Predicted label');\n",
    "all_sample_title = 'Accuracy Score: {0}'.format(score)\n",
    "plt.title(all_sample_title, size = 15);\n",
    "\n",
    "print(classification_report(Y_validation, model_predictions))"
   ]
  },
  {
   "cell_type": "markdown",
   "metadata": {},
   "source": [
    "#### Ridge"
   ]
  },
  {
   "cell_type": "code",
   "execution_count": 132,
   "metadata": {
    "collapsed": true
   },
   "outputs": [],
   "source": [
    "pipe = Pipeline([('pca', pca), ('rclass', rclass)])\n",
    "pipe.fit(X_train, Y_train)\n",
    "pred = pipe.predict(X_train)"
   ]
  },
  {
   "cell_type": "code",
   "execution_count": 133,
   "metadata": {},
   "outputs": [
    {
     "name": "stdout",
     "output_type": "stream",
     "text": [
      "             precision    recall  f1-score   support\n",
      "\n",
      "   gender_F       0.58      0.10      0.18      7292\n",
      "   gender_M       0.55      0.94      0.69      8603\n",
      "\n",
      "avg / total       0.56      0.55      0.46     15895\n",
      "\n",
      "Cross Validation Accuracy Scores: 0.544(+/- 0.01)\n",
      "0.548817312531\n",
      "[[ 165 1660]\n",
      " [ 133 2016]]\n",
      "             precision    recall  f1-score   support\n",
      "\n",
      "          0       0.55      0.09      0.16      1825\n",
      "          1       0.55      0.94      0.69      2149\n",
      "\n",
      "avg / total       0.55      0.55      0.45      3974\n",
      "\n"
     ]
    },
    {
     "data": {
      "image/png": "[encoded data removed]",
      "text/plain": [
       "<matplotlib.figure.Figure at 0x7f64a6215da0>"
      ]
     },
     "metadata": {},
     "output_type": "display_data"
    }
   ],
   "source": [
    "# Printing classification report# Printin \n",
    "print(classification_report(Y_train, pred, target_names=['gender_F', 'gender_M']))\n",
    "\n",
    "scores = cross_val_score(pipe, X_train, Y_train, cv=4)\n",
    "print('Cross Validation Accuracy Scores: {:.3f}(+/- {:.2f})'.format(scores.mean(), scores.std()*2))\n",
    "\n",
    "model_predictions = pipe.predict(X_validation)\n",
    "score = pipe.score(X_validation, Y_validation)\n",
    "print(score)\n",
    "\n",
    "cm = metrics.confusion_matrix(Y_validation, model_predictions)\n",
    "print(cm)\n",
    "\n",
    "plt.figure(figsize=(9,9))\n",
    "sns.heatmap(cm, annot=True, fmt=\".3f\", linewidths=.5, square = True, cmap = 'Blues_r');\n",
    "plt.ylabel('Actual label');\n",
    "plt.xlabel('Predicted label');\n",
    "all_sample_title = 'Accuracy Score: {0}'.format(score)\n",
    "plt.title(all_sample_title, size = 15);\n",
    "\n",
    "print(classification_report(Y_validation, model_predictions))"
   ]
  },
  {
   "cell_type": "code",
   "execution_count": 134,
   "metadata": {},
   "outputs": [
    {
     "data": {
      "text/plain": [
       "((3974, 83), (3974,))"
      ]
     },
     "execution_count": 134,
     "metadata": {},
     "output_type": "execute_result"
    }
   ],
   "source": [
    "X_validation.shape, Y_validation.shape\n"
   ]
  },
  {
   "cell_type": "code",
   "execution_count": 135,
   "metadata": {},
   "outputs": [
    {
     "name": "stdout",
     "output_type": "stream",
     "text": [
      "# Num of Features:  83\n"
     ]
    }
   ],
   "source": [
    "print(\"# Num of Features: \", X_train.shape[1])"
   ]
  },
  {
   "cell_type": "code",
   "execution_count": 136,
   "metadata": {},
   "outputs": [
    {
     "name": "stdout",
     "output_type": "stream",
     "text": [
      "(15895, 83)\n",
      "(3974, 83)\n",
      "(15895,)\n",
      "(3974,)\n"
     ]
    }
   ],
   "source": [
    "print(X_train.shape)\n",
    "print(X_validation.shape)\n",
    "print(Y_train.shape)\n",
    "print(Y_validation.shape)"
   ]
  },
  {
   "cell_type": "markdown",
   "metadata": {},
   "source": [
    "<a id='section8'></a>\n",
    "### Training and testing applying PCA and KMeans Clustering"
   ]
  },
  {
   "cell_type": "code",
   "execution_count": 137,
   "metadata": {},
   "outputs": [
    {
     "name": "stdout",
     "output_type": "stream",
     "text": [
      "X2 original shape: (19869, 83)\n",
      "X2_PCA shape: (19869, 50)\n"
     ]
    },
    {
     "name": "stderr",
     "output_type": "stream",
     "text": [
      "/home/mache/anaconda3/lib/python3.6/site-packages/sklearn/utils/deprecation.py:77: DeprecationWarning: Function _ratio_float is deprecated; Use a float for 'ratio' is deprecated from version 0.2. The support will be removed in 0.4. Use a dict, str, or a callable instead.\n",
      "  warnings.warn(msg, category=DeprecationWarning)\n"
     ]
    }
   ],
   "source": [
    "X2 = pd.DataFrame(X2)\n",
    "print('X2 original shape:', X2.shape)\n",
    "pca = PCA(n_components=50, whiten=True)\n",
    "\n",
    "# Conduct PCA\n",
    "X2_pca = pca.fit_transform(X2)\n",
    "print('X2_PCA shape:', X2_pca.shape)\n",
    "\n",
    "#Holdout\n",
    "X2_train, X2_validation, Y2_train, Y2_validation = model_selection.train_test_split(X2_pca, Y2, test_size=0.2, random_state=7)\n",
    "\n",
    "# Dataset Balancing\n",
    "sm = SMOTE(random_state=12, ratio=1.0)\n",
    "X2_train, Y2_train = sm.fit_sample(X2_train, Y2_train)\n",
    "\n",
    "# KMeans model & fitting\n",
    "km = KMeans(n_clusters=4)\n",
    "km.fit(X2_train)\n",
    "\n",
    "# Converting sets to Pandas dataframe\n",
    "X2_train = pd.DataFrame(X2_train)\n",
    "X2_validation = pd.DataFrame(X2_validation)"
   ]
  },
  {
   "cell_type": "markdown",
   "metadata": {},
   "source": [
    "#### Logistic Regression (L2)"
   ]
  },
  {
   "cell_type": "code",
   "execution_count": 138,
   "metadata": {},
   "outputs": [
    {
     "name": "stdout",
     "output_type": "stream",
     "text": [
      "             precision    recall  f1-score   support\n",
      "\n",
      "   gender_F       0.66      0.50      0.57      8603\n",
      "   gender_M       0.60      0.74      0.66      8603\n",
      "\n",
      "avg / total       0.63      0.62      0.61     17206\n",
      "\n",
      "Cross Validation Accuracy Scores: 0.614(+/- 0.00)\n",
      "0.629089079014\n",
      "[[ 932  893]\n",
      " [ 581 1568]]\n",
      "             precision    recall  f1-score   support\n",
      "\n",
      "          0       0.62      0.51      0.56      1825\n",
      "          1       0.64      0.73      0.68      2149\n",
      "\n",
      "avg / total       0.63      0.63      0.62      3974\n",
      "\n"
     ]
    },
    {
     "data": {
      "image/png": "[encoded data removed]",
      "text/plain": [
       "<matplotlib.figure.Figure at 0x7f64a600d3c8>"
      ]
     },
     "metadata": {},
     "output_type": "display_data"
    }
   ],
   "source": [
    "# Fitting Logistic Regression model\n",
    "pipe = Pipeline([('logistic', log_reg_model)])\n",
    "pipe.fit(X2_train, Y2_train)\n",
    "pred = pipe.predict(X2_train)\n",
    "\n",
    "# Printing classification report\n",
    "print(classification_report(Y2_train, pred, target_names=['gender_F', 'gender_M']))\n",
    "\n",
    "scores = cross_val_score(pipe, X2_train, Y2_train, cv=4)\n",
    "print('Cross Validation Accuracy Scores: {:.3f}(+/- {:.2f})'.format(scores.mean(), scores.std()*2))\n",
    "\n",
    "model_predictions = pipe.predict(X2_validation)\n",
    "score = pipe.score(X2_validation, Y2_validation)\n",
    "print(score)\n",
    "\n",
    "cm = metrics.confusion_matrix(Y2_validation, model_predictions)\n",
    "print(cm)\n",
    "\n",
    "plt.figure(figsize=(9,9))\n",
    "sns.heatmap(cm, annot=True, fmt=\".3f\", linewidths=.5, square = True, cmap = 'Blues_r');\n",
    "plt.ylabel('Actual label');\n",
    "plt.xlabel('Predicted label');\n",
    "all_sample_title = 'Accuracy Score: {0}'.format(score)\n",
    "plt.title(all_sample_title, size = 15);\n",
    "\n",
    "print(classification_report(Y2_validation, model_predictions))"
   ]
  },
  {
   "cell_type": "markdown",
   "metadata": {},
   "source": [
    "#### Random Forest"
   ]
  },
  {
   "cell_type": "code",
   "execution_count": 139,
   "metadata": {},
   "outputs": [
    {
     "name": "stdout",
     "output_type": "stream",
     "text": [
      "             precision    recall  f1-score   support\n",
      "\n",
      "   gender_F       0.85      0.85      0.85      8603\n",
      "   gender_M       0.85      0.85      0.85      8603\n",
      "\n",
      "avg / total       0.85      0.85      0.85     17206\n",
      "\n",
      "Cross Validation Accuracy Scores: 0.782(+/- 0.01)\n",
      "0.790639154504\n",
      "[[1431  394]\n",
      " [ 438 1711]]\n",
      "             precision    recall  f1-score   support\n",
      "\n",
      "          0       0.77      0.78      0.77      1825\n",
      "          1       0.81      0.80      0.80      2149\n",
      "\n",
      "avg / total       0.79      0.79      0.79      3974\n",
      "\n"
     ]
    },
    {
     "data": {
      "image/png": "[encoded data removed]",
      "text/plain": [
       "<matplotlib.figure.Figure at 0x7f64a5f980f0>"
      ]
     },
     "metadata": {},
     "output_type": "display_data"
    }
   ],
   "source": [
    "# Fitting Random Forest model\n",
    "pipe = Pipeline([('rfc', rfc)])\n",
    "pipe.fit(X2_train, Y2_train)\n",
    "pred = pipe.predict(X2_train)\n",
    "\n",
    "# Printing classification report\n",
    "print(classification_report(Y2_train, pred, target_names=['gender_F', 'gender_M']))\n",
    "\n",
    "scores = cross_val_score(pipe, X2_train, Y2_train, cv=4)\n",
    "print('Cross Validation Accuracy Scores: {:.3f}(+/- {:.2f})'.format(scores.mean(), scores.std()*2))\n",
    "\n",
    "model_predictions = pipe.predict(X2_validation)\n",
    "score = pipe.score(X2_validation, Y2_validation)\n",
    "print(score)\n",
    "\n",
    "cm = metrics.confusion_matrix(Y2_validation, model_predictions)\n",
    "print(cm)\n",
    "\n",
    "plt.figure(figsize=(9,9))\n",
    "sns.heatmap(cm, annot=True, fmt=\".3f\", linewidths=.5, square = True, cmap = 'Blues_r');\n",
    "plt.ylabel('Actual label');\n",
    "plt.xlabel('Predicted label');\n",
    "all_sample_title = 'Accuracy Score: {0}'.format(score)\n",
    "plt.title(all_sample_title, size = 15);\n",
    "\n",
    "print(classification_report(Y2_validation, model_predictions))"
   ]
  },
  {
   "cell_type": "markdown",
   "metadata": {},
   "source": [
    "#### Decision Tree"
   ]
  },
  {
   "cell_type": "code",
   "execution_count": 140,
   "metadata": {},
   "outputs": [
    {
     "name": "stdout",
     "output_type": "stream",
     "text": [
      "             precision    recall  f1-score   support\n",
      "\n",
      "   gender_F       0.83      0.84      0.84      8603\n",
      "   gender_M       0.84      0.83      0.83      8603\n",
      "\n",
      "avg / total       0.84      0.84      0.84     17206\n",
      "\n",
      "Cross Validation Accuracy Scores: 0.787(+/- 0.02)\n",
      "0.800452944137\n",
      "[[1465  360]\n",
      " [ 433 1716]]\n",
      "             precision    recall  f1-score   support\n",
      "\n",
      "          0       0.77      0.80      0.79      1825\n",
      "          1       0.83      0.80      0.81      2149\n",
      "\n",
      "avg / total       0.80      0.80      0.80      3974\n",
      "\n"
     ]
    },
    {
     "data": {
      "image/png": "[encoded data removed]",
      "text/plain": [
       "<matplotlib.figure.Figure at 0x7f64a60baf98>"
      ]
     },
     "metadata": {},
     "output_type": "display_data"
    }
   ],
   "source": [
    "# Fitting Decision Tree model\n",
    "pipe = Pipeline([('clf', clf)])\n",
    "pipe.fit(X2_train, Y2_train)\n",
    "pred = pipe.predict(X2_train)\n",
    "\n",
    "# Printing classification report\n",
    "print(classification_report(Y2_train, pred, target_names=['gender_F', 'gender_M']))\n",
    "\n",
    "scores = cross_val_score(pipe, X2_train, Y2_train, cv=4)\n",
    "print('Cross Validation Accuracy Scores: {:.3f}(+/- {:.2f})'.format(scores.mean(), scores.std()*2))\n",
    "\n",
    "model_predictions = pipe.predict(X2_validation)\n",
    "score = pipe.score(X2_validation, Y2_validation)\n",
    "print(score)\n",
    "\n",
    "cm = metrics.confusion_matrix(Y2_validation, model_predictions)\n",
    "print(cm)\n",
    "\n",
    "plt.figure(figsize=(9,9))\n",
    "sns.heatmap(cm, annot=True, fmt=\".3f\", linewidths=.5, square = True, cmap = 'Blues_r');\n",
    "plt.ylabel('Actual label');\n",
    "plt.xlabel('Predicted label');\n",
    "all_sample_title = 'Accuracy Score: {0}'.format(score)\n",
    "plt.title(all_sample_title, size = 15);\n",
    "\n",
    "print(classification_report(Y2_validation, model_predictions))"
   ]
  },
  {
   "cell_type": "markdown",
   "metadata": {},
   "source": [
    "#### KNN"
   ]
  },
  {
   "cell_type": "code",
   "execution_count": 141,
   "metadata": {},
   "outputs": [
    {
     "name": "stdout",
     "output_type": "stream",
     "text": [
      "             precision    recall  f1-score   support\n",
      "\n",
      "   gender_F       0.80      0.77      0.78      8603\n",
      "   gender_M       0.78      0.81      0.79      8603\n",
      "\n",
      "avg / total       0.79      0.79      0.79     17206\n",
      "\n",
      "Cross Validation Accuracy Scores: 0.740(+/- 0.01)\n",
      "0.747106190237\n",
      "[[1313  512]\n",
      " [ 493 1656]]\n",
      "             precision    recall  f1-score   support\n",
      "\n",
      "          0       0.73      0.72      0.72      1825\n",
      "          1       0.76      0.77      0.77      2149\n",
      "\n",
      "avg / total       0.75      0.75      0.75      3974\n",
      "\n"
     ]
    },
    {
     "data": {
      "image/png": "[encoded data removed]",
      "text/plain": [
       "<matplotlib.figure.Figure at 0x7f64a60a3b70>"
      ]
     },
     "metadata": {},
     "output_type": "display_data"
    }
   ],
   "source": [
    "# Fitting KNN model\n",
    "pipe = Pipeline([('knn', knn_model)])\n",
    "pipe.fit(X2_train, Y2_train)\n",
    "pred = pipe.predict(X2_train)\n",
    "\n",
    "# Printing classification report\n",
    "print(classification_report(Y2_train, pred, target_names=['gender_F', 'gender_M']))\n",
    "\n",
    "scores = cross_val_score(pipe, X2_train, Y2_train, cv=4)\n",
    "print('Cross Validation Accuracy Scores: {:.3f}(+/- {:.2f})'.format(scores.mean(), scores.std()*2))\n",
    "\n",
    "model_predictions = pipe.predict(X2_validation)\n",
    "score = pipe.score(X2_validation, Y2_validation)\n",
    "print(score)\n",
    "\n",
    "cm = metrics.confusion_matrix(Y2_validation, model_predictions)\n",
    "print(cm)\n",
    "\n",
    "plt.figure(figsize=(9,9))\n",
    "sns.heatmap(cm, annot=True, fmt=\".3f\", linewidths=.5, square = True, cmap = 'Blues_r');\n",
    "plt.ylabel('Actual label');\n",
    "plt.xlabel('Predicted label');\n",
    "all_sample_title = 'Accuracy Score: {0}'.format(score)\n",
    "plt.title(all_sample_title, size = 15);\n",
    "\n",
    "print(classification_report(Y2_validation, model_predictions))"
   ]
  },
  {
   "cell_type": "markdown",
   "metadata": {},
   "source": [
    "#### Ridge"
   ]
  },
  {
   "cell_type": "code",
   "execution_count": 142,
   "metadata": {},
   "outputs": [
    {
     "name": "stdout",
     "output_type": "stream",
     "text": [
      "             precision    recall  f1-score   support\n",
      "\n",
      "   gender_F       0.66      0.49      0.56      8603\n",
      "   gender_M       0.59      0.74      0.66      8603\n",
      "\n",
      "avg / total       0.63      0.62      0.61     17206\n",
      "\n",
      "Cross Validation Accuracy Scores: 0.614(+/- 0.00)\n",
      "0.629340714645\n",
      "[[ 929  896]\n",
      " [ 577 1572]]\n",
      "             precision    recall  f1-score   support\n",
      "\n",
      "          0       0.62      0.51      0.56      1825\n",
      "          1       0.64      0.73      0.68      2149\n",
      "\n",
      "avg / total       0.63      0.63      0.62      3974\n",
      "\n"
     ]
    },
    {
     "data": {
      "image/png": "[encoded data removed]",
      "text/plain": [
       "<matplotlib.figure.Figure at 0x7f64a64f09b0>"
      ]
     },
     "metadata": {},
     "output_type": "display_data"
    }
   ],
   "source": [
    "# Fitting Ridge model\n",
    "pipe = Pipeline([('rclass', rclass)])\n",
    "pipe.fit(X2_train, Y2_train)\n",
    "pred = pipe.predict(X2_train)\n",
    "\n",
    "# Printing classification report\n",
    "print(classification_report(Y2_train, pred, target_names=['gender_F', 'gender_M']))\n",
    "\n",
    "scores = cross_val_score(pipe, X2_train, Y2_train, cv=4)\n",
    "print('Cross Validation Accuracy Scores: {:.3f}(+/- {:.2f})'.format(scores.mean(), scores.std()*2))\n",
    "\n",
    "model_predictions = pipe.predict(X2_validation)\n",
    "score = pipe.score(X2_validation, Y2_validation)\n",
    "print(score)\n",
    "\n",
    "cm = metrics.confusion_matrix(Y2_validation, model_predictions)\n",
    "print(cm)\n",
    "\n",
    "plt.figure(figsize=(9,9))\n",
    "sns.heatmap(cm, annot=True, fmt=\".3f\", linewidths=.5, square = True, cmap = 'Blues_r');\n",
    "plt.ylabel('Actual label');\n",
    "plt.xlabel('Predicted label');\n",
    "all_sample_title = 'Accuracy Score: {0}'.format(score)\n",
    "plt.title(all_sample_title, size = 15);\n",
    "\n",
    "print(classification_report(Y2_validation, model_predictions))"
   ]
  },
  {
   "cell_type": "markdown",
   "metadata": {},
   "source": [
    "<a id='section9'></a>\n",
    "### Running Neural Networks models"
   ]
  },
  {
   "cell_type": "markdown",
   "metadata": {},
   "source": [
    "#### Creating independent datasets"
   ]
  },
  {
   "cell_type": "code",
   "execution_count": 143,
   "metadata": {
    "collapsed": true
   },
   "outputs": [],
   "source": [
    "X_train_NN = X_train\n",
    "X_validation_NN = X_validation\n",
    "Y_train_NN = Y_train\n",
    "Y_validation_NN = Y_validation"
   ]
  },
  {
   "cell_type": "code",
   "execution_count": 144,
   "metadata": {
    "collapsed": true
   },
   "outputs": [],
   "source": [
    "X_train_NN_2 = X_train\n",
    "X_validation_NN_2 = X_validation\n",
    "Y_train_NN_2 = Y_train\n",
    "Y_validation_NN_2 = Y_validation"
   ]
  },
  {
   "cell_type": "markdown",
   "metadata": {},
   "source": [
    "#### Importing necessary libraries"
   ]
  },
  {
   "cell_type": "code",
   "execution_count": 145,
   "metadata": {},
   "outputs": [
    {
     "name": "stderr",
     "output_type": "stream",
     "text": [
      "Using TensorFlow backend.\n"
     ]
    }
   ],
   "source": [
    "import keras\n",
    "from keras.models import Sequential\n",
    "from keras.layers import Dense, Dropout, Flatten, MaxPooling2D, Activation, BatchNormalization\n",
    "from keras.layers import LSTM, Input, TimeDistributed\n",
    "from keras.models import Model\n",
    "from keras.optimizers import RMSprop, SGD\n",
    "from keras.layers.advanced_activations import PReLU\n",
    "from keras.wrappers.scikit_learn import KerasClassifier\n",
    "from sklearn.ensemble import VotingClassifier\n",
    "from keras import optimizers\n",
    "\n",
    "# Import the backend\n",
    "from keras import backend as K"
   ]
  },
  {
   "cell_type": "markdown",
   "metadata": {},
   "source": [
    "#### Defining model"
   ]
  },
  {
   "cell_type": "code",
   "execution_count": 149,
   "metadata": {
    "collapsed": true
   },
   "outputs": [],
   "source": [
    "def mlp_model():\n",
    "    model = Sequential()\n",
    "    \n",
    "    model.add(Dense(50, input_shape = (83, ), kernel_initializer='he_normal'))\n",
    "    model.add(BatchNormalization())\n",
    "    model.add(Activation('relu'))\n",
    "    model.add(Dropout(0.2))\n",
    "    model.add(Dense(50, kernel_initializer='he_normal'))\n",
    "    model.add(BatchNormalization())\n",
    "    model.add(Activation('relu'))    \n",
    "    model.add(Dropout(0.2))\n",
    "    model.add(Dense(50, kernel_initializer='he_normal'))\n",
    "    model.add(BatchNormalization())\n",
    "    model.add(Activation('relu'))\n",
    "    model.add(Dropout(0.2))\n",
    "    model.add(Dense(50, kernel_initializer='he_normal'))\n",
    "    model.add(BatchNormalization())\n",
    "    model.add(Activation('relu'))\n",
    "    model.add(Dropout(0.2))\n",
    "    model.add(Dense(2, kernel_initializer='he_normal'))\n",
    "    model.add(Activation('softmax'))\n",
    "    \n",
    "    adam = optimizers.Adam(lr = 0.001)\n",
    "    model.compile(loss='categorical_crossentropy',\n",
    "              optimizer=RMSprop(),\n",
    "              metrics=['accuracy'])\n",
    "    model.summary()\n",
    "    \n",
    "    return model"
   ]
  },
  {
   "cell_type": "markdown",
   "metadata": {},
   "source": [
    "#### Creating 5 different models to ensemble"
   ]
  },
  {
   "cell_type": "code",
   "execution_count": 150,
   "metadata": {
    "collapsed": true
   },
   "outputs": [],
   "source": [
    "model1 = KerasClassifier(build_fn = mlp_model, epochs = 3)\n",
    "model2 = KerasClassifier(build_fn = mlp_model, epochs = 5)\n",
    "model3 = KerasClassifier(build_fn = mlp_model, epochs = 7)\n",
    "model4 = KerasClassifier(build_fn = mlp_model, epochs = 8)\n",
    "model5 = KerasClassifier(build_fn = mlp_model, epochs = 9)"
   ]
  },
  {
   "cell_type": "markdown",
   "metadata": {},
   "source": [
    "#### Evaluating performance based on one only model"
   ]
  },
  {
   "cell_type": "code",
   "execution_count": 151,
   "metadata": {},
   "outputs": [
    {
     "name": "stdout",
     "output_type": "stream",
     "text": [
      "_________________________________________________________________\n",
      "Layer (type)                 Output Shape              Param #   \n",
      "=================================================================\n",
      "dense_6 (Dense)              (None, 50)                4200      \n",
      "_________________________________________________________________\n",
      "batch_normalization_5 (Batch (None, 50)                200       \n",
      "_________________________________________________________________\n",
      "activation_6 (Activation)    (None, 50)                0         \n",
      "_________________________________________________________________\n",
      "dropout_5 (Dropout)          (None, 50)                0         \n",
      "_________________________________________________________________\n",
      "dense_7 (Dense)              (None, 50)                2550      \n",
      "_________________________________________________________________\n",
      "batch_normalization_6 (Batch (None, 50)                200       \n",
      "_________________________________________________________________\n",
      "activation_7 (Activation)    (None, 50)                0         \n",
      "_________________________________________________________________\n",
      "dropout_6 (Dropout)          (None, 50)                0         \n",
      "_________________________________________________________________\n",
      "dense_8 (Dense)              (None, 50)                2550      \n",
      "_________________________________________________________________\n",
      "batch_normalization_7 (Batch (None, 50)                200       \n",
      "_________________________________________________________________\n",
      "activation_8 (Activation)    (None, 50)                0         \n",
      "_________________________________________________________________\n",
      "dropout_7 (Dropout)          (None, 50)                0         \n",
      "_________________________________________________________________\n",
      "dense_9 (Dense)              (None, 50)                2550      \n",
      "_________________________________________________________________\n",
      "batch_normalization_8 (Batch (None, 50)                200       \n",
      "_________________________________________________________________\n",
      "activation_9 (Activation)    (None, 50)                0         \n",
      "_________________________________________________________________\n",
      "dropout_8 (Dropout)          (None, 50)                0         \n",
      "_________________________________________________________________\n",
      "dense_10 (Dense)             (None, 2)                 102       \n",
      "_________________________________________________________________\n",
      "activation_10 (Activation)   (None, 2)                 0         \n",
      "=================================================================\n",
      "Total params: 12,752\n",
      "Trainable params: 12,352\n",
      "Non-trainable params: 400\n",
      "_________________________________________________________________\n",
      "Epoch 1/3\n",
      "15895/15895 [==============================] - 4s 255us/step - loss: 0.7300 - acc: 0.5280\n",
      "Epoch 2/3\n",
      "15895/15895 [==============================] - 3s 169us/step - loss: 0.6830 - acc: 0.5762\n",
      "Epoch 3/3\n",
      "15895/15895 [==============================] - 3s 167us/step - loss: 0.6670 - acc: 0.6009\n"
     ]
    }
   ],
   "source": [
    "model_1_a = model1.fit(X_train_NN_2, Y_train_NN_2)"
   ]
  },
  {
   "cell_type": "code",
   "execution_count": 152,
   "metadata": {
    "collapsed": true
   },
   "outputs": [],
   "source": [
    "y_pred_model_1 = model1.predict(X_validation_NN_2)"
   ]
  },
  {
   "cell_type": "code",
   "execution_count": 153,
   "metadata": {
    "scrolled": true
   },
   "outputs": [
    {
     "name": "stdout",
     "output_type": "stream",
     "text": [
      "Acc:  0.659788626069\n"
     ]
    }
   ],
   "source": [
    "print('Acc: ', accuracy_score(y_pred_model_1, Y_validation_NN_2))"
   ]
  },
  {
   "cell_type": "markdown",
   "metadata": {},
   "source": [
    "#### Evaluating performance based on ensambled models"
   ]
  },
  {
   "cell_type": "code",
   "execution_count": 154,
   "metadata": {
    "collapsed": true
   },
   "outputs": [],
   "source": [
    "ensemble_clf = VotingClassifier(estimators = [('model1', model1), ('model2', model2), ('model3', model3), ('model4', model4), ('model5', model5)], voting = 'soft')"
   ]
  },
  {
   "cell_type": "code",
   "execution_count": 155,
   "metadata": {
    "scrolled": true
   },
   "outputs": [
    {
     "name": "stdout",
     "output_type": "stream",
     "text": [
      "_________________________________________________________________\n",
      "Layer (type)                 Output Shape              Param #   \n",
      "=================================================================\n",
      "dense_11 (Dense)             (None, 50)                4200      \n",
      "_________________________________________________________________\n",
      "batch_normalization_9 (Batch (None, 50)                200       \n",
      "_________________________________________________________________\n",
      "activation_11 (Activation)   (None, 50)                0         \n",
      "_________________________________________________________________\n",
      "dropout_9 (Dropout)          (None, 50)                0         \n",
      "_________________________________________________________________\n",
      "dense_12 (Dense)             (None, 50)                2550      \n",
      "_________________________________________________________________\n",
      "batch_normalization_10 (Batc (None, 50)                200       \n",
      "_________________________________________________________________\n",
      "activation_12 (Activation)   (None, 50)                0         \n",
      "_________________________________________________________________\n",
      "dropout_10 (Dropout)         (None, 50)                0         \n",
      "_________________________________________________________________\n",
      "dense_13 (Dense)             (None, 50)                2550      \n",
      "_________________________________________________________________\n",
      "batch_normalization_11 (Batc (None, 50)                200       \n",
      "_________________________________________________________________\n",
      "activation_13 (Activation)   (None, 50)                0         \n",
      "_________________________________________________________________\n",
      "dropout_11 (Dropout)         (None, 50)                0         \n",
      "_________________________________________________________________\n",
      "dense_14 (Dense)             (None, 50)                2550      \n",
      "_________________________________________________________________\n",
      "batch_normalization_12 (Batc (None, 50)                200       \n",
      "_________________________________________________________________\n",
      "activation_14 (Activation)   (None, 50)                0         \n",
      "_________________________________________________________________\n",
      "dropout_12 (Dropout)         (None, 50)                0         \n",
      "_________________________________________________________________\n",
      "dense_15 (Dense)             (None, 2)                 102       \n",
      "_________________________________________________________________\n",
      "activation_15 (Activation)   (None, 2)                 0         \n",
      "=================================================================\n",
      "Total params: 12,752\n",
      "Trainable params: 12,352\n",
      "Non-trainable params: 400\n",
      "_________________________________________________________________\n",
      "Epoch 1/3\n",
      "15895/15895 [==============================] - 4s 259us/step - loss: 0.7141 - acc: 0.5434\n",
      "Epoch 2/3\n",
      "15895/15895 [==============================] - 3s 182us/step - loss: 0.6755 - acc: 0.5800\n",
      "Epoch 3/3\n",
      "15895/15895 [==============================] - 3s 183us/step - loss: 0.6562 - acc: 0.6128\n",
      "_________________________________________________________________\n",
      "Layer (type)                 Output Shape              Param #   \n",
      "=================================================================\n",
      "dense_16 (Dense)             (None, 50)                4200      \n",
      "_________________________________________________________________\n",
      "batch_normalization_13 (Batc (None, 50)                200       \n",
      "_________________________________________________________________\n",
      "activation_16 (Activation)   (None, 50)                0         \n",
      "_________________________________________________________________\n",
      "dropout_13 (Dropout)         (None, 50)                0         \n",
      "_________________________________________________________________\n",
      "dense_17 (Dense)             (None, 50)                2550      \n",
      "_________________________________________________________________\n",
      "batch_normalization_14 (Batc (None, 50)                200       \n",
      "_________________________________________________________________\n",
      "activation_17 (Activation)   (None, 50)                0         \n",
      "_________________________________________________________________\n",
      "dropout_14 (Dropout)         (None, 50)                0         \n",
      "_________________________________________________________________\n",
      "dense_18 (Dense)             (None, 50)                2550      \n",
      "_________________________________________________________________\n",
      "batch_normalization_15 (Batc (None, 50)                200       \n",
      "_________________________________________________________________\n",
      "activation_18 (Activation)   (None, 50)                0         \n",
      "_________________________________________________________________\n",
      "dropout_15 (Dropout)         (None, 50)                0         \n",
      "_________________________________________________________________\n",
      "dense_19 (Dense)             (None, 50)                2550      \n",
      "_________________________________________________________________\n",
      "batch_normalization_16 (Batc (None, 50)                200       \n",
      "_________________________________________________________________\n",
      "activation_19 (Activation)   (None, 50)                0         \n",
      "_________________________________________________________________\n",
      "dropout_16 (Dropout)         (None, 50)                0         \n",
      "_________________________________________________________________\n",
      "dense_20 (Dense)             (None, 2)                 102       \n",
      "_________________________________________________________________\n",
      "activation_20 (Activation)   (None, 2)                 0         \n",
      "=================================================================\n",
      "Total params: 12,752\n",
      "Trainable params: 12,352\n",
      "Non-trainable params: 400\n",
      "_________________________________________________________________\n",
      "Epoch 1/5\n",
      "15895/15895 [==============================] - 5s 285us/step - loss: 0.7139 - acc: 0.5341\n",
      "Epoch 2/5\n",
      "15895/15895 [==============================] - 3s 177us/step - loss: 0.6744 - acc: 0.5867\n",
      "Epoch 3/5\n",
      "15895/15895 [==============================] - 3s 170us/step - loss: 0.6569 - acc: 0.6162\n",
      "Epoch 4/5\n",
      "15895/15895 [==============================] - 3s 171us/step - loss: 0.6456 - acc: 0.6287\n",
      "Epoch 5/5\n",
      "15895/15895 [==============================] - 3s 173us/step - loss: 0.6423 - acc: 0.6325\n",
      "_________________________________________________________________\n",
      "Layer (type)                 Output Shape              Param #   \n",
      "=================================================================\n",
      "dense_21 (Dense)             (None, 50)                4200      \n",
      "_________________________________________________________________\n",
      "batch_normalization_17 (Batc (None, 50)                200       \n",
      "_________________________________________________________________\n",
      "activation_21 (Activation)   (None, 50)                0         \n",
      "_________________________________________________________________\n",
      "dropout_17 (Dropout)         (None, 50)                0         \n",
      "_________________________________________________________________\n",
      "dense_22 (Dense)             (None, 50)                2550      \n",
      "_________________________________________________________________\n",
      "batch_normalization_18 (Batc (None, 50)                200       \n",
      "_________________________________________________________________\n",
      "activation_22 (Activation)   (None, 50)                0         \n",
      "_________________________________________________________________\n",
      "dropout_18 (Dropout)         (None, 50)                0         \n",
      "_________________________________________________________________\n",
      "dense_23 (Dense)             (None, 50)                2550      \n",
      "_________________________________________________________________\n",
      "batch_normalization_19 (Batc (None, 50)                200       \n",
      "_________________________________________________________________\n",
      "activation_23 (Activation)   (None, 50)                0         \n",
      "_________________________________________________________________\n",
      "dropout_19 (Dropout)         (None, 50)                0         \n",
      "_________________________________________________________________\n",
      "dense_24 (Dense)             (None, 50)                2550      \n",
      "_________________________________________________________________\n",
      "batch_normalization_20 (Batc (None, 50)                200       \n",
      "_________________________________________________________________\n",
      "activation_24 (Activation)   (None, 50)                0         \n",
      "_________________________________________________________________\n",
      "dropout_20 (Dropout)         (None, 50)                0         \n",
      "_________________________________________________________________\n",
      "dense_25 (Dense)             (None, 2)                 102       \n",
      "_________________________________________________________________\n",
      "activation_25 (Activation)   (None, 2)                 0         \n",
      "=================================================================\n",
      "Total params: 12,752\n",
      "Trainable params: 12,352\n",
      "Non-trainable params: 400\n",
      "_________________________________________________________________\n"
     ]
    },
    {
     "name": "stdout",
     "output_type": "stream",
     "text": [
      "Epoch 1/7\n",
      "15895/15895 [==============================] - 4s 276us/step - loss: 0.7139 - acc: 0.5422\n",
      "Epoch 2/7\n",
      "15895/15895 [==============================] - 3s 175us/step - loss: 0.6740 - acc: 0.5891\n",
      "Epoch 3/7\n",
      "15895/15895 [==============================] - 3s 176us/step - loss: 0.6570 - acc: 0.6170\n",
      "Epoch 4/7\n",
      "15895/15895 [==============================] - 3s 173us/step - loss: 0.6447 - acc: 0.6306\n",
      "Epoch 5/7\n",
      "15895/15895 [==============================] - 3s 176us/step - loss: 0.6389 - acc: 0.6387\n",
      "Epoch 6/7\n",
      "15895/15895 [==============================] - 3s 177us/step - loss: 0.6342 - acc: 0.6364\n",
      "Epoch 7/7\n",
      "15895/15895 [==============================] - 3s 173us/step - loss: 0.6274 - acc: 0.6477\n",
      "_________________________________________________________________\n",
      "Layer (type)                 Output Shape              Param #   \n",
      "=================================================================\n",
      "dense_26 (Dense)             (None, 50)                4200      \n",
      "_________________________________________________________________\n",
      "batch_normalization_21 (Batc (None, 50)                200       \n",
      "_________________________________________________________________\n",
      "activation_26 (Activation)   (None, 50)                0         \n",
      "_________________________________________________________________\n",
      "dropout_21 (Dropout)         (None, 50)                0         \n",
      "_________________________________________________________________\n",
      "dense_27 (Dense)             (None, 50)                2550      \n",
      "_________________________________________________________________\n",
      "batch_normalization_22 (Batc (None, 50)                200       \n",
      "_________________________________________________________________\n",
      "activation_27 (Activation)   (None, 50)                0         \n",
      "_________________________________________________________________\n",
      "dropout_22 (Dropout)         (None, 50)                0         \n",
      "_________________________________________________________________\n",
      "dense_28 (Dense)             (None, 50)                2550      \n",
      "_________________________________________________________________\n",
      "batch_normalization_23 (Batc (None, 50)                200       \n",
      "_________________________________________________________________\n",
      "activation_28 (Activation)   (None, 50)                0         \n",
      "_________________________________________________________________\n",
      "dropout_23 (Dropout)         (None, 50)                0         \n",
      "_________________________________________________________________\n",
      "dense_29 (Dense)             (None, 50)                2550      \n",
      "_________________________________________________________________\n",
      "batch_normalization_24 (Batc (None, 50)                200       \n",
      "_________________________________________________________________\n",
      "activation_29 (Activation)   (None, 50)                0         \n",
      "_________________________________________________________________\n",
      "dropout_24 (Dropout)         (None, 50)                0         \n",
      "_________________________________________________________________\n",
      "dense_30 (Dense)             (None, 2)                 102       \n",
      "_________________________________________________________________\n",
      "activation_30 (Activation)   (None, 2)                 0         \n",
      "=================================================================\n",
      "Total params: 12,752\n",
      "Trainable params: 12,352\n",
      "Non-trainable params: 400\n",
      "_________________________________________________________________\n",
      "Epoch 1/8\n",
      "15895/15895 [==============================] - 4s 268us/step - loss: 0.7197 - acc: 0.5528\n",
      "Epoch 2/8\n",
      "15895/15895 [==============================] - 3s 177us/step - loss: 0.6753 - acc: 0.5806\n",
      "Epoch 3/8\n",
      "15895/15895 [==============================] - 3s 175us/step - loss: 0.6593 - acc: 0.6112\n",
      "Epoch 4/8\n",
      "15895/15895 [==============================] - 3s 174us/step - loss: 0.6441 - acc: 0.6293\n",
      "Epoch 5/8\n",
      "15895/15895 [==============================] - 3s 173us/step - loss: 0.6401 - acc: 0.6358\n",
      "Epoch 6/8\n",
      "15895/15895 [==============================] - 3s 175us/step - loss: 0.6330 - acc: 0.6441\n",
      "Epoch 7/8\n",
      "15895/15895 [==============================] - 3s 175us/step - loss: 0.6280 - acc: 0.6445\n",
      "Epoch 8/8\n",
      "15895/15895 [==============================] - 3s 175us/step - loss: 0.6265 - acc: 0.6507\n",
      "_________________________________________________________________\n",
      "Layer (type)                 Output Shape              Param #   \n",
      "=================================================================\n",
      "dense_31 (Dense)             (None, 50)                4200      \n",
      "_________________________________________________________________\n",
      "batch_normalization_25 (Batc (None, 50)                200       \n",
      "_________________________________________________________________\n",
      "activation_31 (Activation)   (None, 50)                0         \n",
      "_________________________________________________________________\n",
      "dropout_25 (Dropout)         (None, 50)                0         \n",
      "_________________________________________________________________\n",
      "dense_32 (Dense)             (None, 50)                2550      \n",
      "_________________________________________________________________\n",
      "batch_normalization_26 (Batc (None, 50)                200       \n",
      "_________________________________________________________________\n",
      "activation_32 (Activation)   (None, 50)                0         \n",
      "_________________________________________________________________\n",
      "dropout_26 (Dropout)         (None, 50)                0         \n",
      "_________________________________________________________________\n",
      "dense_33 (Dense)             (None, 50)                2550      \n",
      "_________________________________________________________________\n",
      "batch_normalization_27 (Batc (None, 50)                200       \n",
      "_________________________________________________________________\n",
      "activation_33 (Activation)   (None, 50)                0         \n",
      "_________________________________________________________________\n",
      "dropout_27 (Dropout)         (None, 50)                0         \n",
      "_________________________________________________________________\n",
      "dense_34 (Dense)             (None, 50)                2550      \n",
      "_________________________________________________________________\n",
      "batch_normalization_28 (Batc (None, 50)                200       \n",
      "_________________________________________________________________\n",
      "activation_34 (Activation)   (None, 50)                0         \n",
      "_________________________________________________________________\n",
      "dropout_28 (Dropout)         (None, 50)                0         \n",
      "_________________________________________________________________\n",
      "dense_35 (Dense)             (None, 2)                 102       \n",
      "_________________________________________________________________\n",
      "activation_35 (Activation)   (None, 2)                 0         \n",
      "=================================================================\n",
      "Total params: 12,752\n",
      "Trainable params: 12,352\n",
      "Non-trainable params: 400\n",
      "_________________________________________________________________\n",
      "Epoch 1/9\n",
      "15895/15895 [==============================] - 4s 277us/step - loss: 0.7222 - acc: 0.5270\n",
      "Epoch 2/9\n",
      "15895/15895 [==============================] - 3s 174us/step - loss: 0.6786 - acc: 0.5740\n",
      "Epoch 3/9\n",
      "15895/15895 [==============================] - 3s 176us/step - loss: 0.6574 - acc: 0.6111\n",
      "Epoch 4/9\n",
      "15895/15895 [==============================] - 3s 175us/step - loss: 0.6499 - acc: 0.6221\n",
      "Epoch 5/9\n",
      "15895/15895 [==============================] - 3s 172us/step - loss: 0.6380 - acc: 0.6346\n",
      "Epoch 6/9\n",
      "15895/15895 [==============================] - 3s 208us/step - loss: 0.6339 - acc: 0.6406\n",
      "Epoch 7/9\n",
      "15895/15895 [==============================] - 4s 221us/step - loss: 0.6306 - acc: 0.6417\n",
      "Epoch 8/9\n",
      "15895/15895 [==============================] - 3s 178us/step - loss: 0.6290 - acc: 0.6471\n",
      "Epoch 9/9\n",
      "15895/15895 [==============================] - 3s 175us/step - loss: 0.6227 - acc: 0.6491\n",
      "CPU times: user 2min 37s, sys: 8.08 s, total: 2min 45s\n",
      "Wall time: 1min 46s\n"
     ]
    },
    {
     "data": {
      "text/plain": [
       "VotingClassifier(estimators=[('model1', <keras.wrappers.scikit_learn.KerasClassifier object at 0x7f64a6117b70>), ('model2', <keras.wrappers.scikit_learn.KerasClassifier object at 0x7f64a6117908>), ('model3', <keras.wrappers.scikit_learn.KerasClassifier object at 0x7f64a6117898>), ('model4', <keras.wrappers.scikit_learn.KerasClassifier object at 0x7f649b8eb940>), ('model5', <keras.wrappers.scikit_learn.KerasClassifier object at 0x7f649b8eb400>)],\n",
       "         flatten_transform=None, n_jobs=1, voting='soft', weights=None)"
      ]
     },
     "execution_count": 155,
     "metadata": {},
     "output_type": "execute_result"
    }
   ],
   "source": [
    "%%time\n",
    "ensemble_clf.fit(X_train_NN, Y_train_NN)"
   ]
  },
  {
   "cell_type": "code",
   "execution_count": 156,
   "metadata": {
    "collapsed": true
   },
   "outputs": [],
   "source": [
    "y_pred = ensemble_clf.predict(X_validation_NN)"
   ]
  },
  {
   "cell_type": "code",
   "execution_count": 157,
   "metadata": {},
   "outputs": [
    {
     "name": "stdout",
     "output_type": "stream",
     "text": [
      "Acc:  0.668847508807\n"
     ]
    }
   ],
   "source": [
    "print('Acc: ', accuracy_score(y_pred, Y_validation_NN))"
   ]
  },
  {
   "cell_type": "markdown",
   "metadata": {
    "collapsed": true
   },
   "source": [
    "### Conclusion"
   ]
  },
  {
   "cell_type": "markdown",
   "metadata": {
    "collapsed": true
   },
   "source": [
    "After analysing the datasets, we were able to determine that the the median age and gender group was 30 years old and male. We devided our model training and testing in four different types of modelling. First we used plain supervised models, we then applied PCA to these same models and tested their results. Later, we used K-Means clustering and evaluated their performance. And finally we modelled our dataset with neural networks and used a Keras classification MLP model to predict the user's gender. We can see the results in the following information:\n",
    "\n",
    "Supervised models:\n",
    "\n",
    "- Logistic Regression - Accuracy Scores - Test Set: 0.64\n",
    "- Random Forest - Accuracy Scores - Test Set: 0.79\n",
    "- Decision Tree - Accuracy Scores - Test Set: 0.79\n",
    "- KNN - Accuracy Scores - Test Set: 0.78\n",
    "- Ridge - Accuracy Scores - Test Set: 0.63\n",
    "\n",
    "Supervised learning applying PCA:\n",
    "\n",
    "- Logistic Regression - Accuracy Scores - Test Set: 0.55\n",
    "- Random Forest - Accuracy Scores - Test Set: 0.81\n",
    "- Decision Tree - Accuracy Scores - Test Set: 0.76\n",
    "- KNN - Accuracy Scores - Test Set: 0.79\n",
    "- Ridge - Accuracy Scores - Test Set: 0.54\n",
    "\n",
    "Supervised learning applying PCA and KMeans Clustering:\n",
    "\n",
    "- Logistic Regression - Accuracy Scores - Test Set: 0.63\n",
    "- Random Forest - Accuracy Scores - Test Set: 0.79\n",
    "- Decision Tree - Accuracy Scores - Test Set: 0.80\n",
    "- KNN - Accuracy Scores - Test Set: 0.75\n",
    "- Ridge - Accuracy Scores - Test Set: 0.63\n",
    "\n",
    "Running Neural Networks models:\n",
    "\n",
    "- Single model - Acc: 0.6597\n",
    "\n",
    "- Ensembled models - Acc: 0.6688\n",
    "\n",
    "As we can see, the performance with several mdoels was very satisfactory, approximately 80 %. However, I would choose the Random Forest model, it showed a great performance, low overfitting values on the training set and space to tune ever more it's hyperparameters, increasing it's accuracy. Therefore, such a model would be great to determine the demographics of certain application, and thus, being able to target, for example, advertising for that given segment.\n",
    "\n",
    "Predicting a user's gender can help the developer in various aspects: orienting R&D investments to a specific user, spend advertising time and campaign power in a more efficent way and increase the return of investment (ROI) of the project.\n",
    "\n",
    "In order to make it work in a production like environment, we should set up the script in a server based (cloud or phisical) environment and do some modifications in order to capture the new incoming data. This way with new incoming data we could predict new customer's gender and analyze if latter efforts, prior to our initial modelling, impact in real time to our potential or permanent customers. In addition, more computer power would be a plus to analyze the entire dataset."
   ]
  }
 ],
 "metadata": {
  "kernelspec": {
   "display_name": "Python [default]",
   "language": "python",
   "name": "python3"
  },
  "language_info": {
   "codemirror_mode": {
    "name": "ipython",
    "version": 3
   },
   "file_extension": ".py",
   "mimetype": "text/x-python",
   "name": "python",
   "nbconvert_exporter": "python",
   "pygments_lexer": "ipython3",
   "version": "3.6.3"
  }
 },
 "nbformat": 4,
 "nbformat_minor": 2
}
