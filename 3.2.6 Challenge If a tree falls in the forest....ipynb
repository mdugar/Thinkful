{
 "cells": [
  {
   "cell_type": "markdown",
   "metadata": {
    "collapsed": true
   },
   "source": [
    "## 3.2.6 Challenge: If a tree falls in the forest..."
   ]
  },
  {
   "cell_type": "markdown",
   "metadata": {},
   "source": [
    "## Problem Statement¶"
   ]
  },
  {
   "cell_type": "markdown",
   "metadata": {},
   "source": [
    "Now that you've learned about random forests and decision trees let's do an exercise in accuracy. You know that random forests are basically a collection of decision trees. But how do the accuracies of the two models compare?\n",
    "\n",
    "So here's what you should do. Pick a dataset. It could be one you've worked with before or it could be a new one. Then build the best decision tree you can.\n",
    "\n",
    "Now try to match that with the simplest random forest you can. For our purposes measure simplicity with runtime. Compare that to the runtime of the decision tree. This is imperfect but just go with it.\n",
    "\n",
    "Hopefully out of this you'll see the power of random forests, but also their potential costs. Remember, in the real world you won't necessarily be dealing with thousands of rows. It could be millions, billions, or even more."
   ]
  },
  {
   "cell_type": "code",
   "execution_count": 1,
   "metadata": {
    "collapsed": true
   },
   "outputs": [],
   "source": [
    "import pandas as pd\n",
    "import numpy as np\n",
    "import seaborn as sns\n",
    "from sklearn import ensemble # Random Forest model\n",
    "from sklearn.model_selection import cross_val_score\n",
    "from sklearn import tree # Decision tree model\n",
    "from IPython.display import Image # Display tree\n",
    "import pydotplus # Render tree\n",
    "import graphviz # Render tree\n",
    "import time\n",
    "import matplotlib.pyplot as plt\n",
    "%matplotlib inline"
   ]
  },
  {
   "cell_type": "code",
   "execution_count": 2,
   "metadata": {},
   "outputs": [
    {
     "name": "stdout",
     "output_type": "stream",
     "text": [
      "(18379, 6)\n"
     ]
    },
    {
     "data": {
      "text/html": [
       "<div>\n",
       "<style>\n",
       "    .dataframe thead tr:only-child th {\n",
       "        text-align: right;\n",
       "    }\n",
       "\n",
       "    .dataframe thead th {\n",
       "        text-align: left;\n",
       "    }\n",
       "\n",
       "    .dataframe tbody tr th {\n",
       "        vertical-align: top;\n",
       "    }\n",
       "</style>\n",
       "<table border=\"1\" class=\"dataframe\">\n",
       "  <thead>\n",
       "    <tr style=\"text-align: right;\">\n",
       "      <th></th>\n",
       "      <th>Time (ART)</th>\n",
       "      <th>Open</th>\n",
       "      <th>High</th>\n",
       "      <th>Low</th>\n",
       "      <th>Close</th>\n",
       "      <th>Volume</th>\n",
       "    </tr>\n",
       "  </thead>\n",
       "  <tbody>\n",
       "    <tr>\n",
       "      <th>0</th>\n",
       "      <td>2017.08.02 00:00:00</td>\n",
       "      <td>1.32039</td>\n",
       "      <td>1.32046</td>\n",
       "      <td>1.32001</td>\n",
       "      <td>1.32039</td>\n",
       "      <td>928.33</td>\n",
       "    </tr>\n",
       "    <tr>\n",
       "      <th>1</th>\n",
       "      <td>2017.08.02 00:15:00</td>\n",
       "      <td>1.32038</td>\n",
       "      <td>1.32044</td>\n",
       "      <td>1.31955</td>\n",
       "      <td>1.31980</td>\n",
       "      <td>885.60</td>\n",
       "    </tr>\n",
       "    <tr>\n",
       "      <th>2</th>\n",
       "      <td>2017.08.02 00:30:00</td>\n",
       "      <td>1.31978</td>\n",
       "      <td>1.32004</td>\n",
       "      <td>1.31952</td>\n",
       "      <td>1.31988</td>\n",
       "      <td>895.00</td>\n",
       "    </tr>\n",
       "    <tr>\n",
       "      <th>3</th>\n",
       "      <td>2017.08.02 00:45:00</td>\n",
       "      <td>1.31986</td>\n",
       "      <td>1.31997</td>\n",
       "      <td>1.31959</td>\n",
       "      <td>1.31979</td>\n",
       "      <td>492.38</td>\n",
       "    </tr>\n",
       "    <tr>\n",
       "      <th>4</th>\n",
       "      <td>2017.08.02 01:00:00</td>\n",
       "      <td>1.31979</td>\n",
       "      <td>1.32052</td>\n",
       "      <td>1.31965</td>\n",
       "      <td>1.32009</td>\n",
       "      <td>1461.16</td>\n",
       "    </tr>\n",
       "  </tbody>\n",
       "</table>\n",
       "</div>"
      ],
      "text/plain": [
       "            Time (ART)     Open     High      Low    Close  Volume \n",
       "0  2017.08.02 00:00:00  1.32039  1.32046  1.32001  1.32039   928.33\n",
       "1  2017.08.02 00:15:00  1.32038  1.32044  1.31955  1.31980   885.60\n",
       "2  2017.08.02 00:30:00  1.31978  1.32004  1.31952  1.31988   895.00\n",
       "3  2017.08.02 00:45:00  1.31986  1.31997  1.31959  1.31979   492.38\n",
       "4  2017.08.02 01:00:00  1.31979  1.32052  1.31965  1.32009  1461.16"
      ]
     },
     "metadata": {},
     "output_type": "display_data"
    }
   ],
   "source": [
    "data_GBP = '/home/mache/Desktop/Thinkful/Course/Unit 3/Forest/GBPUSD_15 Mins_Bid_2017.08.02_2018.04.26.csv'\n",
    "df_gbp = pd.read_csv(data_GBP)\n",
    "print (df_gbp.shape)\n",
    "display(df_gbp.head(5))"
   ]
  },
  {
   "cell_type": "code",
   "execution_count": 3,
   "metadata": {
    "scrolled": true
   },
   "outputs": [
    {
     "name": "stdout",
     "output_type": "stream",
     "text": [
      "(18379, 6)\n"
     ]
    },
    {
     "data": {
      "text/html": [
       "<div>\n",
       "<style>\n",
       "    .dataframe thead tr:only-child th {\n",
       "        text-align: right;\n",
       "    }\n",
       "\n",
       "    .dataframe thead th {\n",
       "        text-align: left;\n",
       "    }\n",
       "\n",
       "    .dataframe tbody tr th {\n",
       "        vertical-align: top;\n",
       "    }\n",
       "</style>\n",
       "<table border=\"1\" class=\"dataframe\">\n",
       "  <thead>\n",
       "    <tr style=\"text-align: right;\">\n",
       "      <th></th>\n",
       "      <th>Time (ART)</th>\n",
       "      <th>Open</th>\n",
       "      <th>High</th>\n",
       "      <th>Low</th>\n",
       "      <th>Close</th>\n",
       "      <th>Volume</th>\n",
       "    </tr>\n",
       "  </thead>\n",
       "  <tbody>\n",
       "    <tr>\n",
       "      <th>0</th>\n",
       "      <td>2017.08.02 00:00:00</td>\n",
       "      <td>7422.969</td>\n",
       "      <td>7422.969</td>\n",
       "      <td>7422.969</td>\n",
       "      <td>7422.969</td>\n",
       "      <td>0.0</td>\n",
       "    </tr>\n",
       "    <tr>\n",
       "      <th>1</th>\n",
       "      <td>2017.08.02 00:15:00</td>\n",
       "      <td>7422.969</td>\n",
       "      <td>7422.969</td>\n",
       "      <td>7422.969</td>\n",
       "      <td>7422.969</td>\n",
       "      <td>0.0</td>\n",
       "    </tr>\n",
       "    <tr>\n",
       "      <th>2</th>\n",
       "      <td>2017.08.02 00:30:00</td>\n",
       "      <td>7422.969</td>\n",
       "      <td>7422.969</td>\n",
       "      <td>7422.969</td>\n",
       "      <td>7422.969</td>\n",
       "      <td>0.0</td>\n",
       "    </tr>\n",
       "    <tr>\n",
       "      <th>3</th>\n",
       "      <td>2017.08.02 00:45:00</td>\n",
       "      <td>7422.969</td>\n",
       "      <td>7422.969</td>\n",
       "      <td>7422.969</td>\n",
       "      <td>7422.969</td>\n",
       "      <td>0.0</td>\n",
       "    </tr>\n",
       "    <tr>\n",
       "      <th>4</th>\n",
       "      <td>2017.08.02 01:00:00</td>\n",
       "      <td>7422.969</td>\n",
       "      <td>7422.969</td>\n",
       "      <td>7422.969</td>\n",
       "      <td>7422.969</td>\n",
       "      <td>0.0</td>\n",
       "    </tr>\n",
       "  </tbody>\n",
       "</table>\n",
       "</div>"
      ],
      "text/plain": [
       "            Time (ART)      Open      High       Low     Close  Volume \n",
       "0  2017.08.02 00:00:00  7422.969  7422.969  7422.969  7422.969      0.0\n",
       "1  2017.08.02 00:15:00  7422.969  7422.969  7422.969  7422.969      0.0\n",
       "2  2017.08.02 00:30:00  7422.969  7422.969  7422.969  7422.969      0.0\n",
       "3  2017.08.02 00:45:00  7422.969  7422.969  7422.969  7422.969      0.0\n",
       "4  2017.08.02 01:00:00  7422.969  7422.969  7422.969  7422.969      0.0"
      ]
     },
     "metadata": {},
     "output_type": "display_data"
    }
   ],
   "source": [
    "data_UKX = '/home/mache/Desktop/Thinkful/Course/Unit 3/Forest/GBRIDXGBP_15 Mins_Bid_2017.08.02_2018.04.26.csv'\n",
    "df_ukx = pd.read_csv(data_UKX)\n",
    "print (df_ukx.shape)\n",
    "display(df_ukx.head(5))"
   ]
  },
  {
   "cell_type": "code",
   "execution_count": 4,
   "metadata": {
    "collapsed": true
   },
   "outputs": [],
   "source": [
    "#Merging both datasets"
   ]
  },
  {
   "cell_type": "code",
   "execution_count": 5,
   "metadata": {
    "collapsed": true
   },
   "outputs": [],
   "source": [
    "df = pd.merge(df_gbp, df_ukx, on=['Time (ART)'])"
   ]
  },
  {
   "cell_type": "code",
   "execution_count": 6,
   "metadata": {},
   "outputs": [
    {
     "name": "stdout",
     "output_type": "stream",
     "text": [
      "(18379, 11)\n"
     ]
    },
    {
     "data": {
      "text/html": [
       "<div>\n",
       "<style>\n",
       "    .dataframe thead tr:only-child th {\n",
       "        text-align: right;\n",
       "    }\n",
       "\n",
       "    .dataframe thead th {\n",
       "        text-align: left;\n",
       "    }\n",
       "\n",
       "    .dataframe tbody tr th {\n",
       "        vertical-align: top;\n",
       "    }\n",
       "</style>\n",
       "<table border=\"1\" class=\"dataframe\">\n",
       "  <thead>\n",
       "    <tr style=\"text-align: right;\">\n",
       "      <th></th>\n",
       "      <th>Time (ART)</th>\n",
       "      <th>Open_x</th>\n",
       "      <th>High_x</th>\n",
       "      <th>Low_x</th>\n",
       "      <th>Close_x</th>\n",
       "      <th>Volume _x</th>\n",
       "      <th>Open_y</th>\n",
       "      <th>High_y</th>\n",
       "      <th>Low_y</th>\n",
       "      <th>Close_y</th>\n",
       "      <th>Volume _y</th>\n",
       "    </tr>\n",
       "  </thead>\n",
       "  <tbody>\n",
       "    <tr>\n",
       "      <th>0</th>\n",
       "      <td>2017.08.02 00:00:00</td>\n",
       "      <td>1.32039</td>\n",
       "      <td>1.32046</td>\n",
       "      <td>1.32001</td>\n",
       "      <td>1.32039</td>\n",
       "      <td>928.33</td>\n",
       "      <td>7422.969</td>\n",
       "      <td>7422.969</td>\n",
       "      <td>7422.969</td>\n",
       "      <td>7422.969</td>\n",
       "      <td>0.0</td>\n",
       "    </tr>\n",
       "    <tr>\n",
       "      <th>1</th>\n",
       "      <td>2017.08.02 00:15:00</td>\n",
       "      <td>1.32038</td>\n",
       "      <td>1.32044</td>\n",
       "      <td>1.31955</td>\n",
       "      <td>1.31980</td>\n",
       "      <td>885.60</td>\n",
       "      <td>7422.969</td>\n",
       "      <td>7422.969</td>\n",
       "      <td>7422.969</td>\n",
       "      <td>7422.969</td>\n",
       "      <td>0.0</td>\n",
       "    </tr>\n",
       "    <tr>\n",
       "      <th>2</th>\n",
       "      <td>2017.08.02 00:30:00</td>\n",
       "      <td>1.31978</td>\n",
       "      <td>1.32004</td>\n",
       "      <td>1.31952</td>\n",
       "      <td>1.31988</td>\n",
       "      <td>895.00</td>\n",
       "      <td>7422.969</td>\n",
       "      <td>7422.969</td>\n",
       "      <td>7422.969</td>\n",
       "      <td>7422.969</td>\n",
       "      <td>0.0</td>\n",
       "    </tr>\n",
       "    <tr>\n",
       "      <th>3</th>\n",
       "      <td>2017.08.02 00:45:00</td>\n",
       "      <td>1.31986</td>\n",
       "      <td>1.31997</td>\n",
       "      <td>1.31959</td>\n",
       "      <td>1.31979</td>\n",
       "      <td>492.38</td>\n",
       "      <td>7422.969</td>\n",
       "      <td>7422.969</td>\n",
       "      <td>7422.969</td>\n",
       "      <td>7422.969</td>\n",
       "      <td>0.0</td>\n",
       "    </tr>\n",
       "    <tr>\n",
       "      <th>4</th>\n",
       "      <td>2017.08.02 01:00:00</td>\n",
       "      <td>1.31979</td>\n",
       "      <td>1.32052</td>\n",
       "      <td>1.31965</td>\n",
       "      <td>1.32009</td>\n",
       "      <td>1461.16</td>\n",
       "      <td>7422.969</td>\n",
       "      <td>7422.969</td>\n",
       "      <td>7422.969</td>\n",
       "      <td>7422.969</td>\n",
       "      <td>0.0</td>\n",
       "    </tr>\n",
       "  </tbody>\n",
       "</table>\n",
       "</div>"
      ],
      "text/plain": [
       "            Time (ART)   Open_x   High_x    Low_x  Close_x  Volume _x  \\\n",
       "0  2017.08.02 00:00:00  1.32039  1.32046  1.32001  1.32039     928.33   \n",
       "1  2017.08.02 00:15:00  1.32038  1.32044  1.31955  1.31980     885.60   \n",
       "2  2017.08.02 00:30:00  1.31978  1.32004  1.31952  1.31988     895.00   \n",
       "3  2017.08.02 00:45:00  1.31986  1.31997  1.31959  1.31979     492.38   \n",
       "4  2017.08.02 01:00:00  1.31979  1.32052  1.31965  1.32009    1461.16   \n",
       "\n",
       "     Open_y    High_y     Low_y   Close_y  Volume _y  \n",
       "0  7422.969  7422.969  7422.969  7422.969        0.0  \n",
       "1  7422.969  7422.969  7422.969  7422.969        0.0  \n",
       "2  7422.969  7422.969  7422.969  7422.969        0.0  \n",
       "3  7422.969  7422.969  7422.969  7422.969        0.0  \n",
       "4  7422.969  7422.969  7422.969  7422.969        0.0  "
      ]
     },
     "metadata": {},
     "output_type": "display_data"
    }
   ],
   "source": [
    "print(df.shape)\n",
    "display(df.head(5))"
   ]
  },
  {
   "cell_type": "code",
   "execution_count": 7,
   "metadata": {},
   "outputs": [
    {
     "data": {
      "text/plain": [
       "Time (ART)     object\n",
       "Open_x        float64\n",
       "High_x        float64\n",
       "Low_x         float64\n",
       "Close_x       float64\n",
       "Volume _x     float64\n",
       "Open_y        float64\n",
       "High_y        float64\n",
       "Low_y         float64\n",
       "Close_y       float64\n",
       "Volume _y     float64\n",
       "dtype: object"
      ]
     },
     "execution_count": 7,
     "metadata": {},
     "output_type": "execute_result"
    }
   ],
   "source": [
    "df.dtypes"
   ]
  },
  {
   "cell_type": "code",
   "execution_count": 8,
   "metadata": {
    "collapsed": true
   },
   "outputs": [],
   "source": [
    "# Define X and Y\n",
    "X = df[['High_x', 'Low_x', 'Close_x', 'Volume _x', 'Open_y', 'High_y', 'Low_y', 'Close_y', 'Volume _y']]\n",
    "Y = df['Open_x']"
   ]
  },
  {
   "cell_type": "markdown",
   "metadata": {},
   "source": [
    "## Decision Tree"
   ]
  },
  {
   "cell_type": "code",
   "execution_count": 9,
   "metadata": {},
   "outputs": [
    {
     "data": {
      "text/plain": [
       "array([ 0.8134119 ,  0.99550563,  0.99562141,  0.99131817,  0.99788215])"
      ]
     },
     "metadata": {},
     "output_type": "display_data"
    },
    {
     "name": "stdout",
     "output_type": "stream",
     "text": [
      "Decision Tree runtime: 0.7497870922088623\n"
     ]
    }
   ],
   "source": [
    "# Initialize and train our tree.\n",
    "dt_start_time = time.time()\n",
    "decision_tree = tree.DecisionTreeRegressor(\n",
    "    criterion='mse',\n",
    "    max_features=9,\n",
    "    max_depth=9,\n",
    "    random_state = 1337\n",
    ")\n",
    "decision_tree.fit(X, Y)\n",
    "display(cross_val_score(decision_tree, X, Y, cv = 5))\n",
    "print (\"Decision Tree runtime: {}\".format(time.time() - dt_start_time))"
   ]
  },
  {
   "cell_type": "code",
   "execution_count": 10,
   "metadata": {},
   "outputs": [
    {
     "name": "stdout",
     "output_type": "stream",
     "text": [
      "dot: graph is too large for cairo-renderer bitmaps. Scaling by 0.640318 to fit\n",
      "\n"
     ]
    },
    {
     "name": "stderr",
     "output_type": "stream",
     "text": [
      "IOPub data rate exceeded.\n",
      "The notebook server will temporarily stop sending output\n",
      "to the client in order to avoid crashing it.\n",
      "To change this limit, set the config variable\n",
      "`--NotebookApp.iopub_data_rate_limit`.\n"
     ]
    }
   ],
   "source": [
    "# Render our tree.\n",
    "dot_data = tree.export_graphviz(\n",
    "    decision_tree, out_file=None,\n",
    "    feature_names=X.columns,\n",
    "    class_names=['Not Returning', 'Returning'],\n",
    "    filled=True\n",
    ")\n",
    "graph = pydotplus.graph_from_dot_data(dot_data)\n",
    "Image(graph.create_png())"
   ]
  },
  {
   "cell_type": "markdown",
   "metadata": {},
   "source": [
    "## Random Forest"
   ]
  },
  {
   "cell_type": "code",
   "execution_count": 11,
   "metadata": {},
   "outputs": [
    {
     "data": {
      "text/plain": [
       "array([ 0.8014332 ,  0.99778579,  0.99768062,  0.99541322,  0.99811447])"
      ]
     },
     "metadata": {},
     "output_type": "display_data"
    },
    {
     "name": "stdout",
     "output_type": "stream",
     "text": [
      "Random Forest runtime: 3.685774087905884\n"
     ]
    }
   ],
   "source": [
    "# Random Forest\n",
    "rf_start_time = time.time()\n",
    "rfc = ensemble.RandomForestRegressor()\n",
    "display(cross_val_score(rfc, X, Y, cv=5))\n",
    "print (\"Random Forest runtime: {}\".format(time.time() - rf_start_time))"
   ]
  },
  {
   "cell_type": "code",
   "execution_count": 12,
   "metadata": {},
   "outputs": [
    {
     "name": "stdout",
     "output_type": "stream",
     "text": [
      "5.264935917106349\n"
     ]
    }
   ],
   "source": [
    "print(3.370710611343384/0.6402187347412109)"
   ]
  },
  {
   "cell_type": "markdown",
   "metadata": {},
   "source": [
    "## write-up"
   ]
  },
  {
   "cell_type": "markdown",
   "metadata": {},
   "source": [
    "The objective of this training was to predict the Open price for the GBPUSD foreign exchange market in the 15 minute time frame.\n",
    "\n",
    "I downloaded approximately 6 months worth of data from GBPUSD, and for the same period time and time frame, I downloaded the FTSE100 price market.\n",
    "\n",
    "As the FTSE 100, is a share index that broadly consists of the largest 100 qualifying UK companies by full market value, I though in using it's data to correlated with the GBPUSD market price.\n",
    "\n",
    "I merged both datasets by TIME, defined X and Y as my data and target dataframes.\n",
    "\n",
    "After merging, I constructed a Regression Decision Tree, as the data is consists of continuos values. I defined the max features to 9, corresponding to the data dataframe and, define the depth, after trying different ones, to 9.\n",
    "\n",
    "I tried visualizing my Decision Tree, but it was too large for the default parameters of Jupyter Notebook to handle. The results were interesting, with an accuracy of approximately 99%.\n",
    "\n",
    "I also constructed a Random Forest based on Regression, which had also a great accuracy, of approximately 99%, however, the running time was more than 5 times the running time of the decision tree."
   ]
  }
 ],
 "metadata": {
  "kernelspec": {
   "display_name": "Python 3",
   "language": "python",
   "name": "python3"
  },
  "language_info": {
   "codemirror_mode": {
    "name": "ipython",
    "version": 3
   },
   "file_extension": ".py",
   "mimetype": "text/x-python",
   "name": "python",
   "nbconvert_exporter": "python",
   "pygments_lexer": "ipython3",
   "version": "3.6.3"
  }
 },
 "nbformat": 4,
 "nbformat_minor": 2
}
