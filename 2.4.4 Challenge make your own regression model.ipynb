{
 "cells": [
  {
   "cell_type": "markdown",
   "metadata": {},
   "source": [
    "## 2.4.4 Challenge: make your own regression model"
   ]
  },
  {
   "cell_type": "code",
   "execution_count": 1,
   "metadata": {
    "collapsed": true
   },
   "outputs": [],
   "source": [
    "import pandas as pd\n",
    "from matplotlib import pyplot as plt\n",
    "import numpy as np\n",
    "import sklearn\n",
    "from sklearn import linear_model\n",
    "%matplotlib inline\n",
    "pd.options.display.float_format = '{:.3f}'.format\n",
    "import seaborn as sns\n",
    "import math\n",
    "from matplotlib.mlab import PCA as mlabPCA\n",
    "from sklearn.preprocessing import StandardScaler\n",
    "from sklearn.decomposition import PCA\n",
    "from sklearn import preprocessing\n",
    "from sklearn.feature_selection import SelectKBest\n",
    "import warnings\n",
    "warnings.filterwarnings(action='ignore', module='scipy', message='^internal gelsd')"
   ]
  },
  {
   "cell_type": "code",
   "execution_count": 2,
   "metadata": {},
   "outputs": [
    {
     "data": {
      "text/html": [
       "<div>\n",
       "<style>\n",
       "    .dataframe thead tr:only-child th {\n",
       "        text-align: right;\n",
       "    }\n",
       "\n",
       "    .dataframe thead th {\n",
       "        text-align: left;\n",
       "    }\n",
       "\n",
       "    .dataframe tbody tr th {\n",
       "        vertical-align: top;\n",
       "    }\n",
       "</style>\n",
       "<table border=\"1\" class=\"dataframe\">\n",
       "  <thead>\n",
       "    <tr style=\"text-align: right;\">\n",
       "      <th></th>\n",
       "      <th>City</th>\n",
       "      <th>Population</th>\n",
       "      <th>Violent\n",
       "crime</th>\n",
       "      <th>Murder</th>\n",
       "      <th>Rape\n",
       "(revised\n",
       "definition)1</th>\n",
       "      <th>Rape\n",
       "(legacy\n",
       "definition)2</th>\n",
       "      <th>Robbery</th>\n",
       "      <th>Aggravated\n",
       "assault</th>\n",
       "      <th>Property\n",
       "crime</th>\n",
       "      <th>Burglary</th>\n",
       "      <th>Larceny-\n",
       "theft</th>\n",
       "      <th>Motor\n",
       "vehicle\n",
       "theft</th>\n",
       "      <th>Arson3</th>\n",
       "    </tr>\n",
       "  </thead>\n",
       "  <tbody>\n",
       "    <tr>\n",
       "      <th>0</th>\n",
       "      <td>Adams Village</td>\n",
       "      <td>1,861</td>\n",
       "      <td>0</td>\n",
       "      <td>0.000</td>\n",
       "      <td>nan</td>\n",
       "      <td>0</td>\n",
       "      <td>0</td>\n",
       "      <td>0</td>\n",
       "      <td>12</td>\n",
       "      <td>2</td>\n",
       "      <td>10</td>\n",
       "      <td>0</td>\n",
       "      <td>0.000</td>\n",
       "    </tr>\n",
       "    <tr>\n",
       "      <th>1</th>\n",
       "      <td>Addison Town and Village</td>\n",
       "      <td>2,577</td>\n",
       "      <td>3</td>\n",
       "      <td>0.000</td>\n",
       "      <td>nan</td>\n",
       "      <td>0</td>\n",
       "      <td>0</td>\n",
       "      <td>3</td>\n",
       "      <td>24</td>\n",
       "      <td>3</td>\n",
       "      <td>20</td>\n",
       "      <td>1</td>\n",
       "      <td>0.000</td>\n",
       "    </tr>\n",
       "    <tr>\n",
       "      <th>2</th>\n",
       "      <td>Akron Village</td>\n",
       "      <td>2,846</td>\n",
       "      <td>3</td>\n",
       "      <td>0.000</td>\n",
       "      <td>nan</td>\n",
       "      <td>0</td>\n",
       "      <td>0</td>\n",
       "      <td>3</td>\n",
       "      <td>16</td>\n",
       "      <td>1</td>\n",
       "      <td>15</td>\n",
       "      <td>0</td>\n",
       "      <td>0.000</td>\n",
       "    </tr>\n",
       "    <tr>\n",
       "      <th>3</th>\n",
       "      <td>Albany</td>\n",
       "      <td>97,956</td>\n",
       "      <td>791</td>\n",
       "      <td>8.000</td>\n",
       "      <td>nan</td>\n",
       "      <td>30</td>\n",
       "      <td>227</td>\n",
       "      <td>526</td>\n",
       "      <td>4,090</td>\n",
       "      <td>705</td>\n",
       "      <td>3,243</td>\n",
       "      <td>142</td>\n",
       "      <td>nan</td>\n",
       "    </tr>\n",
       "    <tr>\n",
       "      <th>4</th>\n",
       "      <td>Albion Village</td>\n",
       "      <td>6,388</td>\n",
       "      <td>23</td>\n",
       "      <td>0.000</td>\n",
       "      <td>nan</td>\n",
       "      <td>3</td>\n",
       "      <td>4</td>\n",
       "      <td>16</td>\n",
       "      <td>223</td>\n",
       "      <td>53</td>\n",
       "      <td>165</td>\n",
       "      <td>5</td>\n",
       "      <td>nan</td>\n",
       "    </tr>\n",
       "  </tbody>\n",
       "</table>\n",
       "</div>"
      ],
      "text/plain": [
       "                       City Population Violent\\ncrime  Murder  \\\n",
       "0             Adams Village      1,861              0   0.000   \n",
       "1  Addison Town and Village      2,577              3   0.000   \n",
       "2             Akron Village      2,846              3   0.000   \n",
       "3                    Albany     97,956            791   8.000   \n",
       "4            Albion Village      6,388             23   0.000   \n",
       "\n",
       "   Rape\\n(revised\\ndefinition)1 Rape\\n(legacy\\ndefinition)2 Robbery  \\\n",
       "0                           nan                           0       0   \n",
       "1                           nan                           0       0   \n",
       "2                           nan                           0       0   \n",
       "3                           nan                          30     227   \n",
       "4                           nan                           3       4   \n",
       "\n",
       "  Aggravated\\nassault Property\\ncrime Burglary Larceny-\\ntheft  \\\n",
       "0                   0              12        2              10   \n",
       "1                   3              24        3              20   \n",
       "2                   3              16        1              15   \n",
       "3                 526           4,090      705           3,243   \n",
       "4                  16             223       53             165   \n",
       "\n",
       "  Motor\\nvehicle\\ntheft  Arson3  \n",
       "0                     0   0.000  \n",
       "1                     1   0.000  \n",
       "2                     0   0.000  \n",
       "3                   142     nan  \n",
       "4                     5     nan  "
      ]
     },
     "execution_count": 2,
     "metadata": {},
     "output_type": "execute_result"
    }
   ],
   "source": [
    "#Data\n",
    "df = pd.read_csv('ny_off.csv')\n",
    "df.head()"
   ]
  },
  {
   "cell_type": "code",
   "execution_count": 3,
   "metadata": {
    "scrolled": true
   },
   "outputs": [
    {
     "data": {
      "text/plain": [
       "City                             object\n",
       "Population                       object\n",
       "Violent\\ncrime                   object\n",
       "Murder                          float64\n",
       "Rape\\n(revised\\ndefinition)1    float64\n",
       "Rape\\n(legacy\\ndefinition)2      object\n",
       "Robbery                          object\n",
       "Aggravated\\nassault              object\n",
       "Property\\ncrime                  object\n",
       "Burglary                         object\n",
       "Larceny-\\ntheft                  object\n",
       "Motor\\nvehicle\\ntheft            object\n",
       "Arson3                          float64\n",
       "dtype: object"
      ]
     },
     "execution_count": 3,
     "metadata": {},
     "output_type": "execute_result"
    }
   ],
   "source": [
    "df.dtypes"
   ]
  },
  {
   "cell_type": "code",
   "execution_count": 4,
   "metadata": {
    "collapsed": true
   },
   "outputs": [],
   "source": [
    "#Replace \",\" with nothing\n",
    "def convert_number(number):\n",
    "    try:\n",
    "        converted = float(number.replace(',', ''))\n",
    "    except:\n",
    "        converted = number\n",
    "    \n",
    "    return converted"
   ]
  },
  {
   "cell_type": "code",
   "execution_count": 5,
   "metadata": {
    "collapsed": true
   },
   "outputs": [],
   "source": [
    "df.fillna(0)\n",
    "df['Population'] = df['Population'].apply(lambda x: convert_number(x))\n",
    "df['Murder'] = df['Murder'].apply(lambda x: convert_number(x))\n",
    "df['Robbery'] = df['Robbery'].apply(lambda x: convert_number(x))\n",
    "df['Property\\ncrime'] = df['Property\\ncrime'].apply(lambda x: convert_number(x))\n",
    "df['Larceny-\\ntheft'] = df['Larceny-\\ntheft'].apply(lambda x: convert_number(x))"
   ]
  },
  {
   "cell_type": "code",
   "execution_count": 6,
   "metadata": {},
   "outputs": [
    {
     "data": {
      "text/plain": [
       "City                             object\n",
       "Population                      float64\n",
       "Violent\\ncrime                   object\n",
       "Murder                          float64\n",
       "Rape\\n(revised\\ndefinition)1    float64\n",
       "Rape\\n(legacy\\ndefinition)2      object\n",
       "Robbery                         float64\n",
       "Aggravated\\nassault              object\n",
       "Property\\ncrime                 float64\n",
       "Burglary                         object\n",
       "Larceny-\\ntheft                 float64\n",
       "Motor\\nvehicle\\ntheft            object\n",
       "Arson3                          float64\n",
       "dtype: object"
      ]
     },
     "execution_count": 6,
     "metadata": {},
     "output_type": "execute_result"
    }
   ],
   "source": [
    "df.dtypes"
   ]
  },
  {
   "cell_type": "code",
   "execution_count": 7,
   "metadata": {},
   "outputs": [
    {
     "data": {
      "text/html": [
       "<div>\n",
       "<style>\n",
       "    .dataframe thead tr:only-child th {\n",
       "        text-align: right;\n",
       "    }\n",
       "\n",
       "    .dataframe thead th {\n",
       "        text-align: left;\n",
       "    }\n",
       "\n",
       "    .dataframe tbody tr th {\n",
       "        vertical-align: top;\n",
       "    }\n",
       "</style>\n",
       "<table border=\"1\" class=\"dataframe\">\n",
       "  <thead>\n",
       "    <tr style=\"text-align: right;\">\n",
       "      <th></th>\n",
       "      <th>City</th>\n",
       "      <th>Population</th>\n",
       "      <th>Violent\n",
       "crime</th>\n",
       "      <th>Murder</th>\n",
       "      <th>Rape\n",
       "(revised\n",
       "definition)1</th>\n",
       "      <th>Rape\n",
       "(legacy\n",
       "definition)2</th>\n",
       "      <th>Robbery</th>\n",
       "      <th>Aggravated\n",
       "assault</th>\n",
       "      <th>Property\n",
       "crime</th>\n",
       "      <th>Burglary</th>\n",
       "      <th>Larceny-\n",
       "theft</th>\n",
       "      <th>Motor\n",
       "vehicle\n",
       "theft</th>\n",
       "      <th>Arson3</th>\n",
       "    </tr>\n",
       "  </thead>\n",
       "  <tbody>\n",
       "    <tr>\n",
       "      <th>0</th>\n",
       "      <td>Adams Village</td>\n",
       "      <td>1861.000</td>\n",
       "      <td>0</td>\n",
       "      <td>0.000</td>\n",
       "      <td>nan</td>\n",
       "      <td>0</td>\n",
       "      <td>0.000</td>\n",
       "      <td>0</td>\n",
       "      <td>12.000</td>\n",
       "      <td>2</td>\n",
       "      <td>10.000</td>\n",
       "      <td>0</td>\n",
       "      <td>0.000</td>\n",
       "    </tr>\n",
       "    <tr>\n",
       "      <th>1</th>\n",
       "      <td>Addison Town and Village</td>\n",
       "      <td>2577.000</td>\n",
       "      <td>3</td>\n",
       "      <td>0.000</td>\n",
       "      <td>nan</td>\n",
       "      <td>0</td>\n",
       "      <td>0.000</td>\n",
       "      <td>3</td>\n",
       "      <td>24.000</td>\n",
       "      <td>3</td>\n",
       "      <td>20.000</td>\n",
       "      <td>1</td>\n",
       "      <td>0.000</td>\n",
       "    </tr>\n",
       "    <tr>\n",
       "      <th>2</th>\n",
       "      <td>Akron Village</td>\n",
       "      <td>2846.000</td>\n",
       "      <td>3</td>\n",
       "      <td>0.000</td>\n",
       "      <td>nan</td>\n",
       "      <td>0</td>\n",
       "      <td>0.000</td>\n",
       "      <td>3</td>\n",
       "      <td>16.000</td>\n",
       "      <td>1</td>\n",
       "      <td>15.000</td>\n",
       "      <td>0</td>\n",
       "      <td>0.000</td>\n",
       "    </tr>\n",
       "    <tr>\n",
       "      <th>3</th>\n",
       "      <td>Albany</td>\n",
       "      <td>97956.000</td>\n",
       "      <td>791</td>\n",
       "      <td>8.000</td>\n",
       "      <td>nan</td>\n",
       "      <td>30</td>\n",
       "      <td>227.000</td>\n",
       "      <td>526</td>\n",
       "      <td>4090.000</td>\n",
       "      <td>705</td>\n",
       "      <td>3243.000</td>\n",
       "      <td>142</td>\n",
       "      <td>nan</td>\n",
       "    </tr>\n",
       "    <tr>\n",
       "      <th>4</th>\n",
       "      <td>Albion Village</td>\n",
       "      <td>6388.000</td>\n",
       "      <td>23</td>\n",
       "      <td>0.000</td>\n",
       "      <td>nan</td>\n",
       "      <td>3</td>\n",
       "      <td>4.000</td>\n",
       "      <td>16</td>\n",
       "      <td>223.000</td>\n",
       "      <td>53</td>\n",
       "      <td>165.000</td>\n",
       "      <td>5</td>\n",
       "      <td>nan</td>\n",
       "    </tr>\n",
       "  </tbody>\n",
       "</table>\n",
       "</div>"
      ],
      "text/plain": [
       "                       City  Population Violent\\ncrime  Murder  \\\n",
       "0             Adams Village    1861.000              0   0.000   \n",
       "1  Addison Town and Village    2577.000              3   0.000   \n",
       "2             Akron Village    2846.000              3   0.000   \n",
       "3                    Albany   97956.000            791   8.000   \n",
       "4            Albion Village    6388.000             23   0.000   \n",
       "\n",
       "   Rape\\n(revised\\ndefinition)1 Rape\\n(legacy\\ndefinition)2  Robbery  \\\n",
       "0                           nan                           0    0.000   \n",
       "1                           nan                           0    0.000   \n",
       "2                           nan                           0    0.000   \n",
       "3                           nan                          30  227.000   \n",
       "4                           nan                           3    4.000   \n",
       "\n",
       "  Aggravated\\nassault  Property\\ncrime Burglary  Larceny-\\ntheft  \\\n",
       "0                   0           12.000        2           10.000   \n",
       "1                   3           24.000        3           20.000   \n",
       "2                   3           16.000        1           15.000   \n",
       "3                 526         4090.000      705         3243.000   \n",
       "4                  16          223.000       53          165.000   \n",
       "\n",
       "  Motor\\nvehicle\\ntheft  Arson3  \n",
       "0                     0   0.000  \n",
       "1                     1   0.000  \n",
       "2                     0   0.000  \n",
       "3                   142     nan  \n",
       "4                     5     nan  "
      ]
     },
     "execution_count": 7,
     "metadata": {},
     "output_type": "execute_result"
    }
   ],
   "source": [
    "df.head()"
   ]
  },
  {
   "cell_type": "code",
   "execution_count": 8,
   "metadata": {},
   "outputs": [
    {
     "data": {
      "image/png": "[encoded data removed]",
      "text/plain": [
       "<matplotlib.figure.Figure at 0x7f77011bf630>"
      ]
     },
     "metadata": {},
     "output_type": "display_data"
    },
    {
     "name": "stdout",
     "output_type": "stream",
     "text": [
      "Median  7233.5\n",
      "Std  450037.3675209857\n",
      "Outliers above  907308.2350419714\n"
     ]
    },
    {
     "data": {
      "image/png": "[encoded data removed]",
      "text/plain": [
       "<matplotlib.figure.Figure at 0x7f76f9d49208>"
      ]
     },
     "metadata": {},
     "output_type": "display_data"
    },
    {
     "name": "stdout",
     "output_type": "stream",
     "text": [
      "Median  0.0\n",
      "Std  18.303672792887784\n",
      "Outliers above  36.60734558577557\n"
     ]
    },
    {
     "data": {
      "image/png": "[encoded data removed]",
      "text/plain": [
       "<matplotlib.figure.Figure at 0x7f76f9bff128>"
      ]
     },
     "metadata": {},
     "output_type": "display_data"
    },
    {
     "name": "stdout",
     "output_type": "stream",
     "text": [
      "Median  1.0\n",
      "Std  1031.032873295524\n",
      "Outliers above  2063.065746591048\n"
     ]
    },
    {
     "data": {
      "image/png": "[encoded data removed]",
      "text/plain": [
       "<matplotlib.figure.Figure at 0x7f76f9bb7f28>"
      ]
     },
     "metadata": {},
     "output_type": "display_data"
    },
    {
     "name": "stdout",
     "output_type": "stream",
     "text": [
      "Median  112.5\n",
      "Std  7659.724745633146\n",
      "Outliers above  15431.949491266292\n"
     ]
    }
   ],
   "source": [
    "#Distributions of variables\n",
    "df['Population'].hist(bins=100)\n",
    "plt.title('Population')\n",
    "plt.show()\n",
    "\n",
    "#Median, standard deviation and the limit for outliers\n",
    "median = df.Population.median()\n",
    "std = df.Population.std()\n",
    "pop_out = median + 2* std\n",
    "\n",
    "print('Median ', median)\n",
    "print('Std ', std)\n",
    "print('Outliers above ', pop_out)\n",
    "\n",
    "df['Murder'].hist(bins=20)\n",
    "plt.title('Murders')\n",
    "plt.show()\n",
    "\n",
    "median = df['Murder'].median()\n",
    "std = df['Murder'].std()\n",
    "mur_out = median + 2* std\n",
    "\n",
    "print('Median ', median)\n",
    "print('Std ', std)\n",
    "print('Outliers above ', mur_out)\n",
    "\n",
    "df['Robbery'].hist(bins=20)\n",
    "plt.title('Robberies')\n",
    "plt.show()\n",
    "\n",
    "median = df.Robbery.median()\n",
    "std = df.Robbery.std()\n",
    "rob_out = median + 2* std\n",
    "\n",
    "print('Median ', median)\n",
    "print('Std ', std)\n",
    "print('Outliers above ', rob_out)\n",
    "\n",
    "df['Property\\ncrime'].hist(bins=20)\n",
    "plt.title('Property Crime')\n",
    "plt.show()\n",
    "\n",
    "median = df['Property\\ncrime'].median()\n",
    "std = df['Property\\ncrime'].std()\n",
    "prop_out = median + 2* std\n",
    "\n",
    "print('Median ', median)\n",
    "print('Std ', std)\n",
    "print('Outliers above ', prop_out)"
   ]
  },
  {
   "cell_type": "markdown",
   "metadata": {},
   "source": [
    "##### Some outliers must be removed."
   ]
  },
  {
   "cell_type": "code",
   "execution_count": 9,
   "metadata": {
    "collapsed": true
   },
   "outputs": [],
   "source": [
    "#Turning outliers into None\n",
    "df['Population'] = df.Population.map(lambda x: x if x < pop_out else None)\n",
    "df['Murder'] = df.Murder.map(lambda x: x if x < mur_out else None)\n",
    "df['Robbery'] = df.Robbery.map(lambda x: x if x < rob_out else None)\n",
    "df['Property\\ncrime'] = df['Property\\ncrime'].map(lambda x: x if x < prop_out else None)"
   ]
  },
  {
   "cell_type": "code",
   "execution_count": 10,
   "metadata": {},
   "outputs": [
    {
     "name": "stdout",
     "output_type": "stream",
     "text": [
      "35    258789.000\n",
      "272   210562.000\n",
      "346   199134.000\n",
      "310   143834.000\n",
      "7     118296.000\n",
      "Name: Population, dtype: float64\n",
      "310   21.000\n",
      "140   10.000\n",
      "3      8.000\n",
      "285    8.000\n",
      "321    7.000\n",
      "Name: Murder, dtype: float64\n",
      "35    1322.000\n",
      "272    918.000\n",
      "310    400.000\n",
      "346    390.000\n",
      "206    228.000\n",
      "Name: Robbery, dtype: float64\n",
      "35    12491.000\n",
      "272   10051.000\n",
      "310    6473.000\n",
      "3      4090.000\n",
      "218    2807.000\n",
      "Name: Property\\ncrime, dtype: float64\n"
     ]
    }
   ],
   "source": [
    "#Highest values\n",
    "print(df.Population.dropna().sort_values(ascending=False).head())\n",
    "print(df['Murder'].dropna().sort_values(ascending=False).head())\n",
    "print(df.Robbery.dropna().sort_values(ascending=False).head())\n",
    "print(df['Property\\ncrime'].dropna().sort_values(ascending=False).head())"
   ]
  },
  {
   "cell_type": "code",
   "execution_count": 11,
   "metadata": {},
   "outputs": [
    {
     "data": {
      "image/png": "[encoded data removed]",
      "text/plain": [
       "<matplotlib.figure.Figure at 0x7f76f9c049e8>"
      ]
     },
     "metadata": {},
     "output_type": "display_data"
    }
   ],
   "source": [
    "#Post outlier removal\n",
    "plt.figure(figsize=(10,10))\n",
    "plt.subplot(221)\n",
    "df['Population'].hist(bins=100)\n",
    "plt.title('Population')\n",
    "\n",
    "plt.subplot(222)\n",
    "df['Murder'].hist(bins=50)\n",
    "plt.title('Murders')\n",
    "\n",
    "plt.subplot(223)\n",
    "df['Robbery'].hist(bins=50)\n",
    "plt.title('Robberies')\n",
    "\n",
    "plt.subplot(224)\n",
    "df['Property\\ncrime'].hist(bins=50)\n",
    "plt.title('Property Crime')\n",
    "\n",
    "plt.show()"
   ]
  },
  {
   "cell_type": "code",
   "execution_count": 12,
   "metadata": {},
   "outputs": [
    {
     "data": {
      "image/png": "[encoded data removed]",
      "text/plain": [
       "<matplotlib.figure.Figure at 0x7f77011b2b38>"
      ]
     },
     "metadata": {},
     "output_type": "display_data"
    }
   ],
   "source": [
    "#Feature: Population squared\n",
    "df['PopSq'] = df['Population']**2\n",
    "df['PopSq'].hist()\n",
    "plt.title('Population Squared in NYC')\n",
    "plt.show()"
   ]
  },
  {
   "cell_type": "code",
   "execution_count": 13,
   "metadata": {
    "collapsed": true
   },
   "outputs": [],
   "source": [
    "#Defining categorical converting function\n",
    "\n",
    "def convert_category(number):\n",
    "    value = convert_number(number)\n",
    "    \n",
    "    if value>0:\n",
    "        return 1\n",
    "    else:\n",
    "        return 0"
   ]
  },
  {
   "cell_type": "code",
   "execution_count": 14,
   "metadata": {},
   "outputs": [
    {
     "data": {
      "text/html": [
       "<div>\n",
       "<style>\n",
       "    .dataframe thead tr:only-child th {\n",
       "        text-align: right;\n",
       "    }\n",
       "\n",
       "    .dataframe thead th {\n",
       "        text-align: left;\n",
       "    }\n",
       "\n",
       "    .dataframe tbody tr th {\n",
       "        vertical-align: top;\n",
       "    }\n",
       "</style>\n",
       "<table border=\"1\" class=\"dataframe\">\n",
       "  <thead>\n",
       "    <tr style=\"text-align: right;\">\n",
       "      <th></th>\n",
       "      <th>City</th>\n",
       "      <th>Population</th>\n",
       "      <th>Violent\n",
       "crime</th>\n",
       "      <th>Murder</th>\n",
       "      <th>Rape\n",
       "(revised\n",
       "definition)1</th>\n",
       "      <th>Rape\n",
       "(legacy\n",
       "definition)2</th>\n",
       "      <th>Robbery</th>\n",
       "      <th>Aggravated\n",
       "assault</th>\n",
       "      <th>Property\n",
       "crime</th>\n",
       "      <th>Burglary</th>\n",
       "      <th>Larceny-\n",
       "theft</th>\n",
       "      <th>Motor\n",
       "vehicle\n",
       "theft</th>\n",
       "      <th>Arson3</th>\n",
       "      <th>PopSq</th>\n",
       "      <th>Murder_categorical</th>\n",
       "      <th>Robbery_categorical</th>\n",
       "    </tr>\n",
       "  </thead>\n",
       "  <tbody>\n",
       "    <tr>\n",
       "      <th>0</th>\n",
       "      <td>Adams Village</td>\n",
       "      <td>1861.000</td>\n",
       "      <td>0</td>\n",
       "      <td>0.000</td>\n",
       "      <td>nan</td>\n",
       "      <td>0</td>\n",
       "      <td>0.000</td>\n",
       "      <td>0</td>\n",
       "      <td>12.000</td>\n",
       "      <td>2</td>\n",
       "      <td>10.000</td>\n",
       "      <td>0</td>\n",
       "      <td>0.000</td>\n",
       "      <td>3463321.000</td>\n",
       "      <td>0</td>\n",
       "      <td>0</td>\n",
       "    </tr>\n",
       "    <tr>\n",
       "      <th>1</th>\n",
       "      <td>Addison Town and Village</td>\n",
       "      <td>2577.000</td>\n",
       "      <td>3</td>\n",
       "      <td>0.000</td>\n",
       "      <td>nan</td>\n",
       "      <td>0</td>\n",
       "      <td>0.000</td>\n",
       "      <td>3</td>\n",
       "      <td>24.000</td>\n",
       "      <td>3</td>\n",
       "      <td>20.000</td>\n",
       "      <td>1</td>\n",
       "      <td>0.000</td>\n",
       "      <td>6640929.000</td>\n",
       "      <td>0</td>\n",
       "      <td>0</td>\n",
       "    </tr>\n",
       "    <tr>\n",
       "      <th>2</th>\n",
       "      <td>Akron Village</td>\n",
       "      <td>2846.000</td>\n",
       "      <td>3</td>\n",
       "      <td>0.000</td>\n",
       "      <td>nan</td>\n",
       "      <td>0</td>\n",
       "      <td>0.000</td>\n",
       "      <td>3</td>\n",
       "      <td>16.000</td>\n",
       "      <td>1</td>\n",
       "      <td>15.000</td>\n",
       "      <td>0</td>\n",
       "      <td>0.000</td>\n",
       "      <td>8099716.000</td>\n",
       "      <td>0</td>\n",
       "      <td>0</td>\n",
       "    </tr>\n",
       "    <tr>\n",
       "      <th>3</th>\n",
       "      <td>Albany</td>\n",
       "      <td>97956.000</td>\n",
       "      <td>791</td>\n",
       "      <td>8.000</td>\n",
       "      <td>nan</td>\n",
       "      <td>30</td>\n",
       "      <td>227.000</td>\n",
       "      <td>526</td>\n",
       "      <td>4090.000</td>\n",
       "      <td>705</td>\n",
       "      <td>3243.000</td>\n",
       "      <td>142</td>\n",
       "      <td>nan</td>\n",
       "      <td>9595377936.000</td>\n",
       "      <td>1</td>\n",
       "      <td>1</td>\n",
       "    </tr>\n",
       "    <tr>\n",
       "      <th>4</th>\n",
       "      <td>Albion Village</td>\n",
       "      <td>6388.000</td>\n",
       "      <td>23</td>\n",
       "      <td>0.000</td>\n",
       "      <td>nan</td>\n",
       "      <td>3</td>\n",
       "      <td>4.000</td>\n",
       "      <td>16</td>\n",
       "      <td>223.000</td>\n",
       "      <td>53</td>\n",
       "      <td>165.000</td>\n",
       "      <td>5</td>\n",
       "      <td>nan</td>\n",
       "      <td>40806544.000</td>\n",
       "      <td>0</td>\n",
       "      <td>1</td>\n",
       "    </tr>\n",
       "  </tbody>\n",
       "</table>\n",
       "</div>"
      ],
      "text/plain": [
       "                       City  Population Violent\\ncrime  Murder  \\\n",
       "0             Adams Village    1861.000              0   0.000   \n",
       "1  Addison Town and Village    2577.000              3   0.000   \n",
       "2             Akron Village    2846.000              3   0.000   \n",
       "3                    Albany   97956.000            791   8.000   \n",
       "4            Albion Village    6388.000             23   0.000   \n",
       "\n",
       "   Rape\\n(revised\\ndefinition)1 Rape\\n(legacy\\ndefinition)2  Robbery  \\\n",
       "0                           nan                           0    0.000   \n",
       "1                           nan                           0    0.000   \n",
       "2                           nan                           0    0.000   \n",
       "3                           nan                          30  227.000   \n",
       "4                           nan                           3    4.000   \n",
       "\n",
       "  Aggravated\\nassault  Property\\ncrime Burglary  Larceny-\\ntheft  \\\n",
       "0                   0           12.000        2           10.000   \n",
       "1                   3           24.000        3           20.000   \n",
       "2                   3           16.000        1           15.000   \n",
       "3                 526         4090.000      705         3243.000   \n",
       "4                  16          223.000       53          165.000   \n",
       "\n",
       "  Motor\\nvehicle\\ntheft  Arson3          PopSq  Murder_categorical  \\\n",
       "0                     0   0.000    3463321.000                   0   \n",
       "1                     1   0.000    6640929.000                   0   \n",
       "2                     0   0.000    8099716.000                   0   \n",
       "3                   142     nan 9595377936.000                   1   \n",
       "4                     5     nan   40806544.000                   0   \n",
       "\n",
       "   Robbery_categorical  \n",
       "0                    0  \n",
       "1                    0  \n",
       "2                    0  \n",
       "3                    1  \n",
       "4                    1  "
      ]
     },
     "execution_count": 14,
     "metadata": {},
     "output_type": "execute_result"
    }
   ],
   "source": [
    "#Converting \"Murder\" and \"Robbery\" into categorical\n",
    "\n",
    "df['Murder_categorical'] = df['Murder'].apply(lambda x: convert_category(x))\n",
    "df['Robbery_categorical'] = df['Robbery'].apply(lambda x: convert_category(x))\n",
    "df.head()"
   ]
  },
  {
   "cell_type": "code",
   "execution_count": 15,
   "metadata": {},
   "outputs": [
    {
     "data": {
      "text/html": [
       "<div>\n",
       "<style>\n",
       "    .dataframe thead tr:only-child th {\n",
       "        text-align: right;\n",
       "    }\n",
       "\n",
       "    .dataframe thead th {\n",
       "        text-align: left;\n",
       "    }\n",
       "\n",
       "    .dataframe tbody tr th {\n",
       "        vertical-align: top;\n",
       "    }\n",
       "</style>\n",
       "<table border=\"1\" class=\"dataframe\">\n",
       "  <thead>\n",
       "    <tr style=\"text-align: right;\">\n",
       "      <th></th>\n",
       "      <th>Population</th>\n",
       "      <th>PopSq</th>\n",
       "      <th>Murder_categorical</th>\n",
       "      <th>Robbery_categorical</th>\n",
       "      <th>Property\n",
       "crime</th>\n",
       "    </tr>\n",
       "  </thead>\n",
       "  <tbody>\n",
       "    <tr>\n",
       "      <th>0</th>\n",
       "      <td>1861.000</td>\n",
       "      <td>3463321.000</td>\n",
       "      <td>0</td>\n",
       "      <td>0</td>\n",
       "      <td>12.000</td>\n",
       "    </tr>\n",
       "    <tr>\n",
       "      <th>1</th>\n",
       "      <td>2577.000</td>\n",
       "      <td>6640929.000</td>\n",
       "      <td>0</td>\n",
       "      <td>0</td>\n",
       "      <td>24.000</td>\n",
       "    </tr>\n",
       "    <tr>\n",
       "      <th>2</th>\n",
       "      <td>2846.000</td>\n",
       "      <td>8099716.000</td>\n",
       "      <td>0</td>\n",
       "      <td>0</td>\n",
       "      <td>16.000</td>\n",
       "    </tr>\n",
       "    <tr>\n",
       "      <th>3</th>\n",
       "      <td>97956.000</td>\n",
       "      <td>9595377936.000</td>\n",
       "      <td>1</td>\n",
       "      <td>1</td>\n",
       "      <td>4090.000</td>\n",
       "    </tr>\n",
       "    <tr>\n",
       "      <th>4</th>\n",
       "      <td>6388.000</td>\n",
       "      <td>40806544.000</td>\n",
       "      <td>0</td>\n",
       "      <td>1</td>\n",
       "      <td>223.000</td>\n",
       "    </tr>\n",
       "  </tbody>\n",
       "</table>\n",
       "</div>"
      ],
      "text/plain": [
       "   Population          PopSq  Murder_categorical  Robbery_categorical  \\\n",
       "0    1861.000    3463321.000                   0                    0   \n",
       "1    2577.000    6640929.000                   0                    0   \n",
       "2    2846.000    8099716.000                   0                    0   \n",
       "3   97956.000 9595377936.000                   1                    1   \n",
       "4    6388.000   40806544.000                   0                    1   \n",
       "\n",
       "   Property\\ncrime  \n",
       "0           12.000  \n",
       "1           24.000  \n",
       "2           16.000  \n",
       "3         4090.000  \n",
       "4          223.000  "
      ]
     },
     "execution_count": 15,
     "metadata": {},
     "output_type": "execute_result"
    }
   ],
   "source": [
    "#Isolating features\n",
    "features = df[['Population', 'PopSq', 'Murder_categorical', 'Robbery_categorical', 'Property\\ncrime']].dropna()\n",
    "features.head()"
   ]
  },
  {
   "cell_type": "code",
   "execution_count": 16,
   "metadata": {},
   "outputs": [
    {
     "name": "stdout",
     "output_type": "stream",
     "text": [
      "<class 'pandas.core.frame.DataFrame'>\n",
      "Int64Index: 347 entries, 0 to 347\n",
      "Data columns (total 5 columns):\n",
      "Population             347 non-null float64\n",
      "PopSq                  347 non-null float64\n",
      "Murder_categorical     347 non-null int64\n",
      "Robbery_categorical    347 non-null int64\n",
      "Property\n",
      "crime         347 non-null float64\n",
      "dtypes: float64(3), int64(2)\n",
      "memory usage: 16.3 KB\n"
     ]
    }
   ],
   "source": [
    "features.info()"
   ]
  },
  {
   "cell_type": "code",
   "execution_count": 17,
   "metadata": {},
   "outputs": [
    {
     "name": "stdout",
     "output_type": "stream",
     "text": [
      "\n",
      "Coefficients: \n",
      " [  1.40107315e-02   1.13425350e-07   8.42401093e+01   1.00084978e+02]\n",
      "\n",
      "Intercept: \n",
      " -20.7925867491\n",
      "\n",
      "R-squared: \n",
      "\n",
      "0.842104946287\n"
     ]
    }
   ],
   "source": [
    "# Instantiate our model.\n",
    "regr = linear_model.LinearRegression()\n",
    "Y = features['Property\\ncrime']\n",
    "X = features[['Population', 'PopSq', 'Murder_categorical', 'Robbery_categorical']]\n",
    "\n",
    "# Fit our model to our data.\n",
    "regr.fit(X, Y)\n",
    "\n",
    "# Display the attributes we calculated.\n",
    "print('\\nCoefficients: \\n', regr.coef_)\n",
    "print('\\nIntercept: \\n', regr.intercept_)\n",
    "print('\\nR-squared: \\n')\n",
    "print(regr.score(X, Y))"
   ]
  },
  {
   "cell_type": "code",
   "execution_count": 18,
   "metadata": {},
   "outputs": [
    {
     "data": {
      "image/png": "[encoded data removed]",
      "text/plain": [
       "<matplotlib.figure.Figure at 0x7f76f964d128>"
      ]
     },
     "metadata": {},
     "output_type": "display_data"
    }
   ],
   "source": [
    "# Extract predicted values.\n",
    "predicted = regr.predict(X).ravel()\n",
    "actual = features['Property\\ncrime']\n",
    "\n",
    "# Calculate the error, also called the residual.\n",
    "residual = actual - predicted\n",
    "\n",
    "plt.hist(residual)\n",
    "plt.xlabel('Residual')\n",
    "plt.ylabel('Count')\n",
    "plt.title('Residual Counts')\n",
    "plt.show()"
   ]
  },
  {
   "cell_type": "code",
   "execution_count": 19,
   "metadata": {},
   "outputs": [
    {
     "data": {
      "image/png": "[encoded data removed]",
      "text/plain": [
       "<matplotlib.figure.Figure at 0x7f76f983c7f0>"
      ]
     },
     "metadata": {},
     "output_type": "display_data"
    }
   ],
   "source": [
    "#Homoscedasicity\n",
    "plt.scatter(predicted, residual)\n",
    "plt.xlabel('Predicted')\n",
    "plt.ylabel('Residual')\n",
    "plt.axhline(y=0)\n",
    "plt.title('Residual vs. Predicted')\n",
    "plt.show()"
   ]
  },
  {
   "cell_type": "code",
   "execution_count": 20,
   "metadata": {},
   "outputs": [
    {
     "data": {
      "text/html": [
       "<div>\n",
       "<style>\n",
       "    .dataframe thead tr:only-child th {\n",
       "        text-align: right;\n",
       "    }\n",
       "\n",
       "    .dataframe thead th {\n",
       "        text-align: left;\n",
       "    }\n",
       "\n",
       "    .dataframe tbody tr th {\n",
       "        vertical-align: top;\n",
       "    }\n",
       "</style>\n",
       "<table border=\"1\" class=\"dataframe\">\n",
       "  <thead>\n",
       "    <tr style=\"text-align: right;\">\n",
       "      <th></th>\n",
       "      <th>Population</th>\n",
       "      <th>PopSq</th>\n",
       "      <th>Murder_categorical</th>\n",
       "      <th>Robbery_categorical</th>\n",
       "    </tr>\n",
       "  </thead>\n",
       "  <tbody>\n",
       "    <tr>\n",
       "      <th>Population</th>\n",
       "      <td>1.000</td>\n",
       "      <td>0.889</td>\n",
       "      <td>0.374</td>\n",
       "      <td>0.344</td>\n",
       "    </tr>\n",
       "    <tr>\n",
       "      <th>PopSq</th>\n",
       "      <td>0.889</td>\n",
       "      <td>1.000</td>\n",
       "      <td>0.167</td>\n",
       "      <td>0.152</td>\n",
       "    </tr>\n",
       "    <tr>\n",
       "      <th>Murder_categorical</th>\n",
       "      <td>0.374</td>\n",
       "      <td>0.167</td>\n",
       "      <td>1.000</td>\n",
       "      <td>0.302</td>\n",
       "    </tr>\n",
       "    <tr>\n",
       "      <th>Robbery_categorical</th>\n",
       "      <td>0.344</td>\n",
       "      <td>0.152</td>\n",
       "      <td>0.302</td>\n",
       "      <td>1.000</td>\n",
       "    </tr>\n",
       "  </tbody>\n",
       "</table>\n",
       "</div>"
      ],
      "text/plain": [
       "                     Population  PopSq  Murder_categorical  \\\n",
       "Population                1.000  0.889               0.374   \n",
       "PopSq                     0.889  1.000               0.167   \n",
       "Murder_categorical        0.374  0.167               1.000   \n",
       "Robbery_categorical       0.344  0.152               0.302   \n",
       "\n",
       "                     Robbery_categorical  \n",
       "Population                         0.344  \n",
       "PopSq                              0.152  \n",
       "Murder_categorical                 0.302  \n",
       "Robbery_categorical                1.000  "
      ]
     },
     "metadata": {},
     "output_type": "display_data"
    }
   ],
   "source": [
    "#Correlation Matrix\n",
    "correlation_matrix = X.corr()\n",
    "display(correlation_matrix)"
   ]
  },
  {
   "cell_type": "code",
   "execution_count": 21,
   "metadata": {},
   "outputs": [
    {
     "data": {
      "text/plain": [
       "<matplotlib.axes._subplots.AxesSubplot at 0x7f76f979c710>"
      ]
     },
     "execution_count": 21,
     "metadata": {},
     "output_type": "execute_result"
    },
    {
     "data": {
      "image/png": "[encoded data removed]",
      "text/plain": [
       "<matplotlib.figure.Figure at 0x7f76f983cba8>"
      ]
     },
     "metadata": {},
     "output_type": "display_data"
    }
   ],
   "source": [
    "sns.heatmap(df.corr())"
   ]
  },
  {
   "cell_type": "markdown",
   "metadata": {},
   "source": [
    "## PCA"
   ]
  },
  {
   "cell_type": "code",
   "execution_count": 22,
   "metadata": {},
   "outputs": [],
   "source": [
    "# PCA of highly correlated variables.\n",
    "features_pca = df.loc[:, ['Population', 'PopSq', 'Murder_categorical', 'Robbery_categorical', \n",
    "                          'Property\\ncrime']].dropna()"
   ]
  },
  {
   "cell_type": "code",
   "execution_count": 23,
   "metadata": {},
   "outputs": [],
   "source": [
    "# Normalize the data so all vars have a mean of 0 and a standard deviation of 1.\n",
    "X = StandardScaler().fit_transform(features_pca)"
   ]
  },
  {
   "cell_type": "code",
   "execution_count": 24,
   "metadata": {},
   "outputs": [
    {
     "name": "stdout",
     "output_type": "stream",
     "text": [
      "Covariance Matrix:\n",
      " [[ 1.00289017  0.89115011  0.37542126  0.34534177  0.88981975]\n",
      " [ 0.89115011  1.00289017  0.16796569  0.15272868  0.89603845]\n",
      " [ 0.37542126  0.16796569  1.00289017  0.30310431  0.27316692]\n",
      " [ 0.34534177  0.15272868  0.30310431  1.00289017  0.26754044]\n",
      " [ 0.88981975  0.89603845  0.27316692  0.26754044  1.00289017]]\n"
     ]
    }
   ],
   "source": [
    "# The NumPy covariance function assumes that variables are reprensented by rows, not columns, so we transpose X.\n",
    "Xt = X.T\n",
    "Cx = np.cov(Xt)\n",
    "print('Covariance Matrix:\\n', Cx)"
   ]
  },
  {
   "cell_type": "code",
   "execution_count": 25,
   "metadata": {
    "collapsed": true
   },
   "outputs": [],
   "source": [
    "# Calculating eigenvalues and eigenvectors.\n",
    "eig_val_cov, eig_vec_cov = np.linalg.eig(Cx)"
   ]
  },
  {
   "cell_type": "code",
   "execution_count": 26,
   "metadata": {},
   "outputs": [
    {
     "name": "stdout",
     "output_type": "stream",
     "text": [
      "Eigenvector 1: \n",
      "[[ 0.5558971 ]\n",
      " [ 0.52282868]\n",
      " [ 0.2554688 ]\n",
      " [ 0.24357424]\n",
      " [ 0.54132787]]\n",
      "Eigenvalue 1: 3.0313732182090027\n",
      "----------------------------------------\n",
      "Eigenvector 2: \n",
      "[[ 0.649926  ]\n",
      " [-0.72251421]\n",
      " [-0.13626966]\n",
      " [-0.12129309]\n",
      " [ 0.14929158]]\n",
      "Eigenvalue 2: 0.07344263080272004\n",
      "----------------------------------------\n",
      "Eigenvector 3: \n",
      "[[  5.12729616e-01]\n",
      " [  2.99980617e-01]\n",
      " [ -2.60817767e-02]\n",
      " [  1.44864003e-04]\n",
      " [ -8.04014733e-01]]\n",
      "Eigenvalue 3: 0.10993988785388538\n",
      "----------------------------------------\n",
      "Eigenvector 4: \n",
      "[[-0.07463649]\n",
      " [-0.33838018]\n",
      " [ 0.63819055]\n",
      " [ 0.65942219]\n",
      " [-0.19443108]]\n",
      "Eigenvalue 4: 1.099891269218083\n",
      "----------------------------------------\n",
      "Eigenvector 5: \n",
      "[[ 0.01059929]\n",
      " [-0.01157013]\n",
      " [ 0.71288065]\n",
      " [-0.70080092]\n",
      " [-0.02080927]]\n",
      "Eigenvalue 5: 0.6998038609683336\n",
      "----------------------------------------\n",
      "The percentage of total variance in the dataset explained by each compenent calculated by hand.\n",
      " [ 0.60452745  0.0146462   0.02192461  0.21934431  0.13955743]\n"
     ]
    }
   ],
   "source": [
    "# Inspecting the eigenvalues and eigenvectors.\n",
    "for i in range(len(eig_val_cov)):\n",
    "    eigvec_cov = eig_vec_cov[:, i].reshape(1, 5).T\n",
    "    print('Eigenvector {}: \\n{}'.format(i + 1, eigvec_cov))\n",
    "    print('Eigenvalue {}: {}'.format(i + 1, eig_val_cov[i]))\n",
    "    print(40 * '-')\n",
    "\n",
    "print(\n",
    "    'The percentage of total variance in the dataset explained by each',\n",
    "    'compenent calculated by hand.\\n',\n",
    "    eig_val_cov / sum(eig_val_cov)\n",
    ")"
   ]
  },
  {
   "cell_type": "markdown",
   "metadata": {},
   "source": [
    "We keep components with an Eigenvalue > 1, that is Eigenvectors 1 and 4"
   ]
  },
  {
   "cell_type": "code",
   "execution_count": 27,
   "metadata": {},
   "outputs": [
    {
     "data": {
      "image/png": "[encoded data removed]",
      "text/plain": [
       "<matplotlib.figure.Figure at 0x7f76f97a60b8>"
      ]
     },
     "metadata": {},
     "output_type": "display_data"
    }
   ],
   "source": [
    "plt.plot(eig_val_cov)\n",
    "plt.show()"
   ]
  },
  {
   "cell_type": "markdown",
   "metadata": {},
   "source": [
    "The scree plot and the eigenvalues > 1 rule agree that we should keep only the first component."
   ]
  },
  {
   "cell_type": "code",
   "execution_count": 28,
   "metadata": {},
   "outputs": [
    {
     "name": "stdout",
     "output_type": "stream",
     "text": [
      "\n",
      "Coefficients: \n",
      " [  3.44683301e-02  -9.26764247e+01]\n",
      "\n",
      "Intercept: \n",
      " -108.695715157\n",
      "\n",
      "R-squared: \n",
      "\n",
      "0.788926106275\n"
     ]
    }
   ],
   "source": [
    "# Instantiate our model.\n",
    "regr = linear_model.LinearRegression()\n",
    "Y = features['Property\\ncrime']\n",
    "X = features[['Population', 'Robbery_categorical']]\n",
    "\n",
    "# Fit our model to our data.\n",
    "regr.fit(X, Y)\n",
    "\n",
    "# Display the attributes we calculated.\n",
    "print('\\nCoefficients: \\n', regr.coef_)\n",
    "print('\\nIntercept: \\n', regr.intercept_)\n",
    "print('\\nR-squared: \\n')\n",
    "print(regr.score(X, Y))"
   ]
  },
  {
   "cell_type": "markdown",
   "metadata": {},
   "source": [
    "Using the features that resulted from de PCA analysis, we get a R-squared value very similar to the result using 50% more of the components available. This means that 78 % of the time the model explains the variability of the dependent variable with the independent variables, in this case two."
   ]
  },
  {
   "cell_type": "markdown",
   "metadata": {},
   "source": [
    "## Splitting data"
   ]
  },
  {
   "cell_type": "code",
   "execution_count": 29,
   "metadata": {
    "collapsed": true
   },
   "outputs": [],
   "source": [
    "data = X\n",
    "target = Y"
   ]
  },
  {
   "cell_type": "code",
   "execution_count": 30,
   "metadata": {
    "collapsed": true
   },
   "outputs": [],
   "source": [
    "from sklearn.naive_bayes import BernoulliNB\n",
    "bnb = BernoulliNB()\n",
    "y_pred = bnb.fit(data, target).predict(data)"
   ]
  },
  {
   "cell_type": "code",
   "execution_count": 31,
   "metadata": {},
   "outputs": [
    {
     "name": "stdout",
     "output_type": "stream",
     "text": [
      "With 20% Holdout: 0.0142857142857\n",
      "Testing on Sample: 0.0259365994236\n"
     ]
    }
   ],
   "source": [
    "# Test your model with different holdout groups.\n",
    "\n",
    "from sklearn.model_selection import train_test_split\n",
    "# Use train_test_split to create the necessary training and test groups\n",
    "X_train, X_test, y_train, y_test = train_test_split(data, target, test_size=0.2, random_state=20)\n",
    "print('With 20% Holdout: ' + str(bnb.fit(X_train, y_train).score(X_test, y_test)))\n",
    "print('Testing on Sample: ' + str(bnb.fit(data, target).score(data, target)))"
   ]
  },
  {
   "cell_type": "code",
   "execution_count": 32,
   "metadata": {},
   "outputs": [
    {
     "name": "stderr",
     "output_type": "stream",
     "text": [
      "/home/mache/anaconda3/lib/python3.6/site-packages/sklearn/model_selection/_split.py:605: Warning: The least populated class in y has only 1 members, which is too few. The minimum number of members in any class cannot be less than n_splits=6.\n",
      "  % (min_groups, self.n_splits)), Warning)\n"
     ]
    },
    {
     "data": {
      "text/plain": [
       "array([ 0.00420168,  0.01538462,  0.03571429,  0.09090909,  0.25      ,  1.        ])"
      ]
     },
     "execution_count": 32,
     "metadata": {},
     "output_type": "execute_result"
    }
   ],
   "source": [
    "from sklearn.model_selection import cross_val_score\n",
    "cross_val_score(bnb, data, target, cv=6)"
   ]
  },
  {
   "cell_type": "code",
   "execution_count": 33,
   "metadata": {},
   "outputs": [],
   "source": [
    "y_true = Y"
   ]
  },
  {
   "cell_type": "code",
   "execution_count": 34,
   "metadata": {},
   "outputs": [
    {
     "data": {
      "text/plain": [
       "array([[6, 0, 0, ..., 0, 0, 0],\n",
       "       [3, 0, 0, ..., 0, 0, 0],\n",
       "       [3, 0, 0, ..., 0, 0, 0],\n",
       "       ..., \n",
       "       [0, 0, 0, ..., 0, 0, 0],\n",
       "       [0, 0, 0, ..., 0, 0, 0],\n",
       "       [0, 0, 0, ..., 0, 0, 0]])"
      ]
     },
     "execution_count": 34,
     "metadata": {},
     "output_type": "execute_result"
    }
   ],
   "source": [
    "from sklearn.metrics import confusion_matrix\n",
    "confusion_matrix(y_true, y_pred)"
   ]
  },
  {
   "cell_type": "markdown",
   "metadata": {},
   "source": [
    "The scores of the cross validation fluctuate, indicating that the model is overfitting, so probably the features chosen, aren't the most indicated. I'm not sure if did correctly the confusion matrix, since I'm not able to interpret it."
   ]
  },
  {
   "cell_type": "code",
   "execution_count": null,
   "metadata": {
    "collapsed": true
   },
   "outputs": [],
   "source": []
  }
 ],
 "metadata": {
  "kernelspec": {
   "display_name": "Python 3",
   "language": "python",
   "name": "python3"
  },
  "language_info": {
   "codemirror_mode": {
    "name": "ipython",
    "version": 3
   },
   "file_extension": ".py",
   "mimetype": "text/x-python",
   "name": "python",
   "nbconvert_exporter": "python",
   "pygments_lexer": "ipython3",
   "version": "3.6.3"
  }
 },
 "nbformat": 4,
 "nbformat_minor": 2
}
