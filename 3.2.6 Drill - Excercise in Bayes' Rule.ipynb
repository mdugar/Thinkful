{
 "cells": [
  {
   "cell_type": "markdown",
   "metadata": {},
   "source": [
    "# 3.2.6 Drill - Excercise in Bayes' Rule"
   ]
  },
  {
   "cell_type": "markdown",
   "metadata": {},
   "source": [
    "#### 1. \n",
    "    Intuitive = 10 %. \n",
    "    Using Bayes' rule: \n",
    "    for 0.5% of the population:\n",
    "        P(Postive | Negative) * Population = ((P(Negative | Positive) * P(Positive)) / P(Negative)) * Population\n",
    "                                            = ((0.02 * 0.98) / 0.02) * 0.005\n",
    "                                            = 0.0049\n",
    "    for 99.5% of the population:\n",
    "        P(Postive | Negative) * Population = ((P(Negative | Positive) * P(Positive)) / P(Negative)) * Population\n",
    "                                = ((0.9 * 0.1) / 0.9)) * 0.995\n",
    "                                = 0.0995\n",
    "    Summing both probabilities: \n",
    "        (P(Postive | Negative) * Population (0.5%)) + (P(Postive | Negative) * Population (99.5%)) = 0.0049 + 0.0995 = 0.1044 = 10.44 %"
   ]
  },
  {
   "cell_type": "markdown",
   "metadata": {},
   "source": [
    "#### 2. \n",
    "    Intuitive = 98 %. \n",
    "    Using Bayes' rule: \n",
    "    for 0.5% of the population:\n",
    "        P(Possitive | Sufferer of Thripshaw's Disease) = 98%"
   ]
  },
  {
   "cell_type": "markdown",
   "metadata": {},
   "source": [
    "#### 3. \n",
    "    Intuitive = 90 %. \n",
    "    Using Bayes' rule: \n",
    "    for 99.5% of the population:\n",
    "        P(Possitive | Non-sufferer of Thripshaw's Disease) = 90%"
   ]
  },
  {
   "cell_type": "markdown",
   "metadata": {},
   "source": [
    "#### 4. \n",
    "    Intuitive = 10%. \n",
    "    Using Bayes' rule: \n",
    "     1 - (P(Postive | Negative) * Population (0.5%)) + (P(Negative | Positive) * Population (99.5%)) = 1 - (0.0049 + ((0.1*0.9) / 0.1) * 0.995) = 0.0996 = 9.96%"
   ]
  }
 ],
 "metadata": {
  "kernelspec": {
   "display_name": "Python 3",
   "language": "python",
   "name": "python3"
  },
  "language_info": {
   "codemirror_mode": {
    "name": "ipython",
    "version": 3
   },
   "file_extension": ".py",
   "mimetype": "text/x-python",
   "name": "python",
   "nbconvert_exporter": "python",
   "pygments_lexer": "ipython3",
   "version": "3.6.3"
  }
 },
 "nbformat": 4,
 "nbformat_minor": 2
}
