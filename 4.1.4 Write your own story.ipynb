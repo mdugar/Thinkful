{
 "cells": [
  {
   "cell_type": "markdown",
   "metadata": {},
   "source": [
    "## 4.1.4 Write your own story"
   ]
  },
  {
   "cell_type": "markdown",
   "metadata": {},
   "source": [
    "__1.__ My ideal job would be to apply my knowledge in the financial field, make a model that predicts the movement of a given market tick by tick, integrate this model in a script that would excecute the orders in a fraction of a second, not for a company but for myself. Later, try to optimize my script in such a way that it could adapt to new environments alone, applying concepts of machine learning such as neural networks. Once I'm done with this, I'd like to start developing a new social network, but with a turnaround on what social networks are today. I'm not sure if, for then, data scientist would apply as my job title, but I'm sure it will help me to get it done.\n",
    "\n",
    "__2.__ My ideal job would be to create a program for myself that could predict a given financial market in a very low time frame, and thus excecute buy and sell orders accordingly. I would like that this program could adapt itself to new environments through different processes of artifficial intelligence. Finally, once I have the latter running I'd like to focus in developing a new social network with a turnaround on what social networks look today. I'm not sure if, for then, my job title would fit into data scientist, but I'm sure it will help me get there.\n",
    "\n",
    "__3.__ I'd like to apply concepts of artificial intelligence in the prediction of financial market movements."
   ]
  }
 ],
 "metadata": {
  "kernelspec": {
   "display_name": "Python 3",
   "language": "python",
   "name": "python3"
  },
  "language_info": {
   "codemirror_mode": {
    "name": "ipython",
    "version": 3
   },
   "file_extension": ".py",
   "mimetype": "text/x-python",
   "name": "python",
   "nbconvert_exporter": "python",
   "pygments_lexer": "ipython3",
   "version": "3.6.3"
  }
 },
 "nbformat": 4,
 "nbformat_minor": 2
}
