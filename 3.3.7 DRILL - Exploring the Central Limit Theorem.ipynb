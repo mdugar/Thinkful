{
 "cells": [
  {
   "cell_type": "markdown",
   "metadata": {},
   "source": [
    "# 3.3.7 DRILL - Exploring the Central Limit Theorem"
   ]
  },
  {
   "cell_type": "code",
   "execution_count": 1,
   "metadata": {
    "collapsed": true
   },
   "outputs": [],
   "source": [
    "import numpy as np\n",
    "import pandas as pd\n",
    "import matplotlib.pyplot as plt\n",
    "from scipy.stats import ttest_ind\n",
    "%matplotlib inline"
   ]
  },
  {
   "cell_type": "markdown",
   "metadata": {},
   "source": [
    "#### Creating populations, samples and calculating mean and standard deviation for the samples"
   ]
  },
  {
   "cell_type": "code",
   "execution_count": 2,
   "metadata": {},
   "outputs": [
    {
     "name": "stdout",
     "output_type": "stream",
     "text": [
      "Mean for sample1:  1.9\n",
      "Mean for sample2:  5.17\n",
      "Standard deviation for sample1:  1.2449899598\n",
      "Standard deviation for sample2:  1.65562676953\n"
     ]
    }
   ],
   "source": [
    "pop1 = np.random.binomial(10, 0.2, 10000)\n",
    "pop2 = np.random.binomial(10, 0.5, 10000)\n",
    "\n",
    "sample1 = np.random.choice(pop1, 100, replace=True)\n",
    "sample2 = np.random.choice(pop2, 100, replace=True)\n",
    "\n",
    "print(\"Mean for sample1: \", sample1.mean())\n",
    "print(\"Mean for sample2: \", sample2.mean())\n",
    "print(\"Standard deviation for sample1: \", sample1.std())\n",
    "print(\"Standard deviation for sample2: \", sample2.std())"
   ]
  },
  {
   "cell_type": "markdown",
   "metadata": {},
   "source": [
    "#### 1. I think the mean value will remain the same, however, the standard deviation will change in both cases. Lets see:"
   ]
  },
  {
   "cell_type": "code",
   "execution_count": 3,
   "metadata": {},
   "outputs": [
    {
     "name": "stdout",
     "output_type": "stream",
     "text": [
      "Mean for increased sample of pop1:  1.989\n",
      "Mean for increased sample of pop2:  5.046\n",
      "Standard deviation for increased sample of pop1:  1.21773519289\n",
      "Standard deviation for increased sample of pop2:  1.52705075227\n"
     ]
    }
   ],
   "source": [
    "sample_increase_pop1 = np.random.choice(pop1, 1000, replace=True)\n",
    "sample_increase_pop2 = np.random.choice(pop2, 1000, replace=True)\n",
    "\n",
    "print(\"Mean for increased sample of pop1: \", sample_increase_pop1.mean())\n",
    "print(\"Mean for increased sample of pop2: \", sample_increase_pop2.mean())\n",
    "print(\"Standard deviation for increased sample of pop1: \", sample_increase_pop1.std())\n",
    "print(\"Standard deviation for increased sample of pop2: \", sample_increase_pop2.std())"
   ]
  },
  {
   "cell_type": "code",
   "execution_count": 4,
   "metadata": {},
   "outputs": [
    {
     "name": "stdout",
     "output_type": "stream",
     "text": [
      "Mean for decreased sample of pop1:  2.6\n",
      "Mean for decreased sample of pop2:  3.95\n",
      "Standard deviation for decreased sample of pop1:  1.49666295471\n",
      "Standard deviation for decreased sample of pop2:  1.16081867662\n"
     ]
    }
   ],
   "source": [
    "sample_decrease_pop1 = np.random.choice(pop1, 20, replace=True)\n",
    "sample_decrease_pop2 = np.random.choice(pop2, 20, replace=True)\n",
    "\n",
    "print(\"Mean for decreased sample of pop1: \", sample_decrease_pop1.mean())\n",
    "print(\"Mean for decreased sample of pop2: \", sample_decrease_pop2.mean())\n",
    "print(\"Standard deviation for decreased sample of pop1: \", sample_decrease_pop1.std())\n",
    "print(\"Standard deviation for decreased sample of pop2: \", sample_decrease_pop2.std())"
   ]
  },
  {
   "cell_type": "markdown",
   "metadata": {},
   "source": [
    "#### Conclusion: The mean value stayed approximately the same and standard deviation values changed compared to the initial sample."
   ]
  },
  {
   "cell_type": "markdown",
   "metadata": {},
   "source": [
    "#### 2. Changing p-value to pop1 to 0.3"
   ]
  },
  {
   "cell_type": "code",
   "execution_count": 5,
   "metadata": {},
   "outputs": [
    {
     "data": {
      "image/png": "[encoded data removed]",
      "text/plain": [
       "<matplotlib.figure.Figure at 0x7f45fa5dc5f8>"
      ]
     },
     "metadata": {},
     "output_type": "display_data"
    },
    {
     "name": "stdout",
     "output_type": "stream",
     "text": [
      "Ttest_indResult(statistic=37.613369502393148, pvalue=1.6585687609622788e-253)\n"
     ]
    }
   ],
   "source": [
    "pop1 = np.random.binomial(10, 0.3, 10000)\n",
    "pop2 = np.random.binomial(10, 0.5, 10000)\n",
    "\n",
    "sample1 = np.random.choice(pop1, 1500, replace=True)\n",
    "sample2 = np.random.choice(pop2, 1500, replace=True)\n",
    "\n",
    "plt.hist(sample1, alpha=0.5, label='sample 1') \n",
    "plt.hist(pop1, alpha=0.5, label='pop 1') \n",
    "plt.legend(loc='upper right') \n",
    "plt.show()\n",
    "\n",
    "print(ttest_ind(sample2, sample1, equal_var=False))"
   ]
  },
  {
   "cell_type": "markdown",
   "metadata": {},
   "source": [
    "#### Conclusion: As the p-value increases there is more overlap int the values. Meaning that the differences are reduced. The latter also happens when the sample is increased."
   ]
  },
  {
   "cell_type": "markdown",
   "metadata": {},
   "source": [
    "#### 4. Changing distribution"
   ]
  },
  {
   "cell_type": "code",
   "execution_count": 6,
   "metadata": {},
   "outputs": [
    {
     "data": {
      "image/png": "[encoded data removed]",
      "text/plain": [
       "<matplotlib.figure.Figure at 0x7f4628131b38>"
      ]
     },
     "metadata": {},
     "output_type": "display_data"
    },
    {
     "name": "stdout",
     "output_type": "stream",
     "text": [
      "Ttest_indResult(statistic=8.6040346431102712, pvalue=1.3781723871472446e-17)\n"
     ]
    }
   ],
   "source": [
    "pop1 = np.random.logseries(0.3, 10000)\n",
    "pop2 = np.random.logseries(0.5, 10000)\n",
    "\n",
    "sample1 = np.random.choice(pop1, 1500, replace=True)\n",
    "sample2 = np.random.choice(pop2, 1500, replace=True)\n",
    "\n",
    "plt.hist(sample1, alpha=0.5, label='sample 1') \n",
    "plt.hist(pop1, alpha=0.5, label='pop 1') \n",
    "plt.legend(loc='upper right') \n",
    "plt.show()\n",
    "print(ttest_ind(sample2, sample1, equal_var=False))"
   ]
  },
  {
   "cell_type": "markdown",
   "metadata": {},
   "source": [
    "#### Conclusion: the sample mean values still accurately represent the population values."
   ]
  }
 ],
 "metadata": {
  "kernelspec": {
   "display_name": "Python 3",
   "language": "python",
   "name": "python3"
  },
  "language_info": {
   "codemirror_mode": {
    "name": "ipython",
    "version": 3
   },
   "file_extension": ".py",
   "mimetype": "text/x-python",
   "name": "python",
   "nbconvert_exporter": "python",
   "pygments_lexer": "ipython3",
   "version": "3.6.3"
  }
 },
 "nbformat": 4,
 "nbformat_minor": 2
}
