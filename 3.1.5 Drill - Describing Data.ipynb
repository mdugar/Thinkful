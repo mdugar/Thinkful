{
 "cells": [
  {
   "cell_type": "markdown",
   "metadata": {},
   "source": [
    "# 3.1.5 Drill - Describing Data"
   ]
  },
  {
   "cell_type": "markdown",
   "metadata": {},
   "source": [
    "#### 1. \n",
    "    a) Mean age = (14 (Greg) + 12 (Marcia) + 11 (Peter) + 10 (Jan) + 8 (Bobby) + 6 (Cindy) + 8 (Oliver)) / 7 = 9.85 years.\n",
    "    b) Median age = 14, 12, 11, 10, 8, 8, 6 = 10 years.\n",
    "    c) Mode age = 14, 12, 11, 10, 8, 8, 6 = 8 years.\n",
    "    d) Variance of (total) population = sum((x - mean) ^ 2)/ n = sum (((14 - 9.85) ^ 2) + ((12 - 9.85) ^ 2) + ((11 - 9.85) ^ 2) + ((10 - 9.85) ^ 2) + ((8 - 9.85) ^ 2) + ((6 - 9.85) ^ 2) + ((8 - 9.85) ^ 2)) / 7 = 44.86 / 7 = 6.41 years.\n",
    "    e) Standard deviation of (total) population = square root (sum((x - mean) ^ 2)/ n) = sqrt (6.41 ) = 2.53 years.\n",
    "    f) Standard error of (total) population = standard deviation / sqrt(n) = 2.53 / 2.65 = 0.95 years."
   ]
  },
  {
   "cell_type": "code",
   "execution_count": 1,
   "metadata": {},
   "outputs": [
    {
     "name": "stdout",
     "output_type": "stream",
     "text": [
      "Mean age = 9.857142857142858  years\n",
      "Median age = 10.0  years\n",
      "Mode age = 8  years\n",
      "Age Variance = 6.408163265306122  years\n",
      "Standard deviation = 2.531435020952764  years\n",
      "Standard error = 0.956792503652  years\n"
     ]
    }
   ],
   "source": [
    "import numpy as np\n",
    "import pandas as pd\n",
    "import statistics as st\n",
    "df = pd.DataFrame()\n",
    "df['age'] = [14, 12, 11, 10, 8,6, 8]\n",
    "\n",
    "print('Mean age =', np.mean(df['age']), ' years')\n",
    "print('Median age =', np.median(df['age']), ' years')\n",
    "print('Mode age =', st.mode(df['age']), ' years')\n",
    "print('Age Variance =', np.var(df['age'], ddof=0), ' years')\n",
    "print('Standard deviation =', np.std(df['age'], ddof=0), ' years')\n",
    "print('Standard error =', np.std(df['age'], ddof=0) / np.sqrt(len(df['age'])), ' years')"
   ]
  },
  {
   "cell_type": "markdown",
   "metadata": {},
   "source": [
    "#### 2. \n",
    "    a) I would choose the mean age value, since it describes the tendency of the age in the whole group (population), thus helping me to determine the group's general tendency. \n",
    "    b) I would choose standard deviation as a measure of variance since it describes how far away does the age of the group (population) varies from it's mean value."
   ]
  },
  {
   "cell_type": "markdown",
   "metadata": {},
   "source": [
    "#### 3. Changs after Cindy's birthday:\n",
    "\n",
    "    a) Mean age = (14 (Greg) + 12 (Marcia) + 11 (Peter) + 10 (Jan) + 8 (Bobby) + 7 (Cindy) + 8 (Oliver)) / 7 = 10 years. Changed.\n",
    "    b) Median age = 14, 12, 11, 10, 8, 8, 7 = 10 years. Not changed.\n",
    "    c) Mode age = 14, 12, 11, 10, 8, 8, 7 = 8 years. Not changed.\n",
    "    d) Variance of (total) population = sum((x - mean) ^ 2)/ n = sum (((14 - 10) ^ 2) + ((12 - 10) ^ 2) + ((11 - 10) ^ 2) + ((10 - 10) ^ 2) + ((8 - 10) ^ 2) + ((7 - 10) ^ 2) + ((8 - 10) ^ 2)) / 7 = 38 / 7 = 5.43 years. Changed.\n",
    "    e) Standard deviation of (total) population = square root (sum((x - mean) ^ 2)/ n) = sqrt (5.43 ) = 2.33 years. Changed.\n",
    "    f) Standard error of (total) population = standard deviation / sqrt(n) = 2.53 / 2.65 = 0.88 years. Changed.\n"
   ]
  },
  {
   "cell_type": "code",
   "execution_count": 2,
   "metadata": {},
   "outputs": [
    {
     "name": "stdout",
     "output_type": "stream",
     "text": [
      "Mean age = 10.0  years\n",
      "Median age = 10.0  years\n",
      "Mode age = 8  years\n",
      "Age Variance = 5.428571428571429  years\n",
      "Standard deviation = 2.32992949004287  years\n",
      "Standard error = 0.880630571853  years\n"
     ]
    }
   ],
   "source": [
    "df = pd.DataFrame()\n",
    "df['age'] = [14, 12, 11, 10, 8, 7, 8]\n",
    "\n",
    "print('Mean age =', np.mean(df['age']), ' years')\n",
    "print('Median age =', np.median(df['age']), ' years')\n",
    "print('Mode age =', st.mode(df['age']), ' years')\n",
    "print('Age Variance =', np.var(df['age'], ddof=0), ' years')\n",
    "print('Standard deviation =', np.std(df['age'], ddof=0), ' years')\n",
    "print('Standard error =', np.std(df['age'], ddof=0) / np.sqrt(len(df['age'])), ' years')"
   ]
  },
  {
   "cell_type": "markdown",
   "metadata": {},
   "source": [
    "#### 4. Replace Oliver for Jessica (age 1) :\n",
    "\n",
    "    a) Mean age = (14 (Greg) + 12 (Marcia) + 11 (Peter) + 10 (Jan) + 8 (Bobby) + 7 (Cindy) + 1 (Jessica)) / 7 = 9 years. Changed\n",
    "    b) Median age = 14, 12, 11, 10, 8, 7, 1 = 10 years. Not changed.\n",
    "    c) Mode age = 14, 12, 11, 10, 8, 7, 1 = None. Changed.\n",
    "    d) Variance of (total) population = sum((x - mean) ^ 2)/ n = sum (((14 - 9) ^ 2) + ((12 - 9) ^ 2) + ((11 - 9) ^ 2) + ((10 - 9) ^ 2) + ((8 - 9) ^ 2) + ((7 - 9) ^ 2) + ((1 - 9) ^ 2)) / 7 = 108 / 7 = 15.43 years. Changed.\n",
    "    e) Standard deviation of (total) population = square root (sum((x - mean) ^ 2)/ n) = sqrt (15.43 ) = 3.93 years. Changed.\n",
    "    f) Standard error of (total) population = standard deviation / sqrt(n) = 3.93 / 2.65 = 1.48 years. Changed.\n",
    "    g) No, this does not change my choices, since it gives me a scope to understand the age distribution. I'd describe it saying the mean age is 9, and the individual ages vary from 5 to 13 approximately. Though Greg's age isn't contemplating this as well as Jessica's age, I'd cosider these, high and low points respectively, considering them extraordinary values."
   ]
  },
  {
   "cell_type": "code",
   "execution_count": 3,
   "metadata": {},
   "outputs": [
    {
     "name": "stdout",
     "output_type": "stream",
     "text": [
      "Mean age = 9.0  years\n",
      "Median age = 10.0  years\n",
      "Mode age = None\n",
      "Age Variance = 15.428571428571429  years\n",
      "Standard deviation = 3.927922024247863  years\n",
      "Standard error = 1.48461497792  years\n"
     ]
    }
   ],
   "source": [
    "df = pd.DataFrame()\n",
    "df['age'] = [14, 12, 11, 10, 8, 7, 1]\n",
    "\n",
    "print('Mean age =', np.mean(df['age']), ' years')\n",
    "print('Median age =', np.median(df['age']), ' years')\n",
    "print('Mode age =', 'None')\n",
    "print('Age Variance =', np.var(df['age'], ddof=0), ' years')\n",
    "print('Standard deviation =', np.std(df['age'], ddof=0), ' years')\n",
    "print('Standard error =', np.std(df['age'], ddof=0) / np.sqrt(len(df['age'])), ' years')"
   ]
  },
  {
   "cell_type": "markdown",
   "metadata": {},
   "source": [
    "#### 5. \n",
    "\n",
    "    Assuming the number of people polled in each magazine is the same, the mean percentage of adult Americans that are fans of The Brady Bunch is: ((TV Guide) 20% + (Entertainment Weekly) 23% + (Pop Culture Today) 17% + (SciPhi Phanatic) 5%) / 4 = 16.25%."
   ]
  }
 ],
 "metadata": {
  "kernelspec": {
   "display_name": "Python 3",
   "language": "python",
   "name": "python3"
  },
  "language_info": {
   "codemirror_mode": {
    "name": "ipython",
    "version": 3
   },
   "file_extension": ".py",
   "mimetype": "text/x-python",
   "name": "python",
   "nbconvert_exporter": "python",
   "pygments_lexer": "ipython3",
   "version": "3.6.3"
  }
 },
 "nbformat": 4,
 "nbformat_minor": 2
}
