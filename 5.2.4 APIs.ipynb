{
 "cells": [
  {
   "cell_type": "markdown",
   "metadata": {},
   "source": [
    "## Scraping Challenge\n",
    "\n",
    "Do a little scraping or API-calling of your own.  Pick a new website and see what you can get out of it.  Expect that you'll run into bugs and blind alleys, and rely on your mentor to help you get through.  \n",
    "\n",
    "Formally, your goal is to write a scraper that will:\n",
    "\n",
    "1) Return specific pieces of information (rather than just downloading a whole page)  \n",
    "2) Iterate over multiple pages/queries  \n",
    "3) Save the data to your computer  \n",
    "\n",
    "Once you have your data, compute some statistical summaries and/or visualizations that give you some new insights into your scraping topic of interest.  Write up a report from scraping code to summary and share it with your mentor."
   ]
  },
  {
   "cell_type": "markdown",
   "metadata": {},
   "source": [
    "### Objective\n",
    "\n",
    "We will scrap Craiglist's Buenos Aires website for housing rent prices in the Palermo area."
   ]
  },
  {
   "cell_type": "code",
   "execution_count": 1,
   "metadata": {
    "scrolled": false
   },
   "outputs": [
    {
     "name": "stdout",
     "output_type": "stream",
     "text": [
      "Success!\n"
     ]
    }
   ],
   "source": [
    "# Importing in each cell because of the kernel restarts.\n",
    "import scrapy\n",
    "from scrapy.crawler import CrawlerProcess\n",
    "\n",
    "\n",
    "class CLSpider(scrapy.Spider):\n",
    "    # Naming the spider is important if you are running more than one spider of\n",
    "    # this class simultaneously.\n",
    "    name = \"CL\"\n",
    "    \n",
    "    # URL(s) to start with.\n",
    "    allowed_domains = [\"buenosaires.craigslist.org\"]\n",
    "    start_urls = [\n",
    "        'https://buenosaires.craigslist.org/search/hhh?lang=en&cc=us&query=palermo&availabilityMode=0&sale_date=all+dates',\n",
    "    ]\n",
    "\n",
    "    # Use XPath to parse the response we get.\n",
    "    def parse(self, response):\n",
    "        \n",
    "        # Iterate over every <article> element on the page.\n",
    "        for posting in response.xpath('//p'):\n",
    "            \n",
    "            # Yield a dictionary with the values we want.\n",
    "            yield {\n",
    "                # This is the code to choose what we want to extract\n",
    "                # You can modify this with other Xpath expressions to extract other information from the site\n",
    "                'title': posting.xpath('a[@class=\"result-title hdrlnk\"]/text()').extract_first(),\n",
    "                'date': posting.xpath('time[@class=\"result-date\"]/text()').extract_first(),\n",
    "                'price': posting.xpath('span/span[@class=\"result-price\"]/text()').extract_first()\n",
    "            }\n",
    "        \n",
    "        # scrape all pages\n",
    "        next_page_relative_url = response.xpath('//a[@class=\"button next\"]/@href').extract_first()\n",
    "        next_page_absolute_url = response.urljoin(next_page_relative_url)\n",
    "        \n",
    "\n",
    "# Tell the script how to run the crawler by passing in settings.\n",
    "process = CrawlerProcess({\n",
    "    'FEED_FORMAT': 'json',         # Store data in JSON format.\n",
    "    'FEED_URI': 'clbsas.json',  # Name our storage file.\n",
    "    'ROBOTSTXT_OBEY': True,\n",
    "    'USER_AGENT': 'ThinkfulDataScienceBootcamp_Rodolfo (thinkful.com)',\n",
    "    'AUTOTHROTTLE_ENABLED': True,\n",
    "    'HTTPCACHE_ENABLED': True,\n",
    "    'LOG_ENABLED': False           # Turn off logging for now.\n",
    "})\n",
    "\n",
    "# Start the crawler with our spider.\n",
    "process.crawl(CLSpider)\n",
    "process.start()\n",
    "print('Success!')"
   ]
  },
  {
   "cell_type": "markdown",
   "metadata": {},
   "source": [
    "Now we will create a dataframe to analyze the data:"
   ]
  },
  {
   "cell_type": "code",
   "execution_count": 2,
   "metadata": {
    "scrolled": true
   },
   "outputs": [
    {
     "name": "stdout",
     "output_type": "stream",
     "text": [
      "(120, 3)\n"
     ]
    },
    {
     "data": {
      "text/html": [
       "<div>\n",
       "<style scoped>\n",
       "    .dataframe tbody tr th:only-of-type {\n",
       "        vertical-align: middle;\n",
       "    }\n",
       "\n",
       "    .dataframe tbody tr th {\n",
       "        vertical-align: top;\n",
       "    }\n",
       "\n",
       "    .dataframe thead th {\n",
       "        text-align: right;\n",
       "    }\n",
       "</style>\n",
       "<table border=\"1\" class=\"dataframe\">\n",
       "  <thead>\n",
       "    <tr style=\"text-align: right;\">\n",
       "      <th></th>\n",
       "      <th>date</th>\n",
       "      <th>price</th>\n",
       "      <th>title</th>\n",
       "    </tr>\n",
       "  </thead>\n",
       "  <tbody>\n",
       "    <tr>\n",
       "      <th>0</th>\n",
       "      <td>Jul 26</td>\n",
       "      <td>₱500</td>\n",
       "      <td>PRIVATE ROOM PALERMO + ALL MEALS AND DRINKS + ...</td>\n",
       "    </tr>\n",
       "    <tr>\n",
       "      <th>1</th>\n",
       "      <td>Jul 26</td>\n",
       "      <td>₱545</td>\n",
       "      <td>PALERMO SOHO---GREAT BEDROOMS--- , MUST SEE! *...</td>\n",
       "    </tr>\n",
       "    <tr>\n",
       "      <th>2</th>\n",
       "      <td>Jul 26</td>\n",
       "      <td>₱950</td>\n",
       "      <td>Beautiful 3br apartment with terrace located i...</td>\n",
       "    </tr>\n",
       "    <tr>\n",
       "      <th>3</th>\n",
       "      <td>Jul 26</td>\n",
       "      <td>₱25000</td>\n",
       "      <td>2br apartment Alto Palermo Mall Area</td>\n",
       "    </tr>\n",
       "    <tr>\n",
       "      <th>4</th>\n",
       "      <td>Jul 26</td>\n",
       "      <td>₱24500</td>\n",
       "      <td>2br apartment with 2 balconies Palermo University</td>\n",
       "    </tr>\n",
       "  </tbody>\n",
       "</table>\n",
       "</div>"
      ],
      "text/plain": [
       "     date   price                                              title\n",
       "0  Jul 26    ₱500  PRIVATE ROOM PALERMO + ALL MEALS AND DRINKS + ...\n",
       "1  Jul 26    ₱545  PALERMO SOHO---GREAT BEDROOMS--- , MUST SEE! *...\n",
       "2  Jul 26    ₱950  Beautiful 3br apartment with terrace located i...\n",
       "3  Jul 26  ₱25000               2br apartment Alto Palermo Mall Area\n",
       "4  Jul 26  ₱24500  2br apartment with 2 balconies Palermo University"
      ]
     },
     "execution_count": 2,
     "metadata": {},
     "output_type": "execute_result"
    }
   ],
   "source": [
    "import pandas as pd\n",
    "\n",
    "# Turning JSON into Data Frame\n",
    "palermo = pd.read_json('clbsas.json')\n",
    "print(palermo.shape)\n",
    "palermo.head()"
   ]
  },
  {
   "cell_type": "markdown",
   "metadata": {},
   "source": [
    "Somehow I can't make it work for as to scrap all the pages.\n",
    "We will clean out the peso signs from the price."
   ]
  },
  {
   "cell_type": "code",
   "execution_count": 3,
   "metadata": {},
   "outputs": [
    {
     "data": {
      "text/html": [
       "<div>\n",
       "<style scoped>\n",
       "    .dataframe tbody tr th:only-of-type {\n",
       "        vertical-align: middle;\n",
       "    }\n",
       "\n",
       "    .dataframe tbody tr th {\n",
       "        vertical-align: top;\n",
       "    }\n",
       "\n",
       "    .dataframe thead th {\n",
       "        text-align: right;\n",
       "    }\n",
       "</style>\n",
       "<table border=\"1\" class=\"dataframe\">\n",
       "  <thead>\n",
       "    <tr style=\"text-align: right;\">\n",
       "      <th></th>\n",
       "      <th>date</th>\n",
       "      <th>price</th>\n",
       "      <th>title</th>\n",
       "    </tr>\n",
       "  </thead>\n",
       "  <tbody>\n",
       "    <tr>\n",
       "      <th>0</th>\n",
       "      <td>Jul 26</td>\n",
       "      <td>500.0</td>\n",
       "      <td>PRIVATE ROOM PALERMO + ALL MEALS AND DRINKS + ...</td>\n",
       "    </tr>\n",
       "    <tr>\n",
       "      <th>1</th>\n",
       "      <td>Jul 26</td>\n",
       "      <td>545.0</td>\n",
       "      <td>PALERMO SOHO---GREAT BEDROOMS--- , MUST SEE! *...</td>\n",
       "    </tr>\n",
       "    <tr>\n",
       "      <th>2</th>\n",
       "      <td>Jul 26</td>\n",
       "      <td>950.0</td>\n",
       "      <td>Beautiful 3br apartment with terrace located i...</td>\n",
       "    </tr>\n",
       "    <tr>\n",
       "      <th>3</th>\n",
       "      <td>Jul 26</td>\n",
       "      <td>25000.0</td>\n",
       "      <td>2br apartment Alto Palermo Mall Area</td>\n",
       "    </tr>\n",
       "    <tr>\n",
       "      <th>4</th>\n",
       "      <td>Jul 26</td>\n",
       "      <td>24500.0</td>\n",
       "      <td>2br apartment with 2 balconies Palermo University</td>\n",
       "    </tr>\n",
       "  </tbody>\n",
       "</table>\n",
       "</div>"
      ],
      "text/plain": [
       "     date    price                                              title\n",
       "0  Jul 26    500.0  PRIVATE ROOM PALERMO + ALL MEALS AND DRINKS + ...\n",
       "1  Jul 26    545.0  PALERMO SOHO---GREAT BEDROOMS--- , MUST SEE! *...\n",
       "2  Jul 26    950.0  Beautiful 3br apartment with terrace located i...\n",
       "3  Jul 26  25000.0               2br apartment Alto Palermo Mall Area\n",
       "4  Jul 26  24500.0  2br apartment with 2 balconies Palermo University"
      ]
     },
     "execution_count": 3,
     "metadata": {},
     "output_type": "execute_result"
    }
   ],
   "source": [
    "import re\n",
    "\n",
    "palermo.price = palermo.price.map(lambda x: None if x == None else int(re.sub('\\₱', '', str(x))))\n",
    "palermo.head()"
   ]
  },
  {
   "cell_type": "markdown",
   "metadata": {},
   "source": [
    "### Currency exchange function\n",
    "\n",
    "We will define a function to change the original prices in Argentine Pesos to US Dollars."
   ]
  },
  {
   "cell_type": "code",
   "execution_count": 4,
   "metadata": {
    "collapsed": true
   },
   "outputs": [],
   "source": [
    "currency_exchange = 27.5 # USD 1 = ARS 27.5"
   ]
  },
  {
   "cell_type": "code",
   "execution_count": 5,
   "metadata": {},
   "outputs": [],
   "source": [
    "def c_e(price_ars):\n",
    "    price_usd = price_ars/currency_exchange\n",
    "    return price_usd\n",
    "\n",
    "palermo['price'] = palermo['price'].apply(c_e)"
   ]
  },
  {
   "cell_type": "code",
   "execution_count": 6,
   "metadata": {},
   "outputs": [
    {
     "data": {
      "text/html": [
       "<div>\n",
       "<style scoped>\n",
       "    .dataframe tbody tr th:only-of-type {\n",
       "        vertical-align: middle;\n",
       "    }\n",
       "\n",
       "    .dataframe tbody tr th {\n",
       "        vertical-align: top;\n",
       "    }\n",
       "\n",
       "    .dataframe thead th {\n",
       "        text-align: right;\n",
       "    }\n",
       "</style>\n",
       "<table border=\"1\" class=\"dataframe\">\n",
       "  <thead>\n",
       "    <tr style=\"text-align: right;\">\n",
       "      <th></th>\n",
       "      <th>date</th>\n",
       "      <th>price</th>\n",
       "      <th>title</th>\n",
       "    </tr>\n",
       "  </thead>\n",
       "  <tbody>\n",
       "    <tr>\n",
       "      <th>0</th>\n",
       "      <td>Jul 26</td>\n",
       "      <td>18.181818</td>\n",
       "      <td>PRIVATE ROOM PALERMO + ALL MEALS AND DRINKS + ...</td>\n",
       "    </tr>\n",
       "    <tr>\n",
       "      <th>1</th>\n",
       "      <td>Jul 26</td>\n",
       "      <td>19.818182</td>\n",
       "      <td>PALERMO SOHO---GREAT BEDROOMS--- , MUST SEE! *...</td>\n",
       "    </tr>\n",
       "    <tr>\n",
       "      <th>2</th>\n",
       "      <td>Jul 26</td>\n",
       "      <td>34.545455</td>\n",
       "      <td>Beautiful 3br apartment with terrace located i...</td>\n",
       "    </tr>\n",
       "    <tr>\n",
       "      <th>3</th>\n",
       "      <td>Jul 26</td>\n",
       "      <td>909.090909</td>\n",
       "      <td>2br apartment Alto Palermo Mall Area</td>\n",
       "    </tr>\n",
       "    <tr>\n",
       "      <th>4</th>\n",
       "      <td>Jul 26</td>\n",
       "      <td>890.909091</td>\n",
       "      <td>2br apartment with 2 balconies Palermo University</td>\n",
       "    </tr>\n",
       "  </tbody>\n",
       "</table>\n",
       "</div>"
      ],
      "text/plain": [
       "     date       price                                              title\n",
       "0  Jul 26   18.181818  PRIVATE ROOM PALERMO + ALL MEALS AND DRINKS + ...\n",
       "1  Jul 26   19.818182  PALERMO SOHO---GREAT BEDROOMS--- , MUST SEE! *...\n",
       "2  Jul 26   34.545455  Beautiful 3br apartment with terrace located i...\n",
       "3  Jul 26  909.090909               2br apartment Alto Palermo Mall Area\n",
       "4  Jul 26  890.909091  2br apartment with 2 balconies Palermo University"
      ]
     },
     "execution_count": 6,
     "metadata": {},
     "output_type": "execute_result"
    }
   ],
   "source": [
    "palermo.head()"
   ]
  },
  {
   "cell_type": "code",
   "execution_count": 7,
   "metadata": {},
   "outputs": [
    {
     "name": "stdout",
     "output_type": "stream",
     "text": [
      "170.2434514637903\n"
     ]
    }
   ],
   "source": [
    "palermo_price = palermo[palermo.price>0]\n",
    "average_price = palermo_price.price.mean()\n",
    "\n",
    "print(average_price)"
   ]
  },
  {
   "cell_type": "markdown",
   "metadata": {},
   "source": [
    "The average price for a space in palermo is of $170."
   ]
  },
  {
   "cell_type": "code",
   "execution_count": 8,
   "metadata": {
    "scrolled": true
   },
   "outputs": [
    {
     "data": {
      "image/png": "[encoded data removed]",
      "text/plain": [
       "<matplotlib.figure.Figure at 0x7f977ce36080>"
      ]
     },
     "metadata": {},
     "output_type": "display_data"
    }
   ],
   "source": [
    "import matplotlib.pyplot as plt\n",
    "%matplotlib inline\n",
    "\n",
    "plt.hist(palermo_price.price, bins=5)\n",
    "plt.xlabel('Space Price')\n",
    "plt.ylabel('Count')\n",
    "plt.title('Price of Housing in Buenos Aires Craigslist')\n",
    "plt.show()"
   ]
  },
  {
   "cell_type": "markdown",
   "metadata": {},
   "source": [
    "We can see that most housing opportunities are under $375, and a few of them over this price."
   ]
  }
 ],
 "metadata": {
  "hide_input": false,
  "kernelspec": {
   "display_name": "Python [default]",
   "language": "python",
   "name": "python3"
  },
  "language_info": {
   "codemirror_mode": {
    "name": "ipython",
    "version": 3
   },
   "file_extension": ".py",
   "mimetype": "text/x-python",
   "name": "python",
   "nbconvert_exporter": "python",
   "pygments_lexer": "ipython3",
   "version": "3.6.3"
  }
 },
 "nbformat": 4,
 "nbformat_minor": 2
}
