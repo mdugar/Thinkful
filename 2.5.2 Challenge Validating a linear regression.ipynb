{
 "cells": [
  {
   "cell_type": "markdown",
   "metadata": {},
   "source": [
    "## 2.5.2 Challenge: Validating a linear regression"
   ]
  },
  {
   "cell_type": "code",
   "execution_count": 1,
   "metadata": {
    "collapsed": true
   },
   "outputs": [],
   "source": [
    "import numpy as np\n",
    "import pandas as pd\n",
    "import matplotlib.pyplot as plt\n",
    "import seaborn as sns\n",
    "from sklearn.model_selection import train_test_split\n",
    "import statsmodels.formula.api as smf\n",
    "from statsmodels.sandbox.regression.predstd import wls_prediction_std\n",
    "\n",
    "\n",
    "import warnings\n",
    "warnings.filterwarnings(\"ignore\")"
   ]
  },
  {
   "cell_type": "code",
   "execution_count": 2,
   "metadata": {},
   "outputs": [
    {
     "name": "stdout",
     "output_type": "stream",
     "text": [
      "Number of rows: 341\n"
     ]
    }
   ],
   "source": [
    "data_path = '/home/mache/Desktop/Thinkful/Course/Unit 2/ny_2013i.csv'\n",
    "data = pd.read_csv(data_path, index_col = 0)\n",
    "print (\"Number of rows: {}\".format(len(data.index)))"
   ]
  },
  {
   "cell_type": "code",
   "execution_count": 3,
   "metadata": {},
   "outputs": [
    {
     "data": {
      "text/html": [
       "<div>\n",
       "<style>\n",
       "    .dataframe thead tr:only-child th {\n",
       "        text-align: right;\n",
       "    }\n",
       "\n",
       "    .dataframe thead th {\n",
       "        text-align: left;\n",
       "    }\n",
       "\n",
       "    .dataframe tbody tr th {\n",
       "        vertical-align: top;\n",
       "    }\n",
       "</style>\n",
       "<table border=\"1\" class=\"dataframe\">\n",
       "  <thead>\n",
       "    <tr style=\"text-align: right;\">\n",
       "      <th></th>\n",
       "      <th>City</th>\n",
       "      <th>population</th>\n",
       "      <th>violent_crime</th>\n",
       "      <th>murder</th>\n",
       "      <th>rape</th>\n",
       "      <th>rape2</th>\n",
       "      <th>robbery</th>\n",
       "      <th>aggravated_assault</th>\n",
       "      <th>property_crime</th>\n",
       "      <th>burglary</th>\n",
       "      <th>larceny_theft</th>\n",
       "      <th>motor_vehicle_theft</th>\n",
       "      <th>arson3</th>\n",
       "      <th>popsq</th>\n",
       "      <th>murder_categorical</th>\n",
       "      <th>robbery_categorical</th>\n",
       "    </tr>\n",
       "  </thead>\n",
       "  <tbody>\n",
       "    <tr>\n",
       "      <th>0</th>\n",
       "      <td>Adams Village</td>\n",
       "      <td>1861</td>\n",
       "      <td>0</td>\n",
       "      <td>0</td>\n",
       "      <td>NaN</td>\n",
       "      <td>0</td>\n",
       "      <td>0</td>\n",
       "      <td>0</td>\n",
       "      <td>12</td>\n",
       "      <td>2</td>\n",
       "      <td>10</td>\n",
       "      <td>0</td>\n",
       "      <td>0.0</td>\n",
       "      <td>3463321</td>\n",
       "      <td>0</td>\n",
       "      <td>0</td>\n",
       "    </tr>\n",
       "    <tr>\n",
       "      <th>1</th>\n",
       "      <td>Addison Town and Village</td>\n",
       "      <td>2577</td>\n",
       "      <td>3</td>\n",
       "      <td>0</td>\n",
       "      <td>NaN</td>\n",
       "      <td>0</td>\n",
       "      <td>0</td>\n",
       "      <td>3</td>\n",
       "      <td>24</td>\n",
       "      <td>3</td>\n",
       "      <td>20</td>\n",
       "      <td>1</td>\n",
       "      <td>0.0</td>\n",
       "      <td>6640929</td>\n",
       "      <td>0</td>\n",
       "      <td>0</td>\n",
       "    </tr>\n",
       "    <tr>\n",
       "      <th>2</th>\n",
       "      <td>Akron Village</td>\n",
       "      <td>2846</td>\n",
       "      <td>3</td>\n",
       "      <td>0</td>\n",
       "      <td>NaN</td>\n",
       "      <td>0</td>\n",
       "      <td>0</td>\n",
       "      <td>3</td>\n",
       "      <td>16</td>\n",
       "      <td>1</td>\n",
       "      <td>15</td>\n",
       "      <td>0</td>\n",
       "      <td>0.0</td>\n",
       "      <td>8099716</td>\n",
       "      <td>0</td>\n",
       "      <td>0</td>\n",
       "    </tr>\n",
       "    <tr>\n",
       "      <th>3</th>\n",
       "      <td>Albany</td>\n",
       "      <td>97956</td>\n",
       "      <td>791</td>\n",
       "      <td>8</td>\n",
       "      <td>NaN</td>\n",
       "      <td>30</td>\n",
       "      <td>227</td>\n",
       "      <td>526</td>\n",
       "      <td>4090</td>\n",
       "      <td>705</td>\n",
       "      <td>3243</td>\n",
       "      <td>142</td>\n",
       "      <td>NaN</td>\n",
       "      <td>9595377936</td>\n",
       "      <td>1</td>\n",
       "      <td>1</td>\n",
       "    </tr>\n",
       "    <tr>\n",
       "      <th>4</th>\n",
       "      <td>Albion Village</td>\n",
       "      <td>6388</td>\n",
       "      <td>23</td>\n",
       "      <td>0</td>\n",
       "      <td>NaN</td>\n",
       "      <td>3</td>\n",
       "      <td>4</td>\n",
       "      <td>16</td>\n",
       "      <td>223</td>\n",
       "      <td>53</td>\n",
       "      <td>165</td>\n",
       "      <td>5</td>\n",
       "      <td>NaN</td>\n",
       "      <td>40806544</td>\n",
       "      <td>0</td>\n",
       "      <td>1</td>\n",
       "    </tr>\n",
       "  </tbody>\n",
       "</table>\n",
       "</div>"
      ],
      "text/plain": [
       "                       City  population  violent_crime  murder  rape  rape2  \\\n",
       "0             Adams Village        1861              0       0   NaN      0   \n",
       "1  Addison Town and Village        2577              3       0   NaN      0   \n",
       "2             Akron Village        2846              3       0   NaN      0   \n",
       "3                    Albany       97956            791       8   NaN     30   \n",
       "4            Albion Village        6388             23       0   NaN      3   \n",
       "\n",
       "   robbery  aggravated_assault  property_crime  burglary  larceny_theft  \\\n",
       "0        0                   0              12         2             10   \n",
       "1        0                   3              24         3             20   \n",
       "2        0                   3              16         1             15   \n",
       "3      227                 526            4090       705           3243   \n",
       "4        4                  16             223        53            165   \n",
       "\n",
       "   motor_vehicle_theft  arson3       popsq  murder_categorical  \\\n",
       "0                    0     0.0     3463321                   0   \n",
       "1                    1     0.0     6640929                   0   \n",
       "2                    0     0.0     8099716                   0   \n",
       "3                  142     NaN  9595377936                   1   \n",
       "4                    5     NaN    40806544                   0   \n",
       "\n",
       "   robbery_categorical  \n",
       "0                    0  \n",
       "1                    0  \n",
       "2                    0  \n",
       "3                    1  \n",
       "4                    1  "
      ]
     },
     "execution_count": 3,
     "metadata": {},
     "output_type": "execute_result"
    }
   ],
   "source": [
    "data.head(5)"
   ]
  },
  {
   "cell_type": "code",
   "execution_count": 4,
   "metadata": {},
   "outputs": [],
   "source": [
    "data['log_population'] = data['population'].apply(np.log)\n",
    "data['log_property_crime'] = data['property_crime'].apply(np.log)\n",
    "X = data[['log_population', 'popsq', 'murder', 'robbery']]\n",
    "Y = data['log_property_crime']\n",
    "trans_data = data.drop(['log_population', 'log_property_crime'], axis = 1)"
   ]
  },
  {
   "cell_type": "code",
   "execution_count": 5,
   "metadata": {
    "collapsed": true
   },
   "outputs": [],
   "source": [
    "linear_formula = 'log_property_crime ~ log_population+popsq+murder+robbery'"
   ]
  },
  {
   "cell_type": "code",
   "execution_count": 6,
   "metadata": {},
   "outputs": [],
   "source": [
    "#Fit the model to our data using the formula.\n",
    "lg_model = smf.ols(formula=linear_formula, data=data).fit()"
   ]
  },
  {
   "cell_type": "code",
   "execution_count": 7,
   "metadata": {},
   "outputs": [
    {
     "name": "stdout",
     "output_type": "stream",
     "text": [
      "R squared:  0.757856038745\n",
      "\n",
      "Parameters\n",
      "\n",
      " Intercept        -5.297103e+00\n",
      "log_population    1.120768e+00\n",
      "popsq            -3.155431e-13\n",
      "murder           -6.254022e-03\n",
      "robbery           1.232936e-03\n",
      "dtype: float64\n",
      "\n",
      "P-values\n",
      "\n",
      " Intercept         1.197179e-37\n",
      "log_population    2.327307e-88\n",
      "popsq             2.618507e-01\n",
      "murder            8.855850e-01\n",
      "robbery           4.790589e-01\n",
      "dtype: float64\n",
      "\n",
      "Confidence Intervals\n"
     ]
    },
    {
     "data": {
      "text/html": [
       "<div>\n",
       "<style>\n",
       "    .dataframe thead tr:only-child th {\n",
       "        text-align: right;\n",
       "    }\n",
       "\n",
       "    .dataframe thead th {\n",
       "        text-align: left;\n",
       "    }\n",
       "\n",
       "    .dataframe tbody tr th {\n",
       "        vertical-align: top;\n",
       "    }\n",
       "</style>\n",
       "<table border=\"1\" class=\"dataframe\">\n",
       "  <thead>\n",
       "    <tr style=\"text-align: right;\">\n",
       "      <th></th>\n",
       "      <th>0</th>\n",
       "      <th>1</th>\n",
       "    </tr>\n",
       "  </thead>\n",
       "  <tbody>\n",
       "    <tr>\n",
       "      <th>Intercept</th>\n",
       "      <td>-6.011791e+00</td>\n",
       "      <td>-4.582415e+00</td>\n",
       "    </tr>\n",
       "    <tr>\n",
       "      <th>log_population</th>\n",
       "      <td>1.040868e+00</td>\n",
       "      <td>1.200669e+00</td>\n",
       "    </tr>\n",
       "    <tr>\n",
       "      <th>popsq</th>\n",
       "      <td>-8.677983e-13</td>\n",
       "      <td>2.367121e-13</td>\n",
       "    </tr>\n",
       "    <tr>\n",
       "      <th>murder</th>\n",
       "      <td>-9.168299e-02</td>\n",
       "      <td>7.917495e-02</td>\n",
       "    </tr>\n",
       "    <tr>\n",
       "      <th>robbery</th>\n",
       "      <td>-2.189612e-03</td>\n",
       "      <td>4.655483e-03</td>\n",
       "    </tr>\n",
       "  </tbody>\n",
       "</table>\n",
       "</div>"
      ],
      "text/plain": [
       "                           0             1\n",
       "Intercept      -6.011791e+00 -4.582415e+00\n",
       "log_population  1.040868e+00  1.200669e+00\n",
       "popsq          -8.677983e-13  2.367121e-13\n",
       "murder         -9.168299e-02  7.917495e-02\n",
       "robbery        -2.189612e-03  4.655483e-03"
      ]
     },
     "metadata": {},
     "output_type": "display_data"
    }
   ],
   "source": [
    "linear_formula = 'log_property_crime ~ log_population + popsq + murder + robbery'\n",
    "\n",
    "#Fit the model to our data using the formula.\n",
    "lg_model = smf.ols(formula=linear_formula, data=data).fit()\n",
    "print (\"R squared: \", lg_model.rsquared)\n",
    "print (\"\\nParameters\\n\\n\", lg_model.params)\n",
    "print (\"\\nP-values\\n\\n\", lg_model.pvalues)\n",
    "print (\"\\nConfidence Intervals\")\n",
    "display(lg_model.conf_int())"
   ]
  },
  {
   "cell_type": "code",
   "execution_count": 8,
   "metadata": {},
   "outputs": [],
   "source": [
    "comparison_columns = ['Intercept', 'log_population', 'robbery']\n",
    "params_df = pd.DataFrame(columns = comparison_columns)\n",
    "pvalues_df = pd.DataFrame(columns = comparison_columns)\n",
    "rsquared_series = pd.Series()"
   ]
  },
  {
   "cell_type": "markdown",
   "metadata": {},
   "source": [
    "## 1. Baseline¶"
   ]
  },
  {
   "cell_type": "code",
   "execution_count": 9,
   "metadata": {},
   "outputs": [
    {
     "data": {
      "image/png": "[encoded data removed]",
      "text/plain": [
       "<matplotlib.figure.Figure at 0x7f60f0ca8a20>"
      ]
     },
     "metadata": {},
     "output_type": "display_data"
    }
   ],
   "source": [
    "#Write out the model formula.\n",
    "#Your dependent variable on the right, independent variables on the left\n",
    "#Use a ~ to represent an '=' from the functional form\n",
    "linear_formula = 'log_property_crime ~ log_population + robbery'\n",
    "\n",
    "#Fit the model to our data using the formula.\n",
    "lg_model = smf.ols(formula=linear_formula, data=data).fit()\n",
    "params_df = params_df.append(lg_model.params, ignore_index = True)\n",
    "pvalues_df = pvalues_df.append(lg_model.pvalues, ignore_index = True)\n",
    "rsquared_series = rsquared_series.append(pd.Series(lg_model.rsquared))\n",
    "\n",
    "#residual\n",
    "baseline_ypred = lg_model.predict()\n",
    "baseline_residual = baseline_ypred - Y\n",
    "\n",
    "sns.jointplot(Y, baseline_residual, kind = 'kde')\n",
    "plt.show()"
   ]
  },
  {
   "cell_type": "markdown",
   "metadata": {},
   "source": [
    "## 2. Holdout¶"
   ]
  },
  {
   "cell_type": "markdown",
   "metadata": {},
   "source": [
    "Train 80%, test 20%."
   ]
  },
  {
   "cell_type": "code",
   "execution_count": 10,
   "metadata": {},
   "outputs": [
    {
     "data": {
      "image/png": "[encoded data removed]",
      "text/plain": [
       "<matplotlib.figure.Figure at 0x7f60f0c7f2e8>"
      ]
     },
     "metadata": {},
     "output_type": "display_data"
    }
   ],
   "source": [
    "#Use train_test_split to create the necessary training and test groups\n",
    "X_train, X_test, Y_train, Y_test = train_test_split(data[['log_population', 'robbery']], data['log_property_crime'], test_size=0.2, random_state=20)\n",
    "holdout_df = pd.concat([X_train, Y_train], axis = 1)\n",
    "\n",
    "#Fit and get model values\n",
    "lg_holdout_model = smf.ols(formula=linear_formula, data=holdout_df).fit()\n",
    "params_df = params_df.append(lg_holdout_model.params, ignore_index = True)\n",
    "pvalues_df = pvalues_df.append(lg_holdout_model.pvalues, ignore_index = True)\n",
    "rsquared_series = rsquared_series.append(pd.Series(lg_holdout_model.rsquared))\n",
    "\n",
    "#Residual\n",
    "holdout_ypred = lg_holdout_model.predict(X_test)\n",
    "holdout_residual = holdout_ypred - Y\n",
    "sns.jointplot(Y, holdout_residual, kind = 'kde')\n",
    "plt.show()"
   ]
  },
  {
   "cell_type": "markdown",
   "metadata": {},
   "source": [
    "## 3. Cross-validation¶\n"
   ]
  },
  {
   "cell_type": "markdown",
   "metadata": {},
   "source": [
    "Train on data, test on fold. Perform 5 folds and find mean and standard deviation of the scores."
   ]
  },
  {
   "cell_type": "code",
   "execution_count": 11,
   "metadata": {
    "collapsed": true
   },
   "outputs": [],
   "source": [
    "total_points = data.shape[0]\n",
    "folds = 5\n",
    "fold_size = int(total_points / folds)\n",
    "from sklearn.metrics import confusion_matrix\n",
    "\n",
    "for fold in range(folds):\n",
    "    test_vals = list(range(fold * fold_size,(fold + 1) * fold_size))\n",
    "    train_vals = list(range(total_points))\n",
    "    train_vals = list(set(train_vals) - set(test_vals))\n",
    "    fold_X_train = X.iloc[train_vals]\n",
    "    fold_X_test = X.iloc[test_vals]\n",
    "    fold_Y_train = Y.iloc[train_vals]\n",
    "    fold_Y_test = Y.iloc[test_vals]\n",
    "    cross_val_df = pd.concat([fold_X_train, fold_Y_train], axis = 1)\n",
    "    #Fit and get model values\n",
    "    lg_cross_val_model = smf.ols(formula=linear_formula, data=cross_val_df).fit()\n",
    "    params_df = params_df.append(lg_cross_val_model.params, ignore_index = True)\n",
    "    pvalues_df = pvalues_df.append(lg_cross_val_model.pvalues, ignore_index = True)\n",
    "    rsquared_series = rsquared_series.append(pd.Series(lg_cross_val_model.rsquared))\n",
    "    #Residual\n",
    "    cross_val_ypred = lg_cross_val_model.predict(fold_X_test)\n",
    "    cross_val_residual = cross_val_ypred - Y"
   ]
  },
  {
   "cell_type": "markdown",
   "metadata": {},
   "source": [
    "### 4. Transfer model"
   ]
  },
  {
   "cell_type": "markdown",
   "metadata": {},
   "source": [
    "Train on New York 2013 data, test on New York 2014 data. Evaluate what transferred well, what transferred poorly."
   ]
  },
  {
   "cell_type": "code",
   "execution_count": 12,
   "metadata": {},
   "outputs": [
    {
     "data": {
      "text/html": [
       "<div>\n",
       "<style>\n",
       "    .dataframe thead tr:only-child th {\n",
       "        text-align: right;\n",
       "    }\n",
       "\n",
       "    .dataframe thead th {\n",
       "        text-align: left;\n",
       "    }\n",
       "\n",
       "    .dataframe tbody tr th {\n",
       "        vertical-align: top;\n",
       "    }\n",
       "</style>\n",
       "<table border=\"1\" class=\"dataframe\">\n",
       "  <thead>\n",
       "    <tr style=\"text-align: right;\">\n",
       "      <th></th>\n",
       "      <th>Population</th>\n",
       "      <th>Robbery</th>\n",
       "      <th>Property\n",
       "crime</th>\n",
       "    </tr>\n",
       "  </thead>\n",
       "  <tbody>\n",
       "    <tr>\n",
       "      <th>0</th>\n",
       "      <td>1,851</td>\n",
       "      <td>0</td>\n",
       "      <td>11</td>\n",
       "    </tr>\n",
       "    <tr>\n",
       "      <th>1</th>\n",
       "      <td>2,568</td>\n",
       "      <td>1</td>\n",
       "      <td>49</td>\n",
       "    </tr>\n",
       "    <tr>\n",
       "      <th>2</th>\n",
       "      <td>820</td>\n",
       "      <td>0</td>\n",
       "      <td>1</td>\n",
       "    </tr>\n",
       "  </tbody>\n",
       "</table>\n",
       "</div>"
      ],
      "text/plain": [
       "  Population Robbery Property\\ncrime\n",
       "0      1,851       0              11\n",
       "1      2,568       1              49\n",
       "2        820       0               1"
      ]
     },
     "metadata": {},
     "output_type": "display_data"
    }
   ],
   "source": [
    "#Read data into a dataframe\n",
    "data_2014 = '/home/mache/Desktop/Thinkful/Course/Unit 2/ny_2014.csv'\n",
    "data_2014 = pd.read_csv(data_2014, usecols = ['Population', 'Robbery', 'Property\\ncrime'])\n",
    "display(data_2014.head(3))"
   ]
  },
  {
   "cell_type": "code",
   "execution_count": 13,
   "metadata": {},
   "outputs": [
    {
     "data": {
      "text/plain": [
       "Population         object\n",
       "Robbery            object\n",
       "Property\\ncrime    object\n",
       "dtype: object"
      ]
     },
     "execution_count": 13,
     "metadata": {},
     "output_type": "execute_result"
    }
   ],
   "source": [
    "data_2014.dtypes"
   ]
  },
  {
   "cell_type": "code",
   "execution_count": 14,
   "metadata": {},
   "outputs": [],
   "source": [
    "data_2014.dropna(axis = 0, inplace = True)\n",
    "X_2014 = pd.DataFrame(columns = ['population', 'robbery'])\n",
    "X_2014['population'] = data_2014['Population'].str.replace(',','').astype(int)\n",
    "X_2014['log_population'] = X_2014['population'].apply(np.log)\n",
    "X_2014.drop(['population'], axis = 1, inplace = True)\n",
    "X_2014['robbery'] = data_2014['Robbery'].str.replace(',','').astype(int)\n",
    "X_2014['robbery'] = (X_2014['robbery'] > 0).astype(int)\n",
    "\n",
    "Y_2014 = data_2014['Property\\ncrime'].str.replace(',','').astype(float)\n",
    "Y_2014 = (Y_2014 + 1.0).apply(np.log)\n",
    "Y_2014 = Y_2014.rename('log_property_crime');"
   ]
  },
  {
   "cell_type": "code",
   "execution_count": 15,
   "metadata": {},
   "outputs": [],
   "source": [
    "#Implement model on 2014 data\n",
    "lg_transfer_model = smf.ols(formula=linear_formula, data=pd.concat([X_2014, Y_2014], axis = 1)).fit()\n",
    "params_df = params_df.append(lg_transfer_model.params, ignore_index = True)\n",
    "pvalues_df = pvalues_df.append(lg_transfer_model.pvalues, ignore_index = True)\n",
    "rsquared_series = rsquared_series.append(pd.Series(lg_transfer_model.rsquared))"
   ]
  },
  {
   "cell_type": "markdown",
   "metadata": {},
   "source": [
    "### Results"
   ]
  },
  {
   "cell_type": "code",
   "execution_count": 16,
   "metadata": {},
   "outputs": [
    {
     "data": {
      "text/html": [
       "<div>\n",
       "<style>\n",
       "    .dataframe thead tr:only-child th {\n",
       "        text-align: right;\n",
       "    }\n",
       "\n",
       "    .dataframe thead th {\n",
       "        text-align: left;\n",
       "    }\n",
       "\n",
       "    .dataframe tbody tr th {\n",
       "        vertical-align: top;\n",
       "    }\n",
       "</style>\n",
       "<table border=\"1\" class=\"dataframe\">\n",
       "  <thead>\n",
       "    <tr style=\"text-align: right;\">\n",
       "      <th></th>\n",
       "      <th>Intercept</th>\n",
       "      <th>log_population</th>\n",
       "      <th>robbery</th>\n",
       "    </tr>\n",
       "  </thead>\n",
       "  <tbody>\n",
       "    <tr>\n",
       "      <th>Baseline</th>\n",
       "      <td>-5.564818</td>\n",
       "      <td>1.152682</td>\n",
       "      <td>-0.000042</td>\n",
       "    </tr>\n",
       "    <tr>\n",
       "      <th>Holdout</th>\n",
       "      <td>-5.771409</td>\n",
       "      <td>1.173901</td>\n",
       "      <td>-0.000050</td>\n",
       "    </tr>\n",
       "    <tr>\n",
       "      <th>CV 1</th>\n",
       "      <td>-4.966998</td>\n",
       "      <td>1.091721</td>\n",
       "      <td>-0.000025</td>\n",
       "    </tr>\n",
       "    <tr>\n",
       "      <th>CV 2</th>\n",
       "      <td>-5.646420</td>\n",
       "      <td>1.161776</td>\n",
       "      <td>-0.000046</td>\n",
       "    </tr>\n",
       "    <tr>\n",
       "      <th>CV 3</th>\n",
       "      <td>-5.558076</td>\n",
       "      <td>1.153263</td>\n",
       "      <td>-0.000043</td>\n",
       "    </tr>\n",
       "    <tr>\n",
       "      <th>CV 4</th>\n",
       "      <td>-5.409871</td>\n",
       "      <td>1.131460</td>\n",
       "      <td>0.000892</td>\n",
       "    </tr>\n",
       "    <tr>\n",
       "      <th>CV 5</th>\n",
       "      <td>-5.929385</td>\n",
       "      <td>1.188646</td>\n",
       "      <td>-0.000055</td>\n",
       "    </tr>\n",
       "    <tr>\n",
       "      <th>Transfer</th>\n",
       "      <td>-4.713786</td>\n",
       "      <td>0.978395</td>\n",
       "      <td>0.855024</td>\n",
       "    </tr>\n",
       "  </tbody>\n",
       "</table>\n",
       "</div>"
      ],
      "text/plain": [
       "          Intercept  log_population   robbery\n",
       "Baseline  -5.564818        1.152682 -0.000042\n",
       "Holdout   -5.771409        1.173901 -0.000050\n",
       "CV 1      -4.966998        1.091721 -0.000025\n",
       "CV 2      -5.646420        1.161776 -0.000046\n",
       "CV 3      -5.558076        1.153263 -0.000043\n",
       "CV 4      -5.409871        1.131460  0.000892\n",
       "CV 5      -5.929385        1.188646 -0.000055\n",
       "Transfer  -4.713786        0.978395  0.855024"
      ]
     },
     "metadata": {},
     "output_type": "display_data"
    },
    {
     "data": {
      "text/html": [
       "<div>\n",
       "<style>\n",
       "    .dataframe thead tr:only-child th {\n",
       "        text-align: right;\n",
       "    }\n",
       "\n",
       "    .dataframe thead th {\n",
       "        text-align: left;\n",
       "    }\n",
       "\n",
       "    .dataframe tbody tr th {\n",
       "        vertical-align: top;\n",
       "    }\n",
       "</style>\n",
       "<table border=\"1\" class=\"dataframe\">\n",
       "  <thead>\n",
       "    <tr style=\"text-align: right;\">\n",
       "      <th></th>\n",
       "      <th>Intercept</th>\n",
       "      <th>log_population</th>\n",
       "      <th>robbery</th>\n",
       "    </tr>\n",
       "  </thead>\n",
       "  <tbody>\n",
       "    <tr>\n",
       "      <th>Baseline</th>\n",
       "      <td>1.040237e-44</td>\n",
       "      <td>1.608907e-99</td>\n",
       "      <td>3.420131e-01</td>\n",
       "    </tr>\n",
       "    <tr>\n",
       "      <th>Holdout</th>\n",
       "      <td>2.721004e-38</td>\n",
       "      <td>7.089028e-82</td>\n",
       "      <td>2.632752e-01</td>\n",
       "    </tr>\n",
       "    <tr>\n",
       "      <th>CV 1</th>\n",
       "      <td>1.045474e-28</td>\n",
       "      <td>2.658327e-72</td>\n",
       "      <td>5.763684e-01</td>\n",
       "    </tr>\n",
       "    <tr>\n",
       "      <th>CV 2</th>\n",
       "      <td>1.138705e-40</td>\n",
       "      <td>6.063274e-87</td>\n",
       "      <td>2.778000e-01</td>\n",
       "    </tr>\n",
       "    <tr>\n",
       "      <th>CV 3</th>\n",
       "      <td>1.766707e-37</td>\n",
       "      <td>1.675805e-82</td>\n",
       "      <td>3.374447e-01</td>\n",
       "    </tr>\n",
       "    <tr>\n",
       "      <th>CV 4</th>\n",
       "      <td>9.755265e-31</td>\n",
       "      <td>2.414928e-70</td>\n",
       "      <td>1.360882e-01</td>\n",
       "    </tr>\n",
       "    <tr>\n",
       "      <th>CV 5</th>\n",
       "      <td>3.626048e-38</td>\n",
       "      <td>2.729535e-80</td>\n",
       "      <td>2.338397e-01</td>\n",
       "    </tr>\n",
       "    <tr>\n",
       "      <th>Transfer</th>\n",
       "      <td>1.745351e-30</td>\n",
       "      <td>1.539187e-65</td>\n",
       "      <td>3.842908e-12</td>\n",
       "    </tr>\n",
       "  </tbody>\n",
       "</table>\n",
       "</div>"
      ],
      "text/plain": [
       "             Intercept  log_population       robbery\n",
       "Baseline  1.040237e-44    1.608907e-99  3.420131e-01\n",
       "Holdout   2.721004e-38    7.089028e-82  2.632752e-01\n",
       "CV 1      1.045474e-28    2.658327e-72  5.763684e-01\n",
       "CV 2      1.138705e-40    6.063274e-87  2.778000e-01\n",
       "CV 3      1.766707e-37    1.675805e-82  3.374447e-01\n",
       "CV 4      9.755265e-31    2.414928e-70  1.360882e-01\n",
       "CV 5      3.626048e-38    2.729535e-80  2.338397e-01\n",
       "Transfer  1.745351e-30    1.539187e-65  3.842908e-12"
      ]
     },
     "metadata": {},
     "output_type": "display_data"
    },
    {
     "name": "stdout",
     "output_type": "stream",
     "text": [
      "R-Squared comparison:\n"
     ]
    },
    {
     "data": {
      "text/plain": [
       "Baseline    0.754717\n",
       "Holdout     0.767125\n",
       "CV 1        0.726322\n",
       "CV 2        0.786181\n",
       "CV 3        0.768009\n",
       "CV 4        0.730803\n",
       "CV 5        0.759330\n",
       "Transfer    0.760216\n",
       "dtype: float64"
      ]
     },
     "metadata": {},
     "output_type": "display_data"
    }
   ],
   "source": [
    "comparison_index = ['Baseline', 'Holdout', 'CV 1', 'CV 2', 'CV 3', 'CV 4', 'CV 5', 'Transfer']\n",
    "params_df.index = comparison_index\n",
    "pvalues_df.index = comparison_index\n",
    "rsquared_series.index = comparison_index\n",
    "display(params_df)\n",
    "display(pvalues_df)\n",
    "print('R-Squared comparison:')\n",
    "display(rsquared_series)"
   ]
  },
  {
   "cell_type": "code",
   "execution_count": null,
   "metadata": {
    "collapsed": true
   },
   "outputs": [],
   "source": []
  }
 ],
 "metadata": {
  "kernelspec": {
   "display_name": "Python 3",
   "language": "python",
   "name": "python3"
  },
  "language_info": {
   "codemirror_mode": {
    "name": "ipython",
    "version": 3
   },
   "file_extension": ".py",
   "mimetype": "text/x-python",
   "name": "python",
   "nbconvert_exporter": "python",
   "pygments_lexer": "ipython3",
   "version": "3.6.3"
  }
 },
 "nbformat": 4,
 "nbformat_minor": 2
}
