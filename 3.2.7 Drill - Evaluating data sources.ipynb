{
 "cells": [
  {
   "cell_type": "markdown",
   "metadata": {},
   "source": [
    "# 3.2.6 Drill - Evaluating data sources"
   ]
  },
  {
   "cell_type": "markdown",
   "metadata": {},
   "source": [
    "#### 1. \n",
    "    The data collected that day might not be the best for determining the most popular neighberhoods in Amsterdarm. Therfore, or you change your dataset for regular days (if thats possible), or you reframe the question and ask \"what are the most popular neighbourhoods to spend Christams in Amsterdam?\".\n",
    "#### 2.\n",
    "    The same as in the latter question, the data from that day will be totally affected by the event of great magnitude of the day before. So it might not be accurate to take that data as a regular period and determine a pattern for that particular cities on any given day. \n",
    "#### 3.\n",
    "    Since all the respondants are university students. The correct question would be: what are the most common reasons Armeniann students visit local pubs?"
   ]
  }
 ],
 "metadata": {
  "kernelspec": {
   "display_name": "Python 3",
   "language": "python",
   "name": "python3"
  },
  "language_info": {
   "codemirror_mode": {
    "name": "ipython",
    "version": 3
   },
   "file_extension": ".py",
   "mimetype": "text/x-python",
   "name": "python",
   "nbconvert_exporter": "python",
   "pygments_lexer": "ipython3",
   "version": "3.6.3"
  }
 },
 "nbformat": 4,
 "nbformat_minor": 2
}
