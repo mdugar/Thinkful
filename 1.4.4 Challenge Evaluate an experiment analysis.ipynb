{
 "cells": [
  {
   "cell_type": "markdown",
   "metadata": {},
   "source": [
    "## 1.4.4 Challenge Evaluate an experiment analysis"
   ]
  },
  {
   "cell_type": "markdown",
   "metadata": {},
   "source": [
    "##### 1. The Sith Lords are concerned that their recruiting slogan, \"Give In to Your Anger,\" isn't very effective. Darth Vader develops an alternative slogan, \"Together We Can Rule the Galaxy.\" They compare the slogans on two groups of 50 captured droids each. In one group, Emperor Palpatine delivers the \"Anger\" slogan. In the other, Darth Vader presents the \"Together\" slogan. 20 droids convert to the Dark Side after hearing Palpatine's slogan, while only 5 droids convert after hearing Vader's. The Sith's data scientist concludes that \"Anger\" is a more effective slogan and should continue to be used.\n",
    "\n",
    ">The slogans should have been compared with two different equally numbered populations. The 20 droids that converted with the first slogan, might have converted nonetheless hearing the second one. I would choose two equally numbered populations to give a better result.\n",
    "\n",
    "\n",
    "##### 2. In the past, the Jedi have had difficulty with public relations. They send two envoys, Jar Jar Binks and Mace Windu, to four friendly and four unfriendly planets respectively, with the goal of promoting favorable feelings toward the Jedi. Upon their return, the envoys learn that Jar Jar was much more effective than Windu: Over 75% of the people surveyed said their attitudes had become more favorable after speaking with Jar Jar, while only 65% said their attitudes had become more favorable after speaking with Windu. This makes Windu angry, because he is sure that he had a better success rate than Jar Jar on every planet. The Jedi choose Jar Jar to be their representative in the future.\n",
    "\n",
    ">The bias is the number of subjects in each planet, if these numbers differ by a high number, the results are compromised. I would choose equally sized planets to take the survey.\n",
    "\n",
    "\n",
    "##### 3. A company with work sites in five different countries has sent you data on employee satisfaction rates for workers in Human Resources and workers in Information Technology. Most HR workers are concentrated in three of the countries, while IT workers are equally distributed across worksites. The company requests a report on satisfaction for each job type. You calculate average job satisfaction for HR and for IT and present the report.\n",
    "\n",
    ">Job satisfaction should be compared by location, that is, HR subjects and IT subjects present in each given country. Those IT subjects that are outside the countries where HR subjects are, should be compared with other departments in their country for a more accurate result.\n",
    "\n",
    "\n",
    "##### 4. When people install the Happy Days Fitness Tracker app, they are asked to \"opt in\" to a data collection scheme where their level of physical activity data is automatically sent to the company for product research purposes. During your interview with the company, they tell you that the app is very effective because after installing the app, the data show that people's activity levels rise steadily.\n",
    "\n",
    ">The source of the data is compromised since the subject chooses or not to send the data to the company. It is more likely that a commited users chooses to send the data rather than one that is not that commited. I would advice that for installing the app, it is mandatory for the user to send the data, if the user refuses, the app can't be installed.\n",
    "\n",
    "\n",
    "##### 5. To prevent cheating, a teacher writes three versions of a test. She stacks the three versions together, first all copies of Version A, then all copies of Version B, then all copies of Version C. As students arrive for the exam, each student takes a test. When grading the test, the teacher finds that students who took Version B scored higher than students who took either Version A or Version C. She concludes from this that Version B is easier, and discards it.”\n",
    "\n",
    "> The location of the students might compromise the results. The teacher might be watching standing in the back and front of the classroom, but in the middle she always passes walking. Assuming the tests were given out from the front to the back, version B is in the middle, thus it is easier for students to cheat while the teacher is walking by. The solution, would be to shuffle all versions, and the give them out.\n"
   ]
  }
 ],
 "metadata": {
  "kernelspec": {
   "display_name": "Python 3",
   "language": "python",
   "name": "python3"
  },
  "language_info": {
   "codemirror_mode": {
    "name": "ipython",
    "version": 3
   },
   "file_extension": ".py",
   "mimetype": "text/x-python",
   "name": "python",
   "nbconvert_exporter": "python",
   "pygments_lexer": "ipython3",
   "version": "3.6.3"
  }
 },
 "nbformat": 4,
 "nbformat_minor": 2
}
