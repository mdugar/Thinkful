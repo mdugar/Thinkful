{
 "cells": [
  {
   "cell_type": "markdown",
   "metadata": {},
   "source": [
    "## 2.4.2 Drill: Prepare Data"
   ]
  },
  {
   "cell_type": "code",
   "execution_count": 1,
   "metadata": {
    "collapsed": true
   },
   "outputs": [],
   "source": [
    "import pandas as pd\n",
    "from matplotlib import pyplot as plt\n",
    "import numpy as np\n",
    "from sklearn import linear_model\n",
    "%matplotlib inline\n",
    "pd.options.display.float_format = '{:.3f}'.format\n",
    "\n",
    "import warnings\n",
    "warnings.filterwarnings(action='ignore', module='scipy', message='^internal gelsd')"
   ]
  },
  {
   "cell_type": "code",
   "execution_count": 9,
   "metadata": {},
   "outputs": [
    {
     "data": {
      "text/html": [
       "<div>\n",
       "<style>\n",
       "    .dataframe thead tr:only-child th {\n",
       "        text-align: right;\n",
       "    }\n",
       "\n",
       "    .dataframe thead th {\n",
       "        text-align: left;\n",
       "    }\n",
       "\n",
       "    .dataframe tbody tr th {\n",
       "        vertical-align: top;\n",
       "    }\n",
       "</style>\n",
       "<table border=\"1\" class=\"dataframe\">\n",
       "  <thead>\n",
       "    <tr style=\"text-align: right;\">\n",
       "      <th></th>\n",
       "      <th>City</th>\n",
       "      <th>Population</th>\n",
       "      <th>Violent\n",
       "crime</th>\n",
       "      <th>Murder</th>\n",
       "      <th>Rape\n",
       "(revised\n",
       "definition)1</th>\n",
       "      <th>Rape\n",
       "(legacy\n",
       "definition)2</th>\n",
       "      <th>Robbery</th>\n",
       "      <th>Aggravated\n",
       "assault</th>\n",
       "      <th>Property\n",
       "crime</th>\n",
       "      <th>Burglary</th>\n",
       "      <th>Larceny-\n",
       "theft</th>\n",
       "      <th>Motor\n",
       "vehicle\n",
       "theft</th>\n",
       "      <th>Arson3</th>\n",
       "    </tr>\n",
       "  </thead>\n",
       "  <tbody>\n",
       "    <tr>\n",
       "      <th>0</th>\n",
       "      <td>Adams Village</td>\n",
       "      <td>1,861</td>\n",
       "      <td>0</td>\n",
       "      <td>0.000</td>\n",
       "      <td>nan</td>\n",
       "      <td>0</td>\n",
       "      <td>0</td>\n",
       "      <td>0</td>\n",
       "      <td>12</td>\n",
       "      <td>2</td>\n",
       "      <td>10</td>\n",
       "      <td>0</td>\n",
       "      <td>0.000</td>\n",
       "    </tr>\n",
       "    <tr>\n",
       "      <th>1</th>\n",
       "      <td>Addison Town and Village</td>\n",
       "      <td>2,577</td>\n",
       "      <td>3</td>\n",
       "      <td>0.000</td>\n",
       "      <td>nan</td>\n",
       "      <td>0</td>\n",
       "      <td>0</td>\n",
       "      <td>3</td>\n",
       "      <td>24</td>\n",
       "      <td>3</td>\n",
       "      <td>20</td>\n",
       "      <td>1</td>\n",
       "      <td>0.000</td>\n",
       "    </tr>\n",
       "    <tr>\n",
       "      <th>2</th>\n",
       "      <td>Akron Village</td>\n",
       "      <td>2,846</td>\n",
       "      <td>3</td>\n",
       "      <td>0.000</td>\n",
       "      <td>nan</td>\n",
       "      <td>0</td>\n",
       "      <td>0</td>\n",
       "      <td>3</td>\n",
       "      <td>16</td>\n",
       "      <td>1</td>\n",
       "      <td>15</td>\n",
       "      <td>0</td>\n",
       "      <td>0.000</td>\n",
       "    </tr>\n",
       "    <tr>\n",
       "      <th>3</th>\n",
       "      <td>Albany</td>\n",
       "      <td>97,956</td>\n",
       "      <td>791</td>\n",
       "      <td>8.000</td>\n",
       "      <td>nan</td>\n",
       "      <td>30</td>\n",
       "      <td>227</td>\n",
       "      <td>526</td>\n",
       "      <td>4,090</td>\n",
       "      <td>705</td>\n",
       "      <td>3,243</td>\n",
       "      <td>142</td>\n",
       "      <td>nan</td>\n",
       "    </tr>\n",
       "    <tr>\n",
       "      <th>4</th>\n",
       "      <td>Albion Village</td>\n",
       "      <td>6,388</td>\n",
       "      <td>23</td>\n",
       "      <td>0.000</td>\n",
       "      <td>nan</td>\n",
       "      <td>3</td>\n",
       "      <td>4</td>\n",
       "      <td>16</td>\n",
       "      <td>223</td>\n",
       "      <td>53</td>\n",
       "      <td>165</td>\n",
       "      <td>5</td>\n",
       "      <td>nan</td>\n",
       "    </tr>\n",
       "  </tbody>\n",
       "</table>\n",
       "</div>"
      ],
      "text/plain": [
       "                       City Population Violent\\ncrime  Murder  \\\n",
       "0             Adams Village      1,861              0   0.000   \n",
       "1  Addison Town and Village      2,577              3   0.000   \n",
       "2             Akron Village      2,846              3   0.000   \n",
       "3                    Albany     97,956            791   8.000   \n",
       "4            Albion Village      6,388             23   0.000   \n",
       "\n",
       "   Rape\\n(revised\\ndefinition)1 Rape\\n(legacy\\ndefinition)2 Robbery  \\\n",
       "0                           nan                           0       0   \n",
       "1                           nan                           0       0   \n",
       "2                           nan                           0       0   \n",
       "3                           nan                          30     227   \n",
       "4                           nan                           3       4   \n",
       "\n",
       "  Aggravated\\nassault Property\\ncrime Burglary Larceny-\\ntheft  \\\n",
       "0                   0              12        2              10   \n",
       "1                   3              24        3              20   \n",
       "2                   3              16        1              15   \n",
       "3                 526           4,090      705           3,243   \n",
       "4                  16             223       53             165   \n",
       "\n",
       "  Motor\\nvehicle\\ntheft  Arson3  \n",
       "0                     0   0.000  \n",
       "1                     1   0.000  \n",
       "2                     0   0.000  \n",
       "3                   142     nan  \n",
       "4                     5     nan  "
      ]
     },
     "execution_count": 9,
     "metadata": {},
     "output_type": "execute_result"
    }
   ],
   "source": [
    "#Data\n",
    "df = pd.read_csv('ny_off.csv')\n",
    "df.head()"
   ]
  },
  {
   "cell_type": "code",
   "execution_count": 10,
   "metadata": {
    "scrolled": true
   },
   "outputs": [
    {
     "data": {
      "text/plain": [
       "City                             object\n",
       "Population                       object\n",
       "Violent\\ncrime                   object\n",
       "Murder                          float64\n",
       "Rape\\n(revised\\ndefinition)1    float64\n",
       "Rape\\n(legacy\\ndefinition)2      object\n",
       "Robbery                          object\n",
       "Aggravated\\nassault              object\n",
       "Property\\ncrime                  object\n",
       "Burglary                         object\n",
       "Larceny-\\ntheft                  object\n",
       "Motor\\nvehicle\\ntheft            object\n",
       "Arson3                          float64\n",
       "dtype: object"
      ]
     },
     "execution_count": 10,
     "metadata": {},
     "output_type": "execute_result"
    }
   ],
   "source": [
    "df.dtypes"
   ]
  },
  {
   "cell_type": "code",
   "execution_count": 12,
   "metadata": {
    "collapsed": true
   },
   "outputs": [],
   "source": [
    "#Replace \",\" with nothing\n",
    "def convert_number(number):\n",
    "    try:\n",
    "        converted = float(number.replace(',', ''))\n",
    "    except:\n",
    "        converted = number\n",
    "    \n",
    "    return converted"
   ]
  },
  {
   "cell_type": "code",
   "execution_count": 13,
   "metadata": {
    "collapsed": true
   },
   "outputs": [],
   "source": [
    "df.fillna(0)\n",
    "df['Population'] = df['Population'].apply(lambda x: convert_number(x))\n",
    "df['Murder'] = df['Murder'].apply(lambda x: convert_number(x))\n",
    "df['Robbery'] = df['Robbery'].apply(lambda x: convert_number(x))\n",
    "df['Property\\ncrime'] = df['Property\\ncrime'].apply(lambda x: convert_number(x))\n",
    "df['Larceny-\\ntheft'] = df['Larceny-\\ntheft'].apply(lambda x: convert_number(x))"
   ]
  },
  {
   "cell_type": "code",
   "execution_count": 14,
   "metadata": {},
   "outputs": [
    {
     "data": {
      "text/plain": [
       "City                             object\n",
       "Population                      float64\n",
       "Violent\\ncrime                   object\n",
       "Murder                          float64\n",
       "Rape\\n(revised\\ndefinition)1    float64\n",
       "Rape\\n(legacy\\ndefinition)2      object\n",
       "Robbery                         float64\n",
       "Aggravated\\nassault              object\n",
       "Property\\ncrime                 float64\n",
       "Burglary                         object\n",
       "Larceny-\\ntheft                 float64\n",
       "Motor\\nvehicle\\ntheft            object\n",
       "Arson3                          float64\n",
       "dtype: object"
      ]
     },
     "execution_count": 14,
     "metadata": {},
     "output_type": "execute_result"
    }
   ],
   "source": [
    "df.dtypes"
   ]
  },
  {
   "cell_type": "code",
   "execution_count": 15,
   "metadata": {},
   "outputs": [
    {
     "data": {
      "text/html": [
       "<div>\n",
       "<style>\n",
       "    .dataframe thead tr:only-child th {\n",
       "        text-align: right;\n",
       "    }\n",
       "\n",
       "    .dataframe thead th {\n",
       "        text-align: left;\n",
       "    }\n",
       "\n",
       "    .dataframe tbody tr th {\n",
       "        vertical-align: top;\n",
       "    }\n",
       "</style>\n",
       "<table border=\"1\" class=\"dataframe\">\n",
       "  <thead>\n",
       "    <tr style=\"text-align: right;\">\n",
       "      <th></th>\n",
       "      <th>City</th>\n",
       "      <th>Population</th>\n",
       "      <th>Violent\n",
       "crime</th>\n",
       "      <th>Murder</th>\n",
       "      <th>Rape\n",
       "(revised\n",
       "definition)1</th>\n",
       "      <th>Rape\n",
       "(legacy\n",
       "definition)2</th>\n",
       "      <th>Robbery</th>\n",
       "      <th>Aggravated\n",
       "assault</th>\n",
       "      <th>Property\n",
       "crime</th>\n",
       "      <th>Burglary</th>\n",
       "      <th>Larceny-\n",
       "theft</th>\n",
       "      <th>Motor\n",
       "vehicle\n",
       "theft</th>\n",
       "      <th>Arson3</th>\n",
       "    </tr>\n",
       "  </thead>\n",
       "  <tbody>\n",
       "    <tr>\n",
       "      <th>0</th>\n",
       "      <td>Adams Village</td>\n",
       "      <td>1861.000</td>\n",
       "      <td>0</td>\n",
       "      <td>0.000</td>\n",
       "      <td>nan</td>\n",
       "      <td>0</td>\n",
       "      <td>0.000</td>\n",
       "      <td>0</td>\n",
       "      <td>12.000</td>\n",
       "      <td>2</td>\n",
       "      <td>10.000</td>\n",
       "      <td>0</td>\n",
       "      <td>0.000</td>\n",
       "    </tr>\n",
       "    <tr>\n",
       "      <th>1</th>\n",
       "      <td>Addison Town and Village</td>\n",
       "      <td>2577.000</td>\n",
       "      <td>3</td>\n",
       "      <td>0.000</td>\n",
       "      <td>nan</td>\n",
       "      <td>0</td>\n",
       "      <td>0.000</td>\n",
       "      <td>3</td>\n",
       "      <td>24.000</td>\n",
       "      <td>3</td>\n",
       "      <td>20.000</td>\n",
       "      <td>1</td>\n",
       "      <td>0.000</td>\n",
       "    </tr>\n",
       "    <tr>\n",
       "      <th>2</th>\n",
       "      <td>Akron Village</td>\n",
       "      <td>2846.000</td>\n",
       "      <td>3</td>\n",
       "      <td>0.000</td>\n",
       "      <td>nan</td>\n",
       "      <td>0</td>\n",
       "      <td>0.000</td>\n",
       "      <td>3</td>\n",
       "      <td>16.000</td>\n",
       "      <td>1</td>\n",
       "      <td>15.000</td>\n",
       "      <td>0</td>\n",
       "      <td>0.000</td>\n",
       "    </tr>\n",
       "    <tr>\n",
       "      <th>3</th>\n",
       "      <td>Albany</td>\n",
       "      <td>97956.000</td>\n",
       "      <td>791</td>\n",
       "      <td>8.000</td>\n",
       "      <td>nan</td>\n",
       "      <td>30</td>\n",
       "      <td>227.000</td>\n",
       "      <td>526</td>\n",
       "      <td>4090.000</td>\n",
       "      <td>705</td>\n",
       "      <td>3243.000</td>\n",
       "      <td>142</td>\n",
       "      <td>nan</td>\n",
       "    </tr>\n",
       "    <tr>\n",
       "      <th>4</th>\n",
       "      <td>Albion Village</td>\n",
       "      <td>6388.000</td>\n",
       "      <td>23</td>\n",
       "      <td>0.000</td>\n",
       "      <td>nan</td>\n",
       "      <td>3</td>\n",
       "      <td>4.000</td>\n",
       "      <td>16</td>\n",
       "      <td>223.000</td>\n",
       "      <td>53</td>\n",
       "      <td>165.000</td>\n",
       "      <td>5</td>\n",
       "      <td>nan</td>\n",
       "    </tr>\n",
       "  </tbody>\n",
       "</table>\n",
       "</div>"
      ],
      "text/plain": [
       "                       City  Population Violent\\ncrime  Murder  \\\n",
       "0             Adams Village    1861.000              0   0.000   \n",
       "1  Addison Town and Village    2577.000              3   0.000   \n",
       "2             Akron Village    2846.000              3   0.000   \n",
       "3                    Albany   97956.000            791   8.000   \n",
       "4            Albion Village    6388.000             23   0.000   \n",
       "\n",
       "   Rape\\n(revised\\ndefinition)1 Rape\\n(legacy\\ndefinition)2  Robbery  \\\n",
       "0                           nan                           0    0.000   \n",
       "1                           nan                           0    0.000   \n",
       "2                           nan                           0    0.000   \n",
       "3                           nan                          30  227.000   \n",
       "4                           nan                           3    4.000   \n",
       "\n",
       "  Aggravated\\nassault  Property\\ncrime Burglary  Larceny-\\ntheft  \\\n",
       "0                   0           12.000        2           10.000   \n",
       "1                   3           24.000        3           20.000   \n",
       "2                   3           16.000        1           15.000   \n",
       "3                 526         4090.000      705         3243.000   \n",
       "4                  16          223.000       53          165.000   \n",
       "\n",
       "  Motor\\nvehicle\\ntheft  Arson3  \n",
       "0                     0   0.000  \n",
       "1                     1   0.000  \n",
       "2                     0   0.000  \n",
       "3                   142     nan  \n",
       "4                     5     nan  "
      ]
     },
     "execution_count": 15,
     "metadata": {},
     "output_type": "execute_result"
    }
   ],
   "source": [
    "df.head()"
   ]
  },
  {
   "cell_type": "code",
   "execution_count": 16,
   "metadata": {},
   "outputs": [
    {
     "data": {
      "image/png": "[encoded data removed]",
      "text/plain": [
       "<matplotlib.figure.Figure at 0x7fdf87eaca20>"
      ]
     },
     "metadata": {},
     "output_type": "display_data"
    },
    {
     "name": "stdout",
     "output_type": "stream",
     "text": [
      "Median  7233.5\n",
      "Std  450037.3675209857\n",
      "Outliers above  907308.2350419714\n"
     ]
    },
    {
     "data": {
      "image/png": "[encoded data removed]",
      "text/plain": [
       "<matplotlib.figure.Figure at 0x7fdf80a47ba8>"
      ]
     },
     "metadata": {},
     "output_type": "display_data"
    },
    {
     "name": "stdout",
     "output_type": "stream",
     "text": [
      "Median  0.0\n",
      "Std  18.303672792887784\n",
      "Outliers above  36.60734558577557\n"
     ]
    },
    {
     "data": {
      "image/png": "[encoded data removed]",
      "text/plain": [
       "<matplotlib.figure.Figure at 0x7fdf808f75c0>"
      ]
     },
     "metadata": {},
     "output_type": "display_data"
    },
    {
     "name": "stdout",
     "output_type": "stream",
     "text": [
      "Median  1.0\n",
      "Std  1031.032873295524\n",
      "Outliers above  2063.065746591048\n"
     ]
    },
    {
     "data": {
      "image/png": "[encoded data removed]",
      "text/plain": [
       "<matplotlib.figure.Figure at 0x7fdf807fa9e8>"
      ]
     },
     "metadata": {},
     "output_type": "display_data"
    },
    {
     "name": "stdout",
     "output_type": "stream",
     "text": [
      "Median  112.5\n",
      "Std  7659.724745633146\n",
      "Outliers above  15431.949491266292\n"
     ]
    }
   ],
   "source": [
    "#Distributions of variables\n",
    "df['Population'].hist(bins=100)\n",
    "plt.title('Population')\n",
    "plt.show()\n",
    "\n",
    "#Median, standard deviation and the limit for outliers\n",
    "median = df.Population.median()\n",
    "std = df.Population.std()\n",
    "pop_out = median + 2* std\n",
    "\n",
    "print('Median ', median)\n",
    "print('Std ', std)\n",
    "print('Outliers above ', pop_out)\n",
    "\n",
    "df['Murder'].hist(bins=20)\n",
    "plt.title('Murders')\n",
    "plt.show()\n",
    "\n",
    "median = df['Murder'].median()\n",
    "std = df['Murder'].std()\n",
    "mur_out = median + 2* std\n",
    "\n",
    "print('Median ', median)\n",
    "print('Std ', std)\n",
    "print('Outliers above ', mur_out)\n",
    "\n",
    "df['Robbery'].hist(bins=20)\n",
    "plt.title('Robberies')\n",
    "plt.show()\n",
    "\n",
    "median = df.Robbery.median()\n",
    "std = df.Robbery.std()\n",
    "rob_out = median + 2* std\n",
    "\n",
    "print('Median ', median)\n",
    "print('Std ', std)\n",
    "print('Outliers above ', rob_out)\n",
    "\n",
    "df['Property\\ncrime'].hist(bins=20)\n",
    "plt.title('Property Crime')\n",
    "plt.show()\n",
    "\n",
    "median = df['Property\\ncrime'].median()\n",
    "std = df['Property\\ncrime'].std()\n",
    "prop_out = median + 2* std\n",
    "\n",
    "print('Median ', median)\n",
    "print('Std ', std)\n",
    "print('Outliers above ', prop_out)"
   ]
  },
  {
   "cell_type": "markdown",
   "metadata": {},
   "source": [
    "##### Some outliers must be removed."
   ]
  },
  {
   "cell_type": "code",
   "execution_count": 17,
   "metadata": {
    "collapsed": true
   },
   "outputs": [],
   "source": [
    "#Turning outliers into None\n",
    "df['Population'] = df.Population.map(lambda x: x if x < pop_out else None)\n",
    "df['Murder'] = df.Murder.map(lambda x: x if x < mur_out else None)\n",
    "df['Robbery'] = df.Robbery.map(lambda x: x if x < rob_out else None)\n",
    "df['Property\\ncrime'] = df['Property\\ncrime'].map(lambda x: x if x < prop_out else None)"
   ]
  },
  {
   "cell_type": "code",
   "execution_count": 18,
   "metadata": {},
   "outputs": [
    {
     "name": "stdout",
     "output_type": "stream",
     "text": [
      "35    258789.000\n",
      "272   210562.000\n",
      "346   199134.000\n",
      "310   143834.000\n",
      "7     118296.000\n",
      "Name: Population, dtype: float64\n",
      "310   21.000\n",
      "140   10.000\n",
      "3      8.000\n",
      "285    8.000\n",
      "321    7.000\n",
      "Name: Murder, dtype: float64\n",
      "35    1322.000\n",
      "272    918.000\n",
      "310    400.000\n",
      "346    390.000\n",
      "206    228.000\n",
      "Name: Robbery, dtype: float64\n",
      "35    12491.000\n",
      "272   10051.000\n",
      "310    6473.000\n",
      "3      4090.000\n",
      "218    2807.000\n",
      "Name: Property\\ncrime, dtype: float64\n"
     ]
    }
   ],
   "source": [
    "#examining highest values in each category.  \n",
    "print(df.Population.dropna().sort_values(ascending=False).head())\n",
    "print(df['Murder'].dropna().sort_values(ascending=False).head())\n",
    "print(df.Robbery.dropna().sort_values(ascending=False).head())\n",
    "print(df['Property\\ncrime'].dropna().sort_values(ascending=False).head())"
   ]
  },
  {
   "cell_type": "code",
   "execution_count": 21,
   "metadata": {},
   "outputs": [
    {
     "data": {
      "image/png": "[encoded data removed]",
      "text/plain": [
       "<matplotlib.figure.Figure at 0x7fdf803dc5c0>"
      ]
     },
     "metadata": {},
     "output_type": "display_data"
    }
   ],
   "source": [
    "#re-plotting post-outlier-removal\n",
    "plt.figure(figsize=(10,10))\n",
    "plt.subplot(221)\n",
    "df['Population'].hist(bins=100)\n",
    "plt.title('Population')\n",
    "\n",
    "plt.subplot(222)\n",
    "df['Murder'].hist(bins=50)\n",
    "plt.title('Murders')\n",
    "\n",
    "plt.subplot(223)\n",
    "df['Robbery'].hist(bins=50)\n",
    "plt.title('Robberies')\n",
    "\n",
    "plt.subplot(224)\n",
    "df['Property\\ncrime'].hist(bins=50)\n",
    "plt.title('Property Crime')\n",
    "\n",
    "plt.show()"
   ]
  },
  {
   "cell_type": "code",
   "execution_count": 22,
   "metadata": {},
   "outputs": [
    {
     "data": {
      "image/png": "[encoded data removed]",
      "text/plain": [
       "<matplotlib.figure.Figure at 0x7fdf8056e940>"
      ]
     },
     "metadata": {},
     "output_type": "display_data"
    }
   ],
   "source": [
    "#creating population squared feature\n",
    "df['PopSq'] = df['Population']**2\n",
    "df['PopSq'].hist()\n",
    "plt.title('Population Squared in NYC')\n",
    "plt.show()"
   ]
  },
  {
   "cell_type": "code",
   "execution_count": 23,
   "metadata": {
    "collapsed": true
   },
   "outputs": [],
   "source": [
    "#Defining categorical converting function\n",
    "\n",
    "def convert_category(number):\n",
    "    value = convert_number(number)\n",
    "    \n",
    "    if value>0:\n",
    "        return 1\n",
    "    else:\n",
    "        return 0"
   ]
  },
  {
   "cell_type": "code",
   "execution_count": 24,
   "metadata": {},
   "outputs": [
    {
     "data": {
      "text/html": [
       "<div>\n",
       "<style>\n",
       "    .dataframe thead tr:only-child th {\n",
       "        text-align: right;\n",
       "    }\n",
       "\n",
       "    .dataframe thead th {\n",
       "        text-align: left;\n",
       "    }\n",
       "\n",
       "    .dataframe tbody tr th {\n",
       "        vertical-align: top;\n",
       "    }\n",
       "</style>\n",
       "<table border=\"1\" class=\"dataframe\">\n",
       "  <thead>\n",
       "    <tr style=\"text-align: right;\">\n",
       "      <th></th>\n",
       "      <th>City</th>\n",
       "      <th>Population</th>\n",
       "      <th>Violent\n",
       "crime</th>\n",
       "      <th>Murder</th>\n",
       "      <th>Rape\n",
       "(revised\n",
       "definition)1</th>\n",
       "      <th>Rape\n",
       "(legacy\n",
       "definition)2</th>\n",
       "      <th>Robbery</th>\n",
       "      <th>Aggravated\n",
       "assault</th>\n",
       "      <th>Property\n",
       "crime</th>\n",
       "      <th>Burglary</th>\n",
       "      <th>Larceny-\n",
       "theft</th>\n",
       "      <th>Motor\n",
       "vehicle\n",
       "theft</th>\n",
       "      <th>Arson3</th>\n",
       "      <th>PopSq</th>\n",
       "      <th>Murder_categorical</th>\n",
       "      <th>Robbery_categorical</th>\n",
       "    </tr>\n",
       "  </thead>\n",
       "  <tbody>\n",
       "    <tr>\n",
       "      <th>0</th>\n",
       "      <td>Adams Village</td>\n",
       "      <td>1861.000</td>\n",
       "      <td>0</td>\n",
       "      <td>0.000</td>\n",
       "      <td>nan</td>\n",
       "      <td>0</td>\n",
       "      <td>0.000</td>\n",
       "      <td>0</td>\n",
       "      <td>12.000</td>\n",
       "      <td>2</td>\n",
       "      <td>10.000</td>\n",
       "      <td>0</td>\n",
       "      <td>0.000</td>\n",
       "      <td>3463321.000</td>\n",
       "      <td>0</td>\n",
       "      <td>0</td>\n",
       "    </tr>\n",
       "    <tr>\n",
       "      <th>1</th>\n",
       "      <td>Addison Town and Village</td>\n",
       "      <td>2577.000</td>\n",
       "      <td>3</td>\n",
       "      <td>0.000</td>\n",
       "      <td>nan</td>\n",
       "      <td>0</td>\n",
       "      <td>0.000</td>\n",
       "      <td>3</td>\n",
       "      <td>24.000</td>\n",
       "      <td>3</td>\n",
       "      <td>20.000</td>\n",
       "      <td>1</td>\n",
       "      <td>0.000</td>\n",
       "      <td>6640929.000</td>\n",
       "      <td>0</td>\n",
       "      <td>0</td>\n",
       "    </tr>\n",
       "    <tr>\n",
       "      <th>2</th>\n",
       "      <td>Akron Village</td>\n",
       "      <td>2846.000</td>\n",
       "      <td>3</td>\n",
       "      <td>0.000</td>\n",
       "      <td>nan</td>\n",
       "      <td>0</td>\n",
       "      <td>0.000</td>\n",
       "      <td>3</td>\n",
       "      <td>16.000</td>\n",
       "      <td>1</td>\n",
       "      <td>15.000</td>\n",
       "      <td>0</td>\n",
       "      <td>0.000</td>\n",
       "      <td>8099716.000</td>\n",
       "      <td>0</td>\n",
       "      <td>0</td>\n",
       "    </tr>\n",
       "    <tr>\n",
       "      <th>3</th>\n",
       "      <td>Albany</td>\n",
       "      <td>97956.000</td>\n",
       "      <td>791</td>\n",
       "      <td>8.000</td>\n",
       "      <td>nan</td>\n",
       "      <td>30</td>\n",
       "      <td>227.000</td>\n",
       "      <td>526</td>\n",
       "      <td>4090.000</td>\n",
       "      <td>705</td>\n",
       "      <td>3243.000</td>\n",
       "      <td>142</td>\n",
       "      <td>nan</td>\n",
       "      <td>9595377936.000</td>\n",
       "      <td>1</td>\n",
       "      <td>1</td>\n",
       "    </tr>\n",
       "    <tr>\n",
       "      <th>4</th>\n",
       "      <td>Albion Village</td>\n",
       "      <td>6388.000</td>\n",
       "      <td>23</td>\n",
       "      <td>0.000</td>\n",
       "      <td>nan</td>\n",
       "      <td>3</td>\n",
       "      <td>4.000</td>\n",
       "      <td>16</td>\n",
       "      <td>223.000</td>\n",
       "      <td>53</td>\n",
       "      <td>165.000</td>\n",
       "      <td>5</td>\n",
       "      <td>nan</td>\n",
       "      <td>40806544.000</td>\n",
       "      <td>0</td>\n",
       "      <td>1</td>\n",
       "    </tr>\n",
       "  </tbody>\n",
       "</table>\n",
       "</div>"
      ],
      "text/plain": [
       "                       City  Population Violent\\ncrime  Murder  \\\n",
       "0             Adams Village    1861.000              0   0.000   \n",
       "1  Addison Town and Village    2577.000              3   0.000   \n",
       "2             Akron Village    2846.000              3   0.000   \n",
       "3                    Albany   97956.000            791   8.000   \n",
       "4            Albion Village    6388.000             23   0.000   \n",
       "\n",
       "   Rape\\n(revised\\ndefinition)1 Rape\\n(legacy\\ndefinition)2  Robbery  \\\n",
       "0                           nan                           0    0.000   \n",
       "1                           nan                           0    0.000   \n",
       "2                           nan                           0    0.000   \n",
       "3                           nan                          30  227.000   \n",
       "4                           nan                           3    4.000   \n",
       "\n",
       "  Aggravated\\nassault  Property\\ncrime Burglary  Larceny-\\ntheft  \\\n",
       "0                   0           12.000        2           10.000   \n",
       "1                   3           24.000        3           20.000   \n",
       "2                   3           16.000        1           15.000   \n",
       "3                 526         4090.000      705         3243.000   \n",
       "4                  16          223.000       53          165.000   \n",
       "\n",
       "  Motor\\nvehicle\\ntheft  Arson3          PopSq  Murder_categorical  \\\n",
       "0                     0   0.000    3463321.000                   0   \n",
       "1                     1   0.000    6640929.000                   0   \n",
       "2                     0   0.000    8099716.000                   0   \n",
       "3                   142     nan 9595377936.000                   1   \n",
       "4                     5     nan   40806544.000                   0   \n",
       "\n",
       "   Robbery_categorical  \n",
       "0                    0  \n",
       "1                    0  \n",
       "2                    0  \n",
       "3                    1  \n",
       "4                    1  "
      ]
     },
     "execution_count": 24,
     "metadata": {},
     "output_type": "execute_result"
    }
   ],
   "source": [
    "#Converting \"Murder\" and \"Robbery\" into categorical\n",
    "\n",
    "df['Murder_categorical'] = df['Murder'].apply(lambda x: convert_category(x))\n",
    "df['Robbery_categorical'] = df['Robbery'].apply(lambda x: convert_category(x))\n",
    "df.head()"
   ]
  },
  {
   "cell_type": "code",
   "execution_count": 26,
   "metadata": {},
   "outputs": [
    {
     "data": {
      "text/html": [
       "<div>\n",
       "<style>\n",
       "    .dataframe thead tr:only-child th {\n",
       "        text-align: right;\n",
       "    }\n",
       "\n",
       "    .dataframe thead th {\n",
       "        text-align: left;\n",
       "    }\n",
       "\n",
       "    .dataframe tbody tr th {\n",
       "        vertical-align: top;\n",
       "    }\n",
       "</style>\n",
       "<table border=\"1\" class=\"dataframe\">\n",
       "  <thead>\n",
       "    <tr style=\"text-align: right;\">\n",
       "      <th></th>\n",
       "      <th>Population</th>\n",
       "      <th>PopSq</th>\n",
       "      <th>Murder_categorical</th>\n",
       "      <th>Robbery_categorical</th>\n",
       "      <th>Property\n",
       "crime</th>\n",
       "    </tr>\n",
       "  </thead>\n",
       "  <tbody>\n",
       "    <tr>\n",
       "      <th>0</th>\n",
       "      <td>1861.000</td>\n",
       "      <td>3463321.000</td>\n",
       "      <td>0</td>\n",
       "      <td>0</td>\n",
       "      <td>12.000</td>\n",
       "    </tr>\n",
       "    <tr>\n",
       "      <th>1</th>\n",
       "      <td>2577.000</td>\n",
       "      <td>6640929.000</td>\n",
       "      <td>0</td>\n",
       "      <td>0</td>\n",
       "      <td>24.000</td>\n",
       "    </tr>\n",
       "    <tr>\n",
       "      <th>2</th>\n",
       "      <td>2846.000</td>\n",
       "      <td>8099716.000</td>\n",
       "      <td>0</td>\n",
       "      <td>0</td>\n",
       "      <td>16.000</td>\n",
       "    </tr>\n",
       "    <tr>\n",
       "      <th>3</th>\n",
       "      <td>97956.000</td>\n",
       "      <td>9595377936.000</td>\n",
       "      <td>1</td>\n",
       "      <td>1</td>\n",
       "      <td>4090.000</td>\n",
       "    </tr>\n",
       "    <tr>\n",
       "      <th>4</th>\n",
       "      <td>6388.000</td>\n",
       "      <td>40806544.000</td>\n",
       "      <td>0</td>\n",
       "      <td>1</td>\n",
       "      <td>223.000</td>\n",
       "    </tr>\n",
       "  </tbody>\n",
       "</table>\n",
       "</div>"
      ],
      "text/plain": [
       "   Population          PopSq  Murder_categorical  Robbery_categorical  \\\n",
       "0    1861.000    3463321.000                   0                    0   \n",
       "1    2577.000    6640929.000                   0                    0   \n",
       "2    2846.000    8099716.000                   0                    0   \n",
       "3   97956.000 9595377936.000                   1                    1   \n",
       "4    6388.000   40806544.000                   0                    1   \n",
       "\n",
       "   Property\\ncrime  \n",
       "0           12.000  \n",
       "1           24.000  \n",
       "2           16.000  \n",
       "3         4090.000  \n",
       "4          223.000  "
      ]
     },
     "execution_count": 26,
     "metadata": {},
     "output_type": "execute_result"
    }
   ],
   "source": [
    "#Isolating features\n",
    "features = df[['Population', 'PopSq', 'Murder_categorical', 'Robbery_categorical', 'Property\\ncrime']].dropna()\n",
    "features.head()"
   ]
  },
  {
   "cell_type": "code",
   "execution_count": 28,
   "metadata": {},
   "outputs": [
    {
     "name": "stdout",
     "output_type": "stream",
     "text": [
      "<class 'pandas.core.frame.DataFrame'>\n",
      "Int64Index: 347 entries, 0 to 347\n",
      "Data columns (total 5 columns):\n",
      "Population             347 non-null float64\n",
      "PopSq                  347 non-null float64\n",
      "Murder_categorical     347 non-null int64\n",
      "Robbery_categorical    347 non-null int64\n",
      "Property\n",
      "crime         347 non-null float64\n",
      "dtypes: float64(3), int64(2)\n",
      "memory usage: 16.3 KB\n"
     ]
    }
   ],
   "source": [
    "features.info()"
   ]
  },
  {
   "cell_type": "code",
   "execution_count": null,
   "metadata": {
    "collapsed": true
   },
   "outputs": [],
   "source": []
  }
 ],
 "metadata": {
  "kernelspec": {
   "display_name": "Python 3",
   "language": "python",
   "name": "python3"
  },
  "language_info": {
   "codemirror_mode": {
    "name": "ipython",
    "version": 3
   },
   "file_extension": ".py",
   "mimetype": "text/x-python",
   "name": "python",
   "nbconvert_exporter": "python",
   "pygments_lexer": "ipython3",
   "version": "3.6.3"
  }
 },
 "nbformat": 4,
 "nbformat_minor": 2
}
