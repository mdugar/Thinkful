{
 "cells": [
  {
   "cell_type": "markdown",
   "metadata": {},
   "source": [
    "## 2.1.3 Drill: Formulating good research questions"
   ]
  },
  {
   "cell_type": "markdown",
   "metadata": {},
   "source": [
    "#### What is the 1994 rate of juvenile delinquency in the U.S.?\n",
    "\n",
    "How does the 1994 rate of juvenile delinquency in the U.S. compare between socio economic, age and geographical groups?"
   ]
  },
  {
   "cell_type": "markdown",
   "metadata": {},
   "source": [
    "#### What can we do to reduce juvenile delinquency in the U.S.?\n",
    "\n",
    "What attributes lowered the rate in the different groups?"
   ]
  },
  {
   "cell_type": "markdown",
   "metadata": {},
   "source": [
    "#### Does education play a role in reducing juvenile delinquents' return to crime?\n",
    "\n",
    "Good."
   ]
  },
  {
   "cell_type": "markdown",
   "metadata": {},
   "source": [
    "#### How many customers does AT&T currently serve in Washington, DC?\n",
    "\n",
    "Good."
   ]
  },
  {
   "cell_type": "markdown",
   "metadata": {},
   "source": [
    "#### What factors lead consumers to choose AT&T over other service providers?\n",
    "\n",
    "What factors lead consumers to leave their mobile service providers?"
   ]
  },
  {
   "cell_type": "markdown",
   "metadata": {},
   "source": [
    "#### How can AT&T attract more customers?\n",
    "\n",
    "What factors attract new users to AT&T?"
   ]
  },
  {
   "cell_type": "markdown",
   "metadata": {},
   "source": [
    "#### Why did the Challenger Shuttle explode?\n",
    "\n",
    "What variables differ from the Challenger Shuttle and the Columbia Shuttle launched two weeks before?"
   ]
  },
  {
   "cell_type": "markdown",
   "metadata": {},
   "source": [
    "#### Which genes are associated with increased risk of breast cancer?\n",
    "\n",
    "Good."
   ]
  },
  {
   "cell_type": "markdown",
   "metadata": {},
   "source": [
    "#### Is it better to read to children at night or in the morning?\n",
    "\n",
    "At what times are children more receptive?"
   ]
  },
  {
   "cell_type": "markdown",
   "metadata": {},
   "source": [
    "#### How does Google’s search algorithm work?\n",
    "\n",
    "What factors affects how Google ranks their search results?"
   ]
  }
 ],
 "metadata": {
  "kernelspec": {
   "display_name": "Python 3",
   "language": "python",
   "name": "python3"
  },
  "language_info": {
   "codemirror_mode": {
    "name": "ipython",
    "version": 3
   },
   "file_extension": ".py",
   "mimetype": "text/x-python",
   "name": "python",
   "nbconvert_exporter": "python",
   "pygments_lexer": "ipython3",
   "version": "3.6.3"
  }
 },
 "nbformat": 4,
 "nbformat_minor": 2
}
